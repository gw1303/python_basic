{
 "cells": [
  {
   "cell_type": "markdown",
   "metadata": {},
   "source": [
    "# 스크리핑"
   ]
  },
  {
   "cell_type": "code",
   "execution_count": null,
   "metadata": {},
   "outputs": [],
   "source": [
    "'''\n",
    "데이터 수집\n",
    "- DB(정형, formal data)에서 데이터 가져오기\n",
    "- 텍스트 비정형 데이터\n",
    "- \n",
    "\n",
    "파이썬 웹 데이터 추출\n",
    "- urllib 라이브러리 (모듈 집합)\n",
    "- request 모듈 (urllib.request)로 웹에 있는 데이터에 접근할 수 있음\n",
    "  urlretrieve함수를 이요하여 웹 파일을 다운로드 수행\n",
    "\n",
    "\n",
    "'''"
   ]
  },
  {
   "cell_type": "code",
   "execution_count": 2,
   "metadata": {},
   "outputs": [
    {
     "name": "stdout",
     "output_type": "stream",
     "text": [
      "저장되었습니다\n"
     ]
    }
   ],
   "source": [
    "# url과 저장경로 지정\n",
    "\n",
    "url = 'https://www.multicampus.com/img/saas/main/logo/CUS0001/pc_main.png'  # 다운받을 이미지 url\n",
    "savename = 'test.png'  # 다운받은 이미지의 이름 지정\n",
    "\n",
    "# 다운로드 (urlretrieve)\n",
    "import urllib.request\n",
    "\n",
    "urllib.request.urlretrieve(url, savename)\n",
    "print('저장되었습니다')\n",
    "# 다운로드 -> '파일'로 저장"
   ]
  },
  {
   "cell_type": "code",
   "execution_count": 6,
   "metadata": {},
   "outputs": [
    {
     "name": "stdout",
     "output_type": "stream",
     "text": [
      "저장되었습니다.\n"
     ]
    }
   ],
   "source": [
    "# 다운로드 (urlopen)\n",
    "# 다운로드시, 바로 파일로 저장되는 것이 아니라 데이터가 메모리에 적재\n",
    "savename = 'test2.png'\n",
    "mem = urllib.request.urlopen(url).read()\n",
    "# print(mem)\n",
    "\n",
    "with open(savename, 'wb') as f:\n",
    "    f.write(mem)\n",
    "    print('저장되었습니다.')"
   ]
  },
  {
   "cell_type": "code",
   "execution_count": null,
   "metadata": {},
   "outputs": [],
   "source": [
    "# https://www.weather.go.kr/weather/forecast/mid-term-rss3.jsp"
   ]
  },
  {
   "cell_type": "code",
   "execution_count": 17,
   "metadata": {},
   "outputs": [],
   "source": [
    "import urllib.parse\n",
    "\n",
    "addr = 'https://www.weather.go.kr/weather/forecast/mid-term-rss3.jsp'\n",
    "values = {'stnID':'156'}\n",
    "param = urllib.parse.urlencode(values)  # 딕셔너리 값을 던져주면 변경\n",
    "\n",
    "url = addr +'?'+ param"
   ]
  },
  {
   "cell_type": "code",
   "execution_count": 26,
   "metadata": {},
   "outputs": [
    {
     "data": {
      "text/plain": [
       "'<?xml version=\"1.0\" encoding=\"utf-8\" ?>\\r\\n<rss version=\"2.0\">\\r\\n<channel>\\r\\n<title>기상청 육상 중기예보</title>\\r\\n<link>http://www.kma.go.kr/weather/forecast/mid-term_01.jsp</link>\\r\\n<description>기상청 날씨 웹서비스</description>\\r\\n<language>ko</language>\\r\\n<generator>기상청</generator>\\r\\n<pubDate>2019년 12월 31일 (화)요일 06:00</pubDate>\\r\\n <item>\\r\\n<author>기상청</author>\\r\\n<category>육상중기예보</category>\\r\\n<title>전국 육상 중기예보 - 2019년 12월 31일 (화)요일 06:00 발표</title>\\r\\n<link>http://www.kma.go.kr/weather/forecast/mid-term_01.jsp</link>\\r\\n<guid>http://www.kma.go.kr/weather/forecast/mid-term_01.jsp</guid>\\r\\n<description>\\r\\n\\t<header>\\r\\n\\t\\t<title>전국 육상중기예보</title>\\r\\n\\t\\t<tm>201912310600</tm>\\r\\n\\t\\t<wf><![CDATA[기압골의 영향으로 1월 6일 충청도와 남부지방에서 비가 시작되어 7~8일은 전국에 비 또는 눈이 오겠습니다.<br />그 밖의 날은 고기압의 영향으로 맑은 날이 많겠습니다. 한편, 동풍의 영향으로 1월 9일 강원영동에 비 또는 눈이 오겠습니다.  <br />기온은 평년(최저기온: -12~0℃, 최고기온: 1~9℃)보다 높겠습니다.<br />강수량은 평년(0~3mm)보다 많겠습니다.]]></wf>\\r\\n\\t</header>\\r\\n\\t<body>\\r\\n\\t\\t\\t\\t\\r\\n\\r\\n\\t\\t<location wl_ver=\"3\">\\r\\n\\t\\t\\t\\t<province>서울ㆍ인천ㆍ경기도</province>\\r\\n\\t\\t\\t\\t<city>서울</city>\\r\\n\\t\\t\\t\\t\\r\\n\\t\\t\\t\\t<data>\\r\\n\\t\\t\\t\\t\\t<mode>A02</mode>\\r\\n\\t\\t\\t\\t\\t<tmEf>2020-01-03 00:00</tmEf>\\r\\n\\t\\t\\t\\t\\t<wf>구름많음</wf>\\r\\n\\t\\t\\t\\t\\t<tmn>-2</tmn>\\r\\n\\t\\t\\t\\t\\t<tmx>5</tmx>\\r\\n\\t\\t\\t\\t\\t<reliability></reliability>\\r\\n\\t\\t\\t\\t\\t<rnSt>30</rnSt>\\r\\n\\t\\t\\t\\t</data>\\r\\n\\r\\n\\t\\t\\t\\t\\r\\n\\t\\t\\t\\t<data>\\r\\n\\t\\t\\t\\t\\t<mode>A02</mode>\\r\\n\\t\\t\\t\\t\\t<tmEf>2020-01-03 12:00</tmEf>\\r\\n\\t\\t\\t\\t\\t<wf>맑음</wf>\\r\\n\\t\\t\\t\\t\\t<tmn>-2</tmn>\\r\\n\\t\\t\\t\\t\\t<tmx>5</tmx>\\r\\n\\t\\t\\t\\t\\t<reliability></reliability>\\r\\n\\t\\t\\t\\t\\t<rnSt>10</rnSt>\\r\\n\\t\\t\\t\\t</data>\\r\\n\\r\\n\\t\\t\\t\\t\\r\\n\\t\\t\\t\\t<data>\\r\\n\\t\\t\\t\\t\\t<mode>A02</mode>\\r\\n\\t\\t\\t\\t\\t<tmEf>2020-01-04 00:00</tmEf>\\r\\n\\t\\t\\t\\t\\t<wf>맑음</wf>\\r\\n\\t\\t\\t\\t\\t<tmn>-1</tmn>\\r\\n\\t\\t\\t\\t\\t<tmx>5</tmx>\\r\\n\\t\\t\\t\\t\\t<reliability></reliability>\\r\\n\\t\\t\\t\\t\\t<rnSt>10</rnSt>\\r\\n\\t\\t\\t\\t</data>\\r\\n\\r\\n\\t\\t\\t\\t\\r\\n\\t\\t\\t\\t<data>\\r\\n\\t\\t\\t\\t\\t<mode>A02</mode>\\r\\n\\t\\t\\t\\t\\t<tmEf>2020-01-04 12:00</tmEf>\\r\\n\\t\\t\\t\\t\\t<wf>맑음</wf>\\r\\n\\t\\t\\t\\t\\t<tmn>-1</tmn>\\r\\n\\t\\t\\t\\t\\t<tmx>5</tmx>\\r\\n\\t\\t\\t\\t\\t<reliability></reliability>\\r\\n\\t\\t\\t\\t\\t<rnSt>0</rnSt>\\r\\n\\t\\t\\t\\t</data>\\r\\n\\r\\n\\t\\t\\t\\t\\r\\n\\t\\t\\t\\t<data>\\r\\n\\t\\t\\t\\t\\t<mode>A02</mode>\\r\\n\\t\\t\\t\\t\\t<tmEf>2020-01-05 00:00</tmEf>\\r\\n\\t\\t\\t\\t\\t<wf>맑음</wf>\\r\\n\\t\\t\\t\\t\\t<tmn>-4</tmn>\\r\\n\\t\\t\\t\\t\\t<tmx>5</tmx>\\r\\n\\t\\t\\t\\t\\t<reliability></reliability>\\r\\n\\t\\t\\t\\t\\t<rnSt>0</rnSt>\\r\\n\\t\\t\\t\\t</data>\\r\\n\\r\\n\\t\\t\\t\\t\\r\\n\\t\\t\\t\\t<data>\\r\\n\\t\\t\\t\\t\\t<mode>A02</mode>\\r\\n\\t\\t\\t\\t\\t<tmEf>2020-01-05 12:00</tmEf>\\r\\n\\t\\t\\t\\t\\t<wf>구름많음</wf>\\r\\n\\t\\t\\t\\t\\t<tmn>-4</tmn>\\r\\n\\t\\t\\t\\t\\t<tmx>5</tmx>\\r\\n\\t\\t\\t\\t\\t<reliability></reliability>\\r\\n\\t\\t\\t\\t\\t<rnSt>30</rnSt>\\r\\n\\t\\t\\t\\t</data>\\r\\n\\r\\n\\t\\t\\t\\t\\r\\n\\t\\t\\t\\t<data>\\r\\n\\t\\t\\t\\t\\t<mode>A02</mode>\\r\\n\\t\\t\\t\\t\\t<tmEf>2020-01-06 00:00</tmEf>\\r\\n\\t\\t\\t\\t\\t<wf>구름많음</wf>\\r\\n\\t\\t\\t\\t\\t<tmn>-2</tmn>\\r\\n\\t\\t\\t\\t\\t<tmx>4</tmx>\\r\\n\\t\\t\\t\\t\\t<reliability></reliability>\\r\\n\\t\\t\\t\\t\\t<rnSt>30</rnSt>\\r\\n\\t\\t\\t\\t</data>\\r\\n\\r\\n\\t\\t\\t\\t\\r\\n\\t\\t\\t\\t<data>\\r\\n\\t\\t\\t\\t\\t<mode>A02</mode>\\r\\n\\t\\t\\t\\t\\t<tmEf>2020-01-06 12:00</tmEf>\\r\\n\\t\\t\\t\\t\\t<wf>흐림</wf>\\r\\n\\t\\t\\t\\t\\t<tmn>-2</tmn>\\r\\n\\t\\t\\t\\t\\t<tmx>4</tmx>\\r\\n\\t\\t\\t\\t\\t<reliability></reliability>\\r\\n\\t\\t\\t\\t\\t<rnSt>40</rnSt>\\r\\n\\t\\t\\t\\t</data>\\r\\n\\r\\n\\t\\t\\t\\t\\r\\n\\t\\t\\t\\t<data>\\r\\n\\t\\t\\t\\t\\t<mode>A02</mode>\\r\\n\\t\\t\\t\\t\\t<tmEf>2020-01-07 00:00</tmEf>\\r\\n\\t\\t\\t\\t\\t<wf>흐리고 비/눈</wf>\\r\\n\\t\\t\\t\\t\\t<tmn>0</tmn>\\r\\n\\t\\t\\t\\t\\t<tmx>5</tmx>\\r\\n\\t\\t\\t\\t\\t<reliability></reliability>\\r\\n\\t\\t\\t\\t\\t<rnSt>70</rnSt>\\r\\n\\t\\t\\t\\t</data>\\r\\n\\r\\n\\t\\t\\t\\t\\r\\n\\t\\t\\t\\t<data>\\r\\n\\t\\t\\t\\t\\t<mode>A02</mode>\\r\\n\\t\\t\\t\\t\\t<tmEf>2020-01-07 12:00</tmEf>\\r\\n\\t\\t\\t\\t\\t<wf>흐리고 비/눈</wf>\\r\\n\\t\\t\\t\\t\\t<tmn>0</tmn>\\r\\n\\t\\t\\t\\t\\t<tmx>5</tmx>\\r\\n\\t\\t\\t\\t\\t<reliability></reliability>\\r\\n\\t\\t\\t\\t\\t<rnSt>70</rnSt>\\r\\n\\t\\t\\t\\t</data>\\r\\n\\r\\n\\t\\t\\t\\t\\r\\n\\t\\t\\t\\t<data>\\r\\n\\t\\t\\t\\t\\t<mode>A01</mode>\\r\\n\\t\\t\\t\\t\\t<tmEf>2020-01-08 00:00</tmEf>\\r\\n\\t\\t\\t\\t\\t<wf>흐리고 비/눈</wf>\\r\\n\\t\\t\\t\\t\\t<tmn>0</tmn>\\r\\n\\t\\t\\t\\t\\t<tmx>4</tmx>\\r\\n\\t\\t\\t\\t\\t<reliability></reliability>\\r\\n\\t\\t\\t\\t\\t<rnSt>60</rnSt>\\r\\n\\t\\t\\t\\t</data>\\r\\n\\r\\n\\t\\t\\t\\t\\r\\n\\t\\t\\t\\t<data>\\r\\n\\t\\t\\t\\t\\t<mode>A01</mode>\\r\\n\\t\\t\\t\\t\\t<tmEf>2020-01-09 00:00</tmEf>\\r\\n\\t\\t\\t\\t\\t<wf>구름많음</wf>\\r\\n\\t\\t\\t\\t\\t<tmn>-1</tmn>\\r\\n\\t\\t\\t\\t\\t<tmx>4</tmx>\\r\\n\\t\\t\\t\\t\\t<reliability></reliability>\\r\\n\\t\\t\\t\\t\\t<rnSt>40</rnSt>\\r\\n\\t\\t\\t\\t</data>\\r\\n\\r\\n\\t\\t\\t\\t\\r\\n\\t\\t\\t\\t<data>\\r\\n\\t\\t\\t\\t\\t<mode>A01</mode>\\r\\n\\t\\t\\t\\t\\t<tmEf>2020-01-10 00:00</tmEf>\\r\\n\\t\\t\\t\\t\\t<wf>구름많음</wf>\\r\\n\\t\\t\\t\\t\\t<tmn>-2</tmn>\\r\\n\\t\\t\\t\\t\\t<tmx>4</tmx>\\r\\n\\t\\t\\t\\t\\t<reliability></reliability>\\r\\n\\t\\t\\t\\t\\t<rnSt>30</rnSt>\\r\\n\\t\\t\\t\\t</data>\\r\\n\\r\\n\\r\\n\\t\\t</location>\\r\\n\\r\\n\\t\\t<location wl_ver=\"3\">\\r\\n\\t\\t\\t\\t<province>서울ㆍ인천ㆍ경기도</province>\\r\\n\\t\\t\\t\\t<city>인천</city>\\r\\n\\t\\t\\t\\t\\r\\n\\t\\t\\t\\t<data>\\r\\n\\t\\t\\t\\t\\t<mode>A02</mode>\\r\\n\\t\\t\\t\\t\\t<tmEf>2020-01-03 00:00</tmEf>\\r\\n\\t\\t\\t\\t\\t<wf>구름많음</wf>\\r\\n\\t\\t\\t\\t\\t<tmn>-1</tmn>\\r\\n\\t\\t\\t\\t\\t<tmx>4</tmx>\\r\\n\\t\\t\\t\\t\\t<reliability></reliability>\\r\\n\\t\\t\\t\\t\\t<rnSt>30</rnSt>\\r\\n\\t\\t\\t\\t</data>\\r\\n\\r\\n\\t\\t\\t\\t\\r\\n\\t\\t\\t\\t<data>\\r\\n\\t\\t\\t\\t\\t<mode>A02</mode>\\r\\n\\t\\t\\t\\t\\t<tmEf>2020-01-03 12:00</tmEf>\\r\\n\\t\\t\\t\\t\\t<wf>맑음</wf>\\r\\n\\t\\t\\t\\t\\t<tmn>-1</tmn>\\r\\n\\t\\t\\t\\t\\t<tmx>4</tmx>\\r\\n\\t\\t\\t\\t\\t<reliability></reliability>\\r\\n\\t\\t\\t\\t\\t<rnSt>10</rnSt>\\r\\n\\t\\t\\t\\t</data>\\r\\n\\r\\n\\t\\t\\t\\t\\r\\n\\t\\t\\t\\t<data>\\r\\n\\t\\t\\t\\t\\t<mode>A02</mode>\\r\\n\\t\\t\\t\\t\\t<tmEf>2020-01-04 00:00</tmEf>\\r\\n\\t\\t\\t\\t\\t<wf>맑음</wf>\\r\\n\\t\\t\\t\\t\\t<tmn>0</tmn>\\r\\n\\t\\t\\t\\t\\t<tmx>5</tmx>\\r\\n\\t\\t\\t\\t\\t<reliability></reliability>\\r\\n\\t\\t\\t\\t\\t<rnSt>10</rnSt>\\r\\n\\t\\t\\t\\t</data>\\r\\n\\r\\n\\t\\t\\t\\t\\r\\n\\t\\t\\t\\t<data>\\r\\n\\t\\t\\t\\t\\t<mode>A02</mode>\\r\\n\\t\\t\\t\\t\\t<tmEf>2020-01-04 12:00</tmEf>\\r\\n\\t\\t\\t\\t\\t<wf>맑음</wf>\\r\\n\\t\\t\\t\\t\\t<tmn>0</tmn>\\r\\n\\t\\t\\t\\t\\t<tmx>5</tmx>\\r\\n\\t\\t\\t\\t\\t<reliability></reliability>\\r\\n\\t\\t\\t\\t\\t<rnSt>0</rnSt>\\r\\n\\t\\t\\t\\t</data>\\r\\n\\r\\n\\t\\t\\t\\t\\r\\n\\t\\t\\t\\t<data>\\r\\n\\t\\t\\t\\t\\t<mode>A02</mode>\\r\\n\\t\\t\\t\\t\\t<tmEf>2020-01-05 00:00</tmEf>\\r\\n\\t\\t\\t\\t\\t<wf>맑음</wf>\\r\\n\\t\\t\\t\\t\\t<tmn>-3</tmn>\\r\\n\\t\\t\\t\\t\\t<tmx>4</tmx>\\r\\n\\t\\t\\t\\t\\t<reliability></reliability>\\r\\n\\t\\t\\t\\t\\t<rnSt>0</rnSt>\\r\\n\\t\\t\\t\\t</data>\\r\\n\\r\\n\\t\\t\\t\\t\\r\\n\\t\\t\\t\\t<data>\\r\\n\\t\\t\\t\\t\\t<mode>A02</mode>\\r\\n\\t\\t\\t\\t\\t<tmEf>2020-01-05 12:00</tmEf>\\r\\n\\t\\t\\t\\t\\t<wf>구름많음</wf>\\r\\n\\t\\t\\t\\t\\t<tmn>-3</tmn>\\r\\n\\t\\t\\t\\t\\t<tmx>4</tmx>\\r\\n\\t\\t\\t\\t\\t<reliability></reliability>\\r\\n\\t\\t\\t\\t\\t<rnSt>30</rnSt>\\r\\n\\t\\t\\t\\t</data>\\r\\n\\r\\n\\t\\t\\t\\t\\r\\n\\t\\t\\t\\t<data>\\r\\n\\t\\t\\t\\t\\t<mode>A02</mode>\\r\\n\\t\\t\\t\\t\\t<tmEf>2020-01-06 00:00</tmEf>\\r\\n\\t\\t\\t\\t\\t<wf>구름많음</wf>\\r\\n\\t\\t\\t\\t\\t<tmn>-1</tmn>\\r\\n\\t\\t\\t\\t\\t<tmx>4</tmx>\\r\\n\\t\\t\\t\\t\\t<reliability></reliability>\\r\\n\\t\\t\\t\\t\\t<rnSt>30</rnSt>\\r\\n\\t\\t\\t\\t</data>\\r\\n\\r\\n\\t\\t\\t\\t\\r\\n\\t\\t\\t\\t<data>\\r\\n\\t\\t\\t\\t\\t<mode>A02</mode>\\r\\n\\t\\t\\t\\t\\t<tmEf>2020-01-06 12:00</tmEf>\\r\\n\\t\\t\\t\\t\\t<wf>흐림</wf>\\r\\n\\t\\t\\t\\t\\t<tmn>-1</tmn>\\r\\n\\t\\t\\t\\t\\t<tmx>4</tmx>\\r\\n\\t\\t\\t\\t\\t<reliability></reliability>\\r\\n\\t\\t\\t\\t\\t<rnSt>40</rnSt>\\r\\n\\t\\t\\t\\t</data>\\r\\n\\r\\n\\t\\t\\t\\t\\r\\n\\t\\t\\t\\t<data>\\r\\n\\t\\t\\t\\t\\t<mode>A02</mode>\\r\\n\\t\\t\\t\\t\\t<tmEf>2020-01-07 00:00</tmEf>\\r\\n\\t\\t\\t\\t\\t<wf>흐리고 비/눈</wf>\\r\\n\\t\\t\\t\\t\\t<tmn>0</tmn>\\r\\n\\t\\t\\t\\t\\t<tmx>4</tmx>\\r\\n\\t\\t\\t\\t\\t<reliability></reliability>\\r\\n\\t\\t\\t\\t\\t<rnSt>70</rnSt>\\r\\n\\t\\t\\t\\t</data>\\r\\n\\r\\n\\t\\t\\t\\t\\r\\n\\t\\t\\t\\t<data>\\r\\n\\t\\t\\t\\t\\t<mode>A02</mode>\\r\\n\\t\\t\\t\\t\\t<tmEf>2020-01-07 12:00</tmEf>\\r\\n\\t\\t\\t\\t\\t<wf>흐리고 비/눈</wf>\\r\\n\\t\\t\\t\\t\\t<tmn>0</tmn>\\r\\n\\t\\t\\t\\t\\t<tmx>4</tmx>\\r\\n\\t\\t\\t\\t\\t<reliability></reliability>\\r\\n\\t\\t\\t\\t\\t<rnSt>70</rnSt>\\r\\n\\t\\t\\t\\t</data>\\r\\n\\r\\n\\t\\t\\t\\t\\r\\n\\t\\t\\t\\t<data>\\r\\n\\t\\t\\t\\t\\t<mode>A01</mode>\\r\\n\\t\\t\\t\\t\\t<tmEf>2020-01-08 00:00</tmEf>\\r\\n\\t\\t\\t\\t\\t<wf>흐리고 비/눈</wf>\\r\\n\\t\\t\\t\\t\\t<tmn>1</tmn>\\r\\n\\t\\t\\t\\t\\t<tmx>4</tmx>\\r\\n\\t\\t\\t\\t\\t<reliability></reliability>\\r\\n\\t\\t\\t\\t\\t<rnSt>60</rnSt>\\r\\n\\t\\t\\t\\t</data>\\r\\n\\r\\n\\t\\t\\t\\t\\r\\n\\t\\t\\t\\t<data>\\r\\n\\t\\t\\t\\t\\t<mode>A01</mode>\\r\\n\\t\\t\\t\\t\\t<tmEf>2020-01-09 00:00</tmEf>\\r\\n\\t\\t\\t\\t\\t<wf>구름많음</wf>\\r\\n\\t\\t\\t\\t\\t<tmn>0</tmn>\\r\\n\\t\\t\\t\\t\\t<tmx>4</tmx>\\r\\n\\t\\t\\t\\t\\t<reliability></reliability>\\r\\n\\t\\t\\t\\t\\t<rnSt>40</rnSt>\\r\\n\\t\\t\\t\\t</data>\\r\\n\\r\\n\\t\\t\\t\\t\\r\\n\\t\\t\\t\\t<data>\\r\\n\\t\\t\\t\\t\\t<mode>A01</mode>\\r\\n\\t\\t\\t\\t\\t<tmEf>2020-01-10 00:00</tmEf>\\r\\n\\t\\t\\t\\t\\t<wf>구름많음</wf>\\r\\n\\t\\t\\t\\t\\t<tmn>-2</tmn>\\r\\n\\t\\t\\t\\t\\t<tmx>4</tmx>\\r\\n\\t\\t\\t\\t\\t<reliability></reliability>\\r\\n\\t\\t\\t\\t\\t<rnSt>30</rnSt>\\r\\n\\t\\t\\t\\t</data>\\r\\n\\r\\n\\r\\n\\t\\t</location>\\r\\n\\r\\n\\t\\t<location wl_ver=\"3\">\\r\\n\\t\\t\\t\\t<province>서울ㆍ인천ㆍ경기도</province>\\r\\n\\t\\t\\t\\t<city>수원</city>\\r\\n\\t\\t\\t\\t\\r\\n\\t\\t\\t\\t<data>\\r\\n\\t\\t\\t\\t\\t<mode>A02</mode>\\r\\n\\t\\t\\t\\t\\t<tmEf>2020-01-03 00:00</tmEf>\\r\\n\\t\\t\\t\\t\\t<wf>구름많음</wf>\\r\\n\\t\\t\\t\\t\\t<tmn>-2</tmn>\\r\\n\\t\\t\\t\\t\\t<tmx>6</tmx>\\r\\n\\t\\t\\t\\t\\t<reliability></reliability>\\r\\n\\t\\t\\t\\t\\t<rnSt>30</rnSt>\\r\\n\\t\\t\\t\\t</data>\\r\\n\\r\\n\\t\\t\\t\\t\\r\\n\\t\\t\\t\\t<data>\\r\\n\\t\\t\\t\\t\\t<mode>A02</mode>\\r\\n\\t\\t\\t\\t\\t<tmEf>2020-01-03 12:00</tmEf>\\r\\n\\t\\t\\t\\t\\t<wf>맑음</wf>\\r\\n\\t\\t\\t\\t\\t<tmn>-2</tmn>\\r\\n\\t\\t\\t\\t\\t<tmx>6</tmx>\\r\\n\\t\\t\\t\\t\\t<reliability></reliability>\\r\\n\\t\\t\\t\\t\\t<rnSt>10</rnSt>\\r\\n\\t\\t\\t\\t</data>\\r\\n\\r\\n\\t\\t\\t\\t\\r\\n\\t\\t\\t\\t<data>\\r\\n\\t\\t\\t\\t\\t<mode>A02</mode>\\r\\n\\t\\t\\t\\t\\t<tmEf>2020-01-04 00:00</tmEf>\\r\\n\\t\\t\\t\\t\\t<wf>맑음</wf>\\r\\n\\t\\t\\t\\t\\t<tmn>-2</tmn>\\r\\n\\t\\t\\t\\t\\t<tmx>6</tmx>\\r\\n\\t\\t\\t\\t\\t<reliability></reliability>\\r\\n\\t\\t\\t\\t\\t<rnSt>10</rnSt>\\r\\n\\t\\t\\t\\t</data>\\r\\n\\r\\n\\t\\t\\t\\t\\r\\n\\t\\t\\t\\t<data>\\r\\n\\t\\t\\t\\t\\t<mode>A02</mode>\\r\\n\\t\\t\\t\\t\\t<tmEf>2020-01-04 12:00</tmEf>\\r\\n\\t\\t\\t\\t\\t<wf>맑음</wf>\\r\\n\\t\\t\\t\\t\\t<tmn>-2</tmn>\\r\\n\\t\\t\\t\\t\\t<tmx>6</tmx>\\r\\n\\t\\t\\t\\t\\t<reliability></reliability>\\r\\n\\t\\t\\t\\t\\t<rnSt>0</rnSt>\\r\\n\\t\\t\\t\\t</data>\\r\\n\\r\\n\\t\\t\\t\\t\\r\\n\\t\\t\\t\\t<data>\\r\\n\\t\\t\\t\\t\\t<mode>A02</mode>\\r\\n\\t\\t\\t\\t\\t<tmEf>2020-01-05 00:00</tmEf>\\r\\n\\t\\t\\t\\t\\t<wf>맑음</wf>\\r\\n\\t\\t\\t\\t\\t<tmn>-4</tmn>\\r\\n\\t\\t\\t\\t\\t<tmx>5</tmx>\\r\\n\\t\\t\\t\\t\\t<reliability></reliability>\\r\\n\\t\\t\\t\\t\\t<rnSt>0</rnSt>\\r\\n\\t\\t\\t\\t</data>\\r\\n\\r\\n\\t\\t\\t\\t\\r\\n\\t\\t\\t\\t<data>\\r\\n\\t\\t\\t\\t\\t<mode>A02</mode>\\r\\n\\t\\t\\t\\t\\t<tmEf>2020-01-05 12:00</tmEf>\\r\\n\\t\\t\\t\\t\\t<wf>구름많음</wf>\\r\\n\\t\\t\\t\\t\\t<tmn>-4</tmn>\\r\\n\\t\\t\\t\\t\\t<tmx>5</tmx>\\r\\n\\t\\t\\t\\t\\t<reliability></reliability>\\r\\n\\t\\t\\t\\t\\t<rnSt>30</rnSt>\\r\\n\\t\\t\\t\\t</data>\\r\\n\\r\\n\\t\\t\\t\\t\\r\\n\\t\\t\\t\\t<data>\\r\\n\\t\\t\\t\\t\\t<mode>A02</mode>\\r\\n\\t\\t\\t\\t\\t<tmEf>2020-01-06 00:00</tmEf>\\r\\n\\t\\t\\t\\t\\t<wf>구름많음</wf>\\r\\n\\t\\t\\t\\t\\t<tmn>-2</tmn>\\r\\n\\t\\t\\t\\t\\t<tmx>4</tmx>\\r\\n\\t\\t\\t\\t\\t<reliability></reliability>\\r\\n\\t\\t\\t\\t\\t<rnSt>30</rnSt>\\r\\n\\t\\t\\t\\t</data>\\r\\n\\r\\n\\t\\t\\t\\t\\r\\n\\t\\t\\t\\t<data>\\r\\n\\t\\t\\t\\t\\t<mode>A02</mode>\\r\\n\\t\\t\\t\\t\\t<tmEf>2020-01-06 12:00</tmEf>\\r\\n\\t\\t\\t\\t\\t<wf>흐림</wf>\\r\\n\\t\\t\\t\\t\\t<tmn>-2</tmn>\\r\\n\\t\\t\\t\\t\\t<tmx>4</tmx>\\r\\n\\t\\t\\t\\t\\t<reliability></reliability>\\r\\n\\t\\t\\t\\t\\t<rnSt>40</rnSt>\\r\\n\\t\\t\\t\\t</data>\\r\\n\\r\\n\\t\\t\\t\\t\\r\\n\\t\\t\\t\\t<data>\\r\\n\\t\\t\\t\\t\\t<mode>A02</mode>\\r\\n\\t\\t\\t\\t\\t<tmEf>2020-01-07 00:00</tmEf>\\r\\n\\t\\t\\t\\t\\t<wf>흐리고 비/눈</wf>\\r\\n\\t\\t\\t\\t\\t<tmn>0</tmn>\\r\\n\\t\\t\\t\\t\\t<tmx>5</tmx>\\r\\n\\t\\t\\t\\t\\t<reliability></reliability>\\r\\n\\t\\t\\t\\t\\t<rnSt>70</rnSt>\\r\\n\\t\\t\\t\\t</data>\\r\\n\\r\\n\\t\\t\\t\\t\\r\\n\\t\\t\\t\\t<data>\\r\\n\\t\\t\\t\\t\\t<mode>A02</mode>\\r\\n\\t\\t\\t\\t\\t<tmEf>2020-01-07 12:00</tmEf>\\r\\n\\t\\t\\t\\t\\t<wf>흐리고 비/눈</wf>\\r\\n\\t\\t\\t\\t\\t<tmn>0</tmn>\\r\\n\\t\\t\\t\\t\\t<tmx>5</tmx>\\r\\n\\t\\t\\t\\t\\t<reliability></reliability>\\r\\n\\t\\t\\t\\t\\t<rnSt>70</rnSt>\\r\\n\\t\\t\\t\\t</data>\\r\\n\\r\\n\\t\\t\\t\\t\\r\\n\\t\\t\\t\\t<data>\\r\\n\\t\\t\\t\\t\\t<mode>A01</mode>\\r\\n\\t\\t\\t\\t\\t<tmEf>2020-01-08 00:00</tmEf>\\r\\n\\t\\t\\t\\t\\t<wf>흐리고 비/눈</wf>\\r\\n\\t\\t\\t\\t\\t<tmn>1</tmn>\\r\\n\\t\\t\\t\\t\\t<tmx>5</tmx>\\r\\n\\t\\t\\t\\t\\t<reliability></reliability>\\r\\n\\t\\t\\t\\t\\t<rnSt>60</rnSt>\\r\\n\\t\\t\\t\\t</data>\\r\\n\\r\\n\\t\\t\\t\\t\\r\\n\\t\\t\\t\\t<data>\\r\\n\\t\\t\\t\\t\\t<mode>A01</mode>\\r\\n\\t\\t\\t\\t\\t<tmEf>2020-01-09 00:00</tmEf>\\r\\n\\t\\t\\t\\t\\t<wf>구름많음</wf>\\r\\n\\t\\t\\t\\t\\t<tmn>-1</tmn>\\r\\n\\t\\t\\t\\t\\t<tmx>5</tmx>\\r\\n\\t\\t\\t\\t\\t<reliability></reliability>\\r\\n\\t\\t\\t\\t\\t<rnSt>40</rnSt>\\r\\n\\t\\t\\t\\t</data>\\r\\n\\r\\n\\t\\t\\t\\t\\r\\n\\t\\t\\t\\t<data>\\r\\n\\t\\t\\t\\t\\t<mode>A01</mode>\\r\\n\\t\\t\\t\\t\\t<tmEf>2020-01-10 00:00</tmEf>\\r\\n\\t\\t\\t\\t\\t<wf>구름많음</wf>\\r\\n\\t\\t\\t\\t\\t<tmn>-3</tmn>\\r\\n\\t\\t\\t\\t\\t<tmx>4</tmx>\\r\\n\\t\\t\\t\\t\\t<reliability></reliability>\\r\\n\\t\\t\\t\\t\\t<rnSt>30</rnSt>\\r\\n\\t\\t\\t\\t</data>\\r\\n\\r\\n\\r\\n\\t\\t</location>\\r\\n\\r\\n\\t\\t<location wl_ver=\"3\">\\r\\n\\t\\t\\t\\t<province>서울ㆍ인천ㆍ경기도</province>\\r\\n\\t\\t\\t\\t<city>파주</city>\\r\\n\\t\\t\\t\\t\\r\\n\\t\\t\\t\\t<data>\\r\\n\\t\\t\\t\\t\\t<mode>A02</mode>\\r\\n\\t\\t\\t\\t\\t<tmEf>2020-01-03 00:00</tmEf>\\r\\n\\t\\t\\t\\t\\t<wf>구름많음</wf>\\r\\n\\t\\t\\t\\t\\t<tmn>-6</tmn>\\r\\n\\t\\t\\t\\t\\t<tmx>4</tmx>\\r\\n\\t\\t\\t\\t\\t<reliability></reliability>\\r\\n\\t\\t\\t\\t\\t<rnSt>30</rnSt>\\r\\n\\t\\t\\t\\t</data>\\r\\n\\r\\n\\t\\t\\t\\t\\r\\n\\t\\t\\t\\t<data>\\r\\n\\t\\t\\t\\t\\t<mode>A02</mode>\\r\\n\\t\\t\\t\\t\\t<tmEf>2020-01-03 12:00</tmEf>\\r\\n\\t\\t\\t\\t\\t<wf>맑음</wf>\\r\\n\\t\\t\\t\\t\\t<tmn>-6</tmn>\\r\\n\\t\\t\\t\\t\\t<tmx>4</tmx>\\r\\n\\t\\t\\t\\t\\t<reliability></reliability>\\r\\n\\t\\t\\t\\t\\t<rnSt>10</rnSt>\\r\\n\\t\\t\\t\\t</data>\\r\\n\\r\\n\\t\\t\\t\\t\\r\\n\\t\\t\\t\\t<data>\\r\\n\\t\\t\\t\\t\\t<mode>A02</mode>\\r\\n\\t\\t\\t\\t\\t<tmEf>2020-01-04 00:00</tmEf>\\r\\n\\t\\t\\t\\t\\t<wf>맑음</wf>\\r\\n\\t\\t\\t\\t\\t<tmn>-5</tmn>\\r\\n\\t\\t\\t\\t\\t<tmx>5</tmx>\\r\\n\\t\\t\\t\\t\\t<reliability></reliability>\\r\\n\\t\\t\\t\\t\\t<rnSt>10</rnSt>\\r\\n\\t\\t\\t\\t</data>\\r\\n\\r\\n\\t\\t\\t\\t\\r\\n\\t\\t\\t\\t<data>\\r\\n\\t\\t\\t\\t\\t<mode>A02</mode>\\r\\n\\t\\t\\t\\t\\t<tmEf>2020-01-04 12:00</tmEf>\\r\\n\\t\\t\\t\\t\\t<wf>맑음</wf>\\r\\n\\t\\t\\t\\t\\t<tmn>-5</tmn>\\r\\n\\t\\t\\t\\t\\t<tmx>5</tmx>\\r\\n\\t\\t\\t\\t\\t<reliability></reliability>\\r\\n\\t\\t\\t\\t\\t<rnSt>0</rnSt>\\r\\n\\t\\t\\t\\t</data>\\r\\n\\r\\n\\t\\t\\t\\t\\r\\n\\t\\t\\t\\t<data>\\r\\n\\t\\t\\t\\t\\t<mode>A02</mode>\\r\\n\\t\\t\\t\\t\\t<tmEf>2020-01-05 00:00</tmEf>\\r\\n\\t\\t\\t\\t\\t<wf>맑음</wf>\\r\\n\\t\\t\\t\\t\\t<tmn>-7</tmn>\\r\\n\\t\\t\\t\\t\\t<tmx>4</tmx>\\r\\n\\t\\t\\t\\t\\t<reliability></reliability>\\r\\n\\t\\t\\t\\t\\t<rnSt>0</rnSt>\\r\\n\\t\\t\\t\\t</data>\\r\\n\\r\\n\\t\\t\\t\\t\\r\\n\\t\\t\\t\\t<data>\\r\\n\\t\\t\\t\\t\\t<mode>A02</mode>\\r\\n\\t\\t\\t\\t\\t<tmEf>2020-01-05 12:00</tmEf>\\r\\n\\t\\t\\t\\t\\t<wf>구름많음</wf>\\r\\n\\t\\t\\t\\t\\t<tmn>-7</tmn>\\r\\n\\t\\t\\t\\t\\t<tmx>4</tmx>\\r\\n\\t\\t\\t\\t\\t<reliability></reliability>\\r\\n\\t\\t\\t\\t\\t<rnSt>30</rnSt>\\r\\n\\t\\t\\t\\t</data>\\r\\n\\r\\n\\t\\t\\t\\t\\r\\n\\t\\t\\t\\t<data>\\r\\n\\t\\t\\t\\t\\t<mode>A02</mode>\\r\\n\\t\\t\\t\\t\\t<tmEf>2020-01-06 00:00</tmEf>\\r\\n\\t\\t\\t\\t\\t<wf>구름많음</wf>\\r\\n\\t\\t\\t\\t\\t<tmn>-5</tmn>\\r\\n\\t\\t\\t\\t\\t<tmx>4</tmx>\\r\\n\\t\\t\\t\\t\\t<reliability></reliability>\\r\\n\\t\\t\\t\\t\\t<rnSt>30</rnSt>\\r\\n\\t\\t\\t\\t</data>\\r\\n\\r\\n\\t\\t\\t\\t\\r\\n\\t\\t\\t\\t<data>\\r\\n\\t\\t\\t\\t\\t<mode>A02</mode>\\r\\n\\t\\t\\t\\t\\t<tmEf>2020-01-06 12:00</tmEf>\\r\\n\\t\\t\\t\\t\\t<wf>흐림</wf>\\r\\n\\t\\t\\t\\t\\t<tmn>-5</tmn>\\r\\n\\t\\t\\t\\t\\t<tmx>4</tmx>\\r\\n\\t\\t\\t\\t\\t<reliability></reliability>\\r\\n\\t\\t\\t\\t\\t<rnSt>40</rnSt>\\r\\n\\t\\t\\t\\t</data>\\r\\n\\r\\n\\t\\t\\t\\t\\r\\n\\t\\t\\t\\t<data>\\r\\n\\t\\t\\t\\t\\t<mode>A02</mode>\\r\\n\\t\\t\\t\\t\\t<tmEf>2020-01-07 00:00</tmEf>\\r\\n\\t\\t\\t\\t\\t<wf>흐리고 비/눈</wf>\\r\\n\\t\\t\\t\\t\\t<tmn>-3</tmn>\\r\\n\\t\\t\\t\\t\\t<tmx>4</tmx>\\r\\n\\t\\t\\t\\t\\t<reliability></reliability>\\r\\n\\t\\t\\t\\t\\t<rnSt>70</rnSt>\\r\\n\\t\\t\\t\\t</data>\\r\\n\\r\\n\\t\\t\\t\\t\\r\\n\\t\\t\\t\\t<data>\\r\\n\\t\\t\\t\\t\\t<mode>A02</mode>\\r\\n\\t\\t\\t\\t\\t<tmEf>2020-01-07 12:00</tmEf>\\r\\n\\t\\t\\t\\t\\t<wf>흐리고 비/눈</wf>\\r\\n\\t\\t\\t\\t\\t<tmn>-3</tmn>\\r\\n\\t\\t\\t\\t\\t<tmx>4</tmx>\\r\\n\\t\\t\\t\\t\\t<reliability></reliability>\\r\\n\\t\\t\\t\\t\\t<rnSt>70</rnSt>\\r\\n\\t\\t\\t\\t</data>\\r\\n\\r\\n\\t\\t\\t\\t\\r\\n\\t\\t\\t\\t<data>\\r\\n\\t\\t\\t\\t\\t<mode>A01</mode>\\r\\n\\t\\t\\t\\t\\t<tmEf>2020-01-08 00:00</tmEf>\\r\\n\\t\\t\\t\\t\\t<wf>흐리고 비/눈</wf>\\r\\n\\t\\t\\t\\t\\t<tmn>-2</tmn>\\r\\n\\t\\t\\t\\t\\t<tmx>3</tmx>\\r\\n\\t\\t\\t\\t\\t<reliability></reliability>\\r\\n\\t\\t\\t\\t\\t<rnSt>60</rnSt>\\r\\n\\t\\t\\t\\t</data>\\r\\n\\r\\n\\t\\t\\t\\t\\r\\n\\t\\t\\t\\t<data>\\r\\n\\t\\t\\t\\t\\t<mode>A01</mode>\\r\\n\\t\\t\\t\\t\\t<tmEf>2020-01-09 00:00</tmEf>\\r\\n\\t\\t\\t\\t\\t<wf>구름많음</wf>\\r\\n\\t\\t\\t\\t\\t<tmn>-4</tmn>\\r\\n\\t\\t\\t\\t\\t<tmx>4</tmx>\\r\\n\\t\\t\\t\\t\\t<reliability></reliability>\\r\\n\\t\\t\\t\\t\\t<rnSt>40</rnSt>\\r\\n\\t\\t\\t\\t</data>\\r\\n\\r\\n\\t\\t\\t\\t\\r\\n\\t\\t\\t\\t<data>\\r\\n\\t\\t\\t\\t\\t<mode>A01</mode>\\r\\n\\t\\t\\t\\t\\t<tmEf>2020-01-10 00:00</tmEf>\\r\\n\\t\\t\\t\\t\\t<wf>구름많음</wf>\\r\\n\\t\\t\\t\\t\\t<tmn>-6</tmn>\\r\\n\\t\\t\\t\\t\\t<tmx>3</tmx>\\r\\n\\t\\t\\t\\t\\t<reliability></reliability>\\r\\n\\t\\t\\t\\t\\t<rnSt>30</rnSt>\\r\\n\\t\\t\\t\\t</data>\\r\\n\\r\\n\\r\\n\\t\\t</location>\\r\\n\\r\\n\\t\\t<location wl_ver=\"3\">\\r\\n\\t\\t\\t\\t<province>서울ㆍ인천ㆍ경기도</province>\\r\\n\\t\\t\\t\\t<city>이천</city>\\r\\n\\t\\t\\t\\t\\r\\n\\t\\t\\t\\t<data>\\r\\n\\t\\t\\t\\t\\t<mode>A02</mode>\\r\\n\\t\\t\\t\\t\\t<tmEf>2020-01-03 00:00</tmEf>\\r\\n\\t\\t\\t\\t\\t<wf>구름많음</wf>\\r\\n\\t\\t\\t\\t\\t<tmn>-4</tmn>\\r\\n\\t\\t\\t\\t\\t<tmx>5</tmx>\\r\\n\\t\\t\\t\\t\\t<reliability></reliability>\\r\\n\\t\\t\\t\\t\\t<rnSt>30</rnSt>\\r\\n\\t\\t\\t\\t</data>\\r\\n\\r\\n\\t\\t\\t\\t\\r\\n\\t\\t\\t\\t<data>\\r\\n\\t\\t\\t\\t\\t<mode>A02</mode>\\r\\n\\t\\t\\t\\t\\t<tmEf>2020-01-03 12:00</tmEf>\\r\\n\\t\\t\\t\\t\\t<wf>맑음</wf>\\r\\n\\t\\t\\t\\t\\t<tmn>-4</tmn>\\r\\n\\t\\t\\t\\t\\t<tmx>5</tmx>\\r\\n\\t\\t\\t\\t\\t<reliability></reliability>\\r\\n\\t\\t\\t\\t\\t<rnSt>10</rnSt>\\r\\n\\t\\t\\t\\t</data>\\r\\n\\r\\n\\t\\t\\t\\t\\r\\n\\t\\t\\t\\t<data>\\r\\n\\t\\t\\t\\t\\t<mode>A02</mode>\\r\\n\\t\\t\\t\\t\\t<tmEf>2020-01-04 00:00</tmEf>\\r\\n\\t\\t\\t\\t\\t<wf>맑음</wf>\\r\\n\\t\\t\\t\\t\\t<tmn>-4</tmn>\\r\\n\\t\\t\\t\\t\\t<tmx>6</tmx>\\r\\n\\t\\t\\t\\t\\t<reliability></reliability>\\r\\n\\t\\t\\t\\t\\t<rnSt>10</rnSt>\\r\\n\\t\\t\\t\\t</data>\\r\\n\\r\\n\\t\\t\\t\\t\\r\\n\\t\\t\\t\\t<data>\\r\\n\\t\\t\\t\\t\\t<mode>A02</mode>\\r\\n\\t\\t\\t\\t\\t<tmEf>2020-01-04 12:00</tmEf>\\r\\n\\t\\t\\t\\t\\t<wf>맑음</wf>\\r\\n\\t\\t\\t\\t\\t<tmn>-4</tmn>\\r\\n\\t\\t\\t\\t\\t<tmx>6</tmx>\\r\\n\\t\\t\\t\\t\\t<reliability></reliability>\\r\\n\\t\\t\\t\\t\\t<rnSt>0</rnSt>\\r\\n\\t\\t\\t\\t</data>\\r\\n\\r\\n\\t\\t\\t\\t\\r\\n\\t\\t\\t\\t<data>\\r\\n\\t\\t\\t\\t\\t<mode>A02</mode>\\r\\n\\t\\t\\t\\t\\t<tmEf>2020-01-05 00:00</tmEf>\\r\\n\\t\\t\\t\\t\\t<wf>맑음</wf>\\r\\n\\t\\t\\t\\t\\t<tmn>-6</tmn>\\r\\n\\t\\t\\t\\t\\t<tmx>5</tmx>\\r\\n\\t\\t\\t\\t\\t<reliability></reliability>\\r\\n\\t\\t\\t\\t\\t<rnSt>0</rnSt>\\r\\n\\t\\t\\t\\t</data>\\r\\n\\r\\n\\t\\t\\t\\t\\r\\n\\t\\t\\t\\t<data>\\r\\n\\t\\t\\t\\t\\t<mode>A02</mode>\\r\\n\\t\\t\\t\\t\\t<tmEf>2020-01-05 12:00</tmEf>\\r\\n\\t\\t\\t\\t\\t<wf>구름많음</wf>\\r\\n\\t\\t\\t\\t\\t<tmn>-6</tmn>\\r\\n\\t\\t\\t\\t\\t<tmx>5</tmx>\\r\\n\\t\\t\\t\\t\\t<reliability></reliability>\\r\\n\\t\\t\\t\\t\\t<rnSt>30</rnSt>\\r\\n\\t\\t\\t\\t</data>\\r\\n\\r\\n\\t\\t\\t\\t\\r\\n\\t\\t\\t\\t<data>\\r\\n\\t\\t\\t\\t\\t<mode>A02</mode>\\r\\n\\t\\t\\t\\t\\t<tmEf>2020-01-06 00:00</tmEf>\\r\\n\\t\\t\\t\\t\\t<wf>구름많음</wf>\\r\\n\\t\\t\\t\\t\\t<tmn>-4</tmn>\\r\\n\\t\\t\\t\\t\\t<tmx>4</tmx>\\r\\n\\t\\t\\t\\t\\t<reliability></reliability>\\r\\n\\t\\t\\t\\t\\t<rnSt>30</rnSt>\\r\\n\\t\\t\\t\\t</data>\\r\\n\\r\\n\\t\\t\\t\\t\\r\\n\\t\\t\\t\\t<data>\\r\\n\\t\\t\\t\\t\\t<mode>A02</mode>\\r\\n\\t\\t\\t\\t\\t<tmEf>2020-01-06 12:00</tmEf>\\r\\n\\t\\t\\t\\t\\t<wf>흐림</wf>\\r\\n\\t\\t\\t\\t\\t<tmn>-4</tmn>\\r\\n\\t\\t\\t\\t\\t<tmx>4</tmx>\\r\\n\\t\\t\\t\\t\\t<reliability></reliability>\\r\\n\\t\\t\\t\\t\\t<rnSt>40</rnSt>\\r\\n\\t\\t\\t\\t</data>\\r\\n\\r\\n\\t\\t\\t\\t\\r\\n\\t\\t\\t\\t<data>\\r\\n\\t\\t\\t\\t\\t<mode>A02</mode>\\r\\n\\t\\t\\t\\t\\t<tmEf>2020-01-07 00:00</tmEf>\\r\\n\\t\\t\\t\\t\\t<wf>흐리고 비/눈</wf>\\r\\n\\t\\t\\t\\t\\t<tmn>-2</tmn>\\r\\n\\t\\t\\t\\t\\t<tmx>5</tmx>\\r\\n\\t\\t\\t\\t\\t<reliability></reliability>\\r\\n\\t\\t\\t\\t\\t<rnSt>70</rnSt>\\r\\n\\t\\t\\t\\t</data>\\r\\n\\r\\n\\t\\t\\t\\t\\r\\n\\t\\t\\t\\t<data>\\r\\n\\t\\t\\t\\t\\t<mode>A02</mode>\\r\\n\\t\\t\\t\\t\\t<tmEf>2020-01-07 12:00</tmEf>\\r\\n\\t\\t\\t\\t\\t<wf>흐리고 비/눈</wf>\\r\\n\\t\\t\\t\\t\\t<tmn>-2</tmn>\\r\\n\\t\\t\\t\\t\\t<tmx>5</tmx>\\r\\n\\t\\t\\t\\t\\t<reliability></reliability>\\r\\n\\t\\t\\t\\t\\t<rnSt>70</rnSt>\\r\\n\\t\\t\\t\\t</data>\\r\\n\\r\\n\\t\\t\\t\\t\\r\\n\\t\\t\\t\\t<data>\\r\\n\\t\\t\\t\\t\\t<mode>A01</mode>\\r\\n\\t\\t\\t\\t\\t<tmEf>2020-01-08 00:00</tmEf>\\r\\n\\t\\t\\t\\t\\t<wf>흐리고 비/눈</wf>\\r\\n\\t\\t\\t\\t\\t<tmn>-1</tmn>\\r\\n\\t\\t\\t\\t\\t<tmx>5</tmx>\\r\\n\\t\\t\\t\\t\\t<reliability></reliability>\\r\\n\\t\\t\\t\\t\\t<rnSt>60</rnSt>\\r\\n\\t\\t\\t\\t</data>\\r\\n\\r\\n\\t\\t\\t\\t\\r\\n\\t\\t\\t\\t<data>\\r\\n\\t\\t\\t\\t\\t<mode>A01</mode>\\r\\n\\t\\t\\t\\t\\t<tmEf>2020-01-09 00:00</tmEf>\\r\\n\\t\\t\\t\\t\\t<wf>구름많음</wf>\\r\\n\\t\\t\\t\\t\\t<tmn>-3</tmn>\\r\\n\\t\\t\\t\\t\\t<tmx>3</tmx>\\r\\n\\t\\t\\t\\t\\t<reliability></reliability>\\r\\n\\t\\t\\t\\t\\t<rnSt>40</rnSt>\\r\\n\\t\\t\\t\\t</data>\\r\\n\\r\\n\\t\\t\\t\\t\\r\\n\\t\\t\\t\\t<data>\\r\\n\\t\\t\\t\\t\\t<mode>A01</mode>\\r\\n\\t\\t\\t\\t\\t<tmEf>2020-01-10 00:00</tmEf>\\r\\n\\t\\t\\t\\t\\t<wf>구름많음</wf>\\r\\n\\t\\t\\t\\t\\t<tmn>-4</tmn>\\r\\n\\t\\t\\t\\t\\t<tmx>4</tmx>\\r\\n\\t\\t\\t\\t\\t<reliability></reliability>\\r\\n\\t\\t\\t\\t\\t<rnSt>30</rnSt>\\r\\n\\t\\t\\t\\t</data>\\r\\n\\r\\n\\r\\n\\t\\t</location>\\r\\n\\r\\n\\t\\t<location wl_ver=\"3\">\\r\\n\\t\\t\\t\\t<province>서울ㆍ인천ㆍ경기도</province>\\r\\n\\t\\t\\t\\t<city>평택</city>\\r\\n\\t\\t\\t\\t\\r\\n\\t\\t\\t\\t<data>\\r\\n\\t\\t\\t\\t\\t<mode>A02</mode>\\r\\n\\t\\t\\t\\t\\t<tmEf>2020-01-03 00:00</tmEf>\\r\\n\\t\\t\\t\\t\\t<wf>구름많음</wf>\\r\\n\\t\\t\\t\\t\\t<tmn>-3</tmn>\\r\\n\\t\\t\\t\\t\\t<tmx>6</tmx>\\r\\n\\t\\t\\t\\t\\t<reliability></reliability>\\r\\n\\t\\t\\t\\t\\t<rnSt>30</rnSt>\\r\\n\\t\\t\\t\\t</data>\\r\\n\\r\\n\\t\\t\\t\\t\\r\\n\\t\\t\\t\\t<data>\\r\\n\\t\\t\\t\\t\\t<mode>A02</mode>\\r\\n\\t\\t\\t\\t\\t<tmEf>2020-01-03 12:00</tmEf>\\r\\n\\t\\t\\t\\t\\t<wf>맑음</wf>\\r\\n\\t\\t\\t\\t\\t<tmn>-3</tmn>\\r\\n\\t\\t\\t\\t\\t<tmx>6</tmx>\\r\\n\\t\\t\\t\\t\\t<reliability></reliability>\\r\\n\\t\\t\\t\\t\\t<rnSt>10</rnSt>\\r\\n\\t\\t\\t\\t</data>\\r\\n\\r\\n\\t\\t\\t\\t\\r\\n\\t\\t\\t\\t<data>\\r\\n\\t\\t\\t\\t\\t<mode>A02</mode>\\r\\n\\t\\t\\t\\t\\t<tmEf>2020-01-04 00:00</tmEf>\\r\\n\\t\\t\\t\\t\\t<wf>맑음</wf>\\r\\n\\t\\t\\t\\t\\t<tmn>-1</tmn>\\r\\n\\t\\t\\t\\t\\t<tmx>6</tmx>\\r\\n\\t\\t\\t\\t\\t<reliability></reliability>\\r\\n\\t\\t\\t\\t\\t<rnSt>10</rnSt>\\r\\n\\t\\t\\t\\t</data>\\r\\n\\r\\n\\t\\t\\t\\t\\r\\n\\t\\t\\t\\t<data>\\r\\n\\t\\t\\t\\t\\t<mode>A02</mode>\\r\\n\\t\\t\\t\\t\\t<tmEf>2020-01-04 12:00</tmEf>\\r\\n\\t\\t\\t\\t\\t<wf>맑음</wf>\\r\\n\\t\\t\\t\\t\\t<tmn>-1</tmn>\\r\\n\\t\\t\\t\\t\\t<tmx>6</tmx>\\r\\n\\t\\t\\t\\t\\t<reliability></reliability>\\r\\n\\t\\t\\t\\t\\t<rnSt>0</rnSt>\\r\\n\\t\\t\\t\\t</data>\\r\\n\\r\\n\\t\\t\\t\\t\\r\\n\\t\\t\\t\\t<data>\\r\\n\\t\\t\\t\\t\\t<mode>A02</mode>\\r\\n\\t\\t\\t\\t\\t<tmEf>2020-01-05 00:00</tmEf>\\r\\n\\t\\t\\t\\t\\t<wf>맑음</wf>\\r\\n\\t\\t\\t\\t\\t<tmn>-5</tmn>\\r\\n\\t\\t\\t\\t\\t<tmx>5</tmx>\\r\\n\\t\\t\\t\\t\\t<reliability></reliability>\\r\\n\\t\\t\\t\\t\\t<rnSt>0</rnSt>\\r\\n\\t\\t\\t\\t</data>\\r\\n\\r\\n\\t\\t\\t\\t\\r\\n\\t\\t\\t\\t<data>\\r\\n\\t\\t\\t\\t\\t<mode>A02</mode>\\r\\n\\t\\t\\t\\t\\t<tmEf>2020-01-05 12:00</tmEf>\\r\\n\\t\\t\\t\\t\\t<wf>구름많음</wf>\\r\\n\\t\\t\\t\\t\\t<tmn>-5</tmn>\\r\\n\\t\\t\\t\\t\\t<tmx>5</tmx>\\r\\n\\t\\t\\t\\t\\t<reliability></reliability>\\r\\n\\t\\t\\t\\t\\t<rnSt>30</rnSt>\\r\\n\\t\\t\\t\\t</data>\\r\\n\\r\\n\\t\\t\\t\\t\\r\\n\\t\\t\\t\\t<data>\\r\\n\\t\\t\\t\\t\\t<mode>A02</mode>\\r\\n\\t\\t\\t\\t\\t<tmEf>2020-01-06 00:00</tmEf>\\r\\n\\t\\t\\t\\t\\t<wf>구름많음</wf>\\r\\n\\t\\t\\t\\t\\t<tmn>-2</tmn>\\r\\n\\t\\t\\t\\t\\t<tmx>5</tmx>\\r\\n\\t\\t\\t\\t\\t<reliability></reliability>\\r\\n\\t\\t\\t\\t\\t<rnSt>30</rnSt>\\r\\n\\t\\t\\t\\t</data>\\r\\n\\r\\n\\t\\t\\t\\t\\r\\n\\t\\t\\t\\t<data>\\r\\n\\t\\t\\t\\t\\t<mode>A02</mode>\\r\\n\\t\\t\\t\\t\\t<tmEf>2020-01-06 12:00</tmEf>\\r\\n\\t\\t\\t\\t\\t<wf>흐림</wf>\\r\\n\\t\\t\\t\\t\\t<tmn>-2</tmn>\\r\\n\\t\\t\\t\\t\\t<tmx>5</tmx>\\r\\n\\t\\t\\t\\t\\t<reliability></reliability>\\r\\n\\t\\t\\t\\t\\t<rnSt>40</rnSt>\\r\\n\\t\\t\\t\\t</data>\\r\\n\\r\\n\\t\\t\\t\\t\\r\\n\\t\\t\\t\\t<data>\\r\\n\\t\\t\\t\\t\\t<mode>A02</mode>\\r\\n\\t\\t\\t\\t\\t<tmEf>2020-01-07 00:00</tmEf>\\r\\n\\t\\t\\t\\t\\t<wf>흐리고 비/눈</wf>\\r\\n\\t\\t\\t\\t\\t<tmn>1</tmn>\\r\\n\\t\\t\\t\\t\\t<tmx>5</tmx>\\r\\n\\t\\t\\t\\t\\t<reliability></reliability>\\r\\n\\t\\t\\t\\t\\t<rnSt>70</rnSt>\\r\\n\\t\\t\\t\\t</data>\\r\\n\\r\\n\\t\\t\\t\\t\\r\\n\\t\\t\\t\\t<data>\\r\\n\\t\\t\\t\\t\\t<mode>A02</mode>\\r\\n\\t\\t\\t\\t\\t<tmEf>2020-01-07 12:00</tmEf>\\r\\n\\t\\t\\t\\t\\t<wf>흐리고 비/눈</wf>\\r\\n\\t\\t\\t\\t\\t<tmn>1</tmn>\\r\\n\\t\\t\\t\\t\\t<tmx>5</tmx>\\r\\n\\t\\t\\t\\t\\t<reliability></reliability>\\r\\n\\t\\t\\t\\t\\t<rnSt>70</rnSt>\\r\\n\\t\\t\\t\\t</data>\\r\\n\\r\\n\\t\\t\\t\\t\\r\\n\\t\\t\\t\\t<data>\\r\\n\\t\\t\\t\\t\\t<mode>A01</mode>\\r\\n\\t\\t\\t\\t\\t<tmEf>2020-01-08 00:00</tmEf>\\r\\n\\t\\t\\t\\t\\t<wf>흐리고 비/눈</wf>\\r\\n\\t\\t\\t\\t\\t<tmn>1</tmn>\\r\\n\\t\\t\\t\\t\\t<tmx>6</tmx>\\r\\n\\t\\t\\t\\t\\t<reliability></reliability>\\r\\n\\t\\t\\t\\t\\t<rnSt>60</rnSt>\\r\\n\\t\\t\\t\\t</data>\\r\\n\\r\\n\\t\\t\\t\\t\\r\\n\\t\\t\\t\\t<data>\\r\\n\\t\\t\\t\\t\\t<mode>A01</mode>\\r\\n\\t\\t\\t\\t\\t<tmEf>2020-01-09 00:00</tmEf>\\r\\n\\t\\t\\t\\t\\t<wf>구름많음</wf>\\r\\n\\t\\t\\t\\t\\t<tmn>-2</tmn>\\r\\n\\t\\t\\t\\t\\t<tmx>4</tmx>\\r\\n\\t\\t\\t\\t\\t<reliability></reliability>\\r\\n\\t\\t\\t\\t\\t<rnSt>40</rnSt>\\r\\n\\t\\t\\t\\t</data>\\r\\n\\r\\n\\t\\t\\t\\t\\r\\n\\t\\t\\t\\t<data>\\r\\n\\t\\t\\t\\t\\t<mode>A01</mode>\\r\\n\\t\\t\\t\\t\\t<tmEf>2020-01-10 00:00</tmEf>\\r\\n\\t\\t\\t\\t\\t<wf>구름많음</wf>\\r\\n\\t\\t\\t\\t\\t<tmn>-4</tmn>\\r\\n\\t\\t\\t\\t\\t<tmx>4</tmx>\\r\\n\\t\\t\\t\\t\\t<reliability></reliability>\\r\\n\\t\\t\\t\\t\\t<rnSt>30</rnSt>\\r\\n\\t\\t\\t\\t</data>\\r\\n\\r\\n\\r\\n\\t\\t</location>\\r\\n\\r\\n\\r\\n\\r\\n\\t\\t<location wl_ver=\"3\">\\r\\n\\t\\t\\t\\t<province>강원도영서</province>\\r\\n\\t\\t\\t\\t<city>춘천</city>\\r\\n\\t\\t\\t\\t\\r\\n\\t\\t\\t\\t<data>\\r\\n\\t\\t\\t\\t\\t<mode>A02</mode>\\r\\n\\t\\t\\t\\t\\t<tmEf>2020-01-03 00:00</tmEf>\\r\\n\\t\\t\\t\\t\\t<wf>구름많음</wf>\\r\\n\\t\\t\\t\\t\\t<tmn>-5</tmn>\\r\\n\\t\\t\\t\\t\\t<tmx>4</tmx>\\r\\n\\t\\t\\t\\t\\t<reliability></reliability>\\r\\n\\t\\t\\t\\t\\t<rnSt>30</rnSt>\\r\\n\\t\\t\\t\\t</data>\\r\\n\\r\\n\\t\\t\\t\\t\\r\\n\\t\\t\\t\\t<data>\\r\\n\\t\\t\\t\\t\\t<mode>A02</mode>\\r\\n\\t\\t\\t\\t\\t<tmEf>2020-01-03 12:00</tmEf>\\r\\n\\t\\t\\t\\t\\t<wf>맑음</wf>\\r\\n\\t\\t\\t\\t\\t<tmn>-5</tmn>\\r\\n\\t\\t\\t\\t\\t<tmx>4</tmx>\\r\\n\\t\\t\\t\\t\\t<reliability></reliability>\\r\\n\\t\\t\\t\\t\\t<rnSt>10</rnSt>\\r\\n\\t\\t\\t\\t</data>\\r\\n\\r\\n\\t\\t\\t\\t\\r\\n\\t\\t\\t\\t<data>\\r\\n\\t\\t\\t\\t\\t<mode>A02</mode>\\r\\n\\t\\t\\t\\t\\t<tmEf>2020-01-04 00:00</tmEf>\\r\\n\\t\\t\\t\\t\\t<wf>맑음</wf>\\r\\n\\t\\t\\t\\t\\t<tmn>-4</tmn>\\r\\n\\t\\t\\t\\t\\t<tmx>6</tmx>\\r\\n\\t\\t\\t\\t\\t<reliability></reliability>\\r\\n\\t\\t\\t\\t\\t<rnSt>10</rnSt>\\r\\n\\t\\t\\t\\t</data>\\r\\n\\r\\n\\t\\t\\t\\t\\r\\n\\t\\t\\t\\t<data>\\r\\n\\t\\t\\t\\t\\t<mode>A02</mode>\\r\\n\\t\\t\\t\\t\\t<tmEf>2020-01-04 12:00</tmEf>\\r\\n\\t\\t\\t\\t\\t<wf>맑음</wf>\\r\\n\\t\\t\\t\\t\\t<tmn>-4</tmn>\\r\\n\\t\\t\\t\\t\\t<tmx>6</tmx>\\r\\n\\t\\t\\t\\t\\t<reliability></reliability>\\r\\n\\t\\t\\t\\t\\t<rnSt>0</rnSt>\\r\\n\\t\\t\\t\\t</data>\\r\\n\\r\\n\\t\\t\\t\\t\\r\\n\\t\\t\\t\\t<data>\\r\\n\\t\\t\\t\\t\\t<mode>A02</mode>\\r\\n\\t\\t\\t\\t\\t<tmEf>2020-01-05 00:00</tmEf>\\r\\n\\t\\t\\t\\t\\t<wf>맑음</wf>\\r\\n\\t\\t\\t\\t\\t<tmn>-6</tmn>\\r\\n\\t\\t\\t\\t\\t<tmx>4</tmx>\\r\\n\\t\\t\\t\\t\\t<reliability></reliability>\\r\\n\\t\\t\\t\\t\\t<rnSt>0</rnSt>\\r\\n\\t\\t\\t\\t</data>\\r\\n\\r\\n\\t\\t\\t\\t\\r\\n\\t\\t\\t\\t<data>\\r\\n\\t\\t\\t\\t\\t<mode>A02</mode>\\r\\n\\t\\t\\t\\t\\t<tmEf>2020-01-05 12:00</tmEf>\\r\\n\\t\\t\\t\\t\\t<wf>구름많음</wf>\\r\\n\\t\\t\\t\\t\\t<tmn>-6</tmn>\\r\\n\\t\\t\\t\\t\\t<tmx>4</tmx>\\r\\n\\t\\t\\t\\t\\t<reliability></reliability>\\r\\n\\t\\t\\t\\t\\t<rnSt>30</rnSt>\\r\\n\\t\\t\\t\\t</data>\\r\\n\\r\\n\\t\\t\\t\\t\\r\\n\\t\\t\\t\\t<data>\\r\\n\\t\\t\\t\\t\\t<mode>A02</mode>\\r\\n\\t\\t\\t\\t\\t<tmEf>2020-01-06 00:00</tmEf>\\r\\n\\t\\t\\t\\t\\t<wf>구름많음</wf>\\r\\n\\t\\t\\t\\t\\t<tmn>-4</tmn>\\r\\n\\t\\t\\t\\t\\t<tmx>4</tmx>\\r\\n\\t\\t\\t\\t\\t<reliability></reliability>\\r\\n\\t\\t\\t\\t\\t<rnSt>30</rnSt>\\r\\n\\t\\t\\t\\t</data>\\r\\n\\r\\n\\t\\t\\t\\t\\r\\n\\t\\t\\t\\t<data>\\r\\n\\t\\t\\t\\t\\t<mode>A02</mode>\\r\\n\\t\\t\\t\\t\\t<tmEf>2020-01-06 12:00</tmEf>\\r\\n\\t\\t\\t\\t\\t<wf>흐림</wf>\\r\\n\\t\\t\\t\\t\\t<tmn>-4</tmn>\\r\\n\\t\\t\\t\\t\\t<tmx>4</tmx>\\r\\n\\t\\t\\t\\t\\t<reliability></reliability>\\r\\n\\t\\t\\t\\t\\t<rnSt>40</rnSt>\\r\\n\\t\\t\\t\\t</data>\\r\\n\\r\\n\\t\\t\\t\\t\\r\\n\\t\\t\\t\\t<data>\\r\\n\\t\\t\\t\\t\\t<mode>A02</mode>\\r\\n\\t\\t\\t\\t\\t<tmEf>2020-01-07 00:00</tmEf>\\r\\n\\t\\t\\t\\t\\t<wf>흐리고 비/눈</wf>\\r\\n\\t\\t\\t\\t\\t<tmn>-2</tmn>\\r\\n\\t\\t\\t\\t\\t<tmx>4</tmx>\\r\\n\\t\\t\\t\\t\\t<reliability></reliability>\\r\\n\\t\\t\\t\\t\\t<rnSt>70</rnSt>\\r\\n\\t\\t\\t\\t</data>\\r\\n\\r\\n\\t\\t\\t\\t\\r\\n\\t\\t\\t\\t<data>\\r\\n\\t\\t\\t\\t\\t<mode>A02</mode>\\r\\n\\t\\t\\t\\t\\t<tmEf>2020-01-07 12:00</tmEf>\\r\\n\\t\\t\\t\\t\\t<wf>흐리고 비/눈</wf>\\r\\n\\t\\t\\t\\t\\t<tmn>-2</tmn>\\r\\n\\t\\t\\t\\t\\t<tmx>4</tmx>\\r\\n\\t\\t\\t\\t\\t<reliability></reliability>\\r\\n\\t\\t\\t\\t\\t<rnSt>70</rnSt>\\r\\n\\t\\t\\t\\t</data>\\r\\n\\r\\n\\t\\t\\t\\t\\r\\n\\t\\t\\t\\t<data>\\r\\n\\t\\t\\t\\t\\t<mode>A01</mode>\\r\\n\\t\\t\\t\\t\\t<tmEf>2020-01-08 00:00</tmEf>\\r\\n\\t\\t\\t\\t\\t<wf>흐리고 비/눈</wf>\\r\\n\\t\\t\\t\\t\\t<tmn>-3</tmn>\\r\\n\\t\\t\\t\\t\\t<tmx>4</tmx>\\r\\n\\t\\t\\t\\t\\t<reliability></reliability>\\r\\n\\t\\t\\t\\t\\t<rnSt>60</rnSt>\\r\\n\\t\\t\\t\\t</data>\\r\\n\\r\\n\\t\\t\\t\\t\\r\\n\\t\\t\\t\\t<data>\\r\\n\\t\\t\\t\\t\\t<mode>A01</mode>\\r\\n\\t\\t\\t\\t\\t<tmEf>2020-01-09 00:00</tmEf>\\r\\n\\t\\t\\t\\t\\t<wf>구름많음</wf>\\r\\n\\t\\t\\t\\t\\t<tmn>-4</tmn>\\r\\n\\t\\t\\t\\t\\t<tmx>3</tmx>\\r\\n\\t\\t\\t\\t\\t<reliability></reliability>\\r\\n\\t\\t\\t\\t\\t<rnSt>40</rnSt>\\r\\n\\t\\t\\t\\t</data>\\r\\n\\r\\n\\t\\t\\t\\t\\r\\n\\t\\t\\t\\t<data>\\r\\n\\t\\t\\t\\t\\t<mode>A01</mode>\\r\\n\\t\\t\\t\\t\\t<tmEf>2020-01-10 00:00</tmEf>\\r\\n\\t\\t\\t\\t\\t<wf>구름많음</wf>\\r\\n\\t\\t\\t\\t\\t<tmn>-3</tmn>\\r\\n\\t\\t\\t\\t\\t<tmx>4</tmx>\\r\\n\\t\\t\\t\\t\\t<reliability></reliability>\\r\\n\\t\\t\\t\\t\\t<rnSt>30</rnSt>\\r\\n\\t\\t\\t\\t</data>\\r\\n\\r\\n\\r\\n\\t\\t</location>\\r\\n\\r\\n\\t\\t<location wl_ver=\"3\">\\r\\n\\t\\t\\t\\t<province>강원도영서</province>\\r\\n\\t\\t\\t\\t<city>원주</city>\\r\\n\\t\\t\\t\\t\\r\\n\\t\\t\\t\\t<data>\\r\\n\\t\\t\\t\\t\\t<mode>A02</mode>\\r\\n\\t\\t\\t\\t\\t<tmEf>2020-01-03 00:00</tmEf>\\r\\n\\t\\t\\t\\t\\t<wf>구름많음</wf>\\r\\n\\t\\t\\t\\t\\t<tmn>-3</tmn>\\r\\n\\t\\t\\t\\t\\t<tmx>5</tmx>\\r\\n\\t\\t\\t\\t\\t<reliability></reliability>\\r\\n\\t\\t\\t\\t\\t<rnSt>30</rnSt>\\r\\n\\t\\t\\t\\t</data>\\r\\n\\r\\n\\t\\t\\t\\t\\r\\n\\t\\t\\t\\t<data>\\r\\n\\t\\t\\t\\t\\t<mode>A02</mode>\\r\\n\\t\\t\\t\\t\\t<tmEf>2020-01-03 12:00</tmEf>\\r\\n\\t\\t\\t\\t\\t<wf>맑음</wf>\\r\\n\\t\\t\\t\\t\\t<tmn>-3</tmn>\\r\\n\\t\\t\\t\\t\\t<tmx>5</tmx>\\r\\n\\t\\t\\t\\t\\t<reliability></reliability>\\r\\n\\t\\t\\t\\t\\t<rnSt>10</rnSt>\\r\\n\\t\\t\\t\\t</data>\\r\\n\\r\\n\\t\\t\\t\\t\\r\\n\\t\\t\\t\\t<data>\\r\\n\\t\\t\\t\\t\\t<mode>A02</mode>\\r\\n\\t\\t\\t\\t\\t<tmEf>2020-01-04 00:00</tmEf>\\r\\n\\t\\t\\t\\t\\t<wf>맑음</wf>\\r\\n\\t\\t\\t\\t\\t<tmn>-2</tmn>\\r\\n\\t\\t\\t\\t\\t<tmx>5</tmx>\\r\\n\\t\\t\\t\\t\\t<reliability></reliability>\\r\\n\\t\\t\\t\\t\\t<rnSt>10</rnSt>\\r\\n\\t\\t\\t\\t</data>\\r\\n\\r\\n\\t\\t\\t\\t\\r\\n\\t\\t\\t\\t<data>\\r\\n\\t\\t\\t\\t\\t<mode>A02</mode>\\r\\n\\t\\t\\t\\t\\t<tmEf>2020-01-04 12:00</tmEf>\\r\\n\\t\\t\\t\\t\\t<wf>맑음</wf>\\r\\n\\t\\t\\t\\t\\t<tmn>-2</tmn>\\r\\n\\t\\t\\t\\t\\t<tmx>5</tmx>\\r\\n\\t\\t\\t\\t\\t<reliability></reliability>\\r\\n\\t\\t\\t\\t\\t<rnSt>0</rnSt>\\r\\n\\t\\t\\t\\t</data>\\r\\n\\r\\n\\t\\t\\t\\t\\r\\n\\t\\t\\t\\t<data>\\r\\n\\t\\t\\t\\t\\t<mode>A02</mode>\\r\\n\\t\\t\\t\\t\\t<tmEf>2020-01-05 00:00</tmEf>\\r\\n\\t\\t\\t\\t\\t<wf>맑음</wf>\\r\\n\\t\\t\\t\\t\\t<tmn>-5</tmn>\\r\\n\\t\\t\\t\\t\\t<tmx>5</tmx>\\r\\n\\t\\t\\t\\t\\t<reliability></reliability>\\r\\n\\t\\t\\t\\t\\t<rnSt>0</rnSt>\\r\\n\\t\\t\\t\\t</data>\\r\\n\\r\\n\\t\\t\\t\\t\\r\\n\\t\\t\\t\\t<data>\\r\\n\\t\\t\\t\\t\\t<mode>A02</mode>\\r\\n\\t\\t\\t\\t\\t<tmEf>2020-01-05 12:00</tmEf>\\r\\n\\t\\t\\t\\t\\t<wf>구름많음</wf>\\r\\n\\t\\t\\t\\t\\t<tmn>-5</tmn>\\r\\n\\t\\t\\t\\t\\t<tmx>5</tmx>\\r\\n\\t\\t\\t\\t\\t<reliability></reliability>\\r\\n\\t\\t\\t\\t\\t<rnSt>30</rnSt>\\r\\n\\t\\t\\t\\t</data>\\r\\n\\r\\n\\t\\t\\t\\t\\r\\n\\t\\t\\t\\t<data>\\r\\n\\t\\t\\t\\t\\t<mode>A02</mode>\\r\\n\\t\\t\\t\\t\\t<tmEf>2020-01-06 00:00</tmEf>\\r\\n\\t\\t\\t\\t\\t<wf>구름많음</wf>\\r\\n\\t\\t\\t\\t\\t<tmn>-3</tmn>\\r\\n\\t\\t\\t\\t\\t<tmx>5</tmx>\\r\\n\\t\\t\\t\\t\\t<reliability></reliability>\\r\\n\\t\\t\\t\\t\\t<rnSt>30</rnSt>\\r\\n\\t\\t\\t\\t</data>\\r\\n\\r\\n\\t\\t\\t\\t\\r\\n\\t\\t\\t\\t<data>\\r\\n\\t\\t\\t\\t\\t<mode>A02</mode>\\r\\n\\t\\t\\t\\t\\t<tmEf>2020-01-06 12:00</tmEf>\\r\\n\\t\\t\\t\\t\\t<wf>흐림</wf>\\r\\n\\t\\t\\t\\t\\t<tmn>-3</tmn>\\r\\n\\t\\t\\t\\t\\t<tmx>5</tmx>\\r\\n\\t\\t\\t\\t\\t<reliability></reliability>\\r\\n\\t\\t\\t\\t\\t<rnSt>40</rnSt>\\r\\n\\t\\t\\t\\t</data>\\r\\n\\r\\n\\t\\t\\t\\t\\r\\n\\t\\t\\t\\t<data>\\r\\n\\t\\t\\t\\t\\t<mode>A02</mode>\\r\\n\\t\\t\\t\\t\\t<tmEf>2020-01-07 00:00</tmEf>\\r\\n\\t\\t\\t\\t\\t<wf>흐리고 비/눈</wf>\\r\\n\\t\\t\\t\\t\\t<tmn>-1</tmn>\\r\\n\\t\\t\\t\\t\\t<tmx>5</tmx>\\r\\n\\t\\t\\t\\t\\t<reliability></reliability>\\r\\n\\t\\t\\t\\t\\t<rnSt>70</rnSt>\\r\\n\\t\\t\\t\\t</data>\\r\\n\\r\\n\\t\\t\\t\\t\\r\\n\\t\\t\\t\\t<data>\\r\\n\\t\\t\\t\\t\\t<mode>A02</mode>\\r\\n\\t\\t\\t\\t\\t<tmEf>2020-01-07 12:00</tmEf>\\r\\n\\t\\t\\t\\t\\t<wf>흐리고 비/눈</wf>\\r\\n\\t\\t\\t\\t\\t<tmn>-1</tmn>\\r\\n\\t\\t\\t\\t\\t<tmx>5</tmx>\\r\\n\\t\\t\\t\\t\\t<reliability></reliability>\\r\\n\\t\\t\\t\\t\\t<rnSt>70</rnSt>\\r\\n\\t\\t\\t\\t</data>\\r\\n\\r\\n\\t\\t\\t\\t\\r\\n\\t\\t\\t\\t<data>\\r\\n\\t\\t\\t\\t\\t<mode>A01</mode>\\r\\n\\t\\t\\t\\t\\t<tmEf>2020-01-08 00:00</tmEf>\\r\\n\\t\\t\\t\\t\\t<wf>흐리고 비/눈</wf>\\r\\n\\t\\t\\t\\t\\t<tmn>-2</tmn>\\r\\n\\t\\t\\t\\t\\t<tmx>5</tmx>\\r\\n\\t\\t\\t\\t\\t<reliability></reliability>\\r\\n\\t\\t\\t\\t\\t<rnSt>60</rnSt>\\r\\n\\t\\t\\t\\t</data>\\r\\n\\r\\n\\t\\t\\t\\t\\r\\n\\t\\t\\t\\t<data>\\r\\n\\t\\t\\t\\t\\t<mode>A01</mode>\\r\\n\\t\\t\\t\\t\\t<tmEf>2020-01-09 00:00</tmEf>\\r\\n\\t\\t\\t\\t\\t<wf>구름많음</wf>\\r\\n\\t\\t\\t\\t\\t<tmn>-3</tmn>\\r\\n\\t\\t\\t\\t\\t<tmx>4</tmx>\\r\\n\\t\\t\\t\\t\\t<reliability></reliability>\\r\\n\\t\\t\\t\\t\\t<rnSt>40</rnSt>\\r\\n\\t\\t\\t\\t</data>\\r\\n\\r\\n\\t\\t\\t\\t\\r\\n\\t\\t\\t\\t<data>\\r\\n\\t\\t\\t\\t\\t<mode>A01</mode>\\r\\n\\t\\t\\t\\t\\t<tmEf>2020-01-10 00:00</tmEf>\\r\\n\\t\\t\\t\\t\\t<wf>구름많음</wf>\\r\\n\\t\\t\\t\\t\\t<tmn>-2</tmn>\\r\\n\\t\\t\\t\\t\\t<tmx>4</tmx>\\r\\n\\t\\t\\t\\t\\t<reliability></reliability>\\r\\n\\t\\t\\t\\t\\t<rnSt>30</rnSt>\\r\\n\\t\\t\\t\\t</data>\\r\\n\\r\\n\\r\\n\\t\\t</location>\\r\\n\\r\\n\\r\\n\\r\\n\\t\\t<location wl_ver=\"3\">\\r\\n\\t\\t\\t\\t<province>강원도영동</province>\\r\\n\\t\\t\\t\\t<city>강릉</city>\\r\\n\\t\\t\\t\\t\\r\\n\\t\\t\\t\\t<data>\\r\\n\\t\\t\\t\\t\\t<mode>A02</mode>\\r\\n\\t\\t\\t\\t\\t<tmEf>2020-01-03 00:00</tmEf>\\r\\n\\t\\t\\t\\t\\t<wf>구름많음</wf>\\r\\n\\t\\t\\t\\t\\t<tmn>2</tmn>\\r\\n\\t\\t\\t\\t\\t<tmx>11</tmx>\\r\\n\\t\\t\\t\\t\\t<reliability></reliability>\\r\\n\\t\\t\\t\\t\\t<rnSt>30</rnSt>\\r\\n\\t\\t\\t\\t</data>\\r\\n\\r\\n\\t\\t\\t\\t\\r\\n\\t\\t\\t\\t<data>\\r\\n\\t\\t\\t\\t\\t<mode>A02</mode>\\r\\n\\t\\t\\t\\t\\t<tmEf>2020-01-03 12:00</tmEf>\\r\\n\\t\\t\\t\\t\\t<wf>맑음</wf>\\r\\n\\t\\t\\t\\t\\t<tmn>2</tmn>\\r\\n\\t\\t\\t\\t\\t<tmx>11</tmx>\\r\\n\\t\\t\\t\\t\\t<reliability></reliability>\\r\\n\\t\\t\\t\\t\\t<rnSt>10</rnSt>\\r\\n\\t\\t\\t\\t</data>\\r\\n\\r\\n\\t\\t\\t\\t\\r\\n\\t\\t\\t\\t<data>\\r\\n\\t\\t\\t\\t\\t<mode>A02</mode>\\r\\n\\t\\t\\t\\t\\t<tmEf>2020-01-04 00:00</tmEf>\\r\\n\\t\\t\\t\\t\\t<wf>맑음</wf>\\r\\n\\t\\t\\t\\t\\t<tmn>2</tmn>\\r\\n\\t\\t\\t\\t\\t<tmx>9</tmx>\\r\\n\\t\\t\\t\\t\\t<reliability></reliability>\\r\\n\\t\\t\\t\\t\\t<rnSt>10</rnSt>\\r\\n\\t\\t\\t\\t</data>\\r\\n\\r\\n\\t\\t\\t\\t\\r\\n\\t\\t\\t\\t<data>\\r\\n\\t\\t\\t\\t\\t<mode>A02</mode>\\r\\n\\t\\t\\t\\t\\t<tmEf>2020-01-04 12:00</tmEf>\\r\\n\\t\\t\\t\\t\\t<wf>맑음</wf>\\r\\n\\t\\t\\t\\t\\t<tmn>2</tmn>\\r\\n\\t\\t\\t\\t\\t<tmx>9</tmx>\\r\\n\\t\\t\\t\\t\\t<reliability></reliability>\\r\\n\\t\\t\\t\\t\\t<rnSt>0</rnSt>\\r\\n\\t\\t\\t\\t</data>\\r\\n\\r\\n\\t\\t\\t\\t\\r\\n\\t\\t\\t\\t<data>\\r\\n\\t\\t\\t\\t\\t<mode>A02</mode>\\r\\n\\t\\t\\t\\t\\t<tmEf>2020-01-05 00:00</tmEf>\\r\\n\\t\\t\\t\\t\\t<wf>맑음</wf>\\r\\n\\t\\t\\t\\t\\t<tmn>0</tmn>\\r\\n\\t\\t\\t\\t\\t<tmx>9</tmx>\\r\\n\\t\\t\\t\\t\\t<reliability></reliability>\\r\\n\\t\\t\\t\\t\\t<rnSt>0</rnSt>\\r\\n\\t\\t\\t\\t</data>\\r\\n\\r\\n\\t\\t\\t\\t\\r\\n\\t\\t\\t\\t<data>\\r\\n\\t\\t\\t\\t\\t<mode>A02</mode>\\r\\n\\t\\t\\t\\t\\t<tmEf>2020-01-05 12:00</tmEf>\\r\\n\\t\\t\\t\\t\\t<wf>구름많음</wf>\\r\\n\\t\\t\\t\\t\\t<tmn>0</tmn>\\r\\n\\t\\t\\t\\t\\t<tmx>9</tmx>\\r\\n\\t\\t\\t\\t\\t<reliability></reliability>\\r\\n\\t\\t\\t\\t\\t<rnSt>30</rnSt>\\r\\n\\t\\t\\t\\t</data>\\r\\n\\r\\n\\t\\t\\t\\t\\r\\n\\t\\t\\t\\t<data>\\r\\n\\t\\t\\t\\t\\t<mode>A02</mode>\\r\\n\\t\\t\\t\\t\\t<tmEf>2020-01-06 00:00</tmEf>\\r\\n\\t\\t\\t\\t\\t<wf>구름많음</wf>\\r\\n\\t\\t\\t\\t\\t<tmn>2</tmn>\\r\\n\\t\\t\\t\\t\\t<tmx>10</tmx>\\r\\n\\t\\t\\t\\t\\t<reliability></reliability>\\r\\n\\t\\t\\t\\t\\t<rnSt>30</rnSt>\\r\\n\\t\\t\\t\\t</data>\\r\\n\\r\\n\\t\\t\\t\\t\\r\\n\\t\\t\\t\\t<data>\\r\\n\\t\\t\\t\\t\\t<mode>A02</mode>\\r\\n\\t\\t\\t\\t\\t<tmEf>2020-01-06 12:00</tmEf>\\r\\n\\t\\t\\t\\t\\t<wf>구름많음</wf>\\r\\n\\t\\t\\t\\t\\t<tmn>2</tmn>\\r\\n\\t\\t\\t\\t\\t<tmx>10</tmx>\\r\\n\\t\\t\\t\\t\\t<reliability></reliability>\\r\\n\\t\\t\\t\\t\\t<rnSt>40</rnSt>\\r\\n\\t\\t\\t\\t</data>\\r\\n\\r\\n\\t\\t\\t\\t\\r\\n\\t\\t\\t\\t<data>\\r\\n\\t\\t\\t\\t\\t<mode>A02</mode>\\r\\n\\t\\t\\t\\t\\t<tmEf>2020-01-07 00:00</tmEf>\\r\\n\\t\\t\\t\\t\\t<wf>흐리고 비</wf>\\r\\n\\t\\t\\t\\t\\t<tmn>4</tmn>\\r\\n\\t\\t\\t\\t\\t<tmx>8</tmx>\\r\\n\\t\\t\\t\\t\\t<reliability></reliability>\\r\\n\\t\\t\\t\\t\\t<rnSt>80</rnSt>\\r\\n\\t\\t\\t\\t</data>\\r\\n\\r\\n\\t\\t\\t\\t\\r\\n\\t\\t\\t\\t<data>\\r\\n\\t\\t\\t\\t\\t<mode>A02</mode>\\r\\n\\t\\t\\t\\t\\t<tmEf>2020-01-07 12:00</tmEf>\\r\\n\\t\\t\\t\\t\\t<wf>흐리고 비</wf>\\r\\n\\t\\t\\t\\t\\t<tmn>4</tmn>\\r\\n\\t\\t\\t\\t\\t<tmx>8</tmx>\\r\\n\\t\\t\\t\\t\\t<reliability></reliability>\\r\\n\\t\\t\\t\\t\\t<rnSt>80</rnSt>\\r\\n\\t\\t\\t\\t</data>\\r\\n\\r\\n\\t\\t\\t\\t\\r\\n\\t\\t\\t\\t<data>\\r\\n\\t\\t\\t\\t\\t<mode>A01</mode>\\r\\n\\t\\t\\t\\t\\t<tmEf>2020-01-08 00:00</tmEf>\\r\\n\\t\\t\\t\\t\\t<wf>흐리고 비</wf>\\r\\n\\t\\t\\t\\t\\t<tmn>2</tmn>\\r\\n\\t\\t\\t\\t\\t<tmx>7</tmx>\\r\\n\\t\\t\\t\\t\\t<reliability></reliability>\\r\\n\\t\\t\\t\\t\\t<rnSt>70</rnSt>\\r\\n\\t\\t\\t\\t</data>\\r\\n\\r\\n\\t\\t\\t\\t\\r\\n\\t\\t\\t\\t<data>\\r\\n\\t\\t\\t\\t\\t<mode>A01</mode>\\r\\n\\t\\t\\t\\t\\t<tmEf>2020-01-09 00:00</tmEf>\\r\\n\\t\\t\\t\\t\\t<wf>흐리고 비/눈</wf>\\r\\n\\t\\t\\t\\t\\t<tmn>1</tmn>\\r\\n\\t\\t\\t\\t\\t<tmx>7</tmx>\\r\\n\\t\\t\\t\\t\\t<reliability></reliability>\\r\\n\\t\\t\\t\\t\\t<rnSt>60</rnSt>\\r\\n\\t\\t\\t\\t</data>\\r\\n\\r\\n\\t\\t\\t\\t\\r\\n\\t\\t\\t\\t<data>\\r\\n\\t\\t\\t\\t\\t<mode>A01</mode>\\r\\n\\t\\t\\t\\t\\t<tmEf>2020-01-10 00:00</tmEf>\\r\\n\\t\\t\\t\\t\\t<wf>구름많음</wf>\\r\\n\\t\\t\\t\\t\\t<tmn>1</tmn>\\r\\n\\t\\t\\t\\t\\t<tmx>9</tmx>\\r\\n\\t\\t\\t\\t\\t<reliability></reliability>\\r\\n\\t\\t\\t\\t\\t<rnSt>30</rnSt>\\r\\n\\t\\t\\t\\t</data>\\r\\n\\r\\n\\r\\n\\t\\t</location>\\r\\n\\r\\n\\r\\n\\r\\n\\t\\t<location wl_ver=\"3\">\\r\\n\\t\\t\\t\\t<province>대전ㆍ세종ㆍ충청남도</province>\\r\\n\\t\\t\\t\\t<city>대전</city>\\r\\n\\t\\t\\t\\t\\r\\n\\t\\t\\t\\t<data>\\r\\n\\t\\t\\t\\t\\t<mode>A02</mode>\\r\\n\\t\\t\\t\\t\\t<tmEf>2020-01-03 00:00</tmEf>\\r\\n\\t\\t\\t\\t\\t<wf>구름많음</wf>\\r\\n\\t\\t\\t\\t\\t<tmn>-2</tmn>\\r\\n\\t\\t\\t\\t\\t<tmx>8</tmx>\\r\\n\\t\\t\\t\\t\\t<reliability></reliability>\\r\\n\\t\\t\\t\\t\\t<rnSt>30</rnSt>\\r\\n\\t\\t\\t\\t</data>\\r\\n\\r\\n\\t\\t\\t\\t\\r\\n\\t\\t\\t\\t<data>\\r\\n\\t\\t\\t\\t\\t<mode>A02</mode>\\r\\n\\t\\t\\t\\t\\t<tmEf>2020-01-03 12:00</tmEf>\\r\\n\\t\\t\\t\\t\\t<wf>구름많음</wf>\\r\\n\\t\\t\\t\\t\\t<tmn>-2</tmn>\\r\\n\\t\\t\\t\\t\\t<tmx>8</tmx>\\r\\n\\t\\t\\t\\t\\t<reliability></reliability>\\r\\n\\t\\t\\t\\t\\t<rnSt>30</rnSt>\\r\\n\\t\\t\\t\\t</data>\\r\\n\\r\\n\\t\\t\\t\\t\\r\\n\\t\\t\\t\\t<data>\\r\\n\\t\\t\\t\\t\\t<mode>A02</mode>\\r\\n\\t\\t\\t\\t\\t<tmEf>2020-01-04 00:00</tmEf>\\r\\n\\t\\t\\t\\t\\t<wf>맑음</wf>\\r\\n\\t\\t\\t\\t\\t<tmn>-1</tmn>\\r\\n\\t\\t\\t\\t\\t<tmx>8</tmx>\\r\\n\\t\\t\\t\\t\\t<reliability></reliability>\\r\\n\\t\\t\\t\\t\\t<rnSt>10</rnSt>\\r\\n\\t\\t\\t\\t</data>\\r\\n\\r\\n\\t\\t\\t\\t\\r\\n\\t\\t\\t\\t<data>\\r\\n\\t\\t\\t\\t\\t<mode>A02</mode>\\r\\n\\t\\t\\t\\t\\t<tmEf>2020-01-04 12:00</tmEf>\\r\\n\\t\\t\\t\\t\\t<wf>맑음</wf>\\r\\n\\t\\t\\t\\t\\t<tmn>-1</tmn>\\r\\n\\t\\t\\t\\t\\t<tmx>8</tmx>\\r\\n\\t\\t\\t\\t\\t<reliability></reliability>\\r\\n\\t\\t\\t\\t\\t<rnSt>0</rnSt>\\r\\n\\t\\t\\t\\t</data>\\r\\n\\r\\n\\t\\t\\t\\t\\r\\n\\t\\t\\t\\t<data>\\r\\n\\t\\t\\t\\t\\t<mode>A02</mode>\\r\\n\\t\\t\\t\\t\\t<tmEf>2020-01-05 00:00</tmEf>\\r\\n\\t\\t\\t\\t\\t<wf>맑음</wf>\\r\\n\\t\\t\\t\\t\\t<tmn>-4</tmn>\\r\\n\\t\\t\\t\\t\\t<tmx>6</tmx>\\r\\n\\t\\t\\t\\t\\t<reliability></reliability>\\r\\n\\t\\t\\t\\t\\t<rnSt>0</rnSt>\\r\\n\\t\\t\\t\\t</data>\\r\\n\\r\\n\\t\\t\\t\\t\\r\\n\\t\\t\\t\\t<data>\\r\\n\\t\\t\\t\\t\\t<mode>A02</mode>\\r\\n\\t\\t\\t\\t\\t<tmEf>2020-01-05 12:00</tmEf>\\r\\n\\t\\t\\t\\t\\t<wf>구름많음</wf>\\r\\n\\t\\t\\t\\t\\t<tmn>-4</tmn>\\r\\n\\t\\t\\t\\t\\t<tmx>6</tmx>\\r\\n\\t\\t\\t\\t\\t<reliability></reliability>\\r\\n\\t\\t\\t\\t\\t<rnSt>30</rnSt>\\r\\n\\t\\t\\t\\t</data>\\r\\n\\r\\n\\t\\t\\t\\t\\r\\n\\t\\t\\t\\t<data>\\r\\n\\t\\t\\t\\t\\t<mode>A02</mode>\\r\\n\\t\\t\\t\\t\\t<tmEf>2020-01-06 00:00</tmEf>\\r\\n\\t\\t\\t\\t\\t<wf>구름많음</wf>\\r\\n\\t\\t\\t\\t\\t<tmn>-1</tmn>\\r\\n\\t\\t\\t\\t\\t<tmx>7</tmx>\\r\\n\\t\\t\\t\\t\\t<reliability></reliability>\\r\\n\\t\\t\\t\\t\\t<rnSt>30</rnSt>\\r\\n\\t\\t\\t\\t</data>\\r\\n\\r\\n\\t\\t\\t\\t\\r\\n\\t\\t\\t\\t<data>\\r\\n\\t\\t\\t\\t\\t<mode>A02</mode>\\r\\n\\t\\t\\t\\t\\t<tmEf>2020-01-06 12:00</tmEf>\\r\\n\\t\\t\\t\\t\\t<wf>흐리고 비</wf>\\r\\n\\t\\t\\t\\t\\t<tmn>-1</tmn>\\r\\n\\t\\t\\t\\t\\t<tmx>7</tmx>\\r\\n\\t\\t\\t\\t\\t<reliability></reliability>\\r\\n\\t\\t\\t\\t\\t<rnSt>60</rnSt>\\r\\n\\t\\t\\t\\t</data>\\r\\n\\r\\n\\t\\t\\t\\t\\r\\n\\t\\t\\t\\t<data>\\r\\n\\t\\t\\t\\t\\t<mode>A02</mode>\\r\\n\\t\\t\\t\\t\\t<tmEf>2020-01-07 00:00</tmEf>\\r\\n\\t\\t\\t\\t\\t<wf>흐리고 비</wf>\\r\\n\\t\\t\\t\\t\\t<tmn>1</tmn>\\r\\n\\t\\t\\t\\t\\t<tmx>8</tmx>\\r\\n\\t\\t\\t\\t\\t<reliability></reliability>\\r\\n\\t\\t\\t\\t\\t<rnSt>70</rnSt>\\r\\n\\t\\t\\t\\t</data>\\r\\n\\r\\n\\t\\t\\t\\t\\r\\n\\t\\t\\t\\t<data>\\r\\n\\t\\t\\t\\t\\t<mode>A02</mode>\\r\\n\\t\\t\\t\\t\\t<tmEf>2020-01-07 12:00</tmEf>\\r\\n\\t\\t\\t\\t\\t<wf>흐리고 비</wf>\\r\\n\\t\\t\\t\\t\\t<tmn>1</tmn>\\r\\n\\t\\t\\t\\t\\t<tmx>8</tmx>\\r\\n\\t\\t\\t\\t\\t<reliability></reliability>\\r\\n\\t\\t\\t\\t\\t<rnSt>70</rnSt>\\r\\n\\t\\t\\t\\t</data>\\r\\n\\r\\n\\t\\t\\t\\t\\r\\n\\t\\t\\t\\t<data>\\r\\n\\t\\t\\t\\t\\t<mode>A01</mode>\\r\\n\\t\\t\\t\\t\\t<tmEf>2020-01-08 00:00</tmEf>\\r\\n\\t\\t\\t\\t\\t<wf>흐리고 비</wf>\\r\\n\\t\\t\\t\\t\\t<tmn>3</tmn>\\r\\n\\t\\t\\t\\t\\t<tmx>8</tmx>\\r\\n\\t\\t\\t\\t\\t<reliability></reliability>\\r\\n\\t\\t\\t\\t\\t<rnSt>70</rnSt>\\r\\n\\t\\t\\t\\t</data>\\r\\n\\r\\n\\t\\t\\t\\t\\r\\n\\t\\t\\t\\t<data>\\r\\n\\t\\t\\t\\t\\t<mode>A01</mode>\\r\\n\\t\\t\\t\\t\\t<tmEf>2020-01-09 00:00</tmEf>\\r\\n\\t\\t\\t\\t\\t<wf>구름많음</wf>\\r\\n\\t\\t\\t\\t\\t<tmn>-1</tmn>\\r\\n\\t\\t\\t\\t\\t<tmx>7</tmx>\\r\\n\\t\\t\\t\\t\\t<reliability></reliability>\\r\\n\\t\\t\\t\\t\\t<rnSt>40</rnSt>\\r\\n\\t\\t\\t\\t</data>\\r\\n\\r\\n\\t\\t\\t\\t\\r\\n\\t\\t\\t\\t<data>\\r\\n\\t\\t\\t\\t\\t<mode>A01</mode>\\r\\n\\t\\t\\t\\t\\t<tmEf>2020-01-10 00:00</tmEf>\\r\\n\\t\\t\\t\\t\\t<wf>구름많음</wf>\\r\\n\\t\\t\\t\\t\\t<tmn>0</tmn>\\r\\n\\t\\t\\t\\t\\t<tmx>7</tmx>\\r\\n\\t\\t\\t\\t\\t<reliability></reliability>\\r\\n\\t\\t\\t\\t\\t<rnSt>30</rnSt>\\r\\n\\t\\t\\t\\t</data>\\r\\n\\r\\n\\r\\n\\t\\t</location>\\r\\n\\r\\n\\t\\t<location wl_ver=\"3\">\\r\\n\\t\\t\\t\\t<province>대전ㆍ세종ㆍ충청남도</province>\\r\\n\\t\\t\\t\\t<city>세종</city>\\r\\n\\t\\t\\t\\t\\r\\n\\t\\t\\t\\t<data>\\r\\n\\t\\t\\t\\t\\t<mode>A02</mode>\\r\\n\\t\\t\\t\\t\\t<tmEf>2020-01-03 00:00</tmEf>\\r\\n\\t\\t\\t\\t\\t<wf>구름많음</wf>\\r\\n\\t\\t\\t\\t\\t<tmn>-5</tmn>\\r\\n\\t\\t\\t\\t\\t<tmx>8</tmx>\\r\\n\\t\\t\\t\\t\\t<reliability></reliability>\\r\\n\\t\\t\\t\\t\\t<rnSt>30</rnSt>\\r\\n\\t\\t\\t\\t</data>\\r\\n\\r\\n\\t\\t\\t\\t\\r\\n\\t\\t\\t\\t<data>\\r\\n\\t\\t\\t\\t\\t<mode>A02</mode>\\r\\n\\t\\t\\t\\t\\t<tmEf>2020-01-03 12:00</tmEf>\\r\\n\\t\\t\\t\\t\\t<wf>구름많음</wf>\\r\\n\\t\\t\\t\\t\\t<tmn>-5</tmn>\\r\\n\\t\\t\\t\\t\\t<tmx>8</tmx>\\r\\n\\t\\t\\t\\t\\t<reliability></reliability>\\r\\n\\t\\t\\t\\t\\t<rnSt>30</rnSt>\\r\\n\\t\\t\\t\\t</data>\\r\\n\\r\\n\\t\\t\\t\\t\\r\\n\\t\\t\\t\\t<data>\\r\\n\\t\\t\\t\\t\\t<mode>A02</mode>\\r\\n\\t\\t\\t\\t\\t<tmEf>2020-01-04 00:00</tmEf>\\r\\n\\t\\t\\t\\t\\t<wf>맑음</wf>\\r\\n\\t\\t\\t\\t\\t<tmn>-3</tmn>\\r\\n\\t\\t\\t\\t\\t<tmx>7</tmx>\\r\\n\\t\\t\\t\\t\\t<reliability></reliability>\\r\\n\\t\\t\\t\\t\\t<rnSt>10</rnSt>\\r\\n\\t\\t\\t\\t</data>\\r\\n\\r\\n\\t\\t\\t\\t\\r\\n\\t\\t\\t\\t<data>\\r\\n\\t\\t\\t\\t\\t<mode>A02</mode>\\r\\n\\t\\t\\t\\t\\t<tmEf>2020-01-04 12:00</tmEf>\\r\\n\\t\\t\\t\\t\\t<wf>맑음</wf>\\r\\n\\t\\t\\t\\t\\t<tmn>-3</tmn>\\r\\n\\t\\t\\t\\t\\t<tmx>7</tmx>\\r\\n\\t\\t\\t\\t\\t<reliability></reliability>\\r\\n\\t\\t\\t\\t\\t<rnSt>0</rnSt>\\r\\n\\t\\t\\t\\t</data>\\r\\n\\r\\n\\t\\t\\t\\t\\r\\n\\t\\t\\t\\t<data>\\r\\n\\t\\t\\t\\t\\t<mode>A02</mode>\\r\\n\\t\\t\\t\\t\\t<tmEf>2020-01-05 00:00</tmEf>\\r\\n\\t\\t\\t\\t\\t<wf>맑음</wf>\\r\\n\\t\\t\\t\\t\\t<tmn>-5</tmn>\\r\\n\\t\\t\\t\\t\\t<tmx>5</tmx>\\r\\n\\t\\t\\t\\t\\t<reliability></reliability>\\r\\n\\t\\t\\t\\t\\t<rnSt>0</rnSt>\\r\\n\\t\\t\\t\\t</data>\\r\\n\\r\\n\\t\\t\\t\\t\\r\\n\\t\\t\\t\\t<data>\\r\\n\\t\\t\\t\\t\\t<mode>A02</mode>\\r\\n\\t\\t\\t\\t\\t<tmEf>2020-01-05 12:00</tmEf>\\r\\n\\t\\t\\t\\t\\t<wf>구름많음</wf>\\r\\n\\t\\t\\t\\t\\t<tmn>-5</tmn>\\r\\n\\t\\t\\t\\t\\t<tmx>5</tmx>\\r\\n\\t\\t\\t\\t\\t<reliability></reliability>\\r\\n\\t\\t\\t\\t\\t<rnSt>30</rnSt>\\r\\n\\t\\t\\t\\t</data>\\r\\n\\r\\n\\t\\t\\t\\t\\r\\n\\t\\t\\t\\t<data>\\r\\n\\t\\t\\t\\t\\t<mode>A02</mode>\\r\\n\\t\\t\\t\\t\\t<tmEf>2020-01-06 00:00</tmEf>\\r\\n\\t\\t\\t\\t\\t<wf>구름많음</wf>\\r\\n\\t\\t\\t\\t\\t<tmn>-2</tmn>\\r\\n\\t\\t\\t\\t\\t<tmx>6</tmx>\\r\\n\\t\\t\\t\\t\\t<reliability></reliability>\\r\\n\\t\\t\\t\\t\\t<rnSt>30</rnSt>\\r\\n\\t\\t\\t\\t</data>\\r\\n\\r\\n\\t\\t\\t\\t\\r\\n\\t\\t\\t\\t<data>\\r\\n\\t\\t\\t\\t\\t<mode>A02</mode>\\r\\n\\t\\t\\t\\t\\t<tmEf>2020-01-06 12:00</tmEf>\\r\\n\\t\\t\\t\\t\\t<wf>흐리고 비</wf>\\r\\n\\t\\t\\t\\t\\t<tmn>-2</tmn>\\r\\n\\t\\t\\t\\t\\t<tmx>6</tmx>\\r\\n\\t\\t\\t\\t\\t<reliability></reliability>\\r\\n\\t\\t\\t\\t\\t<rnSt>60</rnSt>\\r\\n\\t\\t\\t\\t</data>\\r\\n\\r\\n\\t\\t\\t\\t\\r\\n\\t\\t\\t\\t<data>\\r\\n\\t\\t\\t\\t\\t<mode>A02</mode>\\r\\n\\t\\t\\t\\t\\t<tmEf>2020-01-07 00:00</tmEf>\\r\\n\\t\\t\\t\\t\\t<wf>흐리고 비</wf>\\r\\n\\t\\t\\t\\t\\t<tmn>1</tmn>\\r\\n\\t\\t\\t\\t\\t<tmx>6</tmx>\\r\\n\\t\\t\\t\\t\\t<reliability></reliability>\\r\\n\\t\\t\\t\\t\\t<rnSt>70</rnSt>\\r\\n\\t\\t\\t\\t</data>\\r\\n\\r\\n\\t\\t\\t\\t\\r\\n\\t\\t\\t\\t<data>\\r\\n\\t\\t\\t\\t\\t<mode>A02</mode>\\r\\n\\t\\t\\t\\t\\t<tmEf>2020-01-07 12:00</tmEf>\\r\\n\\t\\t\\t\\t\\t<wf>흐리고 비</wf>\\r\\n\\t\\t\\t\\t\\t<tmn>1</tmn>\\r\\n\\t\\t\\t\\t\\t<tmx>6</tmx>\\r\\n\\t\\t\\t\\t\\t<reliability></reliability>\\r\\n\\t\\t\\t\\t\\t<rnSt>70</rnSt>\\r\\n\\t\\t\\t\\t</data>\\r\\n\\r\\n\\t\\t\\t\\t\\r\\n\\t\\t\\t\\t<data>\\r\\n\\t\\t\\t\\t\\t<mode>A01</mode>\\r\\n\\t\\t\\t\\t\\t<tmEf>2020-01-08 00:00</tmEf>\\r\\n\\t\\t\\t\\t\\t<wf>흐리고 비</wf>\\r\\n\\t\\t\\t\\t\\t<tmn>1</tmn>\\r\\n\\t\\t\\t\\t\\t<tmx>7</tmx>\\r\\n\\t\\t\\t\\t\\t<reliability></reliability>\\r\\n\\t\\t\\t\\t\\t<rnSt>70</rnSt>\\r\\n\\t\\t\\t\\t</data>\\r\\n\\r\\n\\t\\t\\t\\t\\r\\n\\t\\t\\t\\t<data>\\r\\n\\t\\t\\t\\t\\t<mode>A01</mode>\\r\\n\\t\\t\\t\\t\\t<tmEf>2020-01-09 00:00</tmEf>\\r\\n\\t\\t\\t\\t\\t<wf>구름많음</wf>\\r\\n\\t\\t\\t\\t\\t<tmn>-4</tmn>\\r\\n\\t\\t\\t\\t\\t<tmx>5</tmx>\\r\\n\\t\\t\\t\\t\\t<reliability></reliability>\\r\\n\\t\\t\\t\\t\\t<rnSt>40</rnSt>\\r\\n\\t\\t\\t\\t</data>\\r\\n\\r\\n\\t\\t\\t\\t\\r\\n\\t\\t\\t\\t<data>\\r\\n\\t\\t\\t\\t\\t<mode>A01</mode>\\r\\n\\t\\t\\t\\t\\t<tmEf>2020-01-10 00:00</tmEf>\\r\\n\\t\\t\\t\\t\\t<wf>구름많음</wf>\\r\\n\\t\\t\\t\\t\\t<tmn>-4</tmn>\\r\\n\\t\\t\\t\\t\\t<tmx>6</tmx>\\r\\n\\t\\t\\t\\t\\t<reliability></reliability>\\r\\n\\t\\t\\t\\t\\t<rnSt>30</rnSt>\\r\\n\\t\\t\\t\\t</data>\\r\\n\\r\\n\\r\\n\\t\\t</location>\\r\\n\\r\\n\\t\\t<location wl_ver=\"3\">\\r\\n\\t\\t\\t\\t<province>대전ㆍ세종ㆍ충청남도</province>\\r\\n\\t\\t\\t\\t<city>홍성</city>\\r\\n\\t\\t\\t\\t\\r\\n\\t\\t\\t\\t<data>\\r\\n\\t\\t\\t\\t\\t<mode>A02</mode>\\r\\n\\t\\t\\t\\t\\t<tmEf>2020-01-03 00:00</tmEf>\\r\\n\\t\\t\\t\\t\\t<wf>구름많음</wf>\\r\\n\\t\\t\\t\\t\\t<tmn>-3</tmn>\\r\\n\\t\\t\\t\\t\\t<tmx>7</tmx>\\r\\n\\t\\t\\t\\t\\t<reliability></reliability>\\r\\n\\t\\t\\t\\t\\t<rnSt>30</rnSt>\\r\\n\\t\\t\\t\\t</data>\\r\\n\\r\\n\\t\\t\\t\\t\\r\\n\\t\\t\\t\\t<data>\\r\\n\\t\\t\\t\\t\\t<mode>A02</mode>\\r\\n\\t\\t\\t\\t\\t<tmEf>2020-01-03 12:00</tmEf>\\r\\n\\t\\t\\t\\t\\t<wf>구름많음</wf>\\r\\n\\t\\t\\t\\t\\t<tmn>-3</tmn>\\r\\n\\t\\t\\t\\t\\t<tmx>7</tmx>\\r\\n\\t\\t\\t\\t\\t<reliability></reliability>\\r\\n\\t\\t\\t\\t\\t<rnSt>30</rnSt>\\r\\n\\t\\t\\t\\t</data>\\r\\n\\r\\n\\t\\t\\t\\t\\r\\n\\t\\t\\t\\t<data>\\r\\n\\t\\t\\t\\t\\t<mode>A02</mode>\\r\\n\\t\\t\\t\\t\\t<tmEf>2020-01-04 00:00</tmEf>\\r\\n\\t\\t\\t\\t\\t<wf>맑음</wf>\\r\\n\\t\\t\\t\\t\\t<tmn>-1</tmn>\\r\\n\\t\\t\\t\\t\\t<tmx>7</tmx>\\r\\n\\t\\t\\t\\t\\t<reliability></reliability>\\r\\n\\t\\t\\t\\t\\t<rnSt>10</rnSt>\\r\\n\\t\\t\\t\\t</data>\\r\\n\\r\\n\\t\\t\\t\\t\\r\\n\\t\\t\\t\\t<data>\\r\\n\\t\\t\\t\\t\\t<mode>A02</mode>\\r\\n\\t\\t\\t\\t\\t<tmEf>2020-01-04 12:00</tmEf>\\r\\n\\t\\t\\t\\t\\t<wf>맑음</wf>\\r\\n\\t\\t\\t\\t\\t<tmn>-1</tmn>\\r\\n\\t\\t\\t\\t\\t<tmx>7</tmx>\\r\\n\\t\\t\\t\\t\\t<reliability></reliability>\\r\\n\\t\\t\\t\\t\\t<rnSt>0</rnSt>\\r\\n\\t\\t\\t\\t</data>\\r\\n\\r\\n\\t\\t\\t\\t\\r\\n\\t\\t\\t\\t<data>\\r\\n\\t\\t\\t\\t\\t<mode>A02</mode>\\r\\n\\t\\t\\t\\t\\t<tmEf>2020-01-05 00:00</tmEf>\\r\\n\\t\\t\\t\\t\\t<wf>맑음</wf>\\r\\n\\t\\t\\t\\t\\t<tmn>-5</tmn>\\r\\n\\t\\t\\t\\t\\t<tmx>5</tmx>\\r\\n\\t\\t\\t\\t\\t<reliability></reliability>\\r\\n\\t\\t\\t\\t\\t<rnSt>0</rnSt>\\r\\n\\t\\t\\t\\t</data>\\r\\n\\r\\n\\t\\t\\t\\t\\r\\n\\t\\t\\t\\t<data>\\r\\n\\t\\t\\t\\t\\t<mode>A02</mode>\\r\\n\\t\\t\\t\\t\\t<tmEf>2020-01-05 12:00</tmEf>\\r\\n\\t\\t\\t\\t\\t<wf>구름많음</wf>\\r\\n\\t\\t\\t\\t\\t<tmn>-5</tmn>\\r\\n\\t\\t\\t\\t\\t<tmx>5</tmx>\\r\\n\\t\\t\\t\\t\\t<reliability></reliability>\\r\\n\\t\\t\\t\\t\\t<rnSt>30</rnSt>\\r\\n\\t\\t\\t\\t</data>\\r\\n\\r\\n\\t\\t\\t\\t\\r\\n\\t\\t\\t\\t<data>\\r\\n\\t\\t\\t\\t\\t<mode>A02</mode>\\r\\n\\t\\t\\t\\t\\t<tmEf>2020-01-06 00:00</tmEf>\\r\\n\\t\\t\\t\\t\\t<wf>구름많음</wf>\\r\\n\\t\\t\\t\\t\\t<tmn>-1</tmn>\\r\\n\\t\\t\\t\\t\\t<tmx>6</tmx>\\r\\n\\t\\t\\t\\t\\t<reliability></reliability>\\r\\n\\t\\t\\t\\t\\t<rnSt>30</rnSt>\\r\\n\\t\\t\\t\\t</data>\\r\\n\\r\\n\\t\\t\\t\\t\\r\\n\\t\\t\\t\\t<data>\\r\\n\\t\\t\\t\\t\\t<mode>A02</mode>\\r\\n\\t\\t\\t\\t\\t<tmEf>2020-01-06 12:00</tmEf>\\r\\n\\t\\t\\t\\t\\t<wf>흐리고 비</wf>\\r\\n\\t\\t\\t\\t\\t<tmn>-1</tmn>\\r\\n\\t\\t\\t\\t\\t<tmx>6</tmx>\\r\\n\\t\\t\\t\\t\\t<reliability></reliability>\\r\\n\\t\\t\\t\\t\\t<rnSt>60</rnSt>\\r\\n\\t\\t\\t\\t</data>\\r\\n\\r\\n\\t\\t\\t\\t\\r\\n\\t\\t\\t\\t<data>\\r\\n\\t\\t\\t\\t\\t<mode>A02</mode>\\r\\n\\t\\t\\t\\t\\t<tmEf>2020-01-07 00:00</tmEf>\\r\\n\\t\\t\\t\\t\\t<wf>흐리고 비</wf>\\r\\n\\t\\t\\t\\t\\t<tmn>1</tmn>\\r\\n\\t\\t\\t\\t\\t<tmx>6</tmx>\\r\\n\\t\\t\\t\\t\\t<reliability></reliability>\\r\\n\\t\\t\\t\\t\\t<rnSt>70</rnSt>\\r\\n\\t\\t\\t\\t</data>\\r\\n\\r\\n\\t\\t\\t\\t\\r\\n\\t\\t\\t\\t<data>\\r\\n\\t\\t\\t\\t\\t<mode>A02</mode>\\r\\n\\t\\t\\t\\t\\t<tmEf>2020-01-07 12:00</tmEf>\\r\\n\\t\\t\\t\\t\\t<wf>흐리고 비</wf>\\r\\n\\t\\t\\t\\t\\t<tmn>1</tmn>\\r\\n\\t\\t\\t\\t\\t<tmx>6</tmx>\\r\\n\\t\\t\\t\\t\\t<reliability></reliability>\\r\\n\\t\\t\\t\\t\\t<rnSt>70</rnSt>\\r\\n\\t\\t\\t\\t</data>\\r\\n\\r\\n\\t\\t\\t\\t\\r\\n\\t\\t\\t\\t<data>\\r\\n\\t\\t\\t\\t\\t<mode>A01</mode>\\r\\n\\t\\t\\t\\t\\t<tmEf>2020-01-08 00:00</tmEf>\\r\\n\\t\\t\\t\\t\\t<wf>흐리고 비</wf>\\r\\n\\t\\t\\t\\t\\t<tmn>1</tmn>\\r\\n\\t\\t\\t\\t\\t<tmx>7</tmx>\\r\\n\\t\\t\\t\\t\\t<reliability></reliability>\\r\\n\\t\\t\\t\\t\\t<rnSt>70</rnSt>\\r\\n\\t\\t\\t\\t</data>\\r\\n\\r\\n\\t\\t\\t\\t\\r\\n\\t\\t\\t\\t<data>\\r\\n\\t\\t\\t\\t\\t<mode>A01</mode>\\r\\n\\t\\t\\t\\t\\t<tmEf>2020-01-09 00:00</tmEf>\\r\\n\\t\\t\\t\\t\\t<wf>구름많음</wf>\\r\\n\\t\\t\\t\\t\\t<tmn>-3</tmn>\\r\\n\\t\\t\\t\\t\\t<tmx>4</tmx>\\r\\n\\t\\t\\t\\t\\t<reliability></reliability>\\r\\n\\t\\t\\t\\t\\t<rnSt>40</rnSt>\\r\\n\\t\\t\\t\\t</data>\\r\\n\\r\\n\\t\\t\\t\\t\\r\\n\\t\\t\\t\\t<data>\\r\\n\\t\\t\\t\\t\\t<mode>A01</mode>\\r\\n\\t\\t\\t\\t\\t<tmEf>2020-01-10 00:00</tmEf>\\r\\n\\t\\t\\t\\t\\t<wf>구름많음</wf>\\r\\n\\t\\t\\t\\t\\t<tmn>-2</tmn>\\r\\n\\t\\t\\t\\t\\t<tmx>4</tmx>\\r\\n\\t\\t\\t\\t\\t<reliability></reliability>\\r\\n\\t\\t\\t\\t\\t<rnSt>30</rnSt>\\r\\n\\t\\t\\t\\t</data>\\r\\n\\r\\n\\r\\n\\t\\t</location>\\r\\n\\r\\n\\r\\n\\r\\n\\t\\t<location wl_ver=\"3\">\\r\\n\\t\\t\\t\\t<province>충청북도</province>\\r\\n\\t\\t\\t\\t<city>청주</city>\\r\\n\\t\\t\\t\\t\\r\\n\\t\\t\\t\\t<data>\\r\\n\\t\\t\\t\\t\\t<mode>A02</mode>\\r\\n\\t\\t\\t\\t\\t<tmEf>2020-01-03 00:00</tmEf>\\r\\n\\t\\t\\t\\t\\t<wf>구름많음</wf>\\r\\n\\t\\t\\t\\t\\t<tmn>-2</tmn>\\r\\n\\t\\t\\t\\t\\t<tmx>6</tmx>\\r\\n\\t\\t\\t\\t\\t<reliability></reliability>\\r\\n\\t\\t\\t\\t\\t<rnSt>30</rnSt>\\r\\n\\t\\t\\t\\t</data>\\r\\n\\r\\n\\t\\t\\t\\t\\r\\n\\t\\t\\t\\t<data>\\r\\n\\t\\t\\t\\t\\t<mode>A02</mode>\\r\\n\\t\\t\\t\\t\\t<tmEf>2020-01-03 12:00</tmEf>\\r\\n\\t\\t\\t\\t\\t<wf>맑음</wf>\\r\\n\\t\\t\\t\\t\\t<tmn>-2</tmn>\\r\\n\\t\\t\\t\\t\\t<tmx>6</tmx>\\r\\n\\t\\t\\t\\t\\t<reliability></reliability>\\r\\n\\t\\t\\t\\t\\t<rnSt>20</rnSt>\\r\\n\\t\\t\\t\\t</data>\\r\\n\\r\\n\\t\\t\\t\\t\\r\\n\\t\\t\\t\\t<data>\\r\\n\\t\\t\\t\\t\\t<mode>A02</mode>\\r\\n\\t\\t\\t\\t\\t<tmEf>2020-01-04 00:00</tmEf>\\r\\n\\t\\t\\t\\t\\t<wf>맑음</wf>\\r\\n\\t\\t\\t\\t\\t<tmn>-1</tmn>\\r\\n\\t\\t\\t\\t\\t<tmx>7</tmx>\\r\\n\\t\\t\\t\\t\\t<reliability></reliability>\\r\\n\\t\\t\\t\\t\\t<rnSt>10</rnSt>\\r\\n\\t\\t\\t\\t</data>\\r\\n\\r\\n\\t\\t\\t\\t\\r\\n\\t\\t\\t\\t<data>\\r\\n\\t\\t\\t\\t\\t<mode>A02</mode>\\r\\n\\t\\t\\t\\t\\t<tmEf>2020-01-04 12:00</tmEf>\\r\\n\\t\\t\\t\\t\\t<wf>맑음</wf>\\r\\n\\t\\t\\t\\t\\t<tmn>-1</tmn>\\r\\n\\t\\t\\t\\t\\t<tmx>7</tmx>\\r\\n\\t\\t\\t\\t\\t<reliability></reliability>\\r\\n\\t\\t\\t\\t\\t<rnSt>0</rnSt>\\r\\n\\t\\t\\t\\t</data>\\r\\n\\r\\n\\t\\t\\t\\t\\r\\n\\t\\t\\t\\t<data>\\r\\n\\t\\t\\t\\t\\t<mode>A02</mode>\\r\\n\\t\\t\\t\\t\\t<tmEf>2020-01-05 00:00</tmEf>\\r\\n\\t\\t\\t\\t\\t<wf>맑음</wf>\\r\\n\\t\\t\\t\\t\\t<tmn>-4</tmn>\\r\\n\\t\\t\\t\\t\\t<tmx>5</tmx>\\r\\n\\t\\t\\t\\t\\t<reliability></reliability>\\r\\n\\t\\t\\t\\t\\t<rnSt>0</rnSt>\\r\\n\\t\\t\\t\\t</data>\\r\\n\\r\\n\\t\\t\\t\\t\\r\\n\\t\\t\\t\\t<data>\\r\\n\\t\\t\\t\\t\\t<mode>A02</mode>\\r\\n\\t\\t\\t\\t\\t<tmEf>2020-01-05 12:00</tmEf>\\r\\n\\t\\t\\t\\t\\t<wf>구름많음</wf>\\r\\n\\t\\t\\t\\t\\t<tmn>-4</tmn>\\r\\n\\t\\t\\t\\t\\t<tmx>5</tmx>\\r\\n\\t\\t\\t\\t\\t<reliability></reliability>\\r\\n\\t\\t\\t\\t\\t<rnSt>30</rnSt>\\r\\n\\t\\t\\t\\t</data>\\r\\n\\r\\n\\t\\t\\t\\t\\r\\n\\t\\t\\t\\t<data>\\r\\n\\t\\t\\t\\t\\t<mode>A02</mode>\\r\\n\\t\\t\\t\\t\\t<tmEf>2020-01-06 00:00</tmEf>\\r\\n\\t\\t\\t\\t\\t<wf>구름많음</wf>\\r\\n\\t\\t\\t\\t\\t<tmn>-1</tmn>\\r\\n\\t\\t\\t\\t\\t<tmx>6</tmx>\\r\\n\\t\\t\\t\\t\\t<reliability></reliability>\\r\\n\\t\\t\\t\\t\\t<rnSt>30</rnSt>\\r\\n\\t\\t\\t\\t</data>\\r\\n\\r\\n\\t\\t\\t\\t\\r\\n\\t\\t\\t\\t<data>\\r\\n\\t\\t\\t\\t\\t<mode>A02</mode>\\r\\n\\t\\t\\t\\t\\t<tmEf>2020-01-06 12:00</tmEf>\\r\\n\\t\\t\\t\\t\\t<wf>흐리고 비</wf>\\r\\n\\t\\t\\t\\t\\t<tmn>-1</tmn>\\r\\n\\t\\t\\t\\t\\t<tmx>6</tmx>\\r\\n\\t\\t\\t\\t\\t<reliability></reliability>\\r\\n\\t\\t\\t\\t\\t<rnSt>60</rnSt>\\r\\n\\t\\t\\t\\t</data>\\r\\n\\r\\n\\t\\t\\t\\t\\r\\n\\t\\t\\t\\t<data>\\r\\n\\t\\t\\t\\t\\t<mode>A02</mode>\\r\\n\\t\\t\\t\\t\\t<tmEf>2020-01-07 00:00</tmEf>\\r\\n\\t\\t\\t\\t\\t<wf>흐리고 비</wf>\\r\\n\\t\\t\\t\\t\\t<tmn>2</tmn>\\r\\n\\t\\t\\t\\t\\t<tmx>6</tmx>\\r\\n\\t\\t\\t\\t\\t<reliability></reliability>\\r\\n\\t\\t\\t\\t\\t<rnSt>70</rnSt>\\r\\n\\t\\t\\t\\t</data>\\r\\n\\r\\n\\t\\t\\t\\t\\r\\n\\t\\t\\t\\t<data>\\r\\n\\t\\t\\t\\t\\t<mode>A02</mode>\\r\\n\\t\\t\\t\\t\\t<tmEf>2020-01-07 12:00</tmEf>\\r\\n\\t\\t\\t\\t\\t<wf>흐리고 비</wf>\\r\\n\\t\\t\\t\\t\\t<tmn>2</tmn>\\r\\n\\t\\t\\t\\t\\t<tmx>6</tmx>\\r\\n\\t\\t\\t\\t\\t<reliability></reliability>\\r\\n\\t\\t\\t\\t\\t<rnSt>70</rnSt>\\r\\n\\t\\t\\t\\t</data>\\r\\n\\r\\n\\t\\t\\t\\t\\r\\n\\t\\t\\t\\t<data>\\r\\n\\t\\t\\t\\t\\t<mode>A01</mode>\\r\\n\\t\\t\\t\\t\\t<tmEf>2020-01-08 00:00</tmEf>\\r\\n\\t\\t\\t\\t\\t<wf>흐리고 비</wf>\\r\\n\\t\\t\\t\\t\\t<tmn>2</tmn>\\r\\n\\t\\t\\t\\t\\t<tmx>6</tmx>\\r\\n\\t\\t\\t\\t\\t<reliability></reliability>\\r\\n\\t\\t\\t\\t\\t<rnSt>70</rnSt>\\r\\n\\t\\t\\t\\t</data>\\r\\n\\r\\n\\t\\t\\t\\t\\r\\n\\t\\t\\t\\t<data>\\r\\n\\t\\t\\t\\t\\t<mode>A01</mode>\\r\\n\\t\\t\\t\\t\\t<tmEf>2020-01-09 00:00</tmEf>\\r\\n\\t\\t\\t\\t\\t<wf>구름많음</wf>\\r\\n\\t\\t\\t\\t\\t<tmn>-1</tmn>\\r\\n\\t\\t\\t\\t\\t<tmx>5</tmx>\\r\\n\\t\\t\\t\\t\\t<reliability></reliability>\\r\\n\\t\\t\\t\\t\\t<rnSt>40</rnSt>\\r\\n\\t\\t\\t\\t</data>\\r\\n\\r\\n\\t\\t\\t\\t\\r\\n\\t\\t\\t\\t<data>\\r\\n\\t\\t\\t\\t\\t<mode>A01</mode>\\r\\n\\t\\t\\t\\t\\t<tmEf>2020-01-10 00:00</tmEf>\\r\\n\\t\\t\\t\\t\\t<wf>구름많음</wf>\\r\\n\\t\\t\\t\\t\\t<tmn>-1</tmn>\\r\\n\\t\\t\\t\\t\\t<tmx>6</tmx>\\r\\n\\t\\t\\t\\t\\t<reliability></reliability>\\r\\n\\t\\t\\t\\t\\t<rnSt>30</rnSt>\\r\\n\\t\\t\\t\\t</data>\\r\\n\\r\\n\\r\\n\\t\\t</location>\\r\\n\\r\\n\\t\\t<location wl_ver=\"3\">\\r\\n\\t\\t\\t\\t<province>충청북도</province>\\r\\n\\t\\t\\t\\t<city>충주</city>\\r\\n\\t\\t\\t\\t\\r\\n\\t\\t\\t\\t<data>\\r\\n\\t\\t\\t\\t\\t<mode>A02</mode>\\r\\n\\t\\t\\t\\t\\t<tmEf>2020-01-03 00:00</tmEf>\\r\\n\\t\\t\\t\\t\\t<wf>구름많음</wf>\\r\\n\\t\\t\\t\\t\\t<tmn>-4</tmn>\\r\\n\\t\\t\\t\\t\\t<tmx>5</tmx>\\r\\n\\t\\t\\t\\t\\t<reliability></reliability>\\r\\n\\t\\t\\t\\t\\t<rnSt>30</rnSt>\\r\\n\\t\\t\\t\\t</data>\\r\\n\\r\\n\\t\\t\\t\\t\\r\\n\\t\\t\\t\\t<data>\\r\\n\\t\\t\\t\\t\\t<mode>A02</mode>\\r\\n\\t\\t\\t\\t\\t<tmEf>2020-01-03 12:00</tmEf>\\r\\n\\t\\t\\t\\t\\t<wf>맑음</wf>\\r\\n\\t\\t\\t\\t\\t<tmn>-4</tmn>\\r\\n\\t\\t\\t\\t\\t<tmx>5</tmx>\\r\\n\\t\\t\\t\\t\\t<reliability></reliability>\\r\\n\\t\\t\\t\\t\\t<rnSt>20</rnSt>\\r\\n\\t\\t\\t\\t</data>\\r\\n\\r\\n\\t\\t\\t\\t\\r\\n\\t\\t\\t\\t<data>\\r\\n\\t\\t\\t\\t\\t<mode>A02</mode>\\r\\n\\t\\t\\t\\t\\t<tmEf>2020-01-04 00:00</tmEf>\\r\\n\\t\\t\\t\\t\\t<wf>맑음</wf>\\r\\n\\t\\t\\t\\t\\t<tmn>-3</tmn>\\r\\n\\t\\t\\t\\t\\t<tmx>5</tmx>\\r\\n\\t\\t\\t\\t\\t<reliability></reliability>\\r\\n\\t\\t\\t\\t\\t<rnSt>10</rnSt>\\r\\n\\t\\t\\t\\t</data>\\r\\n\\r\\n\\t\\t\\t\\t\\r\\n\\t\\t\\t\\t<data>\\r\\n\\t\\t\\t\\t\\t<mode>A02</mode>\\r\\n\\t\\t\\t\\t\\t<tmEf>2020-01-04 12:00</tmEf>\\r\\n\\t\\t\\t\\t\\t<wf>맑음</wf>\\r\\n\\t\\t\\t\\t\\t<tmn>-3</tmn>\\r\\n\\t\\t\\t\\t\\t<tmx>5</tmx>\\r\\n\\t\\t\\t\\t\\t<reliability></reliability>\\r\\n\\t\\t\\t\\t\\t<rnSt>0</rnSt>\\r\\n\\t\\t\\t\\t</data>\\r\\n\\r\\n\\t\\t\\t\\t\\r\\n\\t\\t\\t\\t<data>\\r\\n\\t\\t\\t\\t\\t<mode>A02</mode>\\r\\n\\t\\t\\t\\t\\t<tmEf>2020-01-05 00:00</tmEf>\\r\\n\\t\\t\\t\\t\\t<wf>맑음</wf>\\r\\n\\t\\t\\t\\t\\t<tmn>-6</tmn>\\r\\n\\t\\t\\t\\t\\t<tmx>5</tmx>\\r\\n\\t\\t\\t\\t\\t<reliability></reliability>\\r\\n\\t\\t\\t\\t\\t<rnSt>0</rnSt>\\r\\n\\t\\t\\t\\t</data>\\r\\n\\r\\n\\t\\t\\t\\t\\r\\n\\t\\t\\t\\t<data>\\r\\n\\t\\t\\t\\t\\t<mode>A02</mode>\\r\\n\\t\\t\\t\\t\\t<tmEf>2020-01-05 12:00</tmEf>\\r\\n\\t\\t\\t\\t\\t<wf>구름많음</wf>\\r\\n\\t\\t\\t\\t\\t<tmn>-6</tmn>\\r\\n\\t\\t\\t\\t\\t<tmx>5</tmx>\\r\\n\\t\\t\\t\\t\\t<reliability></reliability>\\r\\n\\t\\t\\t\\t\\t<rnSt>30</rnSt>\\r\\n\\t\\t\\t\\t</data>\\r\\n\\r\\n\\t\\t\\t\\t\\r\\n\\t\\t\\t\\t<data>\\r\\n\\t\\t\\t\\t\\t<mode>A02</mode>\\r\\n\\t\\t\\t\\t\\t<tmEf>2020-01-06 00:00</tmEf>\\r\\n\\t\\t\\t\\t\\t<wf>구름많음</wf>\\r\\n\\t\\t\\t\\t\\t<tmn>-4</tmn>\\r\\n\\t\\t\\t\\t\\t<tmx>5</tmx>\\r\\n\\t\\t\\t\\t\\t<reliability></reliability>\\r\\n\\t\\t\\t\\t\\t<rnSt>30</rnSt>\\r\\n\\t\\t\\t\\t</data>\\r\\n\\r\\n\\t\\t\\t\\t\\r\\n\\t\\t\\t\\t<data>\\r\\n\\t\\t\\t\\t\\t<mode>A02</mode>\\r\\n\\t\\t\\t\\t\\t<tmEf>2020-01-06 12:00</tmEf>\\r\\n\\t\\t\\t\\t\\t<wf>흐리고 비</wf>\\r\\n\\t\\t\\t\\t\\t<tmn>-4</tmn>\\r\\n\\t\\t\\t\\t\\t<tmx>5</tmx>\\r\\n\\t\\t\\t\\t\\t<reliability></reliability>\\r\\n\\t\\t\\t\\t\\t<rnSt>60</rnSt>\\r\\n\\t\\t\\t\\t</data>\\r\\n\\r\\n\\t\\t\\t\\t\\r\\n\\t\\t\\t\\t<data>\\r\\n\\t\\t\\t\\t\\t<mode>A02</mode>\\r\\n\\t\\t\\t\\t\\t<tmEf>2020-01-07 00:00</tmEf>\\r\\n\\t\\t\\t\\t\\t<wf>흐리고 비</wf>\\r\\n\\t\\t\\t\\t\\t<tmn>-1</tmn>\\r\\n\\t\\t\\t\\t\\t<tmx>5</tmx>\\r\\n\\t\\t\\t\\t\\t<reliability></reliability>\\r\\n\\t\\t\\t\\t\\t<rnSt>70</rnSt>\\r\\n\\t\\t\\t\\t</data>\\r\\n\\r\\n\\t\\t\\t\\t\\r\\n\\t\\t\\t\\t<data>\\r\\n\\t\\t\\t\\t\\t<mode>A02</mode>\\r\\n\\t\\t\\t\\t\\t<tmEf>2020-01-07 12:00</tmEf>\\r\\n\\t\\t\\t\\t\\t<wf>흐리고 비</wf>\\r\\n\\t\\t\\t\\t\\t<tmn>-1</tmn>\\r\\n\\t\\t\\t\\t\\t<tmx>5</tmx>\\r\\n\\t\\t\\t\\t\\t<reliability></reliability>\\r\\n\\t\\t\\t\\t\\t<rnSt>70</rnSt>\\r\\n\\t\\t\\t\\t</data>\\r\\n\\r\\n\\t\\t\\t\\t\\r\\n\\t\\t\\t\\t<data>\\r\\n\\t\\t\\t\\t\\t<mode>A01</mode>\\r\\n\\t\\t\\t\\t\\t<tmEf>2020-01-08 00:00</tmEf>\\r\\n\\t\\t\\t\\t\\t<wf>흐리고 비</wf>\\r\\n\\t\\t\\t\\t\\t<tmn>0</tmn>\\r\\n\\t\\t\\t\\t\\t<tmx>5</tmx>\\r\\n\\t\\t\\t\\t\\t<reliability></reliability>\\r\\n\\t\\t\\t\\t\\t<rnSt>70</rnSt>\\r\\n\\t\\t\\t\\t</data>\\r\\n\\r\\n\\t\\t\\t\\t\\r\\n\\t\\t\\t\\t<data>\\r\\n\\t\\t\\t\\t\\t<mode>A01</mode>\\r\\n\\t\\t\\t\\t\\t<tmEf>2020-01-09 00:00</tmEf>\\r\\n\\t\\t\\t\\t\\t<wf>구름많음</wf>\\r\\n\\t\\t\\t\\t\\t<tmn>-3</tmn>\\r\\n\\t\\t\\t\\t\\t<tmx>4</tmx>\\r\\n\\t\\t\\t\\t\\t<reliability></reliability>\\r\\n\\t\\t\\t\\t\\t<rnSt>40</rnSt>\\r\\n\\t\\t\\t\\t</data>\\r\\n\\r\\n\\t\\t\\t\\t\\r\\n\\t\\t\\t\\t<data>\\r\\n\\t\\t\\t\\t\\t<mode>A01</mode>\\r\\n\\t\\t\\t\\t\\t<tmEf>2020-01-10 00:00</tmEf>\\r\\n\\t\\t\\t\\t\\t<wf>구름많음</wf>\\r\\n\\t\\t\\t\\t\\t<tmn>-3</tmn>\\r\\n\\t\\t\\t\\t\\t<tmx>5</tmx>\\r\\n\\t\\t\\t\\t\\t<reliability></reliability>\\r\\n\\t\\t\\t\\t\\t<rnSt>30</rnSt>\\r\\n\\t\\t\\t\\t</data>\\r\\n\\r\\n\\r\\n\\t\\t</location>\\r\\n\\r\\n\\t\\t<location wl_ver=\"3\">\\r\\n\\t\\t\\t\\t<province>충청북도</province>\\r\\n\\t\\t\\t\\t<city>영동</city>\\r\\n\\t\\t\\t\\t\\r\\n\\t\\t\\t\\t<data>\\r\\n\\t\\t\\t\\t\\t<mode>A02</mode>\\r\\n\\t\\t\\t\\t\\t<tmEf>2020-01-03 00:00</tmEf>\\r\\n\\t\\t\\t\\t\\t<wf>구름많음</wf>\\r\\n\\t\\t\\t\\t\\t<tmn>-4</tmn>\\r\\n\\t\\t\\t\\t\\t<tmx>8</tmx>\\r\\n\\t\\t\\t\\t\\t<reliability></reliability>\\r\\n\\t\\t\\t\\t\\t<rnSt>30</rnSt>\\r\\n\\t\\t\\t\\t</data>\\r\\n\\r\\n\\t\\t\\t\\t\\r\\n\\t\\t\\t\\t<data>\\r\\n\\t\\t\\t\\t\\t<mode>A02</mode>\\r\\n\\t\\t\\t\\t\\t<tmEf>2020-01-03 12:00</tmEf>\\r\\n\\t\\t\\t\\t\\t<wf>맑음</wf>\\r\\n\\t\\t\\t\\t\\t<tmn>-4</tmn>\\r\\n\\t\\t\\t\\t\\t<tmx>8</tmx>\\r\\n\\t\\t\\t\\t\\t<reliability></reliability>\\r\\n\\t\\t\\t\\t\\t<rnSt>20</rnSt>\\r\\n\\t\\t\\t\\t</data>\\r\\n\\r\\n\\t\\t\\t\\t\\r\\n\\t\\t\\t\\t<data>\\r\\n\\t\\t\\t\\t\\t<mode>A02</mode>\\r\\n\\t\\t\\t\\t\\t<tmEf>2020-01-04 00:00</tmEf>\\r\\n\\t\\t\\t\\t\\t<wf>맑음</wf>\\r\\n\\t\\t\\t\\t\\t<tmn>-2</tmn>\\r\\n\\t\\t\\t\\t\\t<tmx>8</tmx>\\r\\n\\t\\t\\t\\t\\t<reliability></reliability>\\r\\n\\t\\t\\t\\t\\t<rnSt>10</rnSt>\\r\\n\\t\\t\\t\\t</data>\\r\\n\\r\\n\\t\\t\\t\\t\\r\\n\\t\\t\\t\\t<data>\\r\\n\\t\\t\\t\\t\\t<mode>A02</mode>\\r\\n\\t\\t\\t\\t\\t<tmEf>2020-01-04 12:00</tmEf>\\r\\n\\t\\t\\t\\t\\t<wf>맑음</wf>\\r\\n\\t\\t\\t\\t\\t<tmn>-2</tmn>\\r\\n\\t\\t\\t\\t\\t<tmx>8</tmx>\\r\\n\\t\\t\\t\\t\\t<reliability></reliability>\\r\\n\\t\\t\\t\\t\\t<rnSt>0</rnSt>\\r\\n\\t\\t\\t\\t</data>\\r\\n\\r\\n\\t\\t\\t\\t\\r\\n\\t\\t\\t\\t<data>\\r\\n\\t\\t\\t\\t\\t<mode>A02</mode>\\r\\n\\t\\t\\t\\t\\t<tmEf>2020-01-05 00:00</tmEf>\\r\\n\\t\\t\\t\\t\\t<wf>맑음</wf>\\r\\n\\t\\t\\t\\t\\t<tmn>-7</tmn>\\r\\n\\t\\t\\t\\t\\t<tmx>7</tmx>\\r\\n\\t\\t\\t\\t\\t<reliability></reliability>\\r\\n\\t\\t\\t\\t\\t<rnSt>0</rnSt>\\r\\n\\t\\t\\t\\t</data>\\r\\n\\r\\n\\t\\t\\t\\t\\r\\n\\t\\t\\t\\t<data>\\r\\n\\t\\t\\t\\t\\t<mode>A02</mode>\\r\\n\\t\\t\\t\\t\\t<tmEf>2020-01-05 12:00</tmEf>\\r\\n\\t\\t\\t\\t\\t<wf>구름많음</wf>\\r\\n\\t\\t\\t\\t\\t<tmn>-7</tmn>\\r\\n\\t\\t\\t\\t\\t<tmx>7</tmx>\\r\\n\\t\\t\\t\\t\\t<reliability></reliability>\\r\\n\\t\\t\\t\\t\\t<rnSt>30</rnSt>\\r\\n\\t\\t\\t\\t</data>\\r\\n\\r\\n\\t\\t\\t\\t\\r\\n\\t\\t\\t\\t<data>\\r\\n\\t\\t\\t\\t\\t<mode>A02</mode>\\r\\n\\t\\t\\t\\t\\t<tmEf>2020-01-06 00:00</tmEf>\\r\\n\\t\\t\\t\\t\\t<wf>구름많음</wf>\\r\\n\\t\\t\\t\\t\\t<tmn>-3</tmn>\\r\\n\\t\\t\\t\\t\\t<tmx>7</tmx>\\r\\n\\t\\t\\t\\t\\t<reliability></reliability>\\r\\n\\t\\t\\t\\t\\t<rnSt>30</rnSt>\\r\\n\\t\\t\\t\\t</data>\\r\\n\\r\\n\\t\\t\\t\\t\\r\\n\\t\\t\\t\\t<data>\\r\\n\\t\\t\\t\\t\\t<mode>A02</mode>\\r\\n\\t\\t\\t\\t\\t<tmEf>2020-01-06 12:00</tmEf>\\r\\n\\t\\t\\t\\t\\t<wf>흐리고 비</wf>\\r\\n\\t\\t\\t\\t\\t<tmn>-3</tmn>\\r\\n\\t\\t\\t\\t\\t<tmx>7</tmx>\\r\\n\\t\\t\\t\\t\\t<reliability></reliability>\\r\\n\\t\\t\\t\\t\\t<rnSt>60</rnSt>\\r\\n\\t\\t\\t\\t</data>\\r\\n\\r\\n\\t\\t\\t\\t\\r\\n\\t\\t\\t\\t<data>\\r\\n\\t\\t\\t\\t\\t<mode>A02</mode>\\r\\n\\t\\t\\t\\t\\t<tmEf>2020-01-07 00:00</tmEf>\\r\\n\\t\\t\\t\\t\\t<wf>흐리고 비</wf>\\r\\n\\t\\t\\t\\t\\t<tmn>1</tmn>\\r\\n\\t\\t\\t\\t\\t<tmx>8</tmx>\\r\\n\\t\\t\\t\\t\\t<reliability></reliability>\\r\\n\\t\\t\\t\\t\\t<rnSt>70</rnSt>\\r\\n\\t\\t\\t\\t</data>\\r\\n\\r\\n\\t\\t\\t\\t\\r\\n\\t\\t\\t\\t<data>\\r\\n\\t\\t\\t\\t\\t<mode>A02</mode>\\r\\n\\t\\t\\t\\t\\t<tmEf>2020-01-07 12:00</tmEf>\\r\\n\\t\\t\\t\\t\\t<wf>흐리고 비</wf>\\r\\n\\t\\t\\t\\t\\t<tmn>1</tmn>\\r\\n\\t\\t\\t\\t\\t<tmx>8</tmx>\\r\\n\\t\\t\\t\\t\\t<reliability></reliability>\\r\\n\\t\\t\\t\\t\\t<rnSt>70</rnSt>\\r\\n\\t\\t\\t\\t</data>\\r\\n\\r\\n\\t\\t\\t\\t\\r\\n\\t\\t\\t\\t<data>\\r\\n\\t\\t\\t\\t\\t<mode>A01</mode>\\r\\n\\t\\t\\t\\t\\t<tmEf>2020-01-08 00:00</tmEf>\\r\\n\\t\\t\\t\\t\\t<wf>흐리고 비</wf>\\r\\n\\t\\t\\t\\t\\t<tmn>1</tmn>\\r\\n\\t\\t\\t\\t\\t<tmx>6</tmx>\\r\\n\\t\\t\\t\\t\\t<reliability></reliability>\\r\\n\\t\\t\\t\\t\\t<rnSt>70</rnSt>\\r\\n\\t\\t\\t\\t</data>\\r\\n\\r\\n\\t\\t\\t\\t\\r\\n\\t\\t\\t\\t<data>\\r\\n\\t\\t\\t\\t\\t<mode>A01</mode>\\r\\n\\t\\t\\t\\t\\t<tmEf>2020-01-09 00:00</tmEf>\\r\\n\\t\\t\\t\\t\\t<wf>구름많음</wf>\\r\\n\\t\\t\\t\\t\\t<tmn>-5</tmn>\\r\\n\\t\\t\\t\\t\\t<tmx>4</tmx>\\r\\n\\t\\t\\t\\t\\t<reliability></reliability>\\r\\n\\t\\t\\t\\t\\t<rnSt>40</rnSt>\\r\\n\\t\\t\\t\\t</data>\\r\\n\\r\\n\\t\\t\\t\\t\\r\\n\\t\\t\\t\\t<data>\\r\\n\\t\\t\\t\\t\\t<mode>A01</mode>\\r\\n\\t\\t\\t\\t\\t<tmEf>2020-01-10 00:00</tmEf>\\r\\n\\t\\t\\t\\t\\t<wf>구름많음</wf>\\r\\n\\t\\t\\t\\t\\t<tmn>-4</tmn>\\r\\n\\t\\t\\t\\t\\t<tmx>6</tmx>\\r\\n\\t\\t\\t\\t\\t<reliability></reliability>\\r\\n\\t\\t\\t\\t\\t<rnSt>30</rnSt>\\r\\n\\t\\t\\t\\t</data>\\r\\n\\r\\n\\r\\n\\t\\t</location>\\r\\n\\r\\n\\r\\n\\r\\n\\t\\t<location wl_ver=\"3\">\\r\\n\\t\\t\\t\\t<province>광주ㆍ전라남도</province>\\r\\n\\t\\t\\t\\t<city>광주</city>\\r\\n\\t\\t\\t\\t\\r\\n\\t\\t\\t\\t<data>\\r\\n\\t\\t\\t\\t\\t<mode>A02</mode>\\r\\n\\t\\t\\t\\t\\t<tmEf>2020-01-03 00:00</tmEf>\\r\\n\\t\\t\\t\\t\\t<wf>구름많음</wf>\\r\\n\\t\\t\\t\\t\\t<tmn>1</tmn>\\r\\n\\t\\t\\t\\t\\t<tmx>9</tmx>\\r\\n\\t\\t\\t\\t\\t<reliability></reliability>\\r\\n\\t\\t\\t\\t\\t<rnSt>30</rnSt>\\r\\n\\t\\t\\t\\t</data>\\r\\n\\r\\n\\t\\t\\t\\t\\r\\n\\t\\t\\t\\t<data>\\r\\n\\t\\t\\t\\t\\t<mode>A02</mode>\\r\\n\\t\\t\\t\\t\\t<tmEf>2020-01-03 12:00</tmEf>\\r\\n\\t\\t\\t\\t\\t<wf>구름많음</wf>\\r\\n\\t\\t\\t\\t\\t<tmn>1</tmn>\\r\\n\\t\\t\\t\\t\\t<tmx>9</tmx>\\r\\n\\t\\t\\t\\t\\t<reliability></reliability>\\r\\n\\t\\t\\t\\t\\t<rnSt>30</rnSt>\\r\\n\\t\\t\\t\\t</data>\\r\\n\\r\\n\\t\\t\\t\\t\\r\\n\\t\\t\\t\\t<data>\\r\\n\\t\\t\\t\\t\\t<mode>A02</mode>\\r\\n\\t\\t\\t\\t\\t<tmEf>2020-01-04 00:00</tmEf>\\r\\n\\t\\t\\t\\t\\t<wf>구름많음</wf>\\r\\n\\t\\t\\t\\t\\t<tmn>2</tmn>\\r\\n\\t\\t\\t\\t\\t<tmx>9</tmx>\\r\\n\\t\\t\\t\\t\\t<reliability></reliability>\\r\\n\\t\\t\\t\\t\\t<rnSt>30</rnSt>\\r\\n\\t\\t\\t\\t</data>\\r\\n\\r\\n\\t\\t\\t\\t\\r\\n\\t\\t\\t\\t<data>\\r\\n\\t\\t\\t\\t\\t<mode>A02</mode>\\r\\n\\t\\t\\t\\t\\t<tmEf>2020-01-04 12:00</tmEf>\\r\\n\\t\\t\\t\\t\\t<wf>맑음</wf>\\r\\n\\t\\t\\t\\t\\t<tmn>2</tmn>\\r\\n\\t\\t\\t\\t\\t<tmx>9</tmx>\\r\\n\\t\\t\\t\\t\\t<reliability></reliability>\\r\\n\\t\\t\\t\\t\\t<rnSt>0</rnSt>\\r\\n\\t\\t\\t\\t</data>\\r\\n\\r\\n\\t\\t\\t\\t\\r\\n\\t\\t\\t\\t<data>\\r\\n\\t\\t\\t\\t\\t<mode>A02</mode>\\r\\n\\t\\t\\t\\t\\t<tmEf>2020-01-05 00:00</tmEf>\\r\\n\\t\\t\\t\\t\\t<wf>맑음</wf>\\r\\n\\t\\t\\t\\t\\t<tmn>-1</tmn>\\r\\n\\t\\t\\t\\t\\t<tmx>9</tmx>\\r\\n\\t\\t\\t\\t\\t<reliability></reliability>\\r\\n\\t\\t\\t\\t\\t<rnSt>0</rnSt>\\r\\n\\t\\t\\t\\t</data>\\r\\n\\r\\n\\t\\t\\t\\t\\r\\n\\t\\t\\t\\t<data>\\r\\n\\t\\t\\t\\t\\t<mode>A02</mode>\\r\\n\\t\\t\\t\\t\\t<tmEf>2020-01-05 12:00</tmEf>\\r\\n\\t\\t\\t\\t\\t<wf>구름많음</wf>\\r\\n\\t\\t\\t\\t\\t<tmn>-1</tmn>\\r\\n\\t\\t\\t\\t\\t<tmx>9</tmx>\\r\\n\\t\\t\\t\\t\\t<reliability></reliability>\\r\\n\\t\\t\\t\\t\\t<rnSt>30</rnSt>\\r\\n\\t\\t\\t\\t</data>\\r\\n\\r\\n\\t\\t\\t\\t\\r\\n\\t\\t\\t\\t<data>\\r\\n\\t\\t\\t\\t\\t<mode>A02</mode>\\r\\n\\t\\t\\t\\t\\t<tmEf>2020-01-06 00:00</tmEf>\\r\\n\\t\\t\\t\\t\\t<wf>구름많음</wf>\\r\\n\\t\\t\\t\\t\\t<tmn>2</tmn>\\r\\n\\t\\t\\t\\t\\t<tmx>10</tmx>\\r\\n\\t\\t\\t\\t\\t<reliability></reliability>\\r\\n\\t\\t\\t\\t\\t<rnSt>30</rnSt>\\r\\n\\t\\t\\t\\t</data>\\r\\n\\r\\n\\t\\t\\t\\t\\r\\n\\t\\t\\t\\t<data>\\r\\n\\t\\t\\t\\t\\t<mode>A02</mode>\\r\\n\\t\\t\\t\\t\\t<tmEf>2020-01-06 12:00</tmEf>\\r\\n\\t\\t\\t\\t\\t<wf>흐리고 비</wf>\\r\\n\\t\\t\\t\\t\\t<tmn>2</tmn>\\r\\n\\t\\t\\t\\t\\t<tmx>10</tmx>\\r\\n\\t\\t\\t\\t\\t<reliability></reliability>\\r\\n\\t\\t\\t\\t\\t<rnSt>80</rnSt>\\r\\n\\t\\t\\t\\t</data>\\r\\n\\r\\n\\t\\t\\t\\t\\r\\n\\t\\t\\t\\t<data>\\r\\n\\t\\t\\t\\t\\t<mode>A02</mode>\\r\\n\\t\\t\\t\\t\\t<tmEf>2020-01-07 00:00</tmEf>\\r\\n\\t\\t\\t\\t\\t<wf>흐리고 비</wf>\\r\\n\\t\\t\\t\\t\\t<tmn>6</tmn>\\r\\n\\t\\t\\t\\t\\t<tmx>12</tmx>\\r\\n\\t\\t\\t\\t\\t<reliability></reliability>\\r\\n\\t\\t\\t\\t\\t<rnSt>80</rnSt>\\r\\n\\t\\t\\t\\t</data>\\r\\n\\r\\n\\t\\t\\t\\t\\r\\n\\t\\t\\t\\t<data>\\r\\n\\t\\t\\t\\t\\t<mode>A02</mode>\\r\\n\\t\\t\\t\\t\\t<tmEf>2020-01-07 12:00</tmEf>\\r\\n\\t\\t\\t\\t\\t<wf>흐리고 비</wf>\\r\\n\\t\\t\\t\\t\\t<tmn>6</tmn>\\r\\n\\t\\t\\t\\t\\t<tmx>12</tmx>\\r\\n\\t\\t\\t\\t\\t<reliability></reliability>\\r\\n\\t\\t\\t\\t\\t<rnSt>80</rnSt>\\r\\n\\t\\t\\t\\t</data>\\r\\n\\r\\n\\t\\t\\t\\t\\r\\n\\t\\t\\t\\t<data>\\r\\n\\t\\t\\t\\t\\t<mode>A01</mode>\\r\\n\\t\\t\\t\\t\\t<tmEf>2020-01-08 00:00</tmEf>\\r\\n\\t\\t\\t\\t\\t<wf>흐리고 비</wf>\\r\\n\\t\\t\\t\\t\\t<tmn>6</tmn>\\r\\n\\t\\t\\t\\t\\t<tmx>9</tmx>\\r\\n\\t\\t\\t\\t\\t<reliability></reliability>\\r\\n\\t\\t\\t\\t\\t<rnSt>70</rnSt>\\r\\n\\t\\t\\t\\t</data>\\r\\n\\r\\n\\t\\t\\t\\t\\r\\n\\t\\t\\t\\t<data>\\r\\n\\t\\t\\t\\t\\t<mode>A01</mode>\\r\\n\\t\\t\\t\\t\\t<tmEf>2020-01-09 00:00</tmEf>\\r\\n\\t\\t\\t\\t\\t<wf>구름많음</wf>\\r\\n\\t\\t\\t\\t\\t<tmn>1</tmn>\\r\\n\\t\\t\\t\\t\\t<tmx>7</tmx>\\r\\n\\t\\t\\t\\t\\t<reliability></reliability>\\r\\n\\t\\t\\t\\t\\t<rnSt>40</rnSt>\\r\\n\\t\\t\\t\\t</data>\\r\\n\\r\\n\\t\\t\\t\\t\\r\\n\\t\\t\\t\\t<data>\\r\\n\\t\\t\\t\\t\\t<mode>A01</mode>\\r\\n\\t\\t\\t\\t\\t<tmEf>2020-01-10 00:00</tmEf>\\r\\n\\t\\t\\t\\t\\t<wf>구름많음</wf>\\r\\n\\t\\t\\t\\t\\t<tmn>1</tmn>\\r\\n\\t\\t\\t\\t\\t<tmx>9</tmx>\\r\\n\\t\\t\\t\\t\\t<reliability></reliability>\\r\\n\\t\\t\\t\\t\\t<rnSt>30</rnSt>\\r\\n\\t\\t\\t\\t</data>\\r\\n\\r\\n\\r\\n\\t\\t</location>\\r\\n\\r\\n\\t\\t<location wl_ver=\"3\">\\r\\n\\t\\t\\t\\t<province>광주ㆍ전라남도</province>\\r\\n\\t\\t\\t\\t<city>목포</city>\\r\\n\\t\\t\\t\\t\\r\\n\\t\\t\\t\\t<data>\\r\\n\\t\\t\\t\\t\\t<mode>A02</mode>\\r\\n\\t\\t\\t\\t\\t<tmEf>2020-01-03 00:00</tmEf>\\r\\n\\t\\t\\t\\t\\t<wf>구름많음</wf>\\r\\n\\t\\t\\t\\t\\t<tmn>3</tmn>\\r\\n\\t\\t\\t\\t\\t<tmx>8</tmx>\\r\\n\\t\\t\\t\\t\\t<reliability></reliability>\\r\\n\\t\\t\\t\\t\\t<rnSt>30</rnSt>\\r\\n\\t\\t\\t\\t</data>\\r\\n\\r\\n\\t\\t\\t\\t\\r\\n\\t\\t\\t\\t<data>\\r\\n\\t\\t\\t\\t\\t<mode>A02</mode>\\r\\n\\t\\t\\t\\t\\t<tmEf>2020-01-03 12:00</tmEf>\\r\\n\\t\\t\\t\\t\\t<wf>구름많음</wf>\\r\\n\\t\\t\\t\\t\\t<tmn>3</tmn>\\r\\n\\t\\t\\t\\t\\t<tmx>8</tmx>\\r\\n\\t\\t\\t\\t\\t<reliability></reliability>\\r\\n\\t\\t\\t\\t\\t<rnSt>30</rnSt>\\r\\n\\t\\t\\t\\t</data>\\r\\n\\r\\n\\t\\t\\t\\t\\r\\n\\t\\t\\t\\t<data>\\r\\n\\t\\t\\t\\t\\t<mode>A02</mode>\\r\\n\\t\\t\\t\\t\\t<tmEf>2020-01-04 00:00</tmEf>\\r\\n\\t\\t\\t\\t\\t<wf>구름많음</wf>\\r\\n\\t\\t\\t\\t\\t<tmn>4</tmn>\\r\\n\\t\\t\\t\\t\\t<tmx>8</tmx>\\r\\n\\t\\t\\t\\t\\t<reliability></reliability>\\r\\n\\t\\t\\t\\t\\t<rnSt>30</rnSt>\\r\\n\\t\\t\\t\\t</data>\\r\\n\\r\\n\\t\\t\\t\\t\\r\\n\\t\\t\\t\\t<data>\\r\\n\\t\\t\\t\\t\\t<mode>A02</mode>\\r\\n\\t\\t\\t\\t\\t<tmEf>2020-01-04 12:00</tmEf>\\r\\n\\t\\t\\t\\t\\t<wf>맑음</wf>\\r\\n\\t\\t\\t\\t\\t<tmn>4</tmn>\\r\\n\\t\\t\\t\\t\\t<tmx>8</tmx>\\r\\n\\t\\t\\t\\t\\t<reliability></reliability>\\r\\n\\t\\t\\t\\t\\t<rnSt>0</rnSt>\\r\\n\\t\\t\\t\\t</data>\\r\\n\\r\\n\\t\\t\\t\\t\\r\\n\\t\\t\\t\\t<data>\\r\\n\\t\\t\\t\\t\\t<mode>A02</mode>\\r\\n\\t\\t\\t\\t\\t<tmEf>2020-01-05 00:00</tmEf>\\r\\n\\t\\t\\t\\t\\t<wf>맑음</wf>\\r\\n\\t\\t\\t\\t\\t<tmn>0</tmn>\\r\\n\\t\\t\\t\\t\\t<tmx>7</tmx>\\r\\n\\t\\t\\t\\t\\t<reliability></reliability>\\r\\n\\t\\t\\t\\t\\t<rnSt>0</rnSt>\\r\\n\\t\\t\\t\\t</data>\\r\\n\\r\\n\\t\\t\\t\\t\\r\\n\\t\\t\\t\\t<data>\\r\\n\\t\\t\\t\\t\\t<mode>A02</mode>\\r\\n\\t\\t\\t\\t\\t<tmEf>2020-01-05 12:00</tmEf>\\r\\n\\t\\t\\t\\t\\t<wf>구름많음</wf>\\r\\n\\t\\t\\t\\t\\t<tmn>0</tmn>\\r\\n\\t\\t\\t\\t\\t<tmx>7</tmx>\\r\\n\\t\\t\\t\\t\\t<reliability></reliability>\\r\\n\\t\\t\\t\\t\\t<rnSt>30</rnSt>\\r\\n\\t\\t\\t\\t</data>\\r\\n\\r\\n\\t\\t\\t\\t\\r\\n\\t\\t\\t\\t<data>\\r\\n\\t\\t\\t\\t\\t<mode>A02</mode>\\r\\n\\t\\t\\t\\t\\t<tmEf>2020-01-06 00:00</tmEf>\\r\\n\\t\\t\\t\\t\\t<wf>구름많음</wf>\\r\\n\\t\\t\\t\\t\\t<tmn>3</tmn>\\r\\n\\t\\t\\t\\t\\t<tmx>8</tmx>\\r\\n\\t\\t\\t\\t\\t<reliability></reliability>\\r\\n\\t\\t\\t\\t\\t<rnSt>30</rnSt>\\r\\n\\t\\t\\t\\t</data>\\r\\n\\r\\n\\t\\t\\t\\t\\r\\n\\t\\t\\t\\t<data>\\r\\n\\t\\t\\t\\t\\t<mode>A02</mode>\\r\\n\\t\\t\\t\\t\\t<tmEf>2020-01-06 12:00</tmEf>\\r\\n\\t\\t\\t\\t\\t<wf>흐리고 비</wf>\\r\\n\\t\\t\\t\\t\\t<tmn>3</tmn>\\r\\n\\t\\t\\t\\t\\t<tmx>8</tmx>\\r\\n\\t\\t\\t\\t\\t<reliability></reliability>\\r\\n\\t\\t\\t\\t\\t<rnSt>80</rnSt>\\r\\n\\t\\t\\t\\t</data>\\r\\n\\r\\n\\t\\t\\t\\t\\r\\n\\t\\t\\t\\t<data>\\r\\n\\t\\t\\t\\t\\t<mode>A02</mode>\\r\\n\\t\\t\\t\\t\\t<tmEf>2020-01-07 00:00</tmEf>\\r\\n\\t\\t\\t\\t\\t<wf>흐리고 비</wf>\\r\\n\\t\\t\\t\\t\\t<tmn>6</tmn>\\r\\n\\t\\t\\t\\t\\t<tmx>9</tmx>\\r\\n\\t\\t\\t\\t\\t<reliability></reliability>\\r\\n\\t\\t\\t\\t\\t<rnSt>80</rnSt>\\r\\n\\t\\t\\t\\t</data>\\r\\n\\r\\n\\t\\t\\t\\t\\r\\n\\t\\t\\t\\t<data>\\r\\n\\t\\t\\t\\t\\t<mode>A02</mode>\\r\\n\\t\\t\\t\\t\\t<tmEf>2020-01-07 12:00</tmEf>\\r\\n\\t\\t\\t\\t\\t<wf>흐리고 비</wf>\\r\\n\\t\\t\\t\\t\\t<tmn>6</tmn>\\r\\n\\t\\t\\t\\t\\t<tmx>9</tmx>\\r\\n\\t\\t\\t\\t\\t<reliability></reliability>\\r\\n\\t\\t\\t\\t\\t<rnSt>80</rnSt>\\r\\n\\t\\t\\t\\t</data>\\r\\n\\r\\n\\t\\t\\t\\t\\r\\n\\t\\t\\t\\t<data>\\r\\n\\t\\t\\t\\t\\t<mode>A01</mode>\\r\\n\\t\\t\\t\\t\\t<tmEf>2020-01-08 00:00</tmEf>\\r\\n\\t\\t\\t\\t\\t<wf>흐리고 비</wf>\\r\\n\\t\\t\\t\\t\\t<tmn>5</tmn>\\r\\n\\t\\t\\t\\t\\t<tmx>8</tmx>\\r\\n\\t\\t\\t\\t\\t<reliability></reliability>\\r\\n\\t\\t\\t\\t\\t<rnSt>70</rnSt>\\r\\n\\t\\t\\t\\t</data>\\r\\n\\r\\n\\t\\t\\t\\t\\r\\n\\t\\t\\t\\t<data>\\r\\n\\t\\t\\t\\t\\t<mode>A01</mode>\\r\\n\\t\\t\\t\\t\\t<tmEf>2020-01-09 00:00</tmEf>\\r\\n\\t\\t\\t\\t\\t<wf>구름많음</wf>\\r\\n\\t\\t\\t\\t\\t<tmn>2</tmn>\\r\\n\\t\\t\\t\\t\\t<tmx>6</tmx>\\r\\n\\t\\t\\t\\t\\t<reliability></reliability>\\r\\n\\t\\t\\t\\t\\t<rnSt>40</rnSt>\\r\\n\\t\\t\\t\\t</data>\\r\\n\\r\\n\\t\\t\\t\\t\\r\\n\\t\\t\\t\\t<data>\\r\\n\\t\\t\\t\\t\\t<mode>A01</mode>\\r\\n\\t\\t\\t\\t\\t<tmEf>2020-01-10 00:00</tmEf>\\r\\n\\t\\t\\t\\t\\t<wf>구름많음</wf>\\r\\n\\t\\t\\t\\t\\t<tmn>2</tmn>\\r\\n\\t\\t\\t\\t\\t<tmx>7</tmx>\\r\\n\\t\\t\\t\\t\\t<reliability></reliability>\\r\\n\\t\\t\\t\\t\\t<rnSt>30</rnSt>\\r\\n\\t\\t\\t\\t</data>\\r\\n\\r\\n\\r\\n\\t\\t</location>\\r\\n\\r\\n\\t\\t<location wl_ver=\"3\">\\r\\n\\t\\t\\t\\t<province>광주ㆍ전라남도</province>\\r\\n\\t\\t\\t\\t<city>여수</city>\\r\\n\\t\\t\\t\\t\\r\\n\\t\\t\\t\\t<data>\\r\\n\\t\\t\\t\\t\\t<mode>A02</mode>\\r\\n\\t\\t\\t\\t\\t<tmEf>2020-01-03 00:00</tmEf>\\r\\n\\t\\t\\t\\t\\t<wf>구름많음</wf>\\r\\n\\t\\t\\t\\t\\t<tmn>3</tmn>\\r\\n\\t\\t\\t\\t\\t<tmx>10</tmx>\\r\\n\\t\\t\\t\\t\\t<reliability></reliability>\\r\\n\\t\\t\\t\\t\\t<rnSt>30</rnSt>\\r\\n\\t\\t\\t\\t</data>\\r\\n\\r\\n\\t\\t\\t\\t\\r\\n\\t\\t\\t\\t<data>\\r\\n\\t\\t\\t\\t\\t<mode>A02</mode>\\r\\n\\t\\t\\t\\t\\t<tmEf>2020-01-03 12:00</tmEf>\\r\\n\\t\\t\\t\\t\\t<wf>구름많음</wf>\\r\\n\\t\\t\\t\\t\\t<tmn>3</tmn>\\r\\n\\t\\t\\t\\t\\t<tmx>10</tmx>\\r\\n\\t\\t\\t\\t\\t<reliability></reliability>\\r\\n\\t\\t\\t\\t\\t<rnSt>30</rnSt>\\r\\n\\t\\t\\t\\t</data>\\r\\n\\r\\n\\t\\t\\t\\t\\r\\n\\t\\t\\t\\t<data>\\r\\n\\t\\t\\t\\t\\t<mode>A02</mode>\\r\\n\\t\\t\\t\\t\\t<tmEf>2020-01-04 00:00</tmEf>\\r\\n\\t\\t\\t\\t\\t<wf>구름많음</wf>\\r\\n\\t\\t\\t\\t\\t<tmn>4</tmn>\\r\\n\\t\\t\\t\\t\\t<tmx>10</tmx>\\r\\n\\t\\t\\t\\t\\t<reliability></reliability>\\r\\n\\t\\t\\t\\t\\t<rnSt>30</rnSt>\\r\\n\\t\\t\\t\\t</data>\\r\\n\\r\\n\\t\\t\\t\\t\\r\\n\\t\\t\\t\\t<data>\\r\\n\\t\\t\\t\\t\\t<mode>A02</mode>\\r\\n\\t\\t\\t\\t\\t<tmEf>2020-01-04 12:00</tmEf>\\r\\n\\t\\t\\t\\t\\t<wf>맑음</wf>\\r\\n\\t\\t\\t\\t\\t<tmn>4</tmn>\\r\\n\\t\\t\\t\\t\\t<tmx>10</tmx>\\r\\n\\t\\t\\t\\t\\t<reliability></reliability>\\r\\n\\t\\t\\t\\t\\t<rnSt>0</rnSt>\\r\\n\\t\\t\\t\\t</data>\\r\\n\\r\\n\\t\\t\\t\\t\\r\\n\\t\\t\\t\\t<data>\\r\\n\\t\\t\\t\\t\\t<mode>A02</mode>\\r\\n\\t\\t\\t\\t\\t<tmEf>2020-01-05 00:00</tmEf>\\r\\n\\t\\t\\t\\t\\t<wf>맑음</wf>\\r\\n\\t\\t\\t\\t\\t<tmn>2</tmn>\\r\\n\\t\\t\\t\\t\\t<tmx>9</tmx>\\r\\n\\t\\t\\t\\t\\t<reliability></reliability>\\r\\n\\t\\t\\t\\t\\t<rnSt>0</rnSt>\\r\\n\\t\\t\\t\\t</data>\\r\\n\\r\\n\\t\\t\\t\\t\\r\\n\\t\\t\\t\\t<data>\\r\\n\\t\\t\\t\\t\\t<mode>A02</mode>\\r\\n\\t\\t\\t\\t\\t<tmEf>2020-01-05 12:00</tmEf>\\r\\n\\t\\t\\t\\t\\t<wf>구름많음</wf>\\r\\n\\t\\t\\t\\t\\t<tmn>2</tmn>\\r\\n\\t\\t\\t\\t\\t<tmx>9</tmx>\\r\\n\\t\\t\\t\\t\\t<reliability></reliability>\\r\\n\\t\\t\\t\\t\\t<rnSt>30</rnSt>\\r\\n\\t\\t\\t\\t</data>\\r\\n\\r\\n\\t\\t\\t\\t\\r\\n\\t\\t\\t\\t<data>\\r\\n\\t\\t\\t\\t\\t<mode>A02</mode>\\r\\n\\t\\t\\t\\t\\t<tmEf>2020-01-06 00:00</tmEf>\\r\\n\\t\\t\\t\\t\\t<wf>구름많음</wf>\\r\\n\\t\\t\\t\\t\\t<tmn>4</tmn>\\r\\n\\t\\t\\t\\t\\t<tmx>9</tmx>\\r\\n\\t\\t\\t\\t\\t<reliability></reliability>\\r\\n\\t\\t\\t\\t\\t<rnSt>30</rnSt>\\r\\n\\t\\t\\t\\t</data>\\r\\n\\r\\n\\t\\t\\t\\t\\r\\n\\t\\t\\t\\t<data>\\r\\n\\t\\t\\t\\t\\t<mode>A02</mode>\\r\\n\\t\\t\\t\\t\\t<tmEf>2020-01-06 12:00</tmEf>\\r\\n\\t\\t\\t\\t\\t<wf>흐리고 비</wf>\\r\\n\\t\\t\\t\\t\\t<tmn>4</tmn>\\r\\n\\t\\t\\t\\t\\t<tmx>9</tmx>\\r\\n\\t\\t\\t\\t\\t<reliability></reliability>\\r\\n\\t\\t\\t\\t\\t<rnSt>80</rnSt>\\r\\n\\t\\t\\t\\t</data>\\r\\n\\r\\n\\t\\t\\t\\t\\r\\n\\t\\t\\t\\t<data>\\r\\n\\t\\t\\t\\t\\t<mode>A02</mode>\\r\\n\\t\\t\\t\\t\\t<tmEf>2020-01-07 00:00</tmEf>\\r\\n\\t\\t\\t\\t\\t<wf>흐리고 비</wf>\\r\\n\\t\\t\\t\\t\\t<tmn>7</tmn>\\r\\n\\t\\t\\t\\t\\t<tmx>11</tmx>\\r\\n\\t\\t\\t\\t\\t<reliability></reliability>\\r\\n\\t\\t\\t\\t\\t<rnSt>80</rnSt>\\r\\n\\t\\t\\t\\t</data>\\r\\n\\r\\n\\t\\t\\t\\t\\r\\n\\t\\t\\t\\t<data>\\r\\n\\t\\t\\t\\t\\t<mode>A02</mode>\\r\\n\\t\\t\\t\\t\\t<tmEf>2020-01-07 12:00</tmEf>\\r\\n\\t\\t\\t\\t\\t<wf>흐리고 비</wf>\\r\\n\\t\\t\\t\\t\\t<tmn>7</tmn>\\r\\n\\t\\t\\t\\t\\t<tmx>11</tmx>\\r\\n\\t\\t\\t\\t\\t<reliability></reliability>\\r\\n\\t\\t\\t\\t\\t<rnSt>80</rnSt>\\r\\n\\t\\t\\t\\t</data>\\r\\n\\r\\n\\t\\t\\t\\t\\r\\n\\t\\t\\t\\t<data>\\r\\n\\t\\t\\t\\t\\t<mode>A01</mode>\\r\\n\\t\\t\\t\\t\\t<tmEf>2020-01-08 00:00</tmEf>\\r\\n\\t\\t\\t\\t\\t<wf>흐리고 비</wf>\\r\\n\\t\\t\\t\\t\\t<tmn>7</tmn>\\r\\n\\t\\t\\t\\t\\t<tmx>9</tmx>\\r\\n\\t\\t\\t\\t\\t<reliability></reliability>\\r\\n\\t\\t\\t\\t\\t<rnSt>70</rnSt>\\r\\n\\t\\t\\t\\t</data>\\r\\n\\r\\n\\t\\t\\t\\t\\r\\n\\t\\t\\t\\t<data>\\r\\n\\t\\t\\t\\t\\t<mode>A01</mode>\\r\\n\\t\\t\\t\\t\\t<tmEf>2020-01-09 00:00</tmEf>\\r\\n\\t\\t\\t\\t\\t<wf>구름많음</wf>\\r\\n\\t\\t\\t\\t\\t<tmn>3</tmn>\\r\\n\\t\\t\\t\\t\\t<tmx>8</tmx>\\r\\n\\t\\t\\t\\t\\t<reliability></reliability>\\r\\n\\t\\t\\t\\t\\t<rnSt>40</rnSt>\\r\\n\\t\\t\\t\\t</data>\\r\\n\\r\\n\\t\\t\\t\\t\\r\\n\\t\\t\\t\\t<data>\\r\\n\\t\\t\\t\\t\\t<mode>A01</mode>\\r\\n\\t\\t\\t\\t\\t<tmEf>2020-01-10 00:00</tmEf>\\r\\n\\t\\t\\t\\t\\t<wf>구름많음</wf>\\r\\n\\t\\t\\t\\t\\t<tmn>3</tmn>\\r\\n\\t\\t\\t\\t\\t<tmx>9</tmx>\\r\\n\\t\\t\\t\\t\\t<reliability></reliability>\\r\\n\\t\\t\\t\\t\\t<rnSt>30</rnSt>\\r\\n\\t\\t\\t\\t</data>\\r\\n\\r\\n\\r\\n\\t\\t</location>\\r\\n\\r\\n\\t\\t<location wl_ver=\"3\">\\r\\n\\t\\t\\t\\t<province>광주ㆍ전라남도</province>\\r\\n\\t\\t\\t\\t<city>순천</city>\\r\\n\\t\\t\\t\\t\\r\\n\\t\\t\\t\\t<data>\\r\\n\\t\\t\\t\\t\\t<mode>A02</mode>\\r\\n\\t\\t\\t\\t\\t<tmEf>2020-01-03 00:00</tmEf>\\r\\n\\t\\t\\t\\t\\t<wf>구름많음</wf>\\r\\n\\t\\t\\t\\t\\t<tmn>1</tmn>\\r\\n\\t\\t\\t\\t\\t<tmx>10</tmx>\\r\\n\\t\\t\\t\\t\\t<reliability></reliability>\\r\\n\\t\\t\\t\\t\\t<rnSt>30</rnSt>\\r\\n\\t\\t\\t\\t</data>\\r\\n\\r\\n\\t\\t\\t\\t\\r\\n\\t\\t\\t\\t<data>\\r\\n\\t\\t\\t\\t\\t<mode>A02</mode>\\r\\n\\t\\t\\t\\t\\t<tmEf>2020-01-03 12:00</tmEf>\\r\\n\\t\\t\\t\\t\\t<wf>구름많음</wf>\\r\\n\\t\\t\\t\\t\\t<tmn>1</tmn>\\r\\n\\t\\t\\t\\t\\t<tmx>10</tmx>\\r\\n\\t\\t\\t\\t\\t<reliability></reliability>\\r\\n\\t\\t\\t\\t\\t<rnSt>30</rnSt>\\r\\n\\t\\t\\t\\t</data>\\r\\n\\r\\n\\t\\t\\t\\t\\r\\n\\t\\t\\t\\t<data>\\r\\n\\t\\t\\t\\t\\t<mode>A02</mode>\\r\\n\\t\\t\\t\\t\\t<tmEf>2020-01-04 00:00</tmEf>\\r\\n\\t\\t\\t\\t\\t<wf>구름많음</wf>\\r\\n\\t\\t\\t\\t\\t<tmn>3</tmn>\\r\\n\\t\\t\\t\\t\\t<tmx>11</tmx>\\r\\n\\t\\t\\t\\t\\t<reliability></reliability>\\r\\n\\t\\t\\t\\t\\t<rnSt>30</rnSt>\\r\\n\\t\\t\\t\\t</data>\\r\\n\\r\\n\\t\\t\\t\\t\\r\\n\\t\\t\\t\\t<data>\\r\\n\\t\\t\\t\\t\\t<mode>A02</mode>\\r\\n\\t\\t\\t\\t\\t<tmEf>2020-01-04 12:00</tmEf>\\r\\n\\t\\t\\t\\t\\t<wf>맑음</wf>\\r\\n\\t\\t\\t\\t\\t<tmn>3</tmn>\\r\\n\\t\\t\\t\\t\\t<tmx>11</tmx>\\r\\n\\t\\t\\t\\t\\t<reliability></reliability>\\r\\n\\t\\t\\t\\t\\t<rnSt>0</rnSt>\\r\\n\\t\\t\\t\\t</data>\\r\\n\\r\\n\\t\\t\\t\\t\\r\\n\\t\\t\\t\\t<data>\\r\\n\\t\\t\\t\\t\\t<mode>A02</mode>\\r\\n\\t\\t\\t\\t\\t<tmEf>2020-01-05 00:00</tmEf>\\r\\n\\t\\t\\t\\t\\t<wf>맑음</wf>\\r\\n\\t\\t\\t\\t\\t<tmn>0</tmn>\\r\\n\\t\\t\\t\\t\\t<tmx>10</tmx>\\r\\n\\t\\t\\t\\t\\t<reliability></reliability>\\r\\n\\t\\t\\t\\t\\t<rnSt>0</rnSt>\\r\\n\\t\\t\\t\\t</data>\\r\\n\\r\\n\\t\\t\\t\\t\\r\\n\\t\\t\\t\\t<data>\\r\\n\\t\\t\\t\\t\\t<mode>A02</mode>\\r\\n\\t\\t\\t\\t\\t<tmEf>2020-01-05 12:00</tmEf>\\r\\n\\t\\t\\t\\t\\t<wf>구름많음</wf>\\r\\n\\t\\t\\t\\t\\t<tmn>0</tmn>\\r\\n\\t\\t\\t\\t\\t<tmx>10</tmx>\\r\\n\\t\\t\\t\\t\\t<reliability></reliability>\\r\\n\\t\\t\\t\\t\\t<rnSt>30</rnSt>\\r\\n\\t\\t\\t\\t</data>\\r\\n\\r\\n\\t\\t\\t\\t\\r\\n\\t\\t\\t\\t<data>\\r\\n\\t\\t\\t\\t\\t<mode>A02</mode>\\r\\n\\t\\t\\t\\t\\t<tmEf>2020-01-06 00:00</tmEf>\\r\\n\\t\\t\\t\\t\\t<wf>구름많음</wf>\\r\\n\\t\\t\\t\\t\\t<tmn>1</tmn>\\r\\n\\t\\t\\t\\t\\t<tmx>10</tmx>\\r\\n\\t\\t\\t\\t\\t<reliability></reliability>\\r\\n\\t\\t\\t\\t\\t<rnSt>30</rnSt>\\r\\n\\t\\t\\t\\t</data>\\r\\n\\r\\n\\t\\t\\t\\t\\r\\n\\t\\t\\t\\t<data>\\r\\n\\t\\t\\t\\t\\t<mode>A02</mode>\\r\\n\\t\\t\\t\\t\\t<tmEf>2020-01-06 12:00</tmEf>\\r\\n\\t\\t\\t\\t\\t<wf>흐리고 비</wf>\\r\\n\\t\\t\\t\\t\\t<tmn>1</tmn>\\r\\n\\t\\t\\t\\t\\t<tmx>10</tmx>\\r\\n\\t\\t\\t\\t\\t<reliability></reliability>\\r\\n\\t\\t\\t\\t\\t<rnSt>80</rnSt>\\r\\n\\t\\t\\t\\t</data>\\r\\n\\r\\n\\t\\t\\t\\t\\r\\n\\t\\t\\t\\t<data>\\r\\n\\t\\t\\t\\t\\t<mode>A02</mode>\\r\\n\\t\\t\\t\\t\\t<tmEf>2020-01-07 00:00</tmEf>\\r\\n\\t\\t\\t\\t\\t<wf>흐리고 비</wf>\\r\\n\\t\\t\\t\\t\\t<tmn>5</tmn>\\r\\n\\t\\t\\t\\t\\t<tmx>13</tmx>\\r\\n\\t\\t\\t\\t\\t<reliability></reliability>\\r\\n\\t\\t\\t\\t\\t<rnSt>80</rnSt>\\r\\n\\t\\t\\t\\t</data>\\r\\n\\r\\n\\t\\t\\t\\t\\r\\n\\t\\t\\t\\t<data>\\r\\n\\t\\t\\t\\t\\t<mode>A02</mode>\\r\\n\\t\\t\\t\\t\\t<tmEf>2020-01-07 12:00</tmEf>\\r\\n\\t\\t\\t\\t\\t<wf>흐리고 비</wf>\\r\\n\\t\\t\\t\\t\\t<tmn>5</tmn>\\r\\n\\t\\t\\t\\t\\t<tmx>13</tmx>\\r\\n\\t\\t\\t\\t\\t<reliability></reliability>\\r\\n\\t\\t\\t\\t\\t<rnSt>80</rnSt>\\r\\n\\t\\t\\t\\t</data>\\r\\n\\r\\n\\t\\t\\t\\t\\r\\n\\t\\t\\t\\t<data>\\r\\n\\t\\t\\t\\t\\t<mode>A01</mode>\\r\\n\\t\\t\\t\\t\\t<tmEf>2020-01-08 00:00</tmEf>\\r\\n\\t\\t\\t\\t\\t<wf>흐리고 비</wf>\\r\\n\\t\\t\\t\\t\\t<tmn>6</tmn>\\r\\n\\t\\t\\t\\t\\t<tmx>8</tmx>\\r\\n\\t\\t\\t\\t\\t<reliability></reliability>\\r\\n\\t\\t\\t\\t\\t<rnSt>70</rnSt>\\r\\n\\t\\t\\t\\t</data>\\r\\n\\r\\n\\t\\t\\t\\t\\r\\n\\t\\t\\t\\t<data>\\r\\n\\t\\t\\t\\t\\t<mode>A01</mode>\\r\\n\\t\\t\\t\\t\\t<tmEf>2020-01-09 00:00</tmEf>\\r\\n\\t\\t\\t\\t\\t<wf>구름많음</wf>\\r\\n\\t\\t\\t\\t\\t<tmn>0</tmn>\\r\\n\\t\\t\\t\\t\\t<tmx>6</tmx>\\r\\n\\t\\t\\t\\t\\t<reliability></reliability>\\r\\n\\t\\t\\t\\t\\t<rnSt>40</rnSt>\\r\\n\\t\\t\\t\\t</data>\\r\\n\\r\\n\\t\\t\\t\\t\\r\\n\\t\\t\\t\\t<data>\\r\\n\\t\\t\\t\\t\\t<mode>A01</mode>\\r\\n\\t\\t\\t\\t\\t<tmEf>2020-01-10 00:00</tmEf>\\r\\n\\t\\t\\t\\t\\t<wf>구름많음</wf>\\r\\n\\t\\t\\t\\t\\t<tmn>0</tmn>\\r\\n\\t\\t\\t\\t\\t<tmx>9</tmx>\\r\\n\\t\\t\\t\\t\\t<reliability></reliability>\\r\\n\\t\\t\\t\\t\\t<rnSt>30</rnSt>\\r\\n\\t\\t\\t\\t</data>\\r\\n\\r\\n\\r\\n\\t\\t</location>\\r\\n\\r\\n\\t\\t<location wl_ver=\"3\">\\r\\n\\t\\t\\t\\t<province>광주ㆍ전라남도</province>\\r\\n\\t\\t\\t\\t<city>광양</city>\\r\\n\\t\\t\\t\\t\\r\\n\\t\\t\\t\\t<data>\\r\\n\\t\\t\\t\\t\\t<mode>A02</mode>\\r\\n\\t\\t\\t\\t\\t<tmEf>2020-01-03 00:00</tmEf>\\r\\n\\t\\t\\t\\t\\t<wf>구름많음</wf>\\r\\n\\t\\t\\t\\t\\t<tmn>2</tmn>\\r\\n\\t\\t\\t\\t\\t<tmx>10</tmx>\\r\\n\\t\\t\\t\\t\\t<reliability></reliability>\\r\\n\\t\\t\\t\\t\\t<rnSt>30</rnSt>\\r\\n\\t\\t\\t\\t</data>\\r\\n\\r\\n\\t\\t\\t\\t\\r\\n\\t\\t\\t\\t<data>\\r\\n\\t\\t\\t\\t\\t<mode>A02</mode>\\r\\n\\t\\t\\t\\t\\t<tmEf>2020-01-03 12:00</tmEf>\\r\\n\\t\\t\\t\\t\\t<wf>구름많음</wf>\\r\\n\\t\\t\\t\\t\\t<tmn>2</tmn>\\r\\n\\t\\t\\t\\t\\t<tmx>10</tmx>\\r\\n\\t\\t\\t\\t\\t<reliability></reliability>\\r\\n\\t\\t\\t\\t\\t<rnSt>30</rnSt>\\r\\n\\t\\t\\t\\t</data>\\r\\n\\r\\n\\t\\t\\t\\t\\r\\n\\t\\t\\t\\t<data>\\r\\n\\t\\t\\t\\t\\t<mode>A02</mode>\\r\\n\\t\\t\\t\\t\\t<tmEf>2020-01-04 00:00</tmEf>\\r\\n\\t\\t\\t\\t\\t<wf>구름많음</wf>\\r\\n\\t\\t\\t\\t\\t<tmn>4</tmn>\\r\\n\\t\\t\\t\\t\\t<tmx>11</tmx>\\r\\n\\t\\t\\t\\t\\t<reliability></reliability>\\r\\n\\t\\t\\t\\t\\t<rnSt>30</rnSt>\\r\\n\\t\\t\\t\\t</data>\\r\\n\\r\\n\\t\\t\\t\\t\\r\\n\\t\\t\\t\\t<data>\\r\\n\\t\\t\\t\\t\\t<mode>A02</mode>\\r\\n\\t\\t\\t\\t\\t<tmEf>2020-01-04 12:00</tmEf>\\r\\n\\t\\t\\t\\t\\t<wf>맑음</wf>\\r\\n\\t\\t\\t\\t\\t<tmn>4</tmn>\\r\\n\\t\\t\\t\\t\\t<tmx>11</tmx>\\r\\n\\t\\t\\t\\t\\t<reliability></reliability>\\r\\n\\t\\t\\t\\t\\t<rnSt>0</rnSt>\\r\\n\\t\\t\\t\\t</data>\\r\\n\\r\\n\\t\\t\\t\\t\\r\\n\\t\\t\\t\\t<data>\\r\\n\\t\\t\\t\\t\\t<mode>A02</mode>\\r\\n\\t\\t\\t\\t\\t<tmEf>2020-01-05 00:00</tmEf>\\r\\n\\t\\t\\t\\t\\t<wf>맑음</wf>\\r\\n\\t\\t\\t\\t\\t<tmn>0</tmn>\\r\\n\\t\\t\\t\\t\\t<tmx>11</tmx>\\r\\n\\t\\t\\t\\t\\t<reliability></reliability>\\r\\n\\t\\t\\t\\t\\t<rnSt>0</rnSt>\\r\\n\\t\\t\\t\\t</data>\\r\\n\\r\\n\\t\\t\\t\\t\\r\\n\\t\\t\\t\\t<data>\\r\\n\\t\\t\\t\\t\\t<mode>A02</mode>\\r\\n\\t\\t\\t\\t\\t<tmEf>2020-01-05 12:00</tmEf>\\r\\n\\t\\t\\t\\t\\t<wf>구름많음</wf>\\r\\n\\t\\t\\t\\t\\t<tmn>0</tmn>\\r\\n\\t\\t\\t\\t\\t<tmx>11</tmx>\\r\\n\\t\\t\\t\\t\\t<reliability></reliability>\\r\\n\\t\\t\\t\\t\\t<rnSt>30</rnSt>\\r\\n\\t\\t\\t\\t</data>\\r\\n\\r\\n\\t\\t\\t\\t\\r\\n\\t\\t\\t\\t<data>\\r\\n\\t\\t\\t\\t\\t<mode>A02</mode>\\r\\n\\t\\t\\t\\t\\t<tmEf>2020-01-06 00:00</tmEf>\\r\\n\\t\\t\\t\\t\\t<wf>구름많음</wf>\\r\\n\\t\\t\\t\\t\\t<tmn>3</tmn>\\r\\n\\t\\t\\t\\t\\t<tmx>10</tmx>\\r\\n\\t\\t\\t\\t\\t<reliability></reliability>\\r\\n\\t\\t\\t\\t\\t<rnSt>30</rnSt>\\r\\n\\t\\t\\t\\t</data>\\r\\n\\r\\n\\t\\t\\t\\t\\r\\n\\t\\t\\t\\t<data>\\r\\n\\t\\t\\t\\t\\t<mode>A02</mode>\\r\\n\\t\\t\\t\\t\\t<tmEf>2020-01-06 12:00</tmEf>\\r\\n\\t\\t\\t\\t\\t<wf>흐리고 비</wf>\\r\\n\\t\\t\\t\\t\\t<tmn>3</tmn>\\r\\n\\t\\t\\t\\t\\t<tmx>10</tmx>\\r\\n\\t\\t\\t\\t\\t<reliability></reliability>\\r\\n\\t\\t\\t\\t\\t<rnSt>80</rnSt>\\r\\n\\t\\t\\t\\t</data>\\r\\n\\r\\n\\t\\t\\t\\t\\r\\n\\t\\t\\t\\t<data>\\r\\n\\t\\t\\t\\t\\t<mode>A02</mode>\\r\\n\\t\\t\\t\\t\\t<tmEf>2020-01-07 00:00</tmEf>\\r\\n\\t\\t\\t\\t\\t<wf>흐리고 비</wf>\\r\\n\\t\\t\\t\\t\\t<tmn>7</tmn>\\r\\n\\t\\t\\t\\t\\t<tmx>13</tmx>\\r\\n\\t\\t\\t\\t\\t<reliability></reliability>\\r\\n\\t\\t\\t\\t\\t<rnSt>80</rnSt>\\r\\n\\t\\t\\t\\t</data>\\r\\n\\r\\n\\t\\t\\t\\t\\r\\n\\t\\t\\t\\t<data>\\r\\n\\t\\t\\t\\t\\t<mode>A02</mode>\\r\\n\\t\\t\\t\\t\\t<tmEf>2020-01-07 12:00</tmEf>\\r\\n\\t\\t\\t\\t\\t<wf>흐리고 비</wf>\\r\\n\\t\\t\\t\\t\\t<tmn>7</tmn>\\r\\n\\t\\t\\t\\t\\t<tmx>13</tmx>\\r\\n\\t\\t\\t\\t\\t<reliability></reliability>\\r\\n\\t\\t\\t\\t\\t<rnSt>80</rnSt>\\r\\n\\t\\t\\t\\t</data>\\r\\n\\r\\n\\t\\t\\t\\t\\r\\n\\t\\t\\t\\t<data>\\r\\n\\t\\t\\t\\t\\t<mode>A01</mode>\\r\\n\\t\\t\\t\\t\\t<tmEf>2020-01-08 00:00</tmEf>\\r\\n\\t\\t\\t\\t\\t<wf>흐리고 비</wf>\\r\\n\\t\\t\\t\\t\\t<tmn>7</tmn>\\r\\n\\t\\t\\t\\t\\t<tmx>10</tmx>\\r\\n\\t\\t\\t\\t\\t<reliability></reliability>\\r\\n\\t\\t\\t\\t\\t<rnSt>70</rnSt>\\r\\n\\t\\t\\t\\t</data>\\r\\n\\r\\n\\t\\t\\t\\t\\r\\n\\t\\t\\t\\t<data>\\r\\n\\t\\t\\t\\t\\t<mode>A01</mode>\\r\\n\\t\\t\\t\\t\\t<tmEf>2020-01-09 00:00</tmEf>\\r\\n\\t\\t\\t\\t\\t<wf>구름많음</wf>\\r\\n\\t\\t\\t\\t\\t<tmn>3</tmn>\\r\\n\\t\\t\\t\\t\\t<tmx>9</tmx>\\r\\n\\t\\t\\t\\t\\t<reliability></reliability>\\r\\n\\t\\t\\t\\t\\t<rnSt>40</rnSt>\\r\\n\\t\\t\\t\\t</data>\\r\\n\\r\\n\\t\\t\\t\\t\\r\\n\\t\\t\\t\\t<data>\\r\\n\\t\\t\\t\\t\\t<mode>A01</mode>\\r\\n\\t\\t\\t\\t\\t<tmEf>2020-01-10 00:00</tmEf>\\r\\n\\t\\t\\t\\t\\t<wf>구름많음</wf>\\r\\n\\t\\t\\t\\t\\t<tmn>3</tmn>\\r\\n\\t\\t\\t\\t\\t<tmx>11</tmx>\\r\\n\\t\\t\\t\\t\\t<reliability></reliability>\\r\\n\\t\\t\\t\\t\\t<rnSt>30</rnSt>\\r\\n\\t\\t\\t\\t</data>\\r\\n\\r\\n\\r\\n\\t\\t</location>\\r\\n\\r\\n\\t\\t<location wl_ver=\"3\">\\r\\n\\t\\t\\t\\t<province>광주ㆍ전라남도</province>\\r\\n\\t\\t\\t\\t<city>나주</city>\\r\\n\\t\\t\\t\\t\\r\\n\\t\\t\\t\\t<data>\\r\\n\\t\\t\\t\\t\\t<mode>A02</mode>\\r\\n\\t\\t\\t\\t\\t<tmEf>2020-01-03 00:00</tmEf>\\r\\n\\t\\t\\t\\t\\t<wf>구름많음</wf>\\r\\n\\t\\t\\t\\t\\t<tmn>-1</tmn>\\r\\n\\t\\t\\t\\t\\t<tmx>9</tmx>\\r\\n\\t\\t\\t\\t\\t<reliability></reliability>\\r\\n\\t\\t\\t\\t\\t<rnSt>30</rnSt>\\r\\n\\t\\t\\t\\t</data>\\r\\n\\r\\n\\t\\t\\t\\t\\r\\n\\t\\t\\t\\t<data>\\r\\n\\t\\t\\t\\t\\t<mode>A02</mode>\\r\\n\\t\\t\\t\\t\\t<tmEf>2020-01-03 12:00</tmEf>\\r\\n\\t\\t\\t\\t\\t<wf>구름많음</wf>\\r\\n\\t\\t\\t\\t\\t<tmn>-1</tmn>\\r\\n\\t\\t\\t\\t\\t<tmx>9</tmx>\\r\\n\\t\\t\\t\\t\\t<reliability></reliability>\\r\\n\\t\\t\\t\\t\\t<rnSt>30</rnSt>\\r\\n\\t\\t\\t\\t</data>\\r\\n\\r\\n\\t\\t\\t\\t\\r\\n\\t\\t\\t\\t<data>\\r\\n\\t\\t\\t\\t\\t<mode>A02</mode>\\r\\n\\t\\t\\t\\t\\t<tmEf>2020-01-04 00:00</tmEf>\\r\\n\\t\\t\\t\\t\\t<wf>구름많음</wf>\\r\\n\\t\\t\\t\\t\\t<tmn>0</tmn>\\r\\n\\t\\t\\t\\t\\t<tmx>10</tmx>\\r\\n\\t\\t\\t\\t\\t<reliability></reliability>\\r\\n\\t\\t\\t\\t\\t<rnSt>30</rnSt>\\r\\n\\t\\t\\t\\t</data>\\r\\n\\r\\n\\t\\t\\t\\t\\r\\n\\t\\t\\t\\t<data>\\r\\n\\t\\t\\t\\t\\t<mode>A02</mode>\\r\\n\\t\\t\\t\\t\\t<tmEf>2020-01-04 12:00</tmEf>\\r\\n\\t\\t\\t\\t\\t<wf>맑음</wf>\\r\\n\\t\\t\\t\\t\\t<tmn>0</tmn>\\r\\n\\t\\t\\t\\t\\t<tmx>10</tmx>\\r\\n\\t\\t\\t\\t\\t<reliability></reliability>\\r\\n\\t\\t\\t\\t\\t<rnSt>0</rnSt>\\r\\n\\t\\t\\t\\t</data>\\r\\n\\r\\n\\t\\t\\t\\t\\r\\n\\t\\t\\t\\t<data>\\r\\n\\t\\t\\t\\t\\t<mode>A02</mode>\\r\\n\\t\\t\\t\\t\\t<tmEf>2020-01-05 00:00</tmEf>\\r\\n\\t\\t\\t\\t\\t<wf>맑음</wf>\\r\\n\\t\\t\\t\\t\\t<tmn>-4</tmn>\\r\\n\\t\\t\\t\\t\\t<tmx>8</tmx>\\r\\n\\t\\t\\t\\t\\t<reliability></reliability>\\r\\n\\t\\t\\t\\t\\t<rnSt>0</rnSt>\\r\\n\\t\\t\\t\\t</data>\\r\\n\\r\\n\\t\\t\\t\\t\\r\\n\\t\\t\\t\\t<data>\\r\\n\\t\\t\\t\\t\\t<mode>A02</mode>\\r\\n\\t\\t\\t\\t\\t<tmEf>2020-01-05 12:00</tmEf>\\r\\n\\t\\t\\t\\t\\t<wf>구름많음</wf>\\r\\n\\t\\t\\t\\t\\t<tmn>-4</tmn>\\r\\n\\t\\t\\t\\t\\t<tmx>8</tmx>\\r\\n\\t\\t\\t\\t\\t<reliability></reliability>\\r\\n\\t\\t\\t\\t\\t<rnSt>30</rnSt>\\r\\n\\t\\t\\t\\t</data>\\r\\n\\r\\n\\t\\t\\t\\t\\r\\n\\t\\t\\t\\t<data>\\r\\n\\t\\t\\t\\t\\t<mode>A02</mode>\\r\\n\\t\\t\\t\\t\\t<tmEf>2020-01-06 00:00</tmEf>\\r\\n\\t\\t\\t\\t\\t<wf>구름많음</wf>\\r\\n\\t\\t\\t\\t\\t<tmn>0</tmn>\\r\\n\\t\\t\\t\\t\\t<tmx>9</tmx>\\r\\n\\t\\t\\t\\t\\t<reliability></reliability>\\r\\n\\t\\t\\t\\t\\t<rnSt>30</rnSt>\\r\\n\\t\\t\\t\\t</data>\\r\\n\\r\\n\\t\\t\\t\\t\\r\\n\\t\\t\\t\\t<data>\\r\\n\\t\\t\\t\\t\\t<mode>A02</mode>\\r\\n\\t\\t\\t\\t\\t<tmEf>2020-01-06 12:00</tmEf>\\r\\n\\t\\t\\t\\t\\t<wf>흐리고 비</wf>\\r\\n\\t\\t\\t\\t\\t<tmn>0</tmn>\\r\\n\\t\\t\\t\\t\\t<tmx>9</tmx>\\r\\n\\t\\t\\t\\t\\t<reliability></reliability>\\r\\n\\t\\t\\t\\t\\t<rnSt>80</rnSt>\\r\\n\\t\\t\\t\\t</data>\\r\\n\\r\\n\\t\\t\\t\\t\\r\\n\\t\\t\\t\\t<data>\\r\\n\\t\\t\\t\\t\\t<mode>A02</mode>\\r\\n\\t\\t\\t\\t\\t<tmEf>2020-01-07 00:00</tmEf>\\r\\n\\t\\t\\t\\t\\t<wf>흐리고 비</wf>\\r\\n\\t\\t\\t\\t\\t<tmn>5</tmn>\\r\\n\\t\\t\\t\\t\\t<tmx>12</tmx>\\r\\n\\t\\t\\t\\t\\t<reliability></reliability>\\r\\n\\t\\t\\t\\t\\t<rnSt>80</rnSt>\\r\\n\\t\\t\\t\\t</data>\\r\\n\\r\\n\\t\\t\\t\\t\\r\\n\\t\\t\\t\\t<data>\\r\\n\\t\\t\\t\\t\\t<mode>A02</mode>\\r\\n\\t\\t\\t\\t\\t<tmEf>2020-01-07 12:00</tmEf>\\r\\n\\t\\t\\t\\t\\t<wf>흐리고 비</wf>\\r\\n\\t\\t\\t\\t\\t<tmn>5</tmn>\\r\\n\\t\\t\\t\\t\\t<tmx>12</tmx>\\r\\n\\t\\t\\t\\t\\t<reliability></reliability>\\r\\n\\t\\t\\t\\t\\t<rnSt>80</rnSt>\\r\\n\\t\\t\\t\\t</data>\\r\\n\\r\\n\\t\\t\\t\\t\\r\\n\\t\\t\\t\\t<data>\\r\\n\\t\\t\\t\\t\\t<mode>A01</mode>\\r\\n\\t\\t\\t\\t\\t<tmEf>2020-01-08 00:00</tmEf>\\r\\n\\t\\t\\t\\t\\t<wf>흐리고 비</wf>\\r\\n\\t\\t\\t\\t\\t<tmn>5</tmn>\\r\\n\\t\\t\\t\\t\\t<tmx>8</tmx>\\r\\n\\t\\t\\t\\t\\t<reliability></reliability>\\r\\n\\t\\t\\t\\t\\t<rnSt>70</rnSt>\\r\\n\\t\\t\\t\\t</data>\\r\\n\\r\\n\\t\\t\\t\\t\\r\\n\\t\\t\\t\\t<data>\\r\\n\\t\\t\\t\\t\\t<mode>A01</mode>\\r\\n\\t\\t\\t\\t\\t<tmEf>2020-01-09 00:00</tmEf>\\r\\n\\t\\t\\t\\t\\t<wf>구름많음</wf>\\r\\n\\t\\t\\t\\t\\t<tmn>-1</tmn>\\r\\n\\t\\t\\t\\t\\t<tmx>5</tmx>\\r\\n\\t\\t\\t\\t\\t<reliability></reliability>\\r\\n\\t\\t\\t\\t\\t<rnSt>40</rnSt>\\r\\n\\t\\t\\t\\t</data>\\r\\n\\r\\n\\t\\t\\t\\t\\r\\n\\t\\t\\t\\t<data>\\r\\n\\t\\t\\t\\t\\t<mode>A01</mode>\\r\\n\\t\\t\\t\\t\\t<tmEf>2020-01-10 00:00</tmEf>\\r\\n\\t\\t\\t\\t\\t<wf>구름많음</wf>\\r\\n\\t\\t\\t\\t\\t<tmn>-3</tmn>\\r\\n\\t\\t\\t\\t\\t<tmx>8</tmx>\\r\\n\\t\\t\\t\\t\\t<reliability></reliability>\\r\\n\\t\\t\\t\\t\\t<rnSt>30</rnSt>\\r\\n\\t\\t\\t\\t</data>\\r\\n\\r\\n\\r\\n\\t\\t</location>\\r\\n\\r\\n\\r\\n\\r\\n\\t\\t<location wl_ver=\"3\">\\r\\n\\t\\t\\t\\t<province>전라북도</province>\\r\\n\\t\\t\\t\\t<city>전주</city>\\r\\n\\t\\t\\t\\t\\r\\n\\t\\t\\t\\t<data>\\r\\n\\t\\t\\t\\t\\t<mode>A02</mode>\\r\\n\\t\\t\\t\\t\\t<tmEf>2020-01-03 00:00</tmEf>\\r\\n\\t\\t\\t\\t\\t<wf>구름많음</wf>\\r\\n\\t\\t\\t\\t\\t<tmn>0</tmn>\\r\\n\\t\\t\\t\\t\\t<tmx>8</tmx>\\r\\n\\t\\t\\t\\t\\t<reliability></reliability>\\r\\n\\t\\t\\t\\t\\t<rnSt>30</rnSt>\\r\\n\\t\\t\\t\\t</data>\\r\\n\\r\\n\\t\\t\\t\\t\\r\\n\\t\\t\\t\\t<data>\\r\\n\\t\\t\\t\\t\\t<mode>A02</mode>\\r\\n\\t\\t\\t\\t\\t<tmEf>2020-01-03 12:00</tmEf>\\r\\n\\t\\t\\t\\t\\t<wf>구름많음</wf>\\r\\n\\t\\t\\t\\t\\t<tmn>0</tmn>\\r\\n\\t\\t\\t\\t\\t<tmx>8</tmx>\\r\\n\\t\\t\\t\\t\\t<reliability></reliability>\\r\\n\\t\\t\\t\\t\\t<rnSt>30</rnSt>\\r\\n\\t\\t\\t\\t</data>\\r\\n\\r\\n\\t\\t\\t\\t\\r\\n\\t\\t\\t\\t<data>\\r\\n\\t\\t\\t\\t\\t<mode>A02</mode>\\r\\n\\t\\t\\t\\t\\t<tmEf>2020-01-04 00:00</tmEf>\\r\\n\\t\\t\\t\\t\\t<wf>맑음</wf>\\r\\n\\t\\t\\t\\t\\t<tmn>1</tmn>\\r\\n\\t\\t\\t\\t\\t<tmx>9</tmx>\\r\\n\\t\\t\\t\\t\\t<reliability></reliability>\\r\\n\\t\\t\\t\\t\\t<rnSt>10</rnSt>\\r\\n\\t\\t\\t\\t</data>\\r\\n\\r\\n\\t\\t\\t\\t\\r\\n\\t\\t\\t\\t<data>\\r\\n\\t\\t\\t\\t\\t<mode>A02</mode>\\r\\n\\t\\t\\t\\t\\t<tmEf>2020-01-04 12:00</tmEf>\\r\\n\\t\\t\\t\\t\\t<wf>맑음</wf>\\r\\n\\t\\t\\t\\t\\t<tmn>1</tmn>\\r\\n\\t\\t\\t\\t\\t<tmx>9</tmx>\\r\\n\\t\\t\\t\\t\\t<reliability></reliability>\\r\\n\\t\\t\\t\\t\\t<rnSt>0</rnSt>\\r\\n\\t\\t\\t\\t</data>\\r\\n\\r\\n\\t\\t\\t\\t\\r\\n\\t\\t\\t\\t<data>\\r\\n\\t\\t\\t\\t\\t<mode>A02</mode>\\r\\n\\t\\t\\t\\t\\t<tmEf>2020-01-05 00:00</tmEf>\\r\\n\\t\\t\\t\\t\\t<wf>맑음</wf>\\r\\n\\t\\t\\t\\t\\t<tmn>-3</tmn>\\r\\n\\t\\t\\t\\t\\t<tmx>7</tmx>\\r\\n\\t\\t\\t\\t\\t<reliability></reliability>\\r\\n\\t\\t\\t\\t\\t<rnSt>0</rnSt>\\r\\n\\t\\t\\t\\t</data>\\r\\n\\r\\n\\t\\t\\t\\t\\r\\n\\t\\t\\t\\t<data>\\r\\n\\t\\t\\t\\t\\t<mode>A02</mode>\\r\\n\\t\\t\\t\\t\\t<tmEf>2020-01-05 12:00</tmEf>\\r\\n\\t\\t\\t\\t\\t<wf>구름많음</wf>\\r\\n\\t\\t\\t\\t\\t<tmn>-3</tmn>\\r\\n\\t\\t\\t\\t\\t<tmx>7</tmx>\\r\\n\\t\\t\\t\\t\\t<reliability></reliability>\\r\\n\\t\\t\\t\\t\\t<rnSt>30</rnSt>\\r\\n\\t\\t\\t\\t</data>\\r\\n\\r\\n\\t\\t\\t\\t\\r\\n\\t\\t\\t\\t<data>\\r\\n\\t\\t\\t\\t\\t<mode>A02</mode>\\r\\n\\t\\t\\t\\t\\t<tmEf>2020-01-06 00:00</tmEf>\\r\\n\\t\\t\\t\\t\\t<wf>구름많음</wf>\\r\\n\\t\\t\\t\\t\\t<tmn>0</tmn>\\r\\n\\t\\t\\t\\t\\t<tmx>9</tmx>\\r\\n\\t\\t\\t\\t\\t<reliability></reliability>\\r\\n\\t\\t\\t\\t\\t<rnSt>30</rnSt>\\r\\n\\t\\t\\t\\t</data>\\r\\n\\r\\n\\t\\t\\t\\t\\r\\n\\t\\t\\t\\t<data>\\r\\n\\t\\t\\t\\t\\t<mode>A02</mode>\\r\\n\\t\\t\\t\\t\\t<tmEf>2020-01-06 12:00</tmEf>\\r\\n\\t\\t\\t\\t\\t<wf>흐리고 비</wf>\\r\\n\\t\\t\\t\\t\\t<tmn>0</tmn>\\r\\n\\t\\t\\t\\t\\t<tmx>9</tmx>\\r\\n\\t\\t\\t\\t\\t<reliability></reliability>\\r\\n\\t\\t\\t\\t\\t<rnSt>80</rnSt>\\r\\n\\t\\t\\t\\t</data>\\r\\n\\r\\n\\t\\t\\t\\t\\r\\n\\t\\t\\t\\t<data>\\r\\n\\t\\t\\t\\t\\t<mode>A02</mode>\\r\\n\\t\\t\\t\\t\\t<tmEf>2020-01-07 00:00</tmEf>\\r\\n\\t\\t\\t\\t\\t<wf>흐리고 비</wf>\\r\\n\\t\\t\\t\\t\\t<tmn>5</tmn>\\r\\n\\t\\t\\t\\t\\t<tmx>9</tmx>\\r\\n\\t\\t\\t\\t\\t<reliability></reliability>\\r\\n\\t\\t\\t\\t\\t<rnSt>80</rnSt>\\r\\n\\t\\t\\t\\t</data>\\r\\n\\r\\n\\t\\t\\t\\t\\r\\n\\t\\t\\t\\t<data>\\r\\n\\t\\t\\t\\t\\t<mode>A02</mode>\\r\\n\\t\\t\\t\\t\\t<tmEf>2020-01-07 12:00</tmEf>\\r\\n\\t\\t\\t\\t\\t<wf>흐리고 비</wf>\\r\\n\\t\\t\\t\\t\\t<tmn>5</tmn>\\r\\n\\t\\t\\t\\t\\t<tmx>9</tmx>\\r\\n\\t\\t\\t\\t\\t<reliability></reliability>\\r\\n\\t\\t\\t\\t\\t<rnSt>70</rnSt>\\r\\n\\t\\t\\t\\t</data>\\r\\n\\r\\n\\t\\t\\t\\t\\r\\n\\t\\t\\t\\t<data>\\r\\n\\t\\t\\t\\t\\t<mode>A01</mode>\\r\\n\\t\\t\\t\\t\\t<tmEf>2020-01-08 00:00</tmEf>\\r\\n\\t\\t\\t\\t\\t<wf>흐리고 비</wf>\\r\\n\\t\\t\\t\\t\\t<tmn>3</tmn>\\r\\n\\t\\t\\t\\t\\t<tmx>8</tmx>\\r\\n\\t\\t\\t\\t\\t<reliability></reliability>\\r\\n\\t\\t\\t\\t\\t<rnSt>70</rnSt>\\r\\n\\t\\t\\t\\t</data>\\r\\n\\r\\n\\t\\t\\t\\t\\r\\n\\t\\t\\t\\t<data>\\r\\n\\t\\t\\t\\t\\t<mode>A01</mode>\\r\\n\\t\\t\\t\\t\\t<tmEf>2020-01-09 00:00</tmEf>\\r\\n\\t\\t\\t\\t\\t<wf>구름많음</wf>\\r\\n\\t\\t\\t\\t\\t<tmn>0</tmn>\\r\\n\\t\\t\\t\\t\\t<tmx>6</tmx>\\r\\n\\t\\t\\t\\t\\t<reliability></reliability>\\r\\n\\t\\t\\t\\t\\t<rnSt>40</rnSt>\\r\\n\\t\\t\\t\\t</data>\\r\\n\\r\\n\\t\\t\\t\\t\\r\\n\\t\\t\\t\\t<data>\\r\\n\\t\\t\\t\\t\\t<mode>A01</mode>\\r\\n\\t\\t\\t\\t\\t<tmEf>2020-01-10 00:00</tmEf>\\r\\n\\t\\t\\t\\t\\t<wf>구름많음</wf>\\r\\n\\t\\t\\t\\t\\t<tmn>0</tmn>\\r\\n\\t\\t\\t\\t\\t<tmx>7</tmx>\\r\\n\\t\\t\\t\\t\\t<reliability></reliability>\\r\\n\\t\\t\\t\\t\\t<rnSt>30</rnSt>\\r\\n\\t\\t\\t\\t</data>\\r\\n\\r\\n\\r\\n\\t\\t</location>\\r\\n\\r\\n\\t\\t<location wl_ver=\"3\">\\r\\n\\t\\t\\t\\t<province>전라북도</province>\\r\\n\\t\\t\\t\\t<city>군산</city>\\r\\n\\t\\t\\t\\t\\r\\n\\t\\t\\t\\t<data>\\r\\n\\t\\t\\t\\t\\t<mode>A02</mode>\\r\\n\\t\\t\\t\\t\\t<tmEf>2020-01-03 00:00</tmEf>\\r\\n\\t\\t\\t\\t\\t<wf>구름많음</wf>\\r\\n\\t\\t\\t\\t\\t<tmn>-2</tmn>\\r\\n\\t\\t\\t\\t\\t<tmx>8</tmx>\\r\\n\\t\\t\\t\\t\\t<reliability></reliability>\\r\\n\\t\\t\\t\\t\\t<rnSt>30</rnSt>\\r\\n\\t\\t\\t\\t</data>\\r\\n\\r\\n\\t\\t\\t\\t\\r\\n\\t\\t\\t\\t<data>\\r\\n\\t\\t\\t\\t\\t<mode>A02</mode>\\r\\n\\t\\t\\t\\t\\t<tmEf>2020-01-03 12:00</tmEf>\\r\\n\\t\\t\\t\\t\\t<wf>구름많음</wf>\\r\\n\\t\\t\\t\\t\\t<tmn>-2</tmn>\\r\\n\\t\\t\\t\\t\\t<tmx>8</tmx>\\r\\n\\t\\t\\t\\t\\t<reliability></reliability>\\r\\n\\t\\t\\t\\t\\t<rnSt>30</rnSt>\\r\\n\\t\\t\\t\\t</data>\\r\\n\\r\\n\\t\\t\\t\\t\\r\\n\\t\\t\\t\\t<data>\\r\\n\\t\\t\\t\\t\\t<mode>A02</mode>\\r\\n\\t\\t\\t\\t\\t<tmEf>2020-01-04 00:00</tmEf>\\r\\n\\t\\t\\t\\t\\t<wf>맑음</wf>\\r\\n\\t\\t\\t\\t\\t<tmn>1</tmn>\\r\\n\\t\\t\\t\\t\\t<tmx>9</tmx>\\r\\n\\t\\t\\t\\t\\t<reliability></reliability>\\r\\n\\t\\t\\t\\t\\t<rnSt>10</rnSt>\\r\\n\\t\\t\\t\\t</data>\\r\\n\\r\\n\\t\\t\\t\\t\\r\\n\\t\\t\\t\\t<data>\\r\\n\\t\\t\\t\\t\\t<mode>A02</mode>\\r\\n\\t\\t\\t\\t\\t<tmEf>2020-01-04 12:00</tmEf>\\r\\n\\t\\t\\t\\t\\t<wf>맑음</wf>\\r\\n\\t\\t\\t\\t\\t<tmn>1</tmn>\\r\\n\\t\\t\\t\\t\\t<tmx>9</tmx>\\r\\n\\t\\t\\t\\t\\t<reliability></reliability>\\r\\n\\t\\t\\t\\t\\t<rnSt>0</rnSt>\\r\\n\\t\\t\\t\\t</data>\\r\\n\\r\\n\\t\\t\\t\\t\\r\\n\\t\\t\\t\\t<data>\\r\\n\\t\\t\\t\\t\\t<mode>A02</mode>\\r\\n\\t\\t\\t\\t\\t<tmEf>2020-01-05 00:00</tmEf>\\r\\n\\t\\t\\t\\t\\t<wf>맑음</wf>\\r\\n\\t\\t\\t\\t\\t<tmn>-4</tmn>\\r\\n\\t\\t\\t\\t\\t<tmx>7</tmx>\\r\\n\\t\\t\\t\\t\\t<reliability></reliability>\\r\\n\\t\\t\\t\\t\\t<rnSt>0</rnSt>\\r\\n\\t\\t\\t\\t</data>\\r\\n\\r\\n\\t\\t\\t\\t\\r\\n\\t\\t\\t\\t<data>\\r\\n\\t\\t\\t\\t\\t<mode>A02</mode>\\r\\n\\t\\t\\t\\t\\t<tmEf>2020-01-05 12:00</tmEf>\\r\\n\\t\\t\\t\\t\\t<wf>구름많음</wf>\\r\\n\\t\\t\\t\\t\\t<tmn>-4</tmn>\\r\\n\\t\\t\\t\\t\\t<tmx>7</tmx>\\r\\n\\t\\t\\t\\t\\t<reliability></reliability>\\r\\n\\t\\t\\t\\t\\t<rnSt>30</rnSt>\\r\\n\\t\\t\\t\\t</data>\\r\\n\\r\\n\\t\\t\\t\\t\\r\\n\\t\\t\\t\\t<data>\\r\\n\\t\\t\\t\\t\\t<mode>A02</mode>\\r\\n\\t\\t\\t\\t\\t<tmEf>2020-01-06 00:00</tmEf>\\r\\n\\t\\t\\t\\t\\t<wf>구름많음</wf>\\r\\n\\t\\t\\t\\t\\t<tmn>0</tmn>\\r\\n\\t\\t\\t\\t\\t<tmx>7</tmx>\\r\\n\\t\\t\\t\\t\\t<reliability></reliability>\\r\\n\\t\\t\\t\\t\\t<rnSt>30</rnSt>\\r\\n\\t\\t\\t\\t</data>\\r\\n\\r\\n\\t\\t\\t\\t\\r\\n\\t\\t\\t\\t<data>\\r\\n\\t\\t\\t\\t\\t<mode>A02</mode>\\r\\n\\t\\t\\t\\t\\t<tmEf>2020-01-06 12:00</tmEf>\\r\\n\\t\\t\\t\\t\\t<wf>흐리고 비</wf>\\r\\n\\t\\t\\t\\t\\t<tmn>0</tmn>\\r\\n\\t\\t\\t\\t\\t<tmx>7</tmx>\\r\\n\\t\\t\\t\\t\\t<reliability></reliability>\\r\\n\\t\\t\\t\\t\\t<rnSt>80</rnSt>\\r\\n\\t\\t\\t\\t</data>\\r\\n\\r\\n\\t\\t\\t\\t\\r\\n\\t\\t\\t\\t<data>\\r\\n\\t\\t\\t\\t\\t<mode>A02</mode>\\r\\n\\t\\t\\t\\t\\t<tmEf>2020-01-07 00:00</tmEf>\\r\\n\\t\\t\\t\\t\\t<wf>흐리고 비</wf>\\r\\n\\t\\t\\t\\t\\t<tmn>4</tmn>\\r\\n\\t\\t\\t\\t\\t<tmx>8</tmx>\\r\\n\\t\\t\\t\\t\\t<reliability></reliability>\\r\\n\\t\\t\\t\\t\\t<rnSt>80</rnSt>\\r\\n\\t\\t\\t\\t</data>\\r\\n\\r\\n\\t\\t\\t\\t\\r\\n\\t\\t\\t\\t<data>\\r\\n\\t\\t\\t\\t\\t<mode>A02</mode>\\r\\n\\t\\t\\t\\t\\t<tmEf>2020-01-07 12:00</tmEf>\\r\\n\\t\\t\\t\\t\\t<wf>흐리고 비</wf>\\r\\n\\t\\t\\t\\t\\t<tmn>4</tmn>\\r\\n\\t\\t\\t\\t\\t<tmx>8</tmx>\\r\\n\\t\\t\\t\\t\\t<reliability></reliability>\\r\\n\\t\\t\\t\\t\\t<rnSt>70</rnSt>\\r\\n\\t\\t\\t\\t</data>\\r\\n\\r\\n\\t\\t\\t\\t\\r\\n\\t\\t\\t\\t<data>\\r\\n\\t\\t\\t\\t\\t<mode>A01</mode>\\r\\n\\t\\t\\t\\t\\t<tmEf>2020-01-08 00:00</tmEf>\\r\\n\\t\\t\\t\\t\\t<wf>흐리고 비</wf>\\r\\n\\t\\t\\t\\t\\t<tmn>3</tmn>\\r\\n\\t\\t\\t\\t\\t<tmx>7</tmx>\\r\\n\\t\\t\\t\\t\\t<reliability></reliability>\\r\\n\\t\\t\\t\\t\\t<rnSt>70</rnSt>\\r\\n\\t\\t\\t\\t</data>\\r\\n\\r\\n\\t\\t\\t\\t\\r\\n\\t\\t\\t\\t<data>\\r\\n\\t\\t\\t\\t\\t<mode>A01</mode>\\r\\n\\t\\t\\t\\t\\t<tmEf>2020-01-09 00:00</tmEf>\\r\\n\\t\\t\\t\\t\\t<wf>구름많음</wf>\\r\\n\\t\\t\\t\\t\\t<tmn>-1</tmn>\\r\\n\\t\\t\\t\\t\\t<tmx>6</tmx>\\r\\n\\t\\t\\t\\t\\t<reliability></reliability>\\r\\n\\t\\t\\t\\t\\t<rnSt>40</rnSt>\\r\\n\\t\\t\\t\\t</data>\\r\\n\\r\\n\\t\\t\\t\\t\\r\\n\\t\\t\\t\\t<data>\\r\\n\\t\\t\\t\\t\\t<mode>A01</mode>\\r\\n\\t\\t\\t\\t\\t<tmEf>2020-01-10 00:00</tmEf>\\r\\n\\t\\t\\t\\t\\t<wf>구름많음</wf>\\r\\n\\t\\t\\t\\t\\t<tmn>-1</tmn>\\r\\n\\t\\t\\t\\t\\t<tmx>7</tmx>\\r\\n\\t\\t\\t\\t\\t<reliability></reliability>\\r\\n\\t\\t\\t\\t\\t<rnSt>30</rnSt>\\r\\n\\t\\t\\t\\t</data>\\r\\n\\r\\n\\r\\n\\t\\t</location>\\r\\n\\r\\n\\t\\t<location wl_ver=\"3\">\\r\\n\\t\\t\\t\\t<province>전라북도</province>\\r\\n\\t\\t\\t\\t<city>정읍</city>\\r\\n\\t\\t\\t\\t\\r\\n\\t\\t\\t\\t<data>\\r\\n\\t\\t\\t\\t\\t<mode>A02</mode>\\r\\n\\t\\t\\t\\t\\t<tmEf>2020-01-03 00:00</tmEf>\\r\\n\\t\\t\\t\\t\\t<wf>구름많음</wf>\\r\\n\\t\\t\\t\\t\\t<tmn>0</tmn>\\r\\n\\t\\t\\t\\t\\t<tmx>7</tmx>\\r\\n\\t\\t\\t\\t\\t<reliability></reliability>\\r\\n\\t\\t\\t\\t\\t<rnSt>30</rnSt>\\r\\n\\t\\t\\t\\t</data>\\r\\n\\r\\n\\t\\t\\t\\t\\r\\n\\t\\t\\t\\t<data>\\r\\n\\t\\t\\t\\t\\t<mode>A02</mode>\\r\\n\\t\\t\\t\\t\\t<tmEf>2020-01-03 12:00</tmEf>\\r\\n\\t\\t\\t\\t\\t<wf>구름많음</wf>\\r\\n\\t\\t\\t\\t\\t<tmn>0</tmn>\\r\\n\\t\\t\\t\\t\\t<tmx>7</tmx>\\r\\n\\t\\t\\t\\t\\t<reliability></reliability>\\r\\n\\t\\t\\t\\t\\t<rnSt>30</rnSt>\\r\\n\\t\\t\\t\\t</data>\\r\\n\\r\\n\\t\\t\\t\\t\\r\\n\\t\\t\\t\\t<data>\\r\\n\\t\\t\\t\\t\\t<mode>A02</mode>\\r\\n\\t\\t\\t\\t\\t<tmEf>2020-01-04 00:00</tmEf>\\r\\n\\t\\t\\t\\t\\t<wf>맑음</wf>\\r\\n\\t\\t\\t\\t\\t<tmn>1</tmn>\\r\\n\\t\\t\\t\\t\\t<tmx>8</tmx>\\r\\n\\t\\t\\t\\t\\t<reliability></reliability>\\r\\n\\t\\t\\t\\t\\t<rnSt>10</rnSt>\\r\\n\\t\\t\\t\\t</data>\\r\\n\\r\\n\\t\\t\\t\\t\\r\\n\\t\\t\\t\\t<data>\\r\\n\\t\\t\\t\\t\\t<mode>A02</mode>\\r\\n\\t\\t\\t\\t\\t<tmEf>2020-01-04 12:00</tmEf>\\r\\n\\t\\t\\t\\t\\t<wf>맑음</wf>\\r\\n\\t\\t\\t\\t\\t<tmn>1</tmn>\\r\\n\\t\\t\\t\\t\\t<tmx>8</tmx>\\r\\n\\t\\t\\t\\t\\t<reliability></reliability>\\r\\n\\t\\t\\t\\t\\t<rnSt>0</rnSt>\\r\\n\\t\\t\\t\\t</data>\\r\\n\\r\\n\\t\\t\\t\\t\\r\\n\\t\\t\\t\\t<data>\\r\\n\\t\\t\\t\\t\\t<mode>A02</mode>\\r\\n\\t\\t\\t\\t\\t<tmEf>2020-01-05 00:00</tmEf>\\r\\n\\t\\t\\t\\t\\t<wf>맑음</wf>\\r\\n\\t\\t\\t\\t\\t<tmn>-3</tmn>\\r\\n\\t\\t\\t\\t\\t<tmx>6</tmx>\\r\\n\\t\\t\\t\\t\\t<reliability></reliability>\\r\\n\\t\\t\\t\\t\\t<rnSt>0</rnSt>\\r\\n\\t\\t\\t\\t</data>\\r\\n\\r\\n\\t\\t\\t\\t\\r\\n\\t\\t\\t\\t<data>\\r\\n\\t\\t\\t\\t\\t<mode>A02</mode>\\r\\n\\t\\t\\t\\t\\t<tmEf>2020-01-05 12:00</tmEf>\\r\\n\\t\\t\\t\\t\\t<wf>구름많음</wf>\\r\\n\\t\\t\\t\\t\\t<tmn>-3</tmn>\\r\\n\\t\\t\\t\\t\\t<tmx>6</tmx>\\r\\n\\t\\t\\t\\t\\t<reliability></reliability>\\r\\n\\t\\t\\t\\t\\t<rnSt>30</rnSt>\\r\\n\\t\\t\\t\\t</data>\\r\\n\\r\\n\\t\\t\\t\\t\\r\\n\\t\\t\\t\\t<data>\\r\\n\\t\\t\\t\\t\\t<mode>A02</mode>\\r\\n\\t\\t\\t\\t\\t<tmEf>2020-01-06 00:00</tmEf>\\r\\n\\t\\t\\t\\t\\t<wf>구름많음</wf>\\r\\n\\t\\t\\t\\t\\t<tmn>0</tmn>\\r\\n\\t\\t\\t\\t\\t<tmx>8</tmx>\\r\\n\\t\\t\\t\\t\\t<reliability></reliability>\\r\\n\\t\\t\\t\\t\\t<rnSt>30</rnSt>\\r\\n\\t\\t\\t\\t</data>\\r\\n\\r\\n\\t\\t\\t\\t\\r\\n\\t\\t\\t\\t<data>\\r\\n\\t\\t\\t\\t\\t<mode>A02</mode>\\r\\n\\t\\t\\t\\t\\t<tmEf>2020-01-06 12:00</tmEf>\\r\\n\\t\\t\\t\\t\\t<wf>흐리고 비</wf>\\r\\n\\t\\t\\t\\t\\t<tmn>0</tmn>\\r\\n\\t\\t\\t\\t\\t<tmx>8</tmx>\\r\\n\\t\\t\\t\\t\\t<reliability></reliability>\\r\\n\\t\\t\\t\\t\\t<rnSt>80</rnSt>\\r\\n\\t\\t\\t\\t</data>\\r\\n\\r\\n\\t\\t\\t\\t\\r\\n\\t\\t\\t\\t<data>\\r\\n\\t\\t\\t\\t\\t<mode>A02</mode>\\r\\n\\t\\t\\t\\t\\t<tmEf>2020-01-07 00:00</tmEf>\\r\\n\\t\\t\\t\\t\\t<wf>흐리고 비</wf>\\r\\n\\t\\t\\t\\t\\t<tmn>5</tmn>\\r\\n\\t\\t\\t\\t\\t<tmx>9</tmx>\\r\\n\\t\\t\\t\\t\\t<reliability></reliability>\\r\\n\\t\\t\\t\\t\\t<rnSt>80</rnSt>\\r\\n\\t\\t\\t\\t</data>\\r\\n\\r\\n\\t\\t\\t\\t\\r\\n\\t\\t\\t\\t<data>\\r\\n\\t\\t\\t\\t\\t<mode>A02</mode>\\r\\n\\t\\t\\t\\t\\t<tmEf>2020-01-07 12:00</tmEf>\\r\\n\\t\\t\\t\\t\\t<wf>흐리고 비</wf>\\r\\n\\t\\t\\t\\t\\t<tmn>5</tmn>\\r\\n\\t\\t\\t\\t\\t<tmx>9</tmx>\\r\\n\\t\\t\\t\\t\\t<reliability></reliability>\\r\\n\\t\\t\\t\\t\\t<rnSt>70</rnSt>\\r\\n\\t\\t\\t\\t</data>\\r\\n\\r\\n\\t\\t\\t\\t\\r\\n\\t\\t\\t\\t<data>\\r\\n\\t\\t\\t\\t\\t<mode>A01</mode>\\r\\n\\t\\t\\t\\t\\t<tmEf>2020-01-08 00:00</tmEf>\\r\\n\\t\\t\\t\\t\\t<wf>흐리고 비</wf>\\r\\n\\t\\t\\t\\t\\t<tmn>4</tmn>\\r\\n\\t\\t\\t\\t\\t<tmx>7</tmx>\\r\\n\\t\\t\\t\\t\\t<reliability></reliability>\\r\\n\\t\\t\\t\\t\\t<rnSt>70</rnSt>\\r\\n\\t\\t\\t\\t</data>\\r\\n\\r\\n\\t\\t\\t\\t\\r\\n\\t\\t\\t\\t<data>\\r\\n\\t\\t\\t\\t\\t<mode>A01</mode>\\r\\n\\t\\t\\t\\t\\t<tmEf>2020-01-09 00:00</tmEf>\\r\\n\\t\\t\\t\\t\\t<wf>구름많음</wf>\\r\\n\\t\\t\\t\\t\\t<tmn>0</tmn>\\r\\n\\t\\t\\t\\t\\t<tmx>6</tmx>\\r\\n\\t\\t\\t\\t\\t<reliability></reliability>\\r\\n\\t\\t\\t\\t\\t<rnSt>40</rnSt>\\r\\n\\t\\t\\t\\t</data>\\r\\n\\r\\n\\t\\t\\t\\t\\r\\n\\t\\t\\t\\t<data>\\r\\n\\t\\t\\t\\t\\t<mode>A01</mode>\\r\\n\\t\\t\\t\\t\\t<tmEf>2020-01-10 00:00</tmEf>\\r\\n\\t\\t\\t\\t\\t<wf>구름많음</wf>\\r\\n\\t\\t\\t\\t\\t<tmn>0</tmn>\\r\\n\\t\\t\\t\\t\\t<tmx>7</tmx>\\r\\n\\t\\t\\t\\t\\t<reliability></reliability>\\r\\n\\t\\t\\t\\t\\t<rnSt>30</rnSt>\\r\\n\\t\\t\\t\\t</data>\\r\\n\\r\\n\\r\\n\\t\\t</location>\\r\\n\\r\\n\\t\\t<location wl_ver=\"3\">\\r\\n\\t\\t\\t\\t<province>전라북도</province>\\r\\n\\t\\t\\t\\t<city>남원</city>\\r\\n\\t\\t\\t\\t\\r\\n\\t\\t\\t\\t<data>\\r\\n\\t\\t\\t\\t\\t<mode>A02</mode>\\r\\n\\t\\t\\t\\t\\t<tmEf>2020-01-03 00:00</tmEf>\\r\\n\\t\\t\\t\\t\\t<wf>구름많음</wf>\\r\\n\\t\\t\\t\\t\\t<tmn>-3</tmn>\\r\\n\\t\\t\\t\\t\\t<tmx>8</tmx>\\r\\n\\t\\t\\t\\t\\t<reliability></reliability>\\r\\n\\t\\t\\t\\t\\t<rnSt>30</rnSt>\\r\\n\\t\\t\\t\\t</data>\\r\\n\\r\\n\\t\\t\\t\\t\\r\\n\\t\\t\\t\\t<data>\\r\\n\\t\\t\\t\\t\\t<mode>A02</mode>\\r\\n\\t\\t\\t\\t\\t<tmEf>2020-01-03 12:00</tmEf>\\r\\n\\t\\t\\t\\t\\t<wf>구름많음</wf>\\r\\n\\t\\t\\t\\t\\t<tmn>-3</tmn>\\r\\n\\t\\t\\t\\t\\t<tmx>8</tmx>\\r\\n\\t\\t\\t\\t\\t<reliability></reliability>\\r\\n\\t\\t\\t\\t\\t<rnSt>30</rnSt>\\r\\n\\t\\t\\t\\t</data>\\r\\n\\r\\n\\t\\t\\t\\t\\r\\n\\t\\t\\t\\t<data>\\r\\n\\t\\t\\t\\t\\t<mode>A02</mode>\\r\\n\\t\\t\\t\\t\\t<tmEf>2020-01-04 00:00</tmEf>\\r\\n\\t\\t\\t\\t\\t<wf>맑음</wf>\\r\\n\\t\\t\\t\\t\\t<tmn>-1</tmn>\\r\\n\\t\\t\\t\\t\\t<tmx>9</tmx>\\r\\n\\t\\t\\t\\t\\t<reliability></reliability>\\r\\n\\t\\t\\t\\t\\t<rnSt>10</rnSt>\\r\\n\\t\\t\\t\\t</data>\\r\\n\\r\\n\\t\\t\\t\\t\\r\\n\\t\\t\\t\\t<data>\\r\\n\\t\\t\\t\\t\\t<mode>A02</mode>\\r\\n\\t\\t\\t\\t\\t<tmEf>2020-01-04 12:00</tmEf>\\r\\n\\t\\t\\t\\t\\t<wf>맑음</wf>\\r\\n\\t\\t\\t\\t\\t<tmn>-1</tmn>\\r\\n\\t\\t\\t\\t\\t<tmx>9</tmx>\\r\\n\\t\\t\\t\\t\\t<reliability></reliability>\\r\\n\\t\\t\\t\\t\\t<rnSt>0</rnSt>\\r\\n\\t\\t\\t\\t</data>\\r\\n\\r\\n\\t\\t\\t\\t\\r\\n\\t\\t\\t\\t<data>\\r\\n\\t\\t\\t\\t\\t<mode>A02</mode>\\r\\n\\t\\t\\t\\t\\t<tmEf>2020-01-05 00:00</tmEf>\\r\\n\\t\\t\\t\\t\\t<wf>맑음</wf>\\r\\n\\t\\t\\t\\t\\t<tmn>-4</tmn>\\r\\n\\t\\t\\t\\t\\t<tmx>8</tmx>\\r\\n\\t\\t\\t\\t\\t<reliability></reliability>\\r\\n\\t\\t\\t\\t\\t<rnSt>0</rnSt>\\r\\n\\t\\t\\t\\t</data>\\r\\n\\r\\n\\t\\t\\t\\t\\r\\n\\t\\t\\t\\t<data>\\r\\n\\t\\t\\t\\t\\t<mode>A02</mode>\\r\\n\\t\\t\\t\\t\\t<tmEf>2020-01-05 12:00</tmEf>\\r\\n\\t\\t\\t\\t\\t<wf>구름많음</wf>\\r\\n\\t\\t\\t\\t\\t<tmn>-4</tmn>\\r\\n\\t\\t\\t\\t\\t<tmx>8</tmx>\\r\\n\\t\\t\\t\\t\\t<reliability></reliability>\\r\\n\\t\\t\\t\\t\\t<rnSt>30</rnSt>\\r\\n\\t\\t\\t\\t</data>\\r\\n\\r\\n\\t\\t\\t\\t\\r\\n\\t\\t\\t\\t<data>\\r\\n\\t\\t\\t\\t\\t<mode>A02</mode>\\r\\n\\t\\t\\t\\t\\t<tmEf>2020-01-06 00:00</tmEf>\\r\\n\\t\\t\\t\\t\\t<wf>구름많음</wf>\\r\\n\\t\\t\\t\\t\\t<tmn>-2</tmn>\\r\\n\\t\\t\\t\\t\\t<tmx>9</tmx>\\r\\n\\t\\t\\t\\t\\t<reliability></reliability>\\r\\n\\t\\t\\t\\t\\t<rnSt>30</rnSt>\\r\\n\\t\\t\\t\\t</data>\\r\\n\\r\\n\\t\\t\\t\\t\\r\\n\\t\\t\\t\\t<data>\\r\\n\\t\\t\\t\\t\\t<mode>A02</mode>\\r\\n\\t\\t\\t\\t\\t<tmEf>2020-01-06 12:00</tmEf>\\r\\n\\t\\t\\t\\t\\t<wf>흐리고 비</wf>\\r\\n\\t\\t\\t\\t\\t<tmn>-2</tmn>\\r\\n\\t\\t\\t\\t\\t<tmx>9</tmx>\\r\\n\\t\\t\\t\\t\\t<reliability></reliability>\\r\\n\\t\\t\\t\\t\\t<rnSt>80</rnSt>\\r\\n\\t\\t\\t\\t</data>\\r\\n\\r\\n\\t\\t\\t\\t\\r\\n\\t\\t\\t\\t<data>\\r\\n\\t\\t\\t\\t\\t<mode>A02</mode>\\r\\n\\t\\t\\t\\t\\t<tmEf>2020-01-07 00:00</tmEf>\\r\\n\\t\\t\\t\\t\\t<wf>흐리고 비</wf>\\r\\n\\t\\t\\t\\t\\t<tmn>4</tmn>\\r\\n\\t\\t\\t\\t\\t<tmx>11</tmx>\\r\\n\\t\\t\\t\\t\\t<reliability></reliability>\\r\\n\\t\\t\\t\\t\\t<rnSt>80</rnSt>\\r\\n\\t\\t\\t\\t</data>\\r\\n\\r\\n\\t\\t\\t\\t\\r\\n\\t\\t\\t\\t<data>\\r\\n\\t\\t\\t\\t\\t<mode>A02</mode>\\r\\n\\t\\t\\t\\t\\t<tmEf>2020-01-07 12:00</tmEf>\\r\\n\\t\\t\\t\\t\\t<wf>흐리고 비</wf>\\r\\n\\t\\t\\t\\t\\t<tmn>4</tmn>\\r\\n\\t\\t\\t\\t\\t<tmx>11</tmx>\\r\\n\\t\\t\\t\\t\\t<reliability></reliability>\\r\\n\\t\\t\\t\\t\\t<rnSt>70</rnSt>\\r\\n\\t\\t\\t\\t</data>\\r\\n\\r\\n\\t\\t\\t\\t\\r\\n\\t\\t\\t\\t<data>\\r\\n\\t\\t\\t\\t\\t<mode>A01</mode>\\r\\n\\t\\t\\t\\t\\t<tmEf>2020-01-08 00:00</tmEf>\\r\\n\\t\\t\\t\\t\\t<wf>흐리고 비</wf>\\r\\n\\t\\t\\t\\t\\t<tmn>4</tmn>\\r\\n\\t\\t\\t\\t\\t<tmx>7</tmx>\\r\\n\\t\\t\\t\\t\\t<reliability></reliability>\\r\\n\\t\\t\\t\\t\\t<rnSt>70</rnSt>\\r\\n\\t\\t\\t\\t</data>\\r\\n\\r\\n\\t\\t\\t\\t\\r\\n\\t\\t\\t\\t<data>\\r\\n\\t\\t\\t\\t\\t<mode>A01</mode>\\r\\n\\t\\t\\t\\t\\t<tmEf>2020-01-09 00:00</tmEf>\\r\\n\\t\\t\\t\\t\\t<wf>구름많음</wf>\\r\\n\\t\\t\\t\\t\\t<tmn>-3</tmn>\\r\\n\\t\\t\\t\\t\\t<tmx>5</tmx>\\r\\n\\t\\t\\t\\t\\t<reliability></reliability>\\r\\n\\t\\t\\t\\t\\t<rnSt>40</rnSt>\\r\\n\\t\\t\\t\\t</data>\\r\\n\\r\\n\\t\\t\\t\\t\\r\\n\\t\\t\\t\\t<data>\\r\\n\\t\\t\\t\\t\\t<mode>A01</mode>\\r\\n\\t\\t\\t\\t\\t<tmEf>2020-01-10 00:00</tmEf>\\r\\n\\t\\t\\t\\t\\t<wf>구름많음</wf>\\r\\n\\t\\t\\t\\t\\t<tmn>-2</tmn>\\r\\n\\t\\t\\t\\t\\t<tmx>8</tmx>\\r\\n\\t\\t\\t\\t\\t<reliability></reliability>\\r\\n\\t\\t\\t\\t\\t<rnSt>30</rnSt>\\r\\n\\t\\t\\t\\t</data>\\r\\n\\r\\n\\r\\n\\t\\t</location>\\r\\n\\r\\n\\t\\t<location wl_ver=\"3\">\\r\\n\\t\\t\\t\\t<province>전라북도</province>\\r\\n\\t\\t\\t\\t<city>고창</city>\\r\\n\\t\\t\\t\\t\\r\\n\\t\\t\\t\\t<data>\\r\\n\\t\\t\\t\\t\\t<mode>A02</mode>\\r\\n\\t\\t\\t\\t\\t<tmEf>2020-01-03 00:00</tmEf>\\r\\n\\t\\t\\t\\t\\t<wf>구름많음</wf>\\r\\n\\t\\t\\t\\t\\t<tmn>1</tmn>\\r\\n\\t\\t\\t\\t\\t<tmx>8</tmx>\\r\\n\\t\\t\\t\\t\\t<reliability></reliability>\\r\\n\\t\\t\\t\\t\\t<rnSt>30</rnSt>\\r\\n\\t\\t\\t\\t</data>\\r\\n\\r\\n\\t\\t\\t\\t\\r\\n\\t\\t\\t\\t<data>\\r\\n\\t\\t\\t\\t\\t<mode>A02</mode>\\r\\n\\t\\t\\t\\t\\t<tmEf>2020-01-03 12:00</tmEf>\\r\\n\\t\\t\\t\\t\\t<wf>구름많음</wf>\\r\\n\\t\\t\\t\\t\\t<tmn>1</tmn>\\r\\n\\t\\t\\t\\t\\t<tmx>8</tmx>\\r\\n\\t\\t\\t\\t\\t<reliability></reliability>\\r\\n\\t\\t\\t\\t\\t<rnSt>30</rnSt>\\r\\n\\t\\t\\t\\t</data>\\r\\n\\r\\n\\t\\t\\t\\t\\r\\n\\t\\t\\t\\t<data>\\r\\n\\t\\t\\t\\t\\t<mode>A02</mode>\\r\\n\\t\\t\\t\\t\\t<tmEf>2020-01-04 00:00</tmEf>\\r\\n\\t\\t\\t\\t\\t<wf>맑음</wf>\\r\\n\\t\\t\\t\\t\\t<tmn>2</tmn>\\r\\n\\t\\t\\t\\t\\t<tmx>9</tmx>\\r\\n\\t\\t\\t\\t\\t<reliability></reliability>\\r\\n\\t\\t\\t\\t\\t<rnSt>10</rnSt>\\r\\n\\t\\t\\t\\t</data>\\r\\n\\r\\n\\t\\t\\t\\t\\r\\n\\t\\t\\t\\t<data>\\r\\n\\t\\t\\t\\t\\t<mode>A02</mode>\\r\\n\\t\\t\\t\\t\\t<tmEf>2020-01-04 12:00</tmEf>\\r\\n\\t\\t\\t\\t\\t<wf>맑음</wf>\\r\\n\\t\\t\\t\\t\\t<tmn>2</tmn>\\r\\n\\t\\t\\t\\t\\t<tmx>9</tmx>\\r\\n\\t\\t\\t\\t\\t<reliability></reliability>\\r\\n\\t\\t\\t\\t\\t<rnSt>0</rnSt>\\r\\n\\t\\t\\t\\t</data>\\r\\n\\r\\n\\t\\t\\t\\t\\r\\n\\t\\t\\t\\t<data>\\r\\n\\t\\t\\t\\t\\t<mode>A02</mode>\\r\\n\\t\\t\\t\\t\\t<tmEf>2020-01-05 00:00</tmEf>\\r\\n\\t\\t\\t\\t\\t<wf>맑음</wf>\\r\\n\\t\\t\\t\\t\\t<tmn>-2</tmn>\\r\\n\\t\\t\\t\\t\\t<tmx>7</tmx>\\r\\n\\t\\t\\t\\t\\t<reliability></reliability>\\r\\n\\t\\t\\t\\t\\t<rnSt>0</rnSt>\\r\\n\\t\\t\\t\\t</data>\\r\\n\\r\\n\\t\\t\\t\\t\\r\\n\\t\\t\\t\\t<data>\\r\\n\\t\\t\\t\\t\\t<mode>A02</mode>\\r\\n\\t\\t\\t\\t\\t<tmEf>2020-01-05 12:00</tmEf>\\r\\n\\t\\t\\t\\t\\t<wf>구름많음</wf>\\r\\n\\t\\t\\t\\t\\t<tmn>-2</tmn>\\r\\n\\t\\t\\t\\t\\t<tmx>7</tmx>\\r\\n\\t\\t\\t\\t\\t<reliability></reliability>\\r\\n\\t\\t\\t\\t\\t<rnSt>30</rnSt>\\r\\n\\t\\t\\t\\t</data>\\r\\n\\r\\n\\t\\t\\t\\t\\r\\n\\t\\t\\t\\t<data>\\r\\n\\t\\t\\t\\t\\t<mode>A02</mode>\\r\\n\\t\\t\\t\\t\\t<tmEf>2020-01-06 00:00</tmEf>\\r\\n\\t\\t\\t\\t\\t<wf>구름많음</wf>\\r\\n\\t\\t\\t\\t\\t<tmn>2</tmn>\\r\\n\\t\\t\\t\\t\\t<tmx>9</tmx>\\r\\n\\t\\t\\t\\t\\t<reliability></reliability>\\r\\n\\t\\t\\t\\t\\t<rnSt>30</rnSt>\\r\\n\\t\\t\\t\\t</data>\\r\\n\\r\\n\\t\\t\\t\\t\\r\\n\\t\\t\\t\\t<data>\\r\\n\\t\\t\\t\\t\\t<mode>A02</mode>\\r\\n\\t\\t\\t\\t\\t<tmEf>2020-01-06 12:00</tmEf>\\r\\n\\t\\t\\t\\t\\t<wf>흐리고 비</wf>\\r\\n\\t\\t\\t\\t\\t<tmn>2</tmn>\\r\\n\\t\\t\\t\\t\\t<tmx>9</tmx>\\r\\n\\t\\t\\t\\t\\t<reliability></reliability>\\r\\n\\t\\t\\t\\t\\t<rnSt>80</rnSt>\\r\\n\\t\\t\\t\\t</data>\\r\\n\\r\\n\\t\\t\\t\\t\\r\\n\\t\\t\\t\\t<data>\\r\\n\\t\\t\\t\\t\\t<mode>A02</mode>\\r\\n\\t\\t\\t\\t\\t<tmEf>2020-01-07 00:00</tmEf>\\r\\n\\t\\t\\t\\t\\t<wf>흐리고 비</wf>\\r\\n\\t\\t\\t\\t\\t<tmn>7</tmn>\\r\\n\\t\\t\\t\\t\\t<tmx>10</tmx>\\r\\n\\t\\t\\t\\t\\t<reliability></reliability>\\r\\n\\t\\t\\t\\t\\t<rnSt>80</rnSt>\\r\\n\\t\\t\\t\\t</data>\\r\\n\\r\\n\\t\\t\\t\\t\\r\\n\\t\\t\\t\\t<data>\\r\\n\\t\\t\\t\\t\\t<mode>A02</mode>\\r\\n\\t\\t\\t\\t\\t<tmEf>2020-01-07 12:00</tmEf>\\r\\n\\t\\t\\t\\t\\t<wf>흐리고 비</wf>\\r\\n\\t\\t\\t\\t\\t<tmn>7</tmn>\\r\\n\\t\\t\\t\\t\\t<tmx>10</tmx>\\r\\n\\t\\t\\t\\t\\t<reliability></reliability>\\r\\n\\t\\t\\t\\t\\t<rnSt>70</rnSt>\\r\\n\\t\\t\\t\\t</data>\\r\\n\\r\\n\\t\\t\\t\\t\\r\\n\\t\\t\\t\\t<data>\\r\\n\\t\\t\\t\\t\\t<mode>A01</mode>\\r\\n\\t\\t\\t\\t\\t<tmEf>2020-01-08 00:00</tmEf>\\r\\n\\t\\t\\t\\t\\t<wf>흐리고 비</wf>\\r\\n\\t\\t\\t\\t\\t<tmn>5</tmn>\\r\\n\\t\\t\\t\\t\\t<tmx>8</tmx>\\r\\n\\t\\t\\t\\t\\t<reliability></reliability>\\r\\n\\t\\t\\t\\t\\t<rnSt>70</rnSt>\\r\\n\\t\\t\\t\\t</data>\\r\\n\\r\\n\\t\\t\\t\\t\\r\\n\\t\\t\\t\\t<data>\\r\\n\\t\\t\\t\\t\\t<mode>A01</mode>\\r\\n\\t\\t\\t\\t\\t<tmEf>2020-01-09 00:00</tmEf>\\r\\n\\t\\t\\t\\t\\t<wf>구름많음</wf>\\r\\n\\t\\t\\t\\t\\t<tmn>1</tmn>\\r\\n\\t\\t\\t\\t\\t<tmx>7</tmx>\\r\\n\\t\\t\\t\\t\\t<reliability></reliability>\\r\\n\\t\\t\\t\\t\\t<rnSt>40</rnSt>\\r\\n\\t\\t\\t\\t</data>\\r\\n\\r\\n\\t\\t\\t\\t\\r\\n\\t\\t\\t\\t<data>\\r\\n\\t\\t\\t\\t\\t<mode>A01</mode>\\r\\n\\t\\t\\t\\t\\t<tmEf>2020-01-10 00:00</tmEf>\\r\\n\\t\\t\\t\\t\\t<wf>구름많음</wf>\\r\\n\\t\\t\\t\\t\\t<tmn>1</tmn>\\r\\n\\t\\t\\t\\t\\t<tmx>8</tmx>\\r\\n\\t\\t\\t\\t\\t<reliability></reliability>\\r\\n\\t\\t\\t\\t\\t<rnSt>30</rnSt>\\r\\n\\t\\t\\t\\t</data>\\r\\n\\r\\n\\r\\n\\t\\t</location>\\r\\n\\r\\n\\t\\t<location wl_ver=\"3\">\\r\\n\\t\\t\\t\\t<province>전라북도</province>\\r\\n\\t\\t\\t\\t<city>무주</city>\\r\\n\\t\\t\\t\\t\\r\\n\\t\\t\\t\\t<data>\\r\\n\\t\\t\\t\\t\\t<mode>A02</mode>\\r\\n\\t\\t\\t\\t\\t<tmEf>2020-01-03 00:00</tmEf>\\r\\n\\t\\t\\t\\t\\t<wf>구름많음</wf>\\r\\n\\t\\t\\t\\t\\t<tmn>-4</tmn>\\r\\n\\t\\t\\t\\t\\t<tmx>7</tmx>\\r\\n\\t\\t\\t\\t\\t<reliability></reliability>\\r\\n\\t\\t\\t\\t\\t<rnSt>30</rnSt>\\r\\n\\t\\t\\t\\t</data>\\r\\n\\r\\n\\t\\t\\t\\t\\r\\n\\t\\t\\t\\t<data>\\r\\n\\t\\t\\t\\t\\t<mode>A02</mode>\\r\\n\\t\\t\\t\\t\\t<tmEf>2020-01-03 12:00</tmEf>\\r\\n\\t\\t\\t\\t\\t<wf>구름많음</wf>\\r\\n\\t\\t\\t\\t\\t<tmn>-4</tmn>\\r\\n\\t\\t\\t\\t\\t<tmx>7</tmx>\\r\\n\\t\\t\\t\\t\\t<reliability></reliability>\\r\\n\\t\\t\\t\\t\\t<rnSt>30</rnSt>\\r\\n\\t\\t\\t\\t</data>\\r\\n\\r\\n\\t\\t\\t\\t\\r\\n\\t\\t\\t\\t<data>\\r\\n\\t\\t\\t\\t\\t<mode>A02</mode>\\r\\n\\t\\t\\t\\t\\t<tmEf>2020-01-04 00:00</tmEf>\\r\\n\\t\\t\\t\\t\\t<wf>맑음</wf>\\r\\n\\t\\t\\t\\t\\t<tmn>-1</tmn>\\r\\n\\t\\t\\t\\t\\t<tmx>7</tmx>\\r\\n\\t\\t\\t\\t\\t<reliability></reliability>\\r\\n\\t\\t\\t\\t\\t<rnSt>10</rnSt>\\r\\n\\t\\t\\t\\t</data>\\r\\n\\r\\n\\t\\t\\t\\t\\r\\n\\t\\t\\t\\t<data>\\r\\n\\t\\t\\t\\t\\t<mode>A02</mode>\\r\\n\\t\\t\\t\\t\\t<tmEf>2020-01-04 12:00</tmEf>\\r\\n\\t\\t\\t\\t\\t<wf>맑음</wf>\\r\\n\\t\\t\\t\\t\\t<tmn>-1</tmn>\\r\\n\\t\\t\\t\\t\\t<tmx>7</tmx>\\r\\n\\t\\t\\t\\t\\t<reliability></reliability>\\r\\n\\t\\t\\t\\t\\t<rnSt>0</rnSt>\\r\\n\\t\\t\\t\\t</data>\\r\\n\\r\\n\\t\\t\\t\\t\\r\\n\\t\\t\\t\\t<data>\\r\\n\\t\\t\\t\\t\\t<mode>A02</mode>\\r\\n\\t\\t\\t\\t\\t<tmEf>2020-01-05 00:00</tmEf>\\r\\n\\t\\t\\t\\t\\t<wf>맑음</wf>\\r\\n\\t\\t\\t\\t\\t<tmn>-6</tmn>\\r\\n\\t\\t\\t\\t\\t<tmx>7</tmx>\\r\\n\\t\\t\\t\\t\\t<reliability></reliability>\\r\\n\\t\\t\\t\\t\\t<rnSt>0</rnSt>\\r\\n\\t\\t\\t\\t</data>\\r\\n\\r\\n\\t\\t\\t\\t\\r\\n\\t\\t\\t\\t<data>\\r\\n\\t\\t\\t\\t\\t<mode>A02</mode>\\r\\n\\t\\t\\t\\t\\t<tmEf>2020-01-05 12:00</tmEf>\\r\\n\\t\\t\\t\\t\\t<wf>구름많음</wf>\\r\\n\\t\\t\\t\\t\\t<tmn>-6</tmn>\\r\\n\\t\\t\\t\\t\\t<tmx>7</tmx>\\r\\n\\t\\t\\t\\t\\t<reliability></reliability>\\r\\n\\t\\t\\t\\t\\t<rnSt>30</rnSt>\\r\\n\\t\\t\\t\\t</data>\\r\\n\\r\\n\\t\\t\\t\\t\\r\\n\\t\\t\\t\\t<data>\\r\\n\\t\\t\\t\\t\\t<mode>A02</mode>\\r\\n\\t\\t\\t\\t\\t<tmEf>2020-01-06 00:00</tmEf>\\r\\n\\t\\t\\t\\t\\t<wf>구름많음</wf>\\r\\n\\t\\t\\t\\t\\t<tmn>-3</tmn>\\r\\n\\t\\t\\t\\t\\t<tmx>7</tmx>\\r\\n\\t\\t\\t\\t\\t<reliability></reliability>\\r\\n\\t\\t\\t\\t\\t<rnSt>30</rnSt>\\r\\n\\t\\t\\t\\t</data>\\r\\n\\r\\n\\t\\t\\t\\t\\r\\n\\t\\t\\t\\t<data>\\r\\n\\t\\t\\t\\t\\t<mode>A02</mode>\\r\\n\\t\\t\\t\\t\\t<tmEf>2020-01-06 12:00</tmEf>\\r\\n\\t\\t\\t\\t\\t<wf>흐리고 비</wf>\\r\\n\\t\\t\\t\\t\\t<tmn>-3</tmn>\\r\\n\\t\\t\\t\\t\\t<tmx>7</tmx>\\r\\n\\t\\t\\t\\t\\t<reliability></reliability>\\r\\n\\t\\t\\t\\t\\t<rnSt>80</rnSt>\\r\\n\\t\\t\\t\\t</data>\\r\\n\\r\\n\\t\\t\\t\\t\\r\\n\\t\\t\\t\\t<data>\\r\\n\\t\\t\\t\\t\\t<mode>A02</mode>\\r\\n\\t\\t\\t\\t\\t<tmEf>2020-01-07 00:00</tmEf>\\r\\n\\t\\t\\t\\t\\t<wf>흐리고 비</wf>\\r\\n\\t\\t\\t\\t\\t<tmn>1</tmn>\\r\\n\\t\\t\\t\\t\\t<tmx>9</tmx>\\r\\n\\t\\t\\t\\t\\t<reliability></reliability>\\r\\n\\t\\t\\t\\t\\t<rnSt>80</rnSt>\\r\\n\\t\\t\\t\\t</data>\\r\\n\\r\\n\\t\\t\\t\\t\\r\\n\\t\\t\\t\\t<data>\\r\\n\\t\\t\\t\\t\\t<mode>A02</mode>\\r\\n\\t\\t\\t\\t\\t<tmEf>2020-01-07 12:00</tmEf>\\r\\n\\t\\t\\t\\t\\t<wf>흐리고 비</wf>\\r\\n\\t\\t\\t\\t\\t<tmn>1</tmn>\\r\\n\\t\\t\\t\\t\\t<tmx>9</tmx>\\r\\n\\t\\t\\t\\t\\t<reliability></reliability>\\r\\n\\t\\t\\t\\t\\t<rnSt>70</rnSt>\\r\\n\\t\\t\\t\\t</data>\\r\\n\\r\\n\\t\\t\\t\\t\\r\\n\\t\\t\\t\\t<data>\\r\\n\\t\\t\\t\\t\\t<mode>A01</mode>\\r\\n\\t\\t\\t\\t\\t<tmEf>2020-01-08 00:00</tmEf>\\r\\n\\t\\t\\t\\t\\t<wf>흐리고 비</wf>\\r\\n\\t\\t\\t\\t\\t<tmn>1</tmn>\\r\\n\\t\\t\\t\\t\\t<tmx>5</tmx>\\r\\n\\t\\t\\t\\t\\t<reliability></reliability>\\r\\n\\t\\t\\t\\t\\t<rnSt>70</rnSt>\\r\\n\\t\\t\\t\\t</data>\\r\\n\\r\\n\\t\\t\\t\\t\\r\\n\\t\\t\\t\\t<data>\\r\\n\\t\\t\\t\\t\\t<mode>A01</mode>\\r\\n\\t\\t\\t\\t\\t<tmEf>2020-01-09 00:00</tmEf>\\r\\n\\t\\t\\t\\t\\t<wf>구름많음</wf>\\r\\n\\t\\t\\t\\t\\t<tmn>-5</tmn>\\r\\n\\t\\t\\t\\t\\t<tmx>4</tmx>\\r\\n\\t\\t\\t\\t\\t<reliability></reliability>\\r\\n\\t\\t\\t\\t\\t<rnSt>40</rnSt>\\r\\n\\t\\t\\t\\t</data>\\r\\n\\r\\n\\t\\t\\t\\t\\r\\n\\t\\t\\t\\t<data>\\r\\n\\t\\t\\t\\t\\t<mode>A01</mode>\\r\\n\\t\\t\\t\\t\\t<tmEf>2020-01-10 00:00</tmEf>\\r\\n\\t\\t\\t\\t\\t<wf>구름많음</wf>\\r\\n\\t\\t\\t\\t\\t<tmn>-4</tmn>\\r\\n\\t\\t\\t\\t\\t<tmx>6</tmx>\\r\\n\\t\\t\\t\\t\\t<reliability></reliability>\\r\\n\\t\\t\\t\\t\\t<rnSt>30</rnSt>\\r\\n\\t\\t\\t\\t</data>\\r\\n\\r\\n\\r\\n\\t\\t</location>\\r\\n\\r\\n\\r\\n\\r\\n\\t\\t<location wl_ver=\"3\">\\r\\n\\t\\t\\t\\t<province>부산ㆍ울산ㆍ경상남도</province>\\r\\n\\t\\t\\t\\t<city>부산</city>\\r\\n\\t\\t\\t\\t\\r\\n\\t\\t\\t\\t<data>\\r\\n\\t\\t\\t\\t\\t<mode>A02</mode>\\r\\n\\t\\t\\t\\t\\t<tmEf>2020-01-03 00:00</tmEf>\\r\\n\\t\\t\\t\\t\\t<wf>구름많음</wf>\\r\\n\\t\\t\\t\\t\\t<tmn>2</tmn>\\r\\n\\t\\t\\t\\t\\t<tmx>10</tmx>\\r\\n\\t\\t\\t\\t\\t<reliability></reliability>\\r\\n\\t\\t\\t\\t\\t<rnSt>30</rnSt>\\r\\n\\t\\t\\t\\t</data>\\r\\n\\r\\n\\t\\t\\t\\t\\r\\n\\t\\t\\t\\t<data>\\r\\n\\t\\t\\t\\t\\t<mode>A02</mode>\\r\\n\\t\\t\\t\\t\\t<tmEf>2020-01-03 12:00</tmEf>\\r\\n\\t\\t\\t\\t\\t<wf>구름많음</wf>\\r\\n\\t\\t\\t\\t\\t<tmn>2</tmn>\\r\\n\\t\\t\\t\\t\\t<tmx>10</tmx>\\r\\n\\t\\t\\t\\t\\t<reliability></reliability>\\r\\n\\t\\t\\t\\t\\t<rnSt>30</rnSt>\\r\\n\\t\\t\\t\\t</data>\\r\\n\\r\\n\\t\\t\\t\\t\\r\\n\\t\\t\\t\\t<data>\\r\\n\\t\\t\\t\\t\\t<mode>A02</mode>\\r\\n\\t\\t\\t\\t\\t<tmEf>2020-01-04 00:00</tmEf>\\r\\n\\t\\t\\t\\t\\t<wf>맑음</wf>\\r\\n\\t\\t\\t\\t\\t<tmn>3</tmn>\\r\\n\\t\\t\\t\\t\\t<tmx>11</tmx>\\r\\n\\t\\t\\t\\t\\t<reliability></reliability>\\r\\n\\t\\t\\t\\t\\t<rnSt>0</rnSt>\\r\\n\\t\\t\\t\\t</data>\\r\\n\\r\\n\\t\\t\\t\\t\\r\\n\\t\\t\\t\\t<data>\\r\\n\\t\\t\\t\\t\\t<mode>A02</mode>\\r\\n\\t\\t\\t\\t\\t<tmEf>2020-01-04 12:00</tmEf>\\r\\n\\t\\t\\t\\t\\t<wf>맑음</wf>\\r\\n\\t\\t\\t\\t\\t<tmn>3</tmn>\\r\\n\\t\\t\\t\\t\\t<tmx>11</tmx>\\r\\n\\t\\t\\t\\t\\t<reliability></reliability>\\r\\n\\t\\t\\t\\t\\t<rnSt>0</rnSt>\\r\\n\\t\\t\\t\\t</data>\\r\\n\\r\\n\\t\\t\\t\\t\\r\\n\\t\\t\\t\\t<data>\\r\\n\\t\\t\\t\\t\\t<mode>A02</mode>\\r\\n\\t\\t\\t\\t\\t<tmEf>2020-01-05 00:00</tmEf>\\r\\n\\t\\t\\t\\t\\t<wf>맑음</wf>\\r\\n\\t\\t\\t\\t\\t<tmn>1</tmn>\\r\\n\\t\\t\\t\\t\\t<tmx>12</tmx>\\r\\n\\t\\t\\t\\t\\t<reliability></reliability>\\r\\n\\t\\t\\t\\t\\t<rnSt>0</rnSt>\\r\\n\\t\\t\\t\\t</data>\\r\\n\\r\\n\\t\\t\\t\\t\\r\\n\\t\\t\\t\\t<data>\\r\\n\\t\\t\\t\\t\\t<mode>A02</mode>\\r\\n\\t\\t\\t\\t\\t<tmEf>2020-01-05 12:00</tmEf>\\r\\n\\t\\t\\t\\t\\t<wf>구름많음</wf>\\r\\n\\t\\t\\t\\t\\t<tmn>1</tmn>\\r\\n\\t\\t\\t\\t\\t<tmx>12</tmx>\\r\\n\\t\\t\\t\\t\\t<reliability></reliability>\\r\\n\\t\\t\\t\\t\\t<rnSt>30</rnSt>\\r\\n\\t\\t\\t\\t</data>\\r\\n\\r\\n\\t\\t\\t\\t\\r\\n\\t\\t\\t\\t<data>\\r\\n\\t\\t\\t\\t\\t<mode>A02</mode>\\r\\n\\t\\t\\t\\t\\t<tmEf>2020-01-06 00:00</tmEf>\\r\\n\\t\\t\\t\\t\\t<wf>구름많음</wf>\\r\\n\\t\\t\\t\\t\\t<tmn>5</tmn>\\r\\n\\t\\t\\t\\t\\t<tmx>11</tmx>\\r\\n\\t\\t\\t\\t\\t<reliability></reliability>\\r\\n\\t\\t\\t\\t\\t<rnSt>30</rnSt>\\r\\n\\t\\t\\t\\t</data>\\r\\n\\r\\n\\t\\t\\t\\t\\r\\n\\t\\t\\t\\t<data>\\r\\n\\t\\t\\t\\t\\t<mode>A02</mode>\\r\\n\\t\\t\\t\\t\\t<tmEf>2020-01-06 12:00</tmEf>\\r\\n\\t\\t\\t\\t\\t<wf>흐리고 비</wf>\\r\\n\\t\\t\\t\\t\\t<tmn>5</tmn>\\r\\n\\t\\t\\t\\t\\t<tmx>11</tmx>\\r\\n\\t\\t\\t\\t\\t<reliability></reliability>\\r\\n\\t\\t\\t\\t\\t<rnSt>60</rnSt>\\r\\n\\t\\t\\t\\t</data>\\r\\n\\r\\n\\t\\t\\t\\t\\r\\n\\t\\t\\t\\t<data>\\r\\n\\t\\t\\t\\t\\t<mode>A02</mode>\\r\\n\\t\\t\\t\\t\\t<tmEf>2020-01-07 00:00</tmEf>\\r\\n\\t\\t\\t\\t\\t<wf>흐리고 비</wf>\\r\\n\\t\\t\\t\\t\\t<tmn>8</tmn>\\r\\n\\t\\t\\t\\t\\t<tmx>13</tmx>\\r\\n\\t\\t\\t\\t\\t<reliability></reliability>\\r\\n\\t\\t\\t\\t\\t<rnSt>80</rnSt>\\r\\n\\t\\t\\t\\t</data>\\r\\n\\r\\n\\t\\t\\t\\t\\r\\n\\t\\t\\t\\t<data>\\r\\n\\t\\t\\t\\t\\t<mode>A02</mode>\\r\\n\\t\\t\\t\\t\\t<tmEf>2020-01-07 12:00</tmEf>\\r\\n\\t\\t\\t\\t\\t<wf>흐리고 비</wf>\\r\\n\\t\\t\\t\\t\\t<tmn>8</tmn>\\r\\n\\t\\t\\t\\t\\t<tmx>13</tmx>\\r\\n\\t\\t\\t\\t\\t<reliability></reliability>\\r\\n\\t\\t\\t\\t\\t<rnSt>80</rnSt>\\r\\n\\t\\t\\t\\t</data>\\r\\n\\r\\n\\t\\t\\t\\t\\r\\n\\t\\t\\t\\t<data>\\r\\n\\t\\t\\t\\t\\t<mode>A01</mode>\\r\\n\\t\\t\\t\\t\\t<tmEf>2020-01-08 00:00</tmEf>\\r\\n\\t\\t\\t\\t\\t<wf>흐리고 비</wf>\\r\\n\\t\\t\\t\\t\\t<tmn>8</tmn>\\r\\n\\t\\t\\t\\t\\t<tmx>11</tmx>\\r\\n\\t\\t\\t\\t\\t<reliability></reliability>\\r\\n\\t\\t\\t\\t\\t<rnSt>70</rnSt>\\r\\n\\t\\t\\t\\t</data>\\r\\n\\r\\n\\t\\t\\t\\t\\r\\n\\t\\t\\t\\t<data>\\r\\n\\t\\t\\t\\t\\t<mode>A01</mode>\\r\\n\\t\\t\\t\\t\\t<tmEf>2020-01-09 00:00</tmEf>\\r\\n\\t\\t\\t\\t\\t<wf>구름많음</wf>\\r\\n\\t\\t\\t\\t\\t<tmn>4</tmn>\\r\\n\\t\\t\\t\\t\\t<tmx>10</tmx>\\r\\n\\t\\t\\t\\t\\t<reliability></reliability>\\r\\n\\t\\t\\t\\t\\t<rnSt>40</rnSt>\\r\\n\\t\\t\\t\\t</data>\\r\\n\\r\\n\\t\\t\\t\\t\\r\\n\\t\\t\\t\\t<data>\\r\\n\\t\\t\\t\\t\\t<mode>A01</mode>\\r\\n\\t\\t\\t\\t\\t<tmEf>2020-01-10 00:00</tmEf>\\r\\n\\t\\t\\t\\t\\t<wf>구름많음</wf>\\r\\n\\t\\t\\t\\t\\t<tmn>4</tmn>\\r\\n\\t\\t\\t\\t\\t<tmx>11</tmx>\\r\\n\\t\\t\\t\\t\\t<reliability></reliability>\\r\\n\\t\\t\\t\\t\\t<rnSt>30</rnSt>\\r\\n\\t\\t\\t\\t</data>\\r\\n\\r\\n\\r\\n\\t\\t</location>\\r\\n\\r\\n\\t\\t<location wl_ver=\"3\">\\r\\n\\t\\t\\t\\t<province>부산ㆍ울산ㆍ경상남도</province>\\r\\n\\t\\t\\t\\t<city>울산</city>\\r\\n\\t\\t\\t\\t\\r\\n\\t\\t\\t\\t<data>\\r\\n\\t\\t\\t\\t\\t<mode>A02</mode>\\r\\n\\t\\t\\t\\t\\t<tmEf>2020-01-03 00:00</tmEf>\\r\\n\\t\\t\\t\\t\\t<wf>구름많음</wf>\\r\\n\\t\\t\\t\\t\\t<tmn>0</tmn>\\r\\n\\t\\t\\t\\t\\t<tmx>10</tmx>\\r\\n\\t\\t\\t\\t\\t<reliability></reliability>\\r\\n\\t\\t\\t\\t\\t<rnSt>30</rnSt>\\r\\n\\t\\t\\t\\t</data>\\r\\n\\r\\n\\t\\t\\t\\t\\r\\n\\t\\t\\t\\t<data>\\r\\n\\t\\t\\t\\t\\t<mode>A02</mode>\\r\\n\\t\\t\\t\\t\\t<tmEf>2020-01-03 12:00</tmEf>\\r\\n\\t\\t\\t\\t\\t<wf>구름많음</wf>\\r\\n\\t\\t\\t\\t\\t<tmn>0</tmn>\\r\\n\\t\\t\\t\\t\\t<tmx>10</tmx>\\r\\n\\t\\t\\t\\t\\t<reliability></reliability>\\r\\n\\t\\t\\t\\t\\t<rnSt>30</rnSt>\\r\\n\\t\\t\\t\\t</data>\\r\\n\\r\\n\\t\\t\\t\\t\\r\\n\\t\\t\\t\\t<data>\\r\\n\\t\\t\\t\\t\\t<mode>A02</mode>\\r\\n\\t\\t\\t\\t\\t<tmEf>2020-01-04 00:00</tmEf>\\r\\n\\t\\t\\t\\t\\t<wf>맑음</wf>\\r\\n\\t\\t\\t\\t\\t<tmn>1</tmn>\\r\\n\\t\\t\\t\\t\\t<tmx>10</tmx>\\r\\n\\t\\t\\t\\t\\t<reliability></reliability>\\r\\n\\t\\t\\t\\t\\t<rnSt>0</rnSt>\\r\\n\\t\\t\\t\\t</data>\\r\\n\\r\\n\\t\\t\\t\\t\\r\\n\\t\\t\\t\\t<data>\\r\\n\\t\\t\\t\\t\\t<mode>A02</mode>\\r\\n\\t\\t\\t\\t\\t<tmEf>2020-01-04 12:00</tmEf>\\r\\n\\t\\t\\t\\t\\t<wf>맑음</wf>\\r\\n\\t\\t\\t\\t\\t<tmn>1</tmn>\\r\\n\\t\\t\\t\\t\\t<tmx>10</tmx>\\r\\n\\t\\t\\t\\t\\t<reliability></reliability>\\r\\n\\t\\t\\t\\t\\t<rnSt>0</rnSt>\\r\\n\\t\\t\\t\\t</data>\\r\\n\\r\\n\\t\\t\\t\\t\\r\\n\\t\\t\\t\\t<data>\\r\\n\\t\\t\\t\\t\\t<mode>A02</mode>\\r\\n\\t\\t\\t\\t\\t<tmEf>2020-01-05 00:00</tmEf>\\r\\n\\t\\t\\t\\t\\t<wf>맑음</wf>\\r\\n\\t\\t\\t\\t\\t<tmn>-1</tmn>\\r\\n\\t\\t\\t\\t\\t<tmx>10</tmx>\\r\\n\\t\\t\\t\\t\\t<reliability></reliability>\\r\\n\\t\\t\\t\\t\\t<rnSt>0</rnSt>\\r\\n\\t\\t\\t\\t</data>\\r\\n\\r\\n\\t\\t\\t\\t\\r\\n\\t\\t\\t\\t<data>\\r\\n\\t\\t\\t\\t\\t<mode>A02</mode>\\r\\n\\t\\t\\t\\t\\t<tmEf>2020-01-05 12:00</tmEf>\\r\\n\\t\\t\\t\\t\\t<wf>구름많음</wf>\\r\\n\\t\\t\\t\\t\\t<tmn>-1</tmn>\\r\\n\\t\\t\\t\\t\\t<tmx>10</tmx>\\r\\n\\t\\t\\t\\t\\t<reliability></reliability>\\r\\n\\t\\t\\t\\t\\t<rnSt>30</rnSt>\\r\\n\\t\\t\\t\\t</data>\\r\\n\\r\\n\\t\\t\\t\\t\\r\\n\\t\\t\\t\\t<data>\\r\\n\\t\\t\\t\\t\\t<mode>A02</mode>\\r\\n\\t\\t\\t\\t\\t<tmEf>2020-01-06 00:00</tmEf>\\r\\n\\t\\t\\t\\t\\t<wf>구름많음</wf>\\r\\n\\t\\t\\t\\t\\t<tmn>1</tmn>\\r\\n\\t\\t\\t\\t\\t<tmx>9</tmx>\\r\\n\\t\\t\\t\\t\\t<reliability></reliability>\\r\\n\\t\\t\\t\\t\\t<rnSt>30</rnSt>\\r\\n\\t\\t\\t\\t</data>\\r\\n\\r\\n\\t\\t\\t\\t\\r\\n\\t\\t\\t\\t<data>\\r\\n\\t\\t\\t\\t\\t<mode>A02</mode>\\r\\n\\t\\t\\t\\t\\t<tmEf>2020-01-06 12:00</tmEf>\\r\\n\\t\\t\\t\\t\\t<wf>흐리고 비</wf>\\r\\n\\t\\t\\t\\t\\t<tmn>1</tmn>\\r\\n\\t\\t\\t\\t\\t<tmx>9</tmx>\\r\\n\\t\\t\\t\\t\\t<reliability></reliability>\\r\\n\\t\\t\\t\\t\\t<rnSt>60</rnSt>\\r\\n\\t\\t\\t\\t</data>\\r\\n\\r\\n\\t\\t\\t\\t\\r\\n\\t\\t\\t\\t<data>\\r\\n\\t\\t\\t\\t\\t<mode>A02</mode>\\r\\n\\t\\t\\t\\t\\t<tmEf>2020-01-07 00:00</tmEf>\\r\\n\\t\\t\\t\\t\\t<wf>흐리고 비</wf>\\r\\n\\t\\t\\t\\t\\t<tmn>5</tmn>\\r\\n\\t\\t\\t\\t\\t<tmx>11</tmx>\\r\\n\\t\\t\\t\\t\\t<reliability></reliability>\\r\\n\\t\\t\\t\\t\\t<rnSt>80</rnSt>\\r\\n\\t\\t\\t\\t</data>\\r\\n\\r\\n\\t\\t\\t\\t\\r\\n\\t\\t\\t\\t<data>\\r\\n\\t\\t\\t\\t\\t<mode>A02</mode>\\r\\n\\t\\t\\t\\t\\t<tmEf>2020-01-07 12:00</tmEf>\\r\\n\\t\\t\\t\\t\\t<wf>흐리고 비</wf>\\r\\n\\t\\t\\t\\t\\t<tmn>5</tmn>\\r\\n\\t\\t\\t\\t\\t<tmx>11</tmx>\\r\\n\\t\\t\\t\\t\\t<reliability></reliability>\\r\\n\\t\\t\\t\\t\\t<rnSt>80</rnSt>\\r\\n\\t\\t\\t\\t</data>\\r\\n\\r\\n\\t\\t\\t\\t\\r\\n\\t\\t\\t\\t<data>\\r\\n\\t\\t\\t\\t\\t<mode>A01</mode>\\r\\n\\t\\t\\t\\t\\t<tmEf>2020-01-08 00:00</tmEf>\\r\\n\\t\\t\\t\\t\\t<wf>흐리고 비</wf>\\r\\n\\t\\t\\t\\t\\t<tmn>5</tmn>\\r\\n\\t\\t\\t\\t\\t<tmx>9</tmx>\\r\\n\\t\\t\\t\\t\\t<reliability></reliability>\\r\\n\\t\\t\\t\\t\\t<rnSt>70</rnSt>\\r\\n\\t\\t\\t\\t</data>\\r\\n\\r\\n\\t\\t\\t\\t\\r\\n\\t\\t\\t\\t<data>\\r\\n\\t\\t\\t\\t\\t<mode>A01</mode>\\r\\n\\t\\t\\t\\t\\t<tmEf>2020-01-09 00:00</tmEf>\\r\\n\\t\\t\\t\\t\\t<wf>구름많음</wf>\\r\\n\\t\\t\\t\\t\\t<tmn>2</tmn>\\r\\n\\t\\t\\t\\t\\t<tmx>8</tmx>\\r\\n\\t\\t\\t\\t\\t<reliability></reliability>\\r\\n\\t\\t\\t\\t\\t<rnSt>40</rnSt>\\r\\n\\t\\t\\t\\t</data>\\r\\n\\r\\n\\t\\t\\t\\t\\r\\n\\t\\t\\t\\t<data>\\r\\n\\t\\t\\t\\t\\t<mode>A01</mode>\\r\\n\\t\\t\\t\\t\\t<tmEf>2020-01-10 00:00</tmEf>\\r\\n\\t\\t\\t\\t\\t<wf>구름많음</wf>\\r\\n\\t\\t\\t\\t\\t<tmn>2</tmn>\\r\\n\\t\\t\\t\\t\\t<tmx>10</tmx>\\r\\n\\t\\t\\t\\t\\t<reliability></reliability>\\r\\n\\t\\t\\t\\t\\t<rnSt>30</rnSt>\\r\\n\\t\\t\\t\\t</data>\\r\\n\\r\\n\\r\\n\\t\\t</location>\\r\\n\\r\\n\\t\\t<location wl_ver=\"3\">\\r\\n\\t\\t\\t\\t<province>부산ㆍ울산ㆍ경상남도</province>\\r\\n\\t\\t\\t\\t<city>창원</city>\\r\\n\\t\\t\\t\\t\\r\\n\\t\\t\\t\\t<data>\\r\\n\\t\\t\\t\\t\\t<mode>A02</mode>\\r\\n\\t\\t\\t\\t\\t<tmEf>2020-01-03 00:00</tmEf>\\r\\n\\t\\t\\t\\t\\t<wf>구름많음</wf>\\r\\n\\t\\t\\t\\t\\t<tmn>0</tmn>\\r\\n\\t\\t\\t\\t\\t<tmx>9</tmx>\\r\\n\\t\\t\\t\\t\\t<reliability></reliability>\\r\\n\\t\\t\\t\\t\\t<rnSt>30</rnSt>\\r\\n\\t\\t\\t\\t</data>\\r\\n\\r\\n\\t\\t\\t\\t\\r\\n\\t\\t\\t\\t<data>\\r\\n\\t\\t\\t\\t\\t<mode>A02</mode>\\r\\n\\t\\t\\t\\t\\t<tmEf>2020-01-03 12:00</tmEf>\\r\\n\\t\\t\\t\\t\\t<wf>구름많음</wf>\\r\\n\\t\\t\\t\\t\\t<tmn>0</tmn>\\r\\n\\t\\t\\t\\t\\t<tmx>9</tmx>\\r\\n\\t\\t\\t\\t\\t<reliability></reliability>\\r\\n\\t\\t\\t\\t\\t<rnSt>30</rnSt>\\r\\n\\t\\t\\t\\t</data>\\r\\n\\r\\n\\t\\t\\t\\t\\r\\n\\t\\t\\t\\t<data>\\r\\n\\t\\t\\t\\t\\t<mode>A02</mode>\\r\\n\\t\\t\\t\\t\\t<tmEf>2020-01-04 00:00</tmEf>\\r\\n\\t\\t\\t\\t\\t<wf>맑음</wf>\\r\\n\\t\\t\\t\\t\\t<tmn>1</tmn>\\r\\n\\t\\t\\t\\t\\t<tmx>10</tmx>\\r\\n\\t\\t\\t\\t\\t<reliability></reliability>\\r\\n\\t\\t\\t\\t\\t<rnSt>0</rnSt>\\r\\n\\t\\t\\t\\t</data>\\r\\n\\r\\n\\t\\t\\t\\t\\r\\n\\t\\t\\t\\t<data>\\r\\n\\t\\t\\t\\t\\t<mode>A02</mode>\\r\\n\\t\\t\\t\\t\\t<tmEf>2020-01-04 12:00</tmEf>\\r\\n\\t\\t\\t\\t\\t<wf>맑음</wf>\\r\\n\\t\\t\\t\\t\\t<tmn>1</tmn>\\r\\n\\t\\t\\t\\t\\t<tmx>10</tmx>\\r\\n\\t\\t\\t\\t\\t<reliability></reliability>\\r\\n\\t\\t\\t\\t\\t<rnSt>0</rnSt>\\r\\n\\t\\t\\t\\t</data>\\r\\n\\r\\n\\t\\t\\t\\t\\r\\n\\t\\t\\t\\t<data>\\r\\n\\t\\t\\t\\t\\t<mode>A02</mode>\\r\\n\\t\\t\\t\\t\\t<tmEf>2020-01-05 00:00</tmEf>\\r\\n\\t\\t\\t\\t\\t<wf>맑음</wf>\\r\\n\\t\\t\\t\\t\\t<tmn>-1</tmn>\\r\\n\\t\\t\\t\\t\\t<tmx>9</tmx>\\r\\n\\t\\t\\t\\t\\t<reliability></reliability>\\r\\n\\t\\t\\t\\t\\t<rnSt>0</rnSt>\\r\\n\\t\\t\\t\\t</data>\\r\\n\\r\\n\\t\\t\\t\\t\\r\\n\\t\\t\\t\\t<data>\\r\\n\\t\\t\\t\\t\\t<mode>A02</mode>\\r\\n\\t\\t\\t\\t\\t<tmEf>2020-01-05 12:00</tmEf>\\r\\n\\t\\t\\t\\t\\t<wf>구름많음</wf>\\r\\n\\t\\t\\t\\t\\t<tmn>-1</tmn>\\r\\n\\t\\t\\t\\t\\t<tmx>9</tmx>\\r\\n\\t\\t\\t\\t\\t<reliability></reliability>\\r\\n\\t\\t\\t\\t\\t<rnSt>30</rnSt>\\r\\n\\t\\t\\t\\t</data>\\r\\n\\r\\n\\t\\t\\t\\t\\r\\n\\t\\t\\t\\t<data>\\r\\n\\t\\t\\t\\t\\t<mode>A02</mode>\\r\\n\\t\\t\\t\\t\\t<tmEf>2020-01-06 00:00</tmEf>\\r\\n\\t\\t\\t\\t\\t<wf>구름많음</wf>\\r\\n\\t\\t\\t\\t\\t<tmn>1</tmn>\\r\\n\\t\\t\\t\\t\\t<tmx>8</tmx>\\r\\n\\t\\t\\t\\t\\t<reliability></reliability>\\r\\n\\t\\t\\t\\t\\t<rnSt>30</rnSt>\\r\\n\\t\\t\\t\\t</data>\\r\\n\\r\\n\\t\\t\\t\\t\\r\\n\\t\\t\\t\\t<data>\\r\\n\\t\\t\\t\\t\\t<mode>A02</mode>\\r\\n\\t\\t\\t\\t\\t<tmEf>2020-01-06 12:00</tmEf>\\r\\n\\t\\t\\t\\t\\t<wf>흐리고 비</wf>\\r\\n\\t\\t\\t\\t\\t<tmn>1</tmn>\\r\\n\\t\\t\\t\\t\\t<tmx>8</tmx>\\r\\n\\t\\t\\t\\t\\t<reliability></reliability>\\r\\n\\t\\t\\t\\t\\t<rnSt>60</rnSt>\\r\\n\\t\\t\\t\\t</data>\\r\\n\\r\\n\\t\\t\\t\\t\\r\\n\\t\\t\\t\\t<data>\\r\\n\\t\\t\\t\\t\\t<mode>A02</mode>\\r\\n\\t\\t\\t\\t\\t<tmEf>2020-01-07 00:00</tmEf>\\r\\n\\t\\t\\t\\t\\t<wf>흐리고 비</wf>\\r\\n\\t\\t\\t\\t\\t<tmn>4</tmn>\\r\\n\\t\\t\\t\\t\\t<tmx>10</tmx>\\r\\n\\t\\t\\t\\t\\t<reliability></reliability>\\r\\n\\t\\t\\t\\t\\t<rnSt>80</rnSt>\\r\\n\\t\\t\\t\\t</data>\\r\\n\\r\\n\\t\\t\\t\\t\\r\\n\\t\\t\\t\\t<data>\\r\\n\\t\\t\\t\\t\\t<mode>A02</mode>\\r\\n\\t\\t\\t\\t\\t<tmEf>2020-01-07 12:00</tmEf>\\r\\n\\t\\t\\t\\t\\t<wf>흐리고 비</wf>\\r\\n\\t\\t\\t\\t\\t<tmn>4</tmn>\\r\\n\\t\\t\\t\\t\\t<tmx>10</tmx>\\r\\n\\t\\t\\t\\t\\t<reliability></reliability>\\r\\n\\t\\t\\t\\t\\t<rnSt>80</rnSt>\\r\\n\\t\\t\\t\\t</data>\\r\\n\\r\\n\\t\\t\\t\\t\\r\\n\\t\\t\\t\\t<data>\\r\\n\\t\\t\\t\\t\\t<mode>A01</mode>\\r\\n\\t\\t\\t\\t\\t<tmEf>2020-01-08 00:00</tmEf>\\r\\n\\t\\t\\t\\t\\t<wf>흐리고 비</wf>\\r\\n\\t\\t\\t\\t\\t<tmn>5</tmn>\\r\\n\\t\\t\\t\\t\\t<tmx>9</tmx>\\r\\n\\t\\t\\t\\t\\t<reliability></reliability>\\r\\n\\t\\t\\t\\t\\t<rnSt>70</rnSt>\\r\\n\\t\\t\\t\\t</data>\\r\\n\\r\\n\\t\\t\\t\\t\\r\\n\\t\\t\\t\\t<data>\\r\\n\\t\\t\\t\\t\\t<mode>A01</mode>\\r\\n\\t\\t\\t\\t\\t<tmEf>2020-01-09 00:00</tmEf>\\r\\n\\t\\t\\t\\t\\t<wf>구름많음</wf>\\r\\n\\t\\t\\t\\t\\t<tmn>1</tmn>\\r\\n\\t\\t\\t\\t\\t<tmx>7</tmx>\\r\\n\\t\\t\\t\\t\\t<reliability></reliability>\\r\\n\\t\\t\\t\\t\\t<rnSt>40</rnSt>\\r\\n\\t\\t\\t\\t</data>\\r\\n\\r\\n\\t\\t\\t\\t\\r\\n\\t\\t\\t\\t<data>\\r\\n\\t\\t\\t\\t\\t<mode>A01</mode>\\r\\n\\t\\t\\t\\t\\t<tmEf>2020-01-10 00:00</tmEf>\\r\\n\\t\\t\\t\\t\\t<wf>구름많음</wf>\\r\\n\\t\\t\\t\\t\\t<tmn>1</tmn>\\r\\n\\t\\t\\t\\t\\t<tmx>9</tmx>\\r\\n\\t\\t\\t\\t\\t<reliability></reliability>\\r\\n\\t\\t\\t\\t\\t<rnSt>30</rnSt>\\r\\n\\t\\t\\t\\t</data>\\r\\n\\r\\n\\r\\n\\t\\t</location>\\r\\n\\r\\n\\t\\t<location wl_ver=\"3\">\\r\\n\\t\\t\\t\\t<province>부산ㆍ울산ㆍ경상남도</province>\\r\\n\\t\\t\\t\\t<city>진주</city>\\r\\n\\t\\t\\t\\t\\r\\n\\t\\t\\t\\t<data>\\r\\n\\t\\t\\t\\t\\t<mode>A02</mode>\\r\\n\\t\\t\\t\\t\\t<tmEf>2020-01-03 00:00</tmEf>\\r\\n\\t\\t\\t\\t\\t<wf>구름많음</wf>\\r\\n\\t\\t\\t\\t\\t<tmn>-4</tmn>\\r\\n\\t\\t\\t\\t\\t<tmx>10</tmx>\\r\\n\\t\\t\\t\\t\\t<reliability></reliability>\\r\\n\\t\\t\\t\\t\\t<rnSt>30</rnSt>\\r\\n\\t\\t\\t\\t</data>\\r\\n\\r\\n\\t\\t\\t\\t\\r\\n\\t\\t\\t\\t<data>\\r\\n\\t\\t\\t\\t\\t<mode>A02</mode>\\r\\n\\t\\t\\t\\t\\t<tmEf>2020-01-03 12:00</tmEf>\\r\\n\\t\\t\\t\\t\\t<wf>구름많음</wf>\\r\\n\\t\\t\\t\\t\\t<tmn>-4</tmn>\\r\\n\\t\\t\\t\\t\\t<tmx>10</tmx>\\r\\n\\t\\t\\t\\t\\t<reliability></reliability>\\r\\n\\t\\t\\t\\t\\t<rnSt>30</rnSt>\\r\\n\\t\\t\\t\\t</data>\\r\\n\\r\\n\\t\\t\\t\\t\\r\\n\\t\\t\\t\\t<data>\\r\\n\\t\\t\\t\\t\\t<mode>A02</mode>\\r\\n\\t\\t\\t\\t\\t<tmEf>2020-01-04 00:00</tmEf>\\r\\n\\t\\t\\t\\t\\t<wf>맑음</wf>\\r\\n\\t\\t\\t\\t\\t<tmn>-3</tmn>\\r\\n\\t\\t\\t\\t\\t<tmx>11</tmx>\\r\\n\\t\\t\\t\\t\\t<reliability></reliability>\\r\\n\\t\\t\\t\\t\\t<rnSt>0</rnSt>\\r\\n\\t\\t\\t\\t</data>\\r\\n\\r\\n\\t\\t\\t\\t\\r\\n\\t\\t\\t\\t<data>\\r\\n\\t\\t\\t\\t\\t<mode>A02</mode>\\r\\n\\t\\t\\t\\t\\t<tmEf>2020-01-04 12:00</tmEf>\\r\\n\\t\\t\\t\\t\\t<wf>맑음</wf>\\r\\n\\t\\t\\t\\t\\t<tmn>-3</tmn>\\r\\n\\t\\t\\t\\t\\t<tmx>11</tmx>\\r\\n\\t\\t\\t\\t\\t<reliability></reliability>\\r\\n\\t\\t\\t\\t\\t<rnSt>0</rnSt>\\r\\n\\t\\t\\t\\t</data>\\r\\n\\r\\n\\t\\t\\t\\t\\r\\n\\t\\t\\t\\t<data>\\r\\n\\t\\t\\t\\t\\t<mode>A02</mode>\\r\\n\\t\\t\\t\\t\\t<tmEf>2020-01-05 00:00</tmEf>\\r\\n\\t\\t\\t\\t\\t<wf>맑음</wf>\\r\\n\\t\\t\\t\\t\\t<tmn>-5</tmn>\\r\\n\\t\\t\\t\\t\\t<tmx>10</tmx>\\r\\n\\t\\t\\t\\t\\t<reliability></reliability>\\r\\n\\t\\t\\t\\t\\t<rnSt>0</rnSt>\\r\\n\\t\\t\\t\\t</data>\\r\\n\\r\\n\\t\\t\\t\\t\\r\\n\\t\\t\\t\\t<data>\\r\\n\\t\\t\\t\\t\\t<mode>A02</mode>\\r\\n\\t\\t\\t\\t\\t<tmEf>2020-01-05 12:00</tmEf>\\r\\n\\t\\t\\t\\t\\t<wf>구름많음</wf>\\r\\n\\t\\t\\t\\t\\t<tmn>-5</tmn>\\r\\n\\t\\t\\t\\t\\t<tmx>10</tmx>\\r\\n\\t\\t\\t\\t\\t<reliability></reliability>\\r\\n\\t\\t\\t\\t\\t<rnSt>30</rnSt>\\r\\n\\t\\t\\t\\t</data>\\r\\n\\r\\n\\t\\t\\t\\t\\r\\n\\t\\t\\t\\t<data>\\r\\n\\t\\t\\t\\t\\t<mode>A02</mode>\\r\\n\\t\\t\\t\\t\\t<tmEf>2020-01-06 00:00</tmEf>\\r\\n\\t\\t\\t\\t\\t<wf>구름많음</wf>\\r\\n\\t\\t\\t\\t\\t<tmn>-2</tmn>\\r\\n\\t\\t\\t\\t\\t<tmx>8</tmx>\\r\\n\\t\\t\\t\\t\\t<reliability></reliability>\\r\\n\\t\\t\\t\\t\\t<rnSt>30</rnSt>\\r\\n\\t\\t\\t\\t</data>\\r\\n\\r\\n\\t\\t\\t\\t\\r\\n\\t\\t\\t\\t<data>\\r\\n\\t\\t\\t\\t\\t<mode>A02</mode>\\r\\n\\t\\t\\t\\t\\t<tmEf>2020-01-06 12:00</tmEf>\\r\\n\\t\\t\\t\\t\\t<wf>흐리고 비</wf>\\r\\n\\t\\t\\t\\t\\t<tmn>-2</tmn>\\r\\n\\t\\t\\t\\t\\t<tmx>8</tmx>\\r\\n\\t\\t\\t\\t\\t<reliability></reliability>\\r\\n\\t\\t\\t\\t\\t<rnSt>60</rnSt>\\r\\n\\t\\t\\t\\t</data>\\r\\n\\r\\n\\t\\t\\t\\t\\r\\n\\t\\t\\t\\t<data>\\r\\n\\t\\t\\t\\t\\t<mode>A02</mode>\\r\\n\\t\\t\\t\\t\\t<tmEf>2020-01-07 00:00</tmEf>\\r\\n\\t\\t\\t\\t\\t<wf>흐리고 비</wf>\\r\\n\\t\\t\\t\\t\\t<tmn>2</tmn>\\r\\n\\t\\t\\t\\t\\t<tmx>11</tmx>\\r\\n\\t\\t\\t\\t\\t<reliability></reliability>\\r\\n\\t\\t\\t\\t\\t<rnSt>80</rnSt>\\r\\n\\t\\t\\t\\t</data>\\r\\n\\r\\n\\t\\t\\t\\t\\r\\n\\t\\t\\t\\t<data>\\r\\n\\t\\t\\t\\t\\t<mode>A02</mode>\\r\\n\\t\\t\\t\\t\\t<tmEf>2020-01-07 12:00</tmEf>\\r\\n\\t\\t\\t\\t\\t<wf>흐리고 비</wf>\\r\\n\\t\\t\\t\\t\\t<tmn>2</tmn>\\r\\n\\t\\t\\t\\t\\t<tmx>11</tmx>\\r\\n\\t\\t\\t\\t\\t<reliability></reliability>\\r\\n\\t\\t\\t\\t\\t<rnSt>80</rnSt>\\r\\n\\t\\t\\t\\t</data>\\r\\n\\r\\n\\t\\t\\t\\t\\r\\n\\t\\t\\t\\t<data>\\r\\n\\t\\t\\t\\t\\t<mode>A01</mode>\\r\\n\\t\\t\\t\\t\\t<tmEf>2020-01-08 00:00</tmEf>\\r\\n\\t\\t\\t\\t\\t<wf>흐리고 비</wf>\\r\\n\\t\\t\\t\\t\\t<tmn>3</tmn>\\r\\n\\t\\t\\t\\t\\t<tmx>9</tmx>\\r\\n\\t\\t\\t\\t\\t<reliability></reliability>\\r\\n\\t\\t\\t\\t\\t<rnSt>70</rnSt>\\r\\n\\t\\t\\t\\t</data>\\r\\n\\r\\n\\t\\t\\t\\t\\r\\n\\t\\t\\t\\t<data>\\r\\n\\t\\t\\t\\t\\t<mode>A01</mode>\\r\\n\\t\\t\\t\\t\\t<tmEf>2020-01-09 00:00</tmEf>\\r\\n\\t\\t\\t\\t\\t<wf>구름많음</wf>\\r\\n\\t\\t\\t\\t\\t<tmn>0</tmn>\\r\\n\\t\\t\\t\\t\\t<tmx>8</tmx>\\r\\n\\t\\t\\t\\t\\t<reliability></reliability>\\r\\n\\t\\t\\t\\t\\t<rnSt>40</rnSt>\\r\\n\\t\\t\\t\\t</data>\\r\\n\\r\\n\\t\\t\\t\\t\\r\\n\\t\\t\\t\\t<data>\\r\\n\\t\\t\\t\\t\\t<mode>A01</mode>\\r\\n\\t\\t\\t\\t\\t<tmEf>2020-01-10 00:00</tmEf>\\r\\n\\t\\t\\t\\t\\t<wf>구름많음</wf>\\r\\n\\t\\t\\t\\t\\t<tmn>-1</tmn>\\r\\n\\t\\t\\t\\t\\t<tmx>10</tmx>\\r\\n\\t\\t\\t\\t\\t<reliability></reliability>\\r\\n\\t\\t\\t\\t\\t<rnSt>30</rnSt>\\r\\n\\t\\t\\t\\t</data>\\r\\n\\r\\n\\r\\n\\t\\t</location>\\r\\n\\r\\n\\t\\t<location wl_ver=\"3\">\\r\\n\\t\\t\\t\\t<province>부산ㆍ울산ㆍ경상남도</province>\\r\\n\\t\\t\\t\\t<city>거창</city>\\r\\n\\t\\t\\t\\t\\r\\n\\t\\t\\t\\t<data>\\r\\n\\t\\t\\t\\t\\t<mode>A02</mode>\\r\\n\\t\\t\\t\\t\\t<tmEf>2020-01-03 00:00</tmEf>\\r\\n\\t\\t\\t\\t\\t<wf>구름많음</wf>\\r\\n\\t\\t\\t\\t\\t<tmn>-4</tmn>\\r\\n\\t\\t\\t\\t\\t<tmx>8</tmx>\\r\\n\\t\\t\\t\\t\\t<reliability></reliability>\\r\\n\\t\\t\\t\\t\\t<rnSt>30</rnSt>\\r\\n\\t\\t\\t\\t</data>\\r\\n\\r\\n\\t\\t\\t\\t\\r\\n\\t\\t\\t\\t<data>\\r\\n\\t\\t\\t\\t\\t<mode>A02</mode>\\r\\n\\t\\t\\t\\t\\t<tmEf>2020-01-03 12:00</tmEf>\\r\\n\\t\\t\\t\\t\\t<wf>구름많음</wf>\\r\\n\\t\\t\\t\\t\\t<tmn>-4</tmn>\\r\\n\\t\\t\\t\\t\\t<tmx>8</tmx>\\r\\n\\t\\t\\t\\t\\t<reliability></reliability>\\r\\n\\t\\t\\t\\t\\t<rnSt>30</rnSt>\\r\\n\\t\\t\\t\\t</data>\\r\\n\\r\\n\\t\\t\\t\\t\\r\\n\\t\\t\\t\\t<data>\\r\\n\\t\\t\\t\\t\\t<mode>A02</mode>\\r\\n\\t\\t\\t\\t\\t<tmEf>2020-01-04 00:00</tmEf>\\r\\n\\t\\t\\t\\t\\t<wf>맑음</wf>\\r\\n\\t\\t\\t\\t\\t<tmn>-3</tmn>\\r\\n\\t\\t\\t\\t\\t<tmx>9</tmx>\\r\\n\\t\\t\\t\\t\\t<reliability></reliability>\\r\\n\\t\\t\\t\\t\\t<rnSt>0</rnSt>\\r\\n\\t\\t\\t\\t</data>\\r\\n\\r\\n\\t\\t\\t\\t\\r\\n\\t\\t\\t\\t<data>\\r\\n\\t\\t\\t\\t\\t<mode>A02</mode>\\r\\n\\t\\t\\t\\t\\t<tmEf>2020-01-04 12:00</tmEf>\\r\\n\\t\\t\\t\\t\\t<wf>맑음</wf>\\r\\n\\t\\t\\t\\t\\t<tmn>-3</tmn>\\r\\n\\t\\t\\t\\t\\t<tmx>9</tmx>\\r\\n\\t\\t\\t\\t\\t<reliability></reliability>\\r\\n\\t\\t\\t\\t\\t<rnSt>0</rnSt>\\r\\n\\t\\t\\t\\t</data>\\r\\n\\r\\n\\t\\t\\t\\t\\r\\n\\t\\t\\t\\t<data>\\r\\n\\t\\t\\t\\t\\t<mode>A02</mode>\\r\\n\\t\\t\\t\\t\\t<tmEf>2020-01-05 00:00</tmEf>\\r\\n\\t\\t\\t\\t\\t<wf>맑음</wf>\\r\\n\\t\\t\\t\\t\\t<tmn>-6</tmn>\\r\\n\\t\\t\\t\\t\\t<tmx>9</tmx>\\r\\n\\t\\t\\t\\t\\t<reliability></reliability>\\r\\n\\t\\t\\t\\t\\t<rnSt>0</rnSt>\\r\\n\\t\\t\\t\\t</data>\\r\\n\\r\\n\\t\\t\\t\\t\\r\\n\\t\\t\\t\\t<data>\\r\\n\\t\\t\\t\\t\\t<mode>A02</mode>\\r\\n\\t\\t\\t\\t\\t<tmEf>2020-01-05 12:00</tmEf>\\r\\n\\t\\t\\t\\t\\t<wf>구름많음</wf>\\r\\n\\t\\t\\t\\t\\t<tmn>-6</tmn>\\r\\n\\t\\t\\t\\t\\t<tmx>9</tmx>\\r\\n\\t\\t\\t\\t\\t<reliability></reliability>\\r\\n\\t\\t\\t\\t\\t<rnSt>30</rnSt>\\r\\n\\t\\t\\t\\t</data>\\r\\n\\r\\n\\t\\t\\t\\t\\r\\n\\t\\t\\t\\t<data>\\r\\n\\t\\t\\t\\t\\t<mode>A02</mode>\\r\\n\\t\\t\\t\\t\\t<tmEf>2020-01-06 00:00</tmEf>\\r\\n\\t\\t\\t\\t\\t<wf>구름많음</wf>\\r\\n\\t\\t\\t\\t\\t<tmn>-3</tmn>\\r\\n\\t\\t\\t\\t\\t<tmx>7</tmx>\\r\\n\\t\\t\\t\\t\\t<reliability></reliability>\\r\\n\\t\\t\\t\\t\\t<rnSt>30</rnSt>\\r\\n\\t\\t\\t\\t</data>\\r\\n\\r\\n\\t\\t\\t\\t\\r\\n\\t\\t\\t\\t<data>\\r\\n\\t\\t\\t\\t\\t<mode>A02</mode>\\r\\n\\t\\t\\t\\t\\t<tmEf>2020-01-06 12:00</tmEf>\\r\\n\\t\\t\\t\\t\\t<wf>흐리고 비</wf>\\r\\n\\t\\t\\t\\t\\t<tmn>-3</tmn>\\r\\n\\t\\t\\t\\t\\t<tmx>7</tmx>\\r\\n\\t\\t\\t\\t\\t<reliability></reliability>\\r\\n\\t\\t\\t\\t\\t<rnSt>60</rnSt>\\r\\n\\t\\t\\t\\t</data>\\r\\n\\r\\n\\t\\t\\t\\t\\r\\n\\t\\t\\t\\t<data>\\r\\n\\t\\t\\t\\t\\t<mode>A02</mode>\\r\\n\\t\\t\\t\\t\\t<tmEf>2020-01-07 00:00</tmEf>\\r\\n\\t\\t\\t\\t\\t<wf>흐리고 비</wf>\\r\\n\\t\\t\\t\\t\\t<tmn>0</tmn>\\r\\n\\t\\t\\t\\t\\t<tmx>9</tmx>\\r\\n\\t\\t\\t\\t\\t<reliability></reliability>\\r\\n\\t\\t\\t\\t\\t<rnSt>80</rnSt>\\r\\n\\t\\t\\t\\t</data>\\r\\n\\r\\n\\t\\t\\t\\t\\r\\n\\t\\t\\t\\t<data>\\r\\n\\t\\t\\t\\t\\t<mode>A02</mode>\\r\\n\\t\\t\\t\\t\\t<tmEf>2020-01-07 12:00</tmEf>\\r\\n\\t\\t\\t\\t\\t<wf>흐리고 비</wf>\\r\\n\\t\\t\\t\\t\\t<tmn>0</tmn>\\r\\n\\t\\t\\t\\t\\t<tmx>9</tmx>\\r\\n\\t\\t\\t\\t\\t<reliability></reliability>\\r\\n\\t\\t\\t\\t\\t<rnSt>80</rnSt>\\r\\n\\t\\t\\t\\t</data>\\r\\n\\r\\n\\t\\t\\t\\t\\r\\n\\t\\t\\t\\t<data>\\r\\n\\t\\t\\t\\t\\t<mode>A01</mode>\\r\\n\\t\\t\\t\\t\\t<tmEf>2020-01-08 00:00</tmEf>\\r\\n\\t\\t\\t\\t\\t<wf>흐리고 비</wf>\\r\\n\\t\\t\\t\\t\\t<tmn>1</tmn>\\r\\n\\t\\t\\t\\t\\t<tmx>7</tmx>\\r\\n\\t\\t\\t\\t\\t<reliability></reliability>\\r\\n\\t\\t\\t\\t\\t<rnSt>70</rnSt>\\r\\n\\t\\t\\t\\t</data>\\r\\n\\r\\n\\t\\t\\t\\t\\r\\n\\t\\t\\t\\t<data>\\r\\n\\t\\t\\t\\t\\t<mode>A01</mode>\\r\\n\\t\\t\\t\\t\\t<tmEf>2020-01-09 00:00</tmEf>\\r\\n\\t\\t\\t\\t\\t<wf>구름많음</wf>\\r\\n\\t\\t\\t\\t\\t<tmn>-4</tmn>\\r\\n\\t\\t\\t\\t\\t<tmx>6</tmx>\\r\\n\\t\\t\\t\\t\\t<reliability></reliability>\\r\\n\\t\\t\\t\\t\\t<rnSt>40</rnSt>\\r\\n\\t\\t\\t\\t</data>\\r\\n\\r\\n\\t\\t\\t\\t\\r\\n\\t\\t\\t\\t<data>\\r\\n\\t\\t\\t\\t\\t<mode>A01</mode>\\r\\n\\t\\t\\t\\t\\t<tmEf>2020-01-10 00:00</tmEf>\\r\\n\\t\\t\\t\\t\\t<wf>구름많음</wf>\\r\\n\\t\\t\\t\\t\\t<tmn>-3</tmn>\\r\\n\\t\\t\\t\\t\\t<tmx>8</tmx>\\r\\n\\t\\t\\t\\t\\t<reliability></reliability>\\r\\n\\t\\t\\t\\t\\t<rnSt>30</rnSt>\\r\\n\\t\\t\\t\\t</data>\\r\\n\\r\\n\\r\\n\\t\\t</location>\\r\\n\\r\\n\\t\\t<location wl_ver=\"3\">\\r\\n\\t\\t\\t\\t<province>부산ㆍ울산ㆍ경상남도</province>\\r\\n\\t\\t\\t\\t<city>통영</city>\\r\\n\\t\\t\\t\\t\\r\\n\\t\\t\\t\\t<data>\\r\\n\\t\\t\\t\\t\\t<mode>A02</mode>\\r\\n\\t\\t\\t\\t\\t<tmEf>2020-01-03 00:00</tmEf>\\r\\n\\t\\t\\t\\t\\t<wf>구름많음</wf>\\r\\n\\t\\t\\t\\t\\t<tmn>2</tmn>\\r\\n\\t\\t\\t\\t\\t<tmx>11</tmx>\\r\\n\\t\\t\\t\\t\\t<reliability></reliability>\\r\\n\\t\\t\\t\\t\\t<rnSt>30</rnSt>\\r\\n\\t\\t\\t\\t</data>\\r\\n\\r\\n\\t\\t\\t\\t\\r\\n\\t\\t\\t\\t<data>\\r\\n\\t\\t\\t\\t\\t<mode>A02</mode>\\r\\n\\t\\t\\t\\t\\t<tmEf>2020-01-03 12:00</tmEf>\\r\\n\\t\\t\\t\\t\\t<wf>구름많음</wf>\\r\\n\\t\\t\\t\\t\\t<tmn>2</tmn>\\r\\n\\t\\t\\t\\t\\t<tmx>11</tmx>\\r\\n\\t\\t\\t\\t\\t<reliability></reliability>\\r\\n\\t\\t\\t\\t\\t<rnSt>30</rnSt>\\r\\n\\t\\t\\t\\t</data>\\r\\n\\r\\n\\t\\t\\t\\t\\r\\n\\t\\t\\t\\t<data>\\r\\n\\t\\t\\t\\t\\t<mode>A02</mode>\\r\\n\\t\\t\\t\\t\\t<tmEf>2020-01-04 00:00</tmEf>\\r\\n\\t\\t\\t\\t\\t<wf>맑음</wf>\\r\\n\\t\\t\\t\\t\\t<tmn>3</tmn>\\r\\n\\t\\t\\t\\t\\t<tmx>11</tmx>\\r\\n\\t\\t\\t\\t\\t<reliability></reliability>\\r\\n\\t\\t\\t\\t\\t<rnSt>0</rnSt>\\r\\n\\t\\t\\t\\t</data>\\r\\n\\r\\n\\t\\t\\t\\t\\r\\n\\t\\t\\t\\t<data>\\r\\n\\t\\t\\t\\t\\t<mode>A02</mode>\\r\\n\\t\\t\\t\\t\\t<tmEf>2020-01-04 12:00</tmEf>\\r\\n\\t\\t\\t\\t\\t<wf>맑음</wf>\\r\\n\\t\\t\\t\\t\\t<tmn>3</tmn>\\r\\n\\t\\t\\t\\t\\t<tmx>11</tmx>\\r\\n\\t\\t\\t\\t\\t<reliability></reliability>\\r\\n\\t\\t\\t\\t\\t<rnSt>0</rnSt>\\r\\n\\t\\t\\t\\t</data>\\r\\n\\r\\n\\t\\t\\t\\t\\r\\n\\t\\t\\t\\t<data>\\r\\n\\t\\t\\t\\t\\t<mode>A02</mode>\\r\\n\\t\\t\\t\\t\\t<tmEf>2020-01-05 00:00</tmEf>\\r\\n\\t\\t\\t\\t\\t<wf>맑음</wf>\\r\\n\\t\\t\\t\\t\\t<tmn>1</tmn>\\r\\n\\t\\t\\t\\t\\t<tmx>10</tmx>\\r\\n\\t\\t\\t\\t\\t<reliability></reliability>\\r\\n\\t\\t\\t\\t\\t<rnSt>0</rnSt>\\r\\n\\t\\t\\t\\t</data>\\r\\n\\r\\n\\t\\t\\t\\t\\r\\n\\t\\t\\t\\t<data>\\r\\n\\t\\t\\t\\t\\t<mode>A02</mode>\\r\\n\\t\\t\\t\\t\\t<tmEf>2020-01-05 12:00</tmEf>\\r\\n\\t\\t\\t\\t\\t<wf>구름많음</wf>\\r\\n\\t\\t\\t\\t\\t<tmn>1</tmn>\\r\\n\\t\\t\\t\\t\\t<tmx>10</tmx>\\r\\n\\t\\t\\t\\t\\t<reliability></reliability>\\r\\n\\t\\t\\t\\t\\t<rnSt>30</rnSt>\\r\\n\\t\\t\\t\\t</data>\\r\\n\\r\\n\\t\\t\\t\\t\\r\\n\\t\\t\\t\\t<data>\\r\\n\\t\\t\\t\\t\\t<mode>A02</mode>\\r\\n\\t\\t\\t\\t\\t<tmEf>2020-01-06 00:00</tmEf>\\r\\n\\t\\t\\t\\t\\t<wf>구름많음</wf>\\r\\n\\t\\t\\t\\t\\t<tmn>4</tmn>\\r\\n\\t\\t\\t\\t\\t<tmx>10</tmx>\\r\\n\\t\\t\\t\\t\\t<reliability></reliability>\\r\\n\\t\\t\\t\\t\\t<rnSt>30</rnSt>\\r\\n\\t\\t\\t\\t</data>\\r\\n\\r\\n\\t\\t\\t\\t\\r\\n\\t\\t\\t\\t<data>\\r\\n\\t\\t\\t\\t\\t<mode>A02</mode>\\r\\n\\t\\t\\t\\t\\t<tmEf>2020-01-06 12:00</tmEf>\\r\\n\\t\\t\\t\\t\\t<wf>흐리고 비</wf>\\r\\n\\t\\t\\t\\t\\t<tmn>4</tmn>\\r\\n\\t\\t\\t\\t\\t<tmx>10</tmx>\\r\\n\\t\\t\\t\\t\\t<reliability></reliability>\\r\\n\\t\\t\\t\\t\\t<rnSt>60</rnSt>\\r\\n\\t\\t\\t\\t</data>\\r\\n\\r\\n\\t\\t\\t\\t\\r\\n\\t\\t\\t\\t<data>\\r\\n\\t\\t\\t\\t\\t<mode>A02</mode>\\r\\n\\t\\t\\t\\t\\t<tmEf>2020-01-07 00:00</tmEf>\\r\\n\\t\\t\\t\\t\\t<wf>흐리고 비</wf>\\r\\n\\t\\t\\t\\t\\t<tmn>7</tmn>\\r\\n\\t\\t\\t\\t\\t<tmx>12</tmx>\\r\\n\\t\\t\\t\\t\\t<reliability></reliability>\\r\\n\\t\\t\\t\\t\\t<rnSt>80</rnSt>\\r\\n\\t\\t\\t\\t</data>\\r\\n\\r\\n\\t\\t\\t\\t\\r\\n\\t\\t\\t\\t<data>\\r\\n\\t\\t\\t\\t\\t<mode>A02</mode>\\r\\n\\t\\t\\t\\t\\t<tmEf>2020-01-07 12:00</tmEf>\\r\\n\\t\\t\\t\\t\\t<wf>흐리고 비</wf>\\r\\n\\t\\t\\t\\t\\t<tmn>7</tmn>\\r\\n\\t\\t\\t\\t\\t<tmx>12</tmx>\\r\\n\\t\\t\\t\\t\\t<reliability></reliability>\\r\\n\\t\\t\\t\\t\\t<rnSt>80</rnSt>\\r\\n\\t\\t\\t\\t</data>\\r\\n\\r\\n\\t\\t\\t\\t\\r\\n\\t\\t\\t\\t<data>\\r\\n\\t\\t\\t\\t\\t<mode>A01</mode>\\r\\n\\t\\t\\t\\t\\t<tmEf>2020-01-08 00:00</tmEf>\\r\\n\\t\\t\\t\\t\\t<wf>흐리고 비</wf>\\r\\n\\t\\t\\t\\t\\t<tmn>6</tmn>\\r\\n\\t\\t\\t\\t\\t<tmx>10</tmx>\\r\\n\\t\\t\\t\\t\\t<reliability></reliability>\\r\\n\\t\\t\\t\\t\\t<rnSt>70</rnSt>\\r\\n\\t\\t\\t\\t</data>\\r\\n\\r\\n\\t\\t\\t\\t\\r\\n\\t\\t\\t\\t<data>\\r\\n\\t\\t\\t\\t\\t<mode>A01</mode>\\r\\n\\t\\t\\t\\t\\t<tmEf>2020-01-09 00:00</tmEf>\\r\\n\\t\\t\\t\\t\\t<wf>구름많음</wf>\\r\\n\\t\\t\\t\\t\\t<tmn>3</tmn>\\r\\n\\t\\t\\t\\t\\t<tmx>9</tmx>\\r\\n\\t\\t\\t\\t\\t<reliability></reliability>\\r\\n\\t\\t\\t\\t\\t<rnSt>40</rnSt>\\r\\n\\t\\t\\t\\t</data>\\r\\n\\r\\n\\t\\t\\t\\t\\r\\n\\t\\t\\t\\t<data>\\r\\n\\t\\t\\t\\t\\t<mode>A01</mode>\\r\\n\\t\\t\\t\\t\\t<tmEf>2020-01-10 00:00</tmEf>\\r\\n\\t\\t\\t\\t\\t<wf>구름많음</wf>\\r\\n\\t\\t\\t\\t\\t<tmn>2</tmn>\\r\\n\\t\\t\\t\\t\\t<tmx>10</tmx>\\r\\n\\t\\t\\t\\t\\t<reliability></reliability>\\r\\n\\t\\t\\t\\t\\t<rnSt>30</rnSt>\\r\\n\\t\\t\\t\\t</data>\\r\\n\\r\\n\\r\\n\\t\\t</location>\\r\\n\\r\\n\\r\\n\\r\\n\\t\\t<location wl_ver=\"3\">\\r\\n\\t\\t\\t\\t<province>대구ㆍ경상북도</province>\\r\\n\\t\\t\\t\\t<city>대구</city>\\r\\n\\t\\t\\t\\t\\r\\n\\t\\t\\t\\t<data>\\r\\n\\t\\t\\t\\t\\t<mode>A02</mode>\\r\\n\\t\\t\\t\\t\\t<tmEf>2020-01-03 00:00</tmEf>\\r\\n\\t\\t\\t\\t\\t<wf>구름많음</wf>\\r\\n\\t\\t\\t\\t\\t<tmn>0</tmn>\\r\\n\\t\\t\\t\\t\\t<tmx>9</tmx>\\r\\n\\t\\t\\t\\t\\t<reliability></reliability>\\r\\n\\t\\t\\t\\t\\t<rnSt>30</rnSt>\\r\\n\\t\\t\\t\\t</data>\\r\\n\\r\\n\\t\\t\\t\\t\\r\\n\\t\\t\\t\\t<data>\\r\\n\\t\\t\\t\\t\\t<mode>A02</mode>\\r\\n\\t\\t\\t\\t\\t<tmEf>2020-01-03 12:00</tmEf>\\r\\n\\t\\t\\t\\t\\t<wf>구름많음</wf>\\r\\n\\t\\t\\t\\t\\t<tmn>0</tmn>\\r\\n\\t\\t\\t\\t\\t<tmx>9</tmx>\\r\\n\\t\\t\\t\\t\\t<reliability></reliability>\\r\\n\\t\\t\\t\\t\\t<rnSt>30</rnSt>\\r\\n\\t\\t\\t\\t</data>\\r\\n\\r\\n\\t\\t\\t\\t\\r\\n\\t\\t\\t\\t<data>\\r\\n\\t\\t\\t\\t\\t<mode>A02</mode>\\r\\n\\t\\t\\t\\t\\t<tmEf>2020-01-04 00:00</tmEf>\\r\\n\\t\\t\\t\\t\\t<wf>맑음</wf>\\r\\n\\t\\t\\t\\t\\t<tmn>1</tmn>\\r\\n\\t\\t\\t\\t\\t<tmx>9</tmx>\\r\\n\\t\\t\\t\\t\\t<reliability></reliability>\\r\\n\\t\\t\\t\\t\\t<rnSt>10</rnSt>\\r\\n\\t\\t\\t\\t</data>\\r\\n\\r\\n\\t\\t\\t\\t\\r\\n\\t\\t\\t\\t<data>\\r\\n\\t\\t\\t\\t\\t<mode>A02</mode>\\r\\n\\t\\t\\t\\t\\t<tmEf>2020-01-04 12:00</tmEf>\\r\\n\\t\\t\\t\\t\\t<wf>맑음</wf>\\r\\n\\t\\t\\t\\t\\t<tmn>1</tmn>\\r\\n\\t\\t\\t\\t\\t<tmx>9</tmx>\\r\\n\\t\\t\\t\\t\\t<reliability></reliability>\\r\\n\\t\\t\\t\\t\\t<rnSt>0</rnSt>\\r\\n\\t\\t\\t\\t</data>\\r\\n\\r\\n\\t\\t\\t\\t\\r\\n\\t\\t\\t\\t<data>\\r\\n\\t\\t\\t\\t\\t<mode>A02</mode>\\r\\n\\t\\t\\t\\t\\t<tmEf>2020-01-05 00:00</tmEf>\\r\\n\\t\\t\\t\\t\\t<wf>맑음</wf>\\r\\n\\t\\t\\t\\t\\t<tmn>-2</tmn>\\r\\n\\t\\t\\t\\t\\t<tmx>9</tmx>\\r\\n\\t\\t\\t\\t\\t<reliability></reliability>\\r\\n\\t\\t\\t\\t\\t<rnSt>0</rnSt>\\r\\n\\t\\t\\t\\t</data>\\r\\n\\r\\n\\t\\t\\t\\t\\r\\n\\t\\t\\t\\t<data>\\r\\n\\t\\t\\t\\t\\t<mode>A02</mode>\\r\\n\\t\\t\\t\\t\\t<tmEf>2020-01-05 12:00</tmEf>\\r\\n\\t\\t\\t\\t\\t<wf>구름많음</wf>\\r\\n\\t\\t\\t\\t\\t<tmn>-2</tmn>\\r\\n\\t\\t\\t\\t\\t<tmx>9</tmx>\\r\\n\\t\\t\\t\\t\\t<reliability></reliability>\\r\\n\\t\\t\\t\\t\\t<rnSt>30</rnSt>\\r\\n\\t\\t\\t\\t</data>\\r\\n\\r\\n\\t\\t\\t\\t\\r\\n\\t\\t\\t\\t<data>\\r\\n\\t\\t\\t\\t\\t<mode>A02</mode>\\r\\n\\t\\t\\t\\t\\t<tmEf>2020-01-06 00:00</tmEf>\\r\\n\\t\\t\\t\\t\\t<wf>구름많음</wf>\\r\\n\\t\\t\\t\\t\\t<tmn>-1</tmn>\\r\\n\\t\\t\\t\\t\\t<tmx>7</tmx>\\r\\n\\t\\t\\t\\t\\t<reliability></reliability>\\r\\n\\t\\t\\t\\t\\t<rnSt>30</rnSt>\\r\\n\\t\\t\\t\\t</data>\\r\\n\\r\\n\\t\\t\\t\\t\\r\\n\\t\\t\\t\\t<data>\\r\\n\\t\\t\\t\\t\\t<mode>A02</mode>\\r\\n\\t\\t\\t\\t\\t<tmEf>2020-01-06 12:00</tmEf>\\r\\n\\t\\t\\t\\t\\t<wf>흐리고 비</wf>\\r\\n\\t\\t\\t\\t\\t<tmn>-1</tmn>\\r\\n\\t\\t\\t\\t\\t<tmx>7</tmx>\\r\\n\\t\\t\\t\\t\\t<reliability></reliability>\\r\\n\\t\\t\\t\\t\\t<rnSt>70</rnSt>\\r\\n\\t\\t\\t\\t</data>\\r\\n\\r\\n\\t\\t\\t\\t\\r\\n\\t\\t\\t\\t<data>\\r\\n\\t\\t\\t\\t\\t<mode>A02</mode>\\r\\n\\t\\t\\t\\t\\t<tmEf>2020-01-07 00:00</tmEf>\\r\\n\\t\\t\\t\\t\\t<wf>흐리고 비</wf>\\r\\n\\t\\t\\t\\t\\t<tmn>2</tmn>\\r\\n\\t\\t\\t\\t\\t<tmx>8</tmx>\\r\\n\\t\\t\\t\\t\\t<reliability></reliability>\\r\\n\\t\\t\\t\\t\\t<rnSt>70</rnSt>\\r\\n\\t\\t\\t\\t</data>\\r\\n\\r\\n\\t\\t\\t\\t\\r\\n\\t\\t\\t\\t<data>\\r\\n\\t\\t\\t\\t\\t<mode>A02</mode>\\r\\n\\t\\t\\t\\t\\t<tmEf>2020-01-07 12:00</tmEf>\\r\\n\\t\\t\\t\\t\\t<wf>흐리고 비</wf>\\r\\n\\t\\t\\t\\t\\t<tmn>2</tmn>\\r\\n\\t\\t\\t\\t\\t<tmx>8</tmx>\\r\\n\\t\\t\\t\\t\\t<reliability></reliability>\\r\\n\\t\\t\\t\\t\\t<rnSt>70</rnSt>\\r\\n\\t\\t\\t\\t</data>\\r\\n\\r\\n\\t\\t\\t\\t\\r\\n\\t\\t\\t\\t<data>\\r\\n\\t\\t\\t\\t\\t<mode>A01</mode>\\r\\n\\t\\t\\t\\t\\t<tmEf>2020-01-08 00:00</tmEf>\\r\\n\\t\\t\\t\\t\\t<wf>흐리고 비</wf>\\r\\n\\t\\t\\t\\t\\t<tmn>3</tmn>\\r\\n\\t\\t\\t\\t\\t<tmx>7</tmx>\\r\\n\\t\\t\\t\\t\\t<reliability></reliability>\\r\\n\\t\\t\\t\\t\\t<rnSt>60</rnSt>\\r\\n\\t\\t\\t\\t</data>\\r\\n\\r\\n\\t\\t\\t\\t\\r\\n\\t\\t\\t\\t<data>\\r\\n\\t\\t\\t\\t\\t<mode>A01</mode>\\r\\n\\t\\t\\t\\t\\t<tmEf>2020-01-09 00:00</tmEf>\\r\\n\\t\\t\\t\\t\\t<wf>구름많음</wf>\\r\\n\\t\\t\\t\\t\\t<tmn>1</tmn>\\r\\n\\t\\t\\t\\t\\t<tmx>7</tmx>\\r\\n\\t\\t\\t\\t\\t<reliability></reliability>\\r\\n\\t\\t\\t\\t\\t<rnSt>40</rnSt>\\r\\n\\t\\t\\t\\t</data>\\r\\n\\r\\n\\t\\t\\t\\t\\r\\n\\t\\t\\t\\t<data>\\r\\n\\t\\t\\t\\t\\t<mode>A01</mode>\\r\\n\\t\\t\\t\\t\\t<tmEf>2020-01-10 00:00</tmEf>\\r\\n\\t\\t\\t\\t\\t<wf>구름많음</wf>\\r\\n\\t\\t\\t\\t\\t<tmn>0</tmn>\\r\\n\\t\\t\\t\\t\\t<tmx>8</tmx>\\r\\n\\t\\t\\t\\t\\t<reliability></reliability>\\r\\n\\t\\t\\t\\t\\t<rnSt>30</rnSt>\\r\\n\\t\\t\\t\\t</data>\\r\\n\\r\\n\\r\\n\\t\\t</location>\\r\\n\\r\\n\\t\\t<location wl_ver=\"3\">\\r\\n\\t\\t\\t\\t<province>대구ㆍ경상북도</province>\\r\\n\\t\\t\\t\\t<city>안동</city>\\r\\n\\t\\t\\t\\t\\r\\n\\t\\t\\t\\t<data>\\r\\n\\t\\t\\t\\t\\t<mode>A02</mode>\\r\\n\\t\\t\\t\\t\\t<tmEf>2020-01-03 00:00</tmEf>\\r\\n\\t\\t\\t\\t\\t<wf>구름많음</wf>\\r\\n\\t\\t\\t\\t\\t<tmn>-4</tmn>\\r\\n\\t\\t\\t\\t\\t<tmx>7</tmx>\\r\\n\\t\\t\\t\\t\\t<reliability></reliability>\\r\\n\\t\\t\\t\\t\\t<rnSt>30</rnSt>\\r\\n\\t\\t\\t\\t</data>\\r\\n\\r\\n\\t\\t\\t\\t\\r\\n\\t\\t\\t\\t<data>\\r\\n\\t\\t\\t\\t\\t<mode>A02</mode>\\r\\n\\t\\t\\t\\t\\t<tmEf>2020-01-03 12:00</tmEf>\\r\\n\\t\\t\\t\\t\\t<wf>구름많음</wf>\\r\\n\\t\\t\\t\\t\\t<tmn>-4</tmn>\\r\\n\\t\\t\\t\\t\\t<tmx>7</tmx>\\r\\n\\t\\t\\t\\t\\t<reliability></reliability>\\r\\n\\t\\t\\t\\t\\t<rnSt>30</rnSt>\\r\\n\\t\\t\\t\\t</data>\\r\\n\\r\\n\\t\\t\\t\\t\\r\\n\\t\\t\\t\\t<data>\\r\\n\\t\\t\\t\\t\\t<mode>A02</mode>\\r\\n\\t\\t\\t\\t\\t<tmEf>2020-01-04 00:00</tmEf>\\r\\n\\t\\t\\t\\t\\t<wf>맑음</wf>\\r\\n\\t\\t\\t\\t\\t<tmn>-2</tmn>\\r\\n\\t\\t\\t\\t\\t<tmx>7</tmx>\\r\\n\\t\\t\\t\\t\\t<reliability></reliability>\\r\\n\\t\\t\\t\\t\\t<rnSt>10</rnSt>\\r\\n\\t\\t\\t\\t</data>\\r\\n\\r\\n\\t\\t\\t\\t\\r\\n\\t\\t\\t\\t<data>\\r\\n\\t\\t\\t\\t\\t<mode>A02</mode>\\r\\n\\t\\t\\t\\t\\t<tmEf>2020-01-04 12:00</tmEf>\\r\\n\\t\\t\\t\\t\\t<wf>맑음</wf>\\r\\n\\t\\t\\t\\t\\t<tmn>-2</tmn>\\r\\n\\t\\t\\t\\t\\t<tmx>7</tmx>\\r\\n\\t\\t\\t\\t\\t<reliability></reliability>\\r\\n\\t\\t\\t\\t\\t<rnSt>0</rnSt>\\r\\n\\t\\t\\t\\t</data>\\r\\n\\r\\n\\t\\t\\t\\t\\r\\n\\t\\t\\t\\t<data>\\r\\n\\t\\t\\t\\t\\t<mode>A02</mode>\\r\\n\\t\\t\\t\\t\\t<tmEf>2020-01-05 00:00</tmEf>\\r\\n\\t\\t\\t\\t\\t<wf>맑음</wf>\\r\\n\\t\\t\\t\\t\\t<tmn>-6</tmn>\\r\\n\\t\\t\\t\\t\\t<tmx>7</tmx>\\r\\n\\t\\t\\t\\t\\t<reliability></reliability>\\r\\n\\t\\t\\t\\t\\t<rnSt>0</rnSt>\\r\\n\\t\\t\\t\\t</data>\\r\\n\\r\\n\\t\\t\\t\\t\\r\\n\\t\\t\\t\\t<data>\\r\\n\\t\\t\\t\\t\\t<mode>A02</mode>\\r\\n\\t\\t\\t\\t\\t<tmEf>2020-01-05 12:00</tmEf>\\r\\n\\t\\t\\t\\t\\t<wf>구름많음</wf>\\r\\n\\t\\t\\t\\t\\t<tmn>-6</tmn>\\r\\n\\t\\t\\t\\t\\t<tmx>7</tmx>\\r\\n\\t\\t\\t\\t\\t<reliability></reliability>\\r\\n\\t\\t\\t\\t\\t<rnSt>30</rnSt>\\r\\n\\t\\t\\t\\t</data>\\r\\n\\r\\n\\t\\t\\t\\t\\r\\n\\t\\t\\t\\t<data>\\r\\n\\t\\t\\t\\t\\t<mode>A02</mode>\\r\\n\\t\\t\\t\\t\\t<tmEf>2020-01-06 00:00</tmEf>\\r\\n\\t\\t\\t\\t\\t<wf>구름많음</wf>\\r\\n\\t\\t\\t\\t\\t<tmn>-4</tmn>\\r\\n\\t\\t\\t\\t\\t<tmx>6</tmx>\\r\\n\\t\\t\\t\\t\\t<reliability></reliability>\\r\\n\\t\\t\\t\\t\\t<rnSt>30</rnSt>\\r\\n\\t\\t\\t\\t</data>\\r\\n\\r\\n\\t\\t\\t\\t\\r\\n\\t\\t\\t\\t<data>\\r\\n\\t\\t\\t\\t\\t<mode>A02</mode>\\r\\n\\t\\t\\t\\t\\t<tmEf>2020-01-06 12:00</tmEf>\\r\\n\\t\\t\\t\\t\\t<wf>흐리고 비</wf>\\r\\n\\t\\t\\t\\t\\t<tmn>-4</tmn>\\r\\n\\t\\t\\t\\t\\t<tmx>6</tmx>\\r\\n\\t\\t\\t\\t\\t<reliability></reliability>\\r\\n\\t\\t\\t\\t\\t<rnSt>70</rnSt>\\r\\n\\t\\t\\t\\t</data>\\r\\n\\r\\n\\t\\t\\t\\t\\r\\n\\t\\t\\t\\t<data>\\r\\n\\t\\t\\t\\t\\t<mode>A02</mode>\\r\\n\\t\\t\\t\\t\\t<tmEf>2020-01-07 00:00</tmEf>\\r\\n\\t\\t\\t\\t\\t<wf>흐리고 비</wf>\\r\\n\\t\\t\\t\\t\\t<tmn>0</tmn>\\r\\n\\t\\t\\t\\t\\t<tmx>7</tmx>\\r\\n\\t\\t\\t\\t\\t<reliability></reliability>\\r\\n\\t\\t\\t\\t\\t<rnSt>70</rnSt>\\r\\n\\t\\t\\t\\t</data>\\r\\n\\r\\n\\t\\t\\t\\t\\r\\n\\t\\t\\t\\t<data>\\r\\n\\t\\t\\t\\t\\t<mode>A02</mode>\\r\\n\\t\\t\\t\\t\\t<tmEf>2020-01-07 12:00</tmEf>\\r\\n\\t\\t\\t\\t\\t<wf>흐리고 비</wf>\\r\\n\\t\\t\\t\\t\\t<tmn>0</tmn>\\r\\n\\t\\t\\t\\t\\t<tmx>7</tmx>\\r\\n\\t\\t\\t\\t\\t<reliability></reliability>\\r\\n\\t\\t\\t\\t\\t<rnSt>70</rnSt>\\r\\n\\t\\t\\t\\t</data>\\r\\n\\r\\n\\t\\t\\t\\t\\r\\n\\t\\t\\t\\t<data>\\r\\n\\t\\t\\t\\t\\t<mode>A01</mode>\\r\\n\\t\\t\\t\\t\\t<tmEf>2020-01-08 00:00</tmEf>\\r\\n\\t\\t\\t\\t\\t<wf>흐리고 비</wf>\\r\\n\\t\\t\\t\\t\\t<tmn>1</tmn>\\r\\n\\t\\t\\t\\t\\t<tmx>6</tmx>\\r\\n\\t\\t\\t\\t\\t<reliability></reliability>\\r\\n\\t\\t\\t\\t\\t<rnSt>60</rnSt>\\r\\n\\t\\t\\t\\t</data>\\r\\n\\r\\n\\t\\t\\t\\t\\r\\n\\t\\t\\t\\t<data>\\r\\n\\t\\t\\t\\t\\t<mode>A01</mode>\\r\\n\\t\\t\\t\\t\\t<tmEf>2020-01-09 00:00</tmEf>\\r\\n\\t\\t\\t\\t\\t<wf>구름많음</wf>\\r\\n\\t\\t\\t\\t\\t<tmn>-2</tmn>\\r\\n\\t\\t\\t\\t\\t<tmx>6</tmx>\\r\\n\\t\\t\\t\\t\\t<reliability></reliability>\\r\\n\\t\\t\\t\\t\\t<rnSt>40</rnSt>\\r\\n\\t\\t\\t\\t</data>\\r\\n\\r\\n\\t\\t\\t\\t\\r\\n\\t\\t\\t\\t<data>\\r\\n\\t\\t\\t\\t\\t<mode>A01</mode>\\r\\n\\t\\t\\t\\t\\t<tmEf>2020-01-10 00:00</tmEf>\\r\\n\\t\\t\\t\\t\\t<wf>구름많음</wf>\\r\\n\\t\\t\\t\\t\\t<tmn>-3</tmn>\\r\\n\\t\\t\\t\\t\\t<tmx>7</tmx>\\r\\n\\t\\t\\t\\t\\t<reliability></reliability>\\r\\n\\t\\t\\t\\t\\t<rnSt>30</rnSt>\\r\\n\\t\\t\\t\\t</data>\\r\\n\\r\\n\\r\\n\\t\\t</location>\\r\\n\\r\\n\\t\\t<location wl_ver=\"3\">\\r\\n\\t\\t\\t\\t<province>대구ㆍ경상북도</province>\\r\\n\\t\\t\\t\\t<city>포항</city>\\r\\n\\t\\t\\t\\t\\r\\n\\t\\t\\t\\t<data>\\r\\n\\t\\t\\t\\t\\t<mode>A02</mode>\\r\\n\\t\\t\\t\\t\\t<tmEf>2020-01-03 00:00</tmEf>\\r\\n\\t\\t\\t\\t\\t<wf>구름많음</wf>\\r\\n\\t\\t\\t\\t\\t<tmn>1</tmn>\\r\\n\\t\\t\\t\\t\\t<tmx>10</tmx>\\r\\n\\t\\t\\t\\t\\t<reliability></reliability>\\r\\n\\t\\t\\t\\t\\t<rnSt>30</rnSt>\\r\\n\\t\\t\\t\\t</data>\\r\\n\\r\\n\\t\\t\\t\\t\\r\\n\\t\\t\\t\\t<data>\\r\\n\\t\\t\\t\\t\\t<mode>A02</mode>\\r\\n\\t\\t\\t\\t\\t<tmEf>2020-01-03 12:00</tmEf>\\r\\n\\t\\t\\t\\t\\t<wf>구름많음</wf>\\r\\n\\t\\t\\t\\t\\t<tmn>1</tmn>\\r\\n\\t\\t\\t\\t\\t<tmx>10</tmx>\\r\\n\\t\\t\\t\\t\\t<reliability></reliability>\\r\\n\\t\\t\\t\\t\\t<rnSt>30</rnSt>\\r\\n\\t\\t\\t\\t</data>\\r\\n\\r\\n\\t\\t\\t\\t\\r\\n\\t\\t\\t\\t<data>\\r\\n\\t\\t\\t\\t\\t<mode>A02</mode>\\r\\n\\t\\t\\t\\t\\t<tmEf>2020-01-04 00:00</tmEf>\\r\\n\\t\\t\\t\\t\\t<wf>맑음</wf>\\r\\n\\t\\t\\t\\t\\t<tmn>2</tmn>\\r\\n\\t\\t\\t\\t\\t<tmx>10</tmx>\\r\\n\\t\\t\\t\\t\\t<reliability></reliability>\\r\\n\\t\\t\\t\\t\\t<rnSt>10</rnSt>\\r\\n\\t\\t\\t\\t</data>\\r\\n\\r\\n\\t\\t\\t\\t\\r\\n\\t\\t\\t\\t<data>\\r\\n\\t\\t\\t\\t\\t<mode>A02</mode>\\r\\n\\t\\t\\t\\t\\t<tmEf>2020-01-04 12:00</tmEf>\\r\\n\\t\\t\\t\\t\\t<wf>맑음</wf>\\r\\n\\t\\t\\t\\t\\t<tmn>2</tmn>\\r\\n\\t\\t\\t\\t\\t<tmx>10</tmx>\\r\\n\\t\\t\\t\\t\\t<reliability></reliability>\\r\\n\\t\\t\\t\\t\\t<rnSt>0</rnSt>\\r\\n\\t\\t\\t\\t</data>\\r\\n\\r\\n\\t\\t\\t\\t\\r\\n\\t\\t\\t\\t<data>\\r\\n\\t\\t\\t\\t\\t<mode>A02</mode>\\r\\n\\t\\t\\t\\t\\t<tmEf>2020-01-05 00:00</tmEf>\\r\\n\\t\\t\\t\\t\\t<wf>맑음</wf>\\r\\n\\t\\t\\t\\t\\t<tmn>0</tmn>\\r\\n\\t\\t\\t\\t\\t<tmx>10</tmx>\\r\\n\\t\\t\\t\\t\\t<reliability></reliability>\\r\\n\\t\\t\\t\\t\\t<rnSt>0</rnSt>\\r\\n\\t\\t\\t\\t</data>\\r\\n\\r\\n\\t\\t\\t\\t\\r\\n\\t\\t\\t\\t<data>\\r\\n\\t\\t\\t\\t\\t<mode>A02</mode>\\r\\n\\t\\t\\t\\t\\t<tmEf>2020-01-05 12:00</tmEf>\\r\\n\\t\\t\\t\\t\\t<wf>구름많음</wf>\\r\\n\\t\\t\\t\\t\\t<tmn>0</tmn>\\r\\n\\t\\t\\t\\t\\t<tmx>10</tmx>\\r\\n\\t\\t\\t\\t\\t<reliability></reliability>\\r\\n\\t\\t\\t\\t\\t<rnSt>30</rnSt>\\r\\n\\t\\t\\t\\t</data>\\r\\n\\r\\n\\t\\t\\t\\t\\r\\n\\t\\t\\t\\t<data>\\r\\n\\t\\t\\t\\t\\t<mode>A02</mode>\\r\\n\\t\\t\\t\\t\\t<tmEf>2020-01-06 00:00</tmEf>\\r\\n\\t\\t\\t\\t\\t<wf>구름많음</wf>\\r\\n\\t\\t\\t\\t\\t<tmn>2</tmn>\\r\\n\\t\\t\\t\\t\\t<tmx>9</tmx>\\r\\n\\t\\t\\t\\t\\t<reliability></reliability>\\r\\n\\t\\t\\t\\t\\t<rnSt>30</rnSt>\\r\\n\\t\\t\\t\\t</data>\\r\\n\\r\\n\\t\\t\\t\\t\\r\\n\\t\\t\\t\\t<data>\\r\\n\\t\\t\\t\\t\\t<mode>A02</mode>\\r\\n\\t\\t\\t\\t\\t<tmEf>2020-01-06 12:00</tmEf>\\r\\n\\t\\t\\t\\t\\t<wf>흐리고 비</wf>\\r\\n\\t\\t\\t\\t\\t<tmn>2</tmn>\\r\\n\\t\\t\\t\\t\\t<tmx>9</tmx>\\r\\n\\t\\t\\t\\t\\t<reliability></reliability>\\r\\n\\t\\t\\t\\t\\t<rnSt>70</rnSt>\\r\\n\\t\\t\\t\\t</data>\\r\\n\\r\\n\\t\\t\\t\\t\\r\\n\\t\\t\\t\\t<data>\\r\\n\\t\\t\\t\\t\\t<mode>A02</mode>\\r\\n\\t\\t\\t\\t\\t<tmEf>2020-01-07 00:00</tmEf>\\r\\n\\t\\t\\t\\t\\t<wf>흐리고 비</wf>\\r\\n\\t\\t\\t\\t\\t<tmn>4</tmn>\\r\\n\\t\\t\\t\\t\\t<tmx>10</tmx>\\r\\n\\t\\t\\t\\t\\t<reliability></reliability>\\r\\n\\t\\t\\t\\t\\t<rnSt>70</rnSt>\\r\\n\\t\\t\\t\\t</data>\\r\\n\\r\\n\\t\\t\\t\\t\\r\\n\\t\\t\\t\\t<data>\\r\\n\\t\\t\\t\\t\\t<mode>A02</mode>\\r\\n\\t\\t\\t\\t\\t<tmEf>2020-01-07 12:00</tmEf>\\r\\n\\t\\t\\t\\t\\t<wf>흐리고 비</wf>\\r\\n\\t\\t\\t\\t\\t<tmn>4</tmn>\\r\\n\\t\\t\\t\\t\\t<tmx>10</tmx>\\r\\n\\t\\t\\t\\t\\t<reliability></reliability>\\r\\n\\t\\t\\t\\t\\t<rnSt>70</rnSt>\\r\\n\\t\\t\\t\\t</data>\\r\\n\\r\\n\\t\\t\\t\\t\\r\\n\\t\\t\\t\\t<data>\\r\\n\\t\\t\\t\\t\\t<mode>A01</mode>\\r\\n\\t\\t\\t\\t\\t<tmEf>2020-01-08 00:00</tmEf>\\r\\n\\t\\t\\t\\t\\t<wf>흐리고 비</wf>\\r\\n\\t\\t\\t\\t\\t<tmn>5</tmn>\\r\\n\\t\\t\\t\\t\\t<tmx>9</tmx>\\r\\n\\t\\t\\t\\t\\t<reliability></reliability>\\r\\n\\t\\t\\t\\t\\t<rnSt>60</rnSt>\\r\\n\\t\\t\\t\\t</data>\\r\\n\\r\\n\\t\\t\\t\\t\\r\\n\\t\\t\\t\\t<data>\\r\\n\\t\\t\\t\\t\\t<mode>A01</mode>\\r\\n\\t\\t\\t\\t\\t<tmEf>2020-01-09 00:00</tmEf>\\r\\n\\t\\t\\t\\t\\t<wf>구름많음</wf>\\r\\n\\t\\t\\t\\t\\t<tmn>3</tmn>\\r\\n\\t\\t\\t\\t\\t<tmx>8</tmx>\\r\\n\\t\\t\\t\\t\\t<reliability></reliability>\\r\\n\\t\\t\\t\\t\\t<rnSt>40</rnSt>\\r\\n\\t\\t\\t\\t</data>\\r\\n\\r\\n\\t\\t\\t\\t\\r\\n\\t\\t\\t\\t<data>\\r\\n\\t\\t\\t\\t\\t<mode>A01</mode>\\r\\n\\t\\t\\t\\t\\t<tmEf>2020-01-10 00:00</tmEf>\\r\\n\\t\\t\\t\\t\\t<wf>구름많음</wf>\\r\\n\\t\\t\\t\\t\\t<tmn>2</tmn>\\r\\n\\t\\t\\t\\t\\t<tmx>9</tmx>\\r\\n\\t\\t\\t\\t\\t<reliability></reliability>\\r\\n\\t\\t\\t\\t\\t<rnSt>30</rnSt>\\r\\n\\t\\t\\t\\t</data>\\r\\n\\r\\n\\r\\n\\t\\t</location>\\r\\n\\r\\n\\t\\t<location wl_ver=\"3\">\\r\\n\\t\\t\\t\\t<province>대구ㆍ경상북도</province>\\r\\n\\t\\t\\t\\t<city>경주</city>\\r\\n\\t\\t\\t\\t\\r\\n\\t\\t\\t\\t<data>\\r\\n\\t\\t\\t\\t\\t<mode>A02</mode>\\r\\n\\t\\t\\t\\t\\t<tmEf>2020-01-03 00:00</tmEf>\\r\\n\\t\\t\\t\\t\\t<wf>구름많음</wf>\\r\\n\\t\\t\\t\\t\\t<tmn>-1</tmn>\\r\\n\\t\\t\\t\\t\\t<tmx>9</tmx>\\r\\n\\t\\t\\t\\t\\t<reliability></reliability>\\r\\n\\t\\t\\t\\t\\t<rnSt>30</rnSt>\\r\\n\\t\\t\\t\\t</data>\\r\\n\\r\\n\\t\\t\\t\\t\\r\\n\\t\\t\\t\\t<data>\\r\\n\\t\\t\\t\\t\\t<mode>A02</mode>\\r\\n\\t\\t\\t\\t\\t<tmEf>2020-01-03 12:00</tmEf>\\r\\n\\t\\t\\t\\t\\t<wf>구름많음</wf>\\r\\n\\t\\t\\t\\t\\t<tmn>-1</tmn>\\r\\n\\t\\t\\t\\t\\t<tmx>9</tmx>\\r\\n\\t\\t\\t\\t\\t<reliability></reliability>\\r\\n\\t\\t\\t\\t\\t<rnSt>30</rnSt>\\r\\n\\t\\t\\t\\t</data>\\r\\n\\r\\n\\t\\t\\t\\t\\r\\n\\t\\t\\t\\t<data>\\r\\n\\t\\t\\t\\t\\t<mode>A02</mode>\\r\\n\\t\\t\\t\\t\\t<tmEf>2020-01-04 00:00</tmEf>\\r\\n\\t\\t\\t\\t\\t<wf>맑음</wf>\\r\\n\\t\\t\\t\\t\\t<tmn>0</tmn>\\r\\n\\t\\t\\t\\t\\t<tmx>9</tmx>\\r\\n\\t\\t\\t\\t\\t<reliability></reliability>\\r\\n\\t\\t\\t\\t\\t<rnSt>10</rnSt>\\r\\n\\t\\t\\t\\t</data>\\r\\n\\r\\n\\t\\t\\t\\t\\r\\n\\t\\t\\t\\t<data>\\r\\n\\t\\t\\t\\t\\t<mode>A02</mode>\\r\\n\\t\\t\\t\\t\\t<tmEf>2020-01-04 12:00</tmEf>\\r\\n\\t\\t\\t\\t\\t<wf>맑음</wf>\\r\\n\\t\\t\\t\\t\\t<tmn>0</tmn>\\r\\n\\t\\t\\t\\t\\t<tmx>9</tmx>\\r\\n\\t\\t\\t\\t\\t<reliability></reliability>\\r\\n\\t\\t\\t\\t\\t<rnSt>0</rnSt>\\r\\n\\t\\t\\t\\t</data>\\r\\n\\r\\n\\t\\t\\t\\t\\r\\n\\t\\t\\t\\t<data>\\r\\n\\t\\t\\t\\t\\t<mode>A02</mode>\\r\\n\\t\\t\\t\\t\\t<tmEf>2020-01-05 00:00</tmEf>\\r\\n\\t\\t\\t\\t\\t<wf>맑음</wf>\\r\\n\\t\\t\\t\\t\\t<tmn>-3</tmn>\\r\\n\\t\\t\\t\\t\\t<tmx>9</tmx>\\r\\n\\t\\t\\t\\t\\t<reliability></reliability>\\r\\n\\t\\t\\t\\t\\t<rnSt>0</rnSt>\\r\\n\\t\\t\\t\\t</data>\\r\\n\\r\\n\\t\\t\\t\\t\\r\\n\\t\\t\\t\\t<data>\\r\\n\\t\\t\\t\\t\\t<mode>A02</mode>\\r\\n\\t\\t\\t\\t\\t<tmEf>2020-01-05 12:00</tmEf>\\r\\n\\t\\t\\t\\t\\t<wf>구름많음</wf>\\r\\n\\t\\t\\t\\t\\t<tmn>-3</tmn>\\r\\n\\t\\t\\t\\t\\t<tmx>9</tmx>\\r\\n\\t\\t\\t\\t\\t<reliability></reliability>\\r\\n\\t\\t\\t\\t\\t<rnSt>30</rnSt>\\r\\n\\t\\t\\t\\t</data>\\r\\n\\r\\n\\t\\t\\t\\t\\r\\n\\t\\t\\t\\t<data>\\r\\n\\t\\t\\t\\t\\t<mode>A02</mode>\\r\\n\\t\\t\\t\\t\\t<tmEf>2020-01-06 00:00</tmEf>\\r\\n\\t\\t\\t\\t\\t<wf>구름많음</wf>\\r\\n\\t\\t\\t\\t\\t<tmn>-2</tmn>\\r\\n\\t\\t\\t\\t\\t<tmx>9</tmx>\\r\\n\\t\\t\\t\\t\\t<reliability></reliability>\\r\\n\\t\\t\\t\\t\\t<rnSt>30</rnSt>\\r\\n\\t\\t\\t\\t</data>\\r\\n\\r\\n\\t\\t\\t\\t\\r\\n\\t\\t\\t\\t<data>\\r\\n\\t\\t\\t\\t\\t<mode>A02</mode>\\r\\n\\t\\t\\t\\t\\t<tmEf>2020-01-06 12:00</tmEf>\\r\\n\\t\\t\\t\\t\\t<wf>흐리고 비</wf>\\r\\n\\t\\t\\t\\t\\t<tmn>-2</tmn>\\r\\n\\t\\t\\t\\t\\t<tmx>9</tmx>\\r\\n\\t\\t\\t\\t\\t<reliability></reliability>\\r\\n\\t\\t\\t\\t\\t<rnSt>70</rnSt>\\r\\n\\t\\t\\t\\t</data>\\r\\n\\r\\n\\t\\t\\t\\t\\r\\n\\t\\t\\t\\t<data>\\r\\n\\t\\t\\t\\t\\t<mode>A02</mode>\\r\\n\\t\\t\\t\\t\\t<tmEf>2020-01-07 00:00</tmEf>\\r\\n\\t\\t\\t\\t\\t<wf>흐리고 비</wf>\\r\\n\\t\\t\\t\\t\\t<tmn>3</tmn>\\r\\n\\t\\t\\t\\t\\t<tmx>9</tmx>\\r\\n\\t\\t\\t\\t\\t<reliability></reliability>\\r\\n\\t\\t\\t\\t\\t<rnSt>70</rnSt>\\r\\n\\t\\t\\t\\t</data>\\r\\n\\r\\n\\t\\t\\t\\t\\r\\n\\t\\t\\t\\t<data>\\r\\n\\t\\t\\t\\t\\t<mode>A02</mode>\\r\\n\\t\\t\\t\\t\\t<tmEf>2020-01-07 12:00</tmEf>\\r\\n\\t\\t\\t\\t\\t<wf>흐리고 비</wf>\\r\\n\\t\\t\\t\\t\\t<tmn>3</tmn>\\r\\n\\t\\t\\t\\t\\t<tmx>9</tmx>\\r\\n\\t\\t\\t\\t\\t<reliability></reliability>\\r\\n\\t\\t\\t\\t\\t<rnSt>70</rnSt>\\r\\n\\t\\t\\t\\t</data>\\r\\n\\r\\n\\t\\t\\t\\t\\r\\n\\t\\t\\t\\t<data>\\r\\n\\t\\t\\t\\t\\t<mode>A01</mode>\\r\\n\\t\\t\\t\\t\\t<tmEf>2020-01-08 00:00</tmEf>\\r\\n\\t\\t\\t\\t\\t<wf>흐리고 비</wf>\\r\\n\\t\\t\\t\\t\\t<tmn>4</tmn>\\r\\n\\t\\t\\t\\t\\t<tmx>7</tmx>\\r\\n\\t\\t\\t\\t\\t<reliability></reliability>\\r\\n\\t\\t\\t\\t\\t<rnSt>60</rnSt>\\r\\n\\t\\t\\t\\t</data>\\r\\n\\r\\n\\t\\t\\t\\t\\r\\n\\t\\t\\t\\t<data>\\r\\n\\t\\t\\t\\t\\t<mode>A01</mode>\\r\\n\\t\\t\\t\\t\\t<tmEf>2020-01-09 00:00</tmEf>\\r\\n\\t\\t\\t\\t\\t<wf>구름많음</wf>\\r\\n\\t\\t\\t\\t\\t<tmn>2</tmn>\\r\\n\\t\\t\\t\\t\\t<tmx>7</tmx>\\r\\n\\t\\t\\t\\t\\t<reliability></reliability>\\r\\n\\t\\t\\t\\t\\t<rnSt>40</rnSt>\\r\\n\\t\\t\\t\\t</data>\\r\\n\\r\\n\\t\\t\\t\\t\\r\\n\\t\\t\\t\\t<data>\\r\\n\\t\\t\\t\\t\\t<mode>A01</mode>\\r\\n\\t\\t\\t\\t\\t<tmEf>2020-01-10 00:00</tmEf>\\r\\n\\t\\t\\t\\t\\t<wf>구름많음</wf>\\r\\n\\t\\t\\t\\t\\t<tmn>0</tmn>\\r\\n\\t\\t\\t\\t\\t<tmx>8</tmx>\\r\\n\\t\\t\\t\\t\\t<reliability></reliability>\\r\\n\\t\\t\\t\\t\\t<rnSt>30</rnSt>\\r\\n\\t\\t\\t\\t</data>\\r\\n\\r\\n\\r\\n\\t\\t</location>\\r\\n\\r\\n\\t\\t<location wl_ver=\"3\">\\r\\n\\t\\t\\t\\t<province>대구ㆍ경상북도</province>\\r\\n\\t\\t\\t\\t<city>울진</city>\\r\\n\\t\\t\\t\\t\\r\\n\\t\\t\\t\\t<data>\\r\\n\\t\\t\\t\\t\\t<mode>A02</mode>\\r\\n\\t\\t\\t\\t\\t<tmEf>2020-01-03 00:00</tmEf>\\r\\n\\t\\t\\t\\t\\t<wf>구름많음</wf>\\r\\n\\t\\t\\t\\t\\t<tmn>0</tmn>\\r\\n\\t\\t\\t\\t\\t<tmx>11</tmx>\\r\\n\\t\\t\\t\\t\\t<reliability></reliability>\\r\\n\\t\\t\\t\\t\\t<rnSt>30</rnSt>\\r\\n\\t\\t\\t\\t</data>\\r\\n\\r\\n\\t\\t\\t\\t\\r\\n\\t\\t\\t\\t<data>\\r\\n\\t\\t\\t\\t\\t<mode>A02</mode>\\r\\n\\t\\t\\t\\t\\t<tmEf>2020-01-03 12:00</tmEf>\\r\\n\\t\\t\\t\\t\\t<wf>구름많음</wf>\\r\\n\\t\\t\\t\\t\\t<tmn>0</tmn>\\r\\n\\t\\t\\t\\t\\t<tmx>11</tmx>\\r\\n\\t\\t\\t\\t\\t<reliability></reliability>\\r\\n\\t\\t\\t\\t\\t<rnSt>30</rnSt>\\r\\n\\t\\t\\t\\t</data>\\r\\n\\r\\n\\t\\t\\t\\t\\r\\n\\t\\t\\t\\t<data>\\r\\n\\t\\t\\t\\t\\t<mode>A02</mode>\\r\\n\\t\\t\\t\\t\\t<tmEf>2020-01-04 00:00</tmEf>\\r\\n\\t\\t\\t\\t\\t<wf>맑음</wf>\\r\\n\\t\\t\\t\\t\\t<tmn>1</tmn>\\r\\n\\t\\t\\t\\t\\t<tmx>10</tmx>\\r\\n\\t\\t\\t\\t\\t<reliability></reliability>\\r\\n\\t\\t\\t\\t\\t<rnSt>10</rnSt>\\r\\n\\t\\t\\t\\t</data>\\r\\n\\r\\n\\t\\t\\t\\t\\r\\n\\t\\t\\t\\t<data>\\r\\n\\t\\t\\t\\t\\t<mode>A02</mode>\\r\\n\\t\\t\\t\\t\\t<tmEf>2020-01-04 12:00</tmEf>\\r\\n\\t\\t\\t\\t\\t<wf>맑음</wf>\\r\\n\\t\\t\\t\\t\\t<tmn>1</tmn>\\r\\n\\t\\t\\t\\t\\t<tmx>10</tmx>\\r\\n\\t\\t\\t\\t\\t<reliability></reliability>\\r\\n\\t\\t\\t\\t\\t<rnSt>0</rnSt>\\r\\n\\t\\t\\t\\t</data>\\r\\n\\r\\n\\t\\t\\t\\t\\r\\n\\t\\t\\t\\t<data>\\r\\n\\t\\t\\t\\t\\t<mode>A02</mode>\\r\\n\\t\\t\\t\\t\\t<tmEf>2020-01-05 00:00</tmEf>\\r\\n\\t\\t\\t\\t\\t<wf>맑음</wf>\\r\\n\\t\\t\\t\\t\\t<tmn>-1</tmn>\\r\\n\\t\\t\\t\\t\\t<tmx>9</tmx>\\r\\n\\t\\t\\t\\t\\t<reliability></reliability>\\r\\n\\t\\t\\t\\t\\t<rnSt>0</rnSt>\\r\\n\\t\\t\\t\\t</data>\\r\\n\\r\\n\\t\\t\\t\\t\\r\\n\\t\\t\\t\\t<data>\\r\\n\\t\\t\\t\\t\\t<mode>A02</mode>\\r\\n\\t\\t\\t\\t\\t<tmEf>2020-01-05 12:00</tmEf>\\r\\n\\t\\t\\t\\t\\t<wf>구름많음</wf>\\r\\n\\t\\t\\t\\t\\t<tmn>-1</tmn>\\r\\n\\t\\t\\t\\t\\t<tmx>9</tmx>\\r\\n\\t\\t\\t\\t\\t<reliability></reliability>\\r\\n\\t\\t\\t\\t\\t<rnSt>30</rnSt>\\r\\n\\t\\t\\t\\t</data>\\r\\n\\r\\n\\t\\t\\t\\t\\r\\n\\t\\t\\t\\t<data>\\r\\n\\t\\t\\t\\t\\t<mode>A02</mode>\\r\\n\\t\\t\\t\\t\\t<tmEf>2020-01-06 00:00</tmEf>\\r\\n\\t\\t\\t\\t\\t<wf>구름많음</wf>\\r\\n\\t\\t\\t\\t\\t<tmn>1</tmn>\\r\\n\\t\\t\\t\\t\\t<tmx>10</tmx>\\r\\n\\t\\t\\t\\t\\t<reliability></reliability>\\r\\n\\t\\t\\t\\t\\t<rnSt>30</rnSt>\\r\\n\\t\\t\\t\\t</data>\\r\\n\\r\\n\\t\\t\\t\\t\\r\\n\\t\\t\\t\\t<data>\\r\\n\\t\\t\\t\\t\\t<mode>A02</mode>\\r\\n\\t\\t\\t\\t\\t<tmEf>2020-01-06 12:00</tmEf>\\r\\n\\t\\t\\t\\t\\t<wf>흐리고 비</wf>\\r\\n\\t\\t\\t\\t\\t<tmn>1</tmn>\\r\\n\\t\\t\\t\\t\\t<tmx>10</tmx>\\r\\n\\t\\t\\t\\t\\t<reliability></reliability>\\r\\n\\t\\t\\t\\t\\t<rnSt>70</rnSt>\\r\\n\\t\\t\\t\\t</data>\\r\\n\\r\\n\\t\\t\\t\\t\\r\\n\\t\\t\\t\\t<data>\\r\\n\\t\\t\\t\\t\\t<mode>A02</mode>\\r\\n\\t\\t\\t\\t\\t<tmEf>2020-01-07 00:00</tmEf>\\r\\n\\t\\t\\t\\t\\t<wf>흐리고 비</wf>\\r\\n\\t\\t\\t\\t\\t<tmn>3</tmn>\\r\\n\\t\\t\\t\\t\\t<tmx>9</tmx>\\r\\n\\t\\t\\t\\t\\t<reliability></reliability>\\r\\n\\t\\t\\t\\t\\t<rnSt>70</rnSt>\\r\\n\\t\\t\\t\\t</data>\\r\\n\\r\\n\\t\\t\\t\\t\\r\\n\\t\\t\\t\\t<data>\\r\\n\\t\\t\\t\\t\\t<mode>A02</mode>\\r\\n\\t\\t\\t\\t\\t<tmEf>2020-01-07 12:00</tmEf>\\r\\n\\t\\t\\t\\t\\t<wf>흐리고 비</wf>\\r\\n\\t\\t\\t\\t\\t<tmn>3</tmn>\\r\\n\\t\\t\\t\\t\\t<tmx>9</tmx>\\r\\n\\t\\t\\t\\t\\t<reliability></reliability>\\r\\n\\t\\t\\t\\t\\t<rnSt>70</rnSt>\\r\\n\\t\\t\\t\\t</data>\\r\\n\\r\\n\\t\\t\\t\\t\\r\\n\\t\\t\\t\\t<data>\\r\\n\\t\\t\\t\\t\\t<mode>A01</mode>\\r\\n\\t\\t\\t\\t\\t<tmEf>2020-01-08 00:00</tmEf>\\r\\n\\t\\t\\t\\t\\t<wf>흐리고 비</wf>\\r\\n\\t\\t\\t\\t\\t<tmn>3</tmn>\\r\\n\\t\\t\\t\\t\\t<tmx>8</tmx>\\r\\n\\t\\t\\t\\t\\t<reliability></reliability>\\r\\n\\t\\t\\t\\t\\t<rnSt>60</rnSt>\\r\\n\\t\\t\\t\\t</data>\\r\\n\\r\\n\\t\\t\\t\\t\\r\\n\\t\\t\\t\\t<data>\\r\\n\\t\\t\\t\\t\\t<mode>A01</mode>\\r\\n\\t\\t\\t\\t\\t<tmEf>2020-01-09 00:00</tmEf>\\r\\n\\t\\t\\t\\t\\t<wf>구름많음</wf>\\r\\n\\t\\t\\t\\t\\t<tmn>1</tmn>\\r\\n\\t\\t\\t\\t\\t<tmx>8</tmx>\\r\\n\\t\\t\\t\\t\\t<reliability></reliability>\\r\\n\\t\\t\\t\\t\\t<rnSt>40</rnSt>\\r\\n\\t\\t\\t\\t</data>\\r\\n\\r\\n\\t\\t\\t\\t\\r\\n\\t\\t\\t\\t<data>\\r\\n\\t\\t\\t\\t\\t<mode>A01</mode>\\r\\n\\t\\t\\t\\t\\t<tmEf>2020-01-10 00:00</tmEf>\\r\\n\\t\\t\\t\\t\\t<wf>구름많음</wf>\\r\\n\\t\\t\\t\\t\\t<tmn>0</tmn>\\r\\n\\t\\t\\t\\t\\t<tmx>10</tmx>\\r\\n\\t\\t\\t\\t\\t<reliability></reliability>\\r\\n\\t\\t\\t\\t\\t<rnSt>30</rnSt>\\r\\n\\t\\t\\t\\t</data>\\r\\n\\r\\n\\r\\n\\t\\t</location>\\r\\n\\r\\n\\t\\t<location wl_ver=\"3\">\\r\\n\\t\\t\\t\\t<province>대구ㆍ경상북도</province>\\r\\n\\t\\t\\t\\t<city>울릉도</city>\\r\\n\\t\\t\\t\\t\\r\\n\\t\\t\\t\\t<data>\\r\\n\\t\\t\\t\\t\\t<mode>A02</mode>\\r\\n\\t\\t\\t\\t\\t<tmEf>2020-01-03 00:00</tmEf>\\r\\n\\t\\t\\t\\t\\t<wf>구름많음</wf>\\r\\n\\t\\t\\t\\t\\t<tmn>4</tmn>\\r\\n\\t\\t\\t\\t\\t<tmx>9</tmx>\\r\\n\\t\\t\\t\\t\\t<reliability></reliability>\\r\\n\\t\\t\\t\\t\\t<rnSt>30</rnSt>\\r\\n\\t\\t\\t\\t</data>\\r\\n\\r\\n\\t\\t\\t\\t\\r\\n\\t\\t\\t\\t<data>\\r\\n\\t\\t\\t\\t\\t<mode>A02</mode>\\r\\n\\t\\t\\t\\t\\t<tmEf>2020-01-03 12:00</tmEf>\\r\\n\\t\\t\\t\\t\\t<wf>구름많음</wf>\\r\\n\\t\\t\\t\\t\\t<tmn>4</tmn>\\r\\n\\t\\t\\t\\t\\t<tmx>9</tmx>\\r\\n\\t\\t\\t\\t\\t<reliability></reliability>\\r\\n\\t\\t\\t\\t\\t<rnSt>30</rnSt>\\r\\n\\t\\t\\t\\t</data>\\r\\n\\r\\n\\t\\t\\t\\t\\r\\n\\t\\t\\t\\t<data>\\r\\n\\t\\t\\t\\t\\t<mode>A02</mode>\\r\\n\\t\\t\\t\\t\\t<tmEf>2020-01-04 00:00</tmEf>\\r\\n\\t\\t\\t\\t\\t<wf>맑음</wf>\\r\\n\\t\\t\\t\\t\\t<tmn>5</tmn>\\r\\n\\t\\t\\t\\t\\t<tmx>7</tmx>\\r\\n\\t\\t\\t\\t\\t<reliability></reliability>\\r\\n\\t\\t\\t\\t\\t<rnSt>10</rnSt>\\r\\n\\t\\t\\t\\t</data>\\r\\n\\r\\n\\t\\t\\t\\t\\r\\n\\t\\t\\t\\t<data>\\r\\n\\t\\t\\t\\t\\t<mode>A02</mode>\\r\\n\\t\\t\\t\\t\\t<tmEf>2020-01-04 12:00</tmEf>\\r\\n\\t\\t\\t\\t\\t<wf>맑음</wf>\\r\\n\\t\\t\\t\\t\\t<tmn>5</tmn>\\r\\n\\t\\t\\t\\t\\t<tmx>7</tmx>\\r\\n\\t\\t\\t\\t\\t<reliability></reliability>\\r\\n\\t\\t\\t\\t\\t<rnSt>0</rnSt>\\r\\n\\t\\t\\t\\t</data>\\r\\n\\r\\n\\t\\t\\t\\t\\r\\n\\t\\t\\t\\t<data>\\r\\n\\t\\t\\t\\t\\t<mode>A02</mode>\\r\\n\\t\\t\\t\\t\\t<tmEf>2020-01-05 00:00</tmEf>\\r\\n\\t\\t\\t\\t\\t<wf>맑음</wf>\\r\\n\\t\\t\\t\\t\\t<tmn>3</tmn>\\r\\n\\t\\t\\t\\t\\t<tmx>6</tmx>\\r\\n\\t\\t\\t\\t\\t<reliability></reliability>\\r\\n\\t\\t\\t\\t\\t<rnSt>0</rnSt>\\r\\n\\t\\t\\t\\t</data>\\r\\n\\r\\n\\t\\t\\t\\t\\r\\n\\t\\t\\t\\t<data>\\r\\n\\t\\t\\t\\t\\t<mode>A02</mode>\\r\\n\\t\\t\\t\\t\\t<tmEf>2020-01-05 12:00</tmEf>\\r\\n\\t\\t\\t\\t\\t<wf>구름많음</wf>\\r\\n\\t\\t\\t\\t\\t<tmn>3</tmn>\\r\\n\\t\\t\\t\\t\\t<tmx>6</tmx>\\r\\n\\t\\t\\t\\t\\t<reliability></reliability>\\r\\n\\t\\t\\t\\t\\t<rnSt>30</rnSt>\\r\\n\\t\\t\\t\\t</data>\\r\\n\\r\\n\\t\\t\\t\\t\\r\\n\\t\\t\\t\\t<data>\\r\\n\\t\\t\\t\\t\\t<mode>A02</mode>\\r\\n\\t\\t\\t\\t\\t<tmEf>2020-01-06 00:00</tmEf>\\r\\n\\t\\t\\t\\t\\t<wf>구름많음</wf>\\r\\n\\t\\t\\t\\t\\t<tmn>4</tmn>\\r\\n\\t\\t\\t\\t\\t<tmx>8</tmx>\\r\\n\\t\\t\\t\\t\\t<reliability></reliability>\\r\\n\\t\\t\\t\\t\\t<rnSt>30</rnSt>\\r\\n\\t\\t\\t\\t</data>\\r\\n\\r\\n\\t\\t\\t\\t\\r\\n\\t\\t\\t\\t<data>\\r\\n\\t\\t\\t\\t\\t<mode>A02</mode>\\r\\n\\t\\t\\t\\t\\t<tmEf>2020-01-06 12:00</tmEf>\\r\\n\\t\\t\\t\\t\\t<wf>흐리고 비</wf>\\r\\n\\t\\t\\t\\t\\t<tmn>4</tmn>\\r\\n\\t\\t\\t\\t\\t<tmx>8</tmx>\\r\\n\\t\\t\\t\\t\\t<reliability></reliability>\\r\\n\\t\\t\\t\\t\\t<rnSt>70</rnSt>\\r\\n\\t\\t\\t\\t</data>\\r\\n\\r\\n\\t\\t\\t\\t\\r\\n\\t\\t\\t\\t<data>\\r\\n\\t\\t\\t\\t\\t<mode>A02</mode>\\r\\n\\t\\t\\t\\t\\t<tmEf>2020-01-07 00:00</tmEf>\\r\\n\\t\\t\\t\\t\\t<wf>흐리고 비</wf>\\r\\n\\t\\t\\t\\t\\t<tmn>5</tmn>\\r\\n\\t\\t\\t\\t\\t<tmx>7</tmx>\\r\\n\\t\\t\\t\\t\\t<reliability></reliability>\\r\\n\\t\\t\\t\\t\\t<rnSt>70</rnSt>\\r\\n\\t\\t\\t\\t</data>\\r\\n\\r\\n\\t\\t\\t\\t\\r\\n\\t\\t\\t\\t<data>\\r\\n\\t\\t\\t\\t\\t<mode>A02</mode>\\r\\n\\t\\t\\t\\t\\t<tmEf>2020-01-07 12:00</tmEf>\\r\\n\\t\\t\\t\\t\\t<wf>흐리고 비</wf>\\r\\n\\t\\t\\t\\t\\t<tmn>5</tmn>\\r\\n\\t\\t\\t\\t\\t<tmx>7</tmx>\\r\\n\\t\\t\\t\\t\\t<reliability></reliability>\\r\\n\\t\\t\\t\\t\\t<rnSt>70</rnSt>\\r\\n\\t\\t\\t\\t</data>\\r\\n\\r\\n\\t\\t\\t\\t\\r\\n\\t\\t\\t\\t<data>\\r\\n\\t\\t\\t\\t\\t<mode>A01</mode>\\r\\n\\t\\t\\t\\t\\t<tmEf>2020-01-08 00:00</tmEf>\\r\\n\\t\\t\\t\\t\\t<wf>흐리고 비</wf>\\r\\n\\t\\t\\t\\t\\t<tmn>3</tmn>\\r\\n\\t\\t\\t\\t\\t<tmx>6</tmx>\\r\\n\\t\\t\\t\\t\\t<reliability></reliability>\\r\\n\\t\\t\\t\\t\\t<rnSt>60</rnSt>\\r\\n\\t\\t\\t\\t</data>\\r\\n\\r\\n\\t\\t\\t\\t\\r\\n\\t\\t\\t\\t<data>\\r\\n\\t\\t\\t\\t\\t<mode>A01</mode>\\r\\n\\t\\t\\t\\t\\t<tmEf>2020-01-09 00:00</tmEf>\\r\\n\\t\\t\\t\\t\\t<wf>구름많음</wf>\\r\\n\\t\\t\\t\\t\\t<tmn>2</tmn>\\r\\n\\t\\t\\t\\t\\t<tmx>5</tmx>\\r\\n\\t\\t\\t\\t\\t<reliability></reliability>\\r\\n\\t\\t\\t\\t\\t<rnSt>40</rnSt>\\r\\n\\t\\t\\t\\t</data>\\r\\n\\r\\n\\t\\t\\t\\t\\r\\n\\t\\t\\t\\t<data>\\r\\n\\t\\t\\t\\t\\t<mode>A01</mode>\\r\\n\\t\\t\\t\\t\\t<tmEf>2020-01-10 00:00</tmEf>\\r\\n\\t\\t\\t\\t\\t<wf>구름많음</wf>\\r\\n\\t\\t\\t\\t\\t<tmn>4</tmn>\\r\\n\\t\\t\\t\\t\\t<tmx>7</tmx>\\r\\n\\t\\t\\t\\t\\t<reliability></reliability>\\r\\n\\t\\t\\t\\t\\t<rnSt>30</rnSt>\\r\\n\\t\\t\\t\\t</data>\\r\\n\\r\\n\\r\\n\\t\\t</location>\\r\\n\\r\\n\\r\\n\\r\\n\\t\\t<location wl_ver=\"3\">\\r\\n\\t\\t\\t\\t<province>제주도</province>\\r\\n\\t\\t\\t\\t<city>제주</city>\\r\\n\\t\\t\\t\\t\\r\\n\\t\\t\\t\\t<data>\\r\\n\\t\\t\\t\\t\\t<mode>A02</mode>\\r\\n\\t\\t\\t\\t\\t<tmEf>2020-01-03 00:00</tmEf>\\r\\n\\t\\t\\t\\t\\t<wf>구름많음</wf>\\r\\n\\t\\t\\t\\t\\t<tmn>7</tmn>\\r\\n\\t\\t\\t\\t\\t<tmx>12</tmx>\\r\\n\\t\\t\\t\\t\\t<reliability></reliability>\\r\\n\\t\\t\\t\\t\\t<rnSt>40</rnSt>\\r\\n\\t\\t\\t\\t</data>\\r\\n\\r\\n\\t\\t\\t\\t\\r\\n\\t\\t\\t\\t<data>\\r\\n\\t\\t\\t\\t\\t<mode>A02</mode>\\r\\n\\t\\t\\t\\t\\t<tmEf>2020-01-03 12:00</tmEf>\\r\\n\\t\\t\\t\\t\\t<wf>구름많음</wf>\\r\\n\\t\\t\\t\\t\\t<tmn>7</tmn>\\r\\n\\t\\t\\t\\t\\t<tmx>12</tmx>\\r\\n\\t\\t\\t\\t\\t<reliability></reliability>\\r\\n\\t\\t\\t\\t\\t<rnSt>40</rnSt>\\r\\n\\t\\t\\t\\t</data>\\r\\n\\r\\n\\t\\t\\t\\t\\r\\n\\t\\t\\t\\t<data>\\r\\n\\t\\t\\t\\t\\t<mode>A02</mode>\\r\\n\\t\\t\\t\\t\\t<tmEf>2020-01-04 00:00</tmEf>\\r\\n\\t\\t\\t\\t\\t<wf>구름많음</wf>\\r\\n\\t\\t\\t\\t\\t<tmn>8</tmn>\\r\\n\\t\\t\\t\\t\\t<tmx>11</tmx>\\r\\n\\t\\t\\t\\t\\t<reliability></reliability>\\r\\n\\t\\t\\t\\t\\t<rnSt>30</rnSt>\\r\\n\\t\\t\\t\\t</data>\\r\\n\\r\\n\\t\\t\\t\\t\\r\\n\\t\\t\\t\\t<data>\\r\\n\\t\\t\\t\\t\\t<mode>A02</mode>\\r\\n\\t\\t\\t\\t\\t<tmEf>2020-01-04 12:00</tmEf>\\r\\n\\t\\t\\t\\t\\t<wf>맑음</wf>\\r\\n\\t\\t\\t\\t\\t<tmn>8</tmn>\\r\\n\\t\\t\\t\\t\\t<tmx>11</tmx>\\r\\n\\t\\t\\t\\t\\t<reliability></reliability>\\r\\n\\t\\t\\t\\t\\t<rnSt>10</rnSt>\\r\\n\\t\\t\\t\\t</data>\\r\\n\\r\\n\\t\\t\\t\\t\\r\\n\\t\\t\\t\\t<data>\\r\\n\\t\\t\\t\\t\\t<mode>A02</mode>\\r\\n\\t\\t\\t\\t\\t<tmEf>2020-01-05 00:00</tmEf>\\r\\n\\t\\t\\t\\t\\t<wf>맑음</wf>\\r\\n\\t\\t\\t\\t\\t<tmn>5</tmn>\\r\\n\\t\\t\\t\\t\\t<tmx>10</tmx>\\r\\n\\t\\t\\t\\t\\t<reliability></reliability>\\r\\n\\t\\t\\t\\t\\t<rnSt>0</rnSt>\\r\\n\\t\\t\\t\\t</data>\\r\\n\\r\\n\\t\\t\\t\\t\\r\\n\\t\\t\\t\\t<data>\\r\\n\\t\\t\\t\\t\\t<mode>A02</mode>\\r\\n\\t\\t\\t\\t\\t<tmEf>2020-01-05 12:00</tmEf>\\r\\n\\t\\t\\t\\t\\t<wf>구름많음</wf>\\r\\n\\t\\t\\t\\t\\t<tmn>5</tmn>\\r\\n\\t\\t\\t\\t\\t<tmx>10</tmx>\\r\\n\\t\\t\\t\\t\\t<reliability></reliability>\\r\\n\\t\\t\\t\\t\\t<rnSt>30</rnSt>\\r\\n\\t\\t\\t\\t</data>\\r\\n\\r\\n\\t\\t\\t\\t\\r\\n\\t\\t\\t\\t<data>\\r\\n\\t\\t\\t\\t\\t<mode>A02</mode>\\r\\n\\t\\t\\t\\t\\t<tmEf>2020-01-06 00:00</tmEf>\\r\\n\\t\\t\\t\\t\\t<wf>구름많음</wf>\\r\\n\\t\\t\\t\\t\\t<tmn>8</tmn>\\r\\n\\t\\t\\t\\t\\t<tmx>14</tmx>\\r\\n\\t\\t\\t\\t\\t<reliability></reliability>\\r\\n\\t\\t\\t\\t\\t<rnSt>30</rnSt>\\r\\n\\t\\t\\t\\t</data>\\r\\n\\r\\n\\t\\t\\t\\t\\r\\n\\t\\t\\t\\t<data>\\r\\n\\t\\t\\t\\t\\t<mode>A02</mode>\\r\\n\\t\\t\\t\\t\\t<tmEf>2020-01-06 12:00</tmEf>\\r\\n\\t\\t\\t\\t\\t<wf>흐리고 비</wf>\\r\\n\\t\\t\\t\\t\\t<tmn>8</tmn>\\r\\n\\t\\t\\t\\t\\t<tmx>14</tmx>\\r\\n\\t\\t\\t\\t\\t<reliability></reliability>\\r\\n\\t\\t\\t\\t\\t<rnSt>60</rnSt>\\r\\n\\t\\t\\t\\t</data>\\r\\n\\r\\n\\t\\t\\t\\t\\r\\n\\t\\t\\t\\t<data>\\r\\n\\t\\t\\t\\t\\t<mode>A02</mode>\\r\\n\\t\\t\\t\\t\\t<tmEf>2020-01-07 00:00</tmEf>\\r\\n\\t\\t\\t\\t\\t<wf>흐리고 비</wf>\\r\\n\\t\\t\\t\\t\\t<tmn>12</tmn>\\r\\n\\t\\t\\t\\t\\t<tmx>15</tmx>\\r\\n\\t\\t\\t\\t\\t<reliability></reliability>\\r\\n\\t\\t\\t\\t\\t<rnSt>70</rnSt>\\r\\n\\t\\t\\t\\t</data>\\r\\n\\r\\n\\t\\t\\t\\t\\r\\n\\t\\t\\t\\t<data>\\r\\n\\t\\t\\t\\t\\t<mode>A02</mode>\\r\\n\\t\\t\\t\\t\\t<tmEf>2020-01-07 12:00</tmEf>\\r\\n\\t\\t\\t\\t\\t<wf>흐리고 비</wf>\\r\\n\\t\\t\\t\\t\\t<tmn>12</tmn>\\r\\n\\t\\t\\t\\t\\t<tmx>15</tmx>\\r\\n\\t\\t\\t\\t\\t<reliability></reliability>\\r\\n\\t\\t\\t\\t\\t<rnSt>70</rnSt>\\r\\n\\t\\t\\t\\t</data>\\r\\n\\r\\n\\t\\t\\t\\t\\r\\n\\t\\t\\t\\t<data>\\r\\n\\t\\t\\t\\t\\t<mode>A01</mode>\\r\\n\\t\\t\\t\\t\\t<tmEf>2020-01-08 00:00</tmEf>\\r\\n\\t\\t\\t\\t\\t<wf>흐리고 비</wf>\\r\\n\\t\\t\\t\\t\\t<tmn>10</tmn>\\r\\n\\t\\t\\t\\t\\t<tmx>12</tmx>\\r\\n\\t\\t\\t\\t\\t<reliability></reliability>\\r\\n\\t\\t\\t\\t\\t<rnSt>80</rnSt>\\r\\n\\t\\t\\t\\t</data>\\r\\n\\r\\n\\t\\t\\t\\t\\r\\n\\t\\t\\t\\t<data>\\r\\n\\t\\t\\t\\t\\t<mode>A01</mode>\\r\\n\\t\\t\\t\\t\\t<tmEf>2020-01-09 00:00</tmEf>\\r\\n\\t\\t\\t\\t\\t<wf>구름많음</wf>\\r\\n\\t\\t\\t\\t\\t<tmn>7</tmn>\\r\\n\\t\\t\\t\\t\\t<tmx>9</tmx>\\r\\n\\t\\t\\t\\t\\t<reliability></reliability>\\r\\n\\t\\t\\t\\t\\t<rnSt>40</rnSt>\\r\\n\\t\\t\\t\\t</data>\\r\\n\\r\\n\\t\\t\\t\\t\\r\\n\\t\\t\\t\\t<data>\\r\\n\\t\\t\\t\\t\\t<mode>A01</mode>\\r\\n\\t\\t\\t\\t\\t<tmEf>2020-01-10 00:00</tmEf>\\r\\n\\t\\t\\t\\t\\t<wf>구름많음</wf>\\r\\n\\t\\t\\t\\t\\t<tmn>7</tmn>\\r\\n\\t\\t\\t\\t\\t<tmx>11</tmx>\\r\\n\\t\\t\\t\\t\\t<reliability></reliability>\\r\\n\\t\\t\\t\\t\\t<rnSt>30</rnSt>\\r\\n\\t\\t\\t\\t</data>\\r\\n\\r\\n\\r\\n\\t\\t</location>\\r\\n\\r\\n\\t\\t<location wl_ver=\"3\">\\r\\n\\t\\t\\t\\t<province>제주도</province>\\r\\n\\t\\t\\t\\t<city>서귀포</city>\\r\\n\\t\\t\\t\\t\\r\\n\\t\\t\\t\\t<data>\\r\\n\\t\\t\\t\\t\\t<mode>A02</mode>\\r\\n\\t\\t\\t\\t\\t<tmEf>2020-01-03 00:00</tmEf>\\r\\n\\t\\t\\t\\t\\t<wf>구름많음</wf>\\r\\n\\t\\t\\t\\t\\t<tmn>7</tmn>\\r\\n\\t\\t\\t\\t\\t<tmx>14</tmx>\\r\\n\\t\\t\\t\\t\\t<reliability></reliability>\\r\\n\\t\\t\\t\\t\\t<rnSt>40</rnSt>\\r\\n\\t\\t\\t\\t</data>\\r\\n\\r\\n\\t\\t\\t\\t\\r\\n\\t\\t\\t\\t<data>\\r\\n\\t\\t\\t\\t\\t<mode>A02</mode>\\r\\n\\t\\t\\t\\t\\t<tmEf>2020-01-03 12:00</tmEf>\\r\\n\\t\\t\\t\\t\\t<wf>구름많음</wf>\\r\\n\\t\\t\\t\\t\\t<tmn>7</tmn>\\r\\n\\t\\t\\t\\t\\t<tmx>14</tmx>\\r\\n\\t\\t\\t\\t\\t<reliability></reliability>\\r\\n\\t\\t\\t\\t\\t<rnSt>40</rnSt>\\r\\n\\t\\t\\t\\t</data>\\r\\n\\r\\n\\t\\t\\t\\t\\r\\n\\t\\t\\t\\t<data>\\r\\n\\t\\t\\t\\t\\t<mode>A02</mode>\\r\\n\\t\\t\\t\\t\\t<tmEf>2020-01-04 00:00</tmEf>\\r\\n\\t\\t\\t\\t\\t<wf>구름많음</wf>\\r\\n\\t\\t\\t\\t\\t<tmn>9</tmn>\\r\\n\\t\\t\\t\\t\\t<tmx>14</tmx>\\r\\n\\t\\t\\t\\t\\t<reliability></reliability>\\r\\n\\t\\t\\t\\t\\t<rnSt>30</rnSt>\\r\\n\\t\\t\\t\\t</data>\\r\\n\\r\\n\\t\\t\\t\\t\\r\\n\\t\\t\\t\\t<data>\\r\\n\\t\\t\\t\\t\\t<mode>A02</mode>\\r\\n\\t\\t\\t\\t\\t<tmEf>2020-01-04 12:00</tmEf>\\r\\n\\t\\t\\t\\t\\t<wf>맑음</wf>\\r\\n\\t\\t\\t\\t\\t<tmn>9</tmn>\\r\\n\\t\\t\\t\\t\\t<tmx>14</tmx>\\r\\n\\t\\t\\t\\t\\t<reliability></reliability>\\r\\n\\t\\t\\t\\t\\t<rnSt>10</rnSt>\\r\\n\\t\\t\\t\\t</data>\\r\\n\\r\\n\\t\\t\\t\\t\\r\\n\\t\\t\\t\\t<data>\\r\\n\\t\\t\\t\\t\\t<mode>A02</mode>\\r\\n\\t\\t\\t\\t\\t<tmEf>2020-01-05 00:00</tmEf>\\r\\n\\t\\t\\t\\t\\t<wf>맑음</wf>\\r\\n\\t\\t\\t\\t\\t<tmn>6</tmn>\\r\\n\\t\\t\\t\\t\\t<tmx>14</tmx>\\r\\n\\t\\t\\t\\t\\t<reliability></reliability>\\r\\n\\t\\t\\t\\t\\t<rnSt>0</rnSt>\\r\\n\\t\\t\\t\\t</data>\\r\\n\\r\\n\\t\\t\\t\\t\\r\\n\\t\\t\\t\\t<data>\\r\\n\\t\\t\\t\\t\\t<mode>A02</mode>\\r\\n\\t\\t\\t\\t\\t<tmEf>2020-01-05 12:00</tmEf>\\r\\n\\t\\t\\t\\t\\t<wf>구름많음</wf>\\r\\n\\t\\t\\t\\t\\t<tmn>6</tmn>\\r\\n\\t\\t\\t\\t\\t<tmx>14</tmx>\\r\\n\\t\\t\\t\\t\\t<reliability></reliability>\\r\\n\\t\\t\\t\\t\\t<rnSt>30</rnSt>\\r\\n\\t\\t\\t\\t</data>\\r\\n\\r\\n\\t\\t\\t\\t\\r\\n\\t\\t\\t\\t<data>\\r\\n\\t\\t\\t\\t\\t<mode>A02</mode>\\r\\n\\t\\t\\t\\t\\t<tmEf>2020-01-06 00:00</tmEf>\\r\\n\\t\\t\\t\\t\\t<wf>구름많음</wf>\\r\\n\\t\\t\\t\\t\\t<tmn>10</tmn>\\r\\n\\t\\t\\t\\t\\t<tmx>15</tmx>\\r\\n\\t\\t\\t\\t\\t<reliability></reliability>\\r\\n\\t\\t\\t\\t\\t<rnSt>30</rnSt>\\r\\n\\t\\t\\t\\t</data>\\r\\n\\r\\n\\t\\t\\t\\t\\r\\n\\t\\t\\t\\t<data>\\r\\n\\t\\t\\t\\t\\t<mode>A02</mode>\\r\\n\\t\\t\\t\\t\\t<tmEf>2020-01-06 12:00</tmEf>\\r\\n\\t\\t\\t\\t\\t<wf>흐리고 비</wf>\\r\\n\\t\\t\\t\\t\\t<tmn>10</tmn>\\r\\n\\t\\t\\t\\t\\t<tmx>15</tmx>\\r\\n\\t\\t\\t\\t\\t<reliability></reliability>\\r\\n\\t\\t\\t\\t\\t<rnSt>60</rnSt>\\r\\n\\t\\t\\t\\t</data>\\r\\n\\r\\n\\t\\t\\t\\t\\r\\n\\t\\t\\t\\t<data>\\r\\n\\t\\t\\t\\t\\t<mode>A02</mode>\\r\\n\\t\\t\\t\\t\\t<tmEf>2020-01-07 00:00</tmEf>\\r\\n\\t\\t\\t\\t\\t<wf>흐리고 비</wf>\\r\\n\\t\\t\\t\\t\\t<tmn>12</tmn>\\r\\n\\t\\t\\t\\t\\t<tmx>16</tmx>\\r\\n\\t\\t\\t\\t\\t<reliability></reliability>\\r\\n\\t\\t\\t\\t\\t<rnSt>70</rnSt>\\r\\n\\t\\t\\t\\t</data>\\r\\n\\r\\n\\t\\t\\t\\t\\r\\n\\t\\t\\t\\t<data>\\r\\n\\t\\t\\t\\t\\t<mode>A02</mode>\\r\\n\\t\\t\\t\\t\\t<tmEf>2020-01-07 12:00</tmEf>\\r\\n\\t\\t\\t\\t\\t<wf>흐리고 비</wf>\\r\\n\\t\\t\\t\\t\\t<tmn>12</tmn>\\r\\n\\t\\t\\t\\t\\t<tmx>16</tmx>\\r\\n\\t\\t\\t\\t\\t<reliability></reliability>\\r\\n\\t\\t\\t\\t\\t<rnSt>70</rnSt>\\r\\n\\t\\t\\t\\t</data>\\r\\n\\r\\n\\t\\t\\t\\t\\r\\n\\t\\t\\t\\t<data>\\r\\n\\t\\t\\t\\t\\t<mode>A01</mode>\\r\\n\\t\\t\\t\\t\\t<tmEf>2020-01-08 00:00</tmEf>\\r\\n\\t\\t\\t\\t\\t<wf>흐리고 비</wf>\\r\\n\\t\\t\\t\\t\\t<tmn>10</tmn>\\r\\n\\t\\t\\t\\t\\t<tmx>13</tmx>\\r\\n\\t\\t\\t\\t\\t<reliability></reliability>\\r\\n\\t\\t\\t\\t\\t<rnSt>80</rnSt>\\r\\n\\t\\t\\t\\t</data>\\r\\n\\r\\n\\t\\t\\t\\t\\r\\n\\t\\t\\t\\t<data>\\r\\n\\t\\t\\t\\t\\t<mode>A01</mode>\\r\\n\\t\\t\\t\\t\\t<tmEf>2020-01-09 00:00</tmEf>\\r\\n\\t\\t\\t\\t\\t<wf>구름많음</wf>\\r\\n\\t\\t\\t\\t\\t<tmn>7</tmn>\\r\\n\\t\\t\\t\\t\\t<tmx>11</tmx>\\r\\n\\t\\t\\t\\t\\t<reliability></reliability>\\r\\n\\t\\t\\t\\t\\t<rnSt>40</rnSt>\\r\\n\\t\\t\\t\\t</data>\\r\\n\\r\\n\\t\\t\\t\\t\\r\\n\\t\\t\\t\\t<data>\\r\\n\\t\\t\\t\\t\\t<mode>A01</mode>\\r\\n\\t\\t\\t\\t\\t<tmEf>2020-01-10 00:00</tmEf>\\r\\n\\t\\t\\t\\t\\t<wf>구름많음</wf>\\r\\n\\t\\t\\t\\t\\t<tmn>6</tmn>\\r\\n\\t\\t\\t\\t\\t<tmx>13</tmx>\\r\\n\\t\\t\\t\\t\\t<reliability></reliability>\\r\\n\\t\\t\\t\\t\\t<rnSt>30</rnSt>\\r\\n\\t\\t\\t\\t</data>\\r\\n\\r\\n\\r\\n\\t\\t</location>\\r\\n\\r\\n\\r\\n\\t\\r\\n\\r\\n\\t</body>\\r\\n</description>\\r\\n</item>\\r\\n</channel>\\r\\n</rss>\\t'"
      ]
     },
     "execution_count": 26,
     "metadata": {},
     "output_type": "execute_result"
    }
   ],
   "source": [
    "data = urllib.request.urlopen(url).read()\n",
    "text = data.decode('utf-8')  # 한글 출력을 위해 변경\n",
    "text"
   ]
  },
  {
   "cell_type": "markdown",
   "metadata": {},
   "source": [
    "# 디코딩, 인코딩 / 유니코드\n",
    "디코딩 : 바이트 열 -> 유니코드 \n",
    "인코딩 : 문자표현 -> 2진수 열(바이트열)\n",
    "인코딩 방식 : ASCII, EUC-KR, CP949 ...\n",
    "안녕 -> 통역(영) -> HI\n",
    "#?> <- 통역(프) <- HI\n",
    "\n",
    "해결\n",
    "인코딩 방식 통일 => 유니코드 탄생\n",
    "유니코딩 (UTF-8, UTF-16, UTF-32 ..)\n",
    "UTF-8을 가장 일반적으로 사용 (파이썬 문자열 자료형)"
   ]
  },
  {
   "cell_type": "code",
   "execution_count": 41,
   "metadata": {},
   "outputs": [
    {
     "name": "stdout",
     "output_type": "stream",
     "text": [
      "4\n",
      "6\n"
     ]
    },
    {
     "data": {
      "text/plain": [
       "bytearray(b'\\xec\\x95\\x88\\xeb\\x85\\x95')"
      ]
     },
     "execution_count": 41,
     "metadata": {},
     "output_type": "execute_result"
    }
   ],
   "source": [
    "text = '안녕'\n",
    "len(text)\n",
    "\n",
    "t = bytearray(text, 'cp949')  # 유니코드 -> 바이트\n",
    "print(len(t))  # cp949 한글 2바이트\n",
    "t\n",
    "# 2진수 ->1바이트\n",
    "# 16진수 - 2진수 4자리 -> 4바이트\n",
    "t = bytearray(text, 'utf-8')  # 유니코드 -> 바이트\n",
    "print(len(t))  # utf-8 한글 3바이트\n",
    "t"
   ]
  },
  {
   "cell_type": "code",
   "execution_count": 60,
   "metadata": {},
   "outputs": [
    {
     "name": "stdout",
     "output_type": "stream",
     "text": [
      "<class 'bytes'>\n",
      "10\n",
      "<class 'bytes'>\n",
      "10\n",
      "<class 'bytes'>\n",
      "15\n"
     ]
    }
   ],
   "source": [
    "test = '안녕하세요'  # 인코딩 : 문자열 -> 바이트열\n",
    "type(test)\n",
    "\n",
    "s1 = test.encode('cp949')\n",
    "print(type(s1))\n",
    "print(len(s1))\n",
    "\n",
    "s2 = test.encode('euc-kr')\n",
    "print(type(s2))\n",
    "print(len(s2))\n",
    "\n",
    "s3 = test.encode('utf-8')\n",
    "print(type(s3))\n",
    "print(len(s3))"
   ]
  },
  {
   "cell_type": "code",
   "execution_count": 61,
   "metadata": {},
   "outputs": [
    {
     "ename": "UnicodeDecodeError",
     "evalue": "'utf-8' codec can't decode byte 0xbe in position 0: invalid start byte",
     "output_type": "error",
     "traceback": [
      "\u001b[1;31m---------------------------------------------------------------------------\u001b[0m",
      "\u001b[1;31mUnicodeDecodeError\u001b[0m                        Traceback (most recent call last)",
      "\u001b[1;32m<ipython-input-61-69a5797d59da>\u001b[0m in \u001b[0;36m<module>\u001b[1;34m\u001b[0m\n\u001b[0;32m      1\u001b[0m \u001b[0ms1\u001b[0m\u001b[1;33m.\u001b[0m\u001b[0mdecode\u001b[0m\u001b[1;33m(\u001b[0m\u001b[1;34m'cp949'\u001b[0m\u001b[1;33m)\u001b[0m\u001b[1;33m\u001b[0m\u001b[1;33m\u001b[0m\u001b[0m\n\u001b[0;32m      2\u001b[0m \u001b[0ms1\u001b[0m\u001b[1;33m.\u001b[0m\u001b[0mdecode\u001b[0m\u001b[1;33m(\u001b[0m\u001b[1;34m'euc-kr'\u001b[0m\u001b[1;33m)\u001b[0m\u001b[1;33m\u001b[0m\u001b[1;33m\u001b[0m\u001b[0m\n\u001b[1;32m----> 3\u001b[1;33m \u001b[0ms1\u001b[0m\u001b[1;33m.\u001b[0m\u001b[0mdecode\u001b[0m\u001b[1;33m(\u001b[0m\u001b[1;34m'utf-8'\u001b[0m\u001b[1;33m)\u001b[0m\u001b[1;33m\u001b[0m\u001b[1;33m\u001b[0m\u001b[0m\n\u001b[0m",
      "\u001b[1;31mUnicodeDecodeError\u001b[0m: 'utf-8' codec can't decode byte 0xbe in position 0: invalid start byte"
     ]
    }
   ],
   "source": [
    "s1.decode('cp949')\n",
    "s1.decode('euc-kr')\n",
    "s1.decode('utf-8')"
   ]
  },
  {
   "cell_type": "markdown",
   "metadata": {},
   "source": [
    "# 스크래핑\n",
    ": 웹사이트에서 데이터를 추출하는 것"
   ]
  },
  {
   "cell_type": "code",
   "execution_count": 69,
   "metadata": {},
   "outputs": [
    {
     "data": {
      "text/plain": [
       "[1,\n",
       " 11,\n",
       " 21,\n",
       " 31,\n",
       " 41,\n",
       " 51,\n",
       " 61,\n",
       " 71,\n",
       " 81,\n",
       " 91,\n",
       " 101,\n",
       " 111,\n",
       " 121,\n",
       " 131,\n",
       " 141,\n",
       " 151,\n",
       " 161,\n",
       " 171,\n",
       " 181,\n",
       " 191,\n",
       " 201,\n",
       " 211,\n",
       " 221,\n",
       " 231,\n",
       " 241,\n",
       " 251,\n",
       " 261,\n",
       " 271,\n",
       " 281,\n",
       " 291,\n",
       " 301,\n",
       " 311,\n",
       " 321,\n",
       " 331,\n",
       " 341,\n",
       " 351,\n",
       " 361,\n",
       " 371,\n",
       " 381,\n",
       " 391,\n",
       " 401,\n",
       " 411,\n",
       " 421,\n",
       " 431,\n",
       " 441,\n",
       " 451,\n",
       " 461,\n",
       " 471,\n",
       " 481,\n",
       " 491,\n",
       " 501,\n",
       " 511,\n",
       " 521,\n",
       " 531,\n",
       " 541,\n",
       " 551,\n",
       " 561,\n",
       " 571,\n",
       " 581,\n",
       " 591,\n",
       " 601,\n",
       " 611,\n",
       " 621,\n",
       " 631,\n",
       " 641,\n",
       " 651,\n",
       " 661,\n",
       " 671,\n",
       " 681,\n",
       " 691,\n",
       " 701,\n",
       " 711,\n",
       " 721,\n",
       " 731,\n",
       " 741,\n",
       " 751,\n",
       " 761,\n",
       " 771,\n",
       " 781,\n",
       " 791,\n",
       " 801,\n",
       " 811,\n",
       " 821,\n",
       " 831,\n",
       " 841,\n",
       " 851,\n",
       " 861,\n",
       " 871,\n",
       " 881,\n",
       " 891,\n",
       " 901,\n",
       " 911,\n",
       " 921,\n",
       " 931,\n",
       " 941,\n",
       " 951,\n",
       " 961,\n",
       " 971,\n",
       " 981,\n",
       " 991,\n",
       " 1001,\n",
       " 1011,\n",
       " 1021,\n",
       " 1031,\n",
       " 1041,\n",
       " 1051,\n",
       " 1061,\n",
       " 1071,\n",
       " 1081,\n",
       " 1091,\n",
       " 1101,\n",
       " 1111,\n",
       " 1121,\n",
       " 1131,\n",
       " 1141,\n",
       " 1151,\n",
       " 1161,\n",
       " 1171,\n",
       " 1181,\n",
       " 1191,\n",
       " 1201,\n",
       " 1211,\n",
       " 1221,\n",
       " 1231,\n",
       " 1241,\n",
       " 1251,\n",
       " 1261,\n",
       " 1271,\n",
       " 1281,\n",
       " 1291,\n",
       " 1301,\n",
       " 1311,\n",
       " 1321,\n",
       " 1331,\n",
       " 1341,\n",
       " 1351,\n",
       " 1361,\n",
       " 1371,\n",
       " 1381,\n",
       " 1391,\n",
       " 1401,\n",
       " 1411,\n",
       " 1421,\n",
       " 1431,\n",
       " 1441,\n",
       " 1451,\n",
       " 1461,\n",
       " 1471,\n",
       " 1481,\n",
       " 1491,\n",
       " 1501,\n",
       " 1511,\n",
       " 1521,\n",
       " 1531,\n",
       " 1541,\n",
       " 1551,\n",
       " 1561,\n",
       " 1571,\n",
       " 1581,\n",
       " 1591,\n",
       " 1601,\n",
       " 1611,\n",
       " 1621,\n",
       " 1631,\n",
       " 1641,\n",
       " 1651,\n",
       " 1661,\n",
       " 1671,\n",
       " 1681,\n",
       " 1691,\n",
       " 1701,\n",
       " 1711,\n",
       " 1721,\n",
       " 1731,\n",
       " 1741,\n",
       " 1751,\n",
       " 1761,\n",
       " 1771,\n",
       " 1781,\n",
       " 1791,\n",
       " 1801,\n",
       " 1811,\n",
       " 1821,\n",
       " 1831,\n",
       " 1841,\n",
       " 1851,\n",
       " 1861,\n",
       " 1871,\n",
       " 1881,\n",
       " 1891,\n",
       " 1901,\n",
       " 1911,\n",
       " 1921,\n",
       " 1931,\n",
       " 1941,\n",
       " 1951,\n",
       " 1961,\n",
       " 1971,\n",
       " 1981,\n",
       " 1991,\n",
       " 2001,\n",
       " 2011,\n",
       " 2021,\n",
       " 2031,\n",
       " 2041,\n",
       " 2051,\n",
       " 2061,\n",
       " 2071,\n",
       " 2081,\n",
       " 2091,\n",
       " 2101,\n",
       " 2111,\n",
       " 2121,\n",
       " 2131,\n",
       " 2141,\n",
       " 2151,\n",
       " 2161,\n",
       " 2171,\n",
       " 2181,\n",
       " 2191,\n",
       " 2201,\n",
       " 2211,\n",
       " 2221,\n",
       " 2231,\n",
       " 2241,\n",
       " 2251,\n",
       " 2261,\n",
       " 2271,\n",
       " 2281,\n",
       " 2291,\n",
       " 2301,\n",
       " 2311,\n",
       " 2321,\n",
       " 2331,\n",
       " 2341,\n",
       " 2351,\n",
       " 2361,\n",
       " 2371,\n",
       " 2381,\n",
       " 2391,\n",
       " 2401,\n",
       " 2411,\n",
       " 2421,\n",
       " 2431,\n",
       " 2441,\n",
       " 2451,\n",
       " 2461,\n",
       " 2471,\n",
       " 2481,\n",
       " 2491,\n",
       " 2501,\n",
       " 2511,\n",
       " 2521,\n",
       " 2531,\n",
       " 2541,\n",
       " 2551,\n",
       " 2561,\n",
       " 2571,\n",
       " 2581,\n",
       " 2591,\n",
       " 2601,\n",
       " 2611,\n",
       " 2621,\n",
       " 2631,\n",
       " 2641,\n",
       " 2651,\n",
       " 2661,\n",
       " 2671,\n",
       " 2681,\n",
       " 2691,\n",
       " 2701,\n",
       " 2711,\n",
       " 2721,\n",
       " 2731,\n",
       " 2741,\n",
       " 2751,\n",
       " 2761,\n",
       " 2771,\n",
       " 2781,\n",
       " 2791,\n",
       " 2801,\n",
       " 2811,\n",
       " 2821,\n",
       " 2831,\n",
       " 2841,\n",
       " 2851,\n",
       " 2861,\n",
       " 2871,\n",
       " 2881,\n",
       " 2891,\n",
       " 2901,\n",
       " 2911,\n",
       " 2921,\n",
       " 2931,\n",
       " 2941,\n",
       " 2951,\n",
       " 2961,\n",
       " 2971,\n",
       " 2981,\n",
       " 2991,\n",
       " 3001,\n",
       " 3011,\n",
       " 3021,\n",
       " 3031,\n",
       " 3041,\n",
       " 3051,\n",
       " 3061,\n",
       " 3071,\n",
       " 3081,\n",
       " 3091,\n",
       " 3101,\n",
       " 3111,\n",
       " 3121,\n",
       " 3131,\n",
       " 3141,\n",
       " 3151,\n",
       " 3161,\n",
       " 3171,\n",
       " 3181,\n",
       " 3191,\n",
       " 3201,\n",
       " 3211,\n",
       " 3221,\n",
       " 3231,\n",
       " 3241,\n",
       " 3251,\n",
       " 3261,\n",
       " 3271,\n",
       " 3281,\n",
       " 3291,\n",
       " 3301,\n",
       " 3311,\n",
       " 3321,\n",
       " 3331,\n",
       " 3341,\n",
       " 3351,\n",
       " 3361,\n",
       " 3371,\n",
       " 3381,\n",
       " 3391,\n",
       " 3401,\n",
       " 3411,\n",
       " 3421,\n",
       " 3431,\n",
       " 3441,\n",
       " 3451,\n",
       " 3461,\n",
       " 3471,\n",
       " 3481,\n",
       " 3491,\n",
       " 3501,\n",
       " 3511,\n",
       " 3521,\n",
       " 3531,\n",
       " 3541,\n",
       " 3551,\n",
       " 3561,\n",
       " 3571,\n",
       " 3581,\n",
       " 3591,\n",
       " 3601,\n",
       " 3611,\n",
       " 3621,\n",
       " 3631,\n",
       " 3641,\n",
       " 3651,\n",
       " 3661,\n",
       " 3671,\n",
       " 3681,\n",
       " 3691,\n",
       " 3701,\n",
       " 3711,\n",
       " 3721,\n",
       " 3731,\n",
       " 3741,\n",
       " 3751,\n",
       " 3761,\n",
       " 3771,\n",
       " 3781,\n",
       " 3791,\n",
       " 3801,\n",
       " 3811,\n",
       " 3821,\n",
       " 3831,\n",
       " 3841,\n",
       " 3851,\n",
       " 3861,\n",
       " 3871,\n",
       " 3881,\n",
       " 3891,\n",
       " 3901,\n",
       " 3911,\n",
       " 3921,\n",
       " 3931,\n",
       " 3941,\n",
       " 3951,\n",
       " 3961,\n",
       " 3971,\n",
       " 3981,\n",
       " 3991,\n",
       " 4001,\n",
       " 4011,\n",
       " 4021,\n",
       " 4031,\n",
       " 4041,\n",
       " 4051,\n",
       " 4061,\n",
       " 4071,\n",
       " 4081,\n",
       " 4091,\n",
       " 4101,\n",
       " 4111,\n",
       " 4121,\n",
       " 4131,\n",
       " 4141,\n",
       " 4151,\n",
       " 4161,\n",
       " 4171,\n",
       " 4181,\n",
       " 4191,\n",
       " 4201,\n",
       " 4211,\n",
       " 4221,\n",
       " 4231,\n",
       " 4241,\n",
       " 4251,\n",
       " 4261,\n",
       " 4271,\n",
       " 4281,\n",
       " 4291,\n",
       " 4301,\n",
       " 4311,\n",
       " 4321,\n",
       " 4331,\n",
       " 4341,\n",
       " 4351,\n",
       " 4361,\n",
       " 4371,\n",
       " 4381,\n",
       " 4391,\n",
       " 4401,\n",
       " 4411,\n",
       " 4421,\n",
       " 4431,\n",
       " 4441,\n",
       " 4451,\n",
       " 4461,\n",
       " 4471,\n",
       " 4481,\n",
       " 4491,\n",
       " 4501,\n",
       " 4511,\n",
       " 4521,\n",
       " 4531,\n",
       " 4541,\n",
       " 4551,\n",
       " 4561,\n",
       " 4571,\n",
       " 4581,\n",
       " 4591,\n",
       " 4601,\n",
       " 4611,\n",
       " 4621,\n",
       " 4631,\n",
       " 4641,\n",
       " 4651,\n",
       " 4661,\n",
       " 4671,\n",
       " 4681,\n",
       " 4691,\n",
       " 4701,\n",
       " 4711,\n",
       " 4721,\n",
       " 4731,\n",
       " 4741,\n",
       " 4751,\n",
       " 4761,\n",
       " 4771,\n",
       " 4781,\n",
       " 4791,\n",
       " 4801,\n",
       " 4811,\n",
       " 4821,\n",
       " 4831,\n",
       " 4841,\n",
       " 4851,\n",
       " 4861,\n",
       " 4871,\n",
       " 4881,\n",
       " 4891,\n",
       " 4901,\n",
       " 4911,\n",
       " 4921,\n",
       " 4931,\n",
       " 4941,\n",
       " 4951,\n",
       " 4961,\n",
       " 4971,\n",
       " 4981,\n",
       " 4991,\n",
       " 5001,\n",
       " 5011,\n",
       " 5021,\n",
       " 5031,\n",
       " 5041,\n",
       " 5051,\n",
       " 5061,\n",
       " 5071,\n",
       " 5081,\n",
       " 5091,\n",
       " 5101,\n",
       " 5111,\n",
       " 5121,\n",
       " 5131,\n",
       " 5141,\n",
       " 5151,\n",
       " 5161,\n",
       " 5171,\n",
       " 5181,\n",
       " 5191,\n",
       " 5201,\n",
       " 5211,\n",
       " 5221,\n",
       " 5231,\n",
       " 5241,\n",
       " 5251,\n",
       " 5261,\n",
       " 5271,\n",
       " 5281,\n",
       " 5291,\n",
       " 5301,\n",
       " 5311,\n",
       " 5321,\n",
       " 5331,\n",
       " 5341,\n",
       " 5351,\n",
       " 5361,\n",
       " 5371,\n",
       " 5381,\n",
       " 5391,\n",
       " 5401,\n",
       " 5411,\n",
       " 5421,\n",
       " 5431,\n",
       " 5441,\n",
       " 5451,\n",
       " 5461,\n",
       " 5471,\n",
       " 5481,\n",
       " 5491,\n",
       " 5501,\n",
       " 5511,\n",
       " 5521,\n",
       " 5531,\n",
       " 5541,\n",
       " 5551,\n",
       " 5561,\n",
       " 5571,\n",
       " 5581,\n",
       " 5591,\n",
       " 5601,\n",
       " 5611,\n",
       " 5621,\n",
       " 5631,\n",
       " 5641,\n",
       " 5651,\n",
       " 5661,\n",
       " 5671,\n",
       " 5681,\n",
       " 5691,\n",
       " 5701,\n",
       " 5711,\n",
       " 5721,\n",
       " 5731,\n",
       " 5741,\n",
       " 5751,\n",
       " 5761,\n",
       " 5771,\n",
       " 5781,\n",
       " 5791,\n",
       " 5801,\n",
       " 5811,\n",
       " 5821,\n",
       " 5831,\n",
       " 5841,\n",
       " 5851,\n",
       " 5861,\n",
       " 5871,\n",
       " 5881,\n",
       " 5891,\n",
       " 5901,\n",
       " 5911,\n",
       " 5921,\n",
       " 5931,\n",
       " 5941,\n",
       " 5951,\n",
       " 5961,\n",
       " 5971,\n",
       " 5981,\n",
       " 5991,\n",
       " 6001,\n",
       " 6011,\n",
       " 6021,\n",
       " 6031,\n",
       " 6041,\n",
       " 6051,\n",
       " 6061,\n",
       " 6071,\n",
       " 6081,\n",
       " 6091,\n",
       " 6101,\n",
       " 6111,\n",
       " 6121,\n",
       " 6131,\n",
       " 6141,\n",
       " 6151,\n",
       " 6161,\n",
       " 6171,\n",
       " 6181,\n",
       " 6191,\n",
       " 6201,\n",
       " 6211,\n",
       " 6221,\n",
       " 6231,\n",
       " 6241,\n",
       " 6251,\n",
       " 6261,\n",
       " 6271,\n",
       " 6281,\n",
       " 6291,\n",
       " 6301,\n",
       " 6311,\n",
       " 6321,\n",
       " 6331,\n",
       " 6341,\n",
       " 6351,\n",
       " 6361,\n",
       " 6371,\n",
       " 6381,\n",
       " 6391,\n",
       " 6401,\n",
       " 6411,\n",
       " 6421,\n",
       " 6431,\n",
       " 6441,\n",
       " 6451,\n",
       " 6461,\n",
       " 6471,\n",
       " 6481,\n",
       " 6491,\n",
       " 6501,\n",
       " 6511,\n",
       " 6521,\n",
       " 6531,\n",
       " 6541,\n",
       " 6551,\n",
       " 6561,\n",
       " 6571,\n",
       " 6581,\n",
       " 6591,\n",
       " 6601,\n",
       " 6611,\n",
       " 6621,\n",
       " 6631,\n",
       " 6641,\n",
       " 6651,\n",
       " 6661,\n",
       " 6671,\n",
       " 6681,\n",
       " 6691,\n",
       " 6701,\n",
       " 6711,\n",
       " 6721,\n",
       " 6731,\n",
       " 6741,\n",
       " 6751,\n",
       " 6761,\n",
       " 6771,\n",
       " 6781,\n",
       " 6791,\n",
       " 6801,\n",
       " 6811,\n",
       " 6821,\n",
       " 6831,\n",
       " 6841,\n",
       " 6851,\n",
       " 6861,\n",
       " 6871,\n",
       " 6881,\n",
       " 6891,\n",
       " 6901,\n",
       " 6911,\n",
       " 6921,\n",
       " 6931,\n",
       " 6941,\n",
       " 6951,\n",
       " 6961,\n",
       " 6971,\n",
       " 6981,\n",
       " 6991,\n",
       " 7001,\n",
       " 7011,\n",
       " 7021,\n",
       " 7031,\n",
       " 7041,\n",
       " 7051,\n",
       " 7061,\n",
       " 7071,\n",
       " 7081,\n",
       " 7091,\n",
       " 7101,\n",
       " 7111,\n",
       " 7121,\n",
       " 7131,\n",
       " 7141,\n",
       " 7151,\n",
       " 7161,\n",
       " 7171,\n",
       " 7181,\n",
       " 7191,\n",
       " 7201,\n",
       " 7211,\n",
       " 7221,\n",
       " 7231,\n",
       " 7241,\n",
       " 7251,\n",
       " 7261,\n",
       " 7271,\n",
       " 7281,\n",
       " 7291,\n",
       " 7301,\n",
       " 7311,\n",
       " 7321,\n",
       " 7331,\n",
       " 7341,\n",
       " 7351,\n",
       " 7361,\n",
       " 7371,\n",
       " 7381,\n",
       " 7391,\n",
       " 7401,\n",
       " 7411,\n",
       " 7421,\n",
       " 7431,\n",
       " 7441,\n",
       " 7451,\n",
       " 7461,\n",
       " 7471,\n",
       " 7481,\n",
       " 7491,\n",
       " 7501,\n",
       " 7511,\n",
       " 7521,\n",
       " 7531,\n",
       " 7541,\n",
       " 7551,\n",
       " 7561,\n",
       " 7571,\n",
       " 7581,\n",
       " 7591,\n",
       " 7601,\n",
       " 7611,\n",
       " 7621,\n",
       " 7631,\n",
       " 7641,\n",
       " 7651,\n",
       " 7661,\n",
       " 7671,\n",
       " 7681,\n",
       " 7691,\n",
       " 7701,\n",
       " 7711,\n",
       " 7721,\n",
       " 7731,\n",
       " 7741,\n",
       " 7751,\n",
       " 7761,\n",
       " 7771,\n",
       " 7781,\n",
       " 7791,\n",
       " 7801,\n",
       " 7811,\n",
       " 7821,\n",
       " 7831,\n",
       " 7841,\n",
       " 7851,\n",
       " 7861,\n",
       " 7871,\n",
       " 7881,\n",
       " 7891,\n",
       " 7901,\n",
       " 7911,\n",
       " 7921,\n",
       " 7931,\n",
       " 7941,\n",
       " 7951,\n",
       " 7961,\n",
       " 7971,\n",
       " 7981,\n",
       " 7991,\n",
       " 8001,\n",
       " 8011,\n",
       " 8021,\n",
       " 8031,\n",
       " 8041,\n",
       " 8051,\n",
       " 8061,\n",
       " 8071,\n",
       " 8081,\n",
       " 8091,\n",
       " 8101,\n",
       " 8111,\n",
       " 8121,\n",
       " 8131,\n",
       " 8141,\n",
       " 8151,\n",
       " 8161,\n",
       " 8171,\n",
       " 8181,\n",
       " 8191,\n",
       " 8201,\n",
       " 8211,\n",
       " 8221,\n",
       " 8231,\n",
       " 8241,\n",
       " 8251,\n",
       " 8261,\n",
       " 8271,\n",
       " 8281,\n",
       " 8291,\n",
       " 8301,\n",
       " 8311,\n",
       " 8321,\n",
       " 8331,\n",
       " 8341,\n",
       " 8351,\n",
       " 8361,\n",
       " 8371,\n",
       " 8381,\n",
       " 8391,\n",
       " 8401,\n",
       " 8411,\n",
       " 8421,\n",
       " 8431,\n",
       " 8441,\n",
       " 8451,\n",
       " 8461,\n",
       " 8471,\n",
       " 8481,\n",
       " 8491,\n",
       " 8501,\n",
       " 8511,\n",
       " 8521,\n",
       " 8531,\n",
       " 8541,\n",
       " 8551,\n",
       " 8561,\n",
       " 8571,\n",
       " 8581,\n",
       " 8591,\n",
       " 8601,\n",
       " 8611,\n",
       " 8621,\n",
       " 8631,\n",
       " 8641,\n",
       " 8651,\n",
       " 8661,\n",
       " 8671,\n",
       " 8681,\n",
       " 8691,\n",
       " 8701,\n",
       " 8711,\n",
       " 8721,\n",
       " 8731,\n",
       " 8741,\n",
       " 8751,\n",
       " 8761,\n",
       " 8771,\n",
       " 8781,\n",
       " 8791,\n",
       " 8801,\n",
       " 8811,\n",
       " 8821,\n",
       " 8831,\n",
       " 8841,\n",
       " 8851,\n",
       " 8861,\n",
       " 8871,\n",
       " 8881,\n",
       " 8891,\n",
       " 8901,\n",
       " 8911,\n",
       " 8921,\n",
       " 8931,\n",
       " 8941,\n",
       " 8951,\n",
       " 8961,\n",
       " 8971,\n",
       " 8981,\n",
       " 8991,\n",
       " 9001,\n",
       " 9011,\n",
       " 9021,\n",
       " 9031,\n",
       " 9041,\n",
       " 9051,\n",
       " 9061,\n",
       " 9071,\n",
       " 9081,\n",
       " 9091,\n",
       " 9101,\n",
       " 9111,\n",
       " 9121,\n",
       " 9131,\n",
       " 9141,\n",
       " 9151,\n",
       " 9161,\n",
       " 9171,\n",
       " 9181,\n",
       " 9191,\n",
       " 9201,\n",
       " 9211,\n",
       " 9221,\n",
       " 9231,\n",
       " 9241,\n",
       " 9251,\n",
       " 9261,\n",
       " 9271,\n",
       " 9281,\n",
       " 9291,\n",
       " 9301,\n",
       " 9311,\n",
       " 9321,\n",
       " 9331,\n",
       " 9341,\n",
       " 9351,\n",
       " 9361,\n",
       " 9371,\n",
       " 9381,\n",
       " 9391,\n",
       " 9401,\n",
       " 9411,\n",
       " 9421,\n",
       " 9431,\n",
       " 9441,\n",
       " 9451,\n",
       " 9461,\n",
       " 9471,\n",
       " 9481,\n",
       " 9491,\n",
       " 9501,\n",
       " 9511,\n",
       " 9521,\n",
       " 9531,\n",
       " 9541,\n",
       " 9551,\n",
       " 9561,\n",
       " 9571,\n",
       " 9581,\n",
       " 9591,\n",
       " 9601,\n",
       " 9611,\n",
       " 9621,\n",
       " 9631,\n",
       " 9641,\n",
       " 9651,\n",
       " 9661,\n",
       " 9671,\n",
       " 9681,\n",
       " 9691,\n",
       " 9701,\n",
       " 9711,\n",
       " 9721,\n",
       " 9731,\n",
       " 9741,\n",
       " 9751,\n",
       " 9761,\n",
       " 9771,\n",
       " 9781,\n",
       " 9791,\n",
       " 9801,\n",
       " 9811,\n",
       " 9821,\n",
       " 9831,\n",
       " 9841,\n",
       " 9851,\n",
       " 9861,\n",
       " 9871,\n",
       " 9881,\n",
       " 9891,\n",
       " 9901,\n",
       " 9911,\n",
       " 9921,\n",
       " 9931,\n",
       " 9941,\n",
       " 9951,\n",
       " 9961,\n",
       " 9971,\n",
       " 9981,\n",
       " 9991,\n",
       " ...]"
      ]
     },
     "execution_count": 69,
     "metadata": {},
     "output_type": "execute_result"
    }
   ],
   "source": [
    "# https://search.naver.com/search.naver?where=kin&kin_display=10&qt=&title=0&&answer=0&grade=0&choice=0&sec=0&nso=so%3Ar%2Ca%3Aall%2Cp%3Aall&query=%ED%8C%8C%EC%9D%B4%EC%8D%AC&c_id=&c_name=&sm=tab_pge&kin_start=1 \n",
    "# https://search.naver.com/search.naver?where=kin&kin_display=10&qt=&title=0&&answer=0&grade=0&choice=0&sec=0&nso=so%3Ar%2Ca%3Aall%2Cp%3Aall&query=%ED%8C%8C%EC%9D%B4%EC%8D%AC&c_id=&c_name=&sm=tab_pge&kin_start=11 \n",
    "# https://search.naver.com/search.naver?where=kin&kin_display=10&qt=&title=0&&answer=0&grade=0&choice=0&sec=0&nso=so%3Ar%2Ca%3Aall%2Cp%3Aall&query=%ED%8C%8C%EC%9D%B4%EC%8D%AC&c_id=&c_name=&sm=tab_pge&kin_start=21 \n",
    "p = '2'\n",
    "s = 'https://search.naver.com/search.naver?where=kin&kin_display=10&qt=&title=0&&answer=0&grade=0&choice=0&sec=0&nso=so%3Ar%2Ca%3Aall%2Cp%3Aall&query=%ED%8C%8C%EC%9D%B4%EC%8D%AC&c_id=&c_name=&sm=tab_pge&kin_start='+p\n",
    "list(range(1,11000,10))"
   ]
  },
  {
   "cell_type": "code",
   "execution_count": null,
   "metadata": {},
   "outputs": [],
   "source": [
    "https://movie.naver.com/movie/bi/mi/point.nhn?code=187940#tab"
   ]
  },
  {
   "cell_type": "markdown",
   "metadata": {},
   "source": [
    "# 데이터 수집 과정\n",
    "1. 수집 대상 웹사이트에서 개발자 도구를 활용하여 스크랩 대상에 대한 선택자를 복사한다.\n",
    "2. 파이썬에서 urlretrieve, urlopen 등을 사용하여 웹페이지를 가져온다\n",
    "3. 파서를 사용하여 파싱한다.(피싱,Parsing : 가져온 웹 문서에서 원하는 데이터를 추출)\n",
    "\n",
    "===============================================================================\n",
    "\n",
    "4. 데이터에 대한 전처리\n",
    "5. 모델링 ..\n"
   ]
  },
  {
   "cell_type": "code",
   "execution_count": null,
   "metadata": {},
   "outputs": [],
   "source": [
    "# copy selector\n",
    "#mw-content-text > div > div:nth-child(77) > table > tbody > tr > td\n",
    "\n",
    "#mw-content-text > div > ul:nth-child(71) 윤동주 방송 출현 선택자"
   ]
  },
  {
   "cell_type": "code",
   "execution_count": 75,
   "metadata": {},
   "outputs": [],
   "source": [
    "from bs4 import BeautifulSoup"
   ]
  },
  {
   "cell_type": "code",
   "execution_count": 90,
   "metadata": {},
   "outputs": [
    {
     "name": "stdout",
     "output_type": "stream",
     "text": [
      "1,156.50\n"
     ]
    }
   ],
   "source": [
    "# 네이버 환율\n",
    "#content > div.section_calculator > table:nth-child(4) > tbody > tr > td:nth-child(1)\n",
    "url = 'https://finance.naver.com/marketindex/exchangeDetail.nhn?marketindexCd=FX_USDKRW'\n",
    "\n",
    "import urllib.request as req\n",
    "\n",
    "res = req.urlopen(url)\n",
    "\n",
    "soup = BeautifulSoup(res,'html.parser')\n",
    "# print(soup)\n",
    "p = soup.select_one('#content > div.section_calculator > table:nth-child(4) > tbody > tr > td:nth-child(1)').get_text()\n",
    "print(p)"
   ]
  },
  {
   "cell_type": "code",
   "execution_count": 99,
   "metadata": {},
   "outputs": [
    {
     "name": "stdout",
     "output_type": "stream",
     "text": [
      "두 주식의 총 합계 금액은 23920000원 입니다.\n"
     ]
    }
   ],
   "source": [
    "#1 \n",
    "daumPrice = 89000\n",
    "naverPrice = 751000\n",
    "\n",
    "daumCnt = 100\n",
    "naverCnt = 20\n",
    "\n",
    "total = daumPrice * daumCnt + naverPrice * naverCnt\n",
    "print('두 주식의 총 합계 금액은 %d원 입니다.'%total)"
   ]
  },
  {
   "cell_type": "code",
   "execution_count": 97,
   "metadata": {},
   "outputs": [
    {
     "name": "stdout",
     "output_type": "stream",
     "text": [
      "손해액은 1947000원입니다.\n"
     ]
    }
   ],
   "source": [
    "#2\n",
    "lowTotal = daumPrice * 0.95 * daumCnt + naverPrice * 0.9 * naverCnt\n",
    "minus = total - lowTotal\n",
    "print('손해액은 %d원입니다.'%minus)"
   ]
  },
  {
   "cell_type": "code",
   "execution_count": 102,
   "metadata": {},
   "outputs": [
    {
     "name": "stdout",
     "output_type": "stream",
     "text": [
      "화씨 50는 섭씨 10입니다.\n"
     ]
    }
   ],
   "source": [
    "#3\n",
    "F = 50\n",
    "C = (F-32)/1.8\n",
    "print('화씨 %d는 섭씨 %d입니다.'%(F,C))"
   ]
  },
  {
   "cell_type": "code",
   "execution_count": 103,
   "metadata": {},
   "outputs": [
    {
     "name": "stdout",
     "output_type": "stream",
     "text": [
      "pizzapizzapizzapizzapizzapizzapizzapizzapizzapizza\n"
     ]
    }
   ],
   "source": [
    "#4 \n",
    "print('pizza'*10)"
   ]
  },
  {
   "cell_type": "code",
   "execution_count": 106,
   "metadata": {},
   "outputs": [
    {
     "name": "stdout",
     "output_type": "stream",
     "text": [
      "1\n",
      "2\n",
      "489999.99999999994\n"
     ]
    }
   ],
   "source": [
    "#5\n",
    "naverPrice = 1000000\n",
    "changePoint = -0.3\n",
    "day = 2\n",
    "\n",
    "for i in range(1,day+1):\n",
    "    naverPrice = naverPrice*(1+changePoint)\n",
    "print(naverPrice)"
   ]
  },
  {
   "cell_type": "code",
   "execution_count": 107,
   "metadata": {},
   "outputs": [
    {
     "name": "stdout",
     "output_type": "stream",
     "text": [
      "이름:파이썬 생년월일:2014년 12월 12일 주민등록번호 : 20141212-1623210\n"
     ]
    }
   ],
   "source": [
    "#6\n",
    "name = '파이썬'\n",
    "birth_year = 2014 \n",
    "birth_month = 12\n",
    "birth_day = 12\n",
    "number = '20141212-1623210'\n",
    "\n",
    "print('이름:{} 생년월일:{}년 {}월 {}일 주민등록번호 : {}'.format(name,birth_year,birth_month,birth_day,number))"
   ]
  },
  {
   "cell_type": "code",
   "execution_count": 110,
   "metadata": {},
   "outputs": [
    {
     "data": {
      "text/plain": [
       "'KaKao Daum'"
      ]
     },
     "execution_count": 110,
     "metadata": {},
     "output_type": "execute_result"
    }
   ],
   "source": [
    "# 7 \n",
    "s = 'Daum KaKao'\n",
    "s = s.replace('Daum KaKao','KaKao Daum')\n",
    "s"
   ]
  },
  {
   "cell_type": "code",
   "execution_count": 111,
   "metadata": {},
   "outputs": [
    {
     "name": "stdout",
     "output_type": "stream",
     "text": [
      "hi world\n"
     ]
    }
   ],
   "source": [
    "# 8\n",
    "a = 'hello world'\n",
    "a = a.replace('hello', 'hi')\n",
    "print(a)"
   ]
  },
  {
   "cell_type": "code",
   "execution_count": 112,
   "metadata": {},
   "outputs": [
    {
     "name": "stdout",
     "output_type": "stream",
     "text": [
      "bcdefa\n"
     ]
    }
   ],
   "source": [
    "# 9 \n",
    "x = 'abcdef' # 'bcdefa'\n",
    "x = x[1:] + x[0]\n",
    "print(x)"
   ]
  },
  {
   "cell_type": "code",
   "execution_count": 118,
   "metadata": {},
   "outputs": [],
   "source": [
    "import numpy as np"
   ]
  },
  {
   "cell_type": "code",
   "execution_count": 120,
   "metadata": {},
   "outputs": [
    {
     "name": "stdout",
     "output_type": "stream",
     "text": [
      "[['9/7', '월', 474500], ['9/8', '화', 461500], ['9/9', '수', 501000], ['9/10', '목', 500500], ['9/11', '금', 488500]]\n"
     ]
    }
   ],
   "source": [
    "# 10\n",
    "\n",
    "naver_closing_price = [['9/7','월',474500], \n",
    "                       ['9/8','화',461500], \n",
    "                       ['9/9','수',501000], \n",
    "                       ['9/10','목',500500], \n",
    "                       ['9/11','금',488500]]\n",
    "print(naver_closing_price)"
   ]
  },
  {
   "cell_type": "code",
   "execution_count": 130,
   "metadata": {},
   "outputs": [
    {
     "data": {
      "text/plain": [
       "501000"
      ]
     },
     "execution_count": 130,
     "metadata": {},
     "output_type": "execute_result"
    }
   ],
   "source": [
    "# 11\n",
    "price_list=[]\n",
    "for i in range(len(naver_closing_price)):\n",
    "    price_list.append(naver_closing_price[i][2])\n",
    "max(price_list)"
   ]
  },
  {
   "cell_type": "code",
   "execution_count": 131,
   "metadata": {},
   "outputs": [
    {
     "data": {
      "text/plain": [
       "461500"
      ]
     },
     "execution_count": 131,
     "metadata": {},
     "output_type": "execute_result"
    }
   ],
   "source": [
    "# 12\n",
    "price_list=[]\n",
    "for i in range(len(naver_closing_price)):\n",
    "    price_list.append(naver_closing_price[i][2])\n",
    "min(price_list)"
   ]
  },
  {
   "cell_type": "code",
   "execution_count": 132,
   "metadata": {},
   "outputs": [
    {
     "data": {
      "text/plain": [
       "39500"
      ]
     },
     "execution_count": 132,
     "metadata": {},
     "output_type": "execute_result"
    }
   ],
   "source": [
    "# 13\n",
    "price_list=[]\n",
    "for i in range(len(naver_closing_price)):\n",
    "    price_list.append(naver_closing_price[i][2])\n",
    "max(price_list)-min(price_list)"
   ]
  },
  {
   "cell_type": "code",
   "execution_count": 142,
   "metadata": {},
   "outputs": [
    {
     "name": "stdout",
     "output_type": "stream",
     "text": [
      "수요일의 종가는 501000원 입니다.\n"
     ]
    }
   ],
   "source": [
    "# 14\n",
    "date = '수'\n",
    "for i in range(len(naver_closing_price)):\n",
    "    if naver_closing_price[i][1] == date:\n",
    "        print('%s요일의 종가는 %d원 입니다.'%(date, naver_closing_price[i][2]))"
   ]
  },
  {
   "cell_type": "code",
   "execution_count": 146,
   "metadata": {},
   "outputs": [],
   "source": [
    "# 15\n",
    "naver_closing_price2 = {'09/07':474500,'09/08':461500,'09/09':501000,'09/10':500500,'09/11':488500}"
   ]
  },
  {
   "cell_type": "code",
   "execution_count": 147,
   "metadata": {},
   "outputs": [
    {
     "data": {
      "text/plain": [
       "501000"
      ]
     },
     "execution_count": 147,
     "metadata": {},
     "output_type": "execute_result"
    }
   ],
   "source": [
    "# 16\n",
    "naver_closing_price2.get('09/09')"
   ]
  },
  {
   "cell_type": "code",
   "execution_count": 157,
   "metadata": {},
   "outputs": [
    {
     "name": "stdout",
     "output_type": "stream",
     "text": [
      "101호는 구독료 미납 세대입니다.\n",
      "102호에 배달 완료했습니다.\n",
      "103호에 배달 완료했습니다.\n",
      "104호에 배달 완료했습니다.\n",
      "201호에 배달 완료했습니다.\n",
      "202호에 배달 완료했습니다.\n",
      "203호는 구독료 미납 세대입니다.\n",
      "204호에 배달 완료했습니다.\n",
      "301호는 구독료 미납 세대입니다.\n",
      "302호에 배달 완료했습니다.\n",
      "303호에 배달 완료했습니다.\n",
      "304호에 배달 완료했습니다.\n",
      "401호에 배달 완료했습니다.\n",
      "402호에 배달 완료했습니다.\n",
      "403호에 배달 완료했습니다.\n",
      "404호는 구독료 미납 세대입니다.\n",
      "[102, 103, 104, 201, 202, 204, 302, 303, 304, 401, 402, 403]\n"
     ]
    }
   ],
   "source": [
    "# 17\n",
    "apart = [[101, 102, 103, 104],[201, 202, 203, 204],[301, 302, 303, 304], [401, 402, 403, 404]]\n",
    "arrears = [101, 203, 301, 404]\n",
    "delivery = []\n",
    "\n",
    "for i in range(len(apart)):\n",
    "    for j in range(len(apart[i])):\n",
    "        if apart[i][j] not in arrears:\n",
    "            delivery.append(apart[i][j])\n",
    "            print('%d호에 배달 완료했습니다.'%apart[i][j])\n",
    "        else:\n",
    "            print('%d호는 구독료 미납 세대입니다.' %apart[i][j])\n",
    "print(delivery)"
   ]
  },
  {
   "cell_type": "code",
   "execution_count": 166,
   "metadata": {},
   "outputs": [
    {
     "name": "stdout",
     "output_type": "stream",
     "text": [
      "첫 번째 숫자 입력 : 4\n",
      "두 번째 숫자 입력 : 2\n",
      "\n",
      "4와 2의 평균은 3입니다.\n"
     ]
    }
   ],
   "source": [
    "# 18\n",
    "def myaverage():\n",
    "    a = int(input('첫 번째 숫자 입력 : '))\n",
    "    b = int(input('두 번째 숫자 입력 : '))\n",
    "    avr = ( a + b ) / 2\n",
    "    print('\\n%d와 %d의 평균은 %d입니다.' %(a,b,avr))\n",
    "    \n",
    "myaverage()"
   ]
  },
  {
   "cell_type": "code",
   "execution_count": 168,
   "metadata": {},
   "outputs": [
    {
     "name": "stdout",
     "output_type": "stream",
     "text": [
      "최대값은 9 입니다.\n",
      "최소값은 1 입니다.\n"
     ]
    }
   ],
   "source": [
    "# 19\n",
    "def get_max_min(data_list):\n",
    "    test_list = data_list\n",
    "    print('최대값은 %d 입니다.'%max(test_list))\n",
    "    print('최소값은 %d 입니다.'%min(test_list))\n",
    "    \n",
    "get_max_min([5,4,8,2,1,3,9,7])"
   ]
  },
  {
   "cell_type": "code",
   "execution_count": 178,
   "metadata": {},
   "outputs": [
    {
     "name": "stdout",
     "output_type": "stream",
     "text": [
      "['C:\\\\Users\\\\student\\\\Desktop\\\\TIL\\\\Deeplearning\\\\newFile.txt', 'C:\\\\Users\\\\student\\\\Desktop\\\\TIL\\\\Deeplearning\\\\newFile2.txt', 'C:\\\\Users\\\\student\\\\Desktop\\\\TIL\\\\Deeplearning\\\\test.txt', 'C:\\\\Users\\\\student\\\\Desktop\\\\TIL\\\\Deeplearning\\\\test2.txt', 'C:\\\\Users\\\\student\\\\Desktop\\\\TIL\\\\Deeplearning\\\\tozi.txt']\n"
     ]
    }
   ],
   "source": [
    "# 20\n",
    "def get_txt_list(path):\n",
    "    import glob\n",
    "    \n",
    "    file_list = glob.glob('%s\\*.txt'%path)\n",
    "    print(file_list)\n",
    "\n",
    "get_txt_list('C:\\\\Users\\student\\Desktop\\TIL\\Deeplearning')"
   ]
  },
  {
   "cell_type": "code",
   "execution_count": 194,
   "metadata": {},
   "outputs": [
    {
     "name": "stdout",
     "output_type": "stream",
     "text": [
      "19.886363636363637\n",
      "표준\n"
     ]
    }
   ],
   "source": [
    "# 21\n",
    "def BMItest(a,b):\n",
    "    weight = a\n",
    "    height = b * 0.01\n",
    "    BMI = weight / (height * 2)\n",
    "    print(BMI)\n",
    "    if BMI < 18.5:\n",
    "        print('마른체형')\n",
    "    elif 18.5 <= BMI < 25.0 :\n",
    "        print('표준')\n",
    "    elif 25.0 <= BMI < 30.0 :\n",
    "        print('비만')\n",
    "    elif 30.0 <= BMI :\n",
    "        print('고도비만')\n",
    "    \n",
    "BMItest(70,176)"
   ]
  },
  {
   "cell_type": "code",
   "execution_count": null,
   "metadata": {},
   "outputs": [
    {
     "name": "stdout",
     "output_type": "stream",
     "text": [
      "체중을 입력하시오 (단위 : kg)70\n",
      "키를 입력하시오 (단위 : cm)176\n",
      "당신의 BMI 는19이고 표준체형 입니다.\n",
      "체중을 입력하시오 (단위 : kg)50\n",
      "키를 입력하시오 (단위 : cm)142\n",
      "당신의 BMI 는17이고 마른체형 입니다.\n"
     ]
    }
   ],
   "source": [
    "# 22\n",
    "def BMItest():\n",
    "    weight = int(input('체중을 입력하시오 (단위 : kg)'))\n",
    "    height = int(input('키를 입력하시오 (단위 : cm)')) * 0.01\n",
    "    BMI = weight / (height * 2)\n",
    "    body_spec = ''\n",
    "    if BMI < 18.5:\n",
    "        body_spec ='마른'\n",
    "    elif 18.5 <= BMI < 25.0 :\n",
    "        body_spec ='표준'\n",
    "    elif 25.0 <= BMI < 30.0 :\n",
    "        body_spec ='비만'\n",
    "    elif 30.0 <= BMI :\n",
    "        body_spec ='고도비만'\n",
    "        \n",
    "    print('당신의 BMI 는%d이고 %s체형 입니다.'%(BMI, body_spec))\n",
    "\n",
    "while True:\n",
    "    BMItest()"
   ]
  },
  {
   "cell_type": "code",
   "execution_count": 3,
   "metadata": {},
   "outputs": [
    {
     "name": "stdout",
     "output_type": "stream",
     "text": [
      "밑변 2, 높이 5인 삼각형의 넓이는 5입니다.\n"
     ]
    }
   ],
   "source": [
    "# 23\n",
    "def get_triangle_area(width, height):\n",
    "    res = (width * height) / 2\n",
    "    print('밑변 %d, 높이 %d인 삼각형의 넓이는 %d입니다.' %(width, height, res))\n",
    "\n",
    "get_triangle_area(2,5)"
   ]
  },
  {
   "cell_type": "code",
   "execution_count": 6,
   "metadata": {},
   "outputs": [
    {
     "name": "stdout",
     "output_type": "stream",
     "text": [
      "1부터 100까지의 합은 5050입니다.\n"
     ]
    }
   ],
   "source": [
    "# 24\n",
    "def add_start_to_end(start, end):\n",
    "    Sum = sum(list(range(start,end+1)))\n",
    "    print('%d부터 %d까지의 합은 %d입니다.'%(start,end,Sum))\n",
    "    \n",
    "add_start_to_end(1,100)"
   ]
  },
  {
   "cell_type": "code",
   "execution_count": 12,
   "metadata": {},
   "outputs": [
    {
     "name": "stdout",
     "output_type": "stream",
     "text": [
      "['Seo', 'Dae', 'Kwa', 'Jej', 'sss']\n"
     ]
    }
   ],
   "source": [
    "# 25\n",
    "a =  ['Seoul', 'Daegu', 'Kwangju', 'Jeju','ssss']\n",
    "\n",
    "def three_chr_list(List):\n",
    "    res=[]\n",
    "    for i in range(len(List)):\n",
    "        res.append(List[i][:3])\n",
    "    print(res)\n",
    "\n",
    "three_chr_list(a)"
   ]
  },
  {
   "cell_type": "code",
   "execution_count": null,
   "metadata": {},
   "outputs": [],
   "source": []
  },
  {
   "cell_type": "code",
   "execution_count": null,
   "metadata": {},
   "outputs": [],
   "source": []
  },
  {
   "cell_type": "code",
   "execution_count": null,
   "metadata": {},
   "outputs": [],
   "source": []
  },
  {
   "cell_type": "code",
   "execution_count": null,
   "metadata": {},
   "outputs": [],
   "source": []
  },
  {
   "cell_type": "code",
   "execution_count": null,
   "metadata": {},
   "outputs": [],
   "source": []
  }
 ],
 "metadata": {
  "kernelspec": {
   "display_name": "Python 3",
   "language": "python",
   "name": "python3"
  },
  "language_info": {
   "codemirror_mode": {
    "name": "ipython",
    "version": 3
   },
   "file_extension": ".py",
   "mimetype": "text/x-python",
   "name": "python",
   "nbconvert_exporter": "python",
   "pygments_lexer": "ipython3",
   "version": "3.7.4"
  }
 },
 "nbformat": 4,
 "nbformat_minor": 2
}
