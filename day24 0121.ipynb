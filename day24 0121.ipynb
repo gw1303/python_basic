{
 "cells": [
  {
   "cell_type": "code",
   "execution_count": 3,
   "metadata": {},
   "outputs": [],
   "source": [
    "import numpy as np\n",
    "import pandas as pd\n",
    "\n",
    "from numpy import NaN,nan,NAN\n",
    "from pandas import DataFrame\n",
    "\n",
    "import warnings\n",
    "warnings.filterwarnings(action='ignore')"
   ]
  },
  {
   "cell_type": "markdown",
   "metadata": {},
   "source": [
    "# 배열 출 추가 : np.newaxis, np.tile()"
   ]
  },
  {
   "cell_type": "code",
   "execution_count": 9,
   "metadata": {},
   "outputs": [
    {
     "data": {
      "text/plain": [
       "array([[1, 2, 3, 4]])"
      ]
     },
     "execution_count": 9,
     "metadata": {},
     "output_type": "execute_result"
    }
   ],
   "source": [
    "a = np.array([1,2,3,4])\n",
    "a.shape  # 4,\n",
    "a41 = a[:,np.newaxis]\n",
    "a41  # 4,1\n",
    "a41 = a[np.newaxis,:]\n",
    "a41  # 1,4"
   ]
  },
  {
   "cell_type": "code",
   "execution_count": 16,
   "metadata": {},
   "outputs": [
    {
     "data": {
      "text/plain": [
       "(1, 3, 5)"
      ]
     },
     "execution_count": 16,
     "metadata": {},
     "output_type": "execute_result"
    }
   ],
   "source": [
    "b = np.arange(15).reshape(3,5)\n",
    "b\n",
    "b351 = b[ : , : , np.newaxis ]\n",
    "b351.shape  # 3 5 1\n",
    "b351 = b[ : , np.newaxis , : ]\n",
    "b351.shape  # 3 1 5\n",
    "b351 = b[ np.newaxis , : , : ]\n",
    "b351.shape  # 1 3 5"
   ]
  },
  {
   "cell_type": "code",
   "execution_count": 31,
   "metadata": {},
   "outputs": [
    {
     "data": {
      "text/plain": [
       "array([[0, 1, 2, 3],\n",
       "       [4, 5, 6, 7],\n",
       "       [0, 1, 2, 3],\n",
       "       [4, 5, 6, 7]])"
      ]
     },
     "execution_count": 31,
     "metadata": {},
     "output_type": "execute_result"
    }
   ],
   "source": [
    "a = np.array([0,1,2,3])\n",
    "a8 = np.tile(a,(2,1))\n",
    "a8\n",
    "\n",
    "b = np.arange(8).reshape(2,4)\n",
    "b28 = np.tile(b,(2,1))\n",
    "b28"
   ]
  },
  {
   "cell_type": "markdown",
   "metadata": {},
   "source": [
    "# 행렬의 내적 : a.T * a"
   ]
  },
  {
   "cell_type": "code",
   "execution_count": 41,
   "metadata": {},
   "outputs": [
    {
     "data": {
      "text/plain": [
       "array([ 0, 10, 10,  3,  4,  5,  6,  7,  8,  9])"
      ]
     },
     "execution_count": 41,
     "metadata": {},
     "output_type": "execute_result"
    }
   ],
   "source": [
    "a = np.arange(15).reshape(3,5)\n",
    "# 전치행렬\n",
    "a.T\n",
    "np.transpose(a)\n",
    "\n",
    "a = np.arange(10)\n",
    "a\n",
    "ai = a[:5]\n",
    "ai[1:3] = 10\n",
    "ai\n",
    "a   # a를 참조하고 있기 때문에 a도 데이터 변경\n"
   ]
  },
  {
   "cell_type": "code",
   "execution_count": 45,
   "metadata": {},
   "outputs": [
    {
     "data": {
      "text/plain": [
       "array([[ 0,  1,  2,  3],\n",
       "       [ 4,  5,  6,  7],\n",
       "       [ 8,  9, 10, 11],\n",
       "       [12, 13, 14, 15],\n",
       "       [16, 17, 18, 19]])"
      ]
     },
     "execution_count": 45,
     "metadata": {},
     "output_type": "execute_result"
    }
   ],
   "source": [
    "arr = np.arange(20).reshape(5,4)\n",
    "arr\n",
    "abc = np.array(['a','a','b','c','c'])\n",
    "abc\n",
    "arr"
   ]
  },
  {
   "cell_type": "code",
   "execution_count": 51,
   "metadata": {},
   "outputs": [
    {
     "data": {
      "text/plain": [
       "array([[ 0,  1,  2,  3],\n",
       "       [ 4,  5,  6,  7],\n",
       "       [ 8,  9, 10, 11]])"
      ]
     },
     "execution_count": 51,
     "metadata": {},
     "output_type": "execute_result"
    }
   ],
   "source": [
    "arr[abc=='a']\n",
    "arr[abc=='a',:]\n",
    "\n",
    "arr[abc=='a',:2]\n",
    "arr[abc=='a',2]\n",
    "\n",
    "arr[abc!='a']\n",
    "\n",
    "arr[(abc=='a') | (abc=='b')]"
   ]
  },
  {
   "cell_type": "code",
   "execution_count": 60,
   "metadata": {},
   "outputs": [
    {
     "data": {
      "text/plain": [
       "array([[ 0,  0,  0,  0],\n",
       "       [ 0,  0,  0,  0],\n",
       "       [10, 10, 10, 10],\n",
       "       [10, 10, 10, 10],\n",
       "       [16, 17, 18, 19]])"
      ]
     },
     "execution_count": 60,
     "metadata": {},
     "output_type": "execute_result"
    }
   ],
   "source": [
    "arr[(abc=='a')] = 99\n",
    "arr\n",
    "\n",
    "arr[arr>20] = 0\n",
    "arr\n",
    "\n",
    "arr[(arr>=8) & (arr<=15)] = 10\n",
    "arr"
   ]
  },
  {
   "cell_type": "code",
   "execution_count": 70,
   "metadata": {},
   "outputs": [
    {
     "data": {
      "text/plain": [
       "array([-3., -2.,  0.,  1.,  3.,  4.])"
      ]
     },
     "execution_count": 70,
     "metadata": {},
     "output_type": "execute_result"
    }
   ],
   "source": [
    "a = np.array([-3.5,-2.2,0,1.6,3.14,4.05])\n",
    "\n",
    "# 0.5 기준 내림 or 올림\n",
    "np.around(a)\n",
    "# 반올림, 소수이하 첫째자리\n",
    "np.round_(a,1)  \n",
    "# 가까운 정수로 올림 또는 내림\n",
    "np.rint(a)\n",
    "# 0방향으로 가까운 정수로 올림 또는 내림\n",
    "np.fix(a)\n",
    "# 값보다 크거나 같은 가장 작은 정수값으로 올림\n",
    "np.ceil(a)\n",
    "np.floor(a) # 값보다 작거나 같은 가장 큰 정수값으로 내림\n",
    "# 소수 이하 버림\n",
    "np.trunc(a)"
   ]
  },
  {
   "cell_type": "code",
   "execution_count": 79,
   "metadata": {},
   "outputs": [
    {
     "data": {
      "text/plain": [
       "array([ 2, 12])"
      ]
     },
     "execution_count": 79,
     "metadata": {},
     "output_type": "execute_result"
    }
   ],
   "source": [
    "a = np.array([1,2,3,4])\n",
    "c = np.arange(1,5).reshape(2,2)\n",
    "\n",
    "# 벼열 요소값 곱셈\n",
    "np.prod(c)\n",
    "np.prod(c, axis=0)  # 열\n",
    "np.prod(c, axis=1)  # 행"
   ]
  },
  {
   "cell_type": "code",
   "execution_count": 89,
   "metadata": {},
   "outputs": [
    {
     "data": {
      "text/plain": [
       "array([3, 7])"
      ]
     },
     "execution_count": 89,
     "metadata": {},
     "output_type": "execute_result"
    }
   ],
   "source": [
    "np.sum(a)  # 0차원, 스칼라\n",
    "a\n",
    "np.sum(a, keepdims=True)  # 1차원, 벡터\n",
    "np.sum(c, axis=0)\n",
    "np.sum(c, axis=1)"
   ]
  },
  {
   "cell_type": "code",
   "execution_count": 97,
   "metadata": {},
   "outputs": [
    {
     "data": {
      "text/plain": [
       "array([4., 2.])"
      ]
     },
     "execution_count": 97,
     "metadata": {},
     "output_type": "execute_result"
    }
   ],
   "source": [
    "d = np.array([[1,2],[3,nan]])\n",
    "d\n",
    "np.prod(d)\n",
    "np.prod(d, axis=0)  # 열\n",
    "np.prod(d, axis=1)  # 행\n",
    "\n",
    "# np.nanprod : 곱셈할 때 nan을 1로 간주해서 곱셈\n",
    "np.nanprod(d, axis=0)\n",
    "np.nanprod(d, axis=1)\n",
    "# np.nansum : 덧셈할 때 nan을 0으로 간주해서 덧셈\n",
    "np.nansum(d)\n",
    "np.nansum(d, axis=0)"
   ]
  },
  {
   "cell_type": "code",
   "execution_count": 103,
   "metadata": {},
   "outputs": [
    {
     "data": {
      "text/plain": [
       "array([[  1,   2,   6],\n",
       "       [  4,  20, 120]], dtype=int32)"
      ]
     },
     "execution_count": 103,
     "metadata": {},
     "output_type": "execute_result"
    }
   ],
   "source": [
    "a\n",
    "b = np.arange(1,7).reshape(2,3)\n",
    "b\n",
    "np.cumprod(a)\n",
    "np.cumprod(b, axis=1)"
   ]
  },
  {
   "cell_type": "code",
   "execution_count": 107,
   "metadata": {},
   "outputs": [
    {
     "data": {
      "text/plain": [
       "array([-16.60964047,   0.        ,   1.        ,   3.32192809])"
      ]
     },
     "execution_count": 107,
     "metadata": {},
     "output_type": "execute_result"
    }
   ],
   "source": [
    "# 지수함수 : np.exp(), 밑이 자연상수 e인 지수함수로 변환\n",
    "# 자연상수e, y=logx or y=ln(x)\n",
    "\n",
    "x = np.array([0.00001, 1, 2 , 10])\n",
    "np.exp(x)\n",
    "\n",
    "np.log(x)\n",
    "np.log10(x)\n",
    "np.log2(x)"
   ]
  },
  {
   "cell_type": "code",
   "execution_count": 109,
   "metadata": {},
   "outputs": [],
   "source": [
    "import missingno as msno"
   ]
  },
  {
   "cell_type": "code",
   "execution_count": 111,
   "metadata": {},
   "outputs": [
    {
     "data": {
      "text/plain": [
       "(6493, 9)"
      ]
     },
     "execution_count": 111,
     "metadata": {},
     "output_type": "execute_result"
    }
   ],
   "source": [
    "train = pd.read_csv('train2.csv', parse_dates=['datetime'])\n",
    "test = pd.read_csv('test2.csv', parse_dates=['datetime'])\n",
    "# train.info()\n",
    "train.head()\n",
    "test.shape"
   ]
  },
  {
   "cell_type": "code",
   "execution_count": 113,
   "metadata": {},
   "outputs": [
    {
     "data": {
      "text/plain": [
       "datetime      0\n",
       "season        0\n",
       "holiday       0\n",
       "workingday    0\n",
       "weather       0\n",
       "temp          0\n",
       "atemp         0\n",
       "humidity      0\n",
       "windspeed     0\n",
       "dtype: int64"
      ]
     },
     "execution_count": 113,
     "metadata": {},
     "output_type": "execute_result"
    }
   ],
   "source": [
    "test.describe()\n",
    "test.isnull().sum()"
   ]
  },
  {
   "cell_type": "code",
   "execution_count": 118,
   "metadata": {},
   "outputs": [],
   "source": [
    "# Feature Engineering\n",
    "# 데이터 전처리, 파생변수 생성 .. \n",
    "train['year'] = train['datetime'].dt.year\n",
    "train['month'] = train['datetime'].dt.month\n",
    "train['day'] = train['datetime'].dt.day\n",
    "train['hour'] = train['datetime'].dt.hour\n",
    "train['minute'] = train['datetime'].dt.minute\n",
    "train['second'] = train['datetime'].dt.second\n",
    "train['dayofweek'] = train['datetime'].dt.dayofweek\n",
    "\n",
    "test['year'] = test['datetime'].dt.year\n",
    "test['month'] = test['datetime'].dt.month\n",
    "test['day'] = test['datetime'].dt.day\n",
    "test['hour'] = test['datetime'].dt.hour\n",
    "test['minute'] = test['datetime'].dt.minute\n",
    "test['second'] = test['datetime'].dt.second\n",
    "test['dayofweek'] = test['datetime'].dt.dayofweek\n",
    "\n",
    "train.shape\n",
    "test.shape"
   ]
  },
  {
   "cell_type": "markdown",
   "metadata": {},
   "source": [
    "# 시각화"
   ]
  },
  {
   "cell_type": "code",
   "execution_count": 121,
   "metadata": {},
   "outputs": [],
   "source": [
    "import matplotlib.pyplot as plt\n",
    "import seaborn as sns\n",
    "from scipy import stats"
   ]
  },
  {
   "cell_type": "code",
   "execution_count": 135,
   "metadata": {},
   "outputs": [
    {
     "data": {
      "text/plain": [
       "<matplotlib.axes._subplots.AxesSubplot at 0x24f8cec0208>"
      ]
     },
     "execution_count": 135,
     "metadata": {},
     "output_type": "execute_result"
    },
    {
     "data": {
      "image/png": "[encoded data removed]",
      "text/plain": [
       "<Figure size 1080x720 with 2 Axes>"
      ]
     },
     "metadata": {
      "needs_background": "light"
     },
     "output_type": "display_data"
    }
   ],
   "source": [
    "fig, axes = plt.subplots(nrows=2)\n",
    "fig.set_size_inches(15,10)\n",
    "\n",
    "# sca(set current axis)\n",
    "plt.sca(axes[0])\n",
    "plt.xticks(rotation=30)\n",
    "plt.sca(axes[1])\n",
    "plt.xticks(rotation=60)\n",
    "sns.countplot(data = train, x='windspeed', ax=axes[0])\n",
    "sns.countplot(data = train, x='windspeed', ax=axes[1])"
   ]
  },
  {
   "cell_type": "code",
   "execution_count": 139,
   "metadata": {},
   "outputs": [
    {
     "data": {
      "text/plain": [
       "5         6.0032\n",
       "10       16.9979\n",
       "11       19.0012\n",
       "12       19.0012\n",
       "13       19.9995\n",
       "          ...   \n",
       "10881    26.0027\n",
       "10882    15.0013\n",
       "10883    15.0013\n",
       "10884     6.0032\n",
       "10885     8.9981\n",
       "Name: windspeed, Length: 9573, dtype: float64"
      ]
     },
     "execution_count": 139,
     "metadata": {},
     "output_type": "execute_result"
    }
   ],
   "source": [
    "trainWind0 = train.loc[train['windspeed']==0,'windspeed']\n",
    "trainWindNot0 = train.loc[train['windspeed']!=0,'windspeed']\n",
    "trainWind0  # 1313\n",
    "trainWindNot0  # 9573"
   ]
  },
  {
   "cell_type": "code",
   "execution_count": 151,
   "metadata": {},
   "outputs": [],
   "source": [
    "# 머신러닝의 랜덤포레스트로 풍속 예측\n",
    "from sklearn.ensemble import RandomForestClassifier\n",
    "\n",
    "def predict_windspeed(data):\n",
    "    # data의 windspeed값이 0인 데이터를 rf를 이용하여 예측한 값으로 대체\n",
    "    \n",
    "    # 퐁속 예측에 사용되는 변수\n",
    "    wCol = ['season','weather','humidity', 'temp', 'year', 'atemp']\n",
    "    \n",
    "    # 풍속이 0인것과 아닌것으로 구분\n",
    "    dataWind0 = data.loc[data['windspeed']==0]\n",
    "    dataWindNot0 = data.loc[data['windspeed']!=0]\n",
    "    \n",
    "    # 랜덤포레스트 분류기 생성\n",
    "    rfModel = RandomForestClassifier()\n",
    "    \n",
    "    # Classifier를 사용하기 위해선 타입이 str이여야함\n",
    "    dataWindNot0['windspeed'] = dataWindNot0['windspeed'].astype('str')\n",
    "    \n",
    "    # wCol -> 풍속 학습 -> 모델 완성\n",
    "    rfModel.fit(dataWindNot0[wCol] ,dataWindNot0['windspeed'])\n",
    "    \n",
    "    # 학습된 모델로 풍속 0에 대한 데이터 예측\n",
    "    preValue = rfModel.predict(dataWind0[wCol])\n",
    "    \n",
    "    predictWind0 = dataWind0\n",
    "    predictWindNot0 = dataWindNot0\n",
    "    \n",
    "    predictWind0['windspeed'] = preValue\n",
    "    \n",
    "    data = predictWindNot0.append(predictWind0)\n",
    "    \n",
    "    # 인덱스 초기화\n",
    "    data.reset_index(inplace=True)\n",
    "    data.drop('index', inplace=True, axis=1)\n",
    "    return data\n",
    "\n",
    "train = predict_windspeed(train)\n",
    "test = predict_windspeed(test)"
   ]
  },
  {
   "cell_type": "code",
   "execution_count": 153,
   "metadata": {},
   "outputs": [
    {
     "data": {
      "text/plain": [
       "<matplotlib.axes._subplots.AxesSubplot at 0x24f8dceef48>"
      ]
     },
     "execution_count": 153,
     "metadata": {},
     "output_type": "execute_result"
    },
    {
     "data": {
      "image/png": "[encoded data removed]",
      "text/plain": [
       "<Figure size 1080x720 with 1 Axes>"
      ]
     },
     "metadata": {
      "needs_background": "light"
     },
     "output_type": "display_data"
    }
   ],
   "source": [
    "fig,ax1 = plt.subplots()\n",
    "fig.set_size_inches(15,10)\n",
    "plt.sca(ax1)\n",
    "plt.xticks(rotation=30)\n",
    "sns.countplot(data = train, x='windspeed', ax=ax1)"
   ]
  },
  {
   "cell_type": "markdown",
   "metadata": {},
   "source": [
    "# feature(변수) selection\n",
    "( ??? ) -> count?\n",
    "\n",
    "연속형(temp, humidity, windspeed, atemp .. ), 범주형(season, weather, dayofweek ..)\n",
    "\n",
    "범주형 변수는 타입을 category로 변경"
   ]
  },
  {
   "cell_type": "code",
   "execution_count": 169,
   "metadata": {},
   "outputs": [
    {
     "name": "stdout",
     "output_type": "stream",
     "text": [
      "<class 'pandas.core.frame.DataFrame'>\n",
      "RangeIndex: 10886 entries, 0 to 10885\n",
      "Data columns (total 19 columns):\n",
      "datetime      10886 non-null datetime64[ns]\n",
      "season        10886 non-null category\n",
      "holiday       10886 non-null category\n",
      "workingday    10886 non-null category\n",
      "weather       10886 non-null category\n",
      "temp          10886 non-null float64\n",
      "atemp         10886 non-null float64\n",
      "humidity      10886 non-null int64\n",
      "windspeed     10886 non-null object\n",
      "casual        10886 non-null int64\n",
      "registered    10886 non-null int64\n",
      "count         10886 non-null int64\n",
      "year          10886 non-null category\n",
      "month         10886 non-null category\n",
      "day           10886 non-null int64\n",
      "hour          10886 non-null category\n",
      "minute        10886 non-null int64\n",
      "second        10886 non-null int64\n",
      "dayofweek     10886 non-null category\n",
      "dtypes: category(8), datetime64[ns](1), float64(2), int64(7), object(1)\n",
      "memory usage: 1022.9+ KB\n"
     ]
    }
   ],
   "source": [
    "\n",
    "\n",
    "train['season'].dtype  # int64\n",
    "train['season'] = train['season'].astype('category')\n",
    "test['season'] = test['season'].astype('category')\n",
    "\n",
    "train.columns\n",
    "\n",
    "# feature 이름 리스트\n",
    "feature_names =['season', 'holiday', 'workingday', 'weather', 'temp',\n",
    "                'atemp', 'humidity', 'windspeed', 'year', 'hour', 'dayofweek']\n",
    "\n",
    "# 범주형 컬럼 리스트\n",
    "c_f_n = ['season', 'holiday', 'workingday', 'weather', 'year', 'month', 'hour', 'dayofweek']\n",
    "for v in c_f_n:\n",
    "    train[v] = train[v].astype('category')\n",
    "    test[v] = test[v].astype('category')\n",
    "train.info()"
   ]
  },
  {
   "cell_type": "code",
   "execution_count": 172,
   "metadata": {},
   "outputs": [
    {
     "data": {
      "text/plain": [
       "(6493, 11)"
      ]
     },
     "execution_count": 172,
     "metadata": {},
     "output_type": "execute_result"
    }
   ],
   "source": [
    "xtrain = train[feature_names]\n",
    "xtrain.shape\n",
    "xtest = test[feature_names]\n",
    "xtest.shape"
   ]
  },
  {
   "cell_type": "code",
   "execution_count": 174,
   "metadata": {},
   "outputs": [
    {
     "data": {
      "text/plain": [
       "(10886,)"
      ]
     },
     "execution_count": 174,
     "metadata": {},
     "output_type": "execute_result"
    }
   ],
   "source": [
    "ytrain = train['count']  # 레이블(정답)\n",
    "ytrain.shape"
   ]
  },
  {
   "cell_type": "code",
   "execution_count": 199,
   "metadata": {},
   "outputs": [],
   "source": [
    "# RMSLE 구하는 함수 구현\n",
    "def rmsle(predicted_value, acture_value):\n",
    "    \n",
    "    # 넘파이 배열로의 변환\n",
    "    predicted_value = np.array(predicted_value)\n",
    "    acture_value = np.array(acture_value)\n",
    "    \n",
    "    log_predicted = np.log(predicted_value+1)\n",
    "    log_acture = np.log(acture_value+1)\n",
    "    \n",
    "    diff = log_predicted - log_acture\n",
    "    \n",
    "    # 제곱  # diff ** 2\n",
    "    diff = np.square(diff)\n",
    "    # 평균\n",
    "    mean_diff = diff.mean()\n",
    "    # 제곱근\n",
    "    score = np.sqrt(mean_diff)\n",
    "    \n",
    "    return score"
   ]
  },
  {
   "cell_type": "code",
   "execution_count": 200,
   "metadata": {},
   "outputs": [],
   "source": [
    "# \n",
    "from sklearn.metrics import make_scorer"
   ]
  },
  {
   "cell_type": "code",
   "execution_count": 201,
   "metadata": {},
   "outputs": [
    {
     "data": {
      "text/plain": [
       "make_scorer(rmsle)"
      ]
     },
     "execution_count": 201,
     "metadata": {},
     "output_type": "execute_result"
    }
   ],
   "source": [
    "rmsle_scorer = make_scorer(rmsle)\n",
    "rmsle_scorer"
   ]
  },
  {
   "cell_type": "code",
   "execution_count": null,
   "metadata": {},
   "outputs": [],
   "source": [
    "# k-fold cross_validation (교차검증) p.127\n",
    "'''\n",
    "<  4 - fold cross_validation  >\n",
    "data : 400개\n",
    "1 2 3 4 : 4개의 폴드 // 각각 100개의 data\n",
    "1 2 3   : train,\n",
    "      4 : test\n",
    "                    => 모델 평가(80)\n",
    "1 2   4  : train,\n",
    "    3    : test\n",
    "                    => 모델 평가(70)\n",
    "1   3 4  : train,\n",
    "  2      : test\n",
    "                    => 모델 평가(80)\n",
    "  2  3  4 : train,\n",
    "1         : test\n",
    "                    => 모델 평가(70)\n",
    "'''"
   ]
  },
  {
   "cell_type": "code",
   "execution_count": 183,
   "metadata": {},
   "outputs": [],
   "source": [
    "from sklearn.model_selection import KFold\n",
    "from sklearn.model_selection import cross_val_score"
   ]
  },
  {
   "cell_type": "code",
   "execution_count": 185,
   "metadata": {},
   "outputs": [
    {
     "data": {
      "text/plain": [
       "KFold(n_splits=10, random_state=42, shuffle=True)"
      ]
     },
     "execution_count": 185,
     "metadata": {},
     "output_type": "execute_result"
    }
   ],
   "source": [
    "kfold = KFold(n_splits=10, shuffle=True, random_state=42)\n",
    "kfold"
   ]
  },
  {
   "cell_type": "code",
   "execution_count": 186,
   "metadata": {},
   "outputs": [],
   "source": [
    "from sklearn.ensemble import RandomForestRegressor"
   ]
  },
  {
   "cell_type": "code",
   "execution_count": 238,
   "metadata": {},
   "outputs": [],
   "source": [
    "# n_estimators= 모델을 몇개정도 만들것인가\n",
    "# n_jobs= 코어의 개수 (최적 : -1)\n",
    "\n",
    "model = RandomForestRegressor(n_estimators=80, n_jobs=-1, random_state=42)"
   ]
  },
  {
   "cell_type": "code",
   "execution_count": 239,
   "metadata": {},
   "outputs": [
    {
     "name": "stdout",
     "output_type": "stream",
     "text": [
      "Wall time: 14.4 s\n",
      "0.33092432505105757\n"
     ]
    }
   ],
   "source": [
    "%time score = cross_val_score(medel, xtrain, ytrain, cv=kfold, scoring = rmsle_scorer)\n",
    "print(score.mean())"
   ]
  },
  {
   "cell_type": "code",
   "execution_count": 240,
   "metadata": {},
   "outputs": [],
   "source": [
    "model = model.fit(xtrain, ytrain)"
   ]
  },
  {
   "cell_type": "code",
   "execution_count": 241,
   "metadata": {},
   "outputs": [],
   "source": [
    "prediction = model.predict(xtest)"
   ]
  },
  {
   "cell_type": "code",
   "execution_count": 242,
   "metadata": {},
   "outputs": [
    {
     "data": {
      "text/plain": [
       "(6493,)"
      ]
     },
     "execution_count": 242,
     "metadata": {},
     "output_type": "execute_result"
    }
   ],
   "source": [
    "prediction.shape"
   ]
  },
  {
   "cell_type": "code",
   "execution_count": 243,
   "metadata": {},
   "outputs": [],
   "source": [
    "submmsion = pd.read_csv('sampleSubmission2.csv')\n",
    "submmsion['count'] = prediction"
   ]
  },
  {
   "cell_type": "code",
   "execution_count": 244,
   "metadata": {},
   "outputs": [],
   "source": [
    "submmsion.to_csv('class_sub.csv', index=False)"
   ]
  },
  {
   "cell_type": "code",
   "execution_count": null,
   "metadata": {},
   "outputs": [],
   "source": []
  },
  {
   "cell_type": "code",
   "execution_count": null,
   "metadata": {},
   "outputs": [],
   "source": [
    "'''연습문제'''"
   ]
  },
  {
   "cell_type": "code",
   "execution_count": 251,
   "metadata": {},
   "outputs": [
    {
     "data": {
      "text/html": [
       "<div>\n",
       "<style scoped>\n",
       "    .dataframe tbody tr th:only-of-type {\n",
       "        vertical-align: middle;\n",
       "    }\n",
       "\n",
       "    .dataframe tbody tr th {\n",
       "        vertical-align: top;\n",
       "    }\n",
       "\n",
       "    .dataframe thead th {\n",
       "        text-align: right;\n",
       "    }\n",
       "</style>\n",
       "<table border=\"1\" class=\"dataframe\">\n",
       "  <thead>\n",
       "    <tr style=\"text-align: right;\">\n",
       "      <th></th>\n",
       "      <th>반</th>\n",
       "      <th>번호</th>\n",
       "      <th>국어</th>\n",
       "      <th>영어</th>\n",
       "      <th>수학</th>\n",
       "    </tr>\n",
       "  </thead>\n",
       "  <tbody>\n",
       "    <tr>\n",
       "      <td>0</td>\n",
       "      <td>A</td>\n",
       "      <td>1</td>\n",
       "      <td>90</td>\n",
       "      <td>100</td>\n",
       "      <td>80</td>\n",
       "    </tr>\n",
       "    <tr>\n",
       "      <td>1</td>\n",
       "      <td>A</td>\n",
       "      <td>2</td>\n",
       "      <td>80</td>\n",
       "      <td>90</td>\n",
       "      <td>100</td>\n",
       "    </tr>\n",
       "    <tr>\n",
       "      <td>2</td>\n",
       "      <td>A</td>\n",
       "      <td>3</td>\n",
       "      <td>90</td>\n",
       "      <td>100</td>\n",
       "      <td>80</td>\n",
       "    </tr>\n",
       "    <tr>\n",
       "      <td>3</td>\n",
       "      <td>A</td>\n",
       "      <td>4</td>\n",
       "      <td>70</td>\n",
       "      <td>80</td>\n",
       "      <td>90</td>\n",
       "    </tr>\n",
       "    <tr>\n",
       "      <td>4</td>\n",
       "      <td>A</td>\n",
       "      <td>5</td>\n",
       "      <td>100</td>\n",
       "      <td>70</td>\n",
       "      <td>80</td>\n",
       "    </tr>\n",
       "    <tr>\n",
       "      <td>5</td>\n",
       "      <td>B</td>\n",
       "      <td>1</td>\n",
       "      <td>80</td>\n",
       "      <td>90</td>\n",
       "      <td>100</td>\n",
       "    </tr>\n",
       "    <tr>\n",
       "      <td>6</td>\n",
       "      <td>B</td>\n",
       "      <td>2</td>\n",
       "      <td>90</td>\n",
       "      <td>100</td>\n",
       "      <td>70</td>\n",
       "    </tr>\n",
       "    <tr>\n",
       "      <td>7</td>\n",
       "      <td>B</td>\n",
       "      <td>3</td>\n",
       "      <td>100</td>\n",
       "      <td>70</td>\n",
       "      <td>80</td>\n",
       "    </tr>\n",
       "    <tr>\n",
       "      <td>8</td>\n",
       "      <td>B</td>\n",
       "      <td>4</td>\n",
       "      <td>70</td>\n",
       "      <td>80</td>\n",
       "      <td>90</td>\n",
       "    </tr>\n",
       "    <tr>\n",
       "      <td>9</td>\n",
       "      <td>B</td>\n",
       "      <td>5</td>\n",
       "      <td>80</td>\n",
       "      <td>90</td>\n",
       "      <td>100</td>\n",
       "    </tr>\n",
       "  </tbody>\n",
       "</table>\n",
       "</div>"
      ],
      "text/plain": [
       "   반  번호   국어   영어   수학\n",
       "0  A   1   90  100   80\n",
       "1  A   2   80   90  100\n",
       "2  A   3   90  100   80\n",
       "3  A   4   70   80   90\n",
       "4  A   5  100   70   80\n",
       "5  B   1   80   90  100\n",
       "6  B   2   90  100   70\n",
       "7  B   3  100   70   80\n",
       "8  B   4   70   80   90\n",
       "9  B   5   80   90  100"
      ]
     },
     "execution_count": 251,
     "metadata": {},
     "output_type": "execute_result"
    }
   ],
   "source": [
    "df = pd.read_csv('df_score2.csv', sep='\\t')\n",
    "df"
   ]
  },
  {
   "cell_type": "code",
   "execution_count": 253,
   "metadata": {},
   "outputs": [
    {
     "data": {
      "text/html": [
       "<div>\n",
       "<style scoped>\n",
       "    .dataframe tbody tr th:only-of-type {\n",
       "        vertical-align: middle;\n",
       "    }\n",
       "\n",
       "    .dataframe tbody tr th {\n",
       "        vertical-align: top;\n",
       "    }\n",
       "\n",
       "    .dataframe thead th {\n",
       "        text-align: right;\n",
       "    }\n",
       "</style>\n",
       "<table border=\"1\" class=\"dataframe\">\n",
       "  <thead>\n",
       "    <tr style=\"text-align: right;\">\n",
       "      <th></th>\n",
       "      <th></th>\n",
       "      <th>국어</th>\n",
       "      <th>수학</th>\n",
       "      <th>영어</th>\n",
       "    </tr>\n",
       "    <tr>\n",
       "      <th>반</th>\n",
       "      <th>번호</th>\n",
       "      <th></th>\n",
       "      <th></th>\n",
       "      <th></th>\n",
       "    </tr>\n",
       "  </thead>\n",
       "  <tbody>\n",
       "    <tr>\n",
       "      <td rowspan=\"5\" valign=\"top\">A</td>\n",
       "      <td>1</td>\n",
       "      <td>90</td>\n",
       "      <td>80</td>\n",
       "      <td>100</td>\n",
       "    </tr>\n",
       "    <tr>\n",
       "      <td>2</td>\n",
       "      <td>80</td>\n",
       "      <td>100</td>\n",
       "      <td>90</td>\n",
       "    </tr>\n",
       "    <tr>\n",
       "      <td>3</td>\n",
       "      <td>90</td>\n",
       "      <td>80</td>\n",
       "      <td>100</td>\n",
       "    </tr>\n",
       "    <tr>\n",
       "      <td>4</td>\n",
       "      <td>70</td>\n",
       "      <td>90</td>\n",
       "      <td>80</td>\n",
       "    </tr>\n",
       "    <tr>\n",
       "      <td>5</td>\n",
       "      <td>100</td>\n",
       "      <td>80</td>\n",
       "      <td>70</td>\n",
       "    </tr>\n",
       "    <tr>\n",
       "      <td rowspan=\"5\" valign=\"top\">B</td>\n",
       "      <td>1</td>\n",
       "      <td>80</td>\n",
       "      <td>100</td>\n",
       "      <td>90</td>\n",
       "    </tr>\n",
       "    <tr>\n",
       "      <td>2</td>\n",
       "      <td>90</td>\n",
       "      <td>70</td>\n",
       "      <td>100</td>\n",
       "    </tr>\n",
       "    <tr>\n",
       "      <td>3</td>\n",
       "      <td>100</td>\n",
       "      <td>80</td>\n",
       "      <td>70</td>\n",
       "    </tr>\n",
       "    <tr>\n",
       "      <td>4</td>\n",
       "      <td>70</td>\n",
       "      <td>90</td>\n",
       "      <td>80</td>\n",
       "    </tr>\n",
       "    <tr>\n",
       "      <td>5</td>\n",
       "      <td>80</td>\n",
       "      <td>100</td>\n",
       "      <td>90</td>\n",
       "    </tr>\n",
       "  </tbody>\n",
       "</table>\n",
       "</div>"
      ],
      "text/plain": [
       "       국어   수학   영어\n",
       "반 번호               \n",
       "A 1    90   80  100\n",
       "  2    80  100   90\n",
       "  3    90   80  100\n",
       "  4    70   90   80\n",
       "  5   100   80   70\n",
       "B 1    80  100   90\n",
       "  2    90   70  100\n",
       "  3   100   80   70\n",
       "  4    70   90   80\n",
       "  5    80  100   90"
      ]
     },
     "execution_count": 253,
     "metadata": {},
     "output_type": "execute_result"
    }
   ],
   "source": [
    "df_pivot = df.pivot_table(index=['반','번호'])\n",
    "df_pivot"
   ]
  },
  {
   "cell_type": "code",
   "execution_count": 256,
   "metadata": {},
   "outputs": [
    {
     "data": {
      "text/html": [
       "<div>\n",
       "<style scoped>\n",
       "    .dataframe tbody tr th:only-of-type {\n",
       "        vertical-align: middle;\n",
       "    }\n",
       "\n",
       "    .dataframe tbody tr th {\n",
       "        vertical-align: top;\n",
       "    }\n",
       "\n",
       "    .dataframe thead th {\n",
       "        text-align: right;\n",
       "    }\n",
       "</style>\n",
       "<table border=\"1\" class=\"dataframe\">\n",
       "  <thead>\n",
       "    <tr style=\"text-align: right;\">\n",
       "      <th></th>\n",
       "      <th></th>\n",
       "      <th>국어</th>\n",
       "      <th>수학</th>\n",
       "      <th>영어</th>\n",
       "      <th>평균</th>\n",
       "    </tr>\n",
       "    <tr>\n",
       "      <th>반</th>\n",
       "      <th>번호</th>\n",
       "      <th></th>\n",
       "      <th></th>\n",
       "      <th></th>\n",
       "      <th></th>\n",
       "    </tr>\n",
       "  </thead>\n",
       "  <tbody>\n",
       "    <tr>\n",
       "      <td rowspan=\"5\" valign=\"top\">A</td>\n",
       "      <td>1</td>\n",
       "      <td>90</td>\n",
       "      <td>80</td>\n",
       "      <td>100</td>\n",
       "      <td>90.000000</td>\n",
       "    </tr>\n",
       "    <tr>\n",
       "      <td>2</td>\n",
       "      <td>80</td>\n",
       "      <td>100</td>\n",
       "      <td>90</td>\n",
       "      <td>90.000000</td>\n",
       "    </tr>\n",
       "    <tr>\n",
       "      <td>3</td>\n",
       "      <td>90</td>\n",
       "      <td>80</td>\n",
       "      <td>100</td>\n",
       "      <td>90.000000</td>\n",
       "    </tr>\n",
       "    <tr>\n",
       "      <td>4</td>\n",
       "      <td>70</td>\n",
       "      <td>90</td>\n",
       "      <td>80</td>\n",
       "      <td>80.000000</td>\n",
       "    </tr>\n",
       "    <tr>\n",
       "      <td>5</td>\n",
       "      <td>100</td>\n",
       "      <td>80</td>\n",
       "      <td>70</td>\n",
       "      <td>83.333333</td>\n",
       "    </tr>\n",
       "    <tr>\n",
       "      <td rowspan=\"5\" valign=\"top\">B</td>\n",
       "      <td>1</td>\n",
       "      <td>80</td>\n",
       "      <td>100</td>\n",
       "      <td>90</td>\n",
       "      <td>90.000000</td>\n",
       "    </tr>\n",
       "    <tr>\n",
       "      <td>2</td>\n",
       "      <td>90</td>\n",
       "      <td>70</td>\n",
       "      <td>100</td>\n",
       "      <td>86.666667</td>\n",
       "    </tr>\n",
       "    <tr>\n",
       "      <td>3</td>\n",
       "      <td>100</td>\n",
       "      <td>80</td>\n",
       "      <td>70</td>\n",
       "      <td>83.333333</td>\n",
       "    </tr>\n",
       "    <tr>\n",
       "      <td>4</td>\n",
       "      <td>70</td>\n",
       "      <td>90</td>\n",
       "      <td>80</td>\n",
       "      <td>80.000000</td>\n",
       "    </tr>\n",
       "    <tr>\n",
       "      <td>5</td>\n",
       "      <td>80</td>\n",
       "      <td>100</td>\n",
       "      <td>90</td>\n",
       "      <td>90.000000</td>\n",
       "    </tr>\n",
       "  </tbody>\n",
       "</table>\n",
       "</div>"
      ],
      "text/plain": [
       "       국어   수학   영어         평균\n",
       "반 번호                          \n",
       "A 1    90   80  100  90.000000\n",
       "  2    80  100   90  90.000000\n",
       "  3    90   80  100  90.000000\n",
       "  4    70   90   80  80.000000\n",
       "  5   100   80   70  83.333333\n",
       "B 1    80  100   90  90.000000\n",
       "  2    90   70  100  86.666667\n",
       "  3   100   80   70  83.333333\n",
       "  4    70   90   80  80.000000\n",
       "  5    80  100   90  90.000000"
      ]
     },
     "execution_count": 256,
     "metadata": {},
     "output_type": "execute_result"
    }
   ],
   "source": [
    "df_pivot['평균'] = df_pivot.mean(axis=1)\n",
    "df_pivot"
   ]
  },
  {
   "cell_type": "code",
   "execution_count": 259,
   "metadata": {},
   "outputs": [
    {
     "data": {
      "text/html": [
       "<div>\n",
       "<style scoped>\n",
       "    .dataframe tbody tr th:only-of-type {\n",
       "        vertical-align: middle;\n",
       "    }\n",
       "\n",
       "    .dataframe tbody tr th {\n",
       "        vertical-align: top;\n",
       "    }\n",
       "\n",
       "    .dataframe thead tr th {\n",
       "        text-align: left;\n",
       "    }\n",
       "\n",
       "    .dataframe thead tr:last-of-type th {\n",
       "        text-align: right;\n",
       "    }\n",
       "</style>\n",
       "<table border=\"1\" class=\"dataframe\">\n",
       "  <thead>\n",
       "    <tr>\n",
       "      <th></th>\n",
       "      <th colspan=\"2\" halign=\"left\">국어</th>\n",
       "      <th colspan=\"2\" halign=\"left\">수학</th>\n",
       "      <th colspan=\"2\" halign=\"left\">영어</th>\n",
       "    </tr>\n",
       "    <tr>\n",
       "      <th>반</th>\n",
       "      <th>A</th>\n",
       "      <th>B</th>\n",
       "      <th>A</th>\n",
       "      <th>B</th>\n",
       "      <th>A</th>\n",
       "      <th>B</th>\n",
       "    </tr>\n",
       "    <tr>\n",
       "      <th>번호</th>\n",
       "      <th></th>\n",
       "      <th></th>\n",
       "      <th></th>\n",
       "      <th></th>\n",
       "      <th></th>\n",
       "      <th></th>\n",
       "    </tr>\n",
       "  </thead>\n",
       "  <tbody>\n",
       "    <tr>\n",
       "      <td>1</td>\n",
       "      <td>90</td>\n",
       "      <td>80</td>\n",
       "      <td>80</td>\n",
       "      <td>100</td>\n",
       "      <td>100</td>\n",
       "      <td>90</td>\n",
       "    </tr>\n",
       "    <tr>\n",
       "      <td>2</td>\n",
       "      <td>80</td>\n",
       "      <td>90</td>\n",
       "      <td>100</td>\n",
       "      <td>70</td>\n",
       "      <td>90</td>\n",
       "      <td>100</td>\n",
       "    </tr>\n",
       "    <tr>\n",
       "      <td>3</td>\n",
       "      <td>90</td>\n",
       "      <td>100</td>\n",
       "      <td>80</td>\n",
       "      <td>80</td>\n",
       "      <td>100</td>\n",
       "      <td>70</td>\n",
       "    </tr>\n",
       "    <tr>\n",
       "      <td>4</td>\n",
       "      <td>70</td>\n",
       "      <td>70</td>\n",
       "      <td>90</td>\n",
       "      <td>90</td>\n",
       "      <td>80</td>\n",
       "      <td>80</td>\n",
       "    </tr>\n",
       "    <tr>\n",
       "      <td>5</td>\n",
       "      <td>100</td>\n",
       "      <td>80</td>\n",
       "      <td>80</td>\n",
       "      <td>100</td>\n",
       "      <td>70</td>\n",
       "      <td>90</td>\n",
       "    </tr>\n",
       "  </tbody>\n",
       "</table>\n",
       "</div>"
      ],
      "text/plain": [
       "     국어        수학        영어     \n",
       "반     A    B    A    B    A    B\n",
       "번호                              \n",
       "1    90   80   80  100  100   90\n",
       "2    80   90  100   70   90  100\n",
       "3    90  100   80   80  100   70\n",
       "4    70   70   90   90   80   80\n",
       "5   100   80   80  100   70   90"
      ]
     },
     "execution_count": 259,
     "metadata": {},
     "output_type": "execute_result"
    }
   ],
   "source": [
    "df3 = df.pivot_table(index='번호',columns=['반'])\n",
    "df3"
   ]
  },
  {
   "cell_type": "code",
   "execution_count": 263,
   "metadata": {},
   "outputs": [
    {
     "data": {
      "text/html": [
       "<div>\n",
       "<style scoped>\n",
       "    .dataframe tbody tr th:only-of-type {\n",
       "        vertical-align: middle;\n",
       "    }\n",
       "\n",
       "    .dataframe tbody tr th {\n",
       "        vertical-align: top;\n",
       "    }\n",
       "\n",
       "    .dataframe thead tr th {\n",
       "        text-align: left;\n",
       "    }\n",
       "\n",
       "    .dataframe thead tr:last-of-type th {\n",
       "        text-align: right;\n",
       "    }\n",
       "</style>\n",
       "<table border=\"1\" class=\"dataframe\">\n",
       "  <thead>\n",
       "    <tr>\n",
       "      <th></th>\n",
       "      <th colspan=\"2\" halign=\"left\">국어</th>\n",
       "      <th colspan=\"2\" halign=\"left\">수학</th>\n",
       "      <th colspan=\"2\" halign=\"left\">영어</th>\n",
       "    </tr>\n",
       "    <tr>\n",
       "      <th>반</th>\n",
       "      <th>A</th>\n",
       "      <th>B</th>\n",
       "      <th>A</th>\n",
       "      <th>B</th>\n",
       "      <th>A</th>\n",
       "      <th>B</th>\n",
       "    </tr>\n",
       "    <tr>\n",
       "      <th>번호</th>\n",
       "      <th></th>\n",
       "      <th></th>\n",
       "      <th></th>\n",
       "      <th></th>\n",
       "      <th></th>\n",
       "      <th></th>\n",
       "    </tr>\n",
       "  </thead>\n",
       "  <tbody>\n",
       "    <tr>\n",
       "      <td>1</td>\n",
       "      <td>90.0</td>\n",
       "      <td>80.0</td>\n",
       "      <td>80.0</td>\n",
       "      <td>100.0</td>\n",
       "      <td>100.0</td>\n",
       "      <td>90.0</td>\n",
       "    </tr>\n",
       "    <tr>\n",
       "      <td>2</td>\n",
       "      <td>80.0</td>\n",
       "      <td>90.0</td>\n",
       "      <td>100.0</td>\n",
       "      <td>70.0</td>\n",
       "      <td>90.0</td>\n",
       "      <td>100.0</td>\n",
       "    </tr>\n",
       "    <tr>\n",
       "      <td>3</td>\n",
       "      <td>90.0</td>\n",
       "      <td>100.0</td>\n",
       "      <td>80.0</td>\n",
       "      <td>80.0</td>\n",
       "      <td>100.0</td>\n",
       "      <td>70.0</td>\n",
       "    </tr>\n",
       "    <tr>\n",
       "      <td>4</td>\n",
       "      <td>70.0</td>\n",
       "      <td>70.0</td>\n",
       "      <td>90.0</td>\n",
       "      <td>90.0</td>\n",
       "      <td>80.0</td>\n",
       "      <td>80.0</td>\n",
       "    </tr>\n",
       "    <tr>\n",
       "      <td>5</td>\n",
       "      <td>100.0</td>\n",
       "      <td>80.0</td>\n",
       "      <td>80.0</td>\n",
       "      <td>100.0</td>\n",
       "      <td>70.0</td>\n",
       "      <td>90.0</td>\n",
       "    </tr>\n",
       "    <tr>\n",
       "      <td>평균</td>\n",
       "      <td>86.0</td>\n",
       "      <td>84.0</td>\n",
       "      <td>86.0</td>\n",
       "      <td>88.0</td>\n",
       "      <td>88.0</td>\n",
       "      <td>86.0</td>\n",
       "    </tr>\n",
       "  </tbody>\n",
       "</table>\n",
       "</div>"
      ],
      "text/plain": [
       "       국어            수학            영어       \n",
       "반       A      B      A      B      A      B\n",
       "번호                                          \n",
       "1    90.0   80.0   80.0  100.0  100.0   90.0\n",
       "2    80.0   90.0  100.0   70.0   90.0  100.0\n",
       "3    90.0  100.0   80.0   80.0  100.0   70.0\n",
       "4    70.0   70.0   90.0   90.0   80.0   80.0\n",
       "5   100.0   80.0   80.0  100.0   70.0   90.0\n",
       "평균   86.0   84.0   86.0   88.0   88.0   86.0"
      ]
     },
     "execution_count": 263,
     "metadata": {},
     "output_type": "execute_result"
    }
   ],
   "source": [
    "df3.loc['평균']=df3.mean(axis=0)\n",
    "df3"
   ]
  },
  {
   "cell_type": "markdown",
   "metadata": {},
   "source": [
    "6.\n",
    "양의 정수 I가 주어지면, 당신이 할 일은 I보다 큰 수 중 가장 작은 수 J를 찾습니다. I의 이진수 형태에서의 1의 개수와 J의 이진수 형태에서의 1의 개수는 일치합니다.\n",
    "\n",
    "예를들어, \"78\"이 주어지면, 여러분은 \"1001110\"과 같은 이진수 형태로 쓸 수 있습니다. 이 이진수는 4개의 1을 가지고 있습니다. \"1001110\" 보다 크고 4개의 1을 포함하는 가장 작은 정수는 \"1010011\"입니다. 출력값은 \"83\"이 되어야 합니다.\n",
    "\n",
    "Input\n",
    "\n",
    "각 줄에 한개의 정수를 입력할 수 있습니다. (1 <= I <= 100)\n",
    "0이 나오면 입력을 종료합니다. 이 줄은 작업할 필요 없습니다.\n",
    "\n",
    "Output\n",
    "\n",
    "각 줄에 한개의 정수를 출력하면 됩니다.\n",
    "\n",
    "Sample Input\n",
    "\n",
    "1\n",
    "2\n",
    "3\n",
    "4\n",
    "78\n",
    "0\n",
    "Sample Output\n",
    "\n",
    "2\n",
    "4\n",
    "5\n",
    "8\n",
    "83\n"
   ]
  },
  {
   "cell_type": "code",
   "execution_count": 4,
   "metadata": {},
   "outputs": [],
   "source": [
    "def IJ():\n",
    "    # 정수를 입력받음\n",
    "    Sample_Input = int(input())\n",
    "    \n",
    "    # 입력받은 수를 2진수로 변환\n",
    "    Sample_Input_binary = np.binary_repr(Sample_Input)\n",
    "    \n",
    "    # 2진 변환된 수의 1의 개수\n",
    "    cnt_1 = Sample_Input_binary.count('1')\n",
    "    \n",
    "    cnt_next_1 = 0\n",
    "    \n",
    "    # 입력값을 1씩 증가시키며 2진수의 1의 개수를 파악후 같으면 정지\n",
    "    while cnt_1 != cnt_next_1:\n",
    "        Sample_Input = Sample_Input + 1\n",
    "        Sample_Input_binary = np.binary_repr(Sample_Input)\n",
    "        cnt_next_1 = Sample_Input_binary.count('1')\n",
    "    print(Sample_Input)\n",
    "    \n",
    "    # 입력값이 0이면 종료\n",
    "    if Sample_Input!=0:\n",
    "        IJ()"
   ]
  },
  {
   "cell_type": "code",
   "execution_count": 6,
   "metadata": {},
   "outputs": [
    {
     "name": "stdout",
     "output_type": "stream",
     "text": [
      "78\n",
      "83\n",
      "4\n",
      "8\n",
      "0\n",
      "0\n"
     ]
    }
   ],
   "source": [
    "IJ()"
   ]
  },
  {
   "cell_type": "code",
   "execution_count": 275,
   "metadata": {},
   "outputs": [
    {
     "data": {
      "text/plain": [
       "2"
      ]
     },
     "execution_count": 275,
     "metadata": {},
     "output_type": "execute_result"
    }
   ],
   "source": [
    "a = 5\n",
    "b = np.binary_repr(a)\n",
    "b.count('1')\n",
    "np.d"
   ]
  },
  {
   "cell_type": "code",
   "execution_count": 276,
   "metadata": {},
   "outputs": [
    {
     "name": "stdout",
     "output_type": "stream",
     "text": [
      "Help on function binary_repr in module numpy:\n",
      "\n",
      "binary_repr(num, width=None)\n",
      "    Return the binary representation of the input number as a string.\n",
      "    \n",
      "    For negative numbers, if width is not given, a minus sign is added to the\n",
      "    front. If width is given, the two's complement of the number is\n",
      "    returned, with respect to that width.\n",
      "    \n",
      "    In a two's-complement system negative numbers are represented by the two's\n",
      "    complement of the absolute value. This is the most common method of\n",
      "    representing signed integers on computers [1]_. A N-bit two's-complement\n",
      "    system can represent every integer in the range\n",
      "    :math:`-2^{N-1}` to :math:`+2^{N-1}-1`.\n",
      "    \n",
      "    Parameters\n",
      "    ----------\n",
      "    num : int\n",
      "        Only an integer decimal number can be used.\n",
      "    width : int, optional\n",
      "        The length of the returned string if `num` is positive, or the length\n",
      "        of the two's complement if `num` is negative, provided that `width` is\n",
      "        at least a sufficient number of bits for `num` to be represented in the\n",
      "        designated form.\n",
      "    \n",
      "        If the `width` value is insufficient, it will be ignored, and `num` will\n",
      "        be returned in binary (`num` > 0) or two's complement (`num` < 0) form\n",
      "        with its width equal to the minimum number of bits needed to represent\n",
      "        the number in the designated form. This behavior is deprecated and will\n",
      "        later raise an error.\n",
      "    \n",
      "        .. deprecated:: 1.12.0\n",
      "    \n",
      "    Returns\n",
      "    -------\n",
      "    bin : str\n",
      "        Binary representation of `num` or two's complement of `num`.\n",
      "    \n",
      "    See Also\n",
      "    --------\n",
      "    base_repr: Return a string representation of a number in the given base\n",
      "               system.\n",
      "    bin: Python's built-in binary representation generator of an integer.\n",
      "    \n",
      "    Notes\n",
      "    -----\n",
      "    `binary_repr` is equivalent to using `base_repr` with base 2, but about 25x\n",
      "    faster.\n",
      "    \n",
      "    References\n",
      "    ----------\n",
      "    .. [1] Wikipedia, \"Two's complement\",\n",
      "        https://en.wikipedia.org/wiki/Two's_complement\n",
      "    \n",
      "    Examples\n",
      "    --------\n",
      "    >>> np.binary_repr(3)\n",
      "    '11'\n",
      "    >>> np.binary_repr(-3)\n",
      "    '-11'\n",
      "    >>> np.binary_repr(3, width=4)\n",
      "    '0011'\n",
      "    \n",
      "    The two's complement is returned when the input number is negative and\n",
      "    width is specified:\n",
      "    \n",
      "    >>> np.binary_repr(-3, width=3)\n",
      "    '101'\n",
      "    >>> np.binary_repr(-3, width=5)\n",
      "    '11101'\n",
      "\n"
     ]
    }
   ],
   "source": [
    "help(np.binary_repr)"
   ]
  },
  {
   "cell_type": "code",
   "execution_count": null,
   "metadata": {},
   "outputs": [],
   "source": []
  }
 ],
 "metadata": {
  "kernelspec": {
   "display_name": "Python 3",
   "language": "python",
   "name": "python3"
  },
  "language_info": {
   "codemirror_mode": {
    "name": "ipython",
    "version": 3
   },
   "file_extension": ".py",
   "mimetype": "text/x-python",
   "name": "python",
   "nbconvert_exporter": "python",
   "pygments_lexer": "ipython3",
   "version": "3.7.4"
  }
 },
 "nbformat": 4,
 "nbformat_minor": 2
}
