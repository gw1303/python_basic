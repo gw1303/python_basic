{
 "cells": [
  {
   "cell_type": "code",
   "execution_count": 4,
   "metadata": {},
   "outputs": [
    {
     "name": "stdout",
     "output_type": "stream",
     "text": [
      "3과 4 합은 7입니다\n",
      "None\n"
     ]
    }
   ],
   "source": [
    "# 함수\n",
    "'''\n",
    "y=2x+3\n",
    "\n",
    "def 함수명(매개변수, ...):\n",
    "    수행문장\n",
    "    수행문장\n",
    "    ...\n",
    "    return\n",
    "'''\n",
    "'''\n",
    "def add(a,b):\n",
    "    return a+b\n",
    "'''\n",
    "'''\n",
    "def say():\n",
    "    return 'bye'\n",
    "'''\n",
    "def add(a,b):\n",
    "    print('%d과 %d 합은 %d입니다' %(a,b,a+b))\n",
    "print(add(3,4))"
   ]
  },
  {
   "cell_type": "code",
   "execution_count": 5,
   "metadata": {},
   "outputs": [
    {
     "name": "stdout",
     "output_type": "stream",
     "text": [
      "6\n",
      "11\n",
      "21\n"
     ]
    }
   ],
   "source": [
    "'''\n",
    "여러개의 입력 값을 전달 받는 함수\n",
    "def 함수명(*매개변수):\n",
    "    수행문장\n",
    "'''\n",
    "\n",
    "def add_many(*args):\n",
    "    # 수행문장\n",
    "    res = 0\n",
    "    for i in args:\n",
    "        res += i\n",
    "    return res\n",
    "\n",
    "print(add_many(1,2,3))\n",
    "\n",
    "print(add_many(1,2,3,5))\n",
    "\n",
    "print(add_many(1,2,3,4,5,6))"
   ]
  },
  {
   "cell_type": "code",
   "execution_count": 6,
   "metadata": {},
   "outputs": [
    {
     "name": "stdout",
     "output_type": "stream",
     "text": [
      "6\n",
      "6\n"
     ]
    }
   ],
   "source": [
    "def add_mul(ch,*args):   \n",
    "    if ch == 'add':\n",
    "        res = 0\n",
    "        for i in args:\n",
    "            res += i\n",
    "\n",
    "    elif ch == 'mul':\n",
    "        res = 1\n",
    "        for i in args:\n",
    "            res *=i\n",
    "    return res\n",
    "        \n",
    "print(add_mul('add',1,2,3))\n",
    "print(add_mul('mul',1,2,3))"
   ]
  },
  {
   "cell_type": "code",
   "execution_count": 7,
   "metadata": {},
   "outputs": [
    {
     "name": "stdout",
     "output_type": "stream",
     "text": [
      "{'height': 180, 'weight': 70}\n"
     ]
    }
   ],
   "source": [
    "# 딕셔너리 함수 만들기\n",
    "def dict_args(**args):\n",
    "    print(args)  # args는 딕셔너리 변수\n",
    "    \n",
    "dict_args(height=180, weight=70)"
   ]
  },
  {
   "cell_type": "code",
   "execution_count": 8,
   "metadata": {},
   "outputs": [
    {
     "name": "stdout",
     "output_type": "stream",
     "text": [
      "3\n",
      "2\n"
     ]
    }
   ],
   "source": [
    "# 함수의 return 값은 항상 1개!!\n",
    "# 두 개 이상의 값을 내보내면 튜플로 바뀜\n",
    "def a_and_m(a,b):\n",
    "    return a+b, a*b\n",
    "\n",
    "#res=a_and_m(1,2)\n",
    "#print(res)\n",
    "\n",
    "res_add, res_mul=a_and_m(1,2)\n",
    "print(res_add)\n",
    "print(res_mul)"
   ]
  },
  {
   "cell_type": "code",
   "execution_count": 9,
   "metadata": {},
   "outputs": [],
   "source": [
    "def sn(nick):\n",
    "    if nick=='바보':\n",
    "        return  # 함수를 호출한 위치로 되돌아가라!\n",
    "    print('별명은 %s입니다' %nick)"
   ]
  },
  {
   "cell_type": "code",
   "execution_count": 10,
   "metadata": {},
   "outputs": [],
   "source": [
    "sn('바보')"
   ]
  },
  {
   "cell_type": "code",
   "execution_count": 11,
   "metadata": {},
   "outputs": [
    {
     "name": "stdout",
     "output_type": "stream",
     "text": [
      "홍길동 20 True\n",
      "홍갑순 20 False\n"
     ]
    }
   ],
   "source": [
    "def test(name, old, man=True):\n",
    "    print(name, old, man)\n",
    "    \n",
    "test('홍길동',20)\n",
    "test('홍갑순',20,False)"
   ]
  },
  {
   "cell_type": "code",
   "execution_count": 12,
   "metadata": {},
   "outputs": [],
   "source": [
    "import turtle as t\n",
    "t.shape('turtle')\n"
   ]
  },
  {
   "cell_type": "code",
   "execution_count": 13,
   "metadata": {},
   "outputs": [],
   "source": [
    "t.clear()\n"
   ]
  },
  {
   "cell_type": "code",
   "execution_count": 14,
   "metadata": {},
   "outputs": [],
   "source": [
    "for i in range(5):\n",
    "    t.forward(100)\n",
    "    t.right(360/5)"
   ]
  },
  {
   "cell_type": "code",
   "execution_count": 15,
   "metadata": {},
   "outputs": [
    {
     "name": "stdout",
     "output_type": "stream",
     "text": [
      "\n"
     ]
    },
    {
     "ename": "ValueError",
     "evalue": "invalid literal for int() with base 10: ''",
     "output_type": "error",
     "traceback": [
      "\u001b[1;31m---------------------------------------------------------------------------\u001b[0m",
      "\u001b[1;31mValueError\u001b[0m                                Traceback (most recent call last)",
      "\u001b[1;32m<ipython-input-15-ea8806d15106>\u001b[0m in \u001b[0;36m<module>\u001b[1;34m\u001b[0m\n\u001b[1;32m----> 1\u001b[1;33m \u001b[0mn\u001b[0m\u001b[1;33m=\u001b[0m\u001b[0mint\u001b[0m\u001b[1;33m(\u001b[0m\u001b[0minput\u001b[0m\u001b[1;33m(\u001b[0m\u001b[1;33m)\u001b[0m\u001b[1;33m)\u001b[0m\u001b[1;33m\u001b[0m\u001b[1;33m\u001b[0m\u001b[0m\n\u001b[0m\u001b[0;32m      2\u001b[0m \u001b[1;32mfor\u001b[0m \u001b[0mi\u001b[0m \u001b[1;32min\u001b[0m \u001b[0mrange\u001b[0m\u001b[1;33m(\u001b[0m\u001b[0mn\u001b[0m\u001b[1;33m)\u001b[0m\u001b[1;33m:\u001b[0m\u001b[1;33m\u001b[0m\u001b[1;33m\u001b[0m\u001b[0m\n\u001b[0;32m      3\u001b[0m     \u001b[0mt\u001b[0m\u001b[1;33m.\u001b[0m\u001b[0mforward\u001b[0m\u001b[1;33m(\u001b[0m\u001b[1;36m100\u001b[0m\u001b[1;33m)\u001b[0m\u001b[1;33m\u001b[0m\u001b[1;33m\u001b[0m\u001b[0m\n\u001b[0;32m      4\u001b[0m     \u001b[0mt\u001b[0m\u001b[1;33m.\u001b[0m\u001b[0mright\u001b[0m\u001b[1;33m(\u001b[0m\u001b[1;36m360\u001b[0m\u001b[1;33m/\u001b[0m\u001b[0mn\u001b[0m\u001b[1;33m)\u001b[0m\u001b[1;33m\u001b[0m\u001b[1;33m\u001b[0m\u001b[0m\n",
      "\u001b[1;31mValueError\u001b[0m: invalid literal for int() with base 10: ''"
     ]
    }
   ],
   "source": [
    "n=int(input())\n",
    "for i in range(n):\n",
    "    t.forward(100)\n",
    "    t.right(360/n)\n"
   ]
  },
  {
   "cell_type": "code",
   "execution_count": null,
   "metadata": {},
   "outputs": [],
   "source": [
    "# lambda 익명함수\n",
    "# lambda 함수 형식 => lambda 매개변수들 : 식\n",
    "def p_ten(x):\n",
    "    return x+10\n",
    "print(p_ten(5))\n",
    "\n",
    "p_ten2 = lambda x:x+10\n",
    "print(p_ten2(5))\n",
    "\n",
    "print((lambda x:x+10)(5))\n",
    "#(lambda 매개변수들:식)(5)\n",
    "\n",
    "# lambda 표현식 내부에는 변수를 선언할 수 없다.\n",
    "# print((lambda x:y=2; x+y)(5))  // error!!\n",
    "y=2\n",
    "print((lambda x: x+y)(5))\n",
    "# 외부에 선언한 것을 사용은 가능!"
   ]
  },
  {
   "cell_type": "code",
   "execution_count": 16,
   "metadata": {},
   "outputs": [
    {
     "name": "stdout",
     "output_type": "stream",
     "text": [
      "[3, 4, 3]\n"
     ]
    }
   ],
   "source": [
    "#map(함수, 자료)  # 자료에 대해 함수를 수행한 결과가 출력\n",
    "print(list(map(int,[3.14,4.11,3.5])))"
   ]
  },
  {
   "cell_type": "code",
   "execution_count": 17,
   "metadata": {},
   "outputs": [
    {
     "name": "stdout",
     "output_type": "stream",
     "text": [
      "[11, 12, 13, 13.14]\n"
     ]
    },
    {
     "data": {
      "text/plain": [
       "[11, 12, 13, 13.14]"
      ]
     },
     "execution_count": 17,
     "metadata": {},
     "output_type": "execute_result"
    }
   ],
   "source": [
    "def pten(x):\n",
    "    return x+10\n",
    "\n",
    "data=[1,2,3,3.14]\n",
    "print(list(map(pten,data)))\n",
    "\n",
    "list(map(lambda x:x+10,data))"
   ]
  },
  {
   "cell_type": "code",
   "execution_count": 18,
   "metadata": {},
   "outputs": [
    {
     "name": "stdout",
     "output_type": "stream",
     "text": [
      "6\n"
     ]
    }
   ],
   "source": [
    "print((lambda x:x+1)(5))"
   ]
  },
  {
   "cell_type": "code",
   "execution_count": 19,
   "metadata": {},
   "outputs": [
    {
     "name": "stdout",
     "output_type": "stream",
     "text": [
      "hi\n"
     ]
    }
   ],
   "source": [
    "print((lambda :'hi')())"
   ]
  },
  {
   "cell_type": "code",
   "execution_count": 20,
   "metadata": {},
   "outputs": [
    {
     "name": "stdout",
     "output_type": "stream",
     "text": [
      "5\n"
     ]
    },
    {
     "data": {
      "text/plain": [
       "5"
      ]
     },
     "execution_count": 20,
     "metadata": {},
     "output_type": "execute_result"
    }
   ],
   "source": [
    "def add(x,y):\n",
    "    return x+y\n",
    "res = add (2,3)\n",
    "print(res)\n",
    "\n",
    "add2=(lambda x,y: x+y)\n",
    "res=add2(2,3)\n",
    "res"
   ]
  },
  {
   "cell_type": "code",
   "execution_count": 3,
   "metadata": {},
   "outputs": [
    {
     "name": "stdout",
     "output_type": "stream",
     "text": [
      "[1, 2, 2, 4, 5, 5, 7, 8, 8, 10]\n"
     ]
    }
   ],
   "source": [
    "# lambda 표현식에 조건부 표현식 적용\n",
    "# a에 저장된 요소값들중에서 3의 배수는 100을 더해서 출력\n",
    "# [ 1,2,1003,4,5,106,..]\n",
    "a=list(range(1,11))\n",
    "\n",
    "for i in range(0,10):\n",
    "    if a[i]%3==0:\n",
    "        a[i]+=100\n",
    "        a[i]=i\n",
    "print(a)\n",
    "\n",
    "#list(map(lambda x:str(x) if x%3==0,a))\n"
   ]
  },
  {
   "cell_type": "code",
   "execution_count": 22,
   "metadata": {},
   "outputs": [
    {
     "data": {
      "text/plain": [
       "[1, 2, 103, 4, 5, 106, 7, 8, 109, 10]"
      ]
     },
     "execution_count": 22,
     "metadata": {},
     "output_type": "execute_result"
    }
   ],
   "source": [
    "a=list(range(1,11))\n",
    "# lambda 매개변수:식1 if 조건식 else 식2  // 람다에서는 if와 else 모두 써야함\n",
    "list(map(lambda x:x+100 if x%3==0 else x,a))"
   ]
  },
  {
   "cell_type": "code",
   "execution_count": 23,
   "metadata": {},
   "outputs": [
    {
     "ename": "SyntaxError",
     "evalue": "invalid syntax (<ipython-input-23-f483c15d290f>, line 1)",
     "output_type": "error",
     "traceback": [
      "\u001b[1;36m  File \u001b[1;32m\"<ipython-input-23-f483c15d290f>\"\u001b[1;36m, line \u001b[1;32m1\u001b[0m\n\u001b[1;33m    list(map(lambda x:x+100 if x%3==0,a))\u001b[0m\n\u001b[1;37m                                     ^\u001b[0m\n\u001b[1;31mSyntaxError\u001b[0m\u001b[1;31m:\u001b[0m invalid syntax\n"
     ]
    }
   ],
   "source": [
    "list(map(lambda x:x+100 if x%3==0,a))"
   ]
  },
  {
   "cell_type": "code",
   "execution_count": null,
   "metadata": {},
   "outputs": [],
   "source": [
    "# 문제\n",
    "# a에 저장되어있는 데이터에 대해, 1은 문자열로 변환, 2는 실수로 변환, \n",
    "# 나머지 3이상은 모두 10을 더해서 출력\n",
    "\n",
    "for i in a:\n",
    "    if i == 1:\n",
    "        str(i)\n",
    "    elif i ==2:\n",
    "        float(i)\n",
    "    else:\n",
    "        i+=10\n",
    "    a.append(i)\n",
    "print(a)\n"
   ]
  },
  {
   "cell_type": "code",
   "execution_count": 74,
   "metadata": {},
   "outputs": [
    {
     "data": {
      "text/plain": [
       "['1', 2.0, 13, 14, 15, 16, 17, 18, 19, 20]"
      ]
     },
     "execution_count": 74,
     "metadata": {},
     "output_type": "execute_result"
    }
   ],
   "source": [
    "a=list(range(1,11))\n",
    "def fun(x):\n",
    "    if x == 1:\n",
    "        return str(x)\n",
    "    elif x==2:\n",
    "        return float(x)\n",
    "    else:\n",
    "        return x+10\n",
    "    \n",
    "list(map(fun, a)) \n",
    "\n",
    "list(map(lambda x:str(x) if x==1 else float(x) if x==2 else x+10,a))"
   ]
  },
  {
   "cell_type": "code",
   "execution_count": 80,
   "metadata": {},
   "outputs": [
    {
     "data": {
      "text/plain": [
       "[6, 14, 24, 36, 50]"
      ]
     },
     "execution_count": 80,
     "metadata": {},
     "output_type": "execute_result"
    }
   ],
   "source": [
    "# lambda함수의 매개변수가 여러개인 경우\n",
    "a=[1,2,3,4,5]\n",
    "b=[6,7,8,9,10]\n",
    "# a*b=[6,14,...,50]\n",
    " \n",
    "list(map(lambda x,y:x*y, a,b))"
   ]
  },
  {
   "cell_type": "markdown",
   "metadata": {},
   "source": [
    "# filter"
   ]
  },
  {
   "cell_type": "code",
   "execution_count": 85,
   "metadata": {},
   "outputs": [
    {
     "name": "stdout",
     "output_type": "stream",
     "text": [
      "[True, False, False, True, True, True, False]\n",
      "[7, 4, 9, 6]\n"
     ]
    }
   ],
   "source": [
    "a=[7,3,1,4,9,6,2]\n",
    "b=[]\n",
    "\n",
    "def fun2(x):\n",
    "    return x>3 and x<10\n",
    "\n",
    "print(list(map(fun2,a)))\n",
    "# True값을 출력해주고 False는 출력X\n",
    "print(list(filter(fun2,a)))\n",
    "# filter는 조건에 만족하는 데이터만 추출 즉, filter로 지정한 함수의 리턴값이\n",
    "# True일때만 해당 요소 추출"
   ]
  },
  {
   "cell_type": "markdown",
   "metadata": {},
   "source": [
    "# reduce"
   ]
  },
  {
   "cell_type": "code",
   "execution_count": 90,
   "metadata": {},
   "outputs": [
    {
     "name": "stdout",
     "output_type": "stream",
     "text": [
      "15\n"
     ]
    }
   ],
   "source": [
    "# reduce\n",
    "# 각 요소를 함수로 처리한 다음,\n",
    "# 이전결과와 누적해서 변환하는 함수\n",
    "from functools import reduce\n",
    "\n",
    "def fun3(x,y):\n",
    "    return x+y\n",
    "\n",
    "a=[1,2,3,4,5]\n",
    "reduce(fun3, a)\n",
    "\n",
    "# lambda식으로 reduce\n",
    "print(reduce(lambda x,y:x+y ,a))"
   ]
  },
  {
   "cell_type": "code",
   "execution_count": 97,
   "metadata": {},
   "outputs": [
    {
     "data": {
      "text/plain": [
       "15"
      ]
     },
     "execution_count": 97,
     "metadata": {},
     "output_type": "execute_result"
    }
   ],
   "source": [
    "a=[1,2,3,4,5]\n",
    "x=a[0]\n",
    "for i in range(len(a)-1):  # range(4)=0~3\n",
    "    x=x+a[i+1]\n",
    "x"
   ]
  },
  {
   "cell_type": "markdown",
   "metadata": {},
   "source": [
    "# 변수의 사용 범위\n",
    "전역변수 : 함수 바깥에 선언된 변수\n",
    "    함수 내/외부에서 모두 접근 가능 변수\n",
    "지역변수 : 함수 내부에서 변수 선언, 함수 내부에서만 접근\n",
    "    함수 외부에서는 접근 불가"
   ]
  },
  {
   "cell_type": "code",
   "execution_count": 100,
   "metadata": {},
   "outputs": [
    {
     "name": "stdout",
     "output_type": "stream",
     "text": [
      "1\n",
      "1\n"
     ]
    }
   ],
   "source": [
    "x=1  # 전역변수 : 함수 바깥에 선언된 변수 (함수 안,밖에서 사용 가능)\n",
    "def f():  # 함수 정의\n",
    "    print(x)\n",
    "    \n",
    "f()  # 함수 호출\n",
    "print(x)"
   ]
  },
  {
   "cell_type": "code",
   "execution_count": 3,
   "metadata": {},
   "outputs": [
    {
     "name": "stdout",
     "output_type": "stream",
     "text": [
      "2\n"
     ]
    }
   ],
   "source": [
    "# 지역변수\n",
    "def f2():\n",
    "    x=2\n",
    "    print(x)\n",
    "f2()"
   ]
  },
  {
   "cell_type": "code",
   "execution_count": 6,
   "metadata": {},
   "outputs": [
    {
     "name": "stdout",
     "output_type": "stream",
     "text": [
      "20\n",
      "10\n"
     ]
    }
   ],
   "source": [
    "x=10  # 전역변수\n",
    "\n",
    "def f3():\n",
    "    x=20  # 지역변수\n",
    "    print(x)  # 지역변수 값 출력\n",
    "f3()  \n",
    "print(x)  # 전역변수 값 출력"
   ]
  },
  {
   "cell_type": "markdown",
   "metadata": {},
   "source": [
    "### global"
   ]
  },
  {
   "cell_type": "code",
   "execution_count": 11,
   "metadata": {},
   "outputs": [
    {
     "name": "stdout",
     "output_type": "stream",
     "text": [
      "20\n",
      "20\n"
     ]
    }
   ],
   "source": [
    "x=10  # 전역변수\n",
    "\n",
    "def f3():\n",
    "    # 함수 내부에서 전역변수 값을 변경하고자 하는 경우\n",
    "    # global 뒤에 전역변수 이름을 지정\n",
    "    global x\n",
    "    x=20  # 전역변수\n",
    "    print(x)  # 전역변수 값 출력 (20)\n",
    "f3()  \n",
    "print(x)  # 전역변수 값 출력 (20)"
   ]
  },
  {
   "cell_type": "code",
   "execution_count": 17,
   "metadata": {},
   "outputs": [
    {
     "name": "stdout",
     "output_type": "stream",
     "text": [
      "20\n",
      "20\n"
     ]
    }
   ],
   "source": [
    "def f4():\n",
    "    global x4  # x4 변수를 전역변수화\n",
    "    x4=20\n",
    "    print(x4)\n",
    "f4()\n",
    "print(x4)  # 전역변수 x4 실행"
   ]
  },
  {
   "cell_type": "markdown",
   "metadata": {},
   "source": [
    "# 함수 내부에 함수 정의"
   ]
  },
  {
   "cell_type": "code",
   "execution_count": 20,
   "metadata": {},
   "outputs": [
    {
     "name": "stdout",
     "output_type": "stream",
     "text": [
      "hello\n"
     ]
    }
   ],
   "source": [
    "'''\n",
    "def 함수1():\n",
    "    문장\n",
    "    def 함수2():\n",
    "        문장\n",
    "'''\n",
    "\n",
    "def outer():\n",
    "    msg='hello'\n",
    "    def inner():\n",
    "        print(msg)\n",
    "    inner()\n",
    "\n",
    "outer()\n"
   ]
  },
  {
   "cell_type": "code",
   "execution_count": 23,
   "metadata": {},
   "outputs": [
    {
     "name": "stdout",
     "output_type": "stream",
     "text": [
      "10\n"
     ]
    }
   ],
   "source": [
    "def f5():\n",
    "    x=10  # 전역변수\n",
    "    def f6():\n",
    "        x=20  # 지역변수\n",
    "    f6()\n",
    "    print(x)\n",
    "f5()"
   ]
  },
  {
   "cell_type": "markdown",
   "metadata": {},
   "source": [
    "# 파일 읽고 쓰기\n",
    "csv, txt, xml, json .."
   ]
  },
  {
   "cell_type": "code",
   "execution_count": 6,
   "metadata": {},
   "outputs": [],
   "source": [
    "# 파일 생성 밁기 함수\n",
    "\n",
    "f=open('newFile2.txt','w') # (쓰기(w),읽기(r))열기 모드\n",
    "\n",
    "# 파일 내용 작성\n",
    "for i in range(1,11):\n",
    "    data = '%d번 줄 입니다. \\n'%i\n",
    "    f.write(data)\n",
    "\n",
    "f.close()\n",
    "\n",
    "# 기존에 파일이 존재할 경우 쓰기모드로 열게 되면 기존 내용이 사라짐"
   ]
  },
  {
   "cell_type": "code",
   "execution_count": 38,
   "metadata": {},
   "outputs": [
    {
     "name": "stdout",
     "output_type": "stream",
     "text": [
      "1번 줄 입니다. \n",
      "\n"
     ]
    }
   ],
   "source": [
    "# readline함수\n",
    "f=open('c:/da/newFile.txt','r')\n",
    "line=f.readline()\n",
    "print(line)\n",
    "f.close()"
   ]
  },
  {
   "cell_type": "code",
   "execution_count": 43,
   "metadata": {},
   "outputs": [
    {
     "name": "stdout",
     "output_type": "stream",
     "text": [
      "1번 줄 입니다. \n",
      "\n",
      "2번 줄 입니다. \n",
      "\n",
      "3번 줄 입니다. \n",
      "\n",
      "4번 줄 입니다. \n",
      "\n",
      "5번 줄 입니다. \n",
      "\n",
      "6번 줄 입니다. \n",
      "\n",
      "7번 줄 입니다. \n",
      "\n",
      "8번 줄 입니다. \n",
      "\n",
      "9번 줄 입니다. \n",
      "\n",
      "10번 줄 입니다. \n",
      "\n",
      "\n"
     ]
    }
   ],
   "source": [
    "# 전체줄 읽어서 출력\n",
    "f=open('c:/da/newFile.txt','r')\n",
    "while True:\n",
    "    line=f.readline()  # 더이상 읽어들인 줄일 없으면 None을 출력\n",
    "    print(line)\n",
    "    # if not line: break\n",
    "    if line=='': break\n",
    "f.close()"
   ]
  },
  {
   "cell_type": "code",
   "execution_count": 45,
   "metadata": {},
   "outputs": [
    {
     "name": "stdout",
     "output_type": "stream",
     "text": [
      "1번 줄 입니다. \n",
      "\n",
      "2번 줄 입니다. \n",
      "\n",
      "3번 줄 입니다. \n",
      "\n",
      "4번 줄 입니다. \n",
      "\n",
      "5번 줄 입니다. \n",
      "\n",
      "6번 줄 입니다. \n",
      "\n",
      "7번 줄 입니다. \n",
      "\n",
      "8번 줄 입니다. \n",
      "\n",
      "9번 줄 입니다. \n",
      "\n",
      "10번 줄 입니다. \n",
      "\n"
     ]
    }
   ],
   "source": [
    "# readline함수\n",
    "f=open('c:/da/newFile.txt','r')\n",
    "line=f.readlines()  # line들이 list형태로 저장\n",
    "for i in line:\n",
    "    print(i)\n",
    "f.close()"
   ]
  },
  {
   "cell_type": "code",
   "execution_count": 47,
   "metadata": {},
   "outputs": [
    {
     "name": "stdout",
     "output_type": "stream",
     "text": [
      "1번 줄 입니다. \n",
      "2번 줄 입니다. \n",
      "3번 줄 입니다. \n",
      "4번 줄 입니다. \n",
      "5번 줄 입니다. \n",
      "6번 줄 입니다. \n",
      "7번 줄 입니다. \n",
      "8번 줄 입니다. \n",
      "9번 줄 입니다. \n",
      "10번 줄 입니다. \n",
      "\n"
     ]
    }
   ],
   "source": [
    "f=open('c:/da/newFile.txt','r')\n",
    "data=f.read()\n",
    "print(data)\n",
    "f.close()"
   ]
  },
  {
   "cell_type": "code",
   "execution_count": 49,
   "metadata": {},
   "outputs": [],
   "source": [
    "# 파일에 새로운 내용 추가 - 추가모드(append)\n",
    "f=open('c:/da/newFile.txt','a')\n",
    "for i in range(11,20):\n",
    "    data='%d번 줄 입니다 \\n' %i\n",
    "    f.write(data)\n",
    "f.close()"
   ]
  },
  {
   "cell_type": "code",
   "execution_count": 58,
   "metadata": {},
   "outputs": [],
   "source": [
    "# 파일을 닫기 위한 구문 없이 생성\n",
    "with open('c:/da/newFile.txt','w') as f:\n",
    "    f.write('Life is too short')\n",
    "# with구문은 함수를 벗어났을 때 자동으로 close를 해준다"
   ]
  },
  {
   "cell_type": "markdown",
   "metadata": {},
   "source": [
    "# 연습문제 1\n",
    "회문 판별하기\n",
    "단어 입력: level(입력)\n",
    "True\n",
    "단어 입력: hello(입력)\n",
    "False"
   ]
  },
  {
   "cell_type": "code",
   "execution_count": 143,
   "metadata": {},
   "outputs": [
    {
     "name": "stdout",
     "output_type": "stream",
     "text": [
      "단어를 입력하시오level\n",
      "False\n"
     ]
    }
   ],
   "source": [
    "Word=input('단어를 입력하시오')\n",
    "right_word=[]\n",
    "\n",
    "for i in Word:  # 입력받은 단어를 한글자씩 쪼개서 새로운 리스트 생성\n",
    "    right_word += i\n",
    "left_word = list(reversed(right_word))  # 리스트를 뒤집음\n",
    "if right_word == left_word:  # 원래 리스트와 뒤집은 리스트가 같은지 판별\n",
    "    print(True) \n",
    "else:\n",
    "    print(False)"
   ]
  },
  {
   "cell_type": "code",
   "execution_count": 4,
   "metadata": {},
   "outputs": [
    {
     "data": {
      "text/plain": [
       "<reversed at 0x124b556b508>"
      ]
     },
     "execution_count": 4,
     "metadata": {},
     "output_type": "execute_result"
    }
   ],
   "source": [
    "a='nanana'\n",
    "reversed(a)"
   ]
  },
  {
   "cell_type": "markdown",
   "metadata": {},
   "source": [
    "# 연습문제 2\n",
    "n-gram 만들기 (n=2)\n",
    "입력 : hello\n",
    "he\n",
    "el\n",
    "ll\n",
    "lo"
   ]
  },
  {
   "cell_type": "code",
   "execution_count": 93,
   "metadata": {},
   "outputs": [
    {
     "name": "stdout",
     "output_type": "stream",
     "text": [
      "조각낼 단어를 입력하시오.sosods\n",
      "s o\n",
      "o s\n",
      "s o\n",
      "o d\n",
      "d s\n"
     ]
    }
   ],
   "source": [
    "Word = input('조각낼 단어를 입력하시오.')\n",
    "\n",
    "for i in range(len(Word)-1):  # 출력 횟수가 입력받은 단어 길이수의 -1이므로 range 지정\n",
    "    print(Word[i],Word[i+1])  # 단어 두 자씩 출력"
   ]
  },
  {
   "cell_type": "markdown",
   "metadata": {},
   "source": [
    "# 연습문제 3\n",
    "파일명 포매팅\n",
    "입력: 1.jpg 10.jpg 2.jpg\n",
    "출력: ['001.jpg', '010.jpg', '002'.jpg]"
   ]
  },
  {
   "cell_type": "code",
   "execution_count": 142,
   "metadata": {},
   "outputs": [
    {
     "name": "stdout",
     "output_type": "stream",
     "text": [
      "['1.jpg', '10.jpg', '2.jpg']\n",
      "['001.jpg', '010.jpg', '002.jpg']\n"
     ]
    }
   ],
   "source": [
    "file_list = input('파일명을 입력하시오.').split(' ')  # 1.jpg 10.jpg 2.jpg\n",
    "\n",
    "# print(file_list)  # 입력받은 str을 리스트로 분리해 확인\n",
    "\n",
    "for i in range(len(file_list)):  # 입력받은 리스트의 요소 수를 range로 아래 while문 실행\n",
    "    while len(file_list[i])!=7:  # 각 요소의 길이가 7이 아니면 아래 문장 계속 실행\n",
    "        file_list[i]='0'+file_list[i]  # 각 요소의 앞에 '0'을 써준다\n",
    "        if len(file_list[i])==7:  # 각 요소의 길이가 7이 되면 while문 탈출\n",
    "            break\n",
    "print(file_list)"
   ]
  },
  {
   "cell_type": "markdown",
   "metadata": {},
   "source": [
    "# 연습문제 4\n",
    "약 2,000년 전에는 전쟁에서 병사들이 적들에 의해 동굴에 갇히게 되는 경우가 종종 있었다고 한다.\n",
    "\n",
    "그들은 포로가 되는것을 방지하기 위해 동그랗게 서서 마지막 한 사람이 남을 때 까지 순서대로 돌아가며 세번째에 해당되는 사람을 죽여 나갔다고 한다.\n",
    "\n",
    "마지막으로 남게되는 사람은 자살하기로 약속되어 있었지만 보통 적들에게 항복을 하는 경우가 많았다고 한다.\n",
    "\n",
    "여러분이 풀어야 할 문제는 총 인원수(N)와 간격(K)이 주어졌을 때 가장 마지막에 살아남는 병사의 위치(the safe position)를 알아내는 것이다.\n",
    "\n",
    "예를 들어 병사수가 총 10명이고 돌아가며 세번째에 해당되는 병사를 제거하는 경우는 다음과 같다:\n",
    "\n",
    "N = 10, K = 3\n",
    "\n",
    "위의 경우 다음과 같은 순서로 병사들이 제거된다. (괄호는 제거되는 병사를 의미한다)\n",
    "\n",
    "1st round: 1 2 (3) 4 5 (6) 7 8 (9) 10\n",
    "2nd round:                            1 (2) 4 5 (7) 8 10\n",
    "3rd round:                                                (1) 4 5 (8) 10\n",
    "4th round:                                                               4 (5) 10\n",
    "5th round:                                                                        4 (10)\n",
    "위 예에서 끝가지 살아남는 병사는 4, 즉 4번째 병사이다.\n",
    "\n",
    "입력 데이터는 총 병사수 N과 간격 K이다.\n",
    "출력 데이터는 마지막까지 살아남는 병사의 위치이다.\n",
    "\n",
    "(단, 최초 시작은 1번 병사부터이다.)\n",
    "\n",
    "입출력 예는 다음과 같다:\n",
    "\n",
    "initial data:\n",
    "10 3\n",
    "\n",
    "answer:\n",
    "4"
   ]
  },
  {
   "cell_type": "code",
   "execution_count": 164,
   "metadata": {},
   "outputs": [
    {
     "data": {
      "text/plain": [
       "10"
      ]
     },
     "execution_count": 164,
     "metadata": {},
     "output_type": "execute_result"
    }
   ],
   "source": [
    "man = list(range(1,11))\n",
    "cnt = 1\n",
    "while len(man)!=1:\n",
    "    if cnt == 1:\n",
    "        cnt+=1\n",
    "        continue\n",
    "    elif cnt ==2:\n",
    "        cnt+=1\n",
    "        continue\n",
    "    else cnt ==3:\n",
    "        man.remove(man[cnt])\n",
    "man.pop()"
   ]
  },
  {
   "cell_type": "code",
   "execution_count": 153,
   "metadata": {},
   "outputs": [
    {
     "data": {
      "text/plain": [
       "[2, 3, 4, 5, 6, 7, 8, 9, 10]"
      ]
     },
     "execution_count": 153,
     "metadata": {},
     "output_type": "execute_result"
    }
   ],
   "source": [
    "man = list(range(1,11))\n",
    "man.remove(man[0])\n",
    "man"
   ]
  },
  {
   "cell_type": "code",
   "execution_count": null,
   "metadata": {},
   "outputs": [],
   "source": []
  }
 ],
 "metadata": {
  "kernelspec": {
   "display_name": "Python 3",
   "language": "python",
   "name": "python3"
  },
  "language_info": {
   "codemirror_mode": {
    "name": "ipython",
    "version": 3
   },
   "file_extension": ".py",
   "mimetype": "text/x-python",
   "name": "python",
   "nbconvert_exporter": "python",
   "pygments_lexer": "ipython3",
   "version": "3.7.4"
  }
 },
 "nbformat": 4,
 "nbformat_minor": 2
}
