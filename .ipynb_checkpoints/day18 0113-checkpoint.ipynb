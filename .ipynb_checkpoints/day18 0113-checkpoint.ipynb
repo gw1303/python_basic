{
 "cells": [
  {
   "cell_type": "code",
   "execution_count": 92,
   "metadata": {},
   "outputs": [],
   "source": [
    "import pandas as pd\n",
    "import numpy as np\n",
    "from numpy import NaN, nan, NAN\n",
    "import warnings\n",
    "warnings.filterwarnings(action='ignore')"
   ]
  },
  {
   "cell_type": "code",
   "execution_count": 10,
   "metadata": {},
   "outputs": [
    {
     "data": {
      "text/html": [
       "<div>\n",
       "<style scoped>\n",
       "    .dataframe tbody tr th:only-of-type {\n",
       "        vertical-align: middle;\n",
       "    }\n",
       "\n",
       "    .dataframe tbody tr th {\n",
       "        vertical-align: top;\n",
       "    }\n",
       "\n",
       "    .dataframe thead th {\n",
       "        text-align: right;\n",
       "    }\n",
       "</style>\n",
       "<table border=\"1\" class=\"dataframe\">\n",
       "  <thead>\n",
       "    <tr style=\"text-align: right;\">\n",
       "      <th></th>\n",
       "      <th>c1</th>\n",
       "      <th>c2</th>\n",
       "      <th>c3</th>\n",
       "    </tr>\n",
       "  </thead>\n",
       "  <tbody>\n",
       "    <tr>\n",
       "      <td>0</td>\n",
       "      <td>NaN</td>\n",
       "      <td>0.800092</td>\n",
       "      <td>1.684098</td>\n",
       "    </tr>\n",
       "    <tr>\n",
       "      <td>1</td>\n",
       "      <td>0.407127</td>\n",
       "      <td>-0.750674</td>\n",
       "      <td>-2.094989</td>\n",
       "    </tr>\n",
       "    <tr>\n",
       "      <td>2</td>\n",
       "      <td>-0.330519</td>\n",
       "      <td>2.057525</td>\n",
       "      <td>-0.165001</td>\n",
       "    </tr>\n",
       "    <tr>\n",
       "      <td>3</td>\n",
       "      <td>-0.394050</td>\n",
       "      <td>0.454962</td>\n",
       "      <td>-0.718833</td>\n",
       "    </tr>\n",
       "    <tr>\n",
       "      <td>4</td>\n",
       "      <td>-0.197112</td>\n",
       "      <td>0.320105</td>\n",
       "      <td>-0.520870</td>\n",
       "    </tr>\n",
       "  </tbody>\n",
       "</table>\n",
       "</div>"
      ],
      "text/plain": [
       "         c1        c2        c3\n",
       "0       NaN  0.800092  1.684098\n",
       "1  0.407127 -0.750674 -2.094989\n",
       "2 -0.330519  2.057525 -0.165001\n",
       "3 -0.394050  0.454962 -0.718833\n",
       "4 -0.197112  0.320105 -0.520870"
      ]
     },
     "execution_count": 10,
     "metadata": {},
     "output_type": "execute_result"
    }
   ],
   "source": [
    "df = pd.DataFrame(np.random.randn(5,3),\n",
    "                 columns=['c1','c2','c3'])\n",
    "\n",
    "df.iloc[0,0] = NaN\n",
    "df"
   ]
  },
  {
   "cell_type": "code",
   "execution_count": 23,
   "metadata": {},
   "outputs": [
    {
     "data": {
      "text/html": [
       "<div>\n",
       "<style scoped>\n",
       "    .dataframe tbody tr th:only-of-type {\n",
       "        vertical-align: middle;\n",
       "    }\n",
       "\n",
       "    .dataframe tbody tr th {\n",
       "        vertical-align: top;\n",
       "    }\n",
       "\n",
       "    .dataframe thead th {\n",
       "        text-align: right;\n",
       "    }\n",
       "</style>\n",
       "<table border=\"1\" class=\"dataframe\">\n",
       "  <thead>\n",
       "    <tr style=\"text-align: right;\">\n",
       "      <th></th>\n",
       "      <th>c1</th>\n",
       "      <th>c2</th>\n",
       "      <th>c3</th>\n",
       "    </tr>\n",
       "  </thead>\n",
       "  <tbody>\n",
       "    <tr>\n",
       "      <td>0</td>\n",
       "      <td>NaN</td>\n",
       "      <td>0.800092</td>\n",
       "      <td>1.684098</td>\n",
       "    </tr>\n",
       "    <tr>\n",
       "      <td>1</td>\n",
       "      <td>NaN</td>\n",
       "      <td>-0.750674</td>\n",
       "      <td>NaN</td>\n",
       "    </tr>\n",
       "    <tr>\n",
       "      <td>2</td>\n",
       "      <td>-0.330519</td>\n",
       "      <td>NaN</td>\n",
       "      <td>-0.165001</td>\n",
       "    </tr>\n",
       "    <tr>\n",
       "      <td>3</td>\n",
       "      <td>-0.394050</td>\n",
       "      <td>NaN</td>\n",
       "      <td>-0.718833</td>\n",
       "    </tr>\n",
       "    <tr>\n",
       "      <td>4</td>\n",
       "      <td>-0.197112</td>\n",
       "      <td>0.320105</td>\n",
       "      <td>NaN</td>\n",
       "    </tr>\n",
       "  </tbody>\n",
       "</table>\n",
       "</div>"
      ],
      "text/plain": [
       "         c1        c2        c3\n",
       "0       NaN  0.800092  1.684098\n",
       "1       NaN -0.750674       NaN\n",
       "2 -0.330519       NaN -0.165001\n",
       "3 -0.394050       NaN -0.718833\n",
       "4 -0.197112  0.320105       NaN"
      ]
     },
     "execution_count": 23,
     "metadata": {},
     "output_type": "execute_result"
    }
   ],
   "source": [
    "df.ix[1,['c1','c3']]=NaN\n",
    "\n",
    "df.ix[2,['c2']] = None\n",
    "df.ix[3,['c2']] = None\n",
    "df.ix[4,['c3']] = None\n",
    "df\n",
    "\n",
    "df.fillna(0)\n",
    "df.fillna(method='ffill')\n",
    "df"
   ]
  },
  {
   "cell_type": "code",
   "execution_count": 25,
   "metadata": {},
   "outputs": [
    {
     "data": {
      "text/html": [
       "<div>\n",
       "<style scoped>\n",
       "    .dataframe tbody tr th:only-of-type {\n",
       "        vertical-align: middle;\n",
       "    }\n",
       "\n",
       "    .dataframe tbody tr th {\n",
       "        vertical-align: top;\n",
       "    }\n",
       "\n",
       "    .dataframe thead th {\n",
       "        text-align: right;\n",
       "    }\n",
       "</style>\n",
       "<table border=\"1\" class=\"dataframe\">\n",
       "  <thead>\n",
       "    <tr style=\"text-align: right;\">\n",
       "      <th></th>\n",
       "      <th>c1</th>\n",
       "      <th>c2</th>\n",
       "      <th>c3</th>\n",
       "    </tr>\n",
       "  </thead>\n",
       "  <tbody>\n",
       "    <tr>\n",
       "      <td>0</td>\n",
       "      <td>-0.307227</td>\n",
       "      <td>0.800092</td>\n",
       "      <td>1.684098</td>\n",
       "    </tr>\n",
       "    <tr>\n",
       "      <td>1</td>\n",
       "      <td>-0.307227</td>\n",
       "      <td>-0.750674</td>\n",
       "      <td>0.266755</td>\n",
       "    </tr>\n",
       "    <tr>\n",
       "      <td>2</td>\n",
       "      <td>-0.330519</td>\n",
       "      <td>0.123174</td>\n",
       "      <td>-0.165001</td>\n",
       "    </tr>\n",
       "    <tr>\n",
       "      <td>3</td>\n",
       "      <td>-0.394050</td>\n",
       "      <td>0.123174</td>\n",
       "      <td>-0.718833</td>\n",
       "    </tr>\n",
       "    <tr>\n",
       "      <td>4</td>\n",
       "      <td>-0.197112</td>\n",
       "      <td>0.320105</td>\n",
       "      <td>0.266755</td>\n",
       "    </tr>\n",
       "  </tbody>\n",
       "</table>\n",
       "</div>"
      ],
      "text/plain": [
       "         c1        c2        c3\n",
       "0 -0.307227  0.800092  1.684098\n",
       "1 -0.307227 -0.750674  0.266755\n",
       "2 -0.330519  0.123174 -0.165001\n",
       "3 -0.394050  0.123174 -0.718833\n",
       "4 -0.197112  0.320105  0.266755"
      ]
     },
     "execution_count": 25,
     "metadata": {},
     "output_type": "execute_result"
    }
   ],
   "source": [
    "df.fillna(df.mean())\n",
    "\n",
    "# df 조건\n",
    "\n",
    "df.where(pd.notnull(df),df.mean(),axis='columns')"
   ]
  },
  {
   "cell_type": "markdown",
   "metadata": {},
   "source": [
    "# np.where 함수\n",
    "np.where(조건, 참일때, 거짓일때)"
   ]
  },
  {
   "cell_type": "code",
   "execution_count": 44,
   "metadata": {},
   "outputs": [
    {
     "data": {
      "text/html": [
       "<div>\n",
       "<style scoped>\n",
       "    .dataframe tbody tr th:only-of-type {\n",
       "        vertical-align: middle;\n",
       "    }\n",
       "\n",
       "    .dataframe tbody tr th {\n",
       "        vertical-align: top;\n",
       "    }\n",
       "\n",
       "    .dataframe thead th {\n",
       "        text-align: right;\n",
       "    }\n",
       "</style>\n",
       "<table border=\"1\" class=\"dataframe\">\n",
       "  <thead>\n",
       "    <tr style=\"text-align: right;\">\n",
       "      <th></th>\n",
       "      <th>c1</th>\n",
       "      <th>c2</th>\n",
       "      <th>c3</th>\n",
       "    </tr>\n",
       "  </thead>\n",
       "  <tbody>\n",
       "    <tr>\n",
       "      <td>0</td>\n",
       "      <td>-0.307227</td>\n",
       "      <td>0.800092</td>\n",
       "      <td>1.684098</td>\n",
       "    </tr>\n",
       "    <tr>\n",
       "      <td>1</td>\n",
       "      <td>-0.307227</td>\n",
       "      <td>-0.750674</td>\n",
       "      <td>-0.307227</td>\n",
       "    </tr>\n",
       "    <tr>\n",
       "      <td>2</td>\n",
       "      <td>-0.330519</td>\n",
       "      <td>-0.307227</td>\n",
       "      <td>-0.165001</td>\n",
       "    </tr>\n",
       "    <tr>\n",
       "      <td>3</td>\n",
       "      <td>-0.394050</td>\n",
       "      <td>-0.307227</td>\n",
       "      <td>-0.718833</td>\n",
       "    </tr>\n",
       "    <tr>\n",
       "      <td>4</td>\n",
       "      <td>-0.197112</td>\n",
       "      <td>0.320105</td>\n",
       "      <td>-0.307227</td>\n",
       "    </tr>\n",
       "  </tbody>\n",
       "</table>\n",
       "</div>"
      ],
      "text/plain": [
       "         c1        c2        c3\n",
       "0 -0.307227  0.800092  1.684098\n",
       "1 -0.307227 -0.750674 -0.307227\n",
       "2 -0.330519 -0.307227 -0.165001\n",
       "3 -0.394050 -0.307227 -0.718833\n",
       "4 -0.197112  0.320105 -0.307227"
      ]
     },
     "execution_count": 44,
     "metadata": {},
     "output_type": "execute_result"
    }
   ],
   "source": [
    "arr = np.array([1,2,3,10,20,30,0.1,0.2])\n",
    "min(arr)\n",
    "np.argmin(arr)  # 배열의 최소값의 위치를 반환\n",
    "np.argmax(arr)  # 배열의 최대값의 위치를 반환\n",
    "\n",
    "# where함수는 조건문 사용 \n",
    "np.where(arr<1)  # [6,7] 1보다 작은 값들의 인덱스 출력\n",
    "np.where(arr>=10,0,arr)  # 조건이 참이면 0, 거짓이면 arr 그대로\n",
    "np.where(arr>=10,arr*0.1,arr)  \n",
    "\n",
    "df.fillna(df.mean()['c1'])"
   ]
  },
  {
   "cell_type": "code",
   "execution_count": 47,
   "metadata": {},
   "outputs": [
    {
     "data": {
      "text/html": [
       "<div>\n",
       "<style scoped>\n",
       "    .dataframe tbody tr th:only-of-type {\n",
       "        vertical-align: middle;\n",
       "    }\n",
       "\n",
       "    .dataframe tbody tr th {\n",
       "        vertical-align: top;\n",
       "    }\n",
       "\n",
       "    .dataframe thead th {\n",
       "        text-align: right;\n",
       "    }\n",
       "</style>\n",
       "<table border=\"1\" class=\"dataframe\">\n",
       "  <thead>\n",
       "    <tr style=\"text-align: right;\">\n",
       "      <th></th>\n",
       "      <th>c1</th>\n",
       "      <th>c2</th>\n",
       "      <th>c3</th>\n",
       "    </tr>\n",
       "  </thead>\n",
       "  <tbody>\n",
       "    <tr>\n",
       "      <td>0</td>\n",
       "      <td>-0.307227</td>\n",
       "      <td>0.800092</td>\n",
       "      <td>1.684098</td>\n",
       "    </tr>\n",
       "    <tr>\n",
       "      <td>1</td>\n",
       "      <td>-0.307227</td>\n",
       "      <td>-0.750674</td>\n",
       "      <td>NaN</td>\n",
       "    </tr>\n",
       "    <tr>\n",
       "      <td>2</td>\n",
       "      <td>-0.330519</td>\n",
       "      <td>0.123174</td>\n",
       "      <td>-0.165001</td>\n",
       "    </tr>\n",
       "    <tr>\n",
       "      <td>3</td>\n",
       "      <td>-0.394050</td>\n",
       "      <td>0.123174</td>\n",
       "      <td>-0.718833</td>\n",
       "    </tr>\n",
       "    <tr>\n",
       "      <td>4</td>\n",
       "      <td>-0.197112</td>\n",
       "      <td>0.320105</td>\n",
       "      <td>NaN</td>\n",
       "    </tr>\n",
       "  </tbody>\n",
       "</table>\n",
       "</div>"
      ],
      "text/plain": [
       "         c1        c2        c3\n",
       "0 -0.307227  0.800092  1.684098\n",
       "1 -0.307227 -0.750674       NaN\n",
       "2 -0.330519  0.123174 -0.165001\n",
       "3 -0.394050  0.123174 -0.718833\n",
       "4 -0.197112  0.320105       NaN"
      ]
     },
     "execution_count": 47,
     "metadata": {},
     "output_type": "execute_result"
    }
   ],
   "source": [
    "df.fillna(df.mean()['c1':'c2'])  # 에러가 날 것 같지만 그냥 c3열만 대체 X"
   ]
  },
  {
   "cell_type": "code",
   "execution_count": 63,
   "metadata": {},
   "outputs": [
    {
     "data": {
      "text/html": [
       "<div>\n",
       "<style scoped>\n",
       "    .dataframe tbody tr th:only-of-type {\n",
       "        vertical-align: middle;\n",
       "    }\n",
       "\n",
       "    .dataframe tbody tr th {\n",
       "        vertical-align: top;\n",
       "    }\n",
       "\n",
       "    .dataframe thead th {\n",
       "        text-align: right;\n",
       "    }\n",
       "</style>\n",
       "<table border=\"1\" class=\"dataframe\">\n",
       "  <thead>\n",
       "    <tr style=\"text-align: right;\">\n",
       "      <th></th>\n",
       "      <th>c1</th>\n",
       "      <th>c2</th>\n",
       "    </tr>\n",
       "  </thead>\n",
       "  <tbody>\n",
       "    <tr>\n",
       "      <td>0</td>\n",
       "      <td>1</td>\n",
       "      <td>9.0</td>\n",
       "    </tr>\n",
       "    <tr>\n",
       "      <td>1</td>\n",
       "      <td>2</td>\n",
       "      <td>NaN</td>\n",
       "    </tr>\n",
       "    <tr>\n",
       "      <td>2</td>\n",
       "      <td>3</td>\n",
       "      <td>8.0</td>\n",
       "    </tr>\n",
       "    <tr>\n",
       "      <td>3</td>\n",
       "      <td>4</td>\n",
       "      <td>NaN</td>\n",
       "    </tr>\n",
       "    <tr>\n",
       "      <td>4</td>\n",
       "      <td>5</td>\n",
       "      <td>10.0</td>\n",
       "    </tr>\n",
       "  </tbody>\n",
       "</table>\n",
       "</div>"
      ],
      "text/plain": [
       "   c1    c2\n",
       "0   1   9.0\n",
       "1   2   NaN\n",
       "2   3   8.0\n",
       "3   4   NaN\n",
       "4   5  10.0"
      ]
     },
     "execution_count": 63,
     "metadata": {},
     "output_type": "execute_result"
    }
   ],
   "source": [
    "df = pd.DataFrame({\n",
    "    'c1':[1,2,3,4,5],\n",
    "    'c2':[9,7,8,9,10]\n",
    "})\n",
    "df.ix[[1,3],'c2']=NaN\n",
    "df"
   ]
  },
  {
   "cell_type": "code",
   "execution_count": null,
   "metadata": {},
   "outputs": [],
   "source": [
    "# c2p열에는 c2열 값이 notnull이면 c2열 값을\n",
    "#          c2열 값이 null이면 c1열 값을 채우고자함\n",
    "df['c2p']=np.where(pd.notnull(df['c2'])==True, df['c2'],df['c1'])\n",
    "df"
   ]
  },
  {
   "cell_type": "code",
   "execution_count": 69,
   "metadata": {},
   "outputs": [
    {
     "data": {
      "text/html": [
       "<div>\n",
       "<style scoped>\n",
       "    .dataframe tbody tr th:only-of-type {\n",
       "        vertical-align: middle;\n",
       "    }\n",
       "\n",
       "    .dataframe tbody tr th {\n",
       "        vertical-align: top;\n",
       "    }\n",
       "\n",
       "    .dataframe thead th {\n",
       "        text-align: right;\n",
       "    }\n",
       "</style>\n",
       "<table border=\"1\" class=\"dataframe\">\n",
       "  <thead>\n",
       "    <tr style=\"text-align: right;\">\n",
       "      <th></th>\n",
       "      <th>c1</th>\n",
       "      <th>c2</th>\n",
       "      <th>c2p</th>\n",
       "    </tr>\n",
       "  </thead>\n",
       "  <tbody>\n",
       "    <tr>\n",
       "      <td>0</td>\n",
       "      <td>1</td>\n",
       "      <td>9.0</td>\n",
       "      <td>9.0</td>\n",
       "    </tr>\n",
       "    <tr>\n",
       "      <td>1</td>\n",
       "      <td>2</td>\n",
       "      <td>NaN</td>\n",
       "      <td>2.0</td>\n",
       "    </tr>\n",
       "    <tr>\n",
       "      <td>2</td>\n",
       "      <td>3</td>\n",
       "      <td>8.0</td>\n",
       "      <td>8.0</td>\n",
       "    </tr>\n",
       "    <tr>\n",
       "      <td>3</td>\n",
       "      <td>4</td>\n",
       "      <td>NaN</td>\n",
       "      <td>4.0</td>\n",
       "    </tr>\n",
       "    <tr>\n",
       "      <td>4</td>\n",
       "      <td>5</td>\n",
       "      <td>10.0</td>\n",
       "      <td>10.0</td>\n",
       "    </tr>\n",
       "  </tbody>\n",
       "</table>\n",
       "</div>"
      ],
      "text/plain": [
       "   c1    c2   c2p\n",
       "0   1   9.0   9.0\n",
       "1   2   NaN   2.0\n",
       "2   3   8.0   8.0\n",
       "3   4   NaN   4.0\n",
       "4   5  10.0  10.0"
      ]
     },
     "execution_count": 69,
     "metadata": {},
     "output_type": "execute_result"
    }
   ],
   "source": [
    "for i in range(df.shape[0]):\n",
    "    if pd.notnull(df.ix[i,'c2'])==True:  # \n",
    "        df.ix[i,'c2p']=df.ix[i,'c2']\n",
    "    else:\n",
    "        df.ix[i,'c2p']=df.ix[i,'c1']\n",
    "df"
   ]
  },
  {
   "cell_type": "markdown",
   "metadata": {},
   "source": []
  },
  {
   "cell_type": "markdown",
   "metadata": {},
   "source": [
    "# dropna 메서드 \n",
    ": 열(axis=1) / 행 (axis=0) 제거"
   ]
  },
  {
   "cell_type": "code",
   "execution_count": 74,
   "metadata": {},
   "outputs": [
    {
     "data": {
      "text/html": [
       "<div>\n",
       "<style scoped>\n",
       "    .dataframe tbody tr th:only-of-type {\n",
       "        vertical-align: middle;\n",
       "    }\n",
       "\n",
       "    .dataframe tbody tr th {\n",
       "        vertical-align: top;\n",
       "    }\n",
       "\n",
       "    .dataframe thead th {\n",
       "        text-align: right;\n",
       "    }\n",
       "</style>\n",
       "<table border=\"1\" class=\"dataframe\">\n",
       "  <thead>\n",
       "    <tr style=\"text-align: right;\">\n",
       "      <th></th>\n",
       "      <th>c1</th>\n",
       "      <th>c2</th>\n",
       "    </tr>\n",
       "  </thead>\n",
       "  <tbody>\n",
       "    <tr>\n",
       "      <td>0</td>\n",
       "      <td>1</td>\n",
       "      <td>9.0</td>\n",
       "    </tr>\n",
       "    <tr>\n",
       "      <td>1</td>\n",
       "      <td>2</td>\n",
       "      <td>NaN</td>\n",
       "    </tr>\n",
       "    <tr>\n",
       "      <td>2</td>\n",
       "      <td>3</td>\n",
       "      <td>8.0</td>\n",
       "    </tr>\n",
       "    <tr>\n",
       "      <td>3</td>\n",
       "      <td>4</td>\n",
       "      <td>NaN</td>\n",
       "    </tr>\n",
       "    <tr>\n",
       "      <td>4</td>\n",
       "      <td>5</td>\n",
       "      <td>10.0</td>\n",
       "    </tr>\n",
       "  </tbody>\n",
       "</table>\n",
       "</div>"
      ],
      "text/plain": [
       "   c1    c2\n",
       "0   1   9.0\n",
       "1   2   NaN\n",
       "2   3   8.0\n",
       "3   4   NaN\n",
       "4   5  10.0"
      ]
     },
     "execution_count": 74,
     "metadata": {},
     "output_type": "execute_result"
    }
   ],
   "source": [
    "df = pd.DataFrame({\n",
    "    'c1':[1,2,3,4,5],\n",
    "    'c2':[9,7,8,9,10]\n",
    "})\n",
    "df.ix[[1,3],'c2']=NaN"
   ]
  },
  {
   "cell_type": "code",
   "execution_count": 80,
   "metadata": {},
   "outputs": [
    {
     "data": {
      "text/html": [
       "<div>\n",
       "<style scoped>\n",
       "    .dataframe tbody tr th:only-of-type {\n",
       "        vertical-align: middle;\n",
       "    }\n",
       "\n",
       "    .dataframe tbody tr th {\n",
       "        vertical-align: top;\n",
       "    }\n",
       "\n",
       "    .dataframe thead th {\n",
       "        text-align: right;\n",
       "    }\n",
       "</style>\n",
       "<table border=\"1\" class=\"dataframe\">\n",
       "  <thead>\n",
       "    <tr style=\"text-align: right;\">\n",
       "      <th></th>\n",
       "      <th>c1</th>\n",
       "      <th>c2</th>\n",
       "    </tr>\n",
       "  </thead>\n",
       "  <tbody>\n",
       "    <tr>\n",
       "      <td>0</td>\n",
       "      <td>1</td>\n",
       "      <td>9.0</td>\n",
       "    </tr>\n",
       "    <tr>\n",
       "      <td>2</td>\n",
       "      <td>3</td>\n",
       "      <td>8.0</td>\n",
       "    </tr>\n",
       "    <tr>\n",
       "      <td>4</td>\n",
       "      <td>5</td>\n",
       "      <td>10.0</td>\n",
       "    </tr>\n",
       "  </tbody>\n",
       "</table>\n",
       "</div>"
      ],
      "text/plain": [
       "   c1    c2\n",
       "0   1   9.0\n",
       "2   3   8.0\n",
       "4   5  10.0"
      ]
     },
     "execution_count": 80,
     "metadata": {},
     "output_type": "execute_result"
    }
   ],
   "source": [
    "df.dropna(axis=0)  # 결측값이 있는 행 전체 제거\n",
    "df.dropna(axis=1)  # 결측값이 있는 열 전체 제거\n",
    "df[['c1','c2']].dropna()  # default) axis=0"
   ]
  },
  {
   "cell_type": "markdown",
   "metadata": {},
   "source": [
    "# 결측값 보간(interpolate)\n",
    "1) 시계열 데이터에 대해 선형적으로 비례하는 값 \n",
    "0\n",
    "2\n",
    "4\n",
    "na => 6\n",
    "8\n",
    "\n",
    "2) 이미지 보간 : 그라데이션과 비슷"
   ]
  },
  {
   "cell_type": "code",
   "execution_count": 81,
   "metadata": {},
   "outputs": [],
   "source": [
    "from datetime import datetime\n",
    "# datetime 모듈에 있응 datetime함수를 import"
   ]
  },
  {
   "cell_type": "code",
   "execution_count": 103,
   "metadata": {},
   "outputs": [
    {
     "data": {
      "text/plain": [
       "DatetimeIndex(['2020-01-13', '2020-01-16', '2020-01-17', '2020-01-20'], dtype='datetime64[ns]', freq=None)"
      ]
     },
     "execution_count": 103,
     "metadata": {},
     "output_type": "execute_result"
    }
   ],
   "source": [
    "dateStr = ['1/13/2020','1/16/2020','1/17/2020','1/20/2020']\n",
    "dateStr\n",
    "dates = pd.to_datetime(dateStr)\n",
    "dates"
   ]
  },
  {
   "cell_type": "code",
   "execution_count": 104,
   "metadata": {},
   "outputs": [
    {
     "data": {
      "text/plain": [
       "2020-01-13     1.0\n",
       "2020-01-16     NaN\n",
       "2020-01-17     NaN\n",
       "2020-01-20    10.0\n",
       "dtype: float64"
      ]
     },
     "execution_count": 104,
     "metadata": {},
     "output_type": "execute_result"
    }
   ],
   "source": [
    "ts = pd.Series([1,NaN,NaN,10], index=dates)\n",
    "ts"
   ]
  },
  {
   "cell_type": "code",
   "execution_count": 98,
   "metadata": {},
   "outputs": [
    {
     "name": "stdout",
     "output_type": "stream",
     "text": [
      "Help on method interpolate in module pandas.core.generic:\n",
      "\n",
      "interpolate(method='linear', axis=0, limit=None, inplace=False, limit_direction='forward', limit_area=None, downcast=None, **kwargs) method of pandas.core.frame.DataFrame instance\n",
      "    Interpolate values according to different methods.\n",
      "    \n",
      "    Please note that only ``method='linear'`` is supported for\n",
      "    DataFrame/Series with a MultiIndex.\n",
      "    \n",
      "    Parameters\n",
      "    ----------\n",
      "    method : str, default 'linear'\n",
      "        Interpolation technique to use. One of:\n",
      "    \n",
      "        * 'linear': Ignore the index and treat the values as equally\n",
      "          spaced. This is the only method supported on MultiIndexes.\n",
      "        * 'time': Works on daily and higher resolution data to interpolate\n",
      "          given length of interval.\n",
      "        * 'index', 'values': use the actual numerical values of the index.\n",
      "        * 'pad': Fill in NaNs using existing values.\n",
      "        * 'nearest', 'zero', 'slinear', 'quadratic', 'cubic', 'spline',\n",
      "          'barycentric', 'polynomial': Passed to\n",
      "          `scipy.interpolate.interp1d`. These methods use the numerical\n",
      "          values of the index.  Both 'polynomial' and 'spline' require that\n",
      "          you also specify an `order` (int), e.g.\n",
      "          ``df.interpolate(method='polynomial', order=5)``.\n",
      "        * 'krogh', 'piecewise_polynomial', 'spline', 'pchip', 'akima':\n",
      "          Wrappers around the SciPy interpolation methods of similar\n",
      "          names. See `Notes`.\n",
      "        * 'from_derivatives': Refers to\n",
      "          `scipy.interpolate.BPoly.from_derivatives` which\n",
      "          replaces 'piecewise_polynomial' interpolation method in\n",
      "          scipy 0.18.\n",
      "    \n",
      "        .. versionadded:: 0.18.1\n",
      "    \n",
      "           Added support for the 'akima' method.\n",
      "           Added interpolate method 'from_derivatives' which replaces\n",
      "           'piecewise_polynomial' in SciPy 0.18; backwards-compatible with\n",
      "           SciPy < 0.18\n",
      "    \n",
      "    axis : {0 or 'index', 1 or 'columns', None}, default None\n",
      "        Axis to interpolate along.\n",
      "    limit : int, optional\n",
      "        Maximum number of consecutive NaNs to fill. Must be greater than\n",
      "        0.\n",
      "    inplace : bool, default False\n",
      "        Update the data in place if possible.\n",
      "    limit_direction : {'forward', 'backward', 'both'}, default 'forward'\n",
      "        If limit is specified, consecutive NaNs will be filled in this\n",
      "        direction.\n",
      "    limit_area : {`None`, 'inside', 'outside'}, default None\n",
      "        If limit is specified, consecutive NaNs will be filled with this\n",
      "        restriction.\n",
      "    \n",
      "        * ``None``: No fill restriction.\n",
      "        * 'inside': Only fill NaNs surrounded by valid values\n",
      "          (interpolate).\n",
      "        * 'outside': Only fill NaNs outside valid values (extrapolate).\n",
      "    \n",
      "        .. versionadded:: 0.23.0\n",
      "    \n",
      "    downcast : optional, 'infer' or None, defaults to None\n",
      "        Downcast dtypes if possible.\n",
      "    **kwargs\n",
      "        Keyword arguments to pass on to the interpolating function.\n",
      "    \n",
      "    Returns\n",
      "    -------\n",
      "    Series or DataFrame\n",
      "        Returns the same object type as the caller, interpolated at\n",
      "        some or all ``NaN`` values.\n",
      "    \n",
      "    See Also\n",
      "    --------\n",
      "    fillna : Fill missing values using different methods.\n",
      "    scipy.interpolate.Akima1DInterpolator : Piecewise cubic polynomials\n",
      "        (Akima interpolator).\n",
      "    scipy.interpolate.BPoly.from_derivatives : Piecewise polynomial in the\n",
      "        Bernstein basis.\n",
      "    scipy.interpolate.interp1d : Interpolate a 1-D function.\n",
      "    scipy.interpolate.KroghInterpolator : Interpolate polynomial (Krogh\n",
      "        interpolator).\n",
      "    scipy.interpolate.PchipInterpolator : PCHIP 1-d monotonic cubic\n",
      "        interpolation.\n",
      "    scipy.interpolate.CubicSpline : Cubic spline data interpolator.\n",
      "    \n",
      "    Notes\n",
      "    -----\n",
      "    The 'krogh', 'piecewise_polynomial', 'spline', 'pchip' and 'akima'\n",
      "    methods are wrappers around the respective SciPy implementations of\n",
      "    similar names. These use the actual numerical values of the index.\n",
      "    For more information on their behavior, see the\n",
      "    `SciPy documentation\n",
      "    <http://docs.scipy.org/doc/scipy/reference/interpolate.html#univariate-interpolation>`__\n",
      "    and `SciPy tutorial\n",
      "    <http://docs.scipy.org/doc/scipy/reference/tutorial/interpolate.html>`__.\n",
      "    \n",
      "    Examples\n",
      "    --------\n",
      "    Filling in ``NaN`` in a :class:`~pandas.Series` via linear\n",
      "    interpolation.\n",
      "    \n",
      "    >>> s = pd.Series([0, 1, np.nan, 3])\n",
      "    >>> s\n",
      "    0    0.0\n",
      "    1    1.0\n",
      "    2    NaN\n",
      "    3    3.0\n",
      "    dtype: float64\n",
      "    >>> s.interpolate()\n",
      "    0    0.0\n",
      "    1    1.0\n",
      "    2    2.0\n",
      "    3    3.0\n",
      "    dtype: float64\n",
      "    \n",
      "    Filling in ``NaN`` in a Series by padding, but filling at most two\n",
      "    consecutive ``NaN`` at a time.\n",
      "    \n",
      "    >>> s = pd.Series([np.nan, \"single_one\", np.nan,\n",
      "    ...                \"fill_two_more\", np.nan, np.nan, np.nan,\n",
      "    ...                4.71, np.nan])\n",
      "    >>> s\n",
      "    0              NaN\n",
      "    1       single_one\n",
      "    2              NaN\n",
      "    3    fill_two_more\n",
      "    4              NaN\n",
      "    5              NaN\n",
      "    6              NaN\n",
      "    7             4.71\n",
      "    8              NaN\n",
      "    dtype: object\n",
      "    >>> s.interpolate(method='pad', limit=2)\n",
      "    0              NaN\n",
      "    1       single_one\n",
      "    2       single_one\n",
      "    3    fill_two_more\n",
      "    4    fill_two_more\n",
      "    5    fill_two_more\n",
      "    6              NaN\n",
      "    7             4.71\n",
      "    8             4.71\n",
      "    dtype: object\n",
      "    \n",
      "    Filling in ``NaN`` in a Series via polynomial interpolation or splines:\n",
      "    Both 'polynomial' and 'spline' methods require that you also specify\n",
      "    an ``order`` (int).\n",
      "    \n",
      "    >>> s = pd.Series([0, 2, np.nan, 8])\n",
      "    >>> s.interpolate(method='polynomial', order=2)\n",
      "    0    0.000000\n",
      "    1    2.000000\n",
      "    2    4.666667\n",
      "    3    8.000000\n",
      "    dtype: float64\n",
      "    \n",
      "    Fill the DataFrame forward (that is, going down) along each column\n",
      "    using linear interpolation.\n",
      "    \n",
      "    Note how the last entry in column 'a' is interpolated differently,\n",
      "    because there is no entry after it to use for interpolation.\n",
      "    Note how the first entry in column 'b' remains ``NaN``, because there\n",
      "    is no entry before it to use for interpolation.\n",
      "    \n",
      "    >>> df = pd.DataFrame([(0.0, np.nan, -1.0, 1.0),\n",
      "    ...                    (np.nan, 2.0, np.nan, np.nan),\n",
      "    ...                    (2.0, 3.0, np.nan, 9.0),\n",
      "    ...                    (np.nan, 4.0, -4.0, 16.0)],\n",
      "    ...                   columns=list('abcd'))\n",
      "    >>> df\n",
      "         a    b    c     d\n",
      "    0  0.0  NaN -1.0   1.0\n",
      "    1  NaN  2.0  NaN   NaN\n",
      "    2  2.0  3.0  NaN   9.0\n",
      "    3  NaN  4.0 -4.0  16.0\n",
      "    >>> df.interpolate(method='linear', limit_direction='forward', axis=0)\n",
      "         a    b    c     d\n",
      "    0  0.0  NaN -1.0   1.0\n",
      "    1  1.0  2.0 -2.0   5.0\n",
      "    2  2.0  3.0 -3.0   9.0\n",
      "    3  2.0  4.0 -4.0  16.0\n",
      "    \n",
      "    Using polynomial interpolation.\n",
      "    \n",
      "    >>> df['d'].interpolate(method='polynomial', order=2)\n",
      "    0     1.0\n",
      "    1     4.0\n",
      "    2     9.0\n",
      "    3    16.0\n",
      "    Name: d, dtype: float64\n",
      "\n"
     ]
    }
   ],
   "source": [
    "help(df.interpolate)"
   ]
  },
  {
   "cell_type": "code",
   "execution_count": 105,
   "metadata": {},
   "outputs": [
    {
     "data": {
      "text/plain": [
       "2020-01-13     1.0\n",
       "2020-01-16     4.0\n",
       "2020-01-17     7.0\n",
       "2020-01-20    10.0\n",
       "dtype: float64"
      ]
     },
     "execution_count": 105,
     "metadata": {},
     "output_type": "execute_result"
    }
   ],
   "source": [
    "# 선형적으로 비례하게 결측값 보간\n",
    "tslr = ts.interpolate()  \n",
    "# dafault\n",
    "# method = values\n",
    "tslr"
   ]
  },
  {
   "cell_type": "code",
   "execution_count": 107,
   "metadata": {},
   "outputs": [
    {
     "data": {
      "text/plain": [
       "2020-01-13     1.000000\n",
       "2020-01-16     4.857143\n",
       "2020-01-17          NaN\n",
       "2020-01-20    10.000000\n",
       "dtype: float64"
      ]
     },
     "execution_count": 107,
     "metadata": {},
     "output_type": "execute_result"
    }
   ],
   "source": [
    "# method = 'time'\n",
    "# 인덱스의 날짜를 기준으로 간격을 나눠 보간\n",
    "# limit = n \n",
    "# 결측값을 n개 만큼만 보간한다. \n",
    "tsTime = ts.interpolate(method='time', limit=1)  \n",
    "tsTime"
   ]
  },
  {
   "cell_type": "markdown",
   "metadata": {},
   "source": [
    "# na를 대체 : fillna, replace\n",
    "fillna  : na값만을 대체\n",
    "\n",
    "replace : 다른 모든 값들에 대해 대체 가능 "
   ]
  },
  {
   "cell_type": "code",
   "execution_count": 122,
   "metadata": {},
   "outputs": [
    {
     "data": {
      "text/plain": [
       "0    100.0\n",
       "1    200.0\n",
       "2      3.0\n",
       "3    100.0\n",
       "4      NaN\n",
       "dtype: float64"
      ]
     },
     "execution_count": 122,
     "metadata": {},
     "output_type": "execute_result"
    }
   ],
   "source": [
    "# Series에 대해 replace\n",
    "s = pd.Series([1,2,3,4,nan])\n",
    "s\n",
    "\n",
    "s.replace(3,9)   # 3 -> 9\n",
    "s.replace(nan,5) # nan -> 5\n",
    "\n",
    "# 리스트 형태로 replace\n",
    "s = pd.Series([1,2,3,1,nan])\n",
    "s.replace([1,2,3],[6,7,8])\n",
    "s.replace([1,2,3,nan],[10,20,30,99])\n",
    "\n",
    "# 딕셔너리 형태로 replace\n",
    "# {원래값:바꿀값, ..}\n",
    "s.replace({1:100, 2:200})"
   ]
  },
  {
   "cell_type": "code",
   "execution_count": 125,
   "metadata": {},
   "outputs": [
    {
     "data": {
      "text/html": [
       "<div>\n",
       "<style scoped>\n",
       "    .dataframe tbody tr th:only-of-type {\n",
       "        vertical-align: middle;\n",
       "    }\n",
       "\n",
       "    .dataframe tbody tr th {\n",
       "        vertical-align: top;\n",
       "    }\n",
       "\n",
       "    .dataframe thead th {\n",
       "        text-align: right;\n",
       "    }\n",
       "</style>\n",
       "<table border=\"1\" class=\"dataframe\">\n",
       "  <thead>\n",
       "    <tr style=\"text-align: right;\">\n",
       "      <th></th>\n",
       "      <th>c1</th>\n",
       "      <th>c2</th>\n",
       "      <th>c3</th>\n",
       "    </tr>\n",
       "  </thead>\n",
       "  <tbody>\n",
       "    <tr>\n",
       "      <td>0</td>\n",
       "      <td>aaa</td>\n",
       "      <td>1</td>\n",
       "      <td>5.0</td>\n",
       "    </tr>\n",
       "    <tr>\n",
       "      <td>1</td>\n",
       "      <td>b</td>\n",
       "      <td>2</td>\n",
       "      <td>6.0</td>\n",
       "    </tr>\n",
       "    <tr>\n",
       "      <td>2</td>\n",
       "      <td>c</td>\n",
       "      <td>3</td>\n",
       "      <td>7.0</td>\n",
       "    </tr>\n",
       "    <tr>\n",
       "      <td>3</td>\n",
       "      <td>d</td>\n",
       "      <td>4</td>\n",
       "      <td>NaN</td>\n",
       "    </tr>\n",
       "  </tbody>\n",
       "</table>\n",
       "</div>"
      ],
      "text/plain": [
       "    c1  c2   c3\n",
       "0  aaa   1  5.0\n",
       "1    b   2  6.0\n",
       "2    c   3  7.0\n",
       "3    d   4  NaN"
      ]
     },
     "execution_count": 125,
     "metadata": {},
     "output_type": "execute_result"
    }
   ],
   "source": [
    "# DataFrame에 대해 replace\n",
    "df = pd.DataFrame({\n",
    "    'c1':['aaa','b','c','d'],\n",
    "    'c2':[1,2,3,4],\n",
    "    'c3':[5,6,7,nan]\n",
    "})\n",
    "df"
   ]
  },
  {
   "cell_type": "code",
   "execution_count": 130,
   "metadata": {},
   "outputs": [
    {
     "data": {
      "text/html": [
       "<div>\n",
       "<style scoped>\n",
       "    .dataframe tbody tr th:only-of-type {\n",
       "        vertical-align: middle;\n",
       "    }\n",
       "\n",
       "    .dataframe tbody tr th {\n",
       "        vertical-align: top;\n",
       "    }\n",
       "\n",
       "    .dataframe thead th {\n",
       "        text-align: right;\n",
       "    }\n",
       "</style>\n",
       "<table border=\"1\" class=\"dataframe\">\n",
       "  <thead>\n",
       "    <tr style=\"text-align: right;\">\n",
       "      <th></th>\n",
       "      <th>c1</th>\n",
       "      <th>c2</th>\n",
       "      <th>c3</th>\n",
       "    </tr>\n",
       "  </thead>\n",
       "  <tbody>\n",
       "    <tr>\n",
       "      <td>0</td>\n",
       "      <td>aaa</td>\n",
       "      <td>1</td>\n",
       "      <td>5.0</td>\n",
       "    </tr>\n",
       "    <tr>\n",
       "      <td>1</td>\n",
       "      <td>b</td>\n",
       "      <td>2</td>\n",
       "      <td>6.0</td>\n",
       "    </tr>\n",
       "    <tr>\n",
       "      <td>2</td>\n",
       "      <td>c</td>\n",
       "      <td>3</td>\n",
       "      <td>7.0</td>\n",
       "    </tr>\n",
       "    <tr>\n",
       "      <td>3</td>\n",
       "      <td>d</td>\n",
       "      <td>4</td>\n",
       "      <td>88.0</td>\n",
       "    </tr>\n",
       "  </tbody>\n",
       "</table>\n",
       "</div>"
      ],
      "text/plain": [
       "    c1  c2    c3\n",
       "0  aaa   1   5.0\n",
       "1    b   2   6.0\n",
       "2    c   3   7.0\n",
       "3    d   4  88.0"
      ]
     },
     "execution_count": 130,
     "metadata": {},
     "output_type": "execute_result"
    }
   ],
   "source": [
    "df.replace('aaa','bbb')\n",
    "df.replace({'c1':'aaa'},{'c1':'vvv'})\n",
    "df.replace({'c3':nan},{'c3':99})\n",
    "df.replace({'c3':nan},88)"
   ]
  },
  {
   "cell_type": "markdown",
   "metadata": {},
   "source": [
    "# 병합\n",
    "중복 데이터 발생\n",
    "a01 홍길동 -> 임꺽정 ( 여기저기에 흩어져있다면.. ?)\n",
    "\n",
    "중복데이터 여부 : duplicated()\n",
    "중복데이터 처리 : 한 개만 남겨놓고 나머지는 제거 (drop_duplicates())"
   ]
  },
  {
   "cell_type": "code",
   "execution_count": 131,
   "metadata": {},
   "outputs": [
    {
     "name": "stdout",
     "output_type": "stream",
     "text": [
      "Help on method drop_duplicates in module pandas.core.frame:\n",
      "\n",
      "drop_duplicates(subset=None, keep='first', inplace=False) method of pandas.core.frame.DataFrame instance\n",
      "    Return DataFrame with duplicate rows removed, optionally only\n",
      "    considering certain columns. Indexes, including time indexes\n",
      "    are ignored.\n",
      "    \n",
      "    Parameters\n",
      "    ----------\n",
      "    subset : column label or sequence of labels, optional\n",
      "        Only consider certain columns for identifying duplicates, by\n",
      "        default use all of the columns\n",
      "    keep : {'first', 'last', False}, default 'first'\n",
      "        - ``first`` : Drop duplicates except for the first occurrence.\n",
      "        - ``last`` : Drop duplicates except for the last occurrence.\n",
      "        - False : Drop all duplicates.\n",
      "    inplace : boolean, default False\n",
      "        Whether to drop duplicates in place or to return a copy\n",
      "    \n",
      "    Returns\n",
      "    -------\n",
      "    DataFrame\n",
      "\n"
     ]
    }
   ],
   "source": [
    "help(df.drop_duplicates)"
   ]
  },
  {
   "cell_type": "code",
   "execution_count": 159,
   "metadata": {},
   "outputs": [
    {
     "data": {
      "text/html": [
       "<div>\n",
       "<style scoped>\n",
       "    .dataframe tbody tr th:only-of-type {\n",
       "        vertical-align: middle;\n",
       "    }\n",
       "\n",
       "    .dataframe tbody tr th {\n",
       "        vertical-align: top;\n",
       "    }\n",
       "\n",
       "    .dataframe thead th {\n",
       "        text-align: right;\n",
       "    }\n",
       "</style>\n",
       "<table border=\"1\" class=\"dataframe\">\n",
       "  <thead>\n",
       "    <tr style=\"text-align: right;\">\n",
       "      <th></th>\n",
       "      <th>k1</th>\n",
       "      <th>k2</th>\n",
       "      <th>col</th>\n",
       "    </tr>\n",
       "  </thead>\n",
       "  <tbody>\n",
       "    <tr>\n",
       "      <td>0</td>\n",
       "      <td>b</td>\n",
       "      <td>x</td>\n",
       "      <td>10</td>\n",
       "    </tr>\n",
       "    <tr>\n",
       "      <td>1</td>\n",
       "      <td>b</td>\n",
       "      <td>y</td>\n",
       "      <td>20</td>\n",
       "    </tr>\n",
       "    <tr>\n",
       "      <td>2</td>\n",
       "      <td>b</td>\n",
       "      <td>y</td>\n",
       "      <td>30</td>\n",
       "    </tr>\n",
       "    <tr>\n",
       "      <td>3</td>\n",
       "      <td>c</td>\n",
       "      <td>x</td>\n",
       "      <td>40</td>\n",
       "    </tr>\n",
       "    <tr>\n",
       "      <td>4</td>\n",
       "      <td>c</td>\n",
       "      <td>z</td>\n",
       "      <td>50</td>\n",
       "    </tr>\n",
       "  </tbody>\n",
       "</table>\n",
       "</div>"
      ],
      "text/plain": [
       "  k1 k2  col\n",
       "0  b  x   10\n",
       "1  b  y   20\n",
       "2  b  y   30\n",
       "3  c  x   40\n",
       "4  c  z   50"
      ]
     },
     "execution_count": 159,
     "metadata": {},
     "output_type": "execute_result"
    }
   ],
   "source": [
    "df = pd.DataFrame({\n",
    "    'k1':['b','b','b','c','c'],\n",
    "    'k2':['x','y','y','x','z'],\n",
    "    'col':[10,20,30,40,50],\n",
    "})\n",
    "df"
   ]
  },
  {
   "cell_type": "code",
   "execution_count": 160,
   "metadata": {},
   "outputs": [
    {
     "data": {
      "text/plain": [
       "0    True\n",
       "1    True\n",
       "2    True\n",
       "3    True\n",
       "4    True\n",
       "dtype: bool"
      ]
     },
     "execution_count": 160,
     "metadata": {},
     "output_type": "execute_result"
    }
   ],
   "source": [
    "# 위에서 아래로 내려가며 두번 같은 값이 나오면 True\n",
    "df.duplicated(['k1']) \n",
    "df.duplicated(['k1'],keep='first')  # default keep='first'\n",
    "df.duplicated(['k1'],keep='last') # 중복된 값들 중 마지막 값만 False\n",
    "df.duplicated(['k1'],keep=False)  # 중복된 값들은 모두 True"
   ]
  },
  {
   "cell_type": "code",
   "execution_count": 161,
   "metadata": {},
   "outputs": [
    {
     "data": {
      "text/html": [
       "<div>\n",
       "<style scoped>\n",
       "    .dataframe tbody tr th:only-of-type {\n",
       "        vertical-align: middle;\n",
       "    }\n",
       "\n",
       "    .dataframe tbody tr th {\n",
       "        vertical-align: top;\n",
       "    }\n",
       "\n",
       "    .dataframe thead th {\n",
       "        text-align: right;\n",
       "    }\n",
       "</style>\n",
       "<table border=\"1\" class=\"dataframe\">\n",
       "  <thead>\n",
       "    <tr style=\"text-align: right;\">\n",
       "      <th></th>\n",
       "      <th>k1</th>\n",
       "      <th>k2</th>\n",
       "      <th>col</th>\n",
       "    </tr>\n",
       "  </thead>\n",
       "  <tbody>\n",
       "  </tbody>\n",
       "</table>\n",
       "</div>"
      ],
      "text/plain": [
       "Empty DataFrame\n",
       "Columns: [k1, k2, col]\n",
       "Index: []"
      ]
     },
     "execution_count": 161,
     "metadata": {},
     "output_type": "execute_result"
    }
   ],
   "source": [
    "# 중복값 제거(한개만 살리고 나머지 중복값 제거)\n",
    "df.drop_duplicates(['k1'])  # 중복값 중 첫번째 값만 생존 \n",
    "# default keep='first'\n",
    "df.drop_duplicates(['k1'],keep='first')\n",
    "df.drop_duplicates(['k1'],keep='last')\n",
    "df.drop_duplicates(['k1'],keep=False)\n"
   ]
  },
  {
   "cell_type": "markdown",
   "metadata": {},
   "source": [
    "# unique(), value_counts()\n",
    "unique() : 유일한 값을 찾을 때 사용하는 함수\n",
    "\n",
    "value_counts() : 유일한 값 개수 세기"
   ]
  },
  {
   "cell_type": "code",
   "execution_count": 165,
   "metadata": {},
   "outputs": [
    {
     "data": {
      "text/plain": [
       "array([1, 3, 4], dtype=int64)"
      ]
     },
     "execution_count": 165,
     "metadata": {},
     "output_type": "execute_result"
    }
   ],
   "source": [
    "# 유일 값 출력\n",
    "df = pd.DataFrame({\n",
    "    'a':['a1','a1','a2','a2','a3'],\n",
    "    'b':['b1','b1','b2','b2',nan],\n",
    "    'c':[1,1,3,4,4],\n",
    "})\n",
    "df['a'].unique()\n",
    "df['b'].unique()\n",
    "df['c'].unique()"
   ]
  },
  {
   "cell_type": "code",
   "execution_count": 193,
   "metadata": {},
   "outputs": [],
   "source": [
    "# help(pd.Series.value_counts)\n",
    "# value_counts(self, normalize=False, sort=True, ascending=False, bins=None, dropna=True)\n",
    "\n",
    "# normalize=False : 개수 (default)\n",
    "# normalize=True : 상대비율\n",
    "\n",
    "# sort = True : 개수 기준 정렬 (default)\n",
    "# sort = False : 개수 기준 정렬\n",
    "\n",
    "# ascending = False : 내림차순 정렬 (default)\n",
    "\n",
    "# dropna=False : NaN값은 제외 (default)\n",
    "# dropna=True : NaN도 카운팅\n",
    "\n",
    "# bins = [0,2,5] : 구간별 개수 카운팅"
   ]
  },
  {
   "cell_type": "code",
   "execution_count": 175,
   "metadata": {},
   "outputs": [
    {
     "data": {
      "text/plain": [
       "a3    1\n",
       "a2    2\n",
       "a1    2\n",
       "Name: a, dtype: int64"
      ]
     },
     "execution_count": 175,
     "metadata": {},
     "output_type": "execute_result"
    }
   ],
   "source": [
    "# 유일값 개수 세기\n",
    "# normalize=False(default): 개수\n",
    "# normalize = True : 상대비율\n",
    "\n",
    "df['a'].value_counts(normalize=False)\n",
    "df['a'].value_counts(normalize=True)\n",
    "df['a'].value_counts(normalize=False,\n",
    "                    sort=True,\n",
    "                    ascending=True)"
   ]
  },
  {
   "cell_type": "code",
   "execution_count": 179,
   "metadata": {},
   "outputs": [
    {
     "data": {
      "text/plain": [
       "1    2\n",
       "3    1\n",
       "4    2\n",
       "Name: c, dtype: int64"
      ]
     },
     "execution_count": 179,
     "metadata": {},
     "output_type": "execute_result"
    }
   ],
   "source": [
    "# 유일한 값의 개수를 기준으로 내림차순 정렬\n",
    "df['c'].value_counts(sort=True, ascending=True)\n",
    "\n",
    "# 정렬 기준 X\n",
    "df['c'].value_counts(sort=False)"
   ]
  },
  {
   "cell_type": "code",
   "execution_count": 192,
   "metadata": {},
   "outputs": [
    {
     "data": {
      "text/plain": [
       "(0, 3]    3\n",
       "(3, 5]    2\n",
       "Name: c, dtype: int64"
      ]
     },
     "execution_count": 192,
     "metadata": {},
     "output_type": "execute_result"
    }
   ],
   "source": [
    "df['b'].value_counts(dropna=False)\n",
    " \n",
    "df['c']  # 1 1 3 4 4\n",
    "\n",
    "# 구간별 데이터 개수 세기\n",
    "df['c'].value_counts(sort=False, bins=[0,1,2,3,4,5])\n",
    "df['c'].value_counts(sort=False, bins=[0,3,5])\n",
    "# ( ):개구간(포함X) / [ ] : 폐구간(포함O)\n",
    "\n",
    "# pandas cut함수 활용 동일 결과 도출\n",
    "res = pd.cut(df['c'],bins=[0,3,5])\n",
    "pd.value_counts(res)"
   ]
  },
  {
   "cell_type": "markdown",
   "metadata": {},
   "source": [
    "# 데이터 표준화\n",
    "변수들 간 척도가 다른 경우 데이터 표준화\n",
    "표준화 : (각 데이터 - 평균) / 표준편차\n",
    "(모집단이 정규분포를 따르는 경우에 평균0, 표준편차1인 표준정규분포로 표준화하는 방법)\n",
    "1) numpy\n",
    "2) scipy.stats:zscore\n",
    "3) sklearn.preprocessing함수\n",
    "\n",
    "<모수적방법>\n",
    "중심극한정리 : 무작위로 복원추출하면, 연속형 자료의 경우 평균의 분포는 정규분포를 띈다\n",
    "            (30개 이상의 표본의 경우에 정규분포를 따른다.)\n",
    "<비모수적방법>\n",
    "자료를 크기로 나열 -> 순위 매김 -> 차이를 비교\n",
    "(10개 미만의 표본의 경우에는 모수적 방법을 사용 x)"
   ]
  },
  {
   "cell_type": "code",
   "execution_count": 194,
   "metadata": {},
   "outputs": [],
   "source": [
    "# numpy\n",
    "from numpy import *"
   ]
  },
  {
   "cell_type": "code",
   "execution_count": 261,
   "metadata": {},
   "outputs": [
    {
     "data": {
      "text/plain": [
       "array([[10,  9, 29, 14, 16, 22],\n",
       "       [ 2, 11, 25,  9,  5,  1],\n",
       "       [25, 26, 20, 23, 29,  4],\n",
       "       [ 5,  3,  6,  2,  3, 13],\n",
       "       [17,  3,  4, 24,  7, 13]])"
      ]
     },
     "execution_count": 261,
     "metadata": {},
     "output_type": "execute_result"
    }
   ],
   "source": [
    "data = random.randint(30,size=(5,6))\n",
    "data"
   ]
  },
  {
   "cell_type": "code",
   "execution_count": 278,
   "metadata": {},
   "outputs": [
    {
     "name": "stdout",
     "output_type": "stream",
     "text": [
      "[[-0.21613145 -0.16610265  1.21178767 -0.04786388  0.41702883  1.53106363]\n",
      " [-1.17671566  0.07118685  0.81448024 -0.64616234 -0.72980045 -1.28931674]\n",
      " [ 1.58496395  1.85085809  0.31784595  1.02907336  1.77237252 -0.88640526]\n",
      " [-0.81649658 -0.87797115 -1.07273007 -1.48378019 -0.93831486  0.32232919]\n",
      " [ 0.62437974 -0.87797115 -1.27138379  1.14873305 -0.52128604  0.32232919]]\n"
     ]
    }
   ],
   "source": [
    "# 표준화 = (각 데이터 - 평균(각 열)) / std(각 열)\n",
    "std_data=(data - np.mean(data, axis=0)) / np.std(data, axis=0)\n",
    "std_data\n",
    "np.mean(std_data, axis=0)\n",
    "np.std(std_data, axis=0)\n",
    "print(std_data)"
   ]
  },
  {
   "cell_type": "code",
   "execution_count": 277,
   "metadata": {},
   "outputs": [
    {
     "data": {
      "text/plain": [
       "array([[-0.21613145, -0.16610265,  1.21178767, -0.04786388,  0.41702883,\n",
       "         1.53106363],\n",
       "       [-1.17671566,  0.07118685,  0.81448024, -0.64616234, -0.72980045,\n",
       "        -1.28931674],\n",
       "       [ 1.58496395,  1.85085809,  0.31784595,  1.02907336,  1.77237252,\n",
       "        -0.88640526],\n",
       "       [-0.81649658, -0.87797115, -1.07273007, -1.48378019, -0.93831486,\n",
       "         0.32232919],\n",
       "       [ 0.62437974, -0.87797115, -1.27138379,  1.14873305, -0.52128604,\n",
       "         0.32232919]])"
      ]
     },
     "execution_count": 277,
     "metadata": {},
     "output_type": "execute_result"
    }
   ],
   "source": [
    "# scipy\n",
    "import scipy.stats as ss\n",
    "# 통계관련한 함수\n",
    "data_ss = ss.zscore(data)\n",
    "data_ss"
   ]
  },
  {
   "cell_type": "code",
   "execution_count": 276,
   "metadata": {},
   "outputs": [
    {
     "data": {
      "text/plain": [
       "array([[-0.21613145, -0.16610265,  1.21178767, -0.04786388,  0.41702883,\n",
       "         1.53106363],\n",
       "       [-1.17671566,  0.07118685,  0.81448024, -0.64616234, -0.72980045,\n",
       "        -1.28931674],\n",
       "       [ 1.58496395,  1.85085809,  0.31784595,  1.02907336,  1.77237252,\n",
       "        -0.88640526],\n",
       "       [-0.81649658, -0.87797115, -1.07273007, -1.48378019, -0.93831486,\n",
       "         0.32232919],\n",
       "       [ 0.62437974, -0.87797115, -1.27138379,  1.14873305, -0.52128604,\n",
       "         0.32232919]])"
      ]
     },
     "execution_count": 276,
     "metadata": {},
     "output_type": "execute_result"
    }
   ],
   "source": [
    "# sklearn\n",
    "from sklearn.preprocessing import *\n",
    "ss_data = StandardScaler().fit_transform(data)\n",
    "ss_data"
   ]
  },
  {
   "cell_type": "code",
   "execution_count": null,
   "metadata": {},
   "outputs": [],
   "source": [
    "# 예외적인 값(이상치, 특이값, outlier)이 들어있는 경우\n",
    "# 표준정규분포로의 표준화 : 이상치, 특이값이 없는 경우\n",
    "# Z = (x - mean) / std\n",
    "\n",
    "# 이상치가 데이터에 포함되어 있는 경우에는 표준화를 어떻게 ?\n",
    "# 1) 이상치, 특이값을 찾아서 제거 (IQR의 1.5배를 넘어가는 수)\n",
    "# 2) 중앙값(median), IQR을 이용하여 스케일링\n"
   ]
  },
  {
   "cell_type": "code",
   "execution_count": 280,
   "metadata": {},
   "outputs": [],
   "source": [
    "# RobustScaler() 데이터의 이상치가 있는 데이터 표준화\n",
    "from sklearn.preprocessing import StandardScaler, RobustScaler\n",
    "import matplotlib.pyplot as plt"
   ]
  },
  {
   "cell_type": "code",
   "execution_count": 341,
   "metadata": {},
   "outputs": [
    {
     "data": {
      "text/plain": [
       "(array([ 1.,  1.,  4.,  6., 13., 16., 20., 12., 21.,  6.]),\n",
       " array([-0.47775996,  0.38087751,  1.23951499,  2.09815246,  2.95678993,\n",
       "         3.81542741,  4.67406488,  5.53270235,  6.39133983,  7.2499773 ,\n",
       "         8.10861477]),\n",
       " <a list of 10 Patch objects>)"
      ]
     },
     "execution_count": 341,
     "metadata": {},
     "output_type": "execute_result"
    },
    {
     "data": {
      "image/png": "[encoded data removed]",
      "text/plain": [
       "<Figure size 432x288 with 1 Axes>"
      ]
     },
     "metadata": {
      "needs_background": "light"
     },
     "output_type": "display_data"
    }
   ],
   "source": [
    "# 평균 , 표준편차\n",
    "mu, sigma = 5, 2\n",
    "\n",
    "x = mu + sigma * np.random.randn(100)\n",
    "plt.hist(x)"
   ]
  },
  {
   "cell_type": "code",
   "execution_count": 345,
   "metadata": {},
   "outputs": [
    {
     "name": "stdout",
     "output_type": "stream",
     "text": [
      "4.989694284164421\n",
      "1.725460841375069\n"
     ]
    }
   ],
   "source": [
    "print(np.mean(x))\n",
    "print(np.std(x))"
   ]
  },
  {
   "cell_type": "code",
   "execution_count": 346,
   "metadata": {},
   "outputs": [
    {
     "data": {
      "text/plain": [
       "array([  4.71165894,   7.74904031,   6.58147133,   3.03849979,\n",
       "         3.55543629,   4.16480602,   5.36852704,   4.07434815,\n",
       "         5.73795642,   5.16623942,   1.494503  ,   6.5236959 ,\n",
       "         7.70661296,   3.08707296,   5.51348787,   4.38819454,\n",
       "         6.39191755,   3.66860388,   3.98043546,   1.64541004,\n",
       "         4.97370846,   7.91350632,   7.00585494,   4.11677687,\n",
       "         7.83544654,   3.92662436,   4.62451168,   4.21944409,\n",
       "         7.22207608,   4.83557722,   5.43741593,   6.46980309,\n",
       "         1.82398368,   3.49852863,   5.22317774,   5.60555639,\n",
       "         6.25354498,   3.97147156,   4.38959539,   5.40334283,\n",
       "         5.74624578,   3.63793093,  -0.47775996,   4.61990739,\n",
       "         6.45369741,   3.76738196,   6.5488681 ,   6.8074156 ,\n",
       "         5.37246817,   5.20166029,   8.10861477,   5.31856667,\n",
       "         4.06864855,   8.01390109,   6.67588746,   5.17521923,\n",
       "         4.93245248,   2.79797429,   7.11933565,   6.7342174 ,\n",
       "         5.99888306,   6.60170886,   5.68407397,   3.21046907,\n",
       "         2.30013875,   3.43698363,   5.39104011,   3.50401194,\n",
       "         5.6820649 ,   6.1285343 ,   7.14013808,   2.23976148,\n",
       "         3.54969352,   6.07339881,   6.8099299 ,   4.62427443,\n",
       "         4.85956721,   7.16405146,   2.25687487,   6.78936608,\n",
       "         4.32166313,   4.1822428 ,   3.39501346,   4.92692104,\n",
       "         6.12673855,   6.57485874,   6.81568508,   6.65584761,\n",
       "         3.30823984,   2.81538105,   2.02649842,   2.54175698,\n",
       "         7.13310934,   6.07076634,   5.25072138,   4.89796731,\n",
       "         1.00000294,   4.65804778, 100.        , 100.        ])"
      ]
     },
     "execution_count": 346,
     "metadata": {},
     "output_type": "execute_result"
    }
   ],
   "source": [
    "# 이상치 생성\n",
    "x[98:100]=100\n",
    "x"
   ]
  },
  {
   "cell_type": "code",
   "execution_count": 351,
   "metadata": {},
   "outputs": [
    {
     "name": "stdout",
     "output_type": "stream",
     "text": [
      "6.88066924128058\n",
      "13.414024551016656\n"
     ]
    },
    {
     "data": {
      "text/plain": [
       "(array([ 4., 23., 38., 30.,  2.,  0.,  0.,  0.,  0.,  0.,  0.,  0.,  0.,\n",
       "         0.,  0.,  0.,  0.,  0.,  0.,  0.,  0.,  0.,  0.,  0.,  0.,  0.,\n",
       "         0.,  0.,  0.,  0.,  0.,  0.,  0.,  0.,  0.,  0.,  0.,  0.,  0.,\n",
       "         0.,  0.,  0.,  0.,  0.,  0.,  0.,  0.,  0.,  0.,  2.]),\n",
       " array([  0,   2,   4,   6,   8,  10,  12,  14,  16,  18,  20,  22,  24,\n",
       "         26,  28,  30,  32,  34,  36,  38,  40,  42,  44,  46,  48,  50,\n",
       "         52,  54,  56,  58,  60,  62,  64,  66,  68,  70,  72,  74,  76,\n",
       "         78,  80,  82,  84,  86,  88,  90,  92,  94,  96,  98, 100]),\n",
       " <a list of 50 Patch objects>)"
      ]
     },
     "execution_count": 351,
     "metadata": {},
     "output_type": "execute_result"
    },
    {
     "data": {
      "image/png": "[encoded data removed]",
      "text/plain": [
       "<Figure size 432x288 with 1 Axes>"
      ]
     },
     "metadata": {
      "needs_background": "light"
     },
     "output_type": "display_data"
    }
   ],
   "source": [
    "print(np.mean(x))\n",
    "print(np.std(x))\n",
    "plt.hist(x, bins=np.arange(0,102,2))"
   ]
  },
  {
   "cell_type": "code",
   "execution_count": 365,
   "metadata": {},
   "outputs": [
    {
     "name": "stdout",
     "output_type": "stream",
     "text": [
      "8.881784197001253e-17\n",
      "1.0\n"
     ]
    }
   ],
   "source": [
    "# x = x.reshape(100,1)\n",
    "x = x.reshape(-1,1)\n",
    "xs = StandardScaler().fit_transform(x)\n",
    "print(np.mean(xs))\n",
    "print(np.std(xs))\n",
    "plt.hist(xs)"
   ]
  },
  {
   "cell_type": "code",
   "execution_count": 373,
   "metadata": {},
   "outputs": [
    {
     "data": {
      "text/plain": [
       "(array([ 0.,  0.,  0.,  0.,  1.,  2.,  9., 21., 27., 26., 12.,  0.,  0.,\n",
       "         0.,  0.,  0.,  0.,  0.,  0.]),\n",
       " array([-1.00000000e+00, -9.00000000e-01, -8.00000000e-01, -7.00000000e-01,\n",
       "        -6.00000000e-01, -5.00000000e-01, -4.00000000e-01, -3.00000000e-01,\n",
       "        -2.00000000e-01, -1.00000000e-01, -2.22044605e-16,  1.00000000e-01,\n",
       "         2.00000000e-01,  3.00000000e-01,  4.00000000e-01,  5.00000000e-01,\n",
       "         6.00000000e-01,  7.00000000e-01,  8.00000000e-01,  9.00000000e-01]),\n",
       " <a list of 19 Patch objects>)"
      ]
     },
     "execution_count": 373,
     "metadata": {},
     "output_type": "execute_result"
    },
    {
     "data": {
      "image/png": "[encoded data removed]",
      "text/plain": [
       "<Figure size 432x288 with 1 Axes>"
      ]
     },
     "metadata": {
      "needs_background": "light"
     },
     "output_type": "display_data"
    }
   ],
   "source": [
    "xss=xs[xs<5]\n",
    "plt.hist(xss,bins=np.arange(-1,1,0.1))\n"
   ]
  },
  {
   "cell_type": "code",
   "execution_count": 382,
   "metadata": {},
   "outputs": [
    {
     "name": "stdout",
     "output_type": "stream",
     "text": [
      "3.886813763439275\n",
      "6.5299889530876545\n"
     ]
    },
    {
     "data": {
      "text/plain": [
       "2.6431751896483795"
      ]
     },
     "execution_count": 382,
     "metadata": {},
     "output_type": "execute_result"
    }
   ],
   "source": [
    "# 이상치 포함 데이터의 중앙값, IQR을 이용 -> 표준화\n",
    "np.median(x)\n",
    "print(np.percentile(x,25))\n",
    "q1=np.percentile(x,25)  # 1사분위수\n",
    "print(np.percentile(x,75))\n",
    "q3=np.percentile(x,75)  # 3사분위수\n",
    "IQR = q3 - q1\n",
    "print(IQR)"
   ]
  },
  {
   "cell_type": "code",
   "execution_count": 392,
   "metadata": {},
   "outputs": [
    {
     "data": {
      "text/plain": [
       "(array([1., 2., 3., 6., 3., 6., 6., 4., 4., 5., 9., 4., 2., 5., 4., 8., 5.,\n",
       "        5., 0.]),\n",
       " array([-1.00000000e+00, -9.00000000e-01, -8.00000000e-01, -7.00000000e-01,\n",
       "        -6.00000000e-01, -5.00000000e-01, -4.00000000e-01, -3.00000000e-01,\n",
       "        -2.00000000e-01, -1.00000000e-01, -2.22044605e-16,  1.00000000e-01,\n",
       "         2.00000000e-01,  3.00000000e-01,  4.00000000e-01,  5.00000000e-01,\n",
       "         6.00000000e-01,  7.00000000e-01,  8.00000000e-01,  9.00000000e-01]),\n",
       " <a list of 19 Patch objects>)"
      ]
     },
     "execution_count": 392,
     "metadata": {},
     "output_type": "execute_result"
    },
    {
     "data": {
      "image/png": "[encoded data removed]",
      "text/plain": [
       "<Figure size 432x288 with 1 Axes>"
      ]
     },
     "metadata": {
      "needs_background": "light"
     },
     "output_type": "display_data"
    }
   ],
   "source": [
    "x_rs=RobustScaler().fit_transform(x)\n",
    "x_rs\n",
    "np.median(x_rs)  # 0\n",
    "np.mean(x_rs)    # 0.65\n",
    "np.std(x_rs)     # 5.0\n",
    "# plt.hist(x_rs)\n",
    "\n",
    "x_rs_z = x_rs[x_rs<10]\n",
    "plt.hist(x_rs_z, bins=np.arange(-1,1,0.1))\n",
    "# 설명변수가 더 넓게 분포되기 때문에 Y를 설명하기에 더 용이하다!"
   ]
  },
  {
   "cell_type": "markdown",
   "metadata": {},
   "source": [
    "1. NumPy를 사용하여 다음과 같은 행렬을 만든다.\n",
    "\n",
    "10 20 30 40\n",
    "50 60 70 80"
   ]
  },
  {
   "cell_type": "code",
   "execution_count": 399,
   "metadata": {},
   "outputs": [
    {
     "data": {
      "text/plain": [
       "array([[10, 20, 30, 40],\n",
       "       [50, 60, 70, 80]])"
      ]
     },
     "execution_count": 399,
     "metadata": {},
     "output_type": "execute_result"
    }
   ],
   "source": [
    "# 1\n",
    "res = np.arange(10,90,10).reshape(2,4)"
   ]
  },
  {
   "cell_type": "markdown",
   "metadata": {},
   "source": [
    "2. 다음 행렬과 같은 행렬이 있다.\n",
    "\n",
    "m = np.array([[ 0,  1,  2,  3,  4],\n",
    "              [ 5,  6,  7,  8,  9],\n",
    "              [10, 11, 12, 13, 14]])\n",
    "이 행렬에서 값 7 을 인덱싱한다.\n",
    "이 행렬에서 값 14 을 인덱싱한다.\n",
    "이 행렬에서 배열 [6, 7] 을 슬라이싱한다.\n",
    "이 행렬에서 배열 [7, 12] 을 슬라이싱한다.\n",
    "이 행렬에서 배열 [[3, 4], [8, 9]] 을 슬라이싱한다."
   ]
  },
  {
   "cell_type": "code",
   "execution_count": 439,
   "metadata": {},
   "outputs": [
    {
     "data": {
      "text/plain": [
       "array([3, 9])"
      ]
     },
     "execution_count": 439,
     "metadata": {},
     "output_type": "execute_result"
    }
   ],
   "source": [
    "# 2\n",
    "m = np.array([[ 0,  1,  2,  3,  4],\n",
    "              [ 5,  6,  7,  8,  9],\n",
    "              [10, 11, 12, 13, 14]])\n",
    "# 2-1\n",
    "m[1][2]  # 7\n",
    "m[1,2]\n",
    "\n",
    "# 2-2\n",
    "m[2][4]  # 14\n",
    "m[2,4]\n",
    "\n",
    "# 2-3\n",
    "m[1][1:3]    # array([6, 7])\n",
    "m[[1],[1,2]] # array([6, 7])\n",
    "\n",
    "# 2-4\n",
    "m[1:3,2]   # array([ 7, 12])\n",
    "m[[1,2],2] # array([ 7, 12])\n",
    "\n",
    "# 2-5\n",
    "m[[0,1],3:5]\n",
    "m[0:2,3:5]"
   ]
  },
  {
   "cell_type": "markdown",
   "metadata": {},
   "source": [
    "3.다음 행렬과 같은 배열이 있다.\n",
    "\n",
    "x = np.array([1, 2, 3, 4, 5, 6, 7, 8, 9, 10,\n",
    "              11, 12, 13, 14, 15, 16, 17, 18, 19, 20])\n",
    "이 배열에서 3의 배수를 찾아라.\n",
    "이 배열에서 4로 나누면 1이 남는 수를 찾아라.\n",
    "이 배열에서 3으로 나누면 나누어지고 4로 나누면 1이 남는 수를 찾아라."
   ]
  },
  {
   "cell_type": "code",
   "execution_count": 578,
   "metadata": {},
   "outputs": [
    {
     "name": "stdout",
     "output_type": "stream",
     "text": [
      "3\n",
      "6\n",
      "9\n",
      "12\n",
      "15\n",
      "18\n",
      "1\n",
      "5\n",
      "9\n",
      "13\n",
      "17\n",
      "9\n"
     ]
    }
   ],
   "source": [
    "# 3\n",
    "x = np.array([1, 2, 3, 4, 5, 6, 7, 8, 9, 10,11, 12, 13, 14, 15, 16, 17, 18, 19, 20])\n",
    "\n",
    "# 3-1\n",
    "x1 = np.where(x%3==0,x,NaN)\n",
    "\n",
    "for i in x:\n",
    "    if i % 3 == 0:\n",
    "        print(i)\n",
    "        \n",
    "# 3-2\n",
    "x2 = np.where(x%4==1,x,NaN)\n",
    "x2\n",
    "\n",
    "for i in x:\n",
    "    if i % 4 == 1:\n",
    "        print(i)\n",
    "\n",
    "# 3-3        \n",
    "x3 = np.where(np.where(x%3==0,x,NaN)%4==1,x,NaN)\n",
    "\n",
    "for i in x:\n",
    "    if i % 3 == 0 and i % 4 == 1:\n",
    "        print(i)     "
   ]
  },
  {
   "cell_type": "markdown",
   "metadata": {},
   "source": [
    "4. 타이타닉 데이터셋에서 Age , sibsp, parch, fare 컬럼에 대해 표준화 하시오.\n",
    "-누락값에 대해서는 \n",
    "- Age열은 평균 나이로 대체,\n",
    "-sibsp는 최대값으로 대체\n",
    "-parch는 최소값으로 대체\n",
    "-fare는 평균 요금으로 대체"
   ]
  },
  {
   "cell_type": "code",
   "execution_count": 520,
   "metadata": {},
   "outputs": [],
   "source": [
    "# 4\n",
    "# csv파일을 읽어 데이터프레임 생성\n",
    "df = pd.read_csv('train.csv')\n",
    "\n",
    "# 필요한 칼럼만 떼어서 새로운 데이터프래임 생성\n",
    "data = df[['Age','SibSp','Parch','Fare']]\n",
    "data\n",
    "\n",
    "# 누락값에 대한 처리\n",
    "data['Age']=data['Age'].fillna(mean(data['Age']))\n",
    "data['SibSp']=data['SibSp'].fillna(max(data['SibSp']))\n",
    "data['Parch']=data['Parch'].fillna(min(data['Parch']))\n",
    "data['Fare']=data['Fare'].fillna(mean(data['Fare']))"
   ]
  },
  {
   "cell_type": "code",
   "execution_count": 540,
   "metadata": {},
   "outputs": [
    {
     "name": "stdout",
     "output_type": "stream",
     "text": [
      "Age 평균 2.5627959662152535e-16\n",
      "Age 표준편차 1.0000000000000009\n",
      "SibSp 평균 3.456519270830734e-16\n",
      "SibSp 표준편차 1.000000000000001\n",
      "Parch 평균 6.71616397612749e-17\n",
      "Parch 표준편차 0.9999999999999932\n",
      "Fare 평균 -4.37360585458395e-17\n",
      "Fare 표준편차 1.0000000000000004\n"
     ]
    }
   ],
   "source": [
    "# scipy로 표준화 해보기\n",
    "import scipy.stats as ss\n",
    "\n",
    "# 표준화된 값을 담을 데이터프래임 생성\n",
    "data_z=pd.DataFrame()\n",
    "\n",
    "# 각 컬럼의 값을 zscore함수를 이용해 표준화\n",
    "data_z['Age'] = ss.zscore(data['Age'])\n",
    "data_z['SibSp'] = ss.zscore(data['SibSp'])\n",
    "data_z['Parch'] = ss.zscore(data['Parch'])\n",
    "data_z['Fare'] = ss.zscore(data['Fare'])\n",
    "\n",
    "print('Age 평균',np.mean(data_z['Age']))\n",
    "print('Age 표준편차',np.std(data_z['Age']))\n",
    "print('SibSp 평균',np.mean(data_z['SibSp']))\n",
    "print('SibSp 표준편차',np.std(data_z['SibSp']))\n",
    "print('Parch 평균',np.mean(data_z['Parch']))\n",
    "print('Parch 표준편차',np.std(data_z['Parch']))\n",
    "print('Fare 평균',np.mean(data_z['Fare']))\n",
    "print('Fare 표준편차',np.std(data_z['Fare']))\n",
    "\n",
    "data_z.to_csv('표준화.csv',index=False)"
   ]
  },
  {
   "cell_type": "code",
   "execution_count": 581,
   "metadata": {},
   "outputs": [
    {
     "data": {
      "text/html": [
       "<div>\n",
       "<style scoped>\n",
       "    .dataframe tbody tr th:only-of-type {\n",
       "        vertical-align: middle;\n",
       "    }\n",
       "\n",
       "    .dataframe tbody tr th {\n",
       "        vertical-align: top;\n",
       "    }\n",
       "\n",
       "    .dataframe thead th {\n",
       "        text-align: right;\n",
       "    }\n",
       "</style>\n",
       "<table border=\"1\" class=\"dataframe\">\n",
       "  <thead>\n",
       "    <tr style=\"text-align: right;\">\n",
       "      <th></th>\n",
       "      <th>Age</th>\n",
       "      <th>SibSp</th>\n",
       "      <th>Parch</th>\n",
       "      <th>Fare</th>\n",
       "    </tr>\n",
       "  </thead>\n",
       "  <tbody>\n",
       "    <tr>\n",
       "      <td>0</td>\n",
       "      <td>-0.592481</td>\n",
       "      <td>0.432793</td>\n",
       "      <td>-0.473674</td>\n",
       "      <td>-0.502445</td>\n",
       "    </tr>\n",
       "    <tr>\n",
       "      <td>1</td>\n",
       "      <td>0.638789</td>\n",
       "      <td>0.432793</td>\n",
       "      <td>-0.473674</td>\n",
       "      <td>0.786845</td>\n",
       "    </tr>\n",
       "    <tr>\n",
       "      <td>2</td>\n",
       "      <td>-0.284663</td>\n",
       "      <td>-0.474545</td>\n",
       "      <td>-0.473674</td>\n",
       "      <td>-0.488854</td>\n",
       "    </tr>\n",
       "    <tr>\n",
       "      <td>3</td>\n",
       "      <td>0.407926</td>\n",
       "      <td>0.432793</td>\n",
       "      <td>-0.473674</td>\n",
       "      <td>0.420730</td>\n",
       "    </tr>\n",
       "    <tr>\n",
       "      <td>4</td>\n",
       "      <td>0.407926</td>\n",
       "      <td>-0.474545</td>\n",
       "      <td>-0.473674</td>\n",
       "      <td>-0.486337</td>\n",
       "    </tr>\n",
       "    <tr>\n",
       "      <td>...</td>\n",
       "      <td>...</td>\n",
       "      <td>...</td>\n",
       "      <td>...</td>\n",
       "      <td>...</td>\n",
       "    </tr>\n",
       "    <tr>\n",
       "      <td>886</td>\n",
       "      <td>-0.207709</td>\n",
       "      <td>-0.474545</td>\n",
       "      <td>-0.473674</td>\n",
       "      <td>-0.386671</td>\n",
       "    </tr>\n",
       "    <tr>\n",
       "      <td>887</td>\n",
       "      <td>-0.823344</td>\n",
       "      <td>-0.474545</td>\n",
       "      <td>-0.473674</td>\n",
       "      <td>-0.044381</td>\n",
       "    </tr>\n",
       "    <tr>\n",
       "      <td>888</td>\n",
       "      <td>0.000000</td>\n",
       "      <td>0.432793</td>\n",
       "      <td>2.008933</td>\n",
       "      <td>-0.176263</td>\n",
       "    </tr>\n",
       "    <tr>\n",
       "      <td>889</td>\n",
       "      <td>-0.284663</td>\n",
       "      <td>-0.474545</td>\n",
       "      <td>-0.473674</td>\n",
       "      <td>-0.044381</td>\n",
       "    </tr>\n",
       "    <tr>\n",
       "      <td>890</td>\n",
       "      <td>0.177063</td>\n",
       "      <td>-0.474545</td>\n",
       "      <td>-0.473674</td>\n",
       "      <td>-0.492378</td>\n",
       "    </tr>\n",
       "  </tbody>\n",
       "</table>\n",
       "<p>891 rows × 4 columns</p>\n",
       "</div>"
      ],
      "text/plain": [
       "          Age     SibSp     Parch      Fare\n",
       "0   -0.592481  0.432793 -0.473674 -0.502445\n",
       "1    0.638789  0.432793 -0.473674  0.786845\n",
       "2   -0.284663 -0.474545 -0.473674 -0.488854\n",
       "3    0.407926  0.432793 -0.473674  0.420730\n",
       "4    0.407926 -0.474545 -0.473674 -0.486337\n",
       "..        ...       ...       ...       ...\n",
       "886 -0.207709 -0.474545 -0.473674 -0.386671\n",
       "887 -0.823344 -0.474545 -0.473674 -0.044381\n",
       "888  0.000000  0.432793  2.008933 -0.176263\n",
       "889 -0.284663 -0.474545 -0.473674 -0.044381\n",
       "890  0.177063 -0.474545 -0.473674 -0.492378\n",
       "\n",
       "[891 rows x 4 columns]"
      ]
     },
     "execution_count": 581,
     "metadata": {},
     "output_type": "execute_result"
    }
   ],
   "source": [
    "data_z"
   ]
  },
  {
   "cell_type": "code",
   "execution_count": 546,
   "metadata": {},
   "outputs": [
    {
     "ename": "SyntaxError",
     "evalue": "invalid syntax (<ipython-input-546-5b866bdf9027>, line 6)",
     "output_type": "error",
     "traceback": [
      "\u001b[1;36m  File \u001b[1;32m\"<ipython-input-546-5b866bdf9027>\"\u001b[1;36m, line \u001b[1;32m6\u001b[0m\n\u001b[1;33m    data_z2['Age'] = StandardScaler().fit_transform(data[[:],'Age'])\u001b[0m\n\u001b[1;37m                                                          ^\u001b[0m\n\u001b[1;31mSyntaxError\u001b[0m\u001b[1;31m:\u001b[0m invalid syntax\n"
     ]
    }
   ],
   "source": [
    "from sklearn.preprocessing import *\n",
    "\n",
    "# 표준화된 값을 담을 데이터프래임 생성\n",
    "data_z2=pd.DataFrame()\n",
    "\n",
    "data_z2['Age'] = StandardScaler().fit_transform(data['Age'])\n",
    "data_z2['SibSp'] = StandardScaler().fit_transform(data['SibSp'])\n",
    "data_z2['Parch'] = StandardScaler().fit_transform(data['Parch'])\n",
    "data_z2['Fare'] = StandardScaler().fit_transform(data['Fare'])\n",
    "data_z2"
   ]
  },
  {
   "cell_type": "code",
   "execution_count": 569,
   "metadata": {},
   "outputs": [
    {
     "data": {
      "text/plain": [
       "8.024507607840638e-17"
      ]
     },
     "execution_count": 569,
     "metadata": {},
     "output_type": "execute_result"
    }
   ],
   "source": [
    "z = StandardScaler().fit_transform(data)\n"
   ]
  },
  {
   "cell_type": "code",
   "execution_count": 566,
   "metadata": {},
   "outputs": [
    {
     "data": {
      "text/plain": [
       "pandas.core.series.Series"
      ]
     },
     "execution_count": 566,
     "metadata": {},
     "output_type": "execute_result"
    }
   ],
   "source": [
    "a = data.iloc[:,0]\n"
   ]
  },
  {
   "cell_type": "code",
   "execution_count": null,
   "metadata": {},
   "outputs": [],
   "source": []
  },
  {
   "cell_type": "code",
   "execution_count": null,
   "metadata": {},
   "outputs": [],
   "source": []
  },
  {
   "cell_type": "code",
   "execution_count": null,
   "metadata": {},
   "outputs": [],
   "source": []
  },
  {
   "cell_type": "code",
   "execution_count": null,
   "metadata": {},
   "outputs": [],
   "source": []
  },
  {
   "cell_type": "code",
   "execution_count": null,
   "metadata": {},
   "outputs": [],
   "source": []
  },
  {
   "cell_type": "code",
   "execution_count": null,
   "metadata": {},
   "outputs": [],
   "source": []
  },
  {
   "cell_type": "code",
   "execution_count": null,
   "metadata": {},
   "outputs": [],
   "source": []
  },
  {
   "cell_type": "code",
   "execution_count": null,
   "metadata": {},
   "outputs": [],
   "source": []
  },
  {
   "cell_type": "code",
   "execution_count": null,
   "metadata": {},
   "outputs": [],
   "source": []
  },
  {
   "cell_type": "code",
   "execution_count": null,
   "metadata": {},
   "outputs": [],
   "source": []
  },
  {
   "cell_type": "code",
   "execution_count": null,
   "metadata": {},
   "outputs": [],
   "source": []
  },
  {
   "cell_type": "code",
   "execution_count": null,
   "metadata": {},
   "outputs": [],
   "source": []
  },
  {
   "cell_type": "code",
   "execution_count": null,
   "metadata": {},
   "outputs": [],
   "source": []
  },
  {
   "cell_type": "code",
   "execution_count": null,
   "metadata": {},
   "outputs": [],
   "source": []
  },
  {
   "cell_type": "code",
   "execution_count": null,
   "metadata": {},
   "outputs": [],
   "source": []
  },
  {
   "cell_type": "code",
   "execution_count": null,
   "metadata": {},
   "outputs": [],
   "source": []
  },
  {
   "cell_type": "code",
   "execution_count": null,
   "metadata": {},
   "outputs": [],
   "source": []
  },
  {
   "cell_type": "code",
   "execution_count": null,
   "metadata": {},
   "outputs": [],
   "source": []
  },
  {
   "cell_type": "code",
   "execution_count": null,
   "metadata": {},
   "outputs": [],
   "source": []
  },
  {
   "cell_type": "code",
   "execution_count": null,
   "metadata": {},
   "outputs": [],
   "source": []
  },
  {
   "cell_type": "code",
   "execution_count": null,
   "metadata": {},
   "outputs": [],
   "source": []
  },
  {
   "cell_type": "code",
   "execution_count": null,
   "metadata": {},
   "outputs": [],
   "source": []
  },
  {
   "cell_type": "code",
   "execution_count": null,
   "metadata": {},
   "outputs": [],
   "source": []
  },
  {
   "cell_type": "code",
   "execution_count": null,
   "metadata": {},
   "outputs": [],
   "source": []
  },
  {
   "cell_type": "code",
   "execution_count": null,
   "metadata": {},
   "outputs": [],
   "source": []
  }
 ],
 "metadata": {
  "kernelspec": {
   "display_name": "Python 3",
   "language": "python",
   "name": "python3"
  },
  "language_info": {
   "codemirror_mode": {
    "name": "ipython",
    "version": 3
   },
   "file_extension": ".py",
   "mimetype": "text/x-python",
   "name": "python",
   "nbconvert_exporter": "python",
   "pygments_lexer": "ipython3",
   "version": "3.7.4"
  }
 },
 "nbformat": 4,
 "nbformat_minor": 2
}
