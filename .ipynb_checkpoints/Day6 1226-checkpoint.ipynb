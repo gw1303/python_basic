{
 "cells": [
  {
   "cell_type": "markdown",
   "metadata": {},
   "source": [
    "# 클래스\n",
    "클래스 : 객체(캐릭터)를 표현하기 위한 개념\n",
    "게임에서 기사, 궁수, 마법사 등 직업별로 클래스가 생성됨\n",
    "\n",
    "웹브라우저 - 스크롤바, 버튼, 체크박스 등 구성요소 모두 클래스임\n",
    "\n",
    "1. 기사 클래스로 홍길동 객체(캐릭터)를 생성\n",
    "2. 체력, 마나, 공격력 .. 초기값 설정 => 속성\n",
    "3. 달리기, 베기, 찌르기 .. 동작 스킬 => 메서드\n",
    "\n",
    "    클래스는 속성과 메서드로 구성됨!!!\n",
    "    \n",
    "ex)\n",
    "3 + 4 -> 7 + 3 => 10\\n"
   ]
  },
  {
   "cell_type": "code",
   "execution_count": 1,
   "metadata": {},
   "outputs": [
    {
     "name": "stdout",
     "output_type": "stream",
     "text": [
      "3\n",
      "7\n"
     ]
    }
   ],
   "source": [
    "res = 0\n",
    "def add(num):\n",
    "    global res\n",
    "    res += num\n",
    "    return res\n",
    "    \n",
    "print(add(3))  # 3\n",
    "print(add(4))  # 7"
   ]
  },
  {
   "cell_type": "code",
   "execution_count": 2,
   "metadata": {},
   "outputs": [
    {
     "name": "stdout",
     "output_type": "stream",
     "text": [
      "3\n",
      "4\n"
     ]
    }
   ],
   "source": [
    "def add(num):\n",
    "    res = 0\n",
    "    res += num\n",
    "    return res\n",
    "    \n",
    "print(add(3))  # 3\n",
    "print(add(4))  # 4"
   ]
  },
  {
   "cell_type": "code",
   "execution_count": 4,
   "metadata": {},
   "outputs": [
    {
     "name": "stdout",
     "output_type": "stream",
     "text": [
      "3\n",
      "7\n",
      "3\n",
      "10\n"
     ]
    }
   ],
   "source": [
    "# 계산기 두 대\n",
    "res1 = 0\n",
    "res2 = 0\n",
    "def add1(num):\n",
    "    global res1\n",
    "    res1 += num\n",
    "    return res1\n",
    "def add2(num):\n",
    "    global res2\n",
    "    res2 += num\n",
    "    return res2\n",
    "    \n",
    "print(add1(3))  # 3\n",
    "print(add1(4))  # 7\n",
    "print(add2(3))  # 3\n",
    "print(add2(7))  # 10"
   ]
  },
  {
   "cell_type": "code",
   "execution_count": 59,
   "metadata": {},
   "outputs": [],
   "source": [
    "# 클래스 사용 계산기 두 대\n",
    "class Calc:  # 변수 이름 규칙과 같음\n",
    "#     def greeting(self):  # 모든 메서드는 첫번째 인수에 self를 넣어줘야함!!!\n",
    "#         print('hello')\n",
    "    def __init__(self):  # 객체가 생성될 때 자동으로 실행 (객체를 초기화하는 역할)\n",
    "        self.res = 0\n",
    "#         print('초기화')\n",
    "    def add(self, num):\n",
    "        self.res += num\n",
    "        return self.res\n",
    "    def sub(self, num):\n",
    "        self.res -= num\n",
    "        return self.res"
   ]
  },
  {
   "cell_type": "code",
   "execution_count": 60,
   "metadata": {},
   "outputs": [
    {
     "name": "stdout",
     "output_type": "stream",
     "text": [
      "3\n",
      "7\n",
      "3\n",
      "7\n"
     ]
    }
   ],
   "source": [
    "cal1 = Calc()  # 계산기 1 // 캐릭터 생성\n",
    "cal2 = Calc()  # 계산기 2\n",
    "\n",
    "print(cal1.add(3))\n",
    "print(cal1.add(4))\n",
    "\n",
    "print(cal2.add(3))\n",
    "print(cal2.add(4))\n",
    "# hgd = Calc()  # 객체 = 클래스()\n",
    "# hgd.greeting()"
   ]
  },
  {
   "cell_type": "markdown",
   "metadata": {},
   "source": [
    "# \n",
    "붕어빵 기계 => 클래스(Class) // 속성(특징)과 메서드(동작)\n",
    "붕어빵 ======> 객체(Object)"
   ]
  },
  {
   "cell_type": "code",
   "execution_count": 25,
   "metadata": {},
   "outputs": [],
   "source": [
    "class FishBread:\n",
    "    pass\n",
    "# 아무 기능도 없는 클래스 생성"
   ]
  },
  {
   "cell_type": "markdown",
   "metadata": {},
   "source": [
    "# 프로젝트 주제\n",
    "1. 양계, 양돈,  \n",
    "2. 아파트 관리비 세부 항목을 비교분석\n",
    "- 공용관리비의 변화 패턴 분석\n",
    "- 공용관리비 적정선 분석\n",
    "3. 챗봇(도메인의 대화 내용)\n",
    "HMM기반, Bayes기반, RNN(LSTM)기반\n",
    "4. 날씨 / 미세먼지 분석\n",
    "..\n",
    "암 분류기, 신용평가모델"
   ]
  },
  {
   "cell_type": "code",
   "execution_count": 72,
   "metadata": {},
   "outputs": [],
   "source": [
    "# 사칙연산 클래스 생성\n",
    "class FourCal:\n",
    "    def __init__(self):\n",
    "        self.res=0\n",
    "        self.num1=0\n",
    "        self.num2=0\n",
    "    def setData(self, num1, num2):\n",
    "        self.num1 = num1\n",
    "        self.num2 = num2\n",
    "    def add(self):\n",
    "        self.res = self.num1 + self.num2\n",
    "        return self.res\n",
    "    def sub(self):\n",
    "        self.res = self.num1 - self.num2\n",
    "        return self.res\n",
    "    def mul(self):\n",
    "        self.res = self.num1 * self.num2\n",
    "        return self.res\n",
    "    def div(self):\n",
    "        self.res = self.num1 / self.num2\n",
    "        return self.res\n",
    "    "
   ]
  },
  {
   "cell_type": "code",
   "execution_count": 73,
   "metadata": {},
   "outputs": [
    {
     "name": "stdout",
     "output_type": "stream",
     "text": [
      "6\n",
      "2\n",
      "8\n",
      "2.0\n"
     ]
    }
   ],
   "source": [
    "a = FourCal()\n",
    "b = FourCal()\n",
    "a.setData(4,2)  # 숫자 4,2,를 a에 저장\n",
    "b.setData(3,7)\n",
    "print(a.add())  # 4+2=6 리턴\n",
    "print(a.sub())\n",
    "print(a.mul())\n",
    "print(a.div())"
   ]
  },
  {
   "cell_type": "markdown",
   "metadata": {},
   "source": [
    "# 강사님 계산기"
   ]
  },
  {
   "cell_type": "code",
   "execution_count": 66,
   "metadata": {},
   "outputs": [],
   "source": [
    "class FourCal2:\n",
    "    def setData(self, first, second):\n",
    "        self.first = first  # self(a).first = 4\n",
    "        self.second = second  # self(a).second = 2\n",
    "    def add(self):\n",
    "        res = self.first + self.second\n",
    "        return res\n",
    "# self : 지금(현재) 만들어지고 있는 객체\n",
    "# self.first : 지금 만들어지고 있는 객체의 first 속성\n",
    "# self.second : 지금 만들어지고 있는 객체의 second 속성"
   ]
  },
  {
   "cell_type": "code",
   "execution_count": 69,
   "metadata": {},
   "outputs": [
    {
     "name": "stdout",
     "output_type": "stream",
     "text": [
      "<class '__main__.FourCal2'>\n",
      "6\n",
      "7\n"
     ]
    }
   ],
   "source": [
    "a = FourCal2()\n",
    "b = FourCal2()\n",
    "print(type(a))\n",
    "\n",
    "a.setData(4,2)\n",
    "b.setData(4,3)\n",
    "print(a.add())\n",
    "print(b.add())"
   ]
  },
  {
   "cell_type": "markdown",
   "metadata": {},
   "source": [
    "# 클래스 상속\n",
    "상속 : class 자식클래스명(부모클래스명):\n",
    "\n",
    "상속받으면 부모 클래스의 메서드 사용 및 재정의(overriding) 가능\n",
    "* overriding : 부모클래스로부터 상속받은 메서드를 자식이 변경하는 것"
   ]
  },
  {
   "cell_type": "code",
   "execution_count": 80,
   "metadata": {},
   "outputs": [],
   "source": [
    "# 상속 : class 자식클래스명(부모클래스명):\n",
    "class MoreFourCal(FourCal):\n",
    "    def pow(self):\n",
    "        res = self.num1 ** self.num2\n",
    "        return res"
   ]
  },
  {
   "cell_type": "code",
   "execution_count": 81,
   "metadata": {},
   "outputs": [
    {
     "name": "stdout",
     "output_type": "stream",
     "text": [
      "16\n"
     ]
    }
   ],
   "source": [
    "c = MoreFourCal()\n",
    "c.setData(2,4)\n",
    "print(c.pow())"
   ]
  },
  {
   "cell_type": "code",
   "execution_count": 83,
   "metadata": {},
   "outputs": [
    {
     "name": "stdout",
     "output_type": "stream",
     "text": [
      "2.0\n",
      "2.0\n"
     ]
    }
   ],
   "source": [
    "d = FourCal()\n",
    "d.setData(4,2)\n",
    "print(d.div())\n",
    "\n",
    "d2 = MoreFourCal()\n",
    "d2.setData(4,2)\n",
    "print(d2.div())"
   ]
  },
  {
   "cell_type": "markdown",
   "metadata": {},
   "source": [
    "# 오버라이딩"
   ]
  },
  {
   "cell_type": "code",
   "execution_count": 84,
   "metadata": {},
   "outputs": [],
   "source": [
    "class SafeFourCal(FourCal):\n",
    "    def div(self):\n",
    "        if self.num2 == 1:\n",
    "            print('1로 나누지 마세요')\n",
    "            return\n",
    "        else:\n",
    "            return self.num1 / self.num2"
   ]
  },
  {
   "cell_type": "code",
   "execution_count": 85,
   "metadata": {},
   "outputs": [
    {
     "name": "stdout",
     "output_type": "stream",
     "text": [
      "1로 나누지 마세요\n",
      "None\n"
     ]
    }
   ],
   "source": [
    "sfc = SafeFourCal()\n",
    "sfc.setData(4,1)\n",
    "print(sfc.div())"
   ]
  },
  {
   "cell_type": "markdown",
   "metadata": {},
   "source": [
    "클래스명 : person"
   ]
  },
  {
   "cell_type": "code",
   "execution_count": 128,
   "metadata": {},
   "outputs": [],
   "source": [
    "class Person:\n",
    "    def __init__(self, *args):  # 매개변수 앞 *이있으면 여러개를 입력받겠다는 의미\n",
    "        self.name = args[0]\n",
    "        self.age = args[1]\n",
    "        self.addr = args[2]\n",
    "        self.dong = args[2].split(' ')[1]\n",
    "    def greeting(self):\n",
    "#         print('안녕하세요. 나는',self.name,'입니다.')\n",
    "        print('안녕하세요. 나는 {}입니다.'.format(self.name))\n",
    "    def name(self):\n",
    "        print(self.name)\n",
    "    def age(self):\n",
    "        print(self.age)\n",
    "    def dong(self):\n",
    "        print(self.dong)\n",
    "        "
   ]
  },
  {
   "cell_type": "code",
   "execution_count": 129,
   "metadata": {},
   "outputs": [
    {
     "name": "stdout",
     "output_type": "stream",
     "text": [
      "안녕하세요. 나는 홍길동입니다.\n",
      "이름 :  홍길동\n",
      "나이 :  25\n",
      "사는 곳 :  서울시 역삼동\n",
      "역삼동\n"
     ]
    }
   ],
   "source": [
    "ps = Person('홍길동', 25, '서울시 역삼동')\n",
    "ps.greeting()  # 안녕하세요. 나는 홍길동입니다.\n",
    "print('이름 : ', ps.name)  # 홍길동\n",
    "print('나이 : ', ps.age)  #25 \n",
    "print('사는 곳 : ', ps.addr)  # 역삼동\n",
    "print(ps.dong)\n"
   ]
  },
  {
   "cell_type": "code",
   "execution_count": 104,
   "metadata": {},
   "outputs": [
    {
     "data": {
      "text/plain": [
       "['서울시', '역삼동']"
      ]
     },
     "execution_count": 104,
     "metadata": {},
     "output_type": "execute_result"
    }
   ],
   "source": [
    "a = '서울시 역삼동'\n",
    "a.split(' ')"
   ]
  },
  {
   "cell_type": "markdown",
   "metadata": {},
   "source": [
    "# 모듈\n",
    ": 함수나 변수, 클래스들을 모아놓은 파일\n",
    "-> 다른 파이썬 프로그램에서 모듈을 사용하기 편하게 하기 위해\n",
    "-> 확장자가 py가 붙은 파일\n",
    "\n",
    "import 모듈이름\n",
    "from 모듈이름 import 함수이름\n",
    "\n",
    "모듈이름.메서드()\n",
    "\n",
    "import 받은 파일에서 실행 안 되게 하려면\n",
    "if __name__ == '__main__':\n",
    "조건을 넣어준다.\n",
    "\n",
    "### 모듈에는 1개 이상의 함수, 변수, 클래스 등이 올 수 있다!"
   ]
  },
  {
   "cell_type": "code",
   "execution_count": null,
   "metadata": {},
   "outputs": [],
   "source": [
    "# 패키지 모듈 불러오기\n",
    "# case 1\n",
    "import Pack1.pack1_first as na\n",
    "na.prn()\n",
    "\n",
    "# case 2\n",
    "from Pack1.pack1_first import prn\n",
    "prn()"
   ]
  },
  {
   "cell_type": "markdown",
   "metadata": {},
   "source": [
    "# 예외처리"
   ]
  },
  {
   "cell_type": "code",
   "execution_count": 131,
   "metadata": {},
   "outputs": [
    {
     "name": "stdout",
     "output_type": "stream",
     "text": [
      "division by zero 0으로 나눌 수 없습니다.\n"
     ]
    }
   ],
   "source": [
    "try:\n",
    "    print(2/0)\n",
    "# print(2/0)문장을 수행하는 과정에서 예외상황이 발생할 경우\n",
    "# 만약 ZeroDivisionError 예외상황 이면 아래와 같은 문장을 수행해라\n",
    "except ZeroDivisionError as e:\n",
    "    print(e, '0으로 나눌 수 없습니다.')"
   ]
  },
  {
   "cell_type": "markdown",
   "metadata": {},
   "source": [
    "# 내장함수\n",
    ": import가 필요 없음\n",
    "\n",
    "# 외장함수\n",
    ": import가 필요"
   ]
  },
  {
   "cell_type": "code",
   "execution_count": 200,
   "metadata": {},
   "outputs": [
    {
     "name": "stdout",
     "output_type": "stream",
     "text": [
      "0 test\n",
      "1 text\n",
      "2 body\n"
     ]
    },
    {
     "data": {
      "text/plain": [
       "(1, 2)"
      ]
     },
     "execution_count": 200,
     "metadata": {},
     "output_type": "execute_result"
    }
   ],
   "source": [
    "# abs : 절대값\n",
    "abs(-0.14)\n",
    "\n",
    "# all : 모두가 참이면 참\n",
    "# 0을 제외한 모든 숫자 True\n",
    "all([-1,1,2,-2])\n",
    "\n",
    "# any : 하나라도 참이면 참\n",
    "any([0,0,1,0])\n",
    "any(['',None,0])\n",
    "\n",
    "# ASCII코드\n",
    "# chr : 아스키 코드를 입력받아 문자로 출력 \n",
    "# for i in range(128):\n",
    "# #     print(chr(i))\n",
    "    \n",
    "# divmod : 몫과 나머지를 튜플로 묶어주는 함수\n",
    "divmod(6,4)\n",
    "\n",
    "# enumerate : 순서가 있는 자료형(리스트, 튜플, 문자열)을 입력받아서 인덱스와 함께 자료를 리턴\n",
    "for idx, name in enumerate(['test','text','body']):\n",
    "    print(idx, name)\n",
    "\n",
    "# eval : 실행 가능한 문자열에 대해 실행한 결과를 리턴\n",
    "eval('1+2')\n",
    "eval('\"hi\"+\"hello\"')\n",
    "eval('divmod(6,4)')\n",
    "# '\"hi\"+\"hello\"'"
   ]
  },
  {
   "cell_type": "markdown",
   "metadata": {},
   "source": [
    "# enumerate()"
   ]
  },
  {
   "cell_type": "code",
   "execution_count": 188,
   "metadata": {},
   "outputs": [
    {
     "name": "stdout",
     "output_type": "stream",
     "text": [
      "(0, 'test')\n",
      "[0, 'test']\n",
      "0 test\n",
      "(1, 'text')\n",
      "[1, 'text']\n",
      "1 text\n",
      "(2, 'body')\n",
      "[2, 'body']\n",
      "2 body\n"
     ]
    }
   ],
   "source": [
    "for data in enumerate(['test','text','body']):\n",
    "    print(data)\n",
    "    print(list(data))\n",
    "    print(data[0], data[1])"
   ]
  },
  {
   "cell_type": "markdown",
   "metadata": {},
   "source": [
    "# 연습문제 1\n",
    "다음과 같은 내용을 지닌 파일 test.txt가 있다. 이 파일의 내용 중 \"java\"라는 문자열을 \"python\"으로 바꾸어서 저장해 보자.\n",
    "\n",
    "Life is too short\n",
    "you need java \n",
    "※ replace 함수를 사용해 보자."
   ]
  },
  {
   "cell_type": "code",
   "execution_count": 358,
   "metadata": {},
   "outputs": [],
   "source": [
    "# 파일을 만들어 Life is too short you need java 입력 \n",
    "with open('test.txt','w') as Q1:\n",
    "    Q1.write('Life is too short you need java')"
   ]
  },
  {
   "cell_type": "code",
   "execution_count": 359,
   "metadata": {},
   "outputs": [],
   "source": [
    "# 파일의 내용을 불러와 java를 python으로 바꿔 내용을 저장\n",
    "with open('test.txt','r') as Q1:\n",
    "    content=Q1.read().replace('java','python')\n",
    "# 저장한 내용을 새롭게 기록\n",
    "with open('test.txt','w') as Q1:\n",
    "    Q1.write(content)"
   ]
  },
  {
   "cell_type": "markdown",
   "metadata": {},
   "source": [
    "# 연습문제 2\n",
    "사용자의 입력을 파일(test.txt)에 저장하는 프로그램을 작성해 보자. \n",
    "(단 프로그램을 다시 실행하더라도 기존에 작성한 내용을 유지하고 새로 입력한 내용을 추가해야 한다.)\n"
   ]
  },
  {
   "cell_type": "code",
   "execution_count": 241,
   "metadata": {},
   "outputs": [
    {
     "name": "stdout",
     "output_type": "stream",
     "text": [
      "내용을 입력하시오.\n",
      "줄바꿈\n"
     ]
    }
   ],
   "source": [
    "# append모드를 이용해 내용을 입력받아 기록\n",
    "with open('test2.txt','a') as notepad:\n",
    "    notepad.write(input('내용을 입력하시오.''\\n'))"
   ]
  },
  {
   "cell_type": "markdown",
   "metadata": {},
   "source": [
    "# 연습문제 3\n",
    "다음은 Calculator 클래스이다.\n",
    "\n",
    "class Calculator:\n",
    "    def __init__(self):\n",
    "        self.value = 0\n",
    "\n",
    "    def add(self, val):\n",
    "        self.value += val\n",
    "위 클래스를 상속하는 UpgradeCalculator를 만들고 값을 뺄 수 있는 minus 메서드를 추가해 보자. 즉 다음과 같이 동작하는 클래스를 만들어야 한다.\n",
    "\n",
    "cal = UpgradeCalculator()\n",
    "cal.add(10)\n",
    "cal.minus(7)\n",
    "\n",
    "print(cal.value) # 10에서 7을 뺀 3을 출력"
   ]
  },
  {
   "cell_type": "code",
   "execution_count": 242,
   "metadata": {},
   "outputs": [],
   "source": [
    "class Calculator:\n",
    "    def __init__(self):\n",
    "        self.value = 0\n",
    "\n",
    "    def add(self, val):\n",
    "        self.value += val"
   ]
  },
  {
   "cell_type": "code",
   "execution_count": 243,
   "metadata": {},
   "outputs": [],
   "source": [
    "# Claculator클래스를 상속받는 UpgradeCalculator클래스 생성\n",
    "class UpgradeCalculator(Calculator):\n",
    "    # minus라는 새로운 메서드 생성\n",
    "    def minus(self, val):\n",
    "        self.value -= val        "
   ]
  },
  {
   "cell_type": "code",
   "execution_count": 244,
   "metadata": {},
   "outputs": [
    {
     "name": "stdout",
     "output_type": "stream",
     "text": [
      "3\n"
     ]
    }
   ],
   "source": [
    "cal = UpgradeCalculator()\n",
    "cal.add(10)\n",
    "cal.minus(7)\n",
    "\n",
    "print(cal.value)"
   ]
  },
  {
   "cell_type": "markdown",
   "metadata": {},
   "source": [
    "# 연습문제 4\n",
    "객체변수 value가 100 이상의 값은 가질 수 없도록 제한하는 MaxLimitCalculator 클래스를 만들어 보자. 즉 다음과 같이 동작해야 한다.\n",
    "\n",
    "cal = MaxLimitCalculator()\n",
    "cal.add(50) # 50 더하기\n",
    "cal.add(60) # 60 더하기\n",
    "\n",
    "print(cal.value) # 100 출력\n",
    "단 반드시 다음과 같은 Calculator 클래스를 상속해서 만들어야 한다.\n",
    "\n",
    "class Calculator:\n",
    "    def __init__(self):\n",
    "        self.value = 0\n",
    "\n",
    "    def add(self, val):\n",
    "        self.value += val"
   ]
  },
  {
   "cell_type": "code",
   "execution_count": 313,
   "metadata": {},
   "outputs": [],
   "source": [
    "# Claculator클래스를 상속받는 MaxLimitCalculator 클래스 생성\n",
    "class MaxLimitCalculator(Calculator):\n",
    "    def add(self, val):\n",
    "        self.value += val\n",
    "        # 결과값이 100이 넘으면 에러 메시지와 함께 결과 값을 100으로 초기화\n",
    "        if self.value >= 100:\n",
    "            self.value=100\n",
    "            print('계산 값이 100을 넘을 수 없습니다.')"
   ]
  },
  {
   "cell_type": "code",
   "execution_count": 314,
   "metadata": {},
   "outputs": [
    {
     "name": "stdout",
     "output_type": "stream",
     "text": [
      "계산 값이 100을 넘을 수 없습니다.\n",
      "100\n"
     ]
    }
   ],
   "source": [
    "cal = MaxLimitCalculator()\n",
    "cal.add(50) # 50 더하기\n",
    "cal.add(60) # 60 더하기\n",
    "\n",
    "print(cal.value) # 100 출력|"
   ]
  },
  {
   "cell_type": "markdown",
   "metadata": {},
   "source": [
    "# 연습문제 5\n",
    "map과 lambda를 사용하여 [1, 2, 3, 4] 리스트의 각 요솟값에 3이 곱해진 리스트 [3, 6, 9, 12]를 만들어 보자."
   ]
  },
  {
   "cell_type": "code",
   "execution_count": 297,
   "metadata": {},
   "outputs": [
    {
     "name": "stdout",
     "output_type": "stream",
     "text": [
      "[3, 6, 9, 12]\n"
     ]
    }
   ],
   "source": [
    "a = [1,2,3,4]\n",
    "\n",
    "print(list(map(lambda x : x*3, a)))"
   ]
  },
  {
   "cell_type": "markdown",
   "metadata": {},
   "source": [
    "# 연습문제 6\n",
    "???\n",
    "\n",
    "지뢰찾기 게임은 M x N 매트릭스에 위치해 있는 지뢰를 찾는 게임이다.\n",
    "\n",
    "M x N 매트릭스 상의 격자(square)는 지뢰이거나 지뢰가 아니다.\n",
    "\n",
    "지뢰 격자는 *로 표시한다. 지뢰가 아닌 격자(square)는 숫자로 표시하며 그 숫자는 인접해 있는 지뢰의 수를 의미한다. (격자(sqaure)는 최대 8개의 인접한 지뢰를 가질 수 있다.)\n",
    "\n",
    "다음은 4x4 매트릭스에서 2개의 지뢰(*)를 표시하는 방법이다.\n",
    "\n",
    "*...\n",
    "....\n",
    ".*..\n",
    "....\n",
    "이 게임의 목표는 지뢰의 위치(*)를 제외한 나머지 격자들의 숫자를 맞추는 것이다.\n",
    "\n",
    "위 경우의 답은 아래와 같다.\n",
    "\n",
    "*100\n",
    "2210\n",
    "1*10\n",
    "1110\n",
    "\n",
    "-----------------------------------------------------------------\n",
    "입력\n",
    "\n",
    "첫번째 줄은 M x N 의 M(행)과 N(열)에 해당되는 숫자이다. N과 M은 0보다 크고 100 이하이다. (0< N, M <=100) 그 다음 M개의 줄이 차례로 입력되고 각 줄은 정확하게 N개의 문자가 입력된다. 지뢰 격자는 *로 표시하며 지뢰가 아닌 격자는 .(dot)로 표시한다.\n",
    "\n",
    "출력\n",
    "\n",
    "지뢰(*)를 제외한 나머지 격자의 숫자값을 찾아서 M x N 매트릭스를 출력한다.\n",
    "\n",
    "예1)\n",
    "\n",
    "입력\n",
    "\n",
    "4 4\n",
    "*...\n",
    "....\n",
    ".*..\n",
    "....\n",
    "출력\n",
    "\n",
    "*100\n",
    "2210\n",
    "1*10\n",
    "1110\n",
    "예2)\n",
    "\n",
    "입력\n",
    "\n",
    "3 5\n",
    "**...\n",
    ".....\n",
    ".*...\n",
    "출력\n",
    "\n",
    "**100\n",
    "33200\n",
    "1*100"
   ]
  }
 ],
 "metadata": {
  "kernelspec": {
   "display_name": "Python 3",
   "language": "python",
   "name": "python3"
  },
  "language_info": {
   "codemirror_mode": {
    "name": "ipython",
    "version": 3
   },
   "file_extension": ".py",
   "mimetype": "text/x-python",
   "name": "python",
   "nbconvert_exporter": "python",
   "pygments_lexer": "ipython3",
   "version": "3.7.4"
  }
 },
 "nbformat": 4,
 "nbformat_minor": 2
}
