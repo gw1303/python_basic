{
 "cells": [
  {
   "cell_type": "code",
   "execution_count": 15,
   "metadata": {},
   "outputs": [
    {
     "name": "stdout",
     "output_type": "stream",
     "text": [
      "사먹는다\n",
      "사먹는다\n"
     ]
    }
   ],
   "source": [
    "money = True\n",
    "\n",
    "if money :\n",
    "    print('사먹는다')\n",
    "    print('사먹는다')\n",
    "else:\n",
    "    print('...')"
   ]
  },
  {
   "cell_type": "code",
   "execution_count": 14,
   "metadata": {},
   "outputs": [
    {
     "name": "stdout",
     "output_type": "stream",
     "text": [
      "택시를 탄다\n"
     ]
    }
   ],
   "source": [
    "money = 5000\n",
    "card = True\n",
    "if money>=10000 or card:\n",
    "    print('택시를 탄다')\n",
    "else:\n",
    "    print('버스를 탄다')"
   ]
  },
  {
   "cell_type": "code",
   "execution_count": 17,
   "metadata": {},
   "outputs": [
    {
     "name": "stdout",
     "output_type": "stream",
     "text": [
      "동전이 없다\n"
     ]
    }
   ],
   "source": [
    "# x in 리스트 : 리스트 내부에 X가 있느냐?\n",
    "# x in 튜플\n",
    "# x in 문자얄\n",
    "\n",
    "1 in [1,2,3]\n",
    "1 not in [1,2,3]\n",
    "\n",
    "poc = ['money','cp', 'coin']\n",
    "if 'coin' in poc:\n",
    "    print('동전이 있다')\n",
    "else:\n",
    "    print('동전이 없다')"
   ]
  },
  {
   "cell_type": "code",
   "execution_count": 20,
   "metadata": {},
   "outputs": [
    {
     "name": "stdout",
     "output_type": "stream",
     "text": [
      "참\n",
      "참\n"
     ]
    }
   ],
   "source": [
    "# 중첩 중복문\n",
    "\n",
    "x=1\n",
    "y=2\n",
    "\n",
    "if x==1 and y==2:\n",
    "    print('참')\n",
    "else:\n",
    "    print('거짓')\n",
    "    \n",
    "if x == 1:\n",
    "    if y == 2:\n",
    "        print('참')\n",
    "    else :\n",
    "        print('거짓')"
   ]
  },
  {
   "cell_type": "code",
   "execution_count": 24,
   "metadata": {},
   "outputs": [
    {
     "name": "stdout",
     "output_type": "stream",
     "text": [
      "20보다 작은 양수\n",
      "20보다 작은 양수\n"
     ]
    }
   ],
   "source": [
    "x = 10\n",
    "if x>0 and x<20:\n",
    "    print('20보다 작은 양수')\n",
    "if 0<x<20:\n",
    "    print('20보다 작은 양수')"
   ]
  },
  {
   "cell_type": "code",
   "execution_count": 27,
   "metadata": {},
   "outputs": [
    {
     "name": "stdout",
     "output_type": "stream",
     "text": [
      "택시탄다\n"
     ]
    }
   ],
   "source": [
    "poc=['cp','paper']\n",
    "card=True\n",
    "\n",
    "if 'money' in poc:\n",
    "    print('택시탄다')\n",
    "else:\n",
    "    if card :\n",
    "        print('택시탄다')\n",
    "    else:\n",
    "        print('걸어간다')"
   ]
  },
  {
   "cell_type": "code",
   "execution_count": 35,
   "metadata": {},
   "outputs": [
    {
     "name": "stdout",
     "output_type": "stream",
     "text": [
      "택시탄다\n"
     ]
    }
   ],
   "source": [
    "poc=['cp','paper']\n",
    "card=True\n",
    "\n",
    "if 'money' in poc:\n",
    "    print('택시탄다')\n",
    "elif card:\n",
    "    print('택시탄다')\n",
    "else:\n",
    "    print('걸어간다')"
   ]
  },
  {
   "cell_type": "code",
   "execution_count": 39,
   "metadata": {},
   "outputs": [
    {
     "name": "stdout",
     "output_type": "stream",
     "text": [
      "카드사용\n",
      "카드사용\n"
     ]
    }
   ],
   "source": [
    "if 'money' in poc:\n",
    "    pass\n",
    "else:\n",
    "    print('카드사용')\n",
    "    \n",
    "if 'money' in poc: pass\n",
    "else: print('카드사용')"
   ]
  },
  {
   "cell_type": "code",
   "execution_count": 43,
   "metadata": {},
   "outputs": [
    {
     "name": "stdout",
     "output_type": "stream",
     "text": [
      "succes\n",
      "succes\n"
     ]
    }
   ],
   "source": [
    "score=80\n",
    "if score >=60:\n",
    "    msg='succes'\n",
    "else:\n",
    "    msg='failure'\n",
    "print(msg)\n",
    "\n",
    "# 한 줄로\n",
    "# 조건이 참인경우 if 조건문 else 조건문이 거짓인 경우\n",
    "msg='succes' if score >=60 else \"failure\"\n",
    "print(msg)"
   ]
  },
  {
   "cell_type": "code",
   "execution_count": 60,
   "metadata": {},
   "outputs": [
    {
     "name": "stdout",
     "output_type": "stream",
     "text": [
      "10\n",
      "7\n",
      "4\n",
      "반복획수 입력 : 1\n",
      "hello 1\n",
      "o l l e h "
     ]
    }
   ],
   "source": [
    "'''\n",
    "for 변수 in 리스트/튜플/문자열/range\n",
    "for 변수 in range(범위):\n",
    "    반복코드\n",
    "'''\n",
    "# 컴퓨터의 구조 상 (1,10)보다 (10,1,-1)이 연산 속도가 더 빠름\n",
    "for i in range(10,1,-3):\n",
    "    print(i)\n",
    "    \n",
    "cnt=int(input('반복획수 입력 : '))\n",
    "for i in range(1,(cnt+1)):\n",
    "    print('hello',i)\n",
    "    \n",
    "for i in reversed('hello'):\n",
    "    print(i, end=' ')"
   ]
  },
  {
   "cell_type": "code",
   "execution_count": 68,
   "metadata": {},
   "outputs": [
    {
     "name": "stdout",
     "output_type": "stream",
     "text": [
      "hi 0\n",
      "hi 1\n",
      "hi 2\n",
      "hi 3\n",
      "hi 4\n",
      "hi 5\n",
      "hi 6\n",
      "hi 7\n",
      "hi 8\n",
      "hi 9\n"
     ]
    }
   ],
   "source": [
    "'''\n",
    "while 조건식:\n",
    "    수행문장1\n",
    "    수행문자2\n",
    "'''\n",
    "\n",
    "i = 0\n",
    "while i<10:\n",
    "    print('hi',i)\n",
    "    i+=1"
   ]
  },
  {
   "cell_type": "code",
   "execution_count": 6,
   "metadata": {},
   "outputs": [
    {
     "name": "stdout",
     "output_type": "stream",
     "text": [
      "\n",
      "1. add\n",
      "2. del\n",
      "3. list\n",
      "4. quit\n",
      "\n",
      "enter number: \n"
     ]
    }
   ],
   "source": [
    "prompt='''\n",
    "1. add\n",
    "2. del\n",
    "3. list\n",
    "4. quit\n",
    "\n",
    "enter number: '''\n",
    "\n",
    "number=0\n",
    "while number != 4:\n",
    "    print(prompt, end='')\n",
    "    number=int(input())"
   ]
  },
  {
   "cell_type": "code",
   "execution_count": 3,
   "metadata": {},
   "outputs": [
    {
     "data": {
      "text/plain": [
       "4"
      ]
     },
     "execution_count": 3,
     "metadata": {},
     "output_type": "execute_result"
    }
   ],
   "source": [
    "# 난수 (random number):컨퓨터 임의의 수\n",
    "# 모듈 : 함수들의 묶음(.py or .ipynb)\n",
    "# 패키치 : 모듈 또는 서브패키지의 묶음\n",
    "\n",
    "import random # random.py 모듈 가져오기\n",
    "# 모듈.함수\n",
    "random.random()\n",
    "\n",
    "random.randint(1,6)\n",
    "\n",
    "random.choice([1,2,3,4,5,6])"
   ]
  },
  {
   "cell_type": "code",
   "execution_count": 2,
   "metadata": {},
   "outputs": [
    {
     "name": "stdout",
     "output_type": "stream",
     "text": [
      "10\n",
      "30\n",
      "32\n",
      "18\n",
      "16\n",
      "32\n"
     ]
    }
   ],
   "source": [
    "# 중복값없게 만들어보기\n",
    "i = 0\n",
    "while i!=6:\n",
    "    print(random.randint(1,45))\n",
    "    i+=1"
   ]
  },
  {
   "cell_type": "code",
   "execution_count": 7,
   "metadata": {},
   "outputs": [
    {
     "name": "stdout",
     "output_type": "stream",
     "text": [
      "0\n",
      "1\n",
      "2\n",
      "3\n",
      "4\n",
      "5\n",
      "6\n",
      "7\n",
      "8\n",
      "9\n"
     ]
    }
   ],
   "source": [
    "# break, continue문은 반복문에서 제어하는 역할\n",
    "# break : 반복문을 종료\n",
    "# continue : 특정 반복 문장을 건너뛸때 사용\n",
    "\n",
    "i = 0\n",
    "while True:  # 무한루프\n",
    "    print(i)\n",
    "    i+=1\n",
    "    if i == 9:\n",
    "        print(i)\n",
    "        break"
   ]
  },
  {
   "cell_type": "code",
   "execution_count": 6,
   "metadata": {},
   "outputs": [
    {
     "name": "stdout",
     "output_type": "stream",
     "text": [
      "0\n",
      "1\n",
      "2\n",
      "3\n",
      "4\n",
      "5\n",
      "6\n",
      "7\n",
      "8\n",
      "9\n"
     ]
    }
   ],
   "source": [
    "for i in range(100):\n",
    "    print(i)\n",
    "    if i == 9:\n",
    "        break"
   ]
  },
  {
   "cell_type": "code",
   "execution_count": 9,
   "metadata": {},
   "outputs": [
    {
     "name": "stdout",
     "output_type": "stream",
     "text": [
      "1\n",
      "3\n",
      "5\n",
      "7\n",
      "9\n",
      "11\n",
      "13\n",
      "15\n",
      "17\n",
      "19\n",
      "21\n",
      "23\n",
      "25\n",
      "27\n",
      "29\n",
      "31\n",
      "33\n",
      "35\n",
      "37\n",
      "39\n",
      "41\n",
      "43\n",
      "45\n",
      "47\n",
      "49\n",
      "51\n",
      "53\n",
      "55\n",
      "57\n",
      "59\n",
      "61\n",
      "63\n",
      "65\n",
      "67\n",
      "69\n",
      "71\n",
      "73\n",
      "75\n",
      "77\n",
      "79\n",
      "81\n",
      "83\n",
      "85\n",
      "87\n",
      "89\n",
      "91\n",
      "93\n",
      "95\n",
      "97\n",
      "99\n"
     ]
    }
   ],
   "source": [
    "for i in range(100):\n",
    "    if i%2==0:\n",
    "        continue  # continue를 만나면 반복문 시작위치로 이동\n",
    "    print(i)\n",
    "\n",
    "\n",
    "    "
   ]
  },
  {
   "cell_type": "code",
   "execution_count": 4,
   "metadata": {},
   "outputs": [
    {
     "ename": "KeyboardInterrupt",
     "evalue": "",
     "output_type": "error",
     "traceback": [
      "\u001b[1;31m---------------------------------------------------------------------------\u001b[0m",
      "\u001b[1;31mKeyboardInterrupt\u001b[0m                         Traceback (most recent call last)",
      "\u001b[1;32m<ipython-input-4-04279d7f02d0>\u001b[0m in \u001b[0;36m<module>\u001b[1;34m\u001b[0m\n\u001b[0;32m      1\u001b[0m \u001b[0mi\u001b[0m\u001b[1;33m=\u001b[0m\u001b[1;36m1\u001b[0m\u001b[1;33m\u001b[0m\u001b[1;33m\u001b[0m\u001b[0m\n\u001b[1;32m----> 2\u001b[1;33m \u001b[1;32mwhile\u001b[0m \u001b[0mi\u001b[0m\u001b[1;33m<=\u001b[0m\u001b[1;36m100\u001b[0m\u001b[1;33m:\u001b[0m\u001b[1;33m\u001b[0m\u001b[1;33m\u001b[0m\u001b[0m\n\u001b[0m\u001b[0;32m      3\u001b[0m     \u001b[1;32mif\u001b[0m \u001b[0mi\u001b[0m\u001b[1;33m%\u001b[0m\u001b[1;36m2\u001b[0m\u001b[1;33m==\u001b[0m\u001b[1;36m1\u001b[0m\u001b[1;33m:\u001b[0m\u001b[1;33m\u001b[0m\u001b[1;33m\u001b[0m\u001b[0m\n\u001b[0;32m      4\u001b[0m         \u001b[1;32mcontinue\u001b[0m\u001b[1;33m\u001b[0m\u001b[1;33m\u001b[0m\u001b[0m\n\u001b[0;32m      5\u001b[0m     \u001b[0mprint\u001b[0m\u001b[1;33m(\u001b[0m\u001b[0mi\u001b[0m\u001b[1;33m)\u001b[0m\u001b[1;33m\u001b[0m\u001b[1;33m\u001b[0m\u001b[0m\n",
      "\u001b[1;31mKeyboardInterrupt\u001b[0m: "
     ]
    }
   ],
   "source": [
    "i=1    \n",
    "while i<=100:\n",
    "    if i%2==1:\n",
    "        continue\n",
    "    print(i)\n",
    "    i+=1"
   ]
  },
  {
   "cell_type": "code",
   "execution_count": null,
   "metadata": {},
   "outputs": [],
   "source": [
    "i = 0\n",
    "while i < 100:\n",
    "    i+=1\n",
    "    if i%2==1:\n",
    "        continue\n",
    "    print(i)\n"
   ]
  },
  {
   "cell_type": "code",
   "execution_count": 14,
   "metadata": {},
   "outputs": [
    {
     "name": "stdout",
     "output_type": "stream",
     "text": [
      "커피가 나옵니다.\n",
      "남은 커피는 9잔 입니다\n",
      "남은 잔액은 900원 입니다\n",
      "커피가 나옵니다.\n",
      "남은 커피는 8잔 입니다\n",
      "남은 잔액은 700원 입니다\n",
      "커피가 나옵니다.\n",
      "남은 커피는 7잔 입니다\n",
      "남은 잔액은 500원 입니다\n",
      "커피가 나옵니다.\n",
      "남은 커피는 6잔 입니다\n",
      "남은 잔액은 300원 입니다\n",
      "커피가 나옵니다.\n",
      "남은 커피는 5잔 입니다\n",
      "남은 잔액은 100원 입니다\n",
      "잔액이 떨어졌습니다. 구매불가\n"
     ]
    }
   ],
   "source": [
    "coffee=10\n",
    "money=1100\n",
    "\n",
    "while money:\n",
    "    print('커피가 나옵니다.')\n",
    "    coffee=coffee-1\n",
    "    money=money-200\n",
    "    print('남은 커피는 %d잔 입니다' %coffee)\n",
    "    print('남은 잔액은 %d원 입니다' %money)\n",
    "    if money<200:\n",
    "        print('잔액이 떨어졌습니다. 구매불가')\n",
    "        break\n",
    "    if coffee==0:\n",
    "        print('커피가 떨어졌습니다. 판매중지')\n",
    "        break"
   ]
  },
  {
   "cell_type": "code",
   "execution_count": 23,
   "metadata": {},
   "outputs": [
    {
     "name": "stdout",
     "output_type": "stream",
     "text": [
      "1\n",
      "3\n"
     ]
    },
    {
     "data": {
      "text/plain": [
       "[(1, 2), (3, 4)]"
      ]
     },
     "execution_count": 23,
     "metadata": {},
     "output_type": "execute_result"
    }
   ],
   "source": [
    "a=[(1,2),(3,4)]\n",
    "for (data1, data2) in a:\n",
    "    print(data1)\n",
    "    \n",
    "    \n",
    "a"
   ]
  },
  {
   "cell_type": "code",
   "execution_count": 69,
   "metadata": {},
   "outputs": [
    {
     "name": "stdout",
     "output_type": "stream",
     "text": [
      "2 * 1 = 2\n",
      "2 * 2 = 4\n",
      "2 * 3 = 6\n",
      "2 * 4 = 8\n",
      "2 * 5 = 10\n",
      "2 * 6 = 12\n",
      "2 * 7 = 14\n",
      "2 * 8 = 16\n",
      "2 * 9 = 18\n",
      "\n",
      "\n",
      "3 * 1 = 3\n",
      "3 * 2 = 6\n",
      "3 * 3 = 9\n",
      "3 * 4 = 12\n",
      "3 * 5 = 15\n",
      "3 * 6 = 18\n",
      "3 * 7 = 21\n",
      "3 * 8 = 24\n",
      "3 * 9 = 27\n",
      "\n",
      "\n",
      "4 * 1 = 4\n",
      "4 * 2 = 8\n",
      "4 * 3 = 12\n",
      "4 * 4 = 16\n",
      "4 * 5 = 20\n",
      "4 * 6 = 24\n",
      "4 * 7 = 28\n",
      "4 * 8 = 32\n",
      "4 * 9 = 36\n",
      "\n",
      "\n",
      "5 * 1 = 5\n",
      "5 * 2 = 10\n",
      "5 * 3 = 15\n",
      "5 * 4 = 20\n",
      "5 * 5 = 25\n",
      "5 * 6 = 30\n",
      "5 * 7 = 35\n",
      "5 * 8 = 40\n",
      "5 * 9 = 45\n",
      "\n",
      "\n",
      "6 * 1 = 6\n",
      "6 * 2 = 12\n",
      "6 * 3 = 18\n",
      "6 * 4 = 24\n",
      "6 * 5 = 30\n",
      "6 * 6 = 36\n",
      "6 * 7 = 42\n",
      "6 * 8 = 48\n",
      "6 * 9 = 54\n",
      "\n",
      "\n",
      "7 * 1 = 7\n",
      "7 * 2 = 14\n",
      "7 * 3 = 21\n",
      "7 * 4 = 28\n",
      "7 * 5 = 35\n",
      "7 * 6 = 42\n",
      "7 * 7 = 49\n",
      "7 * 8 = 56\n",
      "7 * 9 = 63\n",
      "\n",
      "\n",
      "8 * 1 = 8\n",
      "8 * 2 = 16\n",
      "8 * 3 = 24\n",
      "8 * 4 = 32\n",
      "8 * 5 = 40\n",
      "8 * 6 = 48\n",
      "8 * 7 = 56\n",
      "8 * 8 = 64\n",
      "8 * 9 = 72\n",
      "\n",
      "\n",
      "9 * 1 = 9\n",
      "9 * 2 = 18\n",
      "9 * 3 = 27\n",
      "9 * 4 = 36\n",
      "9 * 5 = 45\n",
      "9 * 6 = 54\n",
      "9 * 7 = 63\n",
      "9 * 8 = 72\n",
      "9 * 9 = 81\n",
      "\n",
      "\n"
     ]
    }
   ],
   "source": [
    "# 구구단 2단\n",
    "for i in range(2,10):\n",
    "    for j in range(1,10):\n",
    "        print(i,'*',j,'=',i*j, end='\\n')\n",
    "    print('\\n')"
   ]
  },
  {
   "cell_type": "code",
   "execution_count": 65,
   "metadata": {
    "scrolled": false
   },
   "outputs": [
    {
     "name": "stdout",
     "output_type": "stream",
     "text": [
      "*\n",
      "**\n",
      "***\n",
      "****\n"
     ]
    }
   ],
   "source": [
    "for i in range(1,5):    # 줄 수\n",
    "    for j in range(i):  # 별 수\n",
    "        print('*',end='')\n",
    "    i+=1\n",
    "    print('')"
   ]
  },
  {
   "cell_type": "code",
   "execution_count": 89,
   "metadata": {},
   "outputs": [
    {
     "name": "stdout",
     "output_type": "stream",
     "text": [
      "*\n",
      " *\n",
      "  *\n",
      "   *\n"
     ]
    }
   ],
   "source": [
    "for i in range(4):\n",
    "    for j in range(4):\n",
    "        if j == i :\n",
    "            print('*',end='')\n",
    "            break\n",
    "        else:\n",
    "            print(' ', end='')\n",
    "    print()"
   ]
  },
  {
   "cell_type": "code",
   "execution_count": 104,
   "metadata": {},
   "outputs": [
    {
     "name": "stdout",
     "output_type": "stream",
     "text": [
      "[2, 4, 6]\n",
      "[2, 4, 6]\n"
     ]
    }
   ],
   "source": [
    "# 리스트 내포\n",
    "# 리스트 내부에 for문을 포함\n",
    "\n",
    "# 일반 for 문\n",
    "x = [1,2,3]\n",
    "res=[]\n",
    "for n in x:\n",
    "    res.append(n*2)\n",
    "print(res)\n",
    "\n",
    "# 리스트 내포문\n",
    "# [표현식 for 변수 in 반복가능한 객체 if 조건문]\n",
    "res=[n*2 for n in x]\n",
    "# x에서 데이터를 n으로 읽어들인 후,\n",
    "# n에 2를 곱한 값으로 리스트에 저장\n",
    "print(res)"
   ]
  },
  {
   "cell_type": "code",
   "execution_count": 106,
   "metadata": {},
   "outputs": [
    {
     "name": "stdout",
     "output_type": "stream",
     "text": [
      "[4, 8]\n"
     ]
    }
   ],
   "source": [
    "x = [1,2,3,4]\n",
    "res=[n*2 for n in x if n%2==0]\n",
    "# x에서 데이터를 n으로 읽어들인 후,\n",
    "# 만약 n이 짝수이면,\n",
    "# n에 2를 곱한 값으로 리스트에 저장\n",
    "print(res)"
   ]
  },
  {
   "cell_type": "code",
   "execution_count": 110,
   "metadata": {},
   "outputs": [
    {
     "name": "stdout",
     "output_type": "stream",
     "text": [
      "[2, 4, 6, 8, 10, 12, 14, 16, 18, 3, 6, 9, 12, 15, 18, 21, 24, 27, 4, 8, 12, 16, 20, 24, 28, 32, 36, 5, 10, 15, 20, 25, 30, 35, 40, 45, 6, 12, 18, 24, 30, 36, 42, 48, 54, 7, 14, 21, 28, 35, 42, 49, 56, 63, 8, 16, 24, 32, 40, 48, 56, 64, 72, 9, 18, 27, 36, 45, 54, 63, 72, 81]\n"
     ]
    }
   ],
   "source": [
    "# 리스트내포 2중 for문\n",
    "res=[x*y for y in range(2,10) for x in range(1,10)]\n",
    "print(res)\n",
    "# 출력 : [2,4,6,8.....81]"
   ]
  },
  {
   "cell_type": "markdown",
   "metadata": {},
   "source": [
    "# 1\n",
    "1차원의 점들이 주어졌을 때, 그 중 가장 거리가 짧은 것의 쌍을 출력하는 함수를 작성하시오. (단 점들의 배열은 모두 정렬되어있다고 가정한다.)예를들어 S={1, 3, 4, 8, 13, 17, 20} 이 주어졌다면, 결과값은 (3, 4)가 될 것이다."
   ]
  },
  {
   "cell_type": "code",
   "execution_count": 317,
   "metadata": {},
   "outputs": [
    {
     "name": "stdout",
     "output_type": "stream",
     "text": [
      "(4, 5)\n",
      "(3, 4)\n"
     ]
    }
   ],
   "source": [
    "# 1\n",
    "\n",
    "RES=[]\n",
    "MIN=[]\n",
    "S=[1, 3, 4,5, 8, 13, 17, 20]\n",
    "ans=set()\n",
    "for i in S:\n",
    "    res=[]\n",
    "    S=[1, 3, 4,5, 8, 13, 17, 20]\n",
    "    S.remove(i)\n",
    "    for j in S:\n",
    "        MIN.append(abs(j-i))\n",
    "        res.append([abs(j-i),i,j])\n",
    "        RES+=res\n",
    "\n",
    "for i in range(len(RES)):\n",
    "    if RES[i][0] == min(MIN):\n",
    "        if RES[i][1]<RES[i][2]:\n",
    "            ans.add((RES[i][1],RES[i][2]))\n",
    "\n",
    "while range(len(ans)):\n",
    "    print(ans.pop())"
   ]
  },
  {
   "cell_type": "markdown",
   "metadata": {},
   "source": [
    "# 2\n",
    "주어진 문자열(공백 없이 쉼표로 구분되어 있음)을 가지고 아래 문제에 대한 프로그램을 작성하세요.\n",
    "data=\"이유덕,이재영,권종표,이재영,박민호,강상희,이재영,김지완,최승혁,이성연,박영서,박민호,전경헌,송정환,김재성,이유덕,전경헌\"\n",
    "\n",
    "김씨와 이씨는 각각 몇 명 인가요?\n",
    "\"이재영\"이란 이름이 몇 번 반복되나요?\n",
    "중복을 제거한 이름을 출력하세요.\n",
    "중복을 제거한 이름을 오름차순으로 정렬하여 출력하세요."
   ]
  },
  {
   "cell_type": "code",
   "execution_count": 134,
   "metadata": {
    "scrolled": true
   },
   "outputs": [
    {
     "name": "stdout",
     "output_type": "stream",
     "text": [
      "Q. 2-1\n",
      "김씨 수 :  2\n",
      "이씨 수 :  6\n",
      "\n",
      "Q. 2-2\n",
      "이재영 반복 수 :  3\n",
      "\n",
      "Q. 2-3\n",
      "중복제거 명단 : 이성연,송정환,최승혁,이재영,김재성,전경헌,박민호,이유덕,김지완,강상희,권종표,박영서,\n",
      " Q. 2-4\n",
      "정렬 중복제거 명단 : 강상희,권종표,김재성,김지완,박민호,박영서,송정환,이성연,이유덕,이재영,전경헌,최승혁,"
     ]
    }
   ],
   "source": [
    "# 2\n",
    "\n",
    "#,를 구분자로 각각 이름을 담은 리스트 생성\n",
    "names = \"이유덕,이재영,권종표,이재영,박민호,강상희,이재영,김지완,최승혁,이성연,박영서,박민호,전경헌,송정환,김재성,이유덕,전경헌\".split(\",\")\n",
    "\n",
    "# 2-1 김씨와 이씨는 각각 몇 명 인가요?\n",
    "kcnt=0\n",
    "lcnt=0\n",
    "for n in names:\n",
    "    for fn in n:\n",
    "        if fn == '김':\n",
    "            kcnt+=1\n",
    "        elif fn == '이':\n",
    "            lcnt+=1\n",
    "print('Q. 2-1')\n",
    "print('김씨 수 : ',kcnt)\n",
    "print('이씨 수 : ',lcnt)\n",
    "# 2-2 \"이재영\"이란 이름이 몇 번 반복되나요?\n",
    "ljy_cnt=0\n",
    "for n in names:\n",
    "    if n == '이재영':\n",
    "        ljy_cnt+=1\n",
    "print('\\nQ. 2-2')\n",
    "print('이재영 반복 수 : ',ljy_cnt)\n",
    "# 2-3 중복을 제거한 이름을 출력하세요.\n",
    "print('\\nQ. 2-3')\n",
    "print('중복제거 명단 : ',end='')\n",
    "for i in list(set(names)):\n",
    "    print(i, end=',')\n",
    "# 2-4 중복을 제거한 이름을 오름차순으로 정렬하여 출력하세요.\n",
    "print('\\nQ. 2-4')\n",
    "print('정렬 중복제거 명단 : ',end='')\n",
    "for i in sorted(list(set(names))):\n",
    "    print(i, end=',')"
   ]
  },
  {
   "cell_type": "markdown",
   "metadata": {},
   "source": [
    "# 3\n",
    "10미만의 자연수에서 3과 5의 배수를 구하면 3,5,6,9이다. 이들의 총합은 23이다.\n",
    "1000미만의 자연수에서 3,5의 배수의 총합을 구하라."
   ]
  },
  {
   "cell_type": "code",
   "execution_count": 139,
   "metadata": {},
   "outputs": [
    {
     "name": "stdout",
     "output_type": "stream",
     "text": [
      "3과 5의 배수의 합 : 233168\n"
     ]
    }
   ],
   "source": [
    "# 3\n",
    "three_five_list=[]\n",
    "for i in range(1,1000):\n",
    "    if i%3==0 or i%5==0:\n",
    "        three_five_list.append(i)\n",
    "print('3과 5의 배수의 합 :',sum(three_five_list))"
   ]
  },
  {
   "cell_type": "markdown",
   "metadata": {},
   "source": [
    "# 4\n",
    "자기 자신을 제외한 모든 양의 약수들의 합이 자기 자신이 되는 자연수를 완전수라고 한다. 예를 들면, 6과 28은 완전수이다. 6=1+2+3 // 1,2,3은 각각 6의 약수 28=1+2+4+7+14 // 1,2,4,7,14는 각각 28의 약수 입력으로 자연수 N을 받고, 출력으로 N 이하의 모든 완전수를 출력하는 코드를 작성하라."
   ]
  },
  {
   "cell_type": "code",
   "execution_count": 276,
   "metadata": {},
   "outputs": [
    {
     "name": "stdout",
     "output_type": "stream",
     "text": [
      "자연수를 입력하시오.10000\n",
      "6\n",
      "28\n",
      "496\n",
      "8128\n"
     ]
    }
   ],
   "source": [
    "# 4\n",
    "N = input('자연수를 입력하시오.')\n",
    "\n",
    "for i in range(1,int(N)):\n",
    "    res=[]\n",
    "    for j in range(1,i-1):\n",
    "        if i%j==0:\n",
    "            res.append(j)\n",
    "    if sum(res)==i:\n",
    "        print(i)\n",
    "            "
   ]
  },
  {
   "cell_type": "markdown",
   "metadata": {},
   "source": [
    "# 5 \n",
    "0~9까지의 문자로 된 숫자를 입력 받았을 때, 이 입력 값이 0~9까지의 숫자가 각각 한 번 씩만 사용된 것인지 확인하는 함수를 구하시오.\n",
    "\n",
    "sample inputs: 0123456789 01234 01234567890 6789012345 012322456789\n",
    "sample outputs: true false false true false"
   ]
  },
  {
   "cell_type": "code",
   "execution_count": 161,
   "metadata": {},
   "outputs": [
    {
     "name": "stdout",
     "output_type": "stream",
     "text": [
      "숫자를 입력하시오.111\n",
      "False\n"
     ]
    }
   ],
   "source": [
    "# 5\n",
    "N = input(\"숫자를 입력하시오.\")\n",
    "LIST=[]\n",
    "\n",
    "\n",
    "for i in N:\n",
    "    LIST.append(i)\n",
    "\n",
    "if len(LIST) == len(list(set(LIST))):\n",
    "    print('True')\n",
    "else:\n",
    "    print('False')\n"
   ]
  },
  {
   "cell_type": "markdown",
   "metadata": {},
   "source": [
    "# 6\n",
    "문자열을 입력받아서, 같은 문자가 연속적으로 반복되는 경우에 그 반복 횟수를 표시하여 문자열을 압축하기.\n",
    "\n",
    "입력 예시: aaabbcccccca\n",
    "출력 예시: a3b2c6a1"
   ]
  },
  {
   "cell_type": "code",
   "execution_count": 312,
   "metadata": {},
   "outputs": [
    {
     "name": "stdout",
     "output_type": "stream",
     "text": [
      "문자열을 입력하시오.aabbbcccccca\n",
      "a2b3c6a1"
     ]
    }
   ],
   "source": [
    "# 6\n",
    "STR = input('문자열을 입력하시오.')\n",
    "cnt=1\n",
    "\n",
    "for j in range(len(STR)):\n",
    "    if j == (len(STR)-1):\n",
    "        print(STR[j]+str(cnt),end='')\n",
    "        break\n",
    "    if STR[j]==STR[j+1]:\n",
    "        cnt+=1\n",
    "    else:\n",
    "        print(STR[j]+str(cnt), end='')\n",
    "        cnt=1"
   ]
  },
  {
   "cell_type": "code",
   "execution_count": 258,
   "metadata": {},
   "outputs": [
    {
     "name": "stdout",
     "output_type": "stream",
     "text": [
      "{8, 43, 13, 20, 22, 25}\n"
     ]
    }
   ],
   "source": [
    "# 7\n",
    "import random\n",
    "num=set()\n",
    "\n",
    "while len(num)!=6:\n",
    "    num.add(random.randint(1,45))\n",
    "print(num)"
   ]
  },
  {
   "cell_type": "code",
   "execution_count": 112,
   "metadata": {},
   "outputs": [
    {
     "name": "stdout",
     "output_type": "stream",
     "text": [
      "커피가 나옵니다.\n",
      "남은 커피는 9잔 입니다\n",
      "남은 잔액은 900원 입니다\n",
      "커피가 나옵니다.\n",
      "남은 커피는 8잔 입니다\n",
      "남은 잔액은 700원 입니다\n",
      "커피가 나옵니다.\n",
      "남은 커피는 7잔 입니다\n",
      "남은 잔액은 500원 입니다\n",
      "커피가 나옵니다.\n",
      "남은 커피는 6잔 입니다\n",
      "남은 잔액은 300원 입니다\n",
      "커피가 나옵니다.\n",
      "남은 커피는 5잔 입니다\n",
      "남은 잔액은 100원 입니다\n",
      "잔액이 떨어졌습니다. 구매불가\n"
     ]
    }
   ],
   "source": [
    "# 8\n",
    "coffee=10\n",
    "money=1100\n",
    "\n",
    "while money:\n",
    "    print('커피가 나옵니다.')\n",
    "    coffee=coffee-1\n",
    "    money=money-200\n",
    "    print('남은 커피는 %d잔 입니다' %coffee)\n",
    "    print('남은 잔액은 %d원 입니다' %money)\n",
    "    if money<200:\n",
    "        print('잔액이 떨어졌습니다. 구매불가')\n",
    "        break\n",
    "    if coffee==0:\n",
    "        print('커피가 떨어졌습니다. 판매중지')\n",
    "        break"
   ]
  },
  {
   "cell_type": "code",
   "execution_count": 268,
   "metadata": {},
   "outputs": [
    {
     "name": "stdout",
     "output_type": "stream",
     "text": [
      "   *\n",
      "  ***\n",
      " *****\n"
     ]
    }
   ],
   "source": [
    "# 9\n",
    "'''\n",
    "  *\n",
    " ***\n",
    "*****\n",
    "\n",
    "00100\n",
    "01110\n",
    "11111\n",
    "'''\n",
    "for i in range(1,4):\n",
    "    print(' '*(3-i),'*'*(2*i-1))\n"
   ]
  },
  {
   "cell_type": "code",
   "execution_count": null,
   "metadata": {},
   "outputs": [],
   "source": []
  }
 ],
 "metadata": {
  "kernelspec": {
   "display_name": "Python 3",
   "language": "python",
   "name": "python3"
  },
  "language_info": {
   "codemirror_mode": {
    "name": "ipython",
    "version": 3
   },
   "file_extension": ".py",
   "mimetype": "text/x-python",
   "name": "python",
   "nbconvert_exporter": "python",
   "pygments_lexer": "ipython3",
   "version": "3.7.4"
  }
 },
 "nbformat": 4,
 "nbformat_minor": 2
}
