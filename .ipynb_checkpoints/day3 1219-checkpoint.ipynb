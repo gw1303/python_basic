{
 "cells": [
  {
   "cell_type": "code",
   "execution_count": 1,
   "metadata": {},
   "outputs": [],
   "source": [
    "# 자료구조 : 자료를 저장 및 관리하는 방법\n",
    "# 알고리즘 : 문제를 해결하는 방법"
   ]
  },
  {
   "cell_type": "code",
   "execution_count": 2,
   "metadata": {},
   "outputs": [
    {
     "data": {
      "text/plain": [
       "('john', 25, 180, True)"
      ]
     },
     "execution_count": 2,
     "metadata": {},
     "output_type": "execute_result"
    }
   ],
   "source": [
    "# 튜플\n",
    "''' \n",
    " 튜플( , , , ) : 리스트[ , , , ]와 비슷\n",
    " 리스트는 생성, 삭제, 수정 가능\n",
    " 튜플은 변경을 할 수 없음\n",
    " 계속 유지되어야하는 데이터는 튜플로 저장 (실무에선 거의 사용 X)\n",
    "'''\n",
    "a = (3,2,5,6,1)\n",
    "a = 3,2,5,6,1\n",
    "type(a) # 둘 다 tuple\n",
    "\n",
    "a1 = ()\n",
    "a1\n",
    "\n",
    "# 값을 한 개 저장한 튜플을 정의\n",
    "a2 = 5,  \n",
    "a2  # tuple\n",
    "\n",
    "# 여러 타입의 데이터를 저장 가능\n",
    "a3 = ('john', 25, 180, True)\n",
    "a3"
   ]
  },
  {
   "cell_type": "code",
   "execution_count": 3,
   "metadata": {},
   "outputs": [
    {
     "data": {
      "text/plain": [
       "(0, 1, 2, 3, 4, 5, 6, 7, 8, 9)"
      ]
     },
     "execution_count": 3,
     "metadata": {},
     "output_type": "execute_result"
    }
   ],
   "source": [
    "a= tuple(range(10))\n",
    "a"
   ]
  },
  {
   "cell_type": "code",
   "execution_count": 4,
   "metadata": {},
   "outputs": [
    {
     "name": "stdout",
     "output_type": "stream",
     "text": [
      "(1, 2, 3)\n",
      "[1, 2, 3]\n"
     ]
    }
   ],
   "source": [
    "a = [1,2,3]\n",
    "a = tuple(a)\n",
    "print(a)\n",
    "a = list(a)\n",
    "print(a)"
   ]
  },
  {
   "cell_type": "code",
   "execution_count": 5,
   "metadata": {},
   "outputs": [
    {
     "data": {
      "text/plain": [
       "('h', 'e', 'l', 'l', 'o')"
      ]
     },
     "execution_count": 5,
     "metadata": {},
     "output_type": "execute_result"
    }
   ],
   "source": [
    "list('hello')\n",
    "tuple('hello')"
   ]
  },
  {
   "cell_type": "code",
   "execution_count": 6,
   "metadata": {},
   "outputs": [
    {
     "data": {
      "text/plain": [
       "2"
      ]
     },
     "execution_count": 6,
     "metadata": {},
     "output_type": "execute_result"
    }
   ],
   "source": [
    "x,y=[1,2]\n",
    "x\n",
    "y\n",
    "x,y=(1,2)\n",
    "x\n",
    "y"
   ]
  },
  {
   "cell_type": "code",
   "execution_count": 7,
   "metadata": {},
   "outputs": [],
   "source": [
    "# Unpacking : 리스트(튜플)의 요소를 여러개의 변수에 할당하는 것\n",
    "# Packing : 변수에 리스트(튜플)을 할당하는 것\n",
    "\n",
    "a = [1,2,3] # 리스트 패킹\n",
    "a = (1,2,3) # 튜플 패킹"
   ]
  },
  {
   "cell_type": "code",
   "execution_count": 8,
   "metadata": {},
   "outputs": [
    {
     "data": {
      "text/plain": [
       "(2, 'x')"
      ]
     },
     "execution_count": 8,
     "metadata": {},
     "output_type": "execute_result"
    }
   ],
   "source": [
    "t1 = (1,2,'x','y')\n",
    "t1\n",
    "\n",
    "t1[1:3]"
   ]
  },
  {
   "cell_type": "code",
   "execution_count": 9,
   "metadata": {},
   "outputs": [
    {
     "data": {
      "text/plain": [
       "True"
      ]
     },
     "execution_count": 9,
     "metadata": {},
     "output_type": "execute_result"
    }
   ],
   "source": [
    "# 시퀀스형\n",
    "# 리스트, 튜플, range, 문자열 => 데이터가 연속적으로 표현 됨\n",
    "# 시퀀스형의 자료에 특정값이 존재하는지 확인\n",
    "\n",
    "# 0~90까지 10씩 증가한 값으로 리스트 생성\n",
    "a = list(range(0,91,10))\n",
    "a\n",
    "\n",
    "# 시퀀스형에 대해 in 연산자 사용 가능\n",
    "30 in a # a변수(시퀀스형) 안에 30이 있느냐\n",
    "100 not in a  # a변수(시퀀스형) 안에 100이 있지 않느냐"
   ]
  },
  {
   "cell_type": "code",
   "execution_count": 10,
   "metadata": {},
   "outputs": [
    {
     "data": {
      "text/plain": [
       "False"
      ]
     },
     "execution_count": 10,
     "metadata": {},
     "output_type": "execute_result"
    }
   ],
   "source": [
    "'h' in 'Hello, python'\n",
    "100 in range(100)"
   ]
  },
  {
   "cell_type": "code",
   "execution_count": 11,
   "metadata": {},
   "outputs": [],
   "source": [
    "# range는 + 연산자 X\n",
    "# 다른 타입의 자료는 + 연산자 X\\"
   ]
  },
  {
   "cell_type": "code",
   "execution_count": 12,
   "metadata": {},
   "outputs": [
    {
     "data": {
      "text/plain": [
       "6"
      ]
     },
     "execution_count": 12,
     "metadata": {},
     "output_type": "execute_result"
    }
   ],
   "source": [
    "# 시퀀스 자료형에 해당되는 데이터의 길이\n",
    "a=[1,2,3]\n",
    "len(a)\n",
    "a=(1,2,3)\n",
    "len(a)\n",
    "len(range(3))\n",
    "len('hello')\n",
    "len('안녕하세요')  # len은 문자의 개수\n",
    "\n",
    "#utf-8 : 한글 한 글자에 3byte\n",
    "len('안녕'.encode('utf-8'))"
   ]
  },
  {
   "cell_type": "code",
   "execution_count": 13,
   "metadata": {},
   "outputs": [
    {
     "data": {
      "text/plain": [
       "'HI HELLO'"
      ]
     },
     "execution_count": 13,
     "metadata": {},
     "output_type": "execute_result"
    }
   ],
   "source": [
    "x='HI HELLO'\n",
    "x.__getitem__(0)  # = x[0]\n",
    "# x[10] # IndexError: string index out of range\n",
    "\n",
    "x[len(x)-1]  # 마지막 요소 참조\n",
    "\n",
    "x[1:7:2]  # 인텍스 1부터 2씩 증가하면서 인덱스 6번까지 가져옴\n",
    "x[:8:2]\n",
    "\n",
    "x[5:1]  # ''\n",
    "x[5:1:-1]  # LEH\n",
    "x[::-1]  # 'OLLEH IH' (역순)\n",
    "\n",
    "x[0:len(x)]  # x[:len(x)]"
   ]
  },
  {
   "cell_type": "code",
   "execution_count": 14,
   "metadata": {},
   "outputs": [],
   "source": [
    "# 딕셔너리 : 키와 값으로 자료를 표현\n",
    "'''\n",
    " # 리스트\n",
    " person = [180,70,'o','서울']\n",
    "\n",
    " # 딕셔너리\n",
    " person2 = {'키':180, '몸무게':70, '혈액형':'o', '사는곳':'서울'}\n",
    "'''\n",
    "person2={'키':180, '몸무게':70, '혈액형':'o', '사는곳':'서울'}"
   ]
  },
  {
   "cell_type": "code",
   "execution_count": 15,
   "metadata": {},
   "outputs": [
    {
     "data": {
      "text/plain": [
       "{'키': 180, '몸무게': 80, '혈액형': 'o', '사는곳': '서울'}"
      ]
     },
     "execution_count": 15,
     "metadata": {},
     "output_type": "execute_result"
    }
   ],
   "source": [
    "person2={'키':180, '몸무게':70, '혈액형':'o', '사는곳':'서울','몸무게':80}\n",
    "person2\n",
    "# key가 중복되면 마지막 자료가 저장"
   ]
  },
  {
   "cell_type": "code",
   "execution_count": 16,
   "metadata": {},
   "outputs": [],
   "source": [
    "person2={'키':180, '몸무게':70, '혈액형':'o', \n",
    "         '사는곳':'서울',99:'구구','취미':{'오전':['수영','야구'],'오후':'공부'}}"
   ]
  },
  {
   "cell_type": "code",
   "execution_count": 17,
   "metadata": {},
   "outputs": [
    {
     "data": {
      "text/plain": [
       "{'키': 180,\n",
       " '몸무게': 70,\n",
       " '혈액형': 'o',\n",
       " '사는곳': '서울',\n",
       " 99: '구구',\n",
       " '취미': {'오전': ['수영', '야구'], '오후': '공부'}}"
      ]
     },
     "execution_count": 17,
     "metadata": {},
     "output_type": "execute_result"
    }
   ],
   "source": [
    "person2"
   ]
  },
  {
   "cell_type": "code",
   "execution_count": 18,
   "metadata": {},
   "outputs": [
    {
     "data": {
      "text/plain": [
       "'\\n 딕셔너리\\n key, value가 여러 쌍으로 구성\\n 컴마로 구분\\n key는 변하지 않는 것을 사용\\n value는 변하는 값 변하지 않는 값 모두 사용 가능\\n'"
      ]
     },
     "execution_count": 18,
     "metadata": {},
     "output_type": "execute_result"
    }
   ],
   "source": [
    "'''\n",
    " 딕셔너리\n",
    " key, value가 여러 쌍으로 구성\n",
    " 컴마로 구분\n",
    " key는 변하지 않는 것을 사용\n",
    " value는 변하는 값 변하지 않는 값 모두 사용 가능\n",
    "'''"
   ]
  },
  {
   "cell_type": "code",
   "execution_count": 19,
   "metadata": {},
   "outputs": [],
   "source": [
    "person3={('x','y'):(1,2)}\n",
    "# person4={['x','y']:[1,2]}"
   ]
  },
  {
   "cell_type": "code",
   "execution_count": 20,
   "metadata": {},
   "outputs": [
    {
     "data": {
      "text/plain": [
       "{}"
      ]
     },
     "execution_count": 20,
     "metadata": {},
     "output_type": "execute_result"
    }
   ],
   "source": [
    "x=dict() #x={}\n",
    "x"
   ]
  },
  {
   "cell_type": "code",
   "execution_count": 21,
   "metadata": {},
   "outputs": [
    {
     "name": "stdout",
     "output_type": "stream",
     "text": [
      "{'height': 180, 'weight': 70, 'bt': 'O'}\n",
      "{'height': 180, 'weight': 70, 'bt': 'O'}\n",
      "{'height': 180, 'weight': 70, 'bt': 'O'}\n",
      "{'height': 180, 'weight': 70, 'bt': 'O'}\n"
     ]
    }
   ],
   "source": [
    "# dict(키1=값1, 키2=값2 ... )\n",
    "per=dict(height=180, weight=70, bt='O')\n",
    "print(per)\n",
    "\n",
    "per=dict(zip(['height','weight','bt'],[180,70,'O']))\n",
    "print(per)\n",
    "\n",
    "per=dict([('height',180), ('weight',70), ('bt','O')])\n",
    "print(per)\n",
    "\n",
    "per=dict({'height':180, 'weight':70, 'bt':'O'})\n",
    "print(per)"
   ]
  },
  {
   "cell_type": "code",
   "execution_count": 22,
   "metadata": {},
   "outputs": [
    {
     "data": {
      "text/plain": [
       "<zip at 0x2414ddbad88>"
      ]
     },
     "execution_count": 22,
     "metadata": {},
     "output_type": "execute_result"
    }
   ],
   "source": [
    "a = zip(['height','weight','bt'],[180,70,'O'])\n",
    "# <zip at 0x16d098d2dc8> => zip함수의 수행결과가 저장된 메모리 주소\n",
    "a"
   ]
  },
  {
   "cell_type": "code",
   "execution_count": 23,
   "metadata": {},
   "outputs": [
    {
     "data": {
      "text/plain": [
       "{'a': [1, 2, 3]}"
      ]
     },
     "execution_count": 23,
     "metadata": {},
     "output_type": "execute_result"
    }
   ],
   "source": [
    "a = {1:'hi'}\n",
    "a\n",
    "a= {'a':[1,2,3]}\n",
    "a\n"
   ]
  },
  {
   "cell_type": "code",
   "execution_count": 24,
   "metadata": {},
   "outputs": [
    {
     "name": "stdout",
     "output_type": "stream",
     "text": [
      "{'a': [1, 2, 3]}\n",
      "{1: 'a'}\n"
     ]
    }
   ],
   "source": [
    "b = {1:'a'}\n",
    "print(a)\n",
    "print(b)"
   ]
  },
  {
   "cell_type": "code",
   "execution_count": 25,
   "metadata": {
    "scrolled": true
   },
   "outputs": [
    {
     "name": "stdout",
     "output_type": "stream",
     "text": [
      "{'a': [1, 2, 3], 2: 'b', 'name': 'lss', 'weight': 70.5}\n",
      "a\n",
      "2\n",
      "name\n",
      "weight\n",
      "[1, 2, 3]\n",
      "b\n",
      "lss\n",
      "70.5\n"
     ]
    },
    {
     "data": {
      "text/plain": [
       "dict_items([('a', [1, 2, 3]), (2, 'b'), ('name', 'lss'), ('weight', 70.5)])"
      ]
     },
     "execution_count": 25,
     "metadata": {},
     "output_type": "execute_result"
    }
   ],
   "source": [
    "#딕셔너리[키]=값\n",
    "a[2]='b'  # key값에 새로운 value등록\n",
    "a\n",
    "a['name']='hgd'  # key값에 새로운 value등록\n",
    "a\n",
    "a['name']='lss'  # key값으로 value변경\n",
    "a\n",
    "a['weight']=70.5\n",
    "print(a)\n",
    "# 딕셔너리 요소의 개수 = , 의 수 + 1\n",
    "\n",
    "# 딕셔러니[키] => 값\n",
    "a['name']\n",
    "\n",
    "# 딕셔너리의 특정키 유무 확인\n",
    "2 in a\n",
    "'sky' not in a\n",
    "\n",
    "# 딕셔너리의 키들 불러오기\n",
    "a.keys()\n",
    "\n",
    "list(a.keys())\n",
    "\n",
    "for i in a.keys():\n",
    "    print(i)\n",
    "    \n",
    "# 딕셔너리의 값들 불러오기\n",
    "\n",
    "a.values()\n",
    "\n",
    "list(a.values())\n",
    "\n",
    "for i in a.values():\n",
    "    print(i)\n",
    "    \n",
    "# 딕셔너리의 키와 값 불러오기\n",
    "a.items()"
   ]
  },
  {
   "cell_type": "code",
   "execution_count": 26,
   "metadata": {},
   "outputs": [
    {
     "name": "stdout",
     "output_type": "stream",
     "text": [
      "None\n"
     ]
    }
   ],
   "source": [
    "a['name']\n",
    "a.get('name')\n",
    "\n",
    "#a['nn']  # 없는 키 값에 대해서는 error발생\n",
    "print(a.get('nn'))  # 없는 키 값에 대해서 None 리턴"
   ]
  },
  {
   "cell_type": "code",
   "execution_count": 27,
   "metadata": {},
   "outputs": [
    {
     "name": "stdout",
     "output_type": "stream",
     "text": [
      "lss\n",
      "kim\n"
     ]
    }
   ],
   "source": [
    "\n",
    "\n",
    "# 딕셔너리 a에 nn키가 없다면 'kim'을 출력해라\n",
    "print(a.get('name','kim'))\n",
    "print(a.get('nn','kim'))"
   ]
  },
  {
   "cell_type": "code",
   "execution_count": 28,
   "metadata": {},
   "outputs": [
    {
     "data": {
      "text/plain": [
       "{'H', 'e', 'l', 'o'}"
      ]
     },
     "execution_count": 28,
     "metadata": {},
     "output_type": "execute_result"
    }
   ],
   "source": [
    "# set : 집합\n",
    "# x={1,1,2,2,3} = > x={1,2,3}  // 중복허용 X\n",
    "\n",
    "s = set([1,2,3,1])\n",
    "s\n",
    "s2 = set('Hello')\n",
    "s2\n",
    "\n",
    "# set(집합) 자료구조 특징\n",
    "# 중복허용 X, 순서 X\n",
    "\n"
   ]
  },
  {
   "cell_type": "code",
   "execution_count": 29,
   "metadata": {},
   "outputs": [],
   "source": [
    "s1=set([1,2,3,4])\n",
    "s2=set([5,6,3,4])"
   ]
  },
  {
   "cell_type": "code",
   "execution_count": 30,
   "metadata": {},
   "outputs": [
    {
     "data": {
      "text/plain": [
       "{1, 2}"
      ]
     },
     "execution_count": 30,
     "metadata": {},
     "output_type": "execute_result"
    }
   ],
   "source": [
    "# 교집합\n",
    "s1 & s2\n",
    "s1.intersection(s2)\n",
    "# 합집합\n",
    "s1 | s2\n",
    "s1.union(s2)\n",
    "# 차집합\n",
    "s1 - s2\n",
    "s2 - s1\n",
    "s1.difference(s2)"
   ]
  },
  {
   "cell_type": "code",
   "execution_count": 31,
   "metadata": {},
   "outputs": [
    {
     "data": {
      "text/plain": [
       "{1, 2, 3, 4, 5}"
      ]
     },
     "execution_count": 31,
     "metadata": {},
     "output_type": "execute_result"
    }
   ],
   "source": [
    "# add : 인수 한개 추가\n",
    "s = set([1,2])\n",
    "s\n",
    "\n",
    "s.add(3)\n",
    "s\n",
    "\n",
    "# update : 인수 여러개 추가\n",
    "s.update([4,5])\n",
    "s"
   ]
  },
  {
   "cell_type": "code",
   "execution_count": 32,
   "metadata": {},
   "outputs": [
    {
     "data": {
      "text/plain": [
       "\"\\n 참 : 'test', [1,2], (1,2), 1,2,3 ...\\n 거짓 : '', [], {}, (), 0, None\\n\\n 조건문\\n if 고양이가 나타나면 :\\n (들여쓰기)브레이크를 밟는다\\n (들여쓰기)클락션을 울린다\\n 달린다\\n\""
      ]
     },
     "execution_count": 32,
     "metadata": {},
     "output_type": "execute_result"
    }
   ],
   "source": [
    "'''\n",
    " 참 : 'test', [1,2], (1,2), 1,2,3 ...\n",
    " 거짓 : '', [], {}, (), 0, None\n",
    "\n",
    " 조건문\n",
    " if 고양이가 나타나면 :\n",
    " (들여쓰기)브레이크를 밟는다\n",
    " (들여쓰기)클락션을 울린다\n",
    " 달린다\n",
    "'''"
   ]
  },
  {
   "cell_type": "code",
   "execution_count": 33,
   "metadata": {},
   "outputs": [
    {
     "name": "stdout",
     "output_type": "stream",
     "text": [
      "10입니다\n",
      "5보다 큽니다\n",
      "문장을 수행합니다\n"
     ]
    }
   ],
   "source": [
    "x=10\n",
    "if x==10:\n",
    "    print('10입니다')\n",
    "    print('5보다 큽니다')\n",
    "print('문장을 수행합니다')"
   ]
  },
  {
   "cell_type": "code",
   "execution_count": 34,
   "metadata": {},
   "outputs": [
    {
     "name": "stdout",
     "output_type": "stream",
     "text": [
      "패스\n"
     ]
    }
   ],
   "source": [
    "x=10\n",
    "if x==10:\n",
    "    pass\n",
    "print('패스')"
   ]
  },
  {
   "cell_type": "code",
   "execution_count": 35,
   "metadata": {},
   "outputs": [
    {
     "name": "stdout",
     "output_type": "stream",
     "text": [
      "3\n",
      "[1, 2]\n"
     ]
    }
   ],
   "source": [
    "a = [1,2,3]\n",
    "if a:\n",
    "    print(a.pop())\n",
    "    print(a)"
   ]
  },
  {
   "cell_type": "code",
   "execution_count": 36,
   "metadata": {},
   "outputs": [
    {
     "name": "stdout",
     "output_type": "stream",
     "text": [
      "3\n",
      "2\n",
      "1\n"
     ]
    }
   ],
   "source": [
    "a = [1,2,3]\n",
    "while a:\n",
    "    print(a.pop())"
   ]
  },
  {
   "cell_type": "code",
   "execution_count": 37,
   "metadata": {},
   "outputs": [
    {
     "name": "stdout",
     "output_type": "stream",
     "text": [
      "hi\n",
      "hi\n",
      "hi\n",
      "hi\n",
      "hi\n",
      "hi\n",
      "hi\n",
      "hi\n",
      "hi\n",
      "hi\n"
     ]
    }
   ],
   "source": [
    "# for문\n",
    "\n",
    "for i in range(10):\n",
    "    print('hi')\n",
    "\n"
   ]
  },
  {
   "cell_type": "code",
   "execution_count": null,
   "metadata": {},
   "outputs": [],
   "source": []
  },
  {
   "cell_type": "code",
   "execution_count": 38,
   "metadata": {},
   "outputs": [
    {
     "ename": "SyntaxError",
     "evalue": "EOL while scanning string literal (<ipython-input-38-d78d2397c8d8>, line 4)",
     "output_type": "error",
     "traceback": [
      "\u001b[1;36m  File \u001b[1;32m\"<ipython-input-38-d78d2397c8d8>\"\u001b[1;36m, line \u001b[1;32m4\u001b[0m\n\u001b[1;33m    ''''\u001b[0m\n\u001b[1;37m        \n^\u001b[0m\n\u001b[1;31mSyntaxError\u001b[0m\u001b[1;31m:\u001b[0m EOL while scanning string literal\n"
     ]
    }
   ],
   "source": [
    "'''\n",
    "데이터를 입력받아 10보다 작으면 '10보다 작아요' \n",
    "그렇지 않으면 '10보다 커요\n",
    "''''\n",
    "x = int(input('숫자를 입력하시오 : '))\n",
    "print('x는? '+ str(x))\n",
    "if x<10 :\n",
    "    print('10보다 작아요')\n",
    "else:\n",
    "    print('10보다 커요')"
   ]
  },
  {
   "cell_type": "code",
   "execution_count": null,
   "metadata": {},
   "outputs": [],
   "source": []
  },
  {
   "cell_type": "code",
   "execution_count": 7,
   "metadata": {},
   "outputs": [
    {
     "name": "stdout",
     "output_type": "stream",
     "text": [
      "{1, 3, 5, 4101, 7, 2055, 9, 4112, 2066, 4114, 20, 2077, 4125, 31, 2088, 4136, 42, 2099, 4147, 53, 2110, 4158, 64, 2112, 4169, 75, 2123, 4180, 86, 2134, 4191, 97, 2145, 4202, 108, 2156, 110, 4213, 2167, 4215, 121, 2178, 4226, 132, 2189, 4237, 143, 2200, 4248, 154, 2211, 4259, 165, 2213, 4270, 176, 2224, 4281, 187, 2235, 4292, 198, 2246, 4303, 209, 2257, 211, 4314, 2268, 4316, 222, 2279, 4327, 233, 2290, 4338, 244, 2301, 4349, 255, 2312, 4360, 266, 2314, 4371, 277, 2325, 4382, 288, 2336, 4393, 299, 2347, 4404, 310, 2358, 312, 4415, 2369, 4417, 323, 2380, 4428, 334, 2391, 4439, 345, 2402, 4450, 356, 2413, 4461, 367, 2415, 4472, 378, 2426, 4483, 389, 2437, 4494, 400, 2448, 4505, 411, 2459, 413, 4516, 2470, 4518, 424, 2481, 4529, 435, 2492, 4540, 446, 2503, 4551, 457, 2514, 4562, 468, 2516, 4573, 479, 2527, 4584, 490, 2538, 4595, 501, 2549, 4606, 512, 2560, 514, 4617, 2571, 4619, 525, 2582, 4630, 536, 2593, 4641, 547, 2604, 4652, 558, 2615, 4663, 569, 2617, 4674, 580, 2628, 4685, 591, 2639, 4696, 602, 2650, 4707, 613, 2661, 615, 4718, 2672, 4720, 626, 2683, 4731, 637, 2694, 4742, 648, 2705, 4753, 659, 2716, 4764, 670, 2718, 4775, 681, 2729, 4786, 692, 2740, 4797, 703, 2751, 4808, 714, 2762, 716, 4819, 2773, 4821, 727, 2784, 4832, 738, 2795, 4843, 749, 2806, 4854, 760, 2817, 4865, 771, 2819, 4876, 782, 2830, 4887, 793, 2841, 4898, 804, 2852, 4909, 815, 2863, 817, 4920, 2874, 4922, 828, 2885, 4933, 839, 2896, 4944, 850, 2907, 4955, 861, 2918, 4966, 872, 2920, 4977, 883, 2931, 4988, 894, 2942, 4999, 905, 2953, 916, 2964, 918, 2975, 929, 2986, 940, 2997, 951, 3008, 962, 973, 3023, 984, 3034, 995, 3045, 1006, 3056, 3067, 1021, 3078, 1032, 3089, 1043, 3100, 1054, 3111, 1065, 3113, 1076, 3124, 1087, 3135, 1098, 3146, 1109, 3157, 1111, 3168, 1122, 3179, 1133, 3190, 1144, 3201, 1155, 3212, 1166, 3214, 1177, 3225, 1188, 3236, 1199, 3247, 1210, 3258, 1212, 3269, 1223, 3280, 1234, 3291, 1245, 3302, 1256, 3313, 1267, 3315, 1278, 3326, 1289, 3337, 1300, 3348, 1311, 3359, 1313, 3370, 1324, 3381, 1335, 3392, 1346, 3403, 1357, 3414, 1368, 3416, 1379, 3427, 1390, 3438, 1401, 3449, 1412, 3460, 1414, 3471, 1425, 3482, 1436, 3493, 1447, 3504, 1458, 3515, 1469, 3517, 1480, 3528, 1491, 3539, 1502, 3550, 1513, 3561, 1515, 3572, 1526, 3583, 1537, 3594, 1548, 3605, 1559, 3616, 1570, 3618, 1581, 3629, 1592, 3640, 1603, 3651, 1614, 3662, 1616, 3673, 1627, 3684, 1638, 3695, 1649, 3706, 1660, 3717, 1671, 3719, 1682, 3730, 1693, 3741, 1704, 3752, 1715, 3763, 1717, 3774, 1728, 3785, 1739, 3796, 1750, 3807, 1761, 3818, 1772, 3820, 1783, 3831, 1794, 3842, 1805, 3853, 1816, 3864, 1818, 3875, 1829, 3886, 1840, 3897, 1851, 3908, 1862, 3919, 1873, 3921, 1884, 3932, 1895, 3943, 1906, 3954, 1917, 3965, 1919, 3976, 1930, 3987, 1941, 3998, 1952, 4009, 1963, 1974, 4024, 1985, 4035, 1996, 4046, 2007, 4057, 4068, 2022, 4079, 2033, 4090, 2044}\n",
      "1227365\n"
     ]
    }
   ],
   "source": [
    "# 1\n",
    "number={()}\n",
    "generator={()}\n",
    "x=0\n",
    "y=0\n",
    "w=0\n",
    "z=0\n",
    "\n",
    "for i in range(1,5001):\n",
    "    number.add(i)  # 전체 range 집합\n",
    "    if len(str(i))==1:\n",
    "        x=str(i)[0]\n",
    "    if len(str(i))==2:\n",
    "        x=str(i)[0]\n",
    "        y=str(i)[1]\n",
    "    if len(str(i))==3:\n",
    "        x=str(i)[0]\n",
    "        y=str(i)[1]\n",
    "        w=str(i)[2]                 \n",
    "    if len(str(i))==4:\n",
    "        x=str(i)[0]\n",
    "        y=str(i)[1]\n",
    "        w=str(i)[2]  \n",
    "        z=str(i)[3]          \n",
    "    generator.add(int(x)+int(y)+int(w)+int(z)+i)  # 제너레이터 집합\n",
    "selfNum=number-generator  # 차집합 구하기\n",
    "print(selfNum) # self-number 출력\n",
    "print(sum(list(selfNum)))\n"
   ]
  },
  {
   "cell_type": "code",
   "execution_count": 40,
   "metadata": {},
   "outputs": [
    {
     "name": "stdout",
     "output_type": "stream",
     "text": [
      "27000 cash5000\n",
      "22000\n"
     ]
    }
   ],
   "source": [
    "# 2\n",
    "x,y = input().split()\n",
    "print(int(x)-int(y[4:]))"
   ]
  },
  {
   "cell_type": "code",
   "execution_count": 64,
   "metadata": {},
   "outputs": [
    {
     "name": "stdout",
     "output_type": "stream",
     "text": [
      "2\n"
     ]
    },
    {
     "data": {
      "text/plain": [
       "(-10, -8, -6, -4, -2, 0, 2, 4, 6, 8)"
      ]
     },
     "execution_count": 64,
     "metadata": {},
     "output_type": "execute_result"
    }
   ],
   "source": [
    "# 3\n",
    "a = input()\n",
    "tuple(range(-10,10,int(a)))"
   ]
  },
  {
   "cell_type": "code",
   "execution_count": 105,
   "metadata": {},
   "outputs": [
    {
     "name": "stdout",
     "output_type": "stream",
     "text": [
      "75\n",
      "-10\n",
      "32\n",
      "-15\n",
      "76\n",
      "2\n"
     ]
    }
   ],
   "source": [
    "# 4\n",
    "n = (-32, 75, 97, -10, 9, 32, 4, -15, 0, 76, 14, 2)\n",
    "\n",
    "for i in range(len(n)):\n",
    "    if i % 2 == 1:\n",
    "        print(n[i])\n",
    "        "
   ]
  },
  {
   "cell_type": "code",
   "execution_count": null,
   "metadata": {},
   "outputs": [],
   "source": [
    "# 5\n",
    "a = [1, 1, 1, 2, 2, 3, 3, 3, 4, 4, 5]\n",
    "\n",
    "list(set(a))"
   ]
  }
 ],
 "metadata": {
  "kernelspec": {
   "display_name": "Python 3",
   "language": "python",
   "name": "python3"
  },
  "language_info": {
   "codemirror_mode": {
    "name": "ipython",
    "version": 3
   },
   "file_extension": ".py",
   "mimetype": "text/x-python",
   "name": "python",
   "nbconvert_exporter": "python",
   "pygments_lexer": "ipython3",
   "version": "3.7.4"
  }
 },
 "nbformat": 4,
 "nbformat_minor": 2
}
