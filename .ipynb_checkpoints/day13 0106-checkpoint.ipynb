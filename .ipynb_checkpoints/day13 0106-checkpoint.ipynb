{
 "cells": [
  {
   "cell_type": "markdown",
   "metadata": {},
   "source": [
    "# numpy(전처리), pandas(분석) 병행\n",
    "전처리 : 결측치 -> 대체(평균, 제거 .. ), 표준화 / 정규화\n",
    "\n",
    "정규화 : 각 속성값 - 최소값 / 각 속성의 최대값-최소값\n",
    "\n",
    "=> 0~1\n",
    "\n",
    "표준화 : 각 속성값 - 평균 / 표준편차 \n",
    "\n",
    "=>평균 = 0 / 표준편차 = 1\n",
    "\n",
    "원핫인코딩 : 100000, 010000, 001000 ...\n",
    "\n",
    "              A       B       C     D E F .. 추상화\n",
    "              \n",
    "              \n",
    "문장 추출 -> 단어(5개)추출 -> 원핫인코딩\n",
    "\n",
    "ex : 컴퓨터가 단어를 구분 할 수 있도록 추상화\n",
    "\n",
    "국어 10000\n",
    "\n",
    "영어 01000\n",
    "\n",
    "수학 00100\n",
    "\n",
    "과학 00010\n",
    "\n",
    "윤리 00001\n",
    "\n",
    "-> 메모리를 많이 사용하기 때문에 다량의 긴 데이터를 처리할 때는 비효율\n",
    "\n",
    "\n",
    "word2vec : 단어 표현 벡터에 문맥 및 단어 간 의미 유사성을 포함시킨 워드 임베딩 모델\n",
    "\n",
    "cbow : 단어들 중간에 어떤 단어가 올지 예측\n",
    "\n",
    "skip-gram : 중간 단어를 보고 앞 뒤에 어떤 단어가 올지 예측"
   ]
  },
  {
   "cell_type": "markdown",
   "metadata": {},
   "source": [
    "# numpy\n",
    ": 수치해석 패키지, 다차원 배열 구조벡터, 행렬을 사용하는 선형대수 계산시 사용\n",
    "\n",
    "리스트 : 속도 느림, 메모리 많이 차지\n",
    "\n",
    "배열(array) : 속도 빠름, 메모리 적게 차지\n",
    "\n",
    "넘파이 배열과 리스트의 차이점\n",
    "- 배열은 모두 같은 자료형, 원소 개수 변경 못함\n",
    "- 배열은 파이썬에서 제공하지 않음\n",
    "- 파이썬 환경에서 넘파이 패키지를 활용하여 배열을 사용할 수 있음\n",
    "\n"
   ]
  },
  {
   "cell_type": "code",
   "execution_count": 2,
   "metadata": {},
   "outputs": [],
   "source": [
    "# 1차원 배열\n",
    "import numpy as np"
   ]
  },
  {
   "cell_type": "code",
   "execution_count": 9,
   "metadata": {},
   "outputs": [
    {
     "data": {
      "text/plain": [
       "numpy.ndarray"
      ]
     },
     "execution_count": 9,
     "metadata": {},
     "output_type": "execute_result"
    }
   ],
   "source": [
    "ar = np.array([0,1,2,3,4])\n",
    "type(ar)"
   ]
  },
  {
   "cell_type": "markdown",
   "metadata": {},
   "source": [
    "100*100 크기의 이미지   (픽셀:10,000개)\n",
    "\n",
    "0~255 사이의 gray scale\n",
    "\n",
    "=> 몇차원?? 10,000차원"
   ]
  },
  {
   "cell_type": "code",
   "execution_count": 20,
   "metadata": {},
   "outputs": [
    {
     "name": "stdout",
     "output_type": "stream",
     "text": [
      "[0, 1, 2, 3, 4, 5, 6, 7, 8, 9]\n",
      "[0, 2, 4, 6, 8, 10, 12, 14, 16, 18]\n"
     ]
    }
   ],
   "source": [
    "data=list(range(10))\n",
    "# data에 저장된 모든 값들에 대해 2배\n",
    "print(data)\n",
    "\n",
    "def double(x):\n",
    "    return x*2\n",
    "# data=list(map(doubl,data))\n",
    "\n",
    "data=list(map(lambda x:x*2,data))\n",
    "print(data)"
   ]
  },
  {
   "cell_type": "markdown",
   "metadata": {},
   "source": [
    "# 시간 복잡도(CPU)\n",
    "시간 복잡도 : 연산 결과가 나오기까지 수행되는 라인의 수"
   ]
  },
  {
   "cell_type": "code",
   "execution_count": 23,
   "metadata": {},
   "outputs": [
    {
     "name": "stdout",
     "output_type": "stream",
     "text": [
      "5050.0\n",
      "5050\n"
     ]
    }
   ],
   "source": [
    "data=list(range(101))\n",
    "sum = 0\n",
    "d = 100\n",
    "print(d*(d+1)/2)  # O(1)\n",
    "\n",
    "for i in data:\n",
    "    sum+=i\n",
    "print(sum)  # O(n)"
   ]
  },
  {
   "cell_type": "markdown",
   "metadata": {},
   "source": [
    "# 공간 복잡도 (RAM)\n",
    "공간 복잡도 : 차지하게 될 메모리의 양"
   ]
  },
  {
   "cell_type": "code",
   "execution_count": 28,
   "metadata": {},
   "outputs": [
    {
     "name": "stdout",
     "output_type": "stream",
     "text": [
      "[2, 4, 6, 8, 10, 12, 14, 16, 18, 20]\n"
     ]
    },
    {
     "data": {
      "text/plain": [
       "[1, 2, 3, 4, 5, 6, 7, 8, 9, 10, 1, 2, 3, 4, 5, 6, 7, 8, 9, 10]"
      ]
     },
     "execution_count": 28,
     "metadata": {},
     "output_type": "execute_result"
    }
   ],
   "source": [
    "ans = []\n",
    "data = list(range(1,11))\n",
    "for d in data:\n",
    "    ans.append(d*2)\n",
    "print(ans)"
   ]
  },
  {
   "cell_type": "code",
   "execution_count": 27,
   "metadata": {},
   "outputs": [
    {
     "data": {
      "text/plain": [
       "array([ 2,  4,  6,  8, 10, 12, 14, 16, 18, 20])"
      ]
     },
     "execution_count": 27,
     "metadata": {},
     "output_type": "execute_result"
    }
   ],
   "source": [
    "x = np.array(data)\n",
    "x\n",
    "x*2"
   ]
  },
  {
   "cell_type": "code",
   "execution_count": 38,
   "metadata": {},
   "outputs": [],
   "source": [
    "a = np.array([1,2,3])\n",
    "b = np.array([4,5,6])\n",
    "a2 = [1,2,3]\n",
    "b2 = [4,5,6]"
   ]
  },
  {
   "cell_type": "code",
   "execution_count": 39,
   "metadata": {},
   "outputs": [
    {
     "data": {
      "text/plain": [
       "array([ 6,  9, 12])"
      ]
     },
     "execution_count": 39,
     "metadata": {},
     "output_type": "execute_result"
    }
   ],
   "source": [
    "# 리스트 연산\n",
    "2*a2+b2  # [1, 2, 3, 1, 2, 3, 4, 5, 6]\n",
    "# 배열 연산\n",
    "2*a+b  # array([ 6,  9, 12])"
   ]
  },
  {
   "cell_type": "code",
   "execution_count": 45,
   "metadata": {},
   "outputs": [
    {
     "data": {
      "text/plain": [
       "array([False, False,  True])"
      ]
     },
     "execution_count": 45,
     "metadata": {},
     "output_type": "execute_result"
    }
   ],
   "source": [
    "a = np.array([1,2,3])\n",
    "a2 = [1,2,3]\n",
    "\n",
    "a2 == 2  # False\n",
    "a == 2   # array([False,  True, False])\n",
    "\n",
    "# a2 > 2  # error\n",
    "a > 2     # array([False, False,  True])"
   ]
  },
  {
   "cell_type": "markdown",
   "metadata": {},
   "source": [
    "# 2차원 배열(행렬, matrix)\n",
    "가로 줄 : 행\n",
    "\n",
    "세로 줄 : 열"
   ]
  },
  {
   "cell_type": "code",
   "execution_count": 59,
   "metadata": {},
   "outputs": [
    {
     "name": "stdout",
     "output_type": "stream",
     "text": [
      "[[0 1 2]\n",
      " [3 4 5]]\n"
     ]
    },
    {
     "data": {
      "text/plain": [
       "3"
      ]
     },
     "execution_count": 59,
     "metadata": {},
     "output_type": "execute_result"
    }
   ],
   "source": [
    "# 2차원 배열 : 리스트의 리스트\n",
    "m = np.array([[0,1,2],[3,4,5]])  # 열 : 안쪽 리스트 길이(가로크기) / 행 : 바깥쪽 리스트 길이 (세로크기)\n",
    "# 0 1 2\n",
    "# 3 4 5\n",
    "# 2행 3열 배열\n",
    "print(m)\n",
    "len(m)     # 행의 개수\n",
    "len(m[0])  # 열의 개수"
   ]
  },
  {
   "cell_type": "markdown",
   "metadata": {},
   "source": [
    "# 3차원 배열"
   ]
  },
  {
   "cell_type": "code",
   "execution_count": 69,
   "metadata": {},
   "outputs": [
    {
     "data": {
      "text/plain": [
       "3"
      ]
     },
     "execution_count": 69,
     "metadata": {},
     "output_type": "execute_result"
    }
   ],
   "source": [
    "# 3차원 배열 : 리스트의 리스트의 리스트\n",
    "l=np.array([[[1,2,3,4],\n",
    "          [5,6,7,8],\n",
    "          [9,10,11,12]],\n",
    "            \n",
    "          [[31,2,3,4],\n",
    "          [35,6,7,8],\n",
    "          [39,10,11,12]]])\n",
    "# 2행 3열 4깊이(면)\n",
    "# 2 * 3 * 4\n",
    "\n",
    "len(l)       # 2 행\n",
    "len(l[0])    # 3 열\n",
    "len(l[0][0]) # 4 깊이"
   ]
  },
  {
   "cell_type": "markdown",
   "metadata": {},
   "source": [
    "# ndim, shape"
   ]
  },
  {
   "cell_type": "code",
   "execution_count": 73,
   "metadata": {},
   "outputs": [
    {
     "name": "stdout",
     "output_type": "stream",
     "text": [
      "1\n",
      "(3,)\n",
      "2\n",
      "(2, 3)\n",
      "3\n",
      "(2, 3, 4)\n"
     ]
    }
   ],
   "source": [
    "a = np.array([4,5,6])\n",
    "# 1차원\n",
    "print(a.ndim)  # 배열의 차원\n",
    "print(a.shape) # 배열의 크기\n",
    "\n",
    "# 2차원\n",
    "print(m.ndim)  # 배열의 차원\n",
    "print(m.shape)\n",
    "\n",
    "# 3차원\n",
    "print(l.ndim)  # 배열의 차원\n",
    "print(l.shape)"
   ]
  },
  {
   "cell_type": "code",
   "execution_count": 311,
   "metadata": {},
   "outputs": [
    {
     "name": "stdout",
     "output_type": "stream",
     "text": [
      "[-9, 8, -5]\n",
      "[[ 1 -2]\n",
      " [ 1 -3]]\n"
     ]
    }
   ],
   "source": [
    "# 1\n",
    "# 연속으로 숫자 3개를 곱했을 때 얻어진 결과값이 가장 큰 구간이 어디인지 출력\n",
    "a = [3,2,1,-4,-7,-9,8,-5,3,-1]\n",
    "a = a + [0,0]\n",
    "aa = np.array(a)\n",
    "ans = 0\n",
    "ans_list = []\n",
    "for i in aa:\n",
    "    res=aa[i]*aa[i+1]*aa[i+2]\n",
    "    if res > ans:\n",
    "        ans = res\n",
    "        ans_list=[aa[i],aa[i+1],aa[i+2]]\n",
    "print(ans_list)\n",
    "\n",
    "# 2\n",
    "# 2*2의 영역을 구성하는 수를 곱했을 때 얻어진 결과값이 가장 큰 구간이 어디인지 출력\n",
    "b = np.array([[3,1,-2],\n",
    "              [2,1,-3],\n",
    "              [-2,0,-7]])\n",
    "# 6 9\n",
    "# 0 0\n",
    "res_sum = 0\n",
    "res_sum_list = np.array([])\n",
    "for i in range(len(b)-1):\n",
    "    for j in range(len(b[i])-1):\n",
    "        res = b[i][j] * b[i][j+1] * b[i+1][j] * b[i+1][j+1]\n",
    "        if res > res_sum:\n",
    "            res_sum_list = b[i:i+2,j:j+2]\n",
    "print(res_sum_list)\n",
    "\n"
   ]
  },
  {
   "cell_type": "markdown",
   "metadata": {},
   "source": [
    "# array slicing"
   ]
  },
  {
   "cell_type": "code",
   "execution_count": 96,
   "metadata": {},
   "outputs": [
    {
     "data": {
      "text/plain": [
       "array([[1, 2],\n",
       "       [5, 6]])"
      ]
     },
     "execution_count": 96,
     "metadata": {},
     "output_type": "execute_result"
    }
   ],
   "source": [
    "ar = np.array([[1,2,3,4],[5,6,7,8]])\n",
    "ar\n",
    "ar[0]\n",
    "# 배열[행.열]\n",
    "ar[0,:]  # 첫 번째 행 전체\n",
    "ar[:,1]  # 두 번째 열 전체\n",
    "\n",
    "ar[1,1:]  # 두 번째 행에서 두 번째 열부터 마지막까지\n",
    "ar[:,:2]\n",
    "ar[:2,:2]\n",
    "ar[:,0:2]"
   ]
  },
  {
   "cell_type": "markdown",
   "metadata": {},
   "source": [
    "# indexing\n",
    ": 데이터 1개를 참조"
   ]
  },
  {
   "cell_type": "code",
   "execution_count": 110,
   "metadata": {},
   "outputs": [
    {
     "data": {
      "text/plain": [
       "6"
      ]
     },
     "execution_count": 110,
     "metadata": {},
     "output_type": "execute_result"
    }
   ],
   "source": [
    "ar = np.array([0,1,2])\n",
    "ar[1]\n",
    "ar[-1]\n",
    "\n",
    "ar = np.array([[1,2,3,4],[5,6,7,8]])\n",
    "ar[0,0]\n",
    "ar[1,1]"
   ]
  },
  {
   "cell_type": "markdown",
   "metadata": {},
   "source": [
    "# 불린 참조\n",
    ": 조건에 대한 결과가 참인 값만 추출"
   ]
  },
  {
   "cell_type": "code",
   "execution_count": 129,
   "metadata": {},
   "outputs": [
    {
     "data": {
      "text/plain": [
       "array([4, 5])"
      ]
     },
     "execution_count": 129,
     "metadata": {},
     "output_type": "execute_result"
    }
   ],
   "source": [
    "ar = np.array([2,3,4,5])\n",
    "bidx = np.array([True,True,False,True])\n",
    "\n",
    "ar[bidx]\n",
    "ar[ar!=4]\n",
    "\n",
    "# ar의 요소값이 짝수인 것들만 추출\n",
    "ar[ar%2==0]\n",
    "\n",
    "ar[ar>3]"
   ]
  },
  {
   "cell_type": "markdown",
   "metadata": {},
   "source": [
    "# 정수 참조 추출\n",
    ": 인덱스값으로 인식되서 추출"
   ]
  },
  {
   "cell_type": "code",
   "execution_count": 141,
   "metadata": {},
   "outputs": [
    {
     "data": {
      "text/plain": [
       "array([2, 2, 3, 3])"
      ]
     },
     "execution_count": 141,
     "metadata": {},
     "output_type": "execute_result"
    }
   ],
   "source": [
    "ar = np.array([2,3,4,5])\n",
    "idx = np.array([0,3])\n",
    "ar[idx]\n",
    "idx = np.array([0,0,1,1])\n",
    "ar[idx]\n"
   ]
  },
  {
   "cell_type": "code",
   "execution_count": 140,
   "metadata": {},
   "outputs": [
    {
     "data": {
      "text/plain": [
       "array([0, 0, 1, 1])"
      ]
     },
     "execution_count": 140,
     "metadata": {},
     "output_type": "execute_result"
    }
   ],
   "source": [
    "ar = idx\n",
    "ar"
   ]
  },
  {
   "cell_type": "code",
   "execution_count": 213,
   "metadata": {},
   "outputs": [
    {
     "name": "stdout",
     "output_type": "stream",
     "text": [
      "[1 4]\n",
      "[5 8]\n"
     ]
    },
    {
     "data": {
      "text/plain": [
       "array([4, 5, 6, 7, 8])"
      ]
     },
     "execution_count": 213,
     "metadata": {},
     "output_type": "execute_result"
    }
   ],
   "source": [
    "ar = np.array([[1,2,3,4],[5,6,7,8]])\n",
    "# idx = np.array([0,3])\n",
    "\n",
    "# for i in range(len(ar)):\n",
    "#     print(ar[i][idx])\n",
    "ar[:,[0,3]]\n",
    "ar[:,[True,False,False,True]]"
   ]
  },
  {
   "cell_type": "code",
   "execution_count": 226,
   "metadata": {},
   "outputs": [
    {
     "data": {
      "text/plain": [
       "array([[25, 26, 27, 28],\n",
       "       [ 1,  2,  3,  4],\n",
       "       [35, 36, 37, 38]])"
      ]
     },
     "execution_count": 226,
     "metadata": {},
     "output_type": "execute_result"
    }
   ],
   "source": [
    "ar = np.array([[1,2,3,4],\n",
    "               [15,16,17,18],\n",
    "               [25,26,27,28],\n",
    "               [35,36,37,38]])\n",
    "# 같은의미\n",
    "ar[:]  # ar 전체 행\n",
    "ar     # ar 배열 전체\n",
    "ar[:,:]  # 전체 행, 전체 열\n",
    "\n",
    "ar[[2,0,-1],:]"
   ]
  },
  {
   "cell_type": "markdown",
   "metadata": {},
   "source": [
    "# pandas\n",
    ": 원데이터를 데이터 프레임으로 읽어서 분석\n",
    "\n",
    "원데이터 : csv, tsv, txt, xls, xlsx, json, xml ...\n",
    "\n",
    "numpy : 다차원 배열 ( 숫자 데이터 처리에 사용)"
   ]
  },
  {
   "cell_type": "code",
   "execution_count": 227,
   "metadata": {},
   "outputs": [],
   "source": [
    "import pandas as pd"
   ]
  },
  {
   "cell_type": "code",
   "execution_count": 244,
   "metadata": {},
   "outputs": [
    {
     "data": {
      "text/html": [
       "<div>\n",
       "<style scoped>\n",
       "    .dataframe tbody tr th:only-of-type {\n",
       "        vertical-align: middle;\n",
       "    }\n",
       "\n",
       "    .dataframe tbody tr th {\n",
       "        vertical-align: top;\n",
       "    }\n",
       "\n",
       "    .dataframe thead th {\n",
       "        text-align: right;\n",
       "    }\n",
       "</style>\n",
       "<table border=\"1\" class=\"dataframe\">\n",
       "  <thead>\n",
       "    <tr style=\"text-align: right;\">\n",
       "      <th></th>\n",
       "      <th>ID</th>\n",
       "      <th>LAST_NAME</th>\n",
       "      <th>AGE</th>\n",
       "    </tr>\n",
       "  </thead>\n",
       "  <tbody>\n",
       "    <tr>\n",
       "      <td>0</td>\n",
       "      <td>1</td>\n",
       "      <td>KIM</td>\n",
       "      <td>25</td>\n",
       "    </tr>\n",
       "    <tr>\n",
       "      <td>1</td>\n",
       "      <td>2</td>\n",
       "      <td>LEE</td>\n",
       "      <td>22</td>\n",
       "    </tr>\n",
       "    <tr>\n",
       "      <td>2</td>\n",
       "      <td>3</td>\n",
       "      <td>PARK</td>\n",
       "      <td>33</td>\n",
       "    </tr>\n",
       "    <tr>\n",
       "      <td>3</td>\n",
       "      <td>4</td>\n",
       "      <td>CHOI</td>\n",
       "      <td>24</td>\n",
       "    </tr>\n",
       "    <tr>\n",
       "      <td>4</td>\n",
       "      <td>5</td>\n",
       "      <td>CHOI</td>\n",
       "      <td>30</td>\n",
       "    </tr>\n",
       "  </tbody>\n",
       "</table>\n",
       "</div>"
      ],
      "text/plain": [
       "   ID LAST_NAME  AGE\n",
       "0   1       KIM   25\n",
       "1   2       LEE   22\n",
       "2   3      PARK   33\n",
       "3   4      CHOI   24\n",
       "4   5      CHOI   30"
      ]
     },
     "execution_count": 244,
     "metadata": {},
     "output_type": "execute_result"
    }
   ],
   "source": [
    "csvTest = pd.read_csv('test_csv.csv')\n",
    "csvTest"
   ]
  },
  {
   "cell_type": "code",
   "execution_count": null,
   "metadata": {},
   "outputs": [],
   "source": [
    "# Data Frame 구조\n",
    "\n",
    "#          열 인덱스 ..\n",
    "# 행 인덱스 데이터 ..\n",
    "# .          .\n",
    "# .          ."
   ]
  },
  {
   "cell_type": "code",
   "execution_count": 245,
   "metadata": {},
   "outputs": [
    {
     "data": {
      "text/plain": [
       "3"
      ]
     },
     "execution_count": 245,
     "metadata": {},
     "output_type": "execute_result"
    }
   ],
   "source": [
    "csvTest.shape  # (5,3) -> 5행 3열의 구조\n",
    "csvTest.shape[0]  # 행의 개수\n",
    "csvTest.shape[1]  # 열의 개수"
   ]
  },
  {
   "cell_type": "markdown",
   "metadata": {},
   "source": [
    "test_text.txt\n",
    "구분자 : |"
   ]
  },
  {
   "cell_type": "code",
   "execution_count": 256,
   "metadata": {},
   "outputs": [
    {
     "data": {
      "text/html": [
       "<div>\n",
       "<style scoped>\n",
       "    .dataframe tbody tr th:only-of-type {\n",
       "        vertical-align: middle;\n",
       "    }\n",
       "\n",
       "    .dataframe tbody tr th {\n",
       "        vertical-align: top;\n",
       "    }\n",
       "\n",
       "    .dataframe thead th {\n",
       "        text-align: right;\n",
       "    }\n",
       "</style>\n",
       "<table border=\"1\" class=\"dataframe\">\n",
       "  <thead>\n",
       "    <tr style=\"text-align: right;\">\n",
       "      <th></th>\n",
       "      <th>ID</th>\n",
       "      <th>LAST_NAME</th>\n",
       "      <th>AGE</th>\n",
       "    </tr>\n",
       "  </thead>\n",
       "  <tbody>\n",
       "    <tr>\n",
       "      <td>0</td>\n",
       "      <td>1</td>\n",
       "      <td>KIM</td>\n",
       "      <td>25</td>\n",
       "    </tr>\n",
       "    <tr>\n",
       "      <td>1</td>\n",
       "      <td>2</td>\n",
       "      <td>LEE</td>\n",
       "      <td>22</td>\n",
       "    </tr>\n",
       "    <tr>\n",
       "      <td>2</td>\n",
       "      <td>3</td>\n",
       "      <td>PARK</td>\n",
       "      <td>33</td>\n",
       "    </tr>\n",
       "    <tr>\n",
       "      <td>3</td>\n",
       "      <td>4</td>\n",
       "      <td>CHOI</td>\n",
       "      <td>24</td>\n",
       "    </tr>\n",
       "    <tr>\n",
       "      <td>4</td>\n",
       "      <td>5</td>\n",
       "      <td>CHOI</td>\n",
       "      <td>30</td>\n",
       "    </tr>\n",
       "  </tbody>\n",
       "</table>\n",
       "</div>"
      ],
      "text/plain": [
       "   ID LAST_NAME  AGE\n",
       "0   1       KIM   25\n",
       "1   2       LEE   22\n",
       "2   3      PARK   33\n",
       "3   4      CHOI   24\n",
       "4   5      CHOI   30"
      ]
     },
     "execution_count": 256,
     "metadata": {},
     "output_type": "execute_result"
    }
   ],
   "source": [
    "textTest = pd.read_csv('test_text.txt',sep='|')\n",
    "# textTest.shape (5,3)\n",
    "textTest"
   ]
  },
  {
   "cell_type": "code",
   "execution_count": 275,
   "metadata": {},
   "outputs": [
    {
     "name": "stdout",
     "output_type": "stream",
     "text": [
      "7\n",
      "14\n",
      "[6 7]\n",
      "[ 7 12]\n",
      "[[3 4]\n",
      " [8 9]]\n"
     ]
    }
   ],
   "source": [
    "# 1\n",
    "m = np.array([[ 0,  1,  2,  3,  4],\n",
    "              [ 5,  6,  7,  8,  9],\n",
    "              [10, 11, 12, 13, 14]])\n",
    "print(m[1,2])\n",
    "print(m[2,4])\n",
    "print(m[1,1:3])\n",
    "print(m[1:,2])\n",
    "print(m[:2,3:])"
   ]
  },
  {
   "cell_type": "code",
   "execution_count": 297,
   "metadata": {},
   "outputs": [
    {
     "name": "stdout",
     "output_type": "stream",
     "text": [
      "3의 배수 : [ 3  6  9 12 15 18]\n",
      "4로 나누면 나머지가 1 : [ 1  5  9 13 17]\n",
      "3으로 나눠지고, 4로 나누면 나머지가 1 : [9]\n"
     ]
    }
   ],
   "source": [
    "#2 \n",
    "x = np.array([1, 2, 3, 4, 5, 6, 7, 8, 9, 10,\n",
    "              11, 12, 13, 14, 15, 16, 17, 18, 19, 20])\n",
    "print('3의 배수 :',x[x%3==0])\n",
    "print('4로 나누면 나머지가 1 :',x[x%4==1])\n",
    "print('3으로 나눠지고, 4로 나누면 나머지가 1 :',x[x%3==0][x[x%3==0]%4==1])\n",
    "# y[y%4==1]"
   ]
  },
  {
   "cell_type": "code",
   "execution_count": 354,
   "metadata": {},
   "outputs": [
    {
     "name": "stdout",
     "output_type": "stream",
     "text": [
      "[[7 0 0 0 0 0 0 1 0]\n",
      " [6 0 0 0 0 2 0 1 0]\n",
      " [6 0 0 0 0 2 0 1 0]\n",
      " [5 5 0 0 0 2 0 1 0]\n",
      " [5 5 0 0 0 2 0 1 0]\n",
      " [4 4 4 0 0 2 0 1 0]\n",
      " [4 4 4 0 0 2 0 1 0]]\n"
     ]
    }
   ],
   "source": [
    "# 3\n",
    "box_height=[7,4,2,0,0,6,0,7,0]\n",
    "res=np.array([])\n",
    "box_br=np.array(\n",
    "[\n",
    "[1,0,0,0,0,0,0,1,0],\n",
    "[1,0,0,0,0,1,0,1,0],\n",
    "[1,0,0,0,0,1,0,1,0],\n",
    "[1,1,0,0,0,1,0,1,0],\n",
    "[1,1,0,0,0,1,0,1,0],\n",
    "[1,1,1,0,0,1,0,1,0],\n",
    "[1,1,1,0,0,1,0,1,0]])\n",
    "\n",
    "for i in box_br:\n",
    "    for j in range(len(i)):\n",
    "        if i[j]==1:\n",
    "            li = i[j:]\n",
    "            i[j]=len(li[li==0])\n",
    "print(box_br)\n",
    "box_br"
   ]
  },
  {
   "cell_type": "code",
   "execution_count": 355,
   "metadata": {},
   "outputs": [
    {
     "data": {
      "text/plain": [
       "<function ndarray.max>"
      ]
     },
     "execution_count": 355,
     "metadata": {},
     "output_type": "execute_result"
    }
   ],
   "source": []
  },
  {
   "cell_type": "code",
   "execution_count": null,
   "metadata": {},
   "outputs": [],
   "source": []
  }
 ],
 "metadata": {
  "kernelspec": {
   "display_name": "Python 3",
   "language": "python",
   "name": "python3"
  },
  "language_info": {
   "codemirror_mode": {
    "name": "ipython",
    "version": 3
   },
   "file_extension": ".py",
   "mimetype": "text/x-python",
   "name": "python",
   "nbconvert_exporter": "python",
   "pygments_lexer": "ipython3",
   "version": "3.7.4"
  }
 },
 "nbformat": 4,
 "nbformat_minor": 2
}
