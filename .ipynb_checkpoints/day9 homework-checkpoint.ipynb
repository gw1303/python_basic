{
 "cells": [
  {
   "cell_type": "markdown",
   "metadata": {},
   "source": [
    "# 연습문제"
   ]
  },
  {
   "cell_type": "code",
   "execution_count": 99,
   "metadata": {},
   "outputs": [
    {
     "name": "stdout",
     "output_type": "stream",
     "text": [
      "두 주식의 총 합계 금액은 23920000원 입니다.\n"
     ]
    }
   ],
   "source": [
    "#1 \n",
    "daumPrice = 89000\n",
    "naverPrice = 751000\n",
    "\n",
    "daumCnt = 100\n",
    "naverCnt = 20\n",
    "\n",
    "total = daumPrice * daumCnt + naverPrice * naverCnt\n",
    "print('두 주식의 총 합계 금액은 %d원 입니다.'%total)"
   ]
  },
  {
   "cell_type": "code",
   "execution_count": 97,
   "metadata": {},
   "outputs": [
    {
     "name": "stdout",
     "output_type": "stream",
     "text": [
      "손해액은 1947000원입니다.\n"
     ]
    }
   ],
   "source": [
    "#2\n",
    "lowTotal = daumPrice * 0.95 * daumCnt + naverPrice * 0.9 * naverCnt\n",
    "minus = total - lowTotal\n",
    "print('손해액은 %d원입니다.'%minus)"
   ]
  },
  {
   "cell_type": "code",
   "execution_count": 102,
   "metadata": {},
   "outputs": [
    {
     "name": "stdout",
     "output_type": "stream",
     "text": [
      "화씨 50는 섭씨 10입니다.\n"
     ]
    }
   ],
   "source": [
    "#3\n",
    "F = 50\n",
    "C = (F-32)/1.8\n",
    "print('화씨 %d는 섭씨 %d입니다.'%(F,C))"
   ]
  },
  {
   "cell_type": "code",
   "execution_count": 103,
   "metadata": {},
   "outputs": [
    {
     "name": "stdout",
     "output_type": "stream",
     "text": [
      "pizzapizzapizzapizzapizzapizzapizzapizzapizzapizza\n"
     ]
    }
   ],
   "source": [
    "#4 \n",
    "print('pizza'*10)"
   ]
  },
  {
   "cell_type": "code",
   "execution_count": 106,
   "metadata": {},
   "outputs": [
    {
     "name": "stdout",
     "output_type": "stream",
     "text": [
      "1\n",
      "2\n",
      "489999.99999999994\n"
     ]
    }
   ],
   "source": [
    "#5\n",
    "naverPrice = 1000000\n",
    "changePoint = -0.3\n",
    "day = 2\n",
    "\n",
    "for i in range(1,day+1):\n",
    "    naverPrice = naverPrice*(1+changePoint)\n",
    "print(naverPrice)"
   ]
  },
  {
   "cell_type": "code",
   "execution_count": 107,
   "metadata": {},
   "outputs": [
    {
     "name": "stdout",
     "output_type": "stream",
     "text": [
      "이름:파이썬 생년월일:2014년 12월 12일 주민등록번호 : 20141212-1623210\n"
     ]
    }
   ],
   "source": [
    "#6\n",
    "name = '파이썬'\n",
    "birth_year = 2014 \n",
    "birth_month = 12\n",
    "birth_day = 12\n",
    "number = '20141212-1623210'\n",
    "\n",
    "print('이름:{} 생년월일:{}년 {}월 {}일 주민등록번호 : {}'.format(name,birth_year,birth_month,birth_day,number))"
   ]
  },
  {
   "cell_type": "code",
   "execution_count": 110,
   "metadata": {},
   "outputs": [
    {
     "data": {
      "text/plain": [
       "'KaKao Daum'"
      ]
     },
     "execution_count": 110,
     "metadata": {},
     "output_type": "execute_result"
    }
   ],
   "source": [
    "# 7 \n",
    "s = 'Daum KaKao'\n",
    "s = s.replace('Daum KaKao','KaKao Daum')\n",
    "s"
   ]
  },
  {
   "cell_type": "code",
   "execution_count": 111,
   "metadata": {},
   "outputs": [
    {
     "name": "stdout",
     "output_type": "stream",
     "text": [
      "hi world\n"
     ]
    }
   ],
   "source": [
    "# 8\n",
    "a = 'hello world'\n",
    "a = a.replace('hello', 'hi')\n",
    "print(a)"
   ]
  },
  {
   "cell_type": "code",
   "execution_count": 112,
   "metadata": {},
   "outputs": [
    {
     "name": "stdout",
     "output_type": "stream",
     "text": [
      "bcdefa\n"
     ]
    }
   ],
   "source": [
    "# 9 \n",
    "x = 'abcdef' # 'bcdefa'\n",
    "x = x[1:] + x[0]\n",
    "print(x)"
   ]
  },
  {
   "cell_type": "code",
   "execution_count": 118,
   "metadata": {},
   "outputs": [],
   "source": [
    "import numpy as np"
   ]
  },
  {
   "cell_type": "code",
   "execution_count": 120,
   "metadata": {},
   "outputs": [
    {
     "name": "stdout",
     "output_type": "stream",
     "text": [
      "[['9/7', '월', 474500], ['9/8', '화', 461500], ['9/9', '수', 501000], ['9/10', '목', 500500], ['9/11', '금', 488500]]\n"
     ]
    }
   ],
   "source": [
    "# 10\n",
    "\n",
    "naver_closing_price = [['9/7','월',474500], \n",
    "                       ['9/8','화',461500], \n",
    "                       ['9/9','수',501000], \n",
    "                       ['9/10','목',500500], \n",
    "                       ['9/11','금',488500]]\n",
    "print(naver_closing_price)"
   ]
  },
  {
   "cell_type": "code",
   "execution_count": 130,
   "metadata": {},
   "outputs": [
    {
     "data": {
      "text/plain": [
       "501000"
      ]
     },
     "execution_count": 130,
     "metadata": {},
     "output_type": "execute_result"
    }
   ],
   "source": [
    "# 11\n",
    "price_list=[]\n",
    "for i in range(len(naver_closing_price)):\n",
    "    price_list.append(naver_closing_price[i][2])\n",
    "max(price_list)"
   ]
  },
  {
   "cell_type": "code",
   "execution_count": 131,
   "metadata": {},
   "outputs": [
    {
     "data": {
      "text/plain": [
       "461500"
      ]
     },
     "execution_count": 131,
     "metadata": {},
     "output_type": "execute_result"
    }
   ],
   "source": [
    "# 12\n",
    "price_list=[]\n",
    "for i in range(len(naver_closing_price)):\n",
    "    price_list.append(naver_closing_price[i][2])\n",
    "min(price_list)"
   ]
  },
  {
   "cell_type": "code",
   "execution_count": 132,
   "metadata": {},
   "outputs": [
    {
     "data": {
      "text/plain": [
       "39500"
      ]
     },
     "execution_count": 132,
     "metadata": {},
     "output_type": "execute_result"
    }
   ],
   "source": [
    "# 13\n",
    "price_list=[]\n",
    "for i in range(len(naver_closing_price)):\n",
    "    price_list.append(naver_closing_price[i][2])\n",
    "max(price_list)-min(price_list)"
   ]
  },
  {
   "cell_type": "code",
   "execution_count": 142,
   "metadata": {},
   "outputs": [
    {
     "name": "stdout",
     "output_type": "stream",
     "text": [
      "수요일의 종가는 501000원 입니다.\n"
     ]
    }
   ],
   "source": [
    "# 14\n",
    "date = '수'\n",
    "for i in range(len(naver_closing_price)):\n",
    "    if naver_closing_price[i][1] == date:\n",
    "        print('%s요일의 종가는 %d원 입니다.'%(date, naver_closing_price[i][2]))"
   ]
  },
  {
   "cell_type": "code",
   "execution_count": 146,
   "metadata": {},
   "outputs": [],
   "source": [
    "# 15\n",
    "naver_closing_price2 = {'09/07':474500,'09/08':461500,'09/09':501000,'09/10':500500,'09/11':488500}"
   ]
  },
  {
   "cell_type": "code",
   "execution_count": 147,
   "metadata": {},
   "outputs": [
    {
     "data": {
      "text/plain": [
       "501000"
      ]
     },
     "execution_count": 147,
     "metadata": {},
     "output_type": "execute_result"
    }
   ],
   "source": [
    "# 16\n",
    "naver_closing_price2.get('09/09')"
   ]
  },
  {
   "cell_type": "code",
   "execution_count": 157,
   "metadata": {},
   "outputs": [
    {
     "name": "stdout",
     "output_type": "stream",
     "text": [
      "101호는 구독료 미납 세대입니다.\n",
      "102호에 배달 완료했습니다.\n",
      "103호에 배달 완료했습니다.\n",
      "104호에 배달 완료했습니다.\n",
      "201호에 배달 완료했습니다.\n",
      "202호에 배달 완료했습니다.\n",
      "203호는 구독료 미납 세대입니다.\n",
      "204호에 배달 완료했습니다.\n",
      "301호는 구독료 미납 세대입니다.\n",
      "302호에 배달 완료했습니다.\n",
      "303호에 배달 완료했습니다.\n",
      "304호에 배달 완료했습니다.\n",
      "401호에 배달 완료했습니다.\n",
      "402호에 배달 완료했습니다.\n",
      "403호에 배달 완료했습니다.\n",
      "404호는 구독료 미납 세대입니다.\n",
      "[102, 103, 104, 201, 202, 204, 302, 303, 304, 401, 402, 403]\n"
     ]
    }
   ],
   "source": [
    "# 17\n",
    "apart = [[101, 102, 103, 104],[201, 202, 203, 204],[301, 302, 303, 304], [401, 402, 403, 404]]\n",
    "arrears = [101, 203, 301, 404]\n",
    "delivery = []\n",
    "\n",
    "for i in range(len(apart)):\n",
    "    for j in range(len(apart[i])):\n",
    "        if apart[i][j] not in arrears:\n",
    "            delivery.append(apart[i][j])\n",
    "            print('%d호에 배달 완료했습니다.'%apart[i][j])\n",
    "        else:\n",
    "            print('%d호는 구독료 미납 세대입니다.' %apart[i][j])\n",
    "print(delivery)"
   ]
  },
  {
   "cell_type": "code",
   "execution_count": 166,
   "metadata": {},
   "outputs": [
    {
     "name": "stdout",
     "output_type": "stream",
     "text": [
      "첫 번째 숫자 입력 : 4\n",
      "두 번째 숫자 입력 : 2\n",
      "\n",
      "4와 2의 평균은 3입니다.\n"
     ]
    }
   ],
   "source": [
    "# 18\n",
    "def myaverage():\n",
    "    a = int(input('첫 번째 숫자 입력 : '))\n",
    "    b = int(input('두 번째 숫자 입력 : '))\n",
    "    avr = ( a + b ) / 2\n",
    "    print('\\n%d와 %d의 평균은 %d입니다.' %(a,b,avr))\n",
    "    \n",
    "myaverage()"
   ]
  },
  {
   "cell_type": "code",
   "execution_count": 168,
   "metadata": {},
   "outputs": [
    {
     "name": "stdout",
     "output_type": "stream",
     "text": [
      "최대값은 9 입니다.\n",
      "최소값은 1 입니다.\n"
     ]
    }
   ],
   "source": [
    "# 19\n",
    "def get_max_min(data_list):\n",
    "    test_list = data_list\n",
    "    print('최대값은 %d 입니다.'%max(test_list))\n",
    "    print('최소값은 %d 입니다.'%min(test_list))\n",
    "    \n",
    "get_max_min([5,4,8,2,1,3,9,7])"
   ]
  },
  {
   "cell_type": "code",
   "execution_count": 178,
   "metadata": {},
   "outputs": [
    {
     "name": "stdout",
     "output_type": "stream",
     "text": [
      "['C:\\\\Users\\\\student\\\\Desktop\\\\TIL\\\\Deeplearning\\\\newFile.txt', 'C:\\\\Users\\\\student\\\\Desktop\\\\TIL\\\\Deeplearning\\\\newFile2.txt', 'C:\\\\Users\\\\student\\\\Desktop\\\\TIL\\\\Deeplearning\\\\test.txt', 'C:\\\\Users\\\\student\\\\Desktop\\\\TIL\\\\Deeplearning\\\\test2.txt', 'C:\\\\Users\\\\student\\\\Desktop\\\\TIL\\\\Deeplearning\\\\tozi.txt']\n"
     ]
    }
   ],
   "source": [
    "# 20\n",
    "def get_txt_list(path):\n",
    "    import glob\n",
    "    \n",
    "    file_list = glob.glob('%s\\*.txt'%path)\n",
    "    print(file_list)\n",
    "\n",
    "get_txt_list('C:\\\\Users\\student\\Desktop\\TIL\\Deeplearning')"
   ]
  },
  {
   "cell_type": "code",
   "execution_count": 194,
   "metadata": {},
   "outputs": [
    {
     "name": "stdout",
     "output_type": "stream",
     "text": [
      "19.886363636363637\n",
      "표준\n"
     ]
    }
   ],
   "source": [
    "# 21\n",
    "def BMItest(a,b):\n",
    "    weight = a\n",
    "    height = b * 0.01\n",
    "    BMI = weight / (height * 2)\n",
    "    print(BMI)\n",
    "    if BMI < 18.5:\n",
    "        print('마른체형')\n",
    "    elif 18.5 <= BMI < 25.0 :\n",
    "        print('표준')\n",
    "    elif 25.0 <= BMI < 30.0 :\n",
    "        print('비만')\n",
    "    elif 30.0 <= BMI :\n",
    "        print('고도비만')\n",
    "    \n",
    "BMItest(70,176)"
   ]
  },
  {
   "cell_type": "code",
   "execution_count": null,
   "metadata": {},
   "outputs": [
    {
     "name": "stdout",
     "output_type": "stream",
     "text": [
      "체중을 입력하시오 (단위 : kg)70\n",
      "키를 입력하시오 (단위 : cm)176\n",
      "당신의 BMI 는19이고 표준체형 입니다.\n",
      "체중을 입력하시오 (단위 : kg)50\n",
      "키를 입력하시오 (단위 : cm)142\n",
      "당신의 BMI 는17이고 마른체형 입니다.\n"
     ]
    }
   ],
   "source": [
    "# 22\n",
    "def BMItest():\n",
    "    weight = int(input('체중을 입력하시오 (단위 : kg)'))\n",
    "    height = int(input('키를 입력하시오 (단위 : cm)')) * 0.01\n",
    "    BMI = weight / (height * 2)\n",
    "    body_spec = ''\n",
    "    if BMI < 18.5:\n",
    "        body_spec ='마른'\n",
    "    elif 18.5 <= BMI < 25.0 :\n",
    "        body_spec ='표준'\n",
    "    elif 25.0 <= BMI < 30.0 :\n",
    "        body_spec ='비만'\n",
    "    elif 30.0 <= BMI :\n",
    "        body_spec ='고도비만'\n",
    "        \n",
    "    print('당신의 BMI 는%d이고 %s체형 입니다.'%(BMI, body_spec))\n",
    "\n",
    "while True:\n",
    "    BMItest()"
   ]
  },
  {
   "cell_type": "code",
   "execution_count": 3,
   "metadata": {},
   "outputs": [
    {
     "name": "stdout",
     "output_type": "stream",
     "text": [
      "밑변 2, 높이 5인 삼각형의 넓이는 5입니다.\n"
     ]
    }
   ],
   "source": [
    "# 23\n",
    "def get_triangle_area(width, height):\n",
    "    res = (width * height) / 2\n",
    "    print('밑변 %d, 높이 %d인 삼각형의 넓이는 %d입니다.' %(width, height, res))\n",
    "\n",
    "get_triangle_area(2,5)"
   ]
  },
  {
   "cell_type": "code",
   "execution_count": 6,
   "metadata": {},
   "outputs": [
    {
     "name": "stdout",
     "output_type": "stream",
     "text": [
      "1부터 100까지의 합은 5050입니다.\n"
     ]
    }
   ],
   "source": [
    "# 24\n",
    "def add_start_to_end(start, end):\n",
    "    Sum = sum(list(range(start,end+1)))\n",
    "    print('%d부터 %d까지의 합은 %d입니다.'%(start,end,Sum))\n",
    "    \n",
    "add_start_to_end(1,100)"
   ]
  },
  {
   "cell_type": "code",
   "execution_count": 12,
   "metadata": {},
   "outputs": [
    {
     "name": "stdout",
     "output_type": "stream",
     "text": [
      "['Seo', 'Dae', 'Kwa', 'Jej', 'sss']\n"
     ]
    }
   ],
   "source": [
    "# 25\n",
    "a =  ['Seoul', 'Daegu', 'Kwangju', 'Jeju','ssss']\n",
    "\n",
    "def three_chr_list(List):\n",
    "    res=[]\n",
    "    for i in range(len(List)):\n",
    "        res.append(List[i][:3])\n",
    "    print(res)\n",
    "\n",
    "three_chr_list(a)"
   ]
  },
  {
   "cell_type": "markdown",
   "metadata": {},
   "source": [
    "# 보너스"
   ]
  },
  {
   "cell_type": "code",
   "execution_count": 1,
   "metadata": {},
   "outputs": [
    {
     "name": "stdout",
     "output_type": "stream",
     "text": [
      "숫자 6개를 입력하시오(띄어쓰기로 구분)1 1 2 2 3 3\n",
      "[0, 1, 2, 3, 4, 5, 6, 7, 8, 9, '.', '.']\n",
      "[0, 2, 2, 2, 0, 0, 0, 0, 0, 0, 0, 0]\n",
      "[0, 0, 0, 0, 0, 0, 0, 0, 0, 0, 0, 0]\n",
      "run_cnt * 2 baby-gin!!!\n"
     ]
    }
   ],
   "source": [
    "import random as rd\n",
    "\n",
    "random_num = []\n",
    "criterion = [0,1,2,3,4,5,6,7,8,9,'.', '.']\n",
    "c = [0] * 12\n",
    "triple_cnt = 0\n",
    "run_cnt = 0\n",
    "\n",
    "# 랜덤으로 6개의 숫자를 지정하는 경우\n",
    "# while len(random_num)!=6:\n",
    "#     random_num.append(rd.randint(0,9))\n",
    "\n",
    "# print('생성된 숫자 : ',random_num)\n",
    "\n",
    "# 임의의 숫자를 지정하는 경우\n",
    "num = input('숫자 6개를 입력하시오(띄어쓰기로 구분)').split(' ')\n",
    "\n",
    "for i in range(len(num)):\n",
    "    random_num.append(int(num[i]))\n",
    "\n",
    "for i in range(len(random_num)):\n",
    "    c[random_num[i]] += 1\n",
    "print(criterion)\n",
    "print(c)\n",
    "\n",
    "t=0\n",
    "while t < 10:\n",
    "    for i in range(len(c)):\n",
    "        if c[i] == 3:\n",
    "            triple_cnt += 1\n",
    "            c[i] -= 3\n",
    "            continue\n",
    "        elif c[i] >= 1 and c[i+1] >= 1 and c[i+2] >= 1:\n",
    "            run_cnt += 1\n",
    "            c[i] -= 1\n",
    "            c[i+1] -= 1\n",
    "            c[i+2] -= 1\n",
    "            continue\n",
    "    t += 1\n",
    "    \n",
    "print(c)\n",
    "if triple_cnt == 2:\n",
    "    print('triple_cnt * 2 baby-gin!!!')\n",
    "elif triple_cnt == 1 and run_cnt == 1 :\n",
    "    print('triple_cnt * 1 / run_cnt * 1 baby-gin!!!')\n",
    "elif run_cnt == 2 :\n",
    "    print('run_cnt * 2 baby-gin!!!')    "
   ]
  }
 ],
 "metadata": {
  "kernelspec": {
   "display_name": "Python 3",
   "language": "python",
   "name": "python3"
  },
  "language_info": {
   "codemirror_mode": {
    "name": "ipython",
    "version": 3
   },
   "file_extension": ".py",
   "mimetype": "text/x-python",
   "name": "python",
   "nbconvert_exporter": "python",
   "pygments_lexer": "ipython3",
   "version": "3.7.4"
  }
 },
 "nbformat": 4,
 "nbformat_minor": 2
}
