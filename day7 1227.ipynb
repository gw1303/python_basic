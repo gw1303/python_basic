{
 "cells": [
  {
   "cell_type": "code",
   "execution_count": 5,
   "metadata": {},
   "outputs": [
    {
     "name": "stdout",
     "output_type": "stream",
     "text": [
      "맵의 크기 : \n"
     ]
    },
    {
     "ename": "ValueError",
     "evalue": "not enough values to unpack (expected 2, got 0)",
     "output_type": "error",
     "traceback": [
      "\u001b[1;31m---------------------------------------------------------------------------\u001b[0m",
      "\u001b[1;31mValueError\u001b[0m                                Traceback (most recent call last)",
      "\u001b[1;32m<ipython-input-5-2a8fa50365f4>\u001b[0m in \u001b[0;36m<module>\u001b[1;34m\u001b[0m\n\u001b[0;32m     50\u001b[0m \u001b[1;33m\u001b[0m\u001b[0m\n\u001b[0;32m     51\u001b[0m \u001b[1;33m\u001b[0m\u001b[0m\n\u001b[1;32m---> 52\u001b[1;33m \u001b[0mm\u001b[0m\u001b[1;33m,\u001b[0m \u001b[0mn\u001b[0m \u001b[1;33m=\u001b[0m \u001b[0mmap\u001b[0m\u001b[1;33m(\u001b[0m\u001b[0mint\u001b[0m\u001b[1;33m,\u001b[0m\u001b[0minput\u001b[0m\u001b[1;33m(\u001b[0m\u001b[1;34m\"맵의 크기 : \"\u001b[0m\u001b[1;33m)\u001b[0m\u001b[1;33m.\u001b[0m\u001b[0msplit\u001b[0m\u001b[1;33m(\u001b[0m\u001b[1;33m)\u001b[0m\u001b[1;33m)\u001b[0m\u001b[1;33m\u001b[0m\u001b[1;33m\u001b[0m\u001b[0m\n\u001b[0m\u001b[0;32m     53\u001b[0m \u001b[0mmine\u001b[0m \u001b[1;33m=\u001b[0m \u001b[0mint\u001b[0m\u001b[1;33m(\u001b[0m\u001b[0minput\u001b[0m\u001b[1;33m(\u001b[0m\u001b[1;34m'지뢰 숫자 : '\u001b[0m\u001b[1;33m)\u001b[0m\u001b[1;33m)\u001b[0m\u001b[1;33m\u001b[0m\u001b[1;33m\u001b[0m\u001b[0m\n\u001b[0;32m     54\u001b[0m \u001b[0mthe_game\u001b[0m \u001b[1;33m=\u001b[0m \u001b[0mBoomGame\u001b[0m\u001b[1;33m(\u001b[0m\u001b[0mm\u001b[0m\u001b[1;33m,\u001b[0m\u001b[0mn\u001b[0m\u001b[1;33m,\u001b[0m\u001b[0mmine\u001b[0m\u001b[1;33m)\u001b[0m\u001b[1;33m\u001b[0m\u001b[1;33m\u001b[0m\u001b[0m\n",
      "\u001b[1;31mValueError\u001b[0m: not enough values to unpack (expected 2, got 0)"
     ]
    }
   ],
   "source": [
    "import random \n",
    "\n",
    "class BoomGame():\n",
    "    def __init__(self,m,n,mine):        ## 시작 클래스 상속\n",
    "        self.row = m\n",
    "        self.col = n\n",
    "        self.mine_num = mine\n",
    "        print('Game Start')\n",
    "        \n",
    "    def BoomMap(self):\n",
    "        self.map = [['.' for _ in range(self.col)] for _ in range(self.row)]      \n",
    "        self.solution = [[ 0 for _ in range(self.col)] for _ in range(self.row)]  \n",
    "        self.mine = []  \n",
    "        while len(self.mine) != self.mine_num: \n",
    "            x = random.randrange(self.row)   \n",
    "            y = random.randrange(self.col)\n",
    "            try :\n",
    "                self.mine.index([x,y])      \n",
    "                pass\n",
    "            except ValueError :           \n",
    "                self.mine.append([x,y])\n",
    "            \n",
    "        for m in self.mine:\n",
    "            self.map[m[0]][m[1]] = \"*\"     \n",
    "            self.solution[m[0]][m[1]] = \"*\"\n",
    "\n",
    "    def BoomMap_solution(self):\n",
    "        for i,j in self.mine:                    \n",
    "            for a in range(i-1,i+2):\n",
    "                for b in range(j-1,j+2):\n",
    "                    if a < 0 or a > m:       \n",
    "                        pass\n",
    "                    elif b < 0 or b > n:\n",
    "                        pass\n",
    "                    else:                    \n",
    "                        try :\n",
    "                            self.solution[a][b] += 1\n",
    "                        except:\n",
    "                            continue\n",
    "    def BoomPrint(self):               \n",
    "        print('맵을 확인하세요')\n",
    "        for row in self.map:\n",
    "            print(''.join(row))\n",
    "\n",
    "        print('해답을 확인하세요')\n",
    "        for row in self.solution:\n",
    "            for i in row:\n",
    "                print(i,end='')\n",
    "            print('')\n",
    "                            \n",
    "                           \n",
    "m, n = map(int,input(\"맵의 크기 : \").split())    \n",
    "mine = int(input('지뢰 숫자 : '))\n",
    "the_game = BoomGame(m,n,mine)\n",
    "the_game.BoomMap()\n",
    "the_game.BoomMap_solution()\n",
    "the_game.BoomPrint()\n"
   ]
  },
  {
   "cell_type": "markdown",
   "metadata": {},
   "source": [
    "# filter\n",
    ": filter(함수, 반복가능자료형)- > 반복가능한 자료형 요소가 함수를 먹이고 변환값이 참인 요소들 출력"
   ]
  },
  {
   "cell_type": "code",
   "execution_count": 6,
   "metadata": {},
   "outputs": [
    {
     "name": "stdout",
     "output_type": "stream",
     "text": [
      "[1, 2]\n"
     ]
    }
   ],
   "source": [
    "# filter 사용 x\n",
    "def positive(p):\n",
    "    res=[]\n",
    "    for i in p:\n",
    "        if i>0:\n",
    "            res.append(i)\n",
    "    return res\n",
    "\n",
    "print(positive([1,-3,2,-5]))"
   ]
  },
  {
   "cell_type": "code",
   "execution_count": 7,
   "metadata": {},
   "outputs": [
    {
     "name": "stdout",
     "output_type": "stream",
     "text": [
      "[1, 2]\n",
      "[True, False, True, False]\n"
     ]
    }
   ],
   "source": [
    "# filter 사용\n",
    "print(list(filter(lambda x:x>0 ,[1,-3,2,-5])))\n",
    "# map과 유사\n",
    "print(list(map(lambda x:x>0 ,[1,-3,2,-5])))"
   ]
  },
  {
   "cell_type": "code",
   "execution_count": 8,
   "metadata": {},
   "outputs": [
    {
     "data": {
      "text/plain": [
       "[1, 2, 13, 14]"
      ]
     },
     "execution_count": 8,
     "metadata": {},
     "output_type": "execute_result"
    }
   ],
   "source": [
    "target=[1,2,3,4]\n",
    "list(map(lambda x:x+10 if x>2 else x ,target))"
   ]
  },
  {
   "cell_type": "code",
   "execution_count": 9,
   "metadata": {},
   "outputs": [
    {
     "name": "stdout",
     "output_type": "stream",
     "text": [
      "[2, 4, 6, 8, 10]\n",
      "[2, 4, 6, 8, 10]\n"
     ]
    }
   ],
   "source": [
    "target=list(range(1,11))\n",
    "res=[]\n",
    "\n",
    "def is_even(a):\n",
    "    return True if a%2==0 else False\n",
    "\n",
    "# for i in target:\n",
    "#     if is_even(i):\n",
    "#         res.append(i)\n",
    "\n",
    "# filter을 사용하면 위 3줄이 1줄로\n",
    "res=list(filter(lambda x:True if x%2==0 else False,target))\n",
    "res2=list(filter(lambda x:x%2==0,target))\n",
    "print(res)\n",
    "print(res2)"
   ]
  },
  {
   "cell_type": "code",
   "execution_count": 10,
   "metadata": {},
   "outputs": [
    {
     "name": "stdout",
     "output_type": "stream",
     "text": [
      "[1, 3]\n"
     ]
    }
   ],
   "source": [
    "# 문제\n",
    "target=[1,3,-2,-5]\n",
    "\n",
    "print(list(filter(lambda x:x>0 , target)))"
   ]
  },
  {
   "cell_type": "markdown",
   "metadata": {},
   "source": [
    "# 정수 -> 16진수"
   ]
  },
  {
   "cell_type": "code",
   "execution_count": 11,
   "metadata": {},
   "outputs": [
    {
     "data": {
      "text/plain": [
       "'0o10'"
      ]
     },
     "execution_count": 11,
     "metadata": {},
     "output_type": "execute_result"
    }
   ],
   "source": [
    "hex(254)\n",
    "\n",
    "oct(8)  # 10진수 -> 8진수"
   ]
  },
  {
   "cell_type": "markdown",
   "metadata": {},
   "source": [
    "# id(객체)\n",
    ": 객체의 메모리 주소값을 돌려주는 함수"
   ]
  },
  {
   "cell_type": "code",
   "execution_count": 12,
   "metadata": {},
   "outputs": [
    {
     "name": "stdout",
     "output_type": "stream",
     "text": [
      "140731503387088\n",
      "140731503387088\n"
     ]
    }
   ],
   "source": [
    "a=3  # 3이 저장된 주소를 a가 갖고있다는 의미\n",
    "print(id(3))\n",
    "print(id(a))"
   ]
  },
  {
   "cell_type": "code",
   "execution_count": 13,
   "metadata": {},
   "outputs": [
    {
     "name": "stdout",
     "output_type": "stream",
     "text": [
      "5\n",
      "250\n"
     ]
    }
   ],
   "source": [
    "print(int('101',2))  # 2진수 101에 대해 10진수 값으로 변환\n",
    "print(int('FA', 16))  # 16진수 101에 대해 10진수 값으로 변환"
   ]
  },
  {
   "cell_type": "markdown",
   "metadata": {},
   "source": [
    "# isinstance\n",
    "클래스(붕어빵기계) -> 객체(인스턴스)\n",
    "붕어빵 isinstance 붕어빵기계 --> True\n",
    "꽃게빵 isinstance 붕어빵기계 --> False"
   ]
  },
  {
   "cell_type": "code",
   "execution_count": 14,
   "metadata": {},
   "outputs": [
    {
     "name": "stdout",
     "output_type": "stream",
     "text": [
      "False\n",
      "True\n"
     ]
    }
   ],
   "source": [
    "class 붕어빵기계:\n",
    "    pass\n",
    "class 꽃게빵기계:\n",
    "    pass\n",
    "붕어빵=붕어빵기계()\n",
    "꽃게빵=꽃게빵기계()\n",
    "print(isinstance(꽃게빵, 붕어빵기계))\n",
    "print(isinstance(붕어빵, 붕어빵기계))"
   ]
  },
  {
   "cell_type": "code",
   "execution_count": 15,
   "metadata": {},
   "outputs": [
    {
     "data": {
      "text/plain": [
       "[1, 2, 3, 4, 5, 6, 7, 8, 9]"
      ]
     },
     "execution_count": 15,
     "metadata": {},
     "output_type": "execute_result"
    }
   ],
   "source": [
    "list('test') # = > ['t','e','s','t']\n",
    "list((1,2,3))\n",
    "list(range(1,10))"
   ]
  },
  {
   "cell_type": "code",
   "execution_count": 16,
   "metadata": {},
   "outputs": [
    {
     "name": "stdout",
     "output_type": "stream",
     "text": [
      "[2, 4, 6]\n"
     ]
    }
   ],
   "source": [
    "# 1. 일반적인 함수 구현\n",
    "\n",
    "def two_times(num):\n",
    "    # 구현부분\n",
    "    res=[]\n",
    "    for i in num:\n",
    "        res.append(i*2)\n",
    "    return res\n",
    "\n",
    "res = two_times([1,2,3])\n",
    "print(res)  # [2,3,4]"
   ]
  },
  {
   "cell_type": "code",
   "execution_count": 17,
   "metadata": {},
   "outputs": [
    {
     "name": "stdout",
     "output_type": "stream",
     "text": [
      "[2, 4, 6]\n"
     ]
    }
   ],
   "source": [
    "# 2. map 함수 구현\n",
    "def two_times(x):\n",
    "    return x*2\n",
    "\n",
    "print(list(map(two_times,[1,2,3])))"
   ]
  },
  {
   "cell_type": "code",
   "execution_count": 18,
   "metadata": {},
   "outputs": [
    {
     "name": "stdout",
     "output_type": "stream",
     "text": [
      "[2, 4, 6]\n"
     ]
    }
   ],
   "source": [
    "# 3. lambda함수 구현\n",
    "print(list(map(lambda x:x*2,[1,2,3])))"
   ]
  },
  {
   "cell_type": "markdown",
   "metadata": {},
   "source": [
    "# max, min함수"
   ]
  },
  {
   "cell_type": "code",
   "execution_count": 19,
   "metadata": {},
   "outputs": [
    {
     "name": "stdout",
     "output_type": "stream",
     "text": [
      "3\n",
      "t\n",
      "1\n",
      "e\n"
     ]
    }
   ],
   "source": [
    "print(max([1,2,3]))\n",
    "print(max('test'))\n",
    "print(min([1,2,3]))\n",
    "print(min('test'))"
   ]
  },
  {
   "cell_type": "markdown",
   "metadata": {},
   "source": [
    "# chr, ord, pow"
   ]
  },
  {
   "cell_type": "code",
   "execution_count": 20,
   "metadata": {},
   "outputs": [
    {
     "name": "stdout",
     "output_type": "stream",
     "text": [
      "a\n",
      "97\n",
      "16\n"
     ]
    }
   ],
   "source": [
    "print(chr(97)) \n",
    "print(ord('a'))\n",
    "print(pow(2,4))  # 2의 4승"
   ]
  },
  {
   "cell_type": "markdown",
   "metadata": {},
   "source": [
    "# round\n",
    ": 반올림"
   ]
  },
  {
   "cell_type": "code",
   "execution_count": 21,
   "metadata": {},
   "outputs": [
    {
     "data": {
      "text/plain": [
       "3.46"
      ]
     },
     "execution_count": 21,
     "metadata": {},
     "output_type": "execute_result"
    }
   ],
   "source": [
    "round(4.6)\n",
    "round(3.4567,2)  # 소수 2째자리까지 표현"
   ]
  },
  {
   "cell_type": "markdown",
   "metadata": {},
   "source": [
    "# sort, sorted\n",
    "list.sort(), sorted(list)\n",
    "list.sort(): 리스트를 정령, 반환값은 None\n",
    "            리스트의 순서가 변경\n",
    "\n",
    "sorted(list) : 정렬된 새로운 리스트를 반환\n",
    "                원본 리스트에는 영향 없음\n",
    "                \n",
    "### 두 함수의 차이점\n",
    "sort는 원본 리스트 순서가 변경됨\n",
    "sorted 변경 안 됨\n",
    "속도 : sort  sorted"
   ]
  },
  {
   "cell_type": "code",
   "execution_count": 22,
   "metadata": {},
   "outputs": [
    {
     "name": "stdout",
     "output_type": "stream",
     "text": [
      "[1, 2, 3]\n",
      "None\n",
      "[1, 2, 3]\n"
     ]
    }
   ],
   "source": [
    "li=[1,3,2]\n",
    "print(sorted(li))\n",
    "print(li.sort())\n",
    "print(li)"
   ]
  },
  {
   "cell_type": "markdown",
   "metadata": {},
   "source": [
    "# str , sum"
   ]
  },
  {
   "cell_type": "code",
   "execution_count": 23,
   "metadata": {},
   "outputs": [
    {
     "data": {
      "text/plain": [
       "3"
      ]
     },
     "execution_count": 23,
     "metadata": {},
     "output_type": "execute_result"
    }
   ],
   "source": [
    "str(3)\n",
    "str('hi')\n",
    "str('hi'.upper())\n",
    "\n",
    "sum([1,2,3])\n",
    "sum((1,2))"
   ]
  },
  {
   "cell_type": "markdown",
   "metadata": {},
   "source": [
    "# zip\n",
    ": 자료를 묶어주는 함수"
   ]
  },
  {
   "cell_type": "code",
   "execution_count": 24,
   "metadata": {},
   "outputs": [
    {
     "name": "stdout",
     "output_type": "stream",
     "text": [
      "[('a', 'd', '1'), ('b', 'e', '2'), ('c', 'f', '3')]\n",
      "[('a', 'd', '1'), ('b', 'e', '2'), ('c', 'f', '3')]\n",
      "[('a', 'd', '1'), ('b', 'e', '2')]\n"
     ]
    }
   ],
   "source": [
    "print(list(zip('abc','def','123')))\n",
    "print(list(zip('abc','def','1234')))  # 넘치면 안 나옴\n",
    "print(list(zip('abc','def','12')))  # 모자라면 있는데 까지만"
   ]
  },
  {
   "cell_type": "markdown",
   "metadata": {},
   "source": [
    "# pickle\n",
    ": 객체 상태 그대로 저장/불러오기 모듈\n",
    "## pickle.dump\n",
    "저장\n",
    "## pickle.load\n",
    "불러오기"
   ]
  },
  {
   "cell_type": "code",
   "execution_count": 25,
   "metadata": {},
   "outputs": [],
   "source": [
    "import pickle\n",
    "f = open('test.txt','wb')\n",
    "\n",
    "data={1:'python',2:'java'}  # 객체\n",
    "pickle.dump(data,f)\n",
    "f.close()"
   ]
  },
  {
   "cell_type": "code",
   "execution_count": 26,
   "metadata": {},
   "outputs": [
    {
     "name": "stdout",
     "output_type": "stream",
     "text": [
      "{1: 'python', 2: 'java'}\n"
     ]
    }
   ],
   "source": [
    "f = open('test.txt','rb')\n",
    "data = pickle.load(f)\n",
    "print(data)\n",
    "f.close()"
   ]
  },
  {
   "cell_type": "markdown",
   "metadata": {},
   "source": [
    "# shutil 패키지\n",
    "### shutil.copy\n",
    ": 파일 복사"
   ]
  },
  {
   "cell_type": "code",
   "execution_count": 27,
   "metadata": {},
   "outputs": [
    {
     "data": {
      "text/plain": [
       "'test2.txt'"
      ]
     },
     "execution_count": 27,
     "metadata": {},
     "output_type": "execute_result"
    }
   ],
   "source": [
    "import shutil\n",
    "shutil.copy('test.txt','test2.txt')"
   ]
  },
  {
   "cell_type": "markdown",
   "metadata": {},
   "source": [
    "# glob\n",
    "### glob.glob\n",
    ": 해당 경로에 있는 파일 목록을 list로 가져옴"
   ]
  },
  {
   "cell_type": "code",
   "execution_count": 36,
   "metadata": {},
   "outputs": [],
   "source": [
    "import glob\n",
    "# 해당 경로에 있는 파일 목록을 list로 가져옴\n",
    "# glob.glob('c:/windows/*')"
   ]
  },
  {
   "cell_type": "markdown",
   "metadata": {},
   "source": [
    "# webbrowser"
   ]
  },
  {
   "cell_type": "code",
   "execution_count": 29,
   "metadata": {},
   "outputs": [
    {
     "data": {
      "text/plain": [
       "True"
      ]
     },
     "execution_count": 29,
     "metadata": {},
     "output_type": "execute_result"
    }
   ],
   "source": [
    "import webbrowser\n",
    "# webbrowser.open('https://www.naver.com')\n",
    "# webbrowser.open_new('https://www.naver.com')"
   ]
  },
  {
   "cell_type": "code",
   "execution_count": 31,
   "metadata": {},
   "outputs": [
    {
     "name": "stdout",
     "output_type": "stream",
     "text": [
      "p1:30 20\n",
      "p2:50 40\n",
      "28.284271247461902\n"
     ]
    }
   ],
   "source": [
    "import math\n",
    "# 2차원 평면에서 위치를 나타내는 클래스\n",
    "class Point2D:\n",
    "    def __init__(self,x,y):\n",
    "        self.x = x\n",
    "        self.y = y\n",
    "# 점1(x=30, y=20)\n",
    "p1 = Point2D(30,20) \n",
    "# 점2(x=50, y=40)\n",
    "p2 = Point2D(50,40)\n",
    "\n",
    "print('p1:{} {}'.format(p1.x,p1.y))\n",
    "print('p2:{} {}'.format(p2.x,p2.y))\n",
    "\n",
    "# 두 점 사이의 거리 출력 (피타고라스 정리)\n",
    "r=(p2.x-p1.x)**2+(p2.y-p1.y)**2\n",
    "print(math.sqrt(r))\n"
   ]
  },
  {
   "cell_type": "markdown",
   "metadata": {},
   "source": [
    "# 이터레이터(iterator, 반복자)\n",
    ": 데이터를 차례대로 꺼낼 수 있는 객체\n",
    "\n",
    "# 이터러블(iterable, 반복가능한 객체)\n",
    ": 문자열, 리스트, 튜플 .. \n",
    "\n",
    "## dir()\n",
    ": 데이터가 이터러블한지 확인하는 방법\n",
    "'__iter__'가 있으면 반복가능"
   ]
  },
  {
   "cell_type": "code",
   "execution_count": 32,
   "metadata": {},
   "outputs": [
    {
     "ename": "SyntaxError",
     "evalue": "unexpected EOF while parsing (<ipython-input-32-24fae5ec7117>, line 3)",
     "output_type": "error",
     "traceback": [
      "\u001b[1;36m  File \u001b[1;32m\"<ipython-input-32-24fae5ec7117>\"\u001b[1;36m, line \u001b[1;32m3\u001b[0m\n\u001b[1;33m    # 이터레이터에 의해서 0~9까지의 수가 생성\u001b[0m\n\u001b[1;37m                             ^\u001b[0m\n\u001b[1;31mSyntaxError\u001b[0m\u001b[1;31m:\u001b[0m unexpected EOF while parsing\n"
     ]
    }
   ],
   "source": [
    "for i in ragne(10):\n",
    "# 숫자 0~9까지 차례대로 꺼내는 이터레이터가 있음\n",
    "# 이터레이터에 의해서 0~9까지의 수가 생성"
   ]
  },
  {
   "cell_type": "code",
   "execution_count": 33,
   "metadata": {},
   "outputs": [
    {
     "name": "stdout",
     "output_type": "stream",
     "text": [
      "1\n",
      "2\n",
      "3\n"
     ]
    },
    {
     "data": {
      "text/plain": [
       "list_iterator"
      ]
     },
     "execution_count": 33,
     "metadata": {},
     "output_type": "execute_result"
    }
   ],
   "source": [
    "# dir()  : 해당 객체에 사용가능한 메서드 출력\n",
    "dir([1,2,3])\n",
    "# '__iter__'이 있으면 반복가능한 객체\n",
    "it = [1,2,3].__iter__()\n",
    "\n",
    "for i in range(1,4):\n",
    "    print(it.__next__())\n",
    "    \n",
    "type(it)"
   ]
  },
  {
   "cell_type": "code",
   "execution_count": 34,
   "metadata": {},
   "outputs": [
    {
     "data": {
      "text/plain": [
       "'\\nfor i in range(3):\\n    print(i)\\n=====================\\n1) __iter__() 호출\\n2) __next__() 호출 -> i에 변수 0저장\\n3) __next__() 호출 -> i에 변수 1저장\\n4) __next__() 호출 -> i에 변수 2저장\\n'"
      ]
     },
     "execution_count": 34,
     "metadata": {},
     "output_type": "execute_result"
    }
   ],
   "source": [
    "'''\n",
    "for i in range(3):\n",
    "    print(i)\n",
    "=====================\n",
    "1) __iter__() 호출\n",
    "2) __next__() 호출 -> i에 변수 0저장\n",
    "3) __next__() 호출 -> i에 변수 1저장\n",
    "4) __next__() 호출 -> i에 변수 2저장\n",
    "'''"
   ]
  },
  {
   "cell_type": "markdown",
   "metadata": {},
   "source": [
    "# 정규 표현식\n",
    ": 문자열을 규칙에 맞춰 정리\n",
    "\n",
    "<정규표현식>\n",
    " 데이터 수집  -  전처리  -  분석\n",
    "\n",
    "010-1234-1234\n",
    "텍스트 수집 -> 주민번호 -> 뒷자리를 모두 *로 변경\n",
    "\n",
    "## 메타문자\n",
    ": 문자의 본래 의미가 아닌 특정 의미를 갖는 문자 () {} [] \\ | ? + * $ ^ ...\n",
    "1. [] : 문자와 관련된 정규(표현)식에서 사용\n",
    "    []사이에는 어떤 문자도 올 수 있음.\n",
    "    정규표현식 : [abcedf]\n",
    "    의미 : a,b,c,d,e,f 문자 중에서 한 개의 문자와 매치\n",
    "    'a'는 정규식에 일치하는 문자가 있으므로 -> 매치가 됨\n",
    "    \n",
    "    [\\d] : 숫자와 매치됨 == [0-9]\n",
    "    [\\D] : 숫자가 아닌 모든것과 매치 == [^0-9]\n",
    "    [\\w] : 모든 숫자+문자 == [0-9a-zA-Z]\n",
    "    [\\W] : 모든 숫자+문자가 아닌 것 == [^0-9a-zA-Z]\n",
    "    \n",
    "2. ^문자열 : 문자열이 맨 앞에 오는지 판단\n",
    "3. 문자열$ : 문자열이 맨 뒤에 오는지 판단\n",
    "4. | : 또는\n",
    "5. * : 문자가 0개 이상 있는지 판단\n",
    "6. + : 문자가 1개 이상 있는지 판단\n",
    "7. ? : 문자가 0개 또는 1개\n",
    "8. . : 패턴 다음에 문자가 1개 있으면 매치\n",
    "9. {} : 나오는 횟수"
   ]
  },
  {
   "cell_type": "code",
   "execution_count": 35,
   "metadata": {},
   "outputs": [
    {
     "name": "stdout",
     "output_type": "stream",
     "text": [
      "<re.Match object; span=(0, 1), match='c'>\n",
      "None\n",
      "<re.Match object; span=(0, 1), match='a'>\n",
      "None\n",
      "<re.Match object; span=(0, 1), match='b'>\n",
      "<re.Match object; span=(0, 1), match='f'>\n",
      "<re.Match object; span=(0, 1), match='f'>\n",
      "None\n",
      "<re.Match object; span=(0, 1), match='A'>\n",
      "<re.Match object; span=(0, 1), match='a'>\n",
      "<re.Match object; span=(0, 1), match='1'>\n",
      "None\n",
      "<re.Match object; span=(0, 1), match='1'>\n",
      "None\n",
      "<re.Match object; span=(0, 1), match='1'>\n",
      "None\n",
      "<re.Match object; span=(0, 1), match='t'>\n",
      "<re.Match object; span=(0, 1), match='대'>\n",
      "<re.Match object; span=(0, 1), match='않'>\n"
     ]
    }
   ],
   "source": [
    "# []메타문자\n",
    "print(re.match('[abcdef]','c'))  # a\n",
    "print(re.match('[abcdef]','z'))\n",
    "print(re.match('[abcdef]','all'))  # a\n",
    "print(re.match('[abcdef]','sky'))\n",
    "print(re.match('[abcdef]','best'))  # b\n",
    "print(re.match('[abcdef]','fgha'))  # f\n",
    "print(re.match('[a-z]','fgha'))  # [a-z] : 알파벳 소문자 모두\n",
    "print(re.match('[a-z]','ABC'))\n",
    "print(re.match('[A-Z]','ABC'))  # [A-Z] : 알파벳 대문자 모두\n",
    "print(re.match('[a-zA-Z]','aABC'))  # [a-zA-Z] : 알파벳 대소문자 모두\n",
    "print(re.match('[0-9]','119'))  # [0-9] : 숫자 모두\n",
    "print(re.match('[^0-9]','119'))  # [^0-9] : 숫자를 제외한 모두\n",
    "print(re.match('[\\d]','119'))  # [\\d] : 숫자와 매치됨 == [0-9]\n",
    "print(re.match('[\\D]','119'))  # [\\D] : 숫자가 아닌 모든것과 매치 == [^0-9]\n",
    "print(re.match('\\w', '119'))  # [\\w] : 모든 숫자+문자 == [0-9a-zA-Z]\n",
    "print(re.match('\\W', '119'))  # [\\W] : 모든 숫자+문자가 아닌 것 == [^0-9a-zA-Z]\n",
    "print(re.match('[0-9a-zA-Z]', 'test'))\n",
    "print(re.match('[^0-9a-zA-Z]', '대한민국'))\n",
    "print(re.match('[가-핳]', '않'))  #[가-핳] : 모든 한글\n",
    "\n"
   ]
  },
  {
   "cell_type": "markdown",
   "metadata": {},
   "source": [
    "## ^ $"
   ]
  },
  {
   "cell_type": "code",
   "execution_count": 40,
   "metadata": {},
   "outputs": [
    {
     "name": "stdout",
     "output_type": "stream",
     "text": [
      "None\n",
      "<re.Match object; span=(7, 9), match='hi'>\n",
      "<re.Match object; span=(0, 2), match='hi'>\n"
     ]
    }
   ],
   "source": [
    "# ^문자열 : 문자열이 맨 앞에 오는지 판단\n",
    "# 문자열$ : 문자열이 맨 뒤에 오는지 판단\n",
    "# search함수에서 사용됨\n",
    "\n",
    "print(re.search('^hi','hello, hi'))\n",
    "print(re.search('hi$','hello, hi'))\n",
    "print(re.search('^hi','hi, hello'))"
   ]
  },
  {
   "cell_type": "markdown",
   "metadata": {},
   "source": [
    "## |"
   ]
  },
  {
   "cell_type": "code",
   "execution_count": 41,
   "metadata": {},
   "outputs": [
    {
     "name": "stdout",
     "output_type": "stream",
     "text": [
      "<re.Match object; span=(0, 2), match='hi'>\n",
      "None\n",
      "<re.Match object; span=(0, 5), match='hello'>\n"
     ]
    }
   ],
   "source": [
    "# | : 또는\n",
    "print(re.match('hello|hi|good','hi'))\n",
    "print(re.match('hello|hi|good','goo'))\n",
    "print(re.match('hello|hi|good','hello'))"
   ]
  },
  {
   "cell_type": "markdown",
   "metadata": {},
   "source": [
    "# []"
   ]
  },
  {
   "cell_type": "code",
   "execution_count": 42,
   "metadata": {},
   "outputs": [
    {
     "data": {
      "text/plain": [
       "'정규식 : [abc]\\n의미? a,b,c 중에서 한 개의 문자와 매치\\na문자 - 매치\\nbefore - 매치\\nkick - 매치 X\\n'"
      ]
     },
     "execution_count": 42,
     "metadata": {},
     "output_type": "execute_result"
    }
   ],
   "source": [
    "# []사이의 문자들과 매치\n",
    "'''정규식 : [abc]\n",
    "의미? a,b,c 중에서 한 개의 문자와 매치\n",
    "a문자 - 매치\n",
    "before - 매치\n",
    "kick - 매치 X\n",
    "'''"
   ]
  },
  {
   "cell_type": "code",
   "execution_count": 43,
   "metadata": {},
   "outputs": [
    {
     "name": "stdout",
     "output_type": "stream",
     "text": [
      "<re.Match object; span=(0, 1), match='1'>\n",
      "<re.Match object; span=(0, 3), match='123'>\n",
      "<re.Match object; span=(0, 2), match='12'>\n",
      "<re.Match object; span=(0, 0), match=''>\n"
     ]
    }
   ],
   "source": [
    "print(re.match('[0-9]','123'))\n",
    "#                패턴   문자열\n",
    "#          패턴이 문자열에 있는지 확인\n",
    "#          span(0,1) : 패턴이 매치되는 문자열의 위치\n",
    "print(re.match('[0-9]*','123'))\n",
    "#                패턴   문자열\n",
    "#          *은 숫자가 0개 이상 있는지 판단\n",
    "#          위 코드에서는 숫자 3개가 매치됨\n",
    "print(re.match('[0-9]*','12a3'))  # 2개 매치\n",
    "print(re.match('[0-9]*','x12a3')) # 0개 매치  != None"
   ]
  },
  {
   "cell_type": "markdown",
   "metadata": {},
   "source": [
    "# * +"
   ]
  },
  {
   "cell_type": "code",
   "execution_count": 44,
   "metadata": {
    "scrolled": true
   },
   "outputs": [
    {
     "name": "stdout",
     "output_type": "stream",
     "text": [
      "<re.Match object; span=(0, 0), match=''>\n",
      "None\n",
      "<re.Match object; span=(0, 3), match='abc'>\n",
      "None\n"
     ]
    }
   ],
   "source": [
    "# * : 문자가 0개 이상 있는지 판단\n",
    "print(re.match('[a-z]*','12a3bc'))  # 0개 매치\n",
    "print(re.match('[a-z]','12a3bc'))   # None\n",
    "\n",
    "# + : 문자가 1개 이상 있는지 판단\n",
    "print(re.match('[a-z]+','abc123def')) # 3개 매치\n",
    "print(re.match('[a-z]+','12a3bc'))    # None"
   ]
  },
  {
   "cell_type": "code",
   "execution_count": 45,
   "metadata": {
    "scrolled": true
   },
   "outputs": [
    {
     "name": "stdout",
     "output_type": "stream",
     "text": [
      "<re.Match object; span=(0, 4), match='aaaa'>\n",
      "<re.Match object; span=(0, 1), match='b'>\n",
      "None\n",
      "None\n",
      "<re.Match object; span=(0, 3), match='aab'>\n"
     ]
    }
   ],
   "source": [
    " # ('패턴','문자열') : 문자열에 패턴이 있는지  *패턴을 기준으로 봐!!*\n",
    "print(re.match('a*', 'aaaa'))  # a매치\n",
    "# a가 0개 이상 있고 b로 이어진다면 매치\n",
    "print(re.match('a*b', 'b')) # b매치\n",
    "print(re.match('a+b', 'b')) # None\n",
    "print(re.match('a+b', 'aaacb'))  # None\n",
    "print(re.match('a+b', 'aabccd')) # aab 매치"
   ]
  },
  {
   "cell_type": "markdown",
   "metadata": {},
   "source": [
    "# ? ."
   ]
  },
  {
   "cell_type": "code",
   "execution_count": 46,
   "metadata": {},
   "outputs": [
    {
     "name": "stdout",
     "output_type": "stream",
     "text": [
      "<re.Match object; span=(0, 1), match='h'>\n",
      "<re.Match object; span=(0, 1), match='h'>\n",
      "<re.Match object; span=(0, 1), match='h'>\n",
      "<re.Match object; span=(0, 0), match=''>\n",
      "<re.Match object; span=(0, 1), match='h'>\n",
      "<re.Match object; span=(0, 2), match='he'>\n",
      "None\n",
      "<re.Match object; span=(0, 3), match='hel'>\n",
      "None\n"
     ]
    }
   ],
   "source": [
    "# ? : 문자가 0개 또는 1개\n",
    "# h문자가 0개 또는 1개 있으면 매치\n",
    "print(re.match('h?','h'))\n",
    "print(re.match('h?','hi'))\n",
    "print(re.match('h?','hello'))\n",
    "print(re.match('h?','ello'))\n",
    "print(re.match('h?','hhhello'))\n",
    "\n",
    "# . : 패턴 다음에 문자가 1개 있으면 매치\n",
    "# h문자 다음에 문자가 1개 있으면 매치\n",
    "print(re.match('h.','hello'))\n",
    "print(re.match('h.','ello'))\n",
    "# h + 모든 문자 하나 + l\n",
    "print(re.match('h.l','hello'))\n",
    "print(re.match('a.b','ab'))"
   ]
  },
  {
   "cell_type": "markdown",
   "metadata": {},
   "source": [
    "# { }"
   ]
  },
  {
   "cell_type": "code",
   "execution_count": 47,
   "metadata": {},
   "outputs": [
    {
     "name": "stdout",
     "output_type": "stream",
     "text": [
      "<re.Match object; span=(0, 3), match='aaa'>\n",
      "<re.Match object; span=(0, 2), match='hi'>\n",
      "None\n",
      "<re.Match object; span=(0, 3), match='hii'>\n",
      "<re.Match object; span=(0, 3), match='hii'>\n",
      "None\n",
      "<re.Match object; span=(0, 4), match='hihi'>\n",
      "<re.Match object; span=(0, 4), match='hihi'>\n",
      "<re.Match object; span=(0, 5), match='caaat'>\n"
     ]
    }
   ],
   "source": [
    "# a{3} : a가 3개 있는지?\n",
    "print(re.match('a{3}','aaabbbccc'))\n",
    "\n",
    "# 문자{획수} : 문자가 지정된 횟수만큼 반복\n",
    "# (문자열){횟수} : 문자열가 지정된 횟수만큼 반복\n",
    "print(re.match('hi','hi'))\n",
    "print(re.match('hi{2}','hi'))\n",
    "print(re.match('hi{2}','hii'))\n",
    "print(re.match('hi{2}','hiiiii'))\n",
    "print(re.match('(hi){2}','hihhi'))\n",
    "print(re.match('(hi){2}','hihi'))\n",
    "print(re.match('(hi){2}','hihihi'))\n",
    "print(re.match('ca{2,5}t','caaat'))  # {2,5} = 2번 이상 5번 이하 "
   ]
  },
  {
   "cell_type": "code",
   "execution_count": 48,
   "metadata": {},
   "outputs": [
    {
     "name": "stdout",
     "output_type": "stream",
     "text": [
      "None\n",
      "<re.Match object; span=(0, 3), match='a b'>\n",
      "<re.Match object; span=(0, 3), match='a.b'>\n",
      "<re.Match object; span=(0, 6), match='a....b'>\n"
     ]
    }
   ],
   "source": [
    "# a.b => a + 모든 문자 + b\n",
    "# abc는 매치 X\n",
    "print(re.match('a.b','abc'))\n",
    "print(re.match('a.b','a b'))\n",
    "# 주의사항 a[.]b => a + .... + b\n",
    "print(re.match('a[.]b','a.b'))\n",
    "print(re.match('a[.]+b','a....b'))\n",
    "#[a-z]"
   ]
  },
  {
   "cell_type": "code",
   "execution_count": 49,
   "metadata": {},
   "outputs": [
    {
     "name": "stdout",
     "output_type": "stream",
     "text": [
      "<re.Match object; span=(0, 13), match='010-9340-2395'>\n",
      "None\n",
      "<re.Match object; span=(0, 13), match='010-9340-2395'>\n",
      "<re.Match object; span=(0, 12), match='02-2222-2222'>\n",
      "정상\n"
     ]
    }
   ],
   "source": [
    "tel1 = '010-9340-2395'\n",
    "tel2 = '02-2222-2222'\n",
    "print(re.match('[0-9]{3}-[0-9]{4}-[0-9]{4}',tel1))\n",
    "print(re.match('[0-9]{3}-[0-9]{4}-[0-9]{4}',tel2))\n",
    "# {2,3} : 최소 2개 ~ 최대 3개 매치될 수 있다\n",
    "print(re.match('[0-9]{2,3}-[0-9]{4}-[0-9]{4}',tel1))\n",
    "print(re.match('[0-9]{2,3}-[0-9]{4}-[0-9]{4}',tel2))\n",
    "\n",
    "jm = '990101-1234567'\n",
    "check = re.match('[0-9]{6}-[0-9]{7}',jm)\n",
    "if check :\n",
    "    print('정상')\n",
    "else :\n",
    "    print('비정상')"
   ]
  },
  {
   "cell_type": "code",
   "execution_count": 50,
   "metadata": {},
   "outputs": [],
   "source": [
    "data = '''\n",
    "kim 950101-1234567\n",
    "lee 970202-2345678\n",
    "'''"
   ]
  },
  {
   "cell_type": "markdown",
   "metadata": {},
   "source": [
    "# 정규표현식 사용\n",
    "\n",
    "## 정규표현식 없이 전처리"
   ]
  },
  {
   "cell_type": "code",
   "execution_count": 171,
   "metadata": {},
   "outputs": [
    {
     "name": "stdout",
     "output_type": "stream",
     "text": [
      "\n",
      "950101-******\n",
      "970202-******\n",
      "\n"
     ]
    }
   ],
   "source": [
    "# 정규표현식 없이 전처리\n",
    "result=[]\n",
    "for line in data.split('\\n'):\n",
    "    word_res=[]\n",
    "    for word in line.split(' '):\n",
    "        # isdigit() -> 숫자인지 아닌지 판별\n",
    "        if len(word) == 14 and word[:6].isdigit() and word[7:].isdigit():\n",
    "            w = word[0:6]+'-******'\n",
    "            word_res.append(w)\n",
    "    result.append(' '.join(word_res))\n",
    "print('\\n'.join(result))"
   ]
  },
  {
   "cell_type": "markdown",
   "metadata": {},
   "source": [
    "## 정규표현식으로 전처리"
   ]
  },
  {
   "cell_type": "code",
   "execution_count": 4,
   "metadata": {},
   "outputs": [
    {
     "ename": "NameError",
     "evalue": "name 'data' is not defined",
     "output_type": "error",
     "traceback": [
      "\u001b[1;31m---------------------------------------------------------------------------\u001b[0m",
      "\u001b[1;31mNameError\u001b[0m                                 Traceback (most recent call last)",
      "\u001b[1;32m<ipython-input-4-b78d59366476>\u001b[0m in \u001b[0;36m<module>\u001b[1;34m\u001b[0m\n\u001b[0;32m      3\u001b[0m \u001b[1;33m\u001b[0m\u001b[0m\n\u001b[0;32m      4\u001b[0m \u001b[0mpattern\u001b[0m \u001b[1;33m=\u001b[0m \u001b[0mre\u001b[0m\u001b[1;33m.\u001b[0m\u001b[0mcompile\u001b[0m\u001b[1;33m(\u001b[0m\u001b[1;34m'(\\d{6})[-]\\d{7}'\u001b[0m\u001b[1;33m)\u001b[0m\u001b[1;33m\u001b[0m\u001b[1;33m\u001b[0m\u001b[0m\n\u001b[1;32m----> 5\u001b[1;33m \u001b[0mprint\u001b[0m\u001b[1;33m(\u001b[0m\u001b[0mpattern\u001b[0m\u001b[1;33m.\u001b[0m\u001b[0msub\u001b[0m\u001b[1;33m(\u001b[0m\u001b[1;34m'\\g<1>-******'\u001b[0m\u001b[1;33m,\u001b[0m\u001b[0mdata\u001b[0m\u001b[1;33m)\u001b[0m\u001b[1;33m)\u001b[0m\u001b[0;31m\\\u001b[0m\u001b[1;33m\u001b[0m\u001b[1;33m\u001b[0m\u001b[0m\n\u001b[0m\u001b[0;32m      6\u001b[0m \u001b[1;33m\u001b[0m\u001b[0m\n\u001b[0;32m      7\u001b[0m \u001b[1;31m# 정규표현식 작성방법\u001b[0m\u001b[1;33m\u001b[0m\u001b[1;33m\u001b[0m\u001b[1;33m\u001b[0m\u001b[0m\n",
      "\u001b[1;31mNameError\u001b[0m: name 'data' is not defined"
     ]
    }
   ],
   "source": [
    "# 정규표현식(re)으로 전처리\n",
    "import re  # 정규표현식 모듈\n",
    "\n",
    "pattern = re.compile('(\\d{6})[-]\\d{7}')\n",
    "print(pattern.sub('\\g<1>-******',data))\\\n",
    "\n",
    "# 정규표현식 작성방법\n",
    "# re.match('패턴','문자열') : 문자열에 패턴이 있는지 여부를 확인\n",
    "print(re.match('hello','hello,world'))  # 있으면 발견된 위치를 출력\n",
    "print(re.match('hi','hello,world'))  # 없으면 None출력"
   ]
  },
  {
   "cell_type": "markdown",
   "metadata": {},
   "source": [
    "# 연습문제 1\n",
    "금액투입\n",
    "커피선택\n",
    "커피출력 (없다면 출력)\n",
    "잔액출력\n",
    "동전 : 500, 100, 1000 등등\n",
    "\n",
    "*관리자 / 사용자 기능 구현\n",
    "\n",
    "ex)\n",
    "1. 관리자\n",
    "    커피 재료(커피 10잔 입력)\n",
    "    동전 투입(500:20, 100:50, 1000:30)\n",
    "2. 사용자\n",
    "    금액 투입\n",
    "    커피 선택\n",
    "    잔액 출금 / 커피를 추가적으로 선택\n",
    "\n",
    "실행)\n",
    "Step1\n",
    "선택하세요?\n",
    "(1) 관리자 모드 (2) 사용자 모드 (3) 종료\n",
    "입력 : 1\n",
    "\n",
    "Step2\n",
    "(1) 커피재료 (2) 동전투입 (3) 종료\n",
    "입력 : 1\n",
    "\n",
    "Step3\n",
    "커피 충전 : 10\n",
    "10잔이 충전되었습니다.\n",
    "\n",
    "   "
   ]
  },
  {
   "cell_type": "code",
   "execution_count": null,
   "metadata": {},
   "outputs": [],
   "source": [
    "class CoffeeMachine():\n",
    "    coffee = 0\n",
    "    balance = {}\n",
    "    user = 0\n",
    "\n",
    "    def userChoice(self):\n",
    "        print('사용자를 선택하세요 \\n (1) 관리자 (2) 사용자 (3) 종료')\n",
    "        self.user = input(\"입력\")\n",
    "        if self.user == 3 :\n",
    "            print('안녕히가십시오.')\n",
    "            self.user = 0\n",
    "    def addCoffee(self):\n",
    "        print('현재 커피 : %d잔 \\n' %self.coffee)\n",
    "        self.coffee = input('커피 충전량을 입력하시오.')\n",
    "\n",
    "            "
   ]
  },
  {
   "cell_type": "code",
   "execution_count": null,
   "metadata": {},
   "outputs": [],
   "source": [
    "cm1 = CoffeeMachine()\n",
    "cm1.userChoice()"
   ]
  },
  {
   "cell_type": "code",
   "execution_count": 309,
   "metadata": {},
   "outputs": [
    {
     "name": "stdout",
     "output_type": "stream",
     "text": [
      "입력:2\n",
      "2\n"
     ]
    }
   ],
   "source": [
    "x=0\n",
    "def add(a):\n",
    "    global x\n",
    "    x+=a\n",
    "    return x\n",
    "x=input('입력:')\n",
    "print(x)"
   ]
  },
  {
   "cell_type": "code",
   "execution_count": null,
   "metadata": {},
   "outputs": [],
   "source": [
    "input('입력:',x)\n",
    "print(x)"
   ]
  },
  {
   "cell_type": "code",
   "execution_count": null,
   "metadata": {},
   "outputs": [],
   "source": []
  },
  {
   "cell_type": "code",
   "execution_count": null,
   "metadata": {},
   "outputs": [],
   "source": []
  },
  {
   "cell_type": "code",
   "execution_count": null,
   "metadata": {},
   "outputs": [],
   "source": []
  },
  {
   "cell_type": "code",
   "execution_count": null,
   "metadata": {},
   "outputs": [],
   "source": []
  },
  {
   "cell_type": "code",
   "execution_count": null,
   "metadata": {},
   "outputs": [],
   "source": []
  },
  {
   "cell_type": "code",
   "execution_count": null,
   "metadata": {},
   "outputs": [],
   "source": []
  },
  {
   "cell_type": "code",
   "execution_count": null,
   "metadata": {},
   "outputs": [],
   "source": []
  },
  {
   "cell_type": "code",
   "execution_count": null,
   "metadata": {},
   "outputs": [],
   "source": []
  },
  {
   "cell_type": "code",
   "execution_count": null,
   "metadata": {},
   "outputs": [],
   "source": []
  },
  {
   "cell_type": "code",
   "execution_count": null,
   "metadata": {},
   "outputs": [],
   "source": []
  },
  {
   "cell_type": "code",
   "execution_count": null,
   "metadata": {},
   "outputs": [],
   "source": []
  },
  {
   "cell_type": "code",
   "execution_count": null,
   "metadata": {},
   "outputs": [],
   "source": []
  },
  {
   "cell_type": "code",
   "execution_count": null,
   "metadata": {},
   "outputs": [],
   "source": []
  },
  {
   "cell_type": "code",
   "execution_count": null,
   "metadata": {},
   "outputs": [],
   "source": []
  },
  {
   "cell_type": "code",
   "execution_count": null,
   "metadata": {},
   "outputs": [],
   "source": []
  },
  {
   "cell_type": "code",
   "execution_count": null,
   "metadata": {},
   "outputs": [],
   "source": []
  },
  {
   "cell_type": "code",
   "execution_count": null,
   "metadata": {},
   "outputs": [],
   "source": []
  },
  {
   "cell_type": "code",
   "execution_count": null,
   "metadata": {},
   "outputs": [],
   "source": []
  },
  {
   "cell_type": "code",
   "execution_count": null,
   "metadata": {},
   "outputs": [],
   "source": []
  },
  {
   "cell_type": "code",
   "execution_count": null,
   "metadata": {},
   "outputs": [],
   "source": []
  },
  {
   "cell_type": "code",
   "execution_count": null,
   "metadata": {},
   "outputs": [],
   "source": []
  },
  {
   "cell_type": "code",
   "execution_count": null,
   "metadata": {},
   "outputs": [],
   "source": []
  },
  {
   "cell_type": "code",
   "execution_count": null,
   "metadata": {},
   "outputs": [],
   "source": []
  },
  {
   "cell_type": "code",
   "execution_count": null,
   "metadata": {},
   "outputs": [],
   "source": []
  },
  {
   "cell_type": "code",
   "execution_count": null,
   "metadata": {},
   "outputs": [],
   "source": []
  },
  {
   "cell_type": "code",
   "execution_count": null,
   "metadata": {},
   "outputs": [],
   "source": []
  },
  {
   "cell_type": "code",
   "execution_count": null,
   "metadata": {},
   "outputs": [],
   "source": []
  },
  {
   "cell_type": "code",
   "execution_count": null,
   "metadata": {},
   "outputs": [],
   "source": []
  },
  {
   "cell_type": "code",
   "execution_count": null,
   "metadata": {},
   "outputs": [],
   "source": []
  },
  {
   "cell_type": "code",
   "execution_count": null,
   "metadata": {},
   "outputs": [],
   "source": []
  },
  {
   "cell_type": "code",
   "execution_count": null,
   "metadata": {},
   "outputs": [],
   "source": []
  },
  {
   "cell_type": "code",
   "execution_count": null,
   "metadata": {},
   "outputs": [],
   "source": []
  },
  {
   "cell_type": "code",
   "execution_count": null,
   "metadata": {},
   "outputs": [],
   "source": []
  },
  {
   "cell_type": "code",
   "execution_count": null,
   "metadata": {},
   "outputs": [],
   "source": []
  },
  {
   "cell_type": "code",
   "execution_count": null,
   "metadata": {},
   "outputs": [],
   "source": []
  },
  {
   "cell_type": "code",
   "execution_count": null,
   "metadata": {},
   "outputs": [],
   "source": []
  },
  {
   "cell_type": "code",
   "execution_count": null,
   "metadata": {},
   "outputs": [],
   "source": []
  }
 ],
 "metadata": {
  "kernelspec": {
   "display_name": "Python 3",
   "language": "python",
   "name": "python3"
  },
  "language_info": {
   "codemirror_mode": {
    "name": "ipython",
    "version": 3
   },
   "file_extension": ".py",
   "mimetype": "text/x-python",
   "name": "python",
   "nbconvert_exporter": "python",
   "pygments_lexer": "ipython3",
   "version": "3.7.4"
  }
 },
 "nbformat": 4,
 "nbformat_minor": 2
}
