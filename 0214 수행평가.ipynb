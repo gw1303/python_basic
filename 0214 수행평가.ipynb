{
 "cells": [
  {
   "cell_type": "code",
   "execution_count": 2,
   "metadata": {},
   "outputs": [],
   "source": [
    "import pandas as pd\n",
    "import numpy as np\n",
    "\n",
    "from numpy import NaN,nan,NAN\n",
    "from pandas import DataFrame, Series\n",
    "\n",
    "import warnings\n",
    "warnings.filterwarnings(action='ignore')"
   ]
  },
  {
   "cell_type": "markdown",
   "metadata": {},
   "source": [
    "[실습 예제 1]\n",
    "1. gapminder = pd.read_csv('../data/gapminder.tsv', sep='\\t') \n",
    "위 코드를 수행한 후, \n",
    "gapmider 변수에 저장된 컬럼 중 'year' 컬럼을 기준으로 'lifeExp' 컬럼값에 대한 평균을 구하고자 한다.\n",
    "코드를 기술하시오.\n",
    "2. kmeans와 knn 알고리즘에 대해 설명하고, 적용되는 분야를 기술하시오.(자유롭게)\n",
    "3. 베이즈 이론을 기반으로 베이지안 필터기가 만들어지는 과정을 기술하시오.(자유롭게"
   ]
  },
  {
   "cell_type": "code",
   "execution_count": 9,
   "metadata": {},
   "outputs": [
    {
     "ename": "IndentationError",
     "evalue": "unexpected indent (<ipython-input-9-32664f60d8c7>, line 6)",
     "output_type": "error",
     "traceback": [
      "\u001b[1;36m  File \u001b[1;32m\"<ipython-input-9-32664f60d8c7>\"\u001b[1;36m, line \u001b[1;32m6\u001b[0m\n\u001b[1;33m    kmeans알고리즘은 비지도학습으로 값들이 비슷한 것 끼리 군집화하는 알고리즘이다. 예를들어 iris의 수치 값들을 줬을 때 수치들이 비슷한 데이터끼리\u001b[0m\n\u001b[1;37m    ^\u001b[0m\n\u001b[1;31mIndentationError\u001b[0m\u001b[1;31m:\u001b[0m unexpected indent\n"
     ]
    }
   ],
   "source": [
    "# 1\n",
    "import pandas as pd\n",
    "\n",
    "gapminder = pd.read_csv('gapminder.tsv', sep='\\t') \n",
    "gapminder.groupby('year')['lifeExp'].mean()\n",
    "\n",
    "# 2\n",
    "  kmeans알고리즘은 비지도학습으로 값들이 비슷한 것 끼리 군집화하는 알고리즘이다. 예를들어 iris의 수치 값들을 줬을 때 수치들이 비슷한 데이터끼리\n",
    "비슷한 좌표에 찍히게 되면서 여러 데이터들이 보이게된다. k값을 지정하여 몇 개의 군집으로 모을 것인지를 정하면, 군집의 중심점과 데이터 사이의\n",
    "평균을 구해 그 평균이 가까운 값끼리 군집을 형성하게 된다. 이를 통해 새로운 데이터가 들어오면 군집의 중심점과 평균을 구해 그 데이터의 수치가 \n",
    "어떠한 군집에 속하는지를 알아 볼 수 있는 알고리즘이다.\n",
    "  k-means 알고리즘은 고객 data를 이용한 타겟 마케팅, 무단 네트워크 침입확인 등과 내가 좋아하는 영화를 좋아하는 다른 사람들의 추천 영화를 소개해\n",
    "주는 시스템 등에 이용된다.\n",
    "  knn알고리즘은 데이터들을 나눈다는점은 kmeans 알고리즘과 비슷하다. 하지만 레이블이 없던 kmeans와 달리 knn은 레이블을 주어주고 새로 입력되는\n",
    "값이 어떤 레이블에 속할지 '분류'해주는 알고리즘이다. knn의 작동원리는 새로운 데이터가 들어오면 기존에 가지고 있던 데이터와의 유클리드 거리를 측정\n",
    "한다. 그 후 정해준 k값에 따라 거리가 가장 짧은 k개 안에서 제일 많이 나온 레이블로 분류하는 방식이다.\n",
    " knn알고리즘은 얼굴인식, 숫자인식, 추천시스템, 유전자 데이터패턴 인식등에 사용된다. 우리가 영상을 시청했다면 그 영상을 본 다른 사람들이 시청한\n",
    "영상을 추천해주는 알고리즘을 생각하면 될 것이다.\n",
    "\n",
    "# 3\n",
    "  베이즈이론이란 사건에 대해 사전확률을 상정하고 이를 통해 사후확률을 추론할 수 있다는 이론이다. 자연어처리에서 베이즈이론을 적용해 베이지안 필터기\n",
    "를 만들어 이용할 수 있다. 스팸메일과 햄메일을 분류할 때 '특정 단어들이 많이 들어있으면 스팸메일 일 것이다.'라는 점을 이용해 새로운 메일이 오면\n",
    "전에 와있던 스팸메일과 단어들을 비교해 스팸메일에서 많이 발견되는 단어들이 있다면 스팸메일로 분류할 수 있다. "
   ]
  },
  {
   "cell_type": "code",
   "execution_count": null,
   "metadata": {},
   "outputs": [],
   "source": []
  },
  {
   "cell_type": "code",
   "execution_count": null,
   "metadata": {},
   "outputs": [],
   "source": []
  },
  {
   "cell_type": "code",
   "execution_count": null,
   "metadata": {},
   "outputs": [],
   "source": []
  },
  {
   "cell_type": "code",
   "execution_count": null,
   "metadata": {},
   "outputs": [],
   "source": []
  },
  {
   "cell_type": "code",
   "execution_count": null,
   "metadata": {},
   "outputs": [],
   "source": []
  },
  {
   "cell_type": "code",
   "execution_count": null,
   "metadata": {},
   "outputs": [],
   "source": []
  },
  {
   "cell_type": "code",
   "execution_count": null,
   "metadata": {},
   "outputs": [],
   "source": []
  },
  {
   "cell_type": "code",
   "execution_count": null,
   "metadata": {},
   "outputs": [],
   "source": []
  }
 ],
 "metadata": {
  "kernelspec": {
   "display_name": "Python 3",
   "language": "python",
   "name": "python3"
  },
  "language_info": {
   "codemirror_mode": {
    "name": "ipython",
    "version": 3
   },
   "file_extension": ".py",
   "mimetype": "text/x-python",
   "name": "python",
   "nbconvert_exporter": "python",
   "pygments_lexer": "ipython3",
   "version": "3.7.4"
  }
 },
 "nbformat": 4,
 "nbformat_minor": 2
}
