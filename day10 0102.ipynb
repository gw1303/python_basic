{
 "cells": [
  {
   "cell_type": "markdown",
   "metadata": {},
   "source": [
    "# BeautifulSoup"
   ]
  },
  {
   "cell_type": "code",
   "execution_count": 2,
   "metadata": {},
   "outputs": [],
   "source": [
    "from bs4 import BeautifulSoup"
   ]
  },
  {
   "cell_type": "code",
   "execution_count": 5,
   "metadata": {},
   "outputs": [],
   "source": [
    "html = '''\n",
    "<html>\n",
    "<body>\n",
    "<h1>스크래핑</h1>\n",
    "<p>웹 페이지 분석</p>\n",
    "<p>원하는 부분 추출</p>\n",
    "</body>\n",
    "</html>\n",
    "'''\n",
    "\n",
    "# html 문서 분석\n",
    "soup = BeautifulSoup(html,'html.parser')  # (문서, '분석기 종류')"
   ]
  },
  {
   "cell_type": "code",
   "execution_count": 25,
   "metadata": {},
   "outputs": [],
   "source": [
    "h1 = soup.body.h1\n",
    "p1 = soup.body.p  # 가장 처음으로 만나는 p태그만 참조\n",
    "p2 = p1.next_sibling.next_sibling  # p1 -> 엔터문자 -> 다음 형제태그"
   ]
  },
  {
   "cell_type": "code",
   "execution_count": 29,
   "metadata": {},
   "outputs": [
    {
     "name": "stdout",
     "output_type": "stream",
     "text": [
      "<h1>스크래핑</h1>\n",
      "스크래핑\n"
     ]
    }
   ],
   "source": [
    "print(h1)  # 태그까지 같이 출력\n",
    "print(h1.string)  # 태그 안의 문자열만 출력"
   ]
  },
  {
   "cell_type": "markdown",
   "metadata": {},
   "source": [
    "# find() : 아이디를 이용하여 직접 접근"
   ]
  },
  {
   "cell_type": "code",
   "execution_count": 32,
   "metadata": {},
   "outputs": [],
   "source": [
    "html = '''\n",
    "<html>\n",
    "<body>\n",
    "<h1 id='title'>스크래핑</h1>\n",
    "<p id='body'>웹 페이지 분석</p>\n",
    "<p>원하는 부분 추출</p>\n",
    "</body>\n",
    "</html>\n",
    "'''\n",
    "\n",
    "# html 문서 분석\n",
    "soup = BeautifulSoup(html,'html.parser')  # (문서, '분석기 종류')"
   ]
  },
  {
   "cell_type": "code",
   "execution_count": 37,
   "metadata": {},
   "outputs": [
    {
     "name": "stdout",
     "output_type": "stream",
     "text": [
      "title =  스크래핑\n",
      "body =  웹 페이지 분석\n"
     ]
    }
   ],
   "source": [
    "title = soup.find(id ='title')\n",
    "body = soup.find(id ='body')\n",
    "print('title = ',title.string)\n",
    "print('body = ',body.string)"
   ]
  },
  {
   "cell_type": "markdown",
   "metadata": {},
   "source": [
    "# findall() 여러개의 태그를 한 번에 추출"
   ]
  },
  {
   "cell_type": "code",
   "execution_count": 38,
   "metadata": {},
   "outputs": [],
   "source": [
    "html = '''\n",
    "<html>\n",
    "<body>\n",
    "<ul>\n",
    "<li><a href = 'http://www.naver.com'>naver</a></li>\n",
    "<li><a href = 'http://www.daum.net'>daum</a></li>\n",
    "</ul>\n",
    "</body>\n",
    "</html>\n",
    "'''\n",
    "\n",
    "# html 문서 분석\n",
    "soup = BeautifulSoup(html,'html.parser')  # (문서, '분석기 종류')"
   ]
  },
  {
   "cell_type": "code",
   "execution_count": 49,
   "metadata": {},
   "outputs": [
    {
     "name": "stdout",
     "output_type": "stream",
     "text": [
      "naver -> http://www.naver.com\n",
      "daum -> http://www.daum.net\n"
     ]
    }
   ],
   "source": [
    "links = soup.find_all('a')\n",
    "\n",
    "for a in links:\n",
    "#     if 'href' in a.attrs:\n",
    "    href = a.attrs['href']\n",
    "    text = a.string\n",
    "    print(text, '->', href)\n",
    "#     print(href)"
   ]
  },
  {
   "cell_type": "markdown",
   "metadata": {},
   "source": [
    "# 기상예보에서 특정 내용 추출"
   ]
  },
  {
   "cell_type": "code",
   "execution_count": 52,
   "metadata": {},
   "outputs": [],
   "source": [
    "import urllib.request as req"
   ]
  },
  {
   "cell_type": "code",
   "execution_count": 69,
   "metadata": {},
   "outputs": [
    {
     "data": {
      "text/plain": [
       "'기압골의 영향으로 6일부터 8일 사이에 전국에 비 또는 눈이 오겠고, 제주도는 10~11일에도 비가 오겠습니다. <br />한편, 동풍의 영향으로 9일은 강원영동에 비 또는 눈이 오겠습니다. 그 밖의 날은 고기압의 가장자리에 들어 가끔 구름많겠습니다.<br />기온은 평년(최저기온: -12~0℃, 최고기온: 0~8℃)보다 높겠습니다.<br />강수량은 평년(0~3mm)보다 많겠습니다.'"
      ]
     },
     "execution_count": 69,
     "metadata": {},
     "output_type": "execute_result"
    }
   ],
   "source": [
    "url = 'http://www.kma.go.kr/weather/forecast/mid-term-rss3.jsp'\n",
    "res = req.urlopen(url)\n",
    "soup = BeautifulSoup(res,'html.parser')\n",
    "\n",
    "title = soup.find('title').string\n",
    "wf = soup.find('wf').string\n",
    "wf\n",
    "# 영문, 숫자, 특수문자 모두 제거(한글 제외)\n",
    "\n"
   ]
  },
  {
   "cell_type": "markdown",
   "metadata": {},
   "source": [
    "# css 선택자 사용하기\n",
    "선택자 : 개발자도구 -> 객체선택 -> copy selector\n",
    "soup.select_one(선택자) : 선택자로 지정된 요소 하나를 추출\n",
    "soup.select(선택자) : 선택자로 지정된 요소 여러개를 추출"
   ]
  },
  {
   "cell_type": "code",
   "execution_count": 114,
   "metadata": {},
   "outputs": [
    {
     "name": "stdout",
     "output_type": "stream",
     "text": [
      "<h1>2020년</h1>\n",
      "\n",
      "2021년\n",
      "월요일\n",
      "화요일\n",
      "수요일\n",
      "\n",
      "목요일\n",
      "금요일\n",
      "토요일\n"
     ]
    }
   ],
   "source": [
    "html='''\n",
    "<html>\n",
    "    <body>\n",
    "        <div id='myid'>\n",
    "            <h1>2020년</h1>\n",
    "            <ul class='day'>\n",
    "                <li>월요일</li>\n",
    "                <li>화요일</li>\n",
    "                <li>수요일</li>\n",
    "            </ul>\n",
    "        </div>\n",
    "        <div id='myid2'>\n",
    "            <h1>2021년</h1>\n",
    "            <ul class='day'>\n",
    "                <li>목요일</li>\n",
    "                <li>금요일</li>\n",
    "                <li>토요일</li>\n",
    "            </ul>\n",
    "        </div>\n",
    "    </body>\n",
    "</html>\n",
    "'''\n",
    "\n",
    "soup = BeautifulSoup(html,'html.parser')\n",
    "print(soup.select_one('h1'))  # h1 태그가 하나일 경우에는 문제없이 출력\n",
    "print('')\n",
    "\n",
    "# id를 지정해 줄 때는 #\n",
    "print(soup.select_one('div#myid2 > h1').string)\n",
    "# print(soup.select_one('div#myid2 h1'))\n",
    "\n",
    "# class를 지정해 줄 때는 .\n",
    "myList = soup.select('div#myid > ul.day > li')\n",
    "myList2 = soup.select('div#myid2 > ul.day > li')\n",
    "for i in myList:\n",
    "    print(i.string)\n",
    "print('')   \n",
    "for i in myList2:\n",
    "    print(i.string)"
   ]
  },
  {
   "cell_type": "code",
   "execution_count": null,
   "metadata": {},
   "outputs": [],
   "source": [
    "#quote-header-info > div.My\\(6px\\).Pos\\(r\\).smartphone_Mt\\(6px\\) > div > div > span.Trsdu\\(0\\.3s\\).Fw\\(b\\).Fz\\(36px\\).Mb\\(-4px\\).D\\(ib\\)"
   ]
  },
  {
   "cell_type": "code",
   "execution_count": 161,
   "metadata": {},
   "outputs": [
    {
     "name": "stdout",
     "output_type": "stream",
     "text": [
      "KSE - KSE Delayed Price. Currency in KRW\n"
     ]
    }
   ],
   "source": [
    "import urllib.request as req\n",
    "from bs4 import BeautifulSoup\n",
    "\n",
    "url = 'https://finance.yahoo.com/quote/005930.KS?p=005930.KS&.tsrc=fin-srch'\n",
    "\n",
    "res = req.urlopen(url)\n",
    "soup = BeautifulSoup(res,'html.parser')\n",
    "samsung = soup.select_one('#quote-header-info > div > div > div > span') \n",
    "print(samsung.string)"
   ]
  },
  {
   "cell_type": "code",
   "execution_count": 155,
   "metadata": {},
   "outputs": [],
   "source": [
    "soup = soup.select('#quote-header-info > div')[2]"
   ]
  },
  {
   "cell_type": "code",
   "execution_count": 158,
   "metadata": {},
   "outputs": [
    {
     "data": {
      "text/plain": [
       "'55,400.00'"
      ]
     },
     "execution_count": 158,
     "metadata": {},
     "output_type": "execute_result"
    }
   ],
   "source": [
    "soup.select_one('div > span').string"
   ]
  },
  {
   "cell_type": "code",
   "execution_count": 200,
   "metadata": {},
   "outputs": [
    {
     "data": {
      "text/plain": [
       "['하늘과 바람과 별과 시 (증보판)',\n",
       " '서시',\n",
       " '자화상',\n",
       " '소년',\n",
       " '눈 오는 지도',\n",
       " '돌아와 보는 밤',\n",
       " '병원',\n",
       " '새로운 길',\n",
       " '간판 없는 거리',\n",
       " '태초의 아침',\n",
       " '또 태초의 아침',\n",
       " '새벽이 올 때까지',\n",
       " '무서운 시간',\n",
       " '십자가',\n",
       " '바람이 불어',\n",
       " '슬픈 족속',\n",
       " '눈감고 간다',\n",
       " '또 다른 고향',\n",
       " '길',\n",
       " '별 헤는 밤']"
      ]
     },
     "execution_count": 200,
     "metadata": {},
     "output_type": "execute_result"
    }
   ],
   "source": [
    "import urllib.request as req\n",
    "from bs4 import BeautifulSoup\n",
    "\n",
    "url = 'https://ko.wikisource.org/wiki/%EC%A0%80%EC%9E%90:%EC%9C%A4%EB%8F%99%EC%A3%BC'\n",
    "\n",
    "res = req.urlopen(url)\n",
    "soup = BeautifulSoup(res,'html.parser')\n",
    "\n",
    "res2 = soup.select('#mw-content-text > div > ul:nth-child(6) > li')\n",
    "resList=[]\n",
    "\n",
    "for i in res2:\n",
    "    resList=i.get_text().split('\\n')\n",
    "resList"
   ]
  },
  {
   "cell_type": "code",
   "execution_count": 192,
   "metadata": {},
   "outputs": [
    {
     "data": {
      "text/plain": [
       "['하늘과 바람과 별과 시',\n",
       " '증보판',\n",
       " '서시',\n",
       " '자화상',\n",
       " '소년',\n",
       " '눈 오는 지도',\n",
       " '돌아와 보는 밤',\n",
       " '병원',\n",
       " '새로운 길',\n",
       " '간판 없는 거리',\n",
       " '태초의 아침',\n",
       " '또 태초의 아침',\n",
       " '새벽이 올 때까지',\n",
       " '무서운 시간',\n",
       " '십자가',\n",
       " '바람이 불어',\n",
       " '슬픈 족속',\n",
       " '눈감고 간다',\n",
       " '또 다른 고향',\n",
       " '길',\n",
       " '별 헤는 밤']"
      ]
     },
     "execution_count": 192,
     "metadata": {},
     "output_type": "execute_result"
    }
   ],
   "source": [
    "import urllib.request as req\n",
    "from bs4 import BeautifulSoup\n",
    "\n",
    "url = 'https://ko.wikisource.org/wiki/%EC%A0%80%EC%9E%90:%EC%9C%A4%EB%8F%99%EC%A3%BC'\n",
    "\n",
    "res = req.urlopen(url)\n",
    "soup = BeautifulSoup(res,'html.parser')\n",
    "\n",
    "res2 = soup.select('#mw-content-text > div > ul:nth-child(6) > li a')\n",
    "resList=[]\n",
    "\n",
    "for i in res2:\n",
    "    resList.append(i.string)\n",
    "resList"
   ]
  },
  {
   "cell_type": "code",
   "execution_count": 196,
   "metadata": {},
   "outputs": [
    {
     "data": {
      "text/plain": [
       "['서시',\n",
       " '자화상',\n",
       " '소년',\n",
       " '눈 오는 지도',\n",
       " '돌아와 보는 밤',\n",
       " '병원',\n",
       " '새로운 길',\n",
       " '간판 없는 거리',\n",
       " '태초의 아침',\n",
       " '또 태초의 아침',\n",
       " '새벽이 올 때까지',\n",
       " '무서운 시간',\n",
       " '십자가',\n",
       " '바람이 불어',\n",
       " '슬픈 족속',\n",
       " '눈감고 간다',\n",
       " '또 다른 고향',\n",
       " '길',\n",
       " '별 헤는 밤']"
      ]
     },
     "execution_count": 196,
     "metadata": {},
     "output_type": "execute_result"
    }
   ],
   "source": [
    "import urllib.request as req\n",
    "from bs4 import BeautifulSoup\n",
    "\n",
    "url = 'https://ko.wikisource.org/wiki/%EC%A0%80%EC%9E%90:%EC%9C%A4%EB%8F%99%EC%A3%BC'\n",
    "\n",
    "res = req.urlopen(url)\n",
    "soup = BeautifulSoup(res,'html.parser')\n",
    "\n",
    "res2 = soup.select('#mw-content-text > div > ul:nth-child(6) > li > ul')\n",
    "resList=[]\n",
    "\n",
    "for i in res2:\n",
    "    resList=i.get_text().split('\\n')\n",
    "resList"
   ]
  },
  {
   "cell_type": "code",
   "execution_count": 215,
   "metadata": {},
   "outputs": [
    {
     "data": {
      "text/plain": [
       "['서시',\n",
       " '자화상',\n",
       " '소년',\n",
       " '눈 오는 지도',\n",
       " '돌아와 보는 밤',\n",
       " '병원',\n",
       " '새로운 길',\n",
       " '간판 없는 거리',\n",
       " '태초의 아침',\n",
       " '또 태초의 아침',\n",
       " '새벽이 올 때까지',\n",
       " '무서운 시간',\n",
       " '십자가',\n",
       " '바람이 불어',\n",
       " '슬픈 족속',\n",
       " '눈감고 간다',\n",
       " '또 다른 고향',\n",
       " '길',\n",
       " '별 헤는 밤']"
      ]
     },
     "execution_count": 215,
     "metadata": {},
     "output_type": "execute_result"
    }
   ],
   "source": [
    "res = soup.select('#mw-content-text > div > ul > li > ul a')\n",
    "resList=[]\n",
    "for i in res:\n",
    "    resList.append(i.string)\n",
    "resList"
   ]
  },
  {
   "cell_type": "markdown",
   "metadata": {},
   "source": [
    "# css 다양한 추출 방법"
   ]
  },
  {
   "cell_type": "code",
   "execution_count": 234,
   "metadata": {},
   "outputs": [],
   "source": [
    "html = '''\n",
    "<ul id='language'>\n",
    "    <li id='bas'>Basic</li>\n",
    "    <li id='cpp'>c++</li>\n",
    "    <li id='ja'>Java</li>\n",
    "    <li id='py'>Python</li>\n",
    "    <li id='sp'>Spark</li>\n",
    "</ul>\n",
    "'''"
   ]
  },
  {
   "cell_type": "code",
   "execution_count": 258,
   "metadata": {},
   "outputs": [
    {
     "name": "stdout",
     "output_type": "stream",
     "text": [
      "Python\n",
      "Python\n",
      "Python\n",
      "Python\n",
      "Python\n",
      "Python\n",
      "Python\n",
      "Python\n",
      "Python\n",
      "Python\n",
      "Python\n",
      "Python\n"
     ]
    }
   ],
   "source": [
    "sel = BeautifulSoup(html,'html.parser')\n",
    "\n",
    "print(sel.select_one('#py').string)\n",
    "myFunc = lambda arg:print(sel.select_one(arg).string)\n",
    "myFunc('#py')\n",
    "myFunc('li#py')\n",
    "myFunc('ul > li#py')\n",
    "myFunc('#language #py')  # id로 접근\n",
    "myFunc('#language > #py')\n",
    "myFunc('ul#language > li#py')\n",
    "myFunc('ul#language li#py')\n",
    "myFunc('li[id = \"py\"]')\n",
    "myFunc('li:nth-of-type(4)')\n",
    "print(sel.select('li')[3].string)\n",
    "print(sel.find_all('li')[3].string)"
   ]
  },
  {
   "cell_type": "code",
   "execution_count": 281,
   "metadata": {},
   "outputs": [
    {
     "data": {
      "text/plain": [
       "<!DOCTYPE html>\n",
       "\n",
       "<html lang=\"en\">\n",
       "<head>\n",
       "<meta charset=\"utf-8\"/>\n",
       "<title>Title</title>\n",
       "</head>\n",
       "<body>\n",
       "<div id=\"main-goods\" role=\"page\">\n",
       "<h1>과일과 야채</h1>\n",
       "<ul id=\"fr\">\n",
       "<li class=\"red green\" data-lo=\"ko\">사과</li>\n",
       "<li class=\"purple\" data-lo=\"us\">포도</li>\n",
       "<li class=\"yellow\" data-lo=\"us\">레몬</li>\n",
       "<li class=\"yellow\" data-lo=\"ko\">오렌지</li>\n",
       "</ul>\n",
       "<ul id=\"ve\">\n",
       "<li class=\"white green\" data-lo=\"ko\">무</li>\n",
       "<li class=\"red green\" data-lo=\"us\">파프리카</li>\n",
       "<li class=\"black\" data-lo=\"ko\">가지</li>\n",
       "<li class=\"black\" data-lo=\"us\">아보카도</li>\n",
       "<li class=\"white\" data-lo=\"cn\">연근</li>\n",
       "</ul>\n",
       "</div>\n",
       "</body>\n",
       "</html>"
      ]
     },
     "execution_count": 281,
     "metadata": {},
     "output_type": "execute_result"
    }
   ],
   "source": [
    "with open('fru-veg.html','r',encoding='utf-8') as f:\n",
    "    soup = BeautifulSoup(f,'html.parser')\n",
    "    \n",
    "soup"
   ]
  },
  {
   "cell_type": "code",
   "execution_count": 311,
   "metadata": {},
   "outputs": [
    {
     "name": "stdout",
     "output_type": "stream",
     "text": [
      "아보카도\n",
      "아보카도\n",
      "아보카도\n",
      "아보카도\n",
      "아보카도\n",
      "아보카도\n"
     ]
    }
   ],
   "source": [
    "# 아보카도 추출하기\n",
    "print(soup.select_one('ul#ve li:nth-of-type(4)').string)\n",
    "print(soup.select('ul#ve > li[data-lo=us]')[1].string)\n",
    "print(soup.select('#ve > li')[3].string)\n",
    "print(soup.select('#ve > li.black')[1].string)\n",
    "\n",
    "# find 메서드\n",
    "cond = {'data-lo':'us', 'class':'black'}\n",
    "print(soup.find('li',cond).string)\n",
    "print(soup.find(id='ve').find('li',cond).string)"
   ]
  },
  {
   "cell_type": "code",
   "execution_count": 318,
   "metadata": {},
   "outputs": [],
   "source": [
    "# 정규표현식과 함께 데이터 추출\n",
    "html = '''\n",
    "<li><a href='test.html'>test</li>\n",
    "<li><a href='https://test.html'>test2</li>\n",
    "<li><a href='https://test.html'>test3</li>\n",
    "<li><a href='http://test.html'>test4</li>\n",
    "'''"
   ]
  },
  {
   "cell_type": "code",
   "execution_count": 322,
   "metadata": {},
   "outputs": [
    {
     "name": "stdout",
     "output_type": "stream",
     "text": [
      "[<a href=\"https://test.html\">test2</a>, <a href=\"https://test.html\">test3</a>]\n"
     ]
    }
   ],
   "source": [
    "import re\n",
    "soup = BeautifulSoup(html,'html.parser')\n",
    "li = soup.find_all(href=re.compile('https://'))\n",
    "print(li)"
   ]
  },
  {
   "cell_type": "code",
   "execution_count": 344,
   "metadata": {},
   "outputs": [],
   "source": [
    "# 1\n",
    "class Point:\n",
    "    def __init__(self,x,y):\n",
    "        self.x = x\n",
    "        self.y = y\n",
    "    def setx(self,x):\n",
    "        self.x = x\n",
    "    def sety(self,y):\n",
    "        self.y = y\n",
    "    def get(self):\n",
    "        return(self.x,self.y)\n",
    "    def move(self,dx,dy):\n",
    "        self.x += dx\n",
    "        self.y += dy\n",
    "        return(self.x,self.y)"
   ]
  },
  {
   "cell_type": "code",
   "execution_count": 345,
   "metadata": {},
   "outputs": [
    {
     "name": "stdout",
     "output_type": "stream",
     "text": [
      "(3, 2)\n",
      "(0, 0)\n"
     ]
    }
   ],
   "source": [
    "# 2\n",
    "p = Point(3,2)\n",
    "print(p.get())\n",
    "print(p.move(-3,-2))"
   ]
  },
  {
   "cell_type": "code",
   "execution_count": 341,
   "metadata": {},
   "outputs": [
    {
     "name": "stdout",
     "output_type": "stream",
     "text": [
      "kospi\n",
      "kospi\n"
     ]
    }
   ],
   "source": [
    "# 3 \n",
    "class Stock:\n",
    "    market = 'kospi'\n",
    "a = Stock()\n",
    "b = Stock()\n",
    "\n",
    "print(a.market)\n",
    "print(b.market)"
   ]
  },
  {
   "cell_type": "code",
   "execution_count": 342,
   "metadata": {},
   "outputs": [
    {
     "name": "stdout",
     "output_type": "stream",
     "text": [
      "kospi\n",
      "kospi\n",
      "kospi\n",
      "kosdaq\n",
      "nasdaq\n",
      "kospi\n"
     ]
    }
   ],
   "source": [
    "print(a.market)\n",
    "print(b.market)\n",
    "print(Stock.market)\n",
    "a.market = \"kosdaq\"\n",
    "b.market = \"nasdaq\"\n",
    "print(a.market)\n",
    "print(b.market)\n",
    "print(Stock.market)"
   ]
  },
  {
   "cell_type": "code",
   "execution_count": 360,
   "metadata": {},
   "outputs": [],
   "source": [
    "# 3 \n",
    "with open('number.txt','w+') as f:\n",
    "    for i in range(1,11):\n",
    "        f.write('%d번째 줄입니다.\\n' %i)"
   ]
  },
  {
   "cell_type": "code",
   "execution_count": 365,
   "metadata": {},
   "outputs": [
    {
     "name": "stdout",
     "output_type": "stream",
     "text": [
      "C:\\Users\\student\\Desktop\\TIL\\Deeplearning\\coffeeMachine 1227.ipynb\n",
      "C:\\Users\\student\\Desktop\\TIL\\Deeplearning\\day1 1217.md\n",
      "C:\\Users\\student\\Desktop\\TIL\\Deeplearning\\day1.ipynb\n",
      "C:\\Users\\student\\Desktop\\TIL\\Deeplearning\\day10 0102.ipynb\n",
      "C:\\Users\\student\\Desktop\\TIL\\Deeplearning\\day2 1218.md\n",
      "C:\\Users\\student\\Desktop\\TIL\\Deeplearning\\day2.ipynb\n",
      "C:\\Users\\student\\Desktop\\TIL\\Deeplearning\\day3 1219.ipynb\n",
      "C:\\Users\\student\\Desktop\\TIL\\Deeplearning\\day3 1219.md\n",
      "C:\\Users\\student\\Desktop\\TIL\\Deeplearning\\day4 1220.ipynb\n",
      "C:\\Users\\student\\Desktop\\TIL\\Deeplearning\\day4 1220.md\n",
      "C:\\Users\\student\\Desktop\\TIL\\Deeplearning\\day5 1224.ipynb\n",
      "C:\\Users\\student\\Desktop\\TIL\\Deeplearning\\day5 1224.md\n",
      "C:\\Users\\student\\Desktop\\TIL\\Deeplearning\\Day6 1226.ipynb\n",
      "C:\\Users\\student\\Desktop\\TIL\\Deeplearning\\day6 1226.md\n",
      "C:\\Users\\student\\Desktop\\TIL\\Deeplearning\\day7 1227.ipynb\n",
      "C:\\Users\\student\\Desktop\\TIL\\Deeplearning\\day8 1230.ipynb\n",
      "C:\\Users\\student\\Desktop\\TIL\\Deeplearning\\day9 1231.ipynb\n",
      "C:\\Users\\student\\Desktop\\TIL\\Deeplearning\\day9 homework.ipynb\n",
      "C:\\Users\\student\\Desktop\\TIL\\Deeplearning\\fru-veg.html\n",
      "C:\\Users\\student\\Desktop\\TIL\\Deeplearning\\images\n",
      "C:\\Users\\student\\Desktop\\TIL\\Deeplearning\\newFile.txt\n",
      "C:\\Users\\student\\Desktop\\TIL\\Deeplearning\\newFile2.txt\n",
      "C:\\Users\\student\\Desktop\\TIL\\Deeplearning\\number.txt\n",
      "C:\\Users\\student\\Desktop\\TIL\\Deeplearning\\test.png\n",
      "C:\\Users\\student\\Desktop\\TIL\\Deeplearning\\test.txt\n",
      "C:\\Users\\student\\Desktop\\TIL\\Deeplearning\\test2.png\n",
      "C:\\Users\\student\\Desktop\\TIL\\Deeplearning\\test2.txt\n",
      "C:\\Users\\student\\Desktop\\TIL\\Deeplearning\\tozi.txt\n",
      "C:\\Users\\student\\Desktop\\TIL\\Deeplearning\\특강 1223.md\n",
      "C:\\Users\\student\\Desktop\\TIL\\Deeplearning\\틀.md\n"
     ]
    }
   ],
   "source": [
    "# 4\n",
    "def find_file_list(path):\n",
    "    import glob\n",
    "    res = glob.glob('%s/*' %path)\n",
    "    for i in res:\n",
    "        print(i)\n",
    "find_file_list('C:\\\\Users\\student\\Desktop\\TIL\\Deeplearning')"
   ]
  },
  {
   "cell_type": "code",
   "execution_count": 502,
   "metadata": {},
   "outputs": [
    {
     "name": "stdout",
     "output_type": "stream",
     "text": [
      "KBS1 《마돈나여 광야에서 별을 노래하라》 제2부 〈하늘과 바람과 별과 시〉 - 영상시극, 1984년 12월 22일(방영시간 120분)[24]\n",
      "KBS1 《영상기행3.1절 — 민족시인 尹東柱》, 1988년 3월 1일(방영시간 60분)[25]\n",
      "NHK 《NHK스페셜》 〈하늘과 바람과 별과 詩, 尹東柱, 일본통치하의 청춘과 죽음〉, 1995년 3월 11일(방영시간 60분)[26]\n",
      "EBS《지식채널e》하늘과 바람과 별과 시 1부: 별 (2006년 7월 31일 방영), 2부: 시 (2006년 8월 7일 방영)\n",
      "KBS《해피선데이 - 1박 2일》백두산 탐방 특집 윤동주 생가 방문 (2008년 6~7월)\n",
      "SBS《그것이 알고싶다》윤동주 그 죽음의 미스터리, 후쿠오카 형무소에선 무슨 일이 있었나 (2009년 8월 15일)\n",
      "MBC《MBC스페셜》가을, 윤동주 생각 (2011년 11월 4일)\n",
      "KBS1 《KBS공사창립특집》 불멸의 청년, 윤동주 (2016년 3월 6일)\n",
      "1984년 12월 22일\n",
      "1988년 3월 1일\n",
      "1995년 3월 11일\n",
      "2006년 7월 31일\n",
      "2009년 8월 15일\n",
      "2011년 11월 4일\n",
      "2016년 3월 6일\n"
     ]
    }
   ],
   "source": [
    "# 5\n",
    "from bs4 import BeautifulSoup\n",
    "import urllib.request as req\n",
    "import re\n",
    "\n",
    "url = 'https://ko.wikipedia.org/wiki/%EC%9C%A4%EB%8F%99%EC%A3%BC'\n",
    "openurl = req.urlopen(url)\n",
    "soup = BeautifulSoup(openurl,'html.parser')\n",
    "\n",
    "li_res = soup.select_one('#mw-content-text > div > ul:nth-child(71) > li:nth-of-type(8)')\n",
    "li_res\n",
    "res=[]\n",
    "text_res=[]\n",
    "for i in range(1,9):\n",
    "    res.append(soup.select_one('#mw-content-text > div > ul:nth-child(71) > li:nth-of-type(%d)'%i))\n",
    "\n",
    "for i in res:\n",
    "    text_res.append(i.get_text())\n",
    "\n",
    "pat = re.compile('\\d+년 \\d+월 \\d+일')\n",
    "for i in text_res:\n",
    "    print(i)\n",
    "\n",
    "for i in range(len(text_res)):\n",
    "    if re.search(pat,text_res[i]) != None:\n",
    "        print(re.search(pat,text_res[i]).group())"
   ]
  },
  {
   "cell_type": "code",
   "execution_count": 497,
   "metadata": {},
   "outputs": [
    {
     "name": "stdout",
     "output_type": "stream",
     "text": [
      "기압골의 영향으로 일부터 일 사이에 전국에 비 또는 눈이 오겠고 제주도는 일에도 비가 오겠습니다  한편 동풍의 영향으로 일은 강원영동에 비 또는 눈이 오겠습니다 그 밖의 날은 고기압의 가장자리에 들어 가끔 구름많겠습니다 기온은 평년최저기온  최고기온 보다 높겠습니다 강수량은 평년보다 많겠습니다"
     ]
    }
   ],
   "source": [
    "# 6\n",
    "url = 'http://www.kma.go.kr/weather/forecast/mid-term-rss3.jsp'\n",
    "res = req.urlopen(url)\n",
    "soup = BeautifulSoup(res,'html.parser')\n",
    "\n",
    "title = soup.find('title').string\n",
    "wf = soup.find('wf').string\n",
    "# print(wf)\n",
    "res=re.findall('[^\\d</.>()-~℃]+',wf)\n",
    "for i in res:\n",
    "    print(i, end='')\n",
    "\n",
    "# 영문, 숫자, 특수문자 모두 제거(한글 제외)"
   ]
  }
 ],
 "metadata": {
  "kernelspec": {
   "display_name": "Python 3",
   "language": "python",
   "name": "python3"
  },
  "language_info": {
   "codemirror_mode": {
    "name": "ipython",
    "version": 3
   },
   "file_extension": ".py",
   "mimetype": "text/x-python",
   "name": "python",
   "nbconvert_exporter": "python",
   "pygments_lexer": "ipython3",
   "version": "3.7.4"
  }
 },
 "nbformat": 4,
 "nbformat_minor": 2
}
