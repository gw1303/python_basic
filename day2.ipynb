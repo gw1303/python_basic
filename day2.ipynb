{
 "cells": [
  {
   "cell_type": "code",
   "execution_count": 2,
   "metadata": {},
   "outputs": [],
   "source": [
    "# 빈 변수\n",
    "x = None # 변수는 만들어졌지만 값은 들어있지 않은 상태 == null"
   ]
  },
  {
   "cell_type": "code",
   "execution_count": 3,
   "metadata": {},
   "outputs": [
    {
     "data": {
      "text/plain": [
       "20"
      ]
     },
     "execution_count": 3,
     "metadata": {},
     "output_type": "execute_result"
    }
   ],
   "source": [
    "x = 10\n",
    "x = x + 5\n",
    "x += 5  # 연산 속도면에서 위 수식보다 좋음\n",
    "# 계산은 CPU가, 저장은 RAM에\n",
    "x"
   ]
  },
  {
   "cell_type": "code",
   "execution_count": 4,
   "metadata": {},
   "outputs": [
    {
     "name": "stdout",
     "output_type": "stream",
     "text": [
      "ID : 1\n"
     ]
    }
   ],
   "source": [
    "#x = input()  # 입력을 유도하는 함수 -> 문자열 데이터로 저장\n",
    "x = input('ID : ')\n",
    "# x = int(input('ID : '))  int형식으로 받기"
   ]
  },
  {
   "cell_type": "code",
   "execution_count": 164,
   "metadata": {},
   "outputs": [
    {
     "name": "stdout",
     "output_type": "stream",
     "text": [
      "문자열 두 개 입력 : 5 10\n",
      "5\n",
      "10\n",
      "510\n"
     ]
    }
   ],
   "source": [
    "# input에서 여러개 입력 -> split함수\n",
    "x,y = input(\"문자열 두 개 입력 : \").split()  # 구분자가 공백 split(',')로 구분자 지정 가능\n",
    "print(x)\n",
    "print(y)\n",
    "print(x+y)  # 문자열 합치기로 인식됨"
   ]
  },
  {
   "cell_type": "code",
   "execution_count": 165,
   "metadata": {},
   "outputs": [
    {
     "name": "stdout",
     "output_type": "stream",
     "text": [
      "문자열 두 개 입력 : 5 10\n",
      "15\n"
     ]
    }
   ],
   "source": [
    "#print(type(input(\"문자열 두 개 입력 : \").split()))  # list타입\n",
    "\n",
    "x,y = map(int, input(\"문자열 두 개 입력 : \").split())\n",
    "print(x + y)\n",
    "# 형식 : map(함수, 데이터)"
   ]
  },
  {
   "cell_type": "code",
   "execution_count": 7,
   "metadata": {},
   "outputs": [
    {
     "name": "stdout",
     "output_type": "stream",
     "text": [
      "문자열 두 개 입력 : 10,2\n",
      "12\n"
     ]
    }
   ],
   "source": [
    "x,y = map(int, input(\"문자열 두 개 입력 : \").split(',')) # split(',')로 구분자 지정 가능\n",
    "print(x + y)"
   ]
  },
  {
   "cell_type": "code",
   "execution_count": 20,
   "metadata": {},
   "outputs": [
    {
     "name": "stdout",
     "output_type": "stream",
     "text": [
      "1 2 3 4\n",
      "hi hello\n",
      "1x2x3x4\n",
      "1\n",
      "2\n",
      "3\n",
      "4\n",
      "1\t2\t3\n",
      "1\n",
      "2\n",
      "3\n"
     ]
    }
   ],
   "source": [
    "print(1,2,3,4)\n",
    "print('hi','hello')\n",
    "print(1,2,3,4, sep='x')  # print속성으로 구분자 ','를 지정\n",
    "print(1,2,3,4, sep='\\n')  # \\n : 제어문자(화면에 출력 X) // 줄바꿈\n",
    "print('1\\t2\\t3')  # \\t : tab\n",
    "print('1\\n2\\n3')"
   ]
  },
  {
   "cell_type": "code",
   "execution_count": 25,
   "metadata": {},
   "outputs": [
    {
     "name": "stdout",
     "output_type": "stream",
     "text": [
      "1\u0002\n",
      "1\\2\n"
     ]
    }
   ],
   "source": [
    "print('1\\2')  # 역슬레시 자체만 출력 X\n",
    "print('1\\\\2')  # 두 개를 써야 역슬레시 출력"
   ]
  },
  {
   "cell_type": "code",
   "execution_count": 34,
   "metadata": {},
   "outputs": [
    {
     "name": "stdout",
     "output_type": "stream",
     "text": [
      "1 2 3\n",
      "1 2 3\n"
     ]
    }
   ],
   "source": [
    "print(1, end=' ')  # print함수 end default값은 \\n인데 이것을 바꿔는 것\n",
    "print(2, end=' ')\n",
    "print(3)\n",
    "print(1,2,3)"
   ]
  },
  {
   "cell_type": "code",
   "execution_count": 48,
   "metadata": {},
   "outputs": [
    {
     "data": {
      "text/plain": [
       "True"
      ]
     },
     "execution_count": 48,
     "metadata": {},
     "output_type": "execute_result"
    }
   ],
   "source": [
    "# True / False -> boolean(논리값) by 논리 연산자\n",
    "\n",
    "2>1\n",
    "2==1\n",
    "2!=1\n",
    "'test' == 'text'  # 텍스트도 가능\n",
    "'python' == 'Python'  # 대소문자 구분\n",
    "1 == 1.0  # 자동형변형때문에 TRUE\n",
    "1 is 1.0  # 객체 자체를 비교하기 때문에 FALSE\n",
    "1 is not 1.0"
   ]
  },
  {
   "cell_type": "code",
   "execution_count": 51,
   "metadata": {},
   "outputs": [
    {
     "name": "stdout",
     "output_type": "stream",
     "text": [
      "\n",
      "클래스 : 건축 설계도               // 붕어빵기계\n",
      "객체   : 건물                      // 붕어빵\n",
      "속성   : 건물의 특성(층, 평수 ...) // 내용물, 크기 ..\n",
      "메서드 : 건물의 동작               // 붕어빵의 동작\n",
      "상속   : 유사한 건물 설계시 기존 건축설계도의 재사용\n",
      "\n"
     ]
    }
   ],
   "source": [
    "print('''\n",
    "클래스 : 건축 설계도               // 붕어빵기계\n",
    "객체   : 건물                      // 붕어빵\n",
    "속성   : 건물의 특성(층, 평수 ...) // 내용물, 크기 ..\n",
    "메서드 : 건물의 동작               // 붕어빵의 동작\n",
    "상속   : 유사한 건물 설계시 기존 건축설계도의 재사용\n",
    "''')"
   ]
  },
  {
   "cell_type": "code",
   "execution_count": 62,
   "metadata": {},
   "outputs": [
    {
     "data": {
      "text/plain": [
       "True"
      ]
     },
     "execution_count": 62,
     "metadata": {},
     "output_type": "execute_result"
    }
   ],
   "source": [
    "# 논리연산 : and, or, not\n",
    "# and : 모두 참 => 참\n",
    "True and True\n",
    "True and False\n",
    "\n",
    "# or : 하나 이상 참 => 참\n",
    "True or True\n",
    "True or False\n",
    "False or False\n",
    "\n",
    "# not : 논리값을 반대로 뒤집는 연산자\n",
    "not(False or False)"
   ]
  },
  {
   "cell_type": "code",
   "execution_count": 71,
   "metadata": {},
   "outputs": [
    {
     "data": {
      "text/plain": [
       "True"
      ]
     },
     "execution_count": 71,
     "metadata": {},
     "output_type": "execute_result"
    }
   ],
   "source": [
    "1 == 1 and 10 != 9\n",
    "not 1 > 0  # not True => False\n",
    "not 1 is 1.0"
   ]
  },
  {
   "cell_type": "code",
   "execution_count": 88,
   "metadata": {},
   "outputs": [
    {
     "data": {
      "text/plain": [
       "False"
      ]
     },
     "execution_count": 88,
     "metadata": {},
     "output_type": "execute_result"
    }
   ],
   "source": [
    "# bool함수 : 정수, 실수, 문자열 => 불린타입 변환\n",
    "bool(-1)\n",
    "bool(0)\n",
    "bool(1)  # 정수 0을 제외한 나머지 True\n",
    "\n",
    "bool(3.14)\n",
    "bool(0.0)  # 실수 0.0을 제외한 나머지 True\n",
    "\n",
    "bool('hi')\n",
    "bool('')  # 빈 문자열을 제외한 나머지 True"
   ]
  },
  {
   "cell_type": "code",
   "execution_count": 92,
   "metadata": {},
   "outputs": [
    {
     "data": {
      "text/plain": [
       "False"
      ]
     },
     "execution_count": 92,
     "metadata": {},
     "output_type": "execute_result"
    }
   ],
   "source": [
    "False and ㄴㅇㄹㄴㅍ  # 맨 앞이 False이므로 어차피 False 따라서 and 뒤 실행 X"
   ]
  },
  {
   "cell_type": "code",
   "execution_count": 114,
   "metadata": {},
   "outputs": [
    {
     "data": {
      "text/plain": [
       "'I eat 3 apples. so I was sick for two days.'"
      ]
     },
     "execution_count": 114,
     "metadata": {},
     "output_type": "execute_result"
    }
   ],
   "source": [
    "number = 3\n",
    "day = 'two'\n",
    "'I eat %d apples. ' %number  # %d 포맷에는 숫자만 가능 (문자열 X)\n",
    "'I eat %s apples. ' %number  # %s 포맷에는 문자열도 가능\n",
    "\n",
    "'I eat %d apples. so I was sick for %s days.' %(number, day)  # 두 개 이상의 값을 전달하려면 ( , )필요\n"
   ]
  },
  {
   "cell_type": "code",
   "execution_count": 117,
   "metadata": {},
   "outputs": [
    {
     "data": {
      "text/plain": [
       "'Error is 3%'"
      ]
     },
     "execution_count": 117,
     "metadata": {},
     "output_type": "execute_result"
    }
   ],
   "source": [
    "#'Error is %d%' %3  # %를 단독으로 쓰기위해선 %%\n",
    "'Error is %d%%' %3"
   ]
  },
  {
   "cell_type": "code",
   "execution_count": 133,
   "metadata": {},
   "outputs": [
    {
     "name": "stdout",
     "output_type": "stream",
     "text": [
      "        hiGD\n",
      "     helloGD\n",
      "hi        GD\n",
      "hello     GD\n"
     ]
    }
   ],
   "source": [
    "# %10s : 10자리를 확보한 뒤, 오른쪽 정렬해서 출력\n",
    "print('%10sGD' %'hi')\n",
    "print('%10sGD' %'hello')\n",
    "# %-10s : 10자리를 확보한 뒤, 왼쪽 정렬해서 출력\n",
    "print('%-10sGD' %'hi')\n",
    "print('%-10sGD' %'hello')"
   ]
  },
  {
   "cell_type": "code",
   "execution_count": 139,
   "metadata": {},
   "outputs": [
    {
     "data": {
      "text/plain": [
       "'      3.14'"
      ]
     },
     "execution_count": 139,
     "metadata": {},
     "output_type": "execute_result"
    }
   ],
   "source": [
    "'%.3f' %3.14  # %.nf 소수점 자리수 지정\n",
    "'%10.2f' %3.14  # 10자리를 확보한 후 소수점 둘째자리까지 "
   ]
  },
  {
   "cell_type": "code",
   "execution_count": 160,
   "metadata": {},
   "outputs": [
    {
     "name": "stdout",
     "output_type": "stream",
     "text": [
      "I eat 3 apples. so I was sick for two days.\n",
      "I eat two apples. so I was sick for 3 days.\n",
      "I eat 3 apples. so I was sick for two days.\n"
     ]
    }
   ],
   "source": [
    "# format함수를 이용한 포매팅\n",
    "'I eat %d apples' %3\n",
    "'I eat {0} apples'.format(1)\n",
    "'I eat {0} apples'.format('three')\n",
    "\n",
    "print('I eat {0} apples. so I was sick for {1} days.'.format(number, day))\n",
    "print('I eat {1} apples. so I was sick for {0} days.'.format(number, day))\n",
    "print('I eat {number} apples. so I was sick for {day} days.'.format(number=3, day='two'))"
   ]
  },
  {
   "cell_type": "code",
   "execution_count": 170,
   "metadata": {},
   "outputs": [
    {
     "name": "stdout",
     "output_type": "stream",
     "text": [
      "hello\n",
      "hello     \n",
      "     hello\n",
      "  hello   \n",
      "**hello***\n"
     ]
    }
   ],
   "source": [
    "'{0} {1}'.format('hi', 'hello')\n",
    "\n",
    "# 정렬 옵션\n",
    "print('{0}'.format('hello'))\n",
    "print('{0:<10}'.format('hello'))  # 10자리 확보, 왼쪽 정렬\n",
    "print('{0:>10}'.format('hello'))  # 10자리 확보, 오른쪽 정렬\n",
    "print('{0:^10}'.format('hello'))  # 10자리 확보, 가운데 정렬\n",
    "print('{0:*^10}'.format('hello')) # 10자리 확보, 가운데 정렬, 빈칸 채우기"
   ]
  },
  {
   "cell_type": "code",
   "execution_count": 193,
   "metadata": {},
   "outputs": [
    {
     "data": {
      "text/plain": [
       "2"
      ]
     },
     "execution_count": 193,
     "metadata": {},
     "output_type": "execute_result"
    }
   ],
   "source": [
    "a = 'hello'\n",
    "a.count('l')  # l의 개수\n",
    "a.count('a')  # a의 개수\n",
    "\n",
    "b = 'Python is very easy.'\n",
    "b.find('y')  # 가장 왼쪽에서부터 찾아가므로 1\n",
    "b.find('k')  # 문자를 못찾는 경우 -1\n",
    "\n",
    "b.index('y')  # 가장 왼쪽에서부터 찾아가므로 1\n",
    "#b.index('k')  # 문자를 못찾는 경우 Value error\n"
   ]
  },
  {
   "cell_type": "code",
   "execution_count": 202,
   "metadata": {},
   "outputs": [
    {
     "data": {
      "text/plain": [
       "'m#u#l#t#i'"
      ]
     },
     "execution_count": 202,
     "metadata": {},
     "output_type": "execute_result"
    }
   ],
   "source": [
    "'#'.join('hello')  # 사이사이에 문자 삽입\n",
    "# 리스트 : 대괄호[]로 표현, 자료를 나열하고자 할 때 사용\n",
    "'#'.join(['m','u','l','t','i'])"
   ]
  },
  {
   "cell_type": "code",
   "execution_count": 206,
   "metadata": {},
   "outputs": [
    {
     "name": "stdout",
     "output_type": "stream",
     "text": [
      "TesT\n",
      "TEST\n",
      "test\n"
     ]
    }
   ],
   "source": [
    "# 자연어처리에서 'test', 'TEST', 'Test' => 일괄적으로 치환\n",
    "a = 'TesT'\n",
    "print(a)\n",
    "print(a.upper())\n",
    "print(a.lower())"
   ]
  },
  {
   "cell_type": "code",
   "execution_count": 212,
   "metadata": {},
   "outputs": [
    {
     "name": "stdout",
     "output_type": "stream",
     "text": [
      "  hello  \n",
      "hello\n",
      "hello  \n",
      "  hello\n"
     ]
    }
   ],
   "source": [
    "# strip함수 : 양쪽 공백 제거\n",
    "# lstrip함수 : 왼쪽 공백 제거\n",
    "# rtrip함수 : 오른쪽 공백 제거\n",
    "\n",
    "word = '  hello  '\n",
    "print(word)\n",
    "print(word.strip())\n",
    "print(word.lstrip())\n",
    "print(word.rstrip())"
   ]
  },
  {
   "cell_type": "code",
   "execution_count": 3,
   "metadata": {},
   "outputs": [
    {
     "data": {
      "text/plain": [
       "'대한민국 대한민국 코리아'"
      ]
     },
     "execution_count": 3,
     "metadata": {},
     "output_type": "execute_result"
    }
   ],
   "source": [
    "# replace : 문자열을 대체\n",
    "# 대한민국, 한국, 코리아, 조선, 고려, 우리나라... => 대한민국\n",
    "x = '대한민국 한국 코리아'\n",
    "x.replace('한국','대한민국')"
   ]
  },
  {
   "cell_type": "code",
   "execution_count": 11,
   "metadata": {},
   "outputs": [
    {
     "data": {
      "text/plain": [
       "['a?b', 'c?d']"
      ]
     },
     "execution_count": 11,
     "metadata": {},
     "output_type": "execute_result"
    }
   ],
   "source": [
    "x = 'a?b$c?d'\n",
    "x.split('?')  # ['a', 'b$c', 'd']\n",
    "x.split()  # ['a?b?c?d']\n",
    "x.split('$')  # ['a?b', 'c?d']"
   ]
  },
  {
   "cell_type": "code",
   "execution_count": 20,
   "metadata": {},
   "outputs": [
    {
     "data": {
      "text/plain": [
       "1"
      ]
     },
     "execution_count": 20,
     "metadata": {},
     "output_type": "execute_result"
    }
   ],
   "source": [
    "'''\n",
    "리스트 : 데이터 타입에 관계없이 저장\n",
    "'''\n",
    "x1 = []  # 빈 리스트\n",
    "x1\n",
    "x2 = [1,2,3]\n",
    "x2\n",
    "x3 = ['programming','is','very','easy']\n",
    "x3\n",
    "x4 = [1,2,'is','very']  # 데이터타입이 달라도 각 요소로 저장 가능\n",
    "x4\n",
    "x5 = [1,2,['is','very'], True]  # 리스트내에 리스트 가능\n",
    "x5\n",
    "\n",
    "a = list()  # a = []\n",
    "a\n",
    "a=[1,2,3]\n",
    "a[0]"
   ]
  },
  {
   "cell_type": "code",
   "execution_count": 28,
   "metadata": {},
   "outputs": [
    {
     "data": {
      "text/plain": [
       "'c'"
      ]
     },
     "execution_count": 28,
     "metadata": {},
     "output_type": "execute_result"
    }
   ],
   "source": [
    "# 2중 리스트\n",
    "\n",
    "x = [1,2,3,['a','b','c']]\n",
    "# 1출력\n",
    "x[0]\n",
    "# 'a','b','c'출력\n",
    "x[3]  # x[-1]\n",
    "# 리스트의 리스트 참조\n",
    "x[3][2]\n",
    "x[3][-1]"
   ]
  },
  {
   "cell_type": "code",
   "execution_count": 32,
   "metadata": {},
   "outputs": [
    {
     "data": {
      "text/plain": [
       "[1, 2, ['a', 'b', ['python', 'easy']]]"
      ]
     },
     "execution_count": 32,
     "metadata": {},
     "output_type": "execute_result"
    }
   ],
   "source": []
  },
  {
   "cell_type": "code",
   "execution_count": 36,
   "metadata": {},
   "outputs": [
    {
     "name": "stdout",
     "output_type": "stream",
     "text": [
      "[3, ['a', 'b', 'c'], 4, 5]\n",
      "['a', 'b']\n"
     ]
    }
   ],
   "source": [
    "x2 = [1,2,3,['a','b','c'],4,5]\n",
    "x2\n",
    "\n",
    "print(x2[2:])\n",
    "print(x2[3][0:2])"
   ]
  },
  {
   "cell_type": "code",
   "execution_count": 39,
   "metadata": {},
   "outputs": [
    {
     "data": {
      "text/plain": [
       "[9, 8, 7, 9, 8, 7, 9, 8, 7]"
      ]
     },
     "execution_count": 39,
     "metadata": {},
     "output_type": "execute_result"
    }
   ],
   "source": [
    "x=[1,2,3]\n",
    "y=[4,5,6]\n",
    "# 리스트 더하기 => 2개의 리스트가 연결돼 1개의 리스트가 됨\n",
    "x+y\n",
    "'hi'+'hello'\n",
    "\n",
    "# 리스트 곱하기 => 리스트가 연속해서 연결됨\n",
    "x=[9,8,7]\n",
    "x*3\n"
   ]
  },
  {
   "cell_type": "code",
   "execution_count": 43,
   "metadata": {},
   "outputs": [
    {
     "data": {
      "text/plain": [
       "3"
      ]
     },
     "execution_count": 43,
     "metadata": {},
     "output_type": "execute_result"
    }
   ],
   "source": [
    "x=[1,2,3]\n",
    "len(x)"
   ]
  },
  {
   "cell_type": "code",
   "execution_count": 50,
   "metadata": {},
   "outputs": [
    {
     "data": {
      "text/plain": [
       "'3hi'"
      ]
     },
     "execution_count": 50,
     "metadata": {},
     "output_type": "execute_result"
    }
   ],
   "source": [
    "a=[1,2,3]\n",
    "# a[2]+'hi'  // error\n",
    "str(a[2])+'hi' # 3hi출력"
   ]
  },
  {
   "cell_type": "code",
   "execution_count": 6,
   "metadata": {},
   "outputs": [
    {
     "name": "stdout",
     "output_type": "stream",
     "text": [
      "[]\n"
     ]
    }
   ],
   "source": [
    "# 연속된 값을 가진 리스트 만들기\n",
    "\n",
    "list(range(10))  # 0~9까지 연속된 숫자 생성\n",
    "list(range(3,12))  # 3~11\n",
    "list(range(3,12,2))  # range(시작값, 마지막값+1, 등차)"
   ]
  },
  {
   "cell_type": "code",
   "execution_count": 15,
   "metadata": {},
   "outputs": [
    {
     "data": {
      "text/plain": [
       "[1]"
      ]
     },
     "execution_count": 15,
     "metadata": {},
     "output_type": "execute_result"
    }
   ],
   "source": [
    "a = [1,2,3]\n",
    "a[2] = 10\n",
    "a\n",
    "\n",
    "# 데이터 삭제\n",
    "del a[1:3]\n",
    "a"
   ]
  },
  {
   "cell_type": "code",
   "execution_count": 21,
   "metadata": {
    "scrolled": true
   },
   "outputs": [
    {
     "data": {
      "text/plain": [
       "[1, 2, 6]"
      ]
     },
     "execution_count": 21,
     "metadata": {},
     "output_type": "execute_result"
    }
   ],
   "source": [
    "# 1~10까지 숫자가 저장된 리스트 생성\n",
    "\n",
    "x = list(range(1,11))\n",
    "x\n",
    "\n",
    "del x[6:]\n",
    "x\n",
    "del x[2:5]\n",
    "x"
   ]
  },
  {
   "cell_type": "code",
   "execution_count": 29,
   "metadata": {},
   "outputs": [],
   "source": [
    "# 리스트 변수명.함수명()\n",
    "\n",
    "# 자료 구조에 따라 사용 가능한 함수가 다르다.\n",
    "# (공통으로 사용 가능한 함수도 있다)\n",
    "\n",
    "# 자료구조 : 리스트, 튜플, 딕셔너리, 셋 ... \n",
    "'''\n",
    "리스트(객체).함수()\n",
    "딕셔너리(객체).함수()\n",
    "문자열(객체).함수()\n",
    "'''"
   ]
  },
  {
   "cell_type": "code",
   "execution_count": 3,
   "metadata": {},
   "outputs": [],
   "source": [
    "# append 함수\n",
    "\n",
    "a=[1,2,3]\n",
    "x = 5\n",
    "a.append(x)\n",
    "a\n",
    "b = [6,7]\n",
    "a.append(b)"
   ]
  },
  {
   "cell_type": "code",
   "execution_count": 34,
   "metadata": {},
   "outputs": [
    {
     "data": {
      "text/plain": [
       "['e', 'k', 's']"
      ]
     },
     "execution_count": 34,
     "metadata": {},
     "output_type": "execute_result"
    }
   ],
   "source": [
    "# sort함수 리스트 정렬\n",
    "\n",
    "a = [2,1,4,3]\n",
    "a.sort()  # 오름차순 정령\n",
    "a\n",
    "a.reverse()  # 역으로 뒤집어주는 함수\n",
    "a\n",
    "\n",
    "a = ['s', 'k', 'e']\n",
    "a.sort()\n",
    "a"
   ]
  },
  {
   "cell_type": "code",
   "execution_count": 35,
   "metadata": {},
   "outputs": [
    {
     "data": {
      "text/plain": [
       "1"
      ]
     },
     "execution_count": 35,
     "metadata": {},
     "output_type": "execute_result"
    }
   ],
   "source": [
    "# index함수\n",
    "a = [10,20,30]\n",
    "a.index(20)  # 20이 저장돼있는 위치 "
   ]
  },
  {
   "cell_type": "code",
   "execution_count": 42,
   "metadata": {},
   "outputs": [
    {
     "data": {
      "text/plain": [
       "[100, 1, 2, 5, 3]"
      ]
     },
     "execution_count": 42,
     "metadata": {},
     "output_type": "execute_result"
    }
   ],
   "source": [
    "# insert함수 : 원하는 위치에 리스트 요소 추가\n",
    "a = [1,2,3]\n",
    "a.insert(0,100)  # insert(인덱스위치, 값)\n",
    "a\n",
    "a.insert(3,5)\n",
    "a"
   ]
  },
  {
   "cell_type": "code",
   "execution_count": 60,
   "metadata": {
    "scrolled": true
   },
   "outputs": [],
   "source": [
    "a=[1,2,3,1,2,3]"
   ]
  },
  {
   "cell_type": "code",
   "execution_count": 54,
   "metadata": {},
   "outputs": [],
   "source": [
    "a.remove(1)  # 값을 선택해서 지우기"
   ]
  },
  {
   "cell_type": "code",
   "execution_count": 55,
   "metadata": {},
   "outputs": [
    {
     "data": {
      "text/plain": [
       "[2, 3, 2, 3]"
      ]
     },
     "execution_count": 55,
     "metadata": {},
     "output_type": "execute_result"
    }
   ],
   "source": [
    "a"
   ]
  },
  {
   "cell_type": "code",
   "execution_count": 73,
   "metadata": {},
   "outputs": [
    {
     "data": {
      "text/plain": [
       "[10, 30, 40]"
      ]
     },
     "execution_count": 73,
     "metadata": {},
     "output_type": "execute_result"
    }
   ],
   "source": [
    "# pop함수 : 맨 마지막 값 빼기\n",
    "a = [10,20,30,40]\n",
    "a.pop(1)  # 지정 인덱스에서 값 빼기\n",
    "a"
   ]
  },
  {
   "cell_type": "code",
   "execution_count": 78,
   "metadata": {},
   "outputs": [
    {
     "data": {
      "text/plain": [
       "1"
      ]
     },
     "execution_count": 78,
     "metadata": {},
     "output_type": "execute_result"
    }
   ],
   "source": [
    "# count함수 : count(수를 셀 것)\n",
    "a = [1,2,3,3.14]\n",
    "a.count(1)\n",
    "a.count(3.14)"
   ]
  },
  {
   "cell_type": "code",
   "execution_count": 81,
   "metadata": {},
   "outputs": [
    {
     "data": {
      "text/plain": [
       "[1, 2, 3, 4, 5]"
      ]
     },
     "execution_count": 81,
     "metadata": {},
     "output_type": "execute_result"
    }
   ],
   "source": [
    "# extend함수 \n",
    "a = [1,2,3]\n",
    "b = [4,5]\n",
    "a+b\n",
    "a.extend(b)\n",
    "a"
   ]
  },
  {
   "cell_type": "code",
   "execution_count": null,
   "metadata": {},
   "outputs": [],
   "source": [
    "# 연습문제"
   ]
  },
  {
   "cell_type": "code",
   "execution_count": 92,
   "metadata": {},
   "outputs": [
    {
     "name": "stdout",
     "output_type": "stream",
     "text": [
      "921101\n",
      "1231234\n"
     ]
    }
   ],
   "source": [
    "# 1\n",
    "a = '921101-1231234'\n",
    "print(a[0:6])\n",
    "print(a[7:])"
   ]
  },
  {
   "cell_type": "code",
   "execution_count": 93,
   "metadata": {},
   "outputs": [
    {
     "name": "stdout",
     "output_type": "stream",
     "text": [
      "1\n"
     ]
    }
   ],
   "source": [
    "# 2\n",
    "a = '921101-1231234'\n",
    "print(a[7])"
   ]
  },
  {
   "cell_type": "code",
   "execution_count": 163,
   "metadata": {},
   "outputs": [
    {
     "name": "stdout",
     "output_type": "stream",
     "text": [
      "['a', 'b', 'c', 'd']\n",
      "a#b#c#d\n"
     ]
    }
   ],
   "source": [
    "# 3\n",
    "a = 'a:b:c:d'\n",
    "a = a.split(':')\n",
    "print(a)\n",
    "a = '#'.join(a)\n",
    "print(a)"
   ]
  },
  {
   "cell_type": "code",
   "execution_count": 162,
   "metadata": {},
   "outputs": [
    {
     "data": {
      "text/plain": [
       "'a#b#c#d'"
      ]
     },
     "execution_count": 162,
     "metadata": {},
     "output_type": "execute_result"
    }
   ],
   "source": [
    "# 3-1\n",
    "a = 'a:b:c:d'\n",
    "a.replace(':',\"#\")"
   ]
  },
  {
   "cell_type": "code",
   "execution_count": 110,
   "metadata": {},
   "outputs": [
    {
     "name": "stdout",
     "output_type": "stream",
     "text": [
      "How are you\n"
     ]
    }
   ],
   "source": [
    "# 4\n",
    "a = ['How', 'are', 'you']\n",
    "a = ' '.join(a)\n",
    "print(a)"
   ]
  },
  {
   "cell_type": "code",
   "execution_count": 109,
   "metadata": {},
   "outputs": [
    {
     "name": "stdout",
     "output_type": "stream",
     "text": [
      "[5, 3, 1, -1, -3]\n"
     ]
    }
   ],
   "source": [
    "# 5\n",
    "a = list(range(5,-4,-2))\n",
    "print(a)"
   ]
  },
  {
   "cell_type": "code",
   "execution_count": 168,
   "metadata": {},
   "outputs": [
    {
     "data": {
      "text/plain": [
       "4000"
      ]
     },
     "execution_count": 168,
     "metadata": {},
     "output_type": "execute_result"
    }
   ],
   "source": [
    "# 6\n",
    "'''\n",
    "1부터 10,000까지 8이라는 숫자가 총 몇 번 나오는가?\n",
    "8이 포함되어 있는 숫자의 개수를 카운팅 하는 것이 아니라\n",
    "8이라는 숙자를 모두 카운팅 해야한다.\n",
    "(ex. 8808은 3, 8888은 4)\n",
    "'''\n",
    "str(list(range(1,10001))).count('8')\n"
   ]
  },
  {
   "cell_type": "code",
   "execution_count": 169,
   "metadata": {},
   "outputs": [
    {
     "data": {
      "text/plain": [
       "4000"
      ]
     },
     "execution_count": 169,
     "metadata": {},
     "output_type": "execute_result"
    }
   ],
   "source": [
    "# 6-1\n",
    "b=''\n",
    "for i in range(10001):\n",
    "    b += str(i)\n",
    "b.count('8')\n"
   ]
  },
  {
   "cell_type": "code",
   "execution_count": 171,
   "metadata": {},
   "outputs": [
    {
     "data": {
      "text/plain": [
       "<map at 0x1f8c3e85788>"
      ]
     },
     "execution_count": 171,
     "metadata": {},
     "output_type": "execute_result"
    }
   ],
   "source": [
    "a=[1,2,3,4]\n",
    "map(str,a)"
   ]
  },
  {
   "cell_type": "code",
   "execution_count": null,
   "metadata": {},
   "outputs": [],
   "source": []
  }
 ],
 "metadata": {
  "kernelspec": {
   "display_name": "Python 3",
   "language": "python",
   "name": "python3"
  },
  "language_info": {
   "codemirror_mode": {
    "name": "ipython",
    "version": 3
   },
   "file_extension": ".py",
   "mimetype": "text/x-python",
   "name": "python",
   "nbconvert_exporter": "python",
   "pygments_lexer": "ipython3",
   "version": "3.7.4"
  }
 },
 "nbformat": 4,
 "nbformat_minor": 2
}
