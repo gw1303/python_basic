{
 "cells": [
  {
   "cell_type": "markdown",
   "metadata": {},
   "source": [
    "1. 카카오톡 게임별의 하반기 신규 서비스로 다트 게임을 출시하기로 했다. 다트 게임은 다트판에 다트를 세 차례 던져 그 점수의 합계로 실력을 겨루는 게임으로,\n",
    " 모두가 간단히 즐길 수 있다. 갓 입사한 무지는 코딩 실력을 인정받아 게임의 핵심 부분인 점수 계산 로직을 맡게 되었다. 다트 게임의 점수 계산 로직은 아래와 같다.\n",
    "\n",
    "다트 게임은 총 3번의 기회로 구성된다.\n",
    "각 기회마다 얻을 수 있는 점수는 0점에서 10점까지이다.\n",
    "\n",
    "점수와 함께 Single(S), Double(D), Triple(T) 영역이 존재하고 각 영역 당첨 시 점수에서 1제곱, 2제곱, 3제곱 (점수^1 , 점수^2 , 점수^3 )으로 계산된다.\n",
    "옵션으로 스타상(*) , 아차상(#)이 존재하며 스타상(*) 당첨 시 해당 점수와 바로 전에 얻은 점수를 각 2배로 만든다. 아차상(#) 당첨 시 해당 점수는 마이너스된다.\n",
    "스타상(*)은 첫 번째 기회에서도 나올 수 있다. 이 경우 첫 번째 스타상(*)의 점수만 2배가 된다. (예제 4번 참고)\n",
    "스타상(*)의 효과는 다른 스타상(*)의 효과와 중첩될 수 있다. 이 경우 중첩된 스타상(*) 점수는 4배가 된다. (예제 4번 참고)\n",
    "스타상(*)의 효과는 아차상(#)의 효과와 중첩될 수 있다. 이 경우 중첩된 아차상(#)의 점수는 -2배가 된다. (예제 5번 참고)\n",
    "Single(S), Double(D), Triple(T)은 점수마다 하나씩 존재한다.\n",
    "스타상(*), 아차상(#)은 점수마다 둘 중 하나만 존재할 수 있으며, 존재하지 않을 수도 있다.\n",
    "0~10의 정수와 문자 S, D, T, *, #로 구성된 문자열이 입력될 시 총점수를 반환하는 함수를 작성하라.\n",
    "\n",
    "입력 형식\n",
    "\n",
    "“점수|보너스|[옵션]”으로 이루어진 문자열 3세트.\n",
    "\n",
    "예) 1S2D*3T\n",
    "점수는 0에서 10 사이의 정수이다.\n",
    "보너스는 S, D, T 중 하나이다.\n",
    "옵선은 *이나 # 중 하나이며, 없을 수도 있다.\n",
    "출력 형식\n",
    "\n",
    "3번의 기회에서 얻은 점수 합계에 해당하는 정수값을 출력한다.\n",
    "\n",
    "예) 37\n",
    "입출력 예제\n",
    "\n",
    "예제\tdartResult\tanswer\t설명\n",
    "1\t1S2D*3T\t    37\t1^1 * 2 + 2^2 * 2 + 3^3\n",
    "2\t1D2S#10S\t9\t1^2 + 2^1 * (-1) + 10^1\n",
    "3\t1D2S0T\t    3\t1^2 + 2^1 + 0^3\n",
    "4\t1S*2T*3S\t23\t1^1 * 2 * 2 + 2^3 * 2 + 3^1\n",
    "5\t1D#2S*3S\t5\t1^2 * (-1) * 2 + 2^1 * 2 + 3^1\n",
    "6\t1T2D3D#\t   -4\t1^3 + 2^2 + 3^2 * (-1)\n",
    "7\t1D2S3T*\t   59\t1^2 + 2^1 * 2 + 3^3 * 2\n"
   ]
  },
  {
   "cell_type": "code",
   "execution_count": null,
   "metadata": {},
   "outputs": [],
   "source": [
    "res = ['1S2D*3T','1D2S#10S','1D2S0T','1S*2T*3S','1D#2S*3S','1T2D3D#','1D2S3T*']"
   ]
  },
  {
   "cell_type": "code",
   "execution_count": 167,
   "metadata": {},
   "outputs": [
    {
     "name": "stdout",
     "output_type": "stream",
     "text": [
      "37\n",
      "9\n",
      "3\n",
      "23\n",
      "5\n",
      "-4\n",
      "60\n"
     ]
    }
   ],
   "source": [
    "def dart(res):\n",
    "    dartResult = res+'0'\n",
    "    answer = ''\n",
    "\n",
    "    for target in range(len(dartResult)):\n",
    "        if  dartResult[target] == 'S':\n",
    "            if dartResult[target+1] not in ['#','*']:\n",
    "                answer+='**1 + '\n",
    "            else :\n",
    "                answer+='**1'\n",
    "        elif dartResult[target] == 'D':\n",
    "            if dartResult[target+1] not in ['#','*']:\n",
    "                answer+='**2 + '\n",
    "            else :\n",
    "                answer+='**2'\n",
    "        elif dartResult[target] == 'T':\n",
    "            if dartResult[target+1] not in ['#','*']:\n",
    "                answer+='**3 + '\n",
    "            else :\n",
    "                answer+='**3'\n",
    "        elif dartResult[target] == '#':\n",
    "            if target == len(dartResult)-1:\n",
    "                answer+='*(-1)' \n",
    "            else:\n",
    "                answer+='*(-1) + '\n",
    "        elif dartResult[target] == '*':\n",
    "            if target == len(dartResult)-1:\n",
    "                answer+=')*2'\n",
    "                answer=''.join(reversed(answer))+'('\n",
    "                answer=''.join(reversed(answer))\n",
    "            else:\n",
    "                answer+=')*2 + '\n",
    "                answer=''.join(reversed(answer))+'('\n",
    "                answer=''.join(reversed(answer))\n",
    "        else:\n",
    "            answer+=dartResult[target]\n",
    "\n",
    "    return eval(answer)\n",
    "\n",
    "# 테스트 \n",
    "\n",
    "res = ['1S2D*3T','1D2S#10S','1D2S0T','1S*2T*3S','1D#2S*3S','1T2D3D#','1D2S3T*']\n",
    "for i in range(int(len(res))):\n",
    "    print(dart(res[i]))\n",
    "# 37\n",
    "# 9\n",
    "# 3\n",
    "# 23\n",
    "# 5\n",
    "# -4\n",
    "# 60"
   ]
  },
  {
   "cell_type": "code",
   "execution_count": 166,
   "metadata": {},
   "outputs": [
    {
     "name": "stdout",
     "output_type": "stream",
     "text": [
      "37\n",
      "9\n",
      "3\n",
      "23\n",
      "5\n",
      "-4\n",
      "60\n"
     ]
    }
   ],
   "source": [
    "\n",
    "#     print(res[i])"
   ]
  },
  {
   "cell_type": "code",
   "execution_count": 131,
   "metadata": {},
   "outputs": [
    {
     "ename": "SyntaxError",
     "evalue": "unexpected EOF while parsing (<string>, line 1)",
     "output_type": "error",
     "traceback": [
      "Traceback \u001b[1;36m(most recent call last)\u001b[0m:\n",
      "  File \u001b[0;32m\"C:\\Users\\student\\Anaconda3\\lib\\site-packages\\IPython\\core\\interactiveshell.py\"\u001b[0m, line \u001b[0;32m3326\u001b[0m, in \u001b[0;35mrun_code\u001b[0m\n    exec(code_obj, self.user_global_ns, self.user_ns)\n",
      "\u001b[1;36m  File \u001b[1;32m\"<ipython-input-131-32568c9dee59>\"\u001b[1;36m, line \u001b[1;32m1\u001b[1;36m, in \u001b[1;35m<module>\u001b[1;36m\u001b[0m\n\u001b[1;33m    eval(answer)\u001b[0m\n",
      "\u001b[1;36m  File \u001b[1;32m\"<string>\"\u001b[1;36m, line \u001b[1;32m1\u001b[0m\n\u001b[1;33m    1**32**23**2*(-1) +\u001b[0m\n\u001b[1;37m                       ^\u001b[0m\n\u001b[1;31mSyntaxError\u001b[0m\u001b[1;31m:\u001b[0m unexpected EOF while parsing\n"
     ]
    }
   ],
   "source": []
  },
  {
   "cell_type": "code",
   "execution_count": 106,
   "metadata": {},
   "outputs": [
    {
     "data": {
      "text/plain": [
       "'fds222'"
      ]
     },
     "execution_count": 106,
     "metadata": {},
     "output_type": "execute_result"
    }
   ],
   "source": [
    "''.join(reversed(a))+'222'"
   ]
  },
  {
   "cell_type": "code",
   "execution_count": 98,
   "metadata": {},
   "outputs": [
    {
     "data": {
      "text/plain": [
       "'1**2 + 2**1 + *(-1) + 10**1 + '"
      ]
     },
     "execution_count": 98,
     "metadata": {},
     "output_type": "execute_result"
    }
   ],
   "source": [
    "res=''\n",
    "for i in answer:\n",
    "    if i == ' ':\n",
    "        i = ' + '\n",
    "    res+=i\n",
    "res"
   ]
  },
  {
   "cell_type": "code",
   "execution_count": 9,
   "metadata": {},
   "outputs": [],
   "source": [
    "import pandas as pd\n",
    "import numpy as np"
   ]
  },
  {
   "cell_type": "code",
   "execution_count": 49,
   "metadata": {},
   "outputs": [
    {
     "data": {
      "text/plain": [
       "[1, '** 3', 2, '** 2', 3, '** 2', '* (-1)']"
      ]
     },
     "execution_count": 49,
     "metadata": {},
     "output_type": "execute_result"
    }
   ],
   "source": [
    "dartResult = '1T2D3D#'\n",
    "num=['1','2','3','4','5','6','7','8','9']\n",
    "dartResultList=[]\n",
    "\n",
    "for target in dartResult:\n",
    "    if target in num:\n",
    "        target = int(target)\n",
    "    dartResultList.append(target) \n",
    "dartResultList\n",
    "\n",
    "answer = []\n",
    "# [1, 'T', 2, 'D', 3, 'D', '#']   \n",
    "for target in range(len(dartResultList)):\n",
    "    if type(dartResultList[target]) == int:\n",
    "        answer.append(dartResultList[target])\n",
    "    elif dartResultList[target] == 'S':\n",
    "        answer.append('** 1')\n",
    "    elif dartResultList[target] == 'D':\n",
    "        answer.append('** 2')\n",
    "    elif dartResultList[target] == 'T':\n",
    "        answer.append('** 3')\n",
    "    elif dartResultList[target] == '#':\n",
    "        answer.append('* (-1)')    \n",
    "answer"
   ]
  },
  {
   "cell_type": "code",
   "execution_count": 52,
   "metadata": {},
   "outputs": [
    {
     "data": {
      "text/plain": [
       "[1, '** 3', 2, '** 2', 3, '** 2', '* (-1)']"
      ]
     },
     "execution_count": 52,
     "metadata": {},
     "output_type": "execute_result"
    }
   ],
   "source": [
    "answer"
   ]
  },
  {
   "cell_type": "code",
   "execution_count": 51,
   "metadata": {},
   "outputs": [
    {
     "ename": "TypeError",
     "evalue": "eval() arg 1 must be a string, bytes or code object",
     "output_type": "error",
     "traceback": [
      "\u001b[1;31m---------------------------------------------------------------------------\u001b[0m",
      "\u001b[1;31mTypeError\u001b[0m                                 Traceback (most recent call last)",
      "\u001b[1;32m<ipython-input-51-32568c9dee59>\u001b[0m in \u001b[0;36m<module>\u001b[1;34m\u001b[0m\n\u001b[1;32m----> 1\u001b[1;33m \u001b[0meval\u001b[0m\u001b[1;33m(\u001b[0m\u001b[0manswer\u001b[0m\u001b[1;33m)\u001b[0m\u001b[1;33m\u001b[0m\u001b[1;33m\u001b[0m\u001b[0m\n\u001b[0m",
      "\u001b[1;31mTypeError\u001b[0m: eval() arg 1 must be a string, bytes or code object"
     ]
    }
   ],
   "source": [
    "eval(answer)"
   ]
  },
  {
   "cell_type": "code",
   "execution_count": 47,
   "metadata": {},
   "outputs": [
    {
     "data": {
      "text/html": [
       "<div>\n",
       "<style scoped>\n",
       "    .dataframe tbody tr th:only-of-type {\n",
       "        vertical-align: middle;\n",
       "    }\n",
       "\n",
       "    .dataframe tbody tr th {\n",
       "        vertical-align: top;\n",
       "    }\n",
       "\n",
       "    .dataframe thead th {\n",
       "        text-align: right;\n",
       "    }\n",
       "</style>\n",
       "<table border=\"1\" class=\"dataframe\">\n",
       "  <thead>\n",
       "    <tr style=\"text-align: right;\">\n",
       "      <th></th>\n",
       "      <th>score</th>\n",
       "      <th>area</th>\n",
       "      <th>bonus</th>\n",
       "    </tr>\n",
       "  </thead>\n",
       "  <tbody>\n",
       "    <tr>\n",
       "      <td>1회</td>\n",
       "      <td>NaN</td>\n",
       "      <td>NaN</td>\n",
       "      <td>NaN</td>\n",
       "    </tr>\n",
       "    <tr>\n",
       "      <td>2회</td>\n",
       "      <td>NaN</td>\n",
       "      <td>NaN</td>\n",
       "      <td>NaN</td>\n",
       "    </tr>\n",
       "    <tr>\n",
       "      <td>3회</td>\n",
       "      <td>NaN</td>\n",
       "      <td>NaN</td>\n",
       "      <td>NaN</td>\n",
       "    </tr>\n",
       "  </tbody>\n",
       "</table>\n",
       "</div>"
      ],
      "text/plain": [
       "   score area bonus\n",
       "1회   NaN  NaN   NaN\n",
       "2회   NaN  NaN   NaN\n",
       "3회   NaN  NaN   NaN"
      ]
     },
     "execution_count": 47,
     "metadata": {},
     "output_type": "execute_result"
    }
   ],
   "source": [
    "pd.DataFrame(index=['1회','2회','3회'],\n",
    "            columns=['score', 'area', 'bonus'])\n"
   ]
  },
  {
   "cell_type": "code",
   "execution_count": null,
   "metadata": {},
   "outputs": [],
   "source": [
    "dartResult = '1T2D3D#'\n",
    "num=['1','2','3','4','5','6','7','8','9']\n",
    "\n",
    "for target in dartResult:\n",
    "    if target in num:\n",
    "        target = int(target)\n",
    "    dartResultList.append(target) \n",
    "dartResultList"
   ]
  },
  {
   "cell_type": "code",
   "execution_count": null,
   "metadata": {},
   "outputs": [],
   "source": []
  },
  {
   "cell_type": "code",
   "execution_count": null,
   "metadata": {},
   "outputs": [],
   "source": []
  },
  {
   "cell_type": "code",
   "execution_count": null,
   "metadata": {},
   "outputs": [],
   "source": []
  }
 ],
 "metadata": {
  "kernelspec": {
   "display_name": "Python 3",
   "language": "python",
   "name": "python3"
  },
  "language_info": {
   "codemirror_mode": {
    "name": "ipython",
    "version": 3
   },
   "file_extension": ".py",
   "mimetype": "text/x-python",
   "name": "python",
   "nbconvert_exporter": "python",
   "pygments_lexer": "ipython3",
   "version": "3.7.4"
  }
 },
 "nbformat": 4,
 "nbformat_minor": 2
}
